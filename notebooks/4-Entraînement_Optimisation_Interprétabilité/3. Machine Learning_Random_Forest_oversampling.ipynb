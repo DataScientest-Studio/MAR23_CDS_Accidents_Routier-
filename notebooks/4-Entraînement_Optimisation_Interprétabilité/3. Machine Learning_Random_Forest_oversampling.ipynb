{
 "cells": [
  {
   "cell_type": "markdown",
   "id": "60be6779",
   "metadata": {
    "id": "60be6779"
   },
   "source": [
    "# RandomForestClassifier avec une fonction d'oversampling pour le rééquilibrage des classes."
   ]
  },
  {
   "cell_type": "markdown",
   "id": "10358b9f",
   "metadata": {},
   "source": [
    "## Import des bibliothèques nécessaires"
   ]
  },
  {
   "cell_type": "code",
   "execution_count": 1,
   "id": "c9771349",
   "metadata": {
    "id": "c9771349"
   },
   "outputs": [],
   "source": [
    "import pandas as pd\n",
    "import numpy as np\n",
    "import matplotlib.pyplot as plt\n",
    "%matplotlib inline\n",
    "import seaborn as sns\n",
    "\n",
    "from sklearn.preprocessing import OneHotEncoder, LabelEncoder\n",
    "\n",
    "from sklearn.model_selection import train_test_split\n",
    "from sklearn.metrics import classification_report, f1_score\n",
    "from sklearn.ensemble import RandomForestClassifier"
   ]
  },
  {
   "cell_type": "code",
   "execution_count": 2,
   "id": "ded6da3f",
   "metadata": {
    "id": "ded6da3f"
   },
   "outputs": [],
   "source": [
    "# Création d'un dictionnaire avec les noms des colonnes comme clés et \"catégorie\" comme valeurs\n",
    "\n",
    "df_dtypes = {\n",
    "  \"catr\"       :\"category\",\n",
    "  \"circ\"       :\"category\",\n",
    "  \"prof\"       :\"category\",\n",
    "  \"plan\"       :\"category\",\n",
    "  \"surf\"       :\"category\",\n",
    "  \"situ\"       :\"category\",\n",
    "  \"lum\"        :\"category\",\n",
    "  \"agg\"        :\"category\",\n",
    "  \"int\"        :\"category\",\n",
    "  \"atm\"        :\"category\",\n",
    "  \"col\"        :\"category\",\n",
    "  \"infra\"      :\"category\",\n",
    "  \"obs\"        :\"category\",\n",
    "  \"obsm\"       :\"category\",\n",
    "  \"choc\"       :\"category\",\n",
    "  \"manv\"       :\"category\",\n",
    "  \"num_veh\"    :\"category\",\n",
    "  \"catv_Label\" :\"category\",\n",
    "  \"catu\"       :\"category\",\n",
    "  \"sexe\"       :\"category\",\n",
    "  \"trajet\"     :\"category\",\n",
    "  \"secuUn\"     :\"category\",\n",
    "  \"secuDeux\"   :\"category\",\n",
    "  \"tranches_ages\" :\"category\",\n",
    "  \"num_acc\"    :\"category\",\n",
    "  \"mois\"       :\"category\",\n",
    "  \"jour\"       :\"category\",\n",
    "  \"com\"        :\"category\",\n",
    "  \"dep\"        :\"category\",\n",
    "  \"annee_x_x\"  :\"category\",\n",
    "  \"date\"       :\"category\",\n",
    "  \"jour_de_la_semaine\"    :\"category\",\n",
    "  \"heure\"      :\"category\",\n",
    "  \"nbv\"        :\"category\",\n",
    "  \"vosp\"       :\"category\",\n",
    "  \"place\"      :\"category\"\n",
    "}"
   ]
  },
  {
   "cell_type": "markdown",
   "id": "7d1d7fa5",
   "metadata": {},
   "source": [
    "## Read in the CSV using the dtypes parameter"
   ]
  },
  {
   "cell_type": "code",
   "execution_count": 3,
   "id": "9f44a5f4",
   "metadata": {
    "id": "9f44a5f4"
   },
   "outputs": [],
   "source": [
    "df = pd.read_csv(r\"../data/fusion3.csv\", dtype=df_dtypes, low_memory=False)"
   ]
  },
  {
   "cell_type": "code",
   "execution_count": 4,
   "id": "7c52667d",
   "metadata": {
    "id": "7c52667d"
   },
   "outputs": [],
   "source": [
    "df['date'] = pd.to_datetime(df['date'])\n",
    "df['month'] = df['date'].dt.month\n",
    "df['day'] = df['date'].dt.day\n",
    "df = df.drop(['Unnamed: 0','num_acc','an_nais','an_naiss','age_acc_an','num_veh','senc','occutc','permis','secuDeux','date'], axis=1)\n",
    "df['place'] = df['place'].astype('object')\n",
    "df = df.dropna()"
   ]
  },
  {
   "cell_type": "code",
   "execution_count": 5,
   "id": "1d9312db",
   "metadata": {
    "id": "1d9312db",
    "outputId": "17cbdd7f-668f-4429-fa8f-0384658ddef3"
   },
   "outputs": [
    {
     "name": "stdout",
     "output_type": "stream",
     "text": [
      "<class 'pandas.core.frame.DataFrame'>\n",
      "Int64Index: 2291739 entries, 0 to 2291796\n",
      "Data columns (total 35 columns):\n",
      " #   Column              Dtype   \n",
      "---  ------              -----   \n",
      " 0   place               object  \n",
      " 1   catu                category\n",
      " 2   grav                object  \n",
      " 3   sexe                category\n",
      " 4   trajet              category\n",
      " 5   locp                object  \n",
      " 6   actp                object  \n",
      " 7   etatp               object  \n",
      " 8   secuUn              category\n",
      " 9   tranches_ages       category\n",
      " 10  catr                category\n",
      " 11  circ                category\n",
      " 12  nbv                 category\n",
      " 13  vosp                category\n",
      " 14  prof                category\n",
      " 15  plan                category\n",
      " 16  surf                category\n",
      " 17  infra               category\n",
      " 18  situ                category\n",
      " 19  obs                 category\n",
      " 20  obsm                category\n",
      " 21  choc                category\n",
      " 22  manv                category\n",
      " 23  catv_Label          category\n",
      " 24  lum                 category\n",
      " 25  agg                 category\n",
      " 26  int                 category\n",
      " 27  atm                 category\n",
      " 28  col                 category\n",
      " 29  com                 category\n",
      " 30  dep                 category\n",
      " 31  jour_de_la_semaine  category\n",
      " 32  heure               category\n",
      " 33  month               int64   \n",
      " 34  day                 int64   \n",
      "dtypes: category(28), int64(2), object(5)\n",
      "memory usage: 203.9+ MB\n"
     ]
    }
   ],
   "source": [
    "df.info()"
   ]
  },
  {
   "cell_type": "markdown",
   "id": "5e3dc552",
   "metadata": {
    "id": "5e3dc552"
   },
   "source": [
    "<h1>Encodage des variables</h1>\n",
    "\n",
    "Les variables sont encodées une à une afin de pallier à un déficit de mémoire sur certaines machines."
   ]
  },
  {
   "cell_type": "code",
   "execution_count": 6,
   "id": "5cf585aa",
   "metadata": {
    "id": "5cf585aa",
    "scrolled": false
   },
   "outputs": [],
   "source": [
    "df = pd.get_dummies(df, columns=['catu'])"
   ]
  },
  {
   "cell_type": "code",
   "execution_count": 7,
   "id": "151fd545",
   "metadata": {
    "id": "151fd545"
   },
   "outputs": [],
   "source": [
    "le = LabelEncoder()\n",
    "df['sexe'] = le.fit_transform(df['sexe'])"
   ]
  },
  {
   "cell_type": "code",
   "execution_count": 8,
   "id": "34a5b705",
   "metadata": {
    "id": "34a5b705"
   },
   "outputs": [],
   "source": [
    "df = pd.get_dummies(df, columns = ['trajet'])"
   ]
  },
  {
   "cell_type": "code",
   "execution_count": 9,
   "id": "f0286d0d",
   "metadata": {
    "id": "f0286d0d"
   },
   "outputs": [],
   "source": [
    "# Seuil pour le regroupement des catégories rares\n",
    "#threshold = 0.02\n",
    "\n",
    "# Identifier les catégories rares\n",
    "#rare_categories = df['locp'].value_counts(normalize=True)\n",
    "#rare_categories = rare_categories[rare_categories < threshold].index\n",
    "\n",
    "# Remplacer les catégories rares par 'Autre'\n",
    "#df['locp'] = df['locp'].replace(rare_categories, 'Autre')\n",
    "\n",
    "# One-Hot Encoding\n",
    "df = pd.get_dummies(df, columns=['locp'])"
   ]
  },
  {
   "cell_type": "code",
   "execution_count": 10,
   "id": "a5684540",
   "metadata": {
    "id": "a5684540"
   },
   "outputs": [],
   "source": [
    "# Seuil pour le regroupement des catégories rares\n",
    "#threshold = 0.02\n",
    "\n",
    "# Identifier les catégories rares\n",
    "#rare_categories = df['actp'].value_counts(normalize=True)\n",
    "#rare_categories = rare_categories[rare_categories < threshold].index\n",
    "\n",
    "# Remplacer les catégories rares par 'Autre'\n",
    "#df['actp'] = df['actp'].replace(rare_categories, 'Autre')\n",
    "\n",
    "# One-Hot Encoding\n",
    "df = pd.get_dummies(df, columns=['actp'])"
   ]
  },
  {
   "cell_type": "code",
   "execution_count": 11,
   "id": "2b0dcdb4",
   "metadata": {
    "id": "2b0dcdb4"
   },
   "outputs": [],
   "source": [
    "df = pd.get_dummies(df, columns = ['etatp'])"
   ]
  },
  {
   "cell_type": "code",
   "execution_count": 12,
   "id": "9e678a7c",
   "metadata": {
    "id": "9e678a7c"
   },
   "outputs": [],
   "source": [
    "# Seuil pour le regroupement des catégories rares\n",
    "#threshold = 0.01\n",
    "\n",
    "# Identifier les catégories rares\n",
    "#rare_categories = df['secuUn'].value_counts(normalize=True)\n",
    "#rare_categories = rare_categories[rare_categories < threshold].index\n",
    "\n",
    "# Remplacer les catégories rares par 'Autre'\n",
    "#df['secuUn'] = df['secuUn'].replace(rare_categories, 'Autre')\n",
    "\n",
    "# One-Hot Encoding\n",
    "df = pd.get_dummies(df, columns=['secuUn'])"
   ]
  },
  {
   "cell_type": "code",
   "execution_count": 13,
   "id": "d84302b0",
   "metadata": {
    "id": "d84302b0"
   },
   "outputs": [],
   "source": [
    "df = pd.get_dummies(df, columns = ['tranches_ages'])"
   ]
  },
  {
   "cell_type": "code",
   "execution_count": 14,
   "id": "9f862530",
   "metadata": {
    "id": "9f862530"
   },
   "outputs": [],
   "source": [
    "# Seuil pour le regroupement des catégories rares\n",
    "#threshold = 0.01\n",
    "\n",
    "# Identifier les catégories rares\n",
    "#rare_categories = df['catr'].value_counts(normalize=True)\n",
    "#rare_categories = rare_categories[rare_categories < threshold].index\n",
    "\n",
    "# Remplacer les catégories rares par 'Autre'\n",
    "#df['catr'] = df['catr'].replace(rare_categories, 'Autre')\n",
    "\n",
    "# One-Hot Encoding\n",
    "df = pd.get_dummies(df, columns=['catr'])"
   ]
  },
  {
   "cell_type": "code",
   "execution_count": 15,
   "id": "a91128e6",
   "metadata": {
    "id": "a91128e6"
   },
   "outputs": [],
   "source": [
    "# Seuil pour le regroupement des catégories rares\n",
    "#threshold = 0.01\n",
    "\n",
    "# Identifier les catégories rares\n",
    "#rare_categories = df['circ'].value_counts(normalize=True)\n",
    "#rare_categories = rare_categories[rare_categories < threshold].index\n",
    "\n",
    "# Remplacer les catégories rares par 'Autre'\n",
    "#df['circ'] = df['circ'].replace(rare_categories, 'Autre')\n",
    "\n",
    "# One-Hot Encoding\n",
    "df = pd.get_dummies(df, columns=['circ'])"
   ]
  },
  {
   "cell_type": "code",
   "execution_count": 16,
   "id": "b44dfafe",
   "metadata": {
    "id": "b44dfafe"
   },
   "outputs": [],
   "source": [
    "# Binary Encoding\n",
    "df['vosp'] = df['vosp'].apply(lambda x: 0 if x == 'Sans objet(0)' else 1)"
   ]
  },
  {
   "cell_type": "code",
   "execution_count": 17,
   "id": "20049a45",
   "metadata": {
    "id": "20049a45"
   },
   "outputs": [],
   "source": [
    "# Seuil pour le regroupement des catégories rares\n",
    "#threshold = 0.05\n",
    "\n",
    "# Identifier les catégories rares\n",
    "#rare_categories = df['prof'].value_counts(normalize=True)\n",
    "#rare_categories = rare_categories[rare_categories < threshold].index\n",
    "\n",
    "# Remplacer les catégories rares par 'Autre'\n",
    "#df['prof'] = df['prof'].replace(rare_categories, 'Autre')\n",
    "\n",
    "# One-Hot Encoding\n",
    "df = pd.get_dummies(df, columns=['prof'])"
   ]
  },
  {
   "cell_type": "code",
   "execution_count": 18,
   "id": "8df71d73",
   "metadata": {
    "id": "8df71d73"
   },
   "outputs": [],
   "source": [
    "# Seuil pour le regroupement des catégories rares\n",
    "#threshold = 0.05\n",
    "\n",
    "# Identifier les catégories rares\n",
    "#rare_categories = df['plan'].value_counts(normalize=True)\n",
    "#rare_categories = rare_categories[rare_categories < threshold].index\n",
    "\n",
    "# Remplacer les catégories rares par 'Autre'\n",
    "#df['plan'] = df['plan'].replace(rare_categories, 'Autre')\n",
    "\n",
    "# One-Hot Encoding\n",
    "df = pd.get_dummies(df, columns=['plan'])"
   ]
  },
  {
   "cell_type": "code",
   "execution_count": 19,
   "id": "7d2120bc",
   "metadata": {
    "id": "7d2120bc"
   },
   "outputs": [],
   "source": [
    "# Seuil pour le regroupement des catégories rares\n",
    "#threshold = 0.02\n",
    "\n",
    "# Identifier les catégories rares\n",
    "#rare_categories = df['surf'].value_counts(normalize=True)\n",
    "#rare_categories = rare_categories[rare_categories < threshold].index\n",
    "\n",
    "# Remplacer les catégories rares par 'Autre'\n",
    "#df['surf'] = df['surf'].replace(rare_categories, 'Autre')\n",
    "\n",
    "# One-Hot Encoding\n",
    "df = pd.get_dummies(df, columns=['surf'])"
   ]
  },
  {
   "cell_type": "code",
   "execution_count": 20,
   "id": "99e9fdba",
   "metadata": {
    "id": "99e9fdba"
   },
   "outputs": [],
   "source": [
    "# Seuil pour le regroupement des catégories rares\n",
    "#threshold = 0.02\n",
    "\n",
    "# Identifier les catégories rares\n",
    "#rare_categories = df['infra'].value_counts(normalize=True)\n",
    "#rare_categories = rare_categories[rare_categories < threshold].index\n",
    "\n",
    "# Remplacer les catégories rares par 'Autre'\n",
    "#df['infra'] = df['infra'].replace(rare_categories, 'Autre')\n",
    "\n",
    "# One-Hot Encoding\n",
    "df = pd.get_dummies(df, columns=['infra'])"
   ]
  },
  {
   "cell_type": "code",
   "execution_count": 21,
   "id": "5b0d3b78",
   "metadata": {
    "id": "5b0d3b78"
   },
   "outputs": [],
   "source": [
    "# Seuil pour le regroupement des catégories rares\n",
    "#threshold = 0.05\n",
    "\n",
    "# Identifier les catégories rares\n",
    "#rare_categories = df['situ'].value_counts(normalize=True)\n",
    "#rare_categories = rare_categories[rare_categories < threshold].index\n",
    "\n",
    "# Remplacer les catégories rares par 'Autre'\n",
    "#df['situ'] = df['situ'].replace(rare_categories, 'Autre')\n",
    "\n",
    "# One-Hot Encoding\n",
    "df = pd.get_dummies(df, columns=['situ'])"
   ]
  },
  {
   "cell_type": "code",
   "execution_count": 22,
   "id": "9a743182",
   "metadata": {
    "id": "9a743182"
   },
   "outputs": [],
   "source": [
    "# Seuil pour le regroupement des catégories rares\n",
    "#threshold = 0.02\n",
    "\n",
    "# Identifier les catégories rares\n",
    "#rare_categories = df['obs'].value_counts(normalize=True)\n",
    "#rare_categories = rare_categories[rare_categories < threshold].index\n",
    "\n",
    "# Remplacer les catégories rares par 'Autre'\n",
    "#df['obs'] = df['obs'].replace(rare_categories, 'Autre')\n",
    "\n",
    "# One-Hot Encoding\n",
    "df = pd.get_dummies(df, columns=['obs'])"
   ]
  },
  {
   "cell_type": "code",
   "execution_count": 23,
   "id": "d09cc0c8",
   "metadata": {
    "id": "d09cc0c8"
   },
   "outputs": [],
   "source": [
    "# Seuil pour le regroupement des catégories rares\n",
    "#threshold = 0.01\n",
    "\n",
    "# Identifier les catégories rares\n",
    "#rare_categories = df['obsm'].value_counts(normalize=True)\n",
    "#rare_categories = rare_categories[rare_categories < threshold].index\n",
    "\n",
    "# Remplacer les catégories rares par 'Autre'\n",
    "#df['obsm'] = df['obsm'].replace(rare_categories, 'Autre')\n",
    "\n",
    "# One-Hot Encoding\n",
    "df = pd.get_dummies(df, columns=['obsm'])"
   ]
  },
  {
   "cell_type": "code",
   "execution_count": 24,
   "id": "d3d3ccd0",
   "metadata": {
    "id": "d3d3ccd0"
   },
   "outputs": [],
   "source": [
    "# Regrouper la catégorie \"Non renseigné\" avec \"Aucun\"\n",
    "df['choc'] = df['choc'].replace('Non renseigné', 'Aucun')\n",
    "\n",
    "# Effectuer le one-hot encoding\n",
    "df = pd.get_dummies(df, columns=['choc'])\n"
   ]
  },
  {
   "cell_type": "code",
   "execution_count": 25,
   "id": "bbb36ed0",
   "metadata": {
    "id": "bbb36ed0"
   },
   "outputs": [],
   "source": [
    "frequency_encoding = df['manv'].value_counts(normalize=True)\n",
    "df['manv'] = df['manv'].map(frequency_encoding)"
   ]
  },
  {
   "cell_type": "code",
   "execution_count": 26,
   "id": "f9e86198",
   "metadata": {
    "id": "f9e86198"
   },
   "outputs": [],
   "source": [
    "frequency_encoding = df['catv_Label'].value_counts(normalize=True)\n",
    "df['catv_Label'] = df['catv_Label'].map(frequency_encoding)"
   ]
  },
  {
   "cell_type": "code",
   "execution_count": 27,
   "id": "3f89c336",
   "metadata": {
    "id": "3f89c336"
   },
   "outputs": [],
   "source": [
    "frequency_encoding = df['dep'].value_counts(normalize=True)\n",
    "df['dep'] = df['dep'].map(frequency_encoding)"
   ]
  },
  {
   "cell_type": "code",
   "execution_count": 28,
   "id": "9de0087a",
   "metadata": {
    "id": "9de0087a"
   },
   "outputs": [],
   "source": [
    "frequency_encoding = df['com'].value_counts(normalize=True)\n",
    "df['com'] = df['com'].map(frequency_encoding)"
   ]
  },
  {
   "cell_type": "code",
   "execution_count": 29,
   "id": "2e260c95",
   "metadata": {
    "id": "2e260c95"
   },
   "outputs": [],
   "source": [
    "df = pd.get_dummies(df, columns = ['lum'])"
   ]
  },
  {
   "cell_type": "code",
   "execution_count": 30,
   "id": "1d2d0a71",
   "metadata": {
    "id": "1d2d0a71"
   },
   "outputs": [],
   "source": [
    "df['agg'] = df['agg'].replace({'En agglomération': 1, 'Hors agglomération': 0})"
   ]
  },
  {
   "cell_type": "code",
   "execution_count": 31,
   "id": "211f7cd2",
   "metadata": {
    "id": "211f7cd2"
   },
   "outputs": [],
   "source": [
    "df = pd.get_dummies(df, columns = ['int'])"
   ]
  },
  {
   "cell_type": "code",
   "execution_count": 32,
   "id": "c8c9a7d2",
   "metadata": {
    "id": "c8c9a7d2"
   },
   "outputs": [],
   "source": [
    "df = pd.get_dummies(df, columns = ['atm'])"
   ]
  },
  {
   "cell_type": "code",
   "execution_count": 33,
   "id": "9b6821a3",
   "metadata": {
    "id": "9b6821a3"
   },
   "outputs": [],
   "source": [
    "df = pd.get_dummies(df, columns = ['col'])"
   ]
  },
  {
   "cell_type": "code",
   "execution_count": 34,
   "id": "62fc8c5a",
   "metadata": {
    "id": "62fc8c5a"
   },
   "outputs": [],
   "source": [
    "df = pd.get_dummies(df, columns = ['jour_de_la_semaine'])"
   ]
  },
  {
   "cell_type": "code",
   "execution_count": 35,
   "id": "c500cad3",
   "metadata": {
    "id": "c500cad3",
    "outputId": "1bb58389-d4de-468c-cf05-8ba07d26c387"
   },
   "outputs": [
    {
     "data": {
      "text/plain": [
       "(2291739, 195)"
      ]
     },
     "execution_count": 35,
     "metadata": {},
     "output_type": "execute_result"
    }
   ],
   "source": [
    "df.shape"
   ]
  },
  {
   "cell_type": "code",
   "execution_count": 36,
   "id": "48037418",
   "metadata": {
    "id": "48037418",
    "outputId": "65e3d33d-301d-4cf3-d9c1-7edbbd113057"
   },
   "outputs": [
    {
     "data": {
      "text/plain": [
       "Index(['place', 'grav', 'sexe', 'nbv', 'vosp', 'manv', 'catv_Label', 'agg',\n",
       "       'com', 'dep',\n",
       "       ...\n",
       "       'col_Sans collision',\n",
       "       'col_Trois véhicules et plus - collisions multiples',\n",
       "       'col_Trois véhicules et plus – en chaîne',\n",
       "       'jour_de_la_semaine_Dimanche', 'jour_de_la_semaine_Jeudi',\n",
       "       'jour_de_la_semaine_Lundi', 'jour_de_la_semaine_Mardi',\n",
       "       'jour_de_la_semaine_Mercredi', 'jour_de_la_semaine_Samedi',\n",
       "       'jour_de_la_semaine_Vendredi'],\n",
       "      dtype='object', length=195)"
      ]
     },
     "execution_count": 36,
     "metadata": {},
     "output_type": "execute_result"
    }
   ],
   "source": [
    "df.columns"
   ]
  },
  {
   "cell_type": "markdown",
   "id": "6e4a371d",
   "metadata": {
    "id": "6e4a371d"
   },
   "source": [
    "# Séparation des features et de la target"
   ]
  },
  {
   "cell_type": "code",
   "execution_count": 37,
   "id": "bb9a38bb",
   "metadata": {
    "id": "bb9a38bb"
   },
   "outputs": [],
   "source": [
    "X = df.drop('grav',axis=1)\n",
    "y = df['grav']"
   ]
  },
  {
   "cell_type": "code",
   "execution_count": 38,
   "id": "c305f9d0",
   "metadata": {},
   "outputs": [
    {
     "data": {
      "text/plain": [
       "Int64Index([      0,       1,       2,       3,       4,       5,       6,\n",
       "                  7,       8,       9,\n",
       "            ...\n",
       "            2291787, 2291788, 2291789, 2291790, 2291791, 2291792, 2291793,\n",
       "            2291794, 2291795, 2291796],\n",
       "           dtype='int64', length=2291739)"
      ]
     },
     "execution_count": 38,
     "metadata": {},
     "output_type": "execute_result"
    }
   ],
   "source": [
    "X.index"
   ]
  },
  {
   "cell_type": "code",
   "execution_count": 39,
   "id": "800623b1",
   "metadata": {},
   "outputs": [
    {
     "data": {
      "text/plain": [
       "Int64Index([      0,       1,       2,       3,       4,       5,       6,\n",
       "                  7,       8,       9,\n",
       "            ...\n",
       "            2291787, 2291788, 2291789, 2291790, 2291791, 2291792, 2291793,\n",
       "            2291794, 2291795, 2291796],\n",
       "           dtype='int64', length=2291739)"
      ]
     },
     "execution_count": 39,
     "metadata": {},
     "output_type": "execute_result"
    }
   ],
   "source": [
    "y.index"
   ]
  },
  {
   "cell_type": "code",
   "execution_count": 40,
   "id": "9609cb79",
   "metadata": {},
   "outputs": [
    {
     "data": {
      "text/plain": [
       "Indemne               937743\n",
       "Blessé léger          825286\n",
       "Blessé hospitalisé    467533\n",
       "Tué                    61177\n",
       "Name: grav, dtype: int64"
      ]
     },
     "execution_count": 40,
     "metadata": {},
     "output_type": "execute_result"
    }
   ],
   "source": [
    "y.value_counts()"
   ]
  },
  {
   "cell_type": "markdown",
   "id": "747513a1",
   "metadata": {
    "id": "747513a1"
   },
   "source": [
    "# Séparation des données en ensembles d'entraînement et de test"
   ]
  },
  {
   "cell_type": "code",
   "execution_count": 41,
   "id": "1867bc99",
   "metadata": {
    "id": "1867bc99"
   },
   "outputs": [],
   "source": [
    "# Division des données en ensembles d'entraînement et de test\n",
    "X_train, X_test, y_train, y_test = train_test_split(X, y, test_size=0.2, random_state=42)"
   ]
  },
  {
   "cell_type": "code",
   "execution_count": 42,
   "id": "6570be7f",
   "metadata": {},
   "outputs": [
    {
     "data": {
      "text/html": [
       "<div>\n",
       "<style scoped>\n",
       "    .dataframe tbody tr th:only-of-type {\n",
       "        vertical-align: middle;\n",
       "    }\n",
       "\n",
       "    .dataframe tbody tr th {\n",
       "        vertical-align: top;\n",
       "    }\n",
       "\n",
       "    .dataframe thead th {\n",
       "        text-align: right;\n",
       "    }\n",
       "</style>\n",
       "<table border=\"1\" class=\"dataframe\">\n",
       "  <thead>\n",
       "    <tr style=\"text-align: right;\">\n",
       "      <th></th>\n",
       "      <th>place</th>\n",
       "      <th>sexe</th>\n",
       "      <th>nbv</th>\n",
       "      <th>vosp</th>\n",
       "      <th>manv</th>\n",
       "      <th>catv_Label</th>\n",
       "      <th>agg</th>\n",
       "      <th>com</th>\n",
       "      <th>dep</th>\n",
       "      <th>heure</th>\n",
       "      <th>...</th>\n",
       "      <th>col_Sans collision</th>\n",
       "      <th>col_Trois véhicules et plus - collisions multiples</th>\n",
       "      <th>col_Trois véhicules et plus – en chaîne</th>\n",
       "      <th>jour_de_la_semaine_Dimanche</th>\n",
       "      <th>jour_de_la_semaine_Jeudi</th>\n",
       "      <th>jour_de_la_semaine_Lundi</th>\n",
       "      <th>jour_de_la_semaine_Mardi</th>\n",
       "      <th>jour_de_la_semaine_Mercredi</th>\n",
       "      <th>jour_de_la_semaine_Samedi</th>\n",
       "      <th>jour_de_la_semaine_Vendredi</th>\n",
       "    </tr>\n",
       "  </thead>\n",
       "  <tbody>\n",
       "    <tr>\n",
       "      <th>2267456</th>\n",
       "      <td>2.0</td>\n",
       "      <td>0</td>\n",
       "      <td>2.0</td>\n",
       "      <td>0</td>\n",
       "      <td>0.109695</td>\n",
       "      <td>0.051384</td>\n",
       "      <td>1</td>\n",
       "      <td>0.000010</td>\n",
       "      <td>0.009388</td>\n",
       "      <td>14</td>\n",
       "      <td>...</td>\n",
       "      <td>0</td>\n",
       "      <td>0</td>\n",
       "      <td>0</td>\n",
       "      <td>0</td>\n",
       "      <td>0</td>\n",
       "      <td>0</td>\n",
       "      <td>0</td>\n",
       "      <td>0</td>\n",
       "      <td>0</td>\n",
       "      <td>1</td>\n",
       "    </tr>\n",
       "    <tr>\n",
       "      <th>1684613</th>\n",
       "      <td>1.0</td>\n",
       "      <td>1</td>\n",
       "      <td>4.0</td>\n",
       "      <td>0</td>\n",
       "      <td>0.109695</td>\n",
       "      <td>0.651106</td>\n",
       "      <td>0</td>\n",
       "      <td>0.000267</td>\n",
       "      <td>0.021840</td>\n",
       "      <td>17</td>\n",
       "      <td>...</td>\n",
       "      <td>0</td>\n",
       "      <td>0</td>\n",
       "      <td>0</td>\n",
       "      <td>0</td>\n",
       "      <td>0</td>\n",
       "      <td>0</td>\n",
       "      <td>0</td>\n",
       "      <td>0</td>\n",
       "      <td>0</td>\n",
       "      <td>1</td>\n",
       "    </tr>\n",
       "    <tr>\n",
       "      <th>1999446</th>\n",
       "      <td>2.0</td>\n",
       "      <td>0</td>\n",
       "      <td>0.0</td>\n",
       "      <td>0</td>\n",
       "      <td>0.032610</td>\n",
       "      <td>0.071721</td>\n",
       "      <td>1</td>\n",
       "      <td>0.003850</td>\n",
       "      <td>0.006918</td>\n",
       "      <td>11</td>\n",
       "      <td>...</td>\n",
       "      <td>0</td>\n",
       "      <td>0</td>\n",
       "      <td>0</td>\n",
       "      <td>0</td>\n",
       "      <td>0</td>\n",
       "      <td>0</td>\n",
       "      <td>1</td>\n",
       "      <td>0</td>\n",
       "      <td>0</td>\n",
       "      <td>0</td>\n",
       "    </tr>\n",
       "    <tr>\n",
       "      <th>1653900</th>\n",
       "      <td>1.0</td>\n",
       "      <td>1</td>\n",
       "      <td>2.0</td>\n",
       "      <td>1</td>\n",
       "      <td>0.020620</td>\n",
       "      <td>0.651106</td>\n",
       "      <td>1</td>\n",
       "      <td>0.009663</td>\n",
       "      <td>0.016662</td>\n",
       "      <td>10</td>\n",
       "      <td>...</td>\n",
       "      <td>0</td>\n",
       "      <td>0</td>\n",
       "      <td>0</td>\n",
       "      <td>0</td>\n",
       "      <td>0</td>\n",
       "      <td>0</td>\n",
       "      <td>0</td>\n",
       "      <td>1</td>\n",
       "      <td>0</td>\n",
       "      <td>0</td>\n",
       "    </tr>\n",
       "    <tr>\n",
       "      <th>550308</th>\n",
       "      <td>2.0</td>\n",
       "      <td>0</td>\n",
       "      <td>2.0</td>\n",
       "      <td>0</td>\n",
       "      <td>0.455666</td>\n",
       "      <td>0.651106</td>\n",
       "      <td>1</td>\n",
       "      <td>0.001114</td>\n",
       "      <td>0.004734</td>\n",
       "      <td>20</td>\n",
       "      <td>...</td>\n",
       "      <td>0</td>\n",
       "      <td>0</td>\n",
       "      <td>0</td>\n",
       "      <td>0</td>\n",
       "      <td>0</td>\n",
       "      <td>0</td>\n",
       "      <td>0</td>\n",
       "      <td>0</td>\n",
       "      <td>0</td>\n",
       "      <td>1</td>\n",
       "    </tr>\n",
       "    <tr>\n",
       "      <th>...</th>\n",
       "      <td>...</td>\n",
       "      <td>...</td>\n",
       "      <td>...</td>\n",
       "      <td>...</td>\n",
       "      <td>...</td>\n",
       "      <td>...</td>\n",
       "      <td>...</td>\n",
       "      <td>...</td>\n",
       "      <td>...</td>\n",
       "      <td>...</td>\n",
       "      <td>...</td>\n",
       "      <td>...</td>\n",
       "      <td>...</td>\n",
       "      <td>...</td>\n",
       "      <td>...</td>\n",
       "      <td>...</td>\n",
       "      <td>...</td>\n",
       "      <td>...</td>\n",
       "      <td>...</td>\n",
       "      <td>...</td>\n",
       "      <td>...</td>\n",
       "    </tr>\n",
       "    <tr>\n",
       "      <th>732186</th>\n",
       "      <td>0.0</td>\n",
       "      <td>1</td>\n",
       "      <td>3.0</td>\n",
       "      <td>0</td>\n",
       "      <td>0.455666</td>\n",
       "      <td>0.084295</td>\n",
       "      <td>1</td>\n",
       "      <td>0.006694</td>\n",
       "      <td>0.092927</td>\n",
       "      <td>10</td>\n",
       "      <td>...</td>\n",
       "      <td>0</td>\n",
       "      <td>0</td>\n",
       "      <td>0</td>\n",
       "      <td>0</td>\n",
       "      <td>0</td>\n",
       "      <td>0</td>\n",
       "      <td>0</td>\n",
       "      <td>0</td>\n",
       "      <td>1</td>\n",
       "      <td>0</td>\n",
       "    </tr>\n",
       "    <tr>\n",
       "      <th>110274</th>\n",
       "      <td>1.0</td>\n",
       "      <td>1</td>\n",
       "      <td>2.0</td>\n",
       "      <td>0</td>\n",
       "      <td>0.082017</td>\n",
       "      <td>0.003601</td>\n",
       "      <td>1</td>\n",
       "      <td>0.008847</td>\n",
       "      <td>0.010058</td>\n",
       "      <td>18</td>\n",
       "      <td>...</td>\n",
       "      <td>0</td>\n",
       "      <td>0</td>\n",
       "      <td>0</td>\n",
       "      <td>0</td>\n",
       "      <td>0</td>\n",
       "      <td>0</td>\n",
       "      <td>0</td>\n",
       "      <td>1</td>\n",
       "      <td>0</td>\n",
       "      <td>0</td>\n",
       "    </tr>\n",
       "    <tr>\n",
       "      <th>1692769</th>\n",
       "      <td>1.0</td>\n",
       "      <td>1</td>\n",
       "      <td>3.0</td>\n",
       "      <td>0</td>\n",
       "      <td>0.455666</td>\n",
       "      <td>0.651106</td>\n",
       "      <td>1</td>\n",
       "      <td>0.004218</td>\n",
       "      <td>0.041958</td>\n",
       "      <td>6</td>\n",
       "      <td>...</td>\n",
       "      <td>0</td>\n",
       "      <td>0</td>\n",
       "      <td>0</td>\n",
       "      <td>0</td>\n",
       "      <td>0</td>\n",
       "      <td>1</td>\n",
       "      <td>0</td>\n",
       "      <td>0</td>\n",
       "      <td>0</td>\n",
       "      <td>0</td>\n",
       "    </tr>\n",
       "    <tr>\n",
       "      <th>2229139</th>\n",
       "      <td>1.0</td>\n",
       "      <td>1</td>\n",
       "      <td>1.0</td>\n",
       "      <td>0</td>\n",
       "      <td>0.455666</td>\n",
       "      <td>0.071721</td>\n",
       "      <td>1</td>\n",
       "      <td>0.000354</td>\n",
       "      <td>0.092927</td>\n",
       "      <td>22</td>\n",
       "      <td>...</td>\n",
       "      <td>0</td>\n",
       "      <td>0</td>\n",
       "      <td>0</td>\n",
       "      <td>0</td>\n",
       "      <td>0</td>\n",
       "      <td>0</td>\n",
       "      <td>1</td>\n",
       "      <td>0</td>\n",
       "      <td>0</td>\n",
       "      <td>0</td>\n",
       "    </tr>\n",
       "    <tr>\n",
       "      <th>2219164</th>\n",
       "      <td>2.0</td>\n",
       "      <td>1</td>\n",
       "      <td>2.0</td>\n",
       "      <td>0</td>\n",
       "      <td>0.002545</td>\n",
       "      <td>0.651106</td>\n",
       "      <td>1</td>\n",
       "      <td>0.000007</td>\n",
       "      <td>0.012329</td>\n",
       "      <td>13</td>\n",
       "      <td>...</td>\n",
       "      <td>0</td>\n",
       "      <td>0</td>\n",
       "      <td>0</td>\n",
       "      <td>0</td>\n",
       "      <td>0</td>\n",
       "      <td>0</td>\n",
       "      <td>0</td>\n",
       "      <td>0</td>\n",
       "      <td>0</td>\n",
       "      <td>1</td>\n",
       "    </tr>\n",
       "  </tbody>\n",
       "</table>\n",
       "<p>1833391 rows × 194 columns</p>\n",
       "</div>"
      ],
      "text/plain": [
       "        place  sexe  nbv  vosp      manv catv_Label agg       com       dep  \\\n",
       "2267456   2.0     0  2.0     0  0.109695   0.051384   1  0.000010  0.009388   \n",
       "1684613   1.0     1  4.0     0  0.109695   0.651106   0  0.000267  0.021840   \n",
       "1999446   2.0     0  0.0     0  0.032610   0.071721   1  0.003850  0.006918   \n",
       "1653900   1.0     1  2.0     1  0.020620   0.651106   1  0.009663  0.016662   \n",
       "550308    2.0     0  2.0     0  0.455666   0.651106   1  0.001114  0.004734   \n",
       "...       ...   ...  ...   ...       ...        ...  ..       ...       ...   \n",
       "732186    0.0     1  3.0     0  0.455666   0.084295   1  0.006694  0.092927   \n",
       "110274    1.0     1  2.0     0  0.082017   0.003601   1  0.008847  0.010058   \n",
       "1692769   1.0     1  3.0     0  0.455666   0.651106   1  0.004218  0.041958   \n",
       "2229139   1.0     1  1.0     0  0.455666   0.071721   1  0.000354  0.092927   \n",
       "2219164   2.0     1  2.0     0  0.002545   0.651106   1  0.000007  0.012329   \n",
       "\n",
       "        heure  ...  col_Sans collision  \\\n",
       "2267456    14  ...                   0   \n",
       "1684613    17  ...                   0   \n",
       "1999446    11  ...                   0   \n",
       "1653900    10  ...                   0   \n",
       "550308     20  ...                   0   \n",
       "...       ...  ...                 ...   \n",
       "732186     10  ...                   0   \n",
       "110274     18  ...                   0   \n",
       "1692769     6  ...                   0   \n",
       "2229139    22  ...                   0   \n",
       "2219164    13  ...                   0   \n",
       "\n",
       "         col_Trois véhicules et plus - collisions multiples  \\\n",
       "2267456                                                  0    \n",
       "1684613                                                  0    \n",
       "1999446                                                  0    \n",
       "1653900                                                  0    \n",
       "550308                                                   0    \n",
       "...                                                    ...    \n",
       "732186                                                   0    \n",
       "110274                                                   0    \n",
       "1692769                                                  0    \n",
       "2229139                                                  0    \n",
       "2219164                                                  0    \n",
       "\n",
       "         col_Trois véhicules et plus – en chaîne  jour_de_la_semaine_Dimanche  \\\n",
       "2267456                                        0                            0   \n",
       "1684613                                        0                            0   \n",
       "1999446                                        0                            0   \n",
       "1653900                                        0                            0   \n",
       "550308                                         0                            0   \n",
       "...                                          ...                          ...   \n",
       "732186                                         0                            0   \n",
       "110274                                         0                            0   \n",
       "1692769                                        0                            0   \n",
       "2229139                                        0                            0   \n",
       "2219164                                        0                            0   \n",
       "\n",
       "         jour_de_la_semaine_Jeudi  jour_de_la_semaine_Lundi  \\\n",
       "2267456                         0                         0   \n",
       "1684613                         0                         0   \n",
       "1999446                         0                         0   \n",
       "1653900                         0                         0   \n",
       "550308                          0                         0   \n",
       "...                           ...                       ...   \n",
       "732186                          0                         0   \n",
       "110274                          0                         0   \n",
       "1692769                         0                         1   \n",
       "2229139                         0                         0   \n",
       "2219164                         0                         0   \n",
       "\n",
       "         jour_de_la_semaine_Mardi  jour_de_la_semaine_Mercredi  \\\n",
       "2267456                         0                            0   \n",
       "1684613                         0                            0   \n",
       "1999446                         1                            0   \n",
       "1653900                         0                            1   \n",
       "550308                          0                            0   \n",
       "...                           ...                          ...   \n",
       "732186                          0                            0   \n",
       "110274                          0                            1   \n",
       "1692769                         0                            0   \n",
       "2229139                         1                            0   \n",
       "2219164                         0                            0   \n",
       "\n",
       "         jour_de_la_semaine_Samedi  jour_de_la_semaine_Vendredi  \n",
       "2267456                          0                            1  \n",
       "1684613                          0                            1  \n",
       "1999446                          0                            0  \n",
       "1653900                          0                            0  \n",
       "550308                           0                            1  \n",
       "...                            ...                          ...  \n",
       "732186                           1                            0  \n",
       "110274                           0                            0  \n",
       "1692769                          0                            0  \n",
       "2229139                          0                            0  \n",
       "2219164                          0                            1  \n",
       "\n",
       "[1833391 rows x 194 columns]"
      ]
     },
     "execution_count": 42,
     "metadata": {},
     "output_type": "execute_result"
    }
   ],
   "source": [
    "X_train"
   ]
  },
  {
   "cell_type": "code",
   "execution_count": 43,
   "id": "c9797a2d",
   "metadata": {},
   "outputs": [
    {
     "data": {
      "text/plain": [
       "2267456          Blessé léger\n",
       "1684613               Indemne\n",
       "1999446          Blessé léger\n",
       "1653900               Indemne\n",
       "550308           Blessé léger\n",
       "                  ...        \n",
       "732186                Indemne\n",
       "110274                Indemne\n",
       "1692769          Blessé léger\n",
       "2229139    Blessé hospitalisé\n",
       "2219164          Blessé léger\n",
       "Name: grav, Length: 1833391, dtype: object"
      ]
     },
     "execution_count": 43,
     "metadata": {},
     "output_type": "execute_result"
    }
   ],
   "source": [
    "y_train"
   ]
  },
  {
   "cell_type": "markdown",
   "id": "e1e2ea94",
   "metadata": {
    "id": "e1e2ea94"
   },
   "source": [
    "# Rééquilibrage des classes - Création d'une fonction pour faire un Oversampling "
   ]
  },
  {
   "cell_type": "code",
   "execution_count": 44,
   "id": "a45e4416",
   "metadata": {
    "id": "a45e4416"
   },
   "outputs": [],
   "source": [
    "from imblearn.metrics import classification_report_imbalanced, geometric_mean_score\n",
    "from sklearn.metrics import f1_score"
   ]
  },
  {
   "cell_type": "markdown",
   "id": "b9862395",
   "metadata": {},
   "source": [
    "## Test phase before oversampling function creation. Cf ligne 73 directement"
   ]
  },
  {
   "cell_type": "code",
   "execution_count": 45,
   "id": "8a745ee2",
   "metadata": {},
   "outputs": [
    {
     "name": "stdout",
     "output_type": "stream",
     "text": [
      "[ 708601 1902226 1914482 ... 1425498 1500968 2281988]\n"
     ]
    }
   ],
   "source": [
    "minority_class_label = 'Tué'\n",
    "print(np.asarray(y_train[y_train == minority_class_label].index))"
   ]
  },
  {
   "cell_type": "code",
   "execution_count": 46,
   "id": "c219fb2a",
   "metadata": {},
   "outputs": [],
   "source": [
    "Tué = np.asarray(y_train[y_train == minority_class_label].index)"
   ]
  },
  {
   "cell_type": "code",
   "execution_count": 47,
   "id": "3654b733",
   "metadata": {},
   "outputs": [
    {
     "data": {
      "text/plain": [
       "array([ 708601, 1902226, 1914482, ..., 1425498, 1500968, 2281988],\n",
       "      dtype=int64)"
      ]
     },
     "execution_count": 47,
     "metadata": {},
     "output_type": "execute_result"
    }
   ],
   "source": [
    "Tué"
   ]
  },
  {
   "cell_type": "code",
   "execution_count": 48,
   "id": "5611951c",
   "metadata": {},
   "outputs": [
    {
     "data": {
      "text/plain": [
       "48990"
      ]
     },
     "execution_count": 48,
     "metadata": {},
     "output_type": "execute_result"
    }
   ],
   "source": [
    "len(Tué)"
   ]
  },
  {
   "cell_type": "code",
   "execution_count": 49,
   "id": "ca7f1586",
   "metadata": {},
   "outputs": [],
   "source": [
    "minority_indices = np.asarray(y_train[y_train == minority_class_label].index)"
   ]
  },
  {
   "cell_type": "code",
   "execution_count": 50,
   "id": "8d8528c1",
   "metadata": {},
   "outputs": [
    {
     "data": {
      "text/plain": [
       "48990"
      ]
     },
     "execution_count": 50,
     "metadata": {},
     "output_type": "execute_result"
    }
   ],
   "source": [
    "len(minority_indices)"
   ]
  },
  {
   "cell_type": "code",
   "execution_count": 51,
   "id": "603fc950",
   "metadata": {},
   "outputs": [],
   "source": [
    "subset_size = 1000"
   ]
  },
  {
   "cell_type": "code",
   "execution_count": 52,
   "id": "012aa939",
   "metadata": {},
   "outputs": [],
   "source": [
    "oversampled_minority_indices = np.random.choice(minority_indices, size=subset_size, replace=True)"
   ]
  },
  {
   "cell_type": "code",
   "execution_count": 53,
   "id": "6809fc93",
   "metadata": {},
   "outputs": [
    {
     "data": {
      "text/plain": [
       "array([  91137, 1356597, 1758289,  986096, 1702148, 1910788, 2290055,\n",
       "       1777180, 2257475, 1414329, 1643787, 1089903, 1621351, 1050857,\n",
       "        291412,  176674, 2167914, 1096148,  478257, 2077024,  707719,\n",
       "       1349104, 2209663, 1800220, 1517081, 2216911, 1513583, 1350432,\n",
       "       1996518, 2185543, 1743027,  446047,  664497,  124963,  928451,\n",
       "       1608148,  722213,   57347, 1901709, 1027097, 1621809,  721396,\n",
       "        980816, 1416366, 1199093, 1451248,  101246, 1072620, 1815461,\n",
       "        927289,  296775, 1899775,  346188,  194798,  293647,  487698,\n",
       "       2051920,  300030,  388086, 1078514,  444964,  319086, 1481164,\n",
       "        979143, 1996467,  752216, 1904971, 1246707,  862174,  760656,\n",
       "        233043, 1708831,   74678,  874190,  825996, 1905965,  773018,\n",
       "        906491, 1800001, 1351668,  431970,  708574,  609000, 1779152,\n",
       "       1078672, 1251539,  994219,  676269,    4671,  859941, 1651847,\n",
       "       1770649,  296879,  150412,  748167, 2195056,  632974, 1631750,\n",
       "       2181444, 2257091, 1485842,  141282,  217786, 1861511,  908369,\n",
       "        929169,  936504, 1774907, 1479855, 2236865, 2083202, 1751439,\n",
       "        751493, 1356592,  849413, 1661235, 2250050,  294313,  863505,\n",
       "       1353024, 1873442,  576049,  545619,  544591, 1749873, 1132367,\n",
       "       1054424,   85315, 1315620, 2236007, 1280579,  357657, 1348948,\n",
       "        773456,  909557, 2145710, 1550594, 1085570,  229955, 1610116,\n",
       "        707148,  770045,  496519,  426038,  522781, 1066579,  721635,\n",
       "        911009, 1742021,  905411,  161382, 1714648, 1880602, 1902886,\n",
       "       1737241,   57050,  359486,  940812,  422739,  809265,  537839,\n",
       "       1605839, 1771455,  483404, 2016447, 1882395, 1339737,  486449,\n",
       "        933157,  919728,  236665, 2218247, 1208785,  907049, 1898724,\n",
       "       1075370, 1651096, 2066738, 1067102, 1752622, 1734268, 1488807,\n",
       "        909756, 1261411,  762921,   87187, 1076973, 2245274,  934192,\n",
       "       2128707, 1077706,  911534,  739795,  519286,  672508, 1773590,\n",
       "       2166448, 1079185, 2011015,  756174, 2229340, 1953741, 1058538,\n",
       "        918900,  582620,  948816, 1244993,   29311,  854142,  123901,\n",
       "        550617,  767523,  291456, 1032358, 1871537, 1211417, 1643976,\n",
       "        109753,  752360, 2065928,  596215,  263611, 1090239,   91158,\n",
       "       1356592, 2189643, 1109530,  362891,  817803,  309963, 1357109,\n",
       "        876995,  189509, 1280929, 1709000,   54355, 1492891, 1900756,\n",
       "       1905871, 1871645,  946436, 1062627,  849731, 1714189,   57019,\n",
       "       1109842, 2071531, 1474187,  545062,  198553,  529219, 1096198,\n",
       "       1381605,  503693, 1640975,  163758, 2251001,  163649, 1175634,\n",
       "       2010362,  310379, 2136372,  312114,  410209,  193623, 1250847,\n",
       "        395620, 1882983, 1948486, 1064747, 1491216, 1640903, 1090630,\n",
       "        963205, 1875721, 1743383, 1943282, 1092891, 1365039,  553383,\n",
       "        894170,  299334,  687314,  305251,  569690,  916686,  437729,\n",
       "       1509173,  206912, 2197544, 1608683,  791185,  732361, 1065476,\n",
       "       1783987, 1181438,  734772, 2015446, 1609209, 2256052, 1488790,\n",
       "        259196,  455947,  923073,  674645,  288739, 1910354,   60142,\n",
       "       1212012,  692065,   29507, 1609533, 1640778,  211298, 2016571,\n",
       "       1760095,  425199, 1401244, 2072041, 1743371,  977573, 1235433,\n",
       "       1754573, 1232814, 2007485, 1428329, 1069593,  360009, 1348873,\n",
       "       1224904, 1082660, 1893732, 1257577,  953683, 1427151, 1068213,\n",
       "       1372009, 1215504,  911573,   23147, 1257016,  845693, 1212630,\n",
       "        407839,  329974, 1434149,  830712,  980630, 1748310, 1483237,\n",
       "       1771236, 2285200,  959223,  606723, 1080637,   29420, 1885073,\n",
       "       1862802, 2027728,  111679, 1342745,  631179, 2080872,  635653,\n",
       "        825176,  929362,  472082, 2151580,  178495, 1644749,  516729,\n",
       "       2227842,  328831, 2263888, 1240036, 2276061, 2028434,  143953,\n",
       "       1088343,  722946,  235420,   52630, 1450045, 1359466, 1124438,\n",
       "       1359635, 2009235,  471353,  581511, 1016153,  197553, 2246393,\n",
       "       1622440, 1710648,  652296,    9154, 2014445, 1209112,  586519,\n",
       "       1226786,  441698, 1090045,   94578, 1064972,  752273,  738408,\n",
       "       1206649, 1250135,  723670, 1612046, 1493482,  359925,  442822,\n",
       "       1861665,   89504,  556095,  904319, 1552797, 1637674,  830063,\n",
       "       1753978, 1069195,  494275, 1442590, 1299210,  550787, 1102202,\n",
       "       1365031, 1071379,  678281, 1779337,  517732, 1088908,  857860,\n",
       "        396819,  334900, 1066895, 2216911, 1885290,  142085,  126989,\n",
       "       1879893, 1468402, 1567386, 1528955, 1610268, 1480622,  355605,\n",
       "       1498422, 2028394,  361707, 1729147, 2068233, 1704323,  235973,\n",
       "       2019611,   59340, 1603588, 1425217,  898222, 2290055, 2260640,\n",
       "       2199293, 1488705, 1550533, 1552037, 1075400,   24592,  882900,\n",
       "       1781731, 1484666,   28626, 1528385, 1384386,  779491,  748553,\n",
       "       1630838, 2261897, 1217107,  210255, 2270510, 1610209,  210559,\n",
       "        125222,  248850, 1940513, 1090189,  487362,  911990,   85019,\n",
       "        944695, 2015085, 1475640, 1545176, 1936943, 1425236, 1437591,\n",
       "       1214666,   58143,  930253, 1812862, 1943882,  124005,   88689,\n",
       "       1810670, 1782709, 2240509, 1642624, 2156417, 2236673,  747866,\n",
       "        296052, 1356063, 1705252,  875861, 1661078,  473901,   31671,\n",
       "        756073, 1085834,  122494,  768616,  159446, 1946057,  358667,\n",
       "         86390,  816712, 2178852, 1212554, 1487019,  779953,  936242,\n",
       "        899307,   91723,  847854,  134837, 2218275, 1611315, 1616442,\n",
       "       2026708, 1562353,  210751,  821174, 1604217, 1085944,  990239,\n",
       "        382565, 2004154,  925157, 1206353, 1087287,  520271, 1883026,\n",
       "        735619, 2125886, 1215253,  999114, 1069579, 1371396, 1497452,\n",
       "       2141510,  922925,   56193, 2045667, 1883639,   28207, 2194510,\n",
       "        736136, 1207747, 1890895,  900326,  101117, 1800818,  367860,\n",
       "        177231, 1060416, 1357195, 1812406, 2150071, 1227650,  706719,\n",
       "        531899,  113349,  485556,  908975, 2172727,  439774,  531899,\n",
       "       1675224,  691863,  297202, 1484483, 1500272, 1079782, 2133150,\n",
       "       1875584, 2019986,  160473, 1214111, 1064432, 1398922,  225336,\n",
       "        212787,   46312,  853136, 1089126,  532280, 1480251, 1416852,\n",
       "        934514, 1552930,  409376, 1090632, 1077185,   31083, 1350583,\n",
       "        868891, 1620282, 2189571,  191503, 1514729, 1949286,   60072,\n",
       "       1063372, 1480007, 1610033, 1070469,  545614,  288485, 1745845,\n",
       "        471228,  924082, 1479366,  499508, 1733328,  500986, 1246056,\n",
       "        503623,  477051, 1179075,  502119,   30677,  356077,  251181,\n",
       "       2125886,  847885,  161659,  898760, 1215818, 1080053, 1544888,\n",
       "        818082, 1414271,  470296,  737572, 2216730, 1785191,  456240,\n",
       "       1706989,  673519, 2007267, 2254339,  983021,  604053,   86511,\n",
       "        860646, 1520975, 1702228, 1861987, 2111811,  471570,  906491,\n",
       "         55671, 2222183, 1090632, 1623659, 1077793,  979809, 1068125,\n",
       "         57295, 1068586, 1349765, 1899577, 1749663,  449255,  678325,\n",
       "        486770,  538510, 1484197, 1053757, 1632334, 1497447, 2263525,\n",
       "        901388, 1076577,  633222,  133441, 1086494, 1785925, 1622989,\n",
       "        422385, 1323234,  383510, 1750385,  471725, 1383635, 1868368,\n",
       "        108911,  474302,  622359, 2154902,  635558, 1372928, 1930477,\n",
       "       1652378, 1883047,  904317,  578199,  603189, 1772526, 1779259,\n",
       "       2043261, 1265855,  707005, 1692893, 1645789, 2004728,  822885,\n",
       "        775533,  292742,  779694, 1363106, 2079622, 2221728, 2129616,\n",
       "       2240224, 1279228,  805258,  122956, 1509173, 1172230,  175647,\n",
       "       1356503,  439002, 2268260, 1500086,  100308, 1221521,  794986,\n",
       "       1096950,  902705, 1882013, 2012509, 1221779,  504912,  908163,\n",
       "        694135, 1371217, 1211068,  377058, 1741928,  358087, 1882357,\n",
       "        378745, 1277189,  292339, 1397981,  912528,  897149,  456686,\n",
       "       1167651, 1528246,  379616,  396712,   24639,  800163,  264017,\n",
       "        179920, 1207605, 1488796,     529, 1095964,  581500, 1221091,\n",
       "       1914301, 1908583, 1620823,  548899,  109755, 2183920,  706722,\n",
       "       1892539, 1479931, 1650851, 1344441, 1438245, 1468444, 1630552,\n",
       "         31441,  102914,  312114,  771911,  807933, 1381481, 1340200,\n",
       "       1385649,  230134, 1409436, 1050529, 1670326,  924054, 1775592,\n",
       "       1373717,  655782,  410741, 1617961,  538673, 1183355,  471197,\n",
       "        502542, 1611996,   93733, 1053341, 1553010,  921224, 1213293,\n",
       "        605735, 1643486, 1750222, 1606063,  338855, 1931559,  910101,\n",
       "        299187,  606005, 2261989, 1088646,  925462,  209097,   55374,\n",
       "        235253,  723675,  371603,  293228, 2031090,  950129, 1080185,\n",
       "         57301, 2150590,  138839,  938677,  220712,  472504,  111033,\n",
       "       1644347, 1621406,   97391,  370903,  232012,  496519,  855940,\n",
       "       1370961, 1748209,  109667,  373528,  949090,  938689,  426113,\n",
       "       2008218, 1217651,  845482, 1486205,  389346,  695403,  439969,\n",
       "        862829,  294705,  933024,  963176, 1343702, 1756312, 1083677,\n",
       "        859847, 2125438, 1081706, 1514730, 1081332, 1000911,  344567,\n",
       "       1107546, 1511685, 2031947, 1996207,  608545, 1605200, 1214271,\n",
       "       1360002,  567100, 1393372, 1759521,  231750,  263036,  671249,\n",
       "        905890, 2224119, 1219477,  799663, 1643613,  608528,  324032,\n",
       "        502315,  300478,  548851, 2004371,  113525, 1640349, 2268217,\n",
       "       2062075, 2026917,  624866, 1733989, 1365331, 2039992, 2005252,\n",
       "       1881097, 1369181,  551857, 1738247,  635663, 1413022,  903583,\n",
       "       2031861,  795813,  907263, 1059238,  110798,  673376,  848775,\n",
       "        630277, 1740294, 1214008,  549630, 1095229, 1201482,  457113,\n",
       "        913999,  316813,  160100,  358024,  548862,  191520, 1755532,\n",
       "        243555,  151964, 1499622, 1874386, 1742092, 2036301, 1078190,\n",
       "       2198803, 1051171,  694698, 1112371,  231268,  808898, 1614076,\n",
       "         27962, 1094732,  765203,  501980, 1976662,  485270,  536964,\n",
       "       1624024, 1810956, 1382161,  925246, 1358792, 2046208, 1357256,\n",
       "       1495771, 1235198,  846132, 2011009,  822506, 2041251, 1895284,\n",
       "       1112277,  816659, 1063180, 1122014,  929177, 1409802,  787181,\n",
       "       2123492, 2223896, 1078791, 1761826,  421658, 1493932], dtype=int64)"
      ]
     },
     "execution_count": 53,
     "metadata": {},
     "output_type": "execute_result"
    }
   ],
   "source": [
    "oversampled_minority_indices"
   ]
  },
  {
   "cell_type": "code",
   "execution_count": 54,
   "id": "a5cd77e8",
   "metadata": {},
   "outputs": [
    {
     "data": {
      "text/plain": [
       "1000"
      ]
     },
     "execution_count": 54,
     "metadata": {},
     "output_type": "execute_result"
    }
   ],
   "source": [
    "len(oversampled_minority_indices)"
   ]
  },
  {
   "cell_type": "code",
   "execution_count": 55,
   "id": "c52ff4b2",
   "metadata": {},
   "outputs": [
    {
     "data": {
      "text/plain": [
       "numpy.ndarray"
      ]
     },
     "execution_count": 55,
     "metadata": {},
     "output_type": "execute_result"
    }
   ],
   "source": [
    "type(oversampled_minority_indices)"
   ]
  },
  {
   "cell_type": "code",
   "execution_count": 56,
   "id": "8bb7838c",
   "metadata": {},
   "outputs": [
    {
     "data": {
      "text/plain": [
       "pandas.core.frame.DataFrame"
      ]
     },
     "execution_count": 56,
     "metadata": {},
     "output_type": "execute_result"
    }
   ],
   "source": [
    "type(X_train)"
   ]
  },
  {
   "cell_type": "code",
   "execution_count": 57,
   "id": "74611d6a",
   "metadata": {},
   "outputs": [
    {
     "data": {
      "text/plain": [
       "pandas.core.series.Series"
      ]
     },
     "execution_count": 57,
     "metadata": {},
     "output_type": "execute_result"
    }
   ],
   "source": [
    "type(y_train)"
   ]
  },
  {
   "cell_type": "code",
   "execution_count": 58,
   "id": "a3408116",
   "metadata": {},
   "outputs": [
    {
     "data": {
      "text/plain": [
       "529"
      ]
     },
     "execution_count": 58,
     "metadata": {},
     "output_type": "execute_result"
    }
   ],
   "source": [
    "oversampled_minority_indices.min()"
   ]
  },
  {
   "cell_type": "code",
   "execution_count": 59,
   "id": "317ebb01",
   "metadata": {},
   "outputs": [
    {
     "data": {
      "text/plain": [
       "2290055"
      ]
     },
     "execution_count": 59,
     "metadata": {},
     "output_type": "execute_result"
    }
   ],
   "source": [
    "oversampled_minority_indices.max()"
   ]
  },
  {
   "cell_type": "code",
   "execution_count": 60,
   "id": "f727a4c3",
   "metadata": {},
   "outputs": [
    {
     "data": {
      "text/plain": [
       "Int64Index([  91137, 1356597, 1758289,  986096, 1702148, 1910788, 2290055,\n",
       "            1777180, 2257475, 1414329,\n",
       "            ...\n",
       "            1122014,  929177, 1409802,  787181, 2123492, 2223896, 1078791,\n",
       "            1761826,  421658, 1493932],\n",
       "           dtype='int64', length=990)"
      ]
     },
     "execution_count": 60,
     "metadata": {},
     "output_type": "execute_result"
    }
   ],
   "source": [
    "pd.Index(oversampled_minority_indices).drop_duplicates()"
   ]
  },
  {
   "cell_type": "code",
   "execution_count": 61,
   "id": "411420af",
   "metadata": {},
   "outputs": [
    {
     "data": {
      "text/plain": [
       "0"
      ]
     },
     "execution_count": 61,
     "metadata": {},
     "output_type": "execute_result"
    }
   ],
   "source": [
    "X_train.index.min()"
   ]
  },
  {
   "cell_type": "code",
   "execution_count": 62,
   "id": "49430ce1",
   "metadata": {},
   "outputs": [
    {
     "data": {
      "text/plain": [
       "2291796"
      ]
     },
     "execution_count": 62,
     "metadata": {},
     "output_type": "execute_result"
    }
   ],
   "source": [
    "X_train.index.max()"
   ]
  },
  {
   "cell_type": "code",
   "execution_count": 63,
   "id": "dc630ba0",
   "metadata": {},
   "outputs": [
    {
     "data": {
      "text/html": [
       "<div>\n",
       "<style scoped>\n",
       "    .dataframe tbody tr th:only-of-type {\n",
       "        vertical-align: middle;\n",
       "    }\n",
       "\n",
       "    .dataframe tbody tr th {\n",
       "        vertical-align: top;\n",
       "    }\n",
       "\n",
       "    .dataframe thead th {\n",
       "        text-align: right;\n",
       "    }\n",
       "</style>\n",
       "<table border=\"1\" class=\"dataframe\">\n",
       "  <thead>\n",
       "    <tr style=\"text-align: right;\">\n",
       "      <th></th>\n",
       "      <th>place</th>\n",
       "      <th>sexe</th>\n",
       "      <th>nbv</th>\n",
       "      <th>vosp</th>\n",
       "      <th>manv</th>\n",
       "      <th>catv_Label</th>\n",
       "      <th>agg</th>\n",
       "      <th>com</th>\n",
       "      <th>dep</th>\n",
       "      <th>heure</th>\n",
       "      <th>...</th>\n",
       "      <th>col_Sans collision</th>\n",
       "      <th>col_Trois véhicules et plus - collisions multiples</th>\n",
       "      <th>col_Trois véhicules et plus – en chaîne</th>\n",
       "      <th>jour_de_la_semaine_Dimanche</th>\n",
       "      <th>jour_de_la_semaine_Jeudi</th>\n",
       "      <th>jour_de_la_semaine_Lundi</th>\n",
       "      <th>jour_de_la_semaine_Mardi</th>\n",
       "      <th>jour_de_la_semaine_Mercredi</th>\n",
       "      <th>jour_de_la_semaine_Samedi</th>\n",
       "      <th>jour_de_la_semaine_Vendredi</th>\n",
       "    </tr>\n",
       "  </thead>\n",
       "  <tbody>\n",
       "    <tr>\n",
       "      <th>2267456</th>\n",
       "      <td>2.0</td>\n",
       "      <td>0</td>\n",
       "      <td>2.0</td>\n",
       "      <td>0</td>\n",
       "      <td>0.109695</td>\n",
       "      <td>0.051384</td>\n",
       "      <td>1</td>\n",
       "      <td>0.000010</td>\n",
       "      <td>0.009388</td>\n",
       "      <td>14</td>\n",
       "      <td>...</td>\n",
       "      <td>0</td>\n",
       "      <td>0</td>\n",
       "      <td>0</td>\n",
       "      <td>0</td>\n",
       "      <td>0</td>\n",
       "      <td>0</td>\n",
       "      <td>0</td>\n",
       "      <td>0</td>\n",
       "      <td>0</td>\n",
       "      <td>1</td>\n",
       "    </tr>\n",
       "    <tr>\n",
       "      <th>1684613</th>\n",
       "      <td>1.0</td>\n",
       "      <td>1</td>\n",
       "      <td>4.0</td>\n",
       "      <td>0</td>\n",
       "      <td>0.109695</td>\n",
       "      <td>0.651106</td>\n",
       "      <td>0</td>\n",
       "      <td>0.000267</td>\n",
       "      <td>0.021840</td>\n",
       "      <td>17</td>\n",
       "      <td>...</td>\n",
       "      <td>0</td>\n",
       "      <td>0</td>\n",
       "      <td>0</td>\n",
       "      <td>0</td>\n",
       "      <td>0</td>\n",
       "      <td>0</td>\n",
       "      <td>0</td>\n",
       "      <td>0</td>\n",
       "      <td>0</td>\n",
       "      <td>1</td>\n",
       "    </tr>\n",
       "    <tr>\n",
       "      <th>1999446</th>\n",
       "      <td>2.0</td>\n",
       "      <td>0</td>\n",
       "      <td>0.0</td>\n",
       "      <td>0</td>\n",
       "      <td>0.032610</td>\n",
       "      <td>0.071721</td>\n",
       "      <td>1</td>\n",
       "      <td>0.003850</td>\n",
       "      <td>0.006918</td>\n",
       "      <td>11</td>\n",
       "      <td>...</td>\n",
       "      <td>0</td>\n",
       "      <td>0</td>\n",
       "      <td>0</td>\n",
       "      <td>0</td>\n",
       "      <td>0</td>\n",
       "      <td>0</td>\n",
       "      <td>1</td>\n",
       "      <td>0</td>\n",
       "      <td>0</td>\n",
       "      <td>0</td>\n",
       "    </tr>\n",
       "    <tr>\n",
       "      <th>1653900</th>\n",
       "      <td>1.0</td>\n",
       "      <td>1</td>\n",
       "      <td>2.0</td>\n",
       "      <td>1</td>\n",
       "      <td>0.020620</td>\n",
       "      <td>0.651106</td>\n",
       "      <td>1</td>\n",
       "      <td>0.009663</td>\n",
       "      <td>0.016662</td>\n",
       "      <td>10</td>\n",
       "      <td>...</td>\n",
       "      <td>0</td>\n",
       "      <td>0</td>\n",
       "      <td>0</td>\n",
       "      <td>0</td>\n",
       "      <td>0</td>\n",
       "      <td>0</td>\n",
       "      <td>0</td>\n",
       "      <td>1</td>\n",
       "      <td>0</td>\n",
       "      <td>0</td>\n",
       "    </tr>\n",
       "    <tr>\n",
       "      <th>550308</th>\n",
       "      <td>2.0</td>\n",
       "      <td>0</td>\n",
       "      <td>2.0</td>\n",
       "      <td>0</td>\n",
       "      <td>0.455666</td>\n",
       "      <td>0.651106</td>\n",
       "      <td>1</td>\n",
       "      <td>0.001114</td>\n",
       "      <td>0.004734</td>\n",
       "      <td>20</td>\n",
       "      <td>...</td>\n",
       "      <td>0</td>\n",
       "      <td>0</td>\n",
       "      <td>0</td>\n",
       "      <td>0</td>\n",
       "      <td>0</td>\n",
       "      <td>0</td>\n",
       "      <td>0</td>\n",
       "      <td>0</td>\n",
       "      <td>0</td>\n",
       "      <td>1</td>\n",
       "    </tr>\n",
       "    <tr>\n",
       "      <th>...</th>\n",
       "      <td>...</td>\n",
       "      <td>...</td>\n",
       "      <td>...</td>\n",
       "      <td>...</td>\n",
       "      <td>...</td>\n",
       "      <td>...</td>\n",
       "      <td>...</td>\n",
       "      <td>...</td>\n",
       "      <td>...</td>\n",
       "      <td>...</td>\n",
       "      <td>...</td>\n",
       "      <td>...</td>\n",
       "      <td>...</td>\n",
       "      <td>...</td>\n",
       "      <td>...</td>\n",
       "      <td>...</td>\n",
       "      <td>...</td>\n",
       "      <td>...</td>\n",
       "      <td>...</td>\n",
       "      <td>...</td>\n",
       "      <td>...</td>\n",
       "    </tr>\n",
       "    <tr>\n",
       "      <th>732186</th>\n",
       "      <td>0.0</td>\n",
       "      <td>1</td>\n",
       "      <td>3.0</td>\n",
       "      <td>0</td>\n",
       "      <td>0.455666</td>\n",
       "      <td>0.084295</td>\n",
       "      <td>1</td>\n",
       "      <td>0.006694</td>\n",
       "      <td>0.092927</td>\n",
       "      <td>10</td>\n",
       "      <td>...</td>\n",
       "      <td>0</td>\n",
       "      <td>0</td>\n",
       "      <td>0</td>\n",
       "      <td>0</td>\n",
       "      <td>0</td>\n",
       "      <td>0</td>\n",
       "      <td>0</td>\n",
       "      <td>0</td>\n",
       "      <td>1</td>\n",
       "      <td>0</td>\n",
       "    </tr>\n",
       "    <tr>\n",
       "      <th>110274</th>\n",
       "      <td>1.0</td>\n",
       "      <td>1</td>\n",
       "      <td>2.0</td>\n",
       "      <td>0</td>\n",
       "      <td>0.082017</td>\n",
       "      <td>0.003601</td>\n",
       "      <td>1</td>\n",
       "      <td>0.008847</td>\n",
       "      <td>0.010058</td>\n",
       "      <td>18</td>\n",
       "      <td>...</td>\n",
       "      <td>0</td>\n",
       "      <td>0</td>\n",
       "      <td>0</td>\n",
       "      <td>0</td>\n",
       "      <td>0</td>\n",
       "      <td>0</td>\n",
       "      <td>0</td>\n",
       "      <td>1</td>\n",
       "      <td>0</td>\n",
       "      <td>0</td>\n",
       "    </tr>\n",
       "    <tr>\n",
       "      <th>1692769</th>\n",
       "      <td>1.0</td>\n",
       "      <td>1</td>\n",
       "      <td>3.0</td>\n",
       "      <td>0</td>\n",
       "      <td>0.455666</td>\n",
       "      <td>0.651106</td>\n",
       "      <td>1</td>\n",
       "      <td>0.004218</td>\n",
       "      <td>0.041958</td>\n",
       "      <td>6</td>\n",
       "      <td>...</td>\n",
       "      <td>0</td>\n",
       "      <td>0</td>\n",
       "      <td>0</td>\n",
       "      <td>0</td>\n",
       "      <td>0</td>\n",
       "      <td>1</td>\n",
       "      <td>0</td>\n",
       "      <td>0</td>\n",
       "      <td>0</td>\n",
       "      <td>0</td>\n",
       "    </tr>\n",
       "    <tr>\n",
       "      <th>2229139</th>\n",
       "      <td>1.0</td>\n",
       "      <td>1</td>\n",
       "      <td>1.0</td>\n",
       "      <td>0</td>\n",
       "      <td>0.455666</td>\n",
       "      <td>0.071721</td>\n",
       "      <td>1</td>\n",
       "      <td>0.000354</td>\n",
       "      <td>0.092927</td>\n",
       "      <td>22</td>\n",
       "      <td>...</td>\n",
       "      <td>0</td>\n",
       "      <td>0</td>\n",
       "      <td>0</td>\n",
       "      <td>0</td>\n",
       "      <td>0</td>\n",
       "      <td>0</td>\n",
       "      <td>1</td>\n",
       "      <td>0</td>\n",
       "      <td>0</td>\n",
       "      <td>0</td>\n",
       "    </tr>\n",
       "    <tr>\n",
       "      <th>2219164</th>\n",
       "      <td>2.0</td>\n",
       "      <td>1</td>\n",
       "      <td>2.0</td>\n",
       "      <td>0</td>\n",
       "      <td>0.002545</td>\n",
       "      <td>0.651106</td>\n",
       "      <td>1</td>\n",
       "      <td>0.000007</td>\n",
       "      <td>0.012329</td>\n",
       "      <td>13</td>\n",
       "      <td>...</td>\n",
       "      <td>0</td>\n",
       "      <td>0</td>\n",
       "      <td>0</td>\n",
       "      <td>0</td>\n",
       "      <td>0</td>\n",
       "      <td>0</td>\n",
       "      <td>0</td>\n",
       "      <td>0</td>\n",
       "      <td>0</td>\n",
       "      <td>1</td>\n",
       "    </tr>\n",
       "  </tbody>\n",
       "</table>\n",
       "<p>1833391 rows × 194 columns</p>\n",
       "</div>"
      ],
      "text/plain": [
       "        place  sexe  nbv  vosp      manv catv_Label agg       com       dep  \\\n",
       "2267456   2.0     0  2.0     0  0.109695   0.051384   1  0.000010  0.009388   \n",
       "1684613   1.0     1  4.0     0  0.109695   0.651106   0  0.000267  0.021840   \n",
       "1999446   2.0     0  0.0     0  0.032610   0.071721   1  0.003850  0.006918   \n",
       "1653900   1.0     1  2.0     1  0.020620   0.651106   1  0.009663  0.016662   \n",
       "550308    2.0     0  2.0     0  0.455666   0.651106   1  0.001114  0.004734   \n",
       "...       ...   ...  ...   ...       ...        ...  ..       ...       ...   \n",
       "732186    0.0     1  3.0     0  0.455666   0.084295   1  0.006694  0.092927   \n",
       "110274    1.0     1  2.0     0  0.082017   0.003601   1  0.008847  0.010058   \n",
       "1692769   1.0     1  3.0     0  0.455666   0.651106   1  0.004218  0.041958   \n",
       "2229139   1.0     1  1.0     0  0.455666   0.071721   1  0.000354  0.092927   \n",
       "2219164   2.0     1  2.0     0  0.002545   0.651106   1  0.000007  0.012329   \n",
       "\n",
       "        heure  ...  col_Sans collision  \\\n",
       "2267456    14  ...                   0   \n",
       "1684613    17  ...                   0   \n",
       "1999446    11  ...                   0   \n",
       "1653900    10  ...                   0   \n",
       "550308     20  ...                   0   \n",
       "...       ...  ...                 ...   \n",
       "732186     10  ...                   0   \n",
       "110274     18  ...                   0   \n",
       "1692769     6  ...                   0   \n",
       "2229139    22  ...                   0   \n",
       "2219164    13  ...                   0   \n",
       "\n",
       "         col_Trois véhicules et plus - collisions multiples  \\\n",
       "2267456                                                  0    \n",
       "1684613                                                  0    \n",
       "1999446                                                  0    \n",
       "1653900                                                  0    \n",
       "550308                                                   0    \n",
       "...                                                    ...    \n",
       "732186                                                   0    \n",
       "110274                                                   0    \n",
       "1692769                                                  0    \n",
       "2229139                                                  0    \n",
       "2219164                                                  0    \n",
       "\n",
       "         col_Trois véhicules et plus – en chaîne  jour_de_la_semaine_Dimanche  \\\n",
       "2267456                                        0                            0   \n",
       "1684613                                        0                            0   \n",
       "1999446                                        0                            0   \n",
       "1653900                                        0                            0   \n",
       "550308                                         0                            0   \n",
       "...                                          ...                          ...   \n",
       "732186                                         0                            0   \n",
       "110274                                         0                            0   \n",
       "1692769                                        0                            0   \n",
       "2229139                                        0                            0   \n",
       "2219164                                        0                            0   \n",
       "\n",
       "         jour_de_la_semaine_Jeudi  jour_de_la_semaine_Lundi  \\\n",
       "2267456                         0                         0   \n",
       "1684613                         0                         0   \n",
       "1999446                         0                         0   \n",
       "1653900                         0                         0   \n",
       "550308                          0                         0   \n",
       "...                           ...                       ...   \n",
       "732186                          0                         0   \n",
       "110274                          0                         0   \n",
       "1692769                         0                         1   \n",
       "2229139                         0                         0   \n",
       "2219164                         0                         0   \n",
       "\n",
       "         jour_de_la_semaine_Mardi  jour_de_la_semaine_Mercredi  \\\n",
       "2267456                         0                            0   \n",
       "1684613                         0                            0   \n",
       "1999446                         1                            0   \n",
       "1653900                         0                            1   \n",
       "550308                          0                            0   \n",
       "...                           ...                          ...   \n",
       "732186                          0                            0   \n",
       "110274                          0                            1   \n",
       "1692769                         0                            0   \n",
       "2229139                         1                            0   \n",
       "2219164                         0                            0   \n",
       "\n",
       "         jour_de_la_semaine_Samedi  jour_de_la_semaine_Vendredi  \n",
       "2267456                          0                            1  \n",
       "1684613                          0                            1  \n",
       "1999446                          0                            0  \n",
       "1653900                          0                            0  \n",
       "550308                           0                            1  \n",
       "...                            ...                          ...  \n",
       "732186                           1                            0  \n",
       "110274                           0                            0  \n",
       "1692769                          0                            0  \n",
       "2229139                          0                            0  \n",
       "2219164                          0                            1  \n",
       "\n",
       "[1833391 rows x 194 columns]"
      ]
     },
     "execution_count": 63,
     "metadata": {},
     "output_type": "execute_result"
    }
   ],
   "source": [
    "X_train"
   ]
  },
  {
   "cell_type": "code",
   "execution_count": 64,
   "id": "612babbd",
   "metadata": {},
   "outputs": [
    {
     "data": {
      "text/plain": [
       "Int64Index([2267456, 1684613, 1999446, 1653900,  550308, 1101044, 1218004,\n",
       "             624402,  417986,  522601,\n",
       "            ...\n",
       "            2272412, 1136086, 2003315, 1570032, 2234544,  732186,  110274,\n",
       "            1692769, 2229139, 2219164],\n",
       "           dtype='int64', length=1833391)"
      ]
     },
     "execution_count": 64,
     "metadata": {},
     "output_type": "execute_result"
    }
   ],
   "source": [
    "X_train.index"
   ]
  },
  {
   "cell_type": "code",
   "execution_count": 65,
   "id": "d9de06cf",
   "metadata": {},
   "outputs": [
    {
     "data": {
      "text/plain": [
       "2267456"
      ]
     },
     "execution_count": 65,
     "metadata": {},
     "output_type": "execute_result"
    }
   ],
   "source": [
    "X_train.index[0]"
   ]
  },
  {
   "cell_type": "code",
   "execution_count": 66,
   "id": "4849bcf9",
   "metadata": {},
   "outputs": [
    {
     "data": {
      "text/plain": [
       "2219164"
      ]
     },
     "execution_count": 66,
     "metadata": {},
     "output_type": "execute_result"
    }
   ],
   "source": [
    "X_train.index[1833390]"
   ]
  },
  {
   "cell_type": "code",
   "execution_count": 67,
   "id": "e1278cfe",
   "metadata": {},
   "outputs": [
    {
     "data": {
      "text/plain": [
       "[91137,\n",
       " 1356597,\n",
       " 1758289,\n",
       " 986096,\n",
       " 1702148,\n",
       " 1910788,\n",
       " 2290055,\n",
       " 1777180,\n",
       " 2257475,\n",
       " 1414329,\n",
       " 1643787,\n",
       " 1089903,\n",
       " 1621351,\n",
       " 1050857,\n",
       " 291412,\n",
       " 176674,\n",
       " 2167914,\n",
       " 1096148,\n",
       " 478257,\n",
       " 2077024,\n",
       " 707719,\n",
       " 1349104,\n",
       " 2209663,\n",
       " 1800220,\n",
       " 1517081,\n",
       " 2216911,\n",
       " 1513583,\n",
       " 1350432,\n",
       " 1996518,\n",
       " 2185543,\n",
       " 1743027,\n",
       " 446047,\n",
       " 664497,\n",
       " 124963,\n",
       " 928451,\n",
       " 1608148,\n",
       " 722213,\n",
       " 57347,\n",
       " 1901709,\n",
       " 1027097,\n",
       " 1621809,\n",
       " 721396,\n",
       " 980816,\n",
       " 1416366,\n",
       " 1199093,\n",
       " 1451248,\n",
       " 101246,\n",
       " 1072620,\n",
       " 1815461,\n",
       " 927289,\n",
       " 296775,\n",
       " 1899775,\n",
       " 346188,\n",
       " 194798,\n",
       " 293647,\n",
       " 487698,\n",
       " 2051920,\n",
       " 300030,\n",
       " 388086,\n",
       " 1078514,\n",
       " 444964,\n",
       " 319086,\n",
       " 1481164,\n",
       " 979143,\n",
       " 1996467,\n",
       " 752216,\n",
       " 1904971,\n",
       " 1246707,\n",
       " 862174,\n",
       " 760656,\n",
       " 233043,\n",
       " 1708831,\n",
       " 74678,\n",
       " 874190,\n",
       " 825996,\n",
       " 1905965,\n",
       " 773018,\n",
       " 906491,\n",
       " 1800001,\n",
       " 1351668,\n",
       " 431970,\n",
       " 708574,\n",
       " 609000,\n",
       " 1779152,\n",
       " 1078672,\n",
       " 1251539,\n",
       " 994219,\n",
       " 676269,\n",
       " 4671,\n",
       " 859941,\n",
       " 1651847,\n",
       " 1770649,\n",
       " 296879,\n",
       " 150412,\n",
       " 748167,\n",
       " 2195056,\n",
       " 632974,\n",
       " 1631750,\n",
       " 2181444,\n",
       " 2257091,\n",
       " 1485842,\n",
       " 141282,\n",
       " 217786,\n",
       " 1861511,\n",
       " 908369,\n",
       " 929169,\n",
       " 936504,\n",
       " 1774907,\n",
       " 1479855,\n",
       " 2236865,\n",
       " 2083202,\n",
       " 1751439,\n",
       " 751493,\n",
       " 1356592,\n",
       " 849413,\n",
       " 1661235,\n",
       " 2250050,\n",
       " 294313,\n",
       " 863505,\n",
       " 1353024,\n",
       " 1873442,\n",
       " 576049,\n",
       " 545619,\n",
       " 544591,\n",
       " 1749873,\n",
       " 1132367,\n",
       " 1054424,\n",
       " 85315,\n",
       " 1315620,\n",
       " 2236007,\n",
       " 1280579,\n",
       " 357657,\n",
       " 1348948,\n",
       " 773456,\n",
       " 909557,\n",
       " 2145710,\n",
       " 1550594,\n",
       " 1085570,\n",
       " 229955,\n",
       " 1610116,\n",
       " 707148,\n",
       " 770045,\n",
       " 496519,\n",
       " 426038,\n",
       " 522781,\n",
       " 1066579,\n",
       " 721635,\n",
       " 911009,\n",
       " 1742021,\n",
       " 905411,\n",
       " 161382,\n",
       " 1714648,\n",
       " 1880602,\n",
       " 1902886,\n",
       " 1737241,\n",
       " 57050,\n",
       " 359486,\n",
       " 940812,\n",
       " 422739,\n",
       " 809265,\n",
       " 537839,\n",
       " 1605839,\n",
       " 1771455,\n",
       " 483404,\n",
       " 2016447,\n",
       " 1882395,\n",
       " 1339737,\n",
       " 486449,\n",
       " 933157,\n",
       " 919728,\n",
       " 236665,\n",
       " 2218247,\n",
       " 1208785,\n",
       " 907049,\n",
       " 1898724,\n",
       " 1075370,\n",
       " 1651096,\n",
       " 2066738,\n",
       " 1067102,\n",
       " 1752622,\n",
       " 1734268,\n",
       " 1488807,\n",
       " 909756,\n",
       " 1261411,\n",
       " 762921,\n",
       " 87187,\n",
       " 1076973,\n",
       " 2245274,\n",
       " 934192,\n",
       " 2128707,\n",
       " 1077706,\n",
       " 911534,\n",
       " 739795,\n",
       " 519286,\n",
       " 672508,\n",
       " 1773590,\n",
       " 2166448,\n",
       " 1079185,\n",
       " 2011015,\n",
       " 756174,\n",
       " 2229340,\n",
       " 1953741,\n",
       " 1058538,\n",
       " 918900,\n",
       " 582620,\n",
       " 948816,\n",
       " 1244993,\n",
       " 29311,\n",
       " 854142,\n",
       " 123901,\n",
       " 550617,\n",
       " 767523,\n",
       " 291456,\n",
       " 1032358,\n",
       " 1871537,\n",
       " 1211417,\n",
       " 1643976,\n",
       " 109753,\n",
       " 752360,\n",
       " 2065928,\n",
       " 596215,\n",
       " 263611,\n",
       " 1090239,\n",
       " 91158,\n",
       " 1356592,\n",
       " 2189643,\n",
       " 1109530,\n",
       " 362891,\n",
       " 817803,\n",
       " 309963,\n",
       " 1357109,\n",
       " 876995,\n",
       " 189509,\n",
       " 1280929,\n",
       " 1709000,\n",
       " 54355,\n",
       " 1492891,\n",
       " 1900756,\n",
       " 1905871,\n",
       " 1871645,\n",
       " 946436,\n",
       " 1062627,\n",
       " 849731,\n",
       " 1714189,\n",
       " 57019,\n",
       " 1109842,\n",
       " 2071531,\n",
       " 1474187,\n",
       " 545062,\n",
       " 198553,\n",
       " 529219,\n",
       " 1096198,\n",
       " 1381605,\n",
       " 503693,\n",
       " 1640975,\n",
       " 163758,\n",
       " 2251001,\n",
       " 163649,\n",
       " 1175634,\n",
       " 2010362,\n",
       " 310379,\n",
       " 2136372,\n",
       " 312114,\n",
       " 410209,\n",
       " 193623,\n",
       " 1250847,\n",
       " 395620,\n",
       " 1882983,\n",
       " 1948486,\n",
       " 1064747,\n",
       " 1491216,\n",
       " 1640903,\n",
       " 1090630,\n",
       " 963205,\n",
       " 1875721,\n",
       " 1743383,\n",
       " 1943282,\n",
       " 1092891,\n",
       " 1365039,\n",
       " 553383,\n",
       " 894170,\n",
       " 299334,\n",
       " 687314,\n",
       " 305251,\n",
       " 569690,\n",
       " 916686,\n",
       " 437729,\n",
       " 1509173,\n",
       " 206912,\n",
       " 2197544,\n",
       " 1608683,\n",
       " 791185,\n",
       " 732361,\n",
       " 1065476,\n",
       " 1783987,\n",
       " 1181438,\n",
       " 734772,\n",
       " 2015446,\n",
       " 1609209,\n",
       " 2256052,\n",
       " 1488790,\n",
       " 259196,\n",
       " 455947,\n",
       " 923073,\n",
       " 674645,\n",
       " 288739,\n",
       " 1910354,\n",
       " 60142,\n",
       " 1212012,\n",
       " 692065,\n",
       " 29507,\n",
       " 1609533,\n",
       " 1640778,\n",
       " 211298,\n",
       " 2016571,\n",
       " 1760095,\n",
       " 425199,\n",
       " 1401244,\n",
       " 2072041,\n",
       " 1743371,\n",
       " 977573,\n",
       " 1235433,\n",
       " 1754573,\n",
       " 1232814,\n",
       " 2007485,\n",
       " 1428329,\n",
       " 1069593,\n",
       " 360009,\n",
       " 1348873,\n",
       " 1224904,\n",
       " 1082660,\n",
       " 1893732,\n",
       " 1257577,\n",
       " 953683,\n",
       " 1427151,\n",
       " 1068213,\n",
       " 1372009,\n",
       " 1215504,\n",
       " 911573,\n",
       " 23147,\n",
       " 1257016,\n",
       " 845693,\n",
       " 1212630,\n",
       " 407839,\n",
       " 329974,\n",
       " 1434149,\n",
       " 830712,\n",
       " 980630,\n",
       " 1748310,\n",
       " 1483237,\n",
       " 1771236,\n",
       " 2285200,\n",
       " 959223,\n",
       " 606723,\n",
       " 1080637,\n",
       " 29420,\n",
       " 1885073,\n",
       " 1862802,\n",
       " 2027728,\n",
       " 111679,\n",
       " 1342745,\n",
       " 631179,\n",
       " 2080872,\n",
       " 635653,\n",
       " 825176,\n",
       " 929362,\n",
       " 472082,\n",
       " 2151580,\n",
       " 178495,\n",
       " 1644749,\n",
       " 516729,\n",
       " 2227842,\n",
       " 328831,\n",
       " 2263888,\n",
       " 1240036,\n",
       " 2276061,\n",
       " 2028434,\n",
       " 143953,\n",
       " 1088343,\n",
       " 722946,\n",
       " 235420,\n",
       " 52630,\n",
       " 1450045,\n",
       " 1359466,\n",
       " 1124438,\n",
       " 1359635,\n",
       " 2009235,\n",
       " 471353,\n",
       " 581511,\n",
       " 1016153,\n",
       " 197553,\n",
       " 2246393,\n",
       " 1622440,\n",
       " 1710648,\n",
       " 652296,\n",
       " 9154,\n",
       " 2014445,\n",
       " 1209112,\n",
       " 586519,\n",
       " 1226786,\n",
       " 441698,\n",
       " 1090045,\n",
       " 94578,\n",
       " 1064972,\n",
       " 752273,\n",
       " 738408,\n",
       " 1206649,\n",
       " 1250135,\n",
       " 723670,\n",
       " 1612046,\n",
       " 1493482,\n",
       " 359925,\n",
       " 442822,\n",
       " 1861665,\n",
       " 89504,\n",
       " 556095,\n",
       " 904319,\n",
       " 1552797,\n",
       " 1637674,\n",
       " 830063,\n",
       " 1753978,\n",
       " 1069195,\n",
       " 494275,\n",
       " 1442590,\n",
       " 1299210,\n",
       " 550787,\n",
       " 1102202,\n",
       " 1365031,\n",
       " 1071379,\n",
       " 678281,\n",
       " 1779337,\n",
       " 517732,\n",
       " 1088908,\n",
       " 857860,\n",
       " 396819,\n",
       " 334900,\n",
       " 1066895,\n",
       " 2216911,\n",
       " 1885290,\n",
       " 142085,\n",
       " 126989,\n",
       " 1879893,\n",
       " 1468402,\n",
       " 1567386,\n",
       " 1528955,\n",
       " 1610268,\n",
       " 1480622,\n",
       " 355605,\n",
       " 1498422,\n",
       " 2028394,\n",
       " 361707,\n",
       " 1729147,\n",
       " 2068233,\n",
       " 1704323,\n",
       " 235973,\n",
       " 2019611,\n",
       " 59340,\n",
       " 1603588,\n",
       " 1425217,\n",
       " 898222,\n",
       " 2290055,\n",
       " 2260640,\n",
       " 2199293,\n",
       " 1488705,\n",
       " 1550533,\n",
       " 1552037,\n",
       " 1075400,\n",
       " 24592,\n",
       " 882900,\n",
       " 1781731,\n",
       " 1484666,\n",
       " 28626,\n",
       " 1528385,\n",
       " 1384386,\n",
       " 779491,\n",
       " 748553,\n",
       " 1630838,\n",
       " 2261897,\n",
       " 1217107,\n",
       " 210255,\n",
       " 2270510,\n",
       " 1610209,\n",
       " 210559,\n",
       " 125222,\n",
       " 248850,\n",
       " 1940513,\n",
       " 1090189,\n",
       " 487362,\n",
       " 911990,\n",
       " 85019,\n",
       " 944695,\n",
       " 2015085,\n",
       " 1475640,\n",
       " 1545176,\n",
       " 1936943,\n",
       " 1425236,\n",
       " 1437591,\n",
       " 1214666,\n",
       " 58143,\n",
       " 930253,\n",
       " 1812862,\n",
       " 1943882,\n",
       " 124005,\n",
       " 88689,\n",
       " 1810670,\n",
       " 1782709,\n",
       " 2240509,\n",
       " 1642624,\n",
       " 2156417,\n",
       " 2236673,\n",
       " 747866,\n",
       " 296052,\n",
       " 1356063,\n",
       " 1705252,\n",
       " 875861,\n",
       " 1661078,\n",
       " 473901,\n",
       " 31671,\n",
       " 756073,\n",
       " 1085834,\n",
       " 122494,\n",
       " 768616,\n",
       " 159446,\n",
       " 1946057,\n",
       " 358667,\n",
       " 86390,\n",
       " 816712,\n",
       " 2178852,\n",
       " 1212554,\n",
       " 1487019,\n",
       " 779953,\n",
       " 936242,\n",
       " 899307,\n",
       " 91723,\n",
       " 847854,\n",
       " 134837,\n",
       " 2218275,\n",
       " 1611315,\n",
       " 1616442,\n",
       " 2026708,\n",
       " 1562353,\n",
       " 210751,\n",
       " 821174,\n",
       " 1604217,\n",
       " 1085944,\n",
       " 990239,\n",
       " 382565,\n",
       " 2004154,\n",
       " 925157,\n",
       " 1206353,\n",
       " 1087287,\n",
       " 520271,\n",
       " 1883026,\n",
       " 735619,\n",
       " 2125886,\n",
       " 1215253,\n",
       " 999114,\n",
       " 1069579,\n",
       " 1371396,\n",
       " 1497452,\n",
       " 2141510,\n",
       " 922925,\n",
       " 56193,\n",
       " 2045667,\n",
       " 1883639,\n",
       " 28207,\n",
       " 2194510,\n",
       " 736136,\n",
       " 1207747,\n",
       " 1890895,\n",
       " 900326,\n",
       " 101117,\n",
       " 1800818,\n",
       " 367860,\n",
       " 177231,\n",
       " 1060416,\n",
       " 1357195,\n",
       " 1812406,\n",
       " 2150071,\n",
       " 1227650,\n",
       " 706719,\n",
       " 531899,\n",
       " 113349,\n",
       " 485556,\n",
       " 908975,\n",
       " 2172727,\n",
       " 439774,\n",
       " 531899,\n",
       " 1675224,\n",
       " 691863,\n",
       " 297202,\n",
       " 1484483,\n",
       " 1500272,\n",
       " 1079782,\n",
       " 2133150,\n",
       " 1875584,\n",
       " 2019986,\n",
       " 160473,\n",
       " 1214111,\n",
       " 1064432,\n",
       " 1398922,\n",
       " 225336,\n",
       " 212787,\n",
       " 46312,\n",
       " 853136,\n",
       " 1089126,\n",
       " 532280,\n",
       " 1480251,\n",
       " 1416852,\n",
       " 934514,\n",
       " 1552930,\n",
       " 409376,\n",
       " 1090632,\n",
       " 1077185,\n",
       " 31083,\n",
       " 1350583,\n",
       " 868891,\n",
       " 1620282,\n",
       " 2189571,\n",
       " 191503,\n",
       " 1514729,\n",
       " 1949286,\n",
       " 60072,\n",
       " 1063372,\n",
       " 1480007,\n",
       " 1610033,\n",
       " 1070469,\n",
       " 545614,\n",
       " 288485,\n",
       " 1745845,\n",
       " 471228,\n",
       " 924082,\n",
       " 1479366,\n",
       " 499508,\n",
       " 1733328,\n",
       " 500986,\n",
       " 1246056,\n",
       " 503623,\n",
       " 477051,\n",
       " 1179075,\n",
       " 502119,\n",
       " 30677,\n",
       " 356077,\n",
       " 251181,\n",
       " 2125886,\n",
       " 847885,\n",
       " 161659,\n",
       " 898760,\n",
       " 1215818,\n",
       " 1080053,\n",
       " 1544888,\n",
       " 818082,\n",
       " 1414271,\n",
       " 470296,\n",
       " 737572,\n",
       " 2216730,\n",
       " 1785191,\n",
       " 456240,\n",
       " 1706989,\n",
       " 673519,\n",
       " 2007267,\n",
       " 2254339,\n",
       " 983021,\n",
       " 604053,\n",
       " 86511,\n",
       " 860646,\n",
       " 1520975,\n",
       " 1702228,\n",
       " 1861987,\n",
       " 2111811,\n",
       " 471570,\n",
       " 906491,\n",
       " 55671,\n",
       " 2222183,\n",
       " 1090632,\n",
       " 1623659,\n",
       " 1077793,\n",
       " 979809,\n",
       " 1068125,\n",
       " 57295,\n",
       " 1068586,\n",
       " 1349765,\n",
       " 1899577,\n",
       " 1749663,\n",
       " 449255,\n",
       " 678325,\n",
       " 486770,\n",
       " 538510,\n",
       " 1484197,\n",
       " 1053757,\n",
       " 1632334,\n",
       " 1497447,\n",
       " 2263525,\n",
       " 901388,\n",
       " 1076577,\n",
       " 633222,\n",
       " 133441,\n",
       " 1086494,\n",
       " 1785925,\n",
       " 1622989,\n",
       " 422385,\n",
       " 1323234,\n",
       " 383510,\n",
       " 1750385,\n",
       " 471725,\n",
       " 1383635,\n",
       " 1868368,\n",
       " 108911,\n",
       " 474302,\n",
       " 622359,\n",
       " 2154902,\n",
       " 635558,\n",
       " 1372928,\n",
       " 1930477,\n",
       " 1652378,\n",
       " 1883047,\n",
       " 904317,\n",
       " 578199,\n",
       " 603189,\n",
       " 1772526,\n",
       " 1779259,\n",
       " 2043261,\n",
       " 1265855,\n",
       " 707005,\n",
       " 1692893,\n",
       " 1645789,\n",
       " 2004728,\n",
       " 822885,\n",
       " 775533,\n",
       " 292742,\n",
       " 779694,\n",
       " 1363106,\n",
       " 2079622,\n",
       " 2221728,\n",
       " 2129616,\n",
       " 2240224,\n",
       " 1279228,\n",
       " 805258,\n",
       " 122956,\n",
       " 1509173,\n",
       " 1172230,\n",
       " 175647,\n",
       " 1356503,\n",
       " 439002,\n",
       " 2268260,\n",
       " 1500086,\n",
       " 100308,\n",
       " 1221521,\n",
       " 794986,\n",
       " 1096950,\n",
       " 902705,\n",
       " 1882013,\n",
       " 2012509,\n",
       " 1221779,\n",
       " 504912,\n",
       " 908163,\n",
       " 694135,\n",
       " 1371217,\n",
       " 1211068,\n",
       " 377058,\n",
       " 1741928,\n",
       " 358087,\n",
       " 1882357,\n",
       " 378745,\n",
       " 1277189,\n",
       " 292339,\n",
       " 1397981,\n",
       " 912528,\n",
       " 897149,\n",
       " 456686,\n",
       " 1167651,\n",
       " 1528246,\n",
       " 379616,\n",
       " 396712,\n",
       " 24639,\n",
       " 800163,\n",
       " 264017,\n",
       " 179920,\n",
       " 1207605,\n",
       " 1488796,\n",
       " 529,\n",
       " 1095964,\n",
       " 581500,\n",
       " 1221091,\n",
       " 1914301,\n",
       " 1908583,\n",
       " 1620823,\n",
       " 548899,\n",
       " 109755,\n",
       " 2183920,\n",
       " 706722,\n",
       " 1892539,\n",
       " 1479931,\n",
       " 1650851,\n",
       " 1344441,\n",
       " 1438245,\n",
       " 1468444,\n",
       " 1630552,\n",
       " 31441,\n",
       " 102914,\n",
       " 312114,\n",
       " 771911,\n",
       " 807933,\n",
       " 1381481,\n",
       " 1340200,\n",
       " 1385649,\n",
       " 230134,\n",
       " 1409436,\n",
       " 1050529,\n",
       " 1670326,\n",
       " 924054,\n",
       " 1775592,\n",
       " 1373717,\n",
       " 655782,\n",
       " 410741,\n",
       " 1617961,\n",
       " 538673,\n",
       " 1183355,\n",
       " 471197,\n",
       " 502542,\n",
       " 1611996,\n",
       " 93733,\n",
       " 1053341,\n",
       " 1553010,\n",
       " 921224,\n",
       " 1213293,\n",
       " 605735,\n",
       " 1643486,\n",
       " 1750222,\n",
       " 1606063,\n",
       " 338855,\n",
       " 1931559,\n",
       " 910101,\n",
       " 299187,\n",
       " 606005,\n",
       " 2261989,\n",
       " 1088646,\n",
       " 925462,\n",
       " 209097,\n",
       " 55374,\n",
       " 235253,\n",
       " 723675,\n",
       " 371603,\n",
       " 293228,\n",
       " 2031090,\n",
       " 950129,\n",
       " 1080185,\n",
       " 57301,\n",
       " 2150590,\n",
       " 138839,\n",
       " 938677,\n",
       " 220712,\n",
       " 472504,\n",
       " 111033,\n",
       " 1644347,\n",
       " 1621406,\n",
       " 97391,\n",
       " 370903,\n",
       " 232012,\n",
       " 496519,\n",
       " 855940,\n",
       " 1370961,\n",
       " 1748209,\n",
       " 109667,\n",
       " 373528,\n",
       " 949090,\n",
       " 938689,\n",
       " 426113,\n",
       " 2008218,\n",
       " 1217651,\n",
       " 845482,\n",
       " 1486205,\n",
       " 389346,\n",
       " 695403,\n",
       " 439969,\n",
       " 862829,\n",
       " 294705,\n",
       " 933024,\n",
       " 963176,\n",
       " 1343702,\n",
       " 1756312,\n",
       " 1083677,\n",
       " 859847,\n",
       " 2125438,\n",
       " 1081706,\n",
       " 1514730,\n",
       " 1081332,\n",
       " 1000911,\n",
       " 344567,\n",
       " 1107546,\n",
       " 1511685,\n",
       " 2031947,\n",
       " 1996207,\n",
       " 608545,\n",
       " 1605200,\n",
       " 1214271,\n",
       " 1360002,\n",
       " 567100,\n",
       " 1393372,\n",
       " 1759521,\n",
       " 231750,\n",
       " 263036,\n",
       " 671249,\n",
       " 905890,\n",
       " 2224119,\n",
       " 1219477,\n",
       " 799663,\n",
       " 1643613,\n",
       " 608528,\n",
       " 324032,\n",
       " 502315,\n",
       " 300478,\n",
       " 548851,\n",
       " 2004371,\n",
       " 113525,\n",
       " 1640349,\n",
       " 2268217,\n",
       " 2062075,\n",
       " 2026917,\n",
       " 624866,\n",
       " 1733989,\n",
       " 1365331,\n",
       " 2039992,\n",
       " 2005252,\n",
       " 1881097,\n",
       " 1369181,\n",
       " 551857,\n",
       " 1738247,\n",
       " 635663,\n",
       " 1413022,\n",
       " 903583,\n",
       " 2031861,\n",
       " 795813,\n",
       " 907263,\n",
       " 1059238,\n",
       " 110798,\n",
       " 673376,\n",
       " 848775,\n",
       " 630277,\n",
       " 1740294,\n",
       " 1214008,\n",
       " 549630,\n",
       " 1095229,\n",
       " 1201482,\n",
       " 457113,\n",
       " 913999,\n",
       " 316813,\n",
       " 160100,\n",
       " 358024,\n",
       " 548862,\n",
       " 191520,\n",
       " 1755532,\n",
       " 243555,\n",
       " 151964,\n",
       " 1499622,\n",
       " 1874386,\n",
       " 1742092,\n",
       " 2036301,\n",
       " 1078190,\n",
       " 2198803,\n",
       " 1051171,\n",
       " 694698,\n",
       " 1112371,\n",
       " 231268,\n",
       " 808898,\n",
       " 1614076,\n",
       " 27962,\n",
       " 1094732,\n",
       " 765203,\n",
       " 501980,\n",
       " 1976662,\n",
       " 485270,\n",
       " 536964,\n",
       " 1624024,\n",
       " 1810956,\n",
       " 1382161,\n",
       " 925246,\n",
       " 1358792,\n",
       " 2046208,\n",
       " 1357256,\n",
       " 1495771,\n",
       " 1235198,\n",
       " 846132,\n",
       " 2011009,\n",
       " 822506,\n",
       " 2041251,\n",
       " 1895284,\n",
       " 1112277,\n",
       " 816659,\n",
       " 1063180,\n",
       " 1122014,\n",
       " 929177,\n",
       " 1409802,\n",
       " 787181,\n",
       " 2123492,\n",
       " 2223896,\n",
       " 1078791,\n",
       " 1761826,\n",
       " 421658,\n",
       " 1493932]"
      ]
     },
     "execution_count": 67,
     "metadata": {},
     "output_type": "execute_result"
    }
   ],
   "source": [
    "list(oversampled_minority_indices)"
   ]
  },
  {
   "cell_type": "code",
   "execution_count": 68,
   "id": "8dc3ae38",
   "metadata": {},
   "outputs": [
    {
     "data": {
      "text/plain": [
       "array([False, False, False, ..., False, False, False])"
      ]
     },
     "execution_count": 68,
     "metadata": {},
     "output_type": "execute_result"
    }
   ],
   "source": [
    "X_train.index.isin(oversampled_minority_indices)"
   ]
  },
  {
   "cell_type": "code",
   "execution_count": 69,
   "id": "c90a8900",
   "metadata": {},
   "outputs": [
    {
     "data": {
      "text/html": [
       "<div>\n",
       "<style scoped>\n",
       "    .dataframe tbody tr th:only-of-type {\n",
       "        vertical-align: middle;\n",
       "    }\n",
       "\n",
       "    .dataframe tbody tr th {\n",
       "        vertical-align: top;\n",
       "    }\n",
       "\n",
       "    .dataframe thead th {\n",
       "        text-align: right;\n",
       "    }\n",
       "</style>\n",
       "<table border=\"1\" class=\"dataframe\">\n",
       "  <thead>\n",
       "    <tr style=\"text-align: right;\">\n",
       "      <th></th>\n",
       "      <th>place</th>\n",
       "      <th>sexe</th>\n",
       "      <th>nbv</th>\n",
       "      <th>vosp</th>\n",
       "      <th>manv</th>\n",
       "      <th>catv_Label</th>\n",
       "      <th>agg</th>\n",
       "      <th>com</th>\n",
       "      <th>dep</th>\n",
       "      <th>heure</th>\n",
       "      <th>...</th>\n",
       "      <th>col_Sans collision</th>\n",
       "      <th>col_Trois véhicules et plus - collisions multiples</th>\n",
       "      <th>col_Trois véhicules et plus – en chaîne</th>\n",
       "      <th>jour_de_la_semaine_Dimanche</th>\n",
       "      <th>jour_de_la_semaine_Jeudi</th>\n",
       "      <th>jour_de_la_semaine_Lundi</th>\n",
       "      <th>jour_de_la_semaine_Mardi</th>\n",
       "      <th>jour_de_la_semaine_Mercredi</th>\n",
       "      <th>jour_de_la_semaine_Samedi</th>\n",
       "      <th>jour_de_la_semaine_Vendredi</th>\n",
       "    </tr>\n",
       "  </thead>\n",
       "  <tbody>\n",
       "    <tr>\n",
       "      <th>1437591</th>\n",
       "      <td>1.0</td>\n",
       "      <td>1</td>\n",
       "      <td>2.0</td>\n",
       "      <td>0</td>\n",
       "      <td>0.076566</td>\n",
       "      <td>0.003601</td>\n",
       "      <td>1</td>\n",
       "      <td>4.216885e-03</td>\n",
       "      <td>0.041958</td>\n",
       "      <td>16</td>\n",
       "      <td>...</td>\n",
       "      <td>0</td>\n",
       "      <td>0</td>\n",
       "      <td>0</td>\n",
       "      <td>1</td>\n",
       "      <td>0</td>\n",
       "      <td>0</td>\n",
       "      <td>0</td>\n",
       "      <td>0</td>\n",
       "      <td>0</td>\n",
       "      <td>0</td>\n",
       "    </tr>\n",
       "    <tr>\n",
       "      <th>2185543</th>\n",
       "      <td>10.0</td>\n",
       "      <td>1</td>\n",
       "      <td>2.0</td>\n",
       "      <td>0</td>\n",
       "      <td>0.455666</td>\n",
       "      <td>0.651106</td>\n",
       "      <td>1</td>\n",
       "      <td>5.236198e-06</td>\n",
       "      <td>0.011955</td>\n",
       "      <td>17</td>\n",
       "      <td>...</td>\n",
       "      <td>0</td>\n",
       "      <td>0</td>\n",
       "      <td>0</td>\n",
       "      <td>0</td>\n",
       "      <td>0</td>\n",
       "      <td>0</td>\n",
       "      <td>0</td>\n",
       "      <td>0</td>\n",
       "      <td>0</td>\n",
       "      <td>1</td>\n",
       "    </tr>\n",
       "    <tr>\n",
       "      <th>2183920</th>\n",
       "      <td>1.0</td>\n",
       "      <td>1</td>\n",
       "      <td>2.0</td>\n",
       "      <td>0</td>\n",
       "      <td>0.076566</td>\n",
       "      <td>0.034623</td>\n",
       "      <td>0</td>\n",
       "      <td>4.363499e-07</td>\n",
       "      <td>0.006636</td>\n",
       "      <td>16</td>\n",
       "      <td>...</td>\n",
       "      <td>1</td>\n",
       "      <td>0</td>\n",
       "      <td>0</td>\n",
       "      <td>0</td>\n",
       "      <td>0</td>\n",
       "      <td>0</td>\n",
       "      <td>0</td>\n",
       "      <td>1</td>\n",
       "      <td>0</td>\n",
       "      <td>0</td>\n",
       "    </tr>\n",
       "    <tr>\n",
       "      <th>108911</th>\n",
       "      <td>2.0</td>\n",
       "      <td>0</td>\n",
       "      <td>2.0</td>\n",
       "      <td>0</td>\n",
       "      <td>0.455666</td>\n",
       "      <td>0.084295</td>\n",
       "      <td>0</td>\n",
       "      <td>2.999469e-03</td>\n",
       "      <td>0.013070</td>\n",
       "      <td>6</td>\n",
       "      <td>...</td>\n",
       "      <td>0</td>\n",
       "      <td>0</td>\n",
       "      <td>0</td>\n",
       "      <td>1</td>\n",
       "      <td>0</td>\n",
       "      <td>0</td>\n",
       "      <td>0</td>\n",
       "      <td>0</td>\n",
       "      <td>0</td>\n",
       "      <td>0</td>\n",
       "    </tr>\n",
       "    <tr>\n",
       "      <th>1908583</th>\n",
       "      <td>1.0</td>\n",
       "      <td>1</td>\n",
       "      <td>2.0</td>\n",
       "      <td>0</td>\n",
       "      <td>0.455666</td>\n",
       "      <td>0.084295</td>\n",
       "      <td>1</td>\n",
       "      <td>1.412901e-03</td>\n",
       "      <td>0.003007</td>\n",
       "      <td>20</td>\n",
       "      <td>...</td>\n",
       "      <td>0</td>\n",
       "      <td>0</td>\n",
       "      <td>0</td>\n",
       "      <td>0</td>\n",
       "      <td>0</td>\n",
       "      <td>0</td>\n",
       "      <td>0</td>\n",
       "      <td>1</td>\n",
       "      <td>0</td>\n",
       "      <td>0</td>\n",
       "    </tr>\n",
       "    <tr>\n",
       "      <th>...</th>\n",
       "      <td>...</td>\n",
       "      <td>...</td>\n",
       "      <td>...</td>\n",
       "      <td>...</td>\n",
       "      <td>...</td>\n",
       "      <td>...</td>\n",
       "      <td>...</td>\n",
       "      <td>...</td>\n",
       "      <td>...</td>\n",
       "      <td>...</td>\n",
       "      <td>...</td>\n",
       "      <td>...</td>\n",
       "      <td>...</td>\n",
       "      <td>...</td>\n",
       "      <td>...</td>\n",
       "      <td>...</td>\n",
       "      <td>...</td>\n",
       "      <td>...</td>\n",
       "      <td>...</td>\n",
       "      <td>...</td>\n",
       "      <td>...</td>\n",
       "    </tr>\n",
       "    <tr>\n",
       "      <th>1181438</th>\n",
       "      <td>1.0</td>\n",
       "      <td>1</td>\n",
       "      <td>4.0</td>\n",
       "      <td>0</td>\n",
       "      <td>0.109695</td>\n",
       "      <td>0.651106</td>\n",
       "      <td>0</td>\n",
       "      <td>1.321704e-03</td>\n",
       "      <td>0.012329</td>\n",
       "      <td>19</td>\n",
       "      <td>...</td>\n",
       "      <td>0</td>\n",
       "      <td>0</td>\n",
       "      <td>0</td>\n",
       "      <td>0</td>\n",
       "      <td>0</td>\n",
       "      <td>0</td>\n",
       "      <td>1</td>\n",
       "      <td>0</td>\n",
       "      <td>0</td>\n",
       "      <td>0</td>\n",
       "    </tr>\n",
       "    <tr>\n",
       "      <th>1397981</th>\n",
       "      <td>1.0</td>\n",
       "      <td>1</td>\n",
       "      <td>2.0</td>\n",
       "      <td>0</td>\n",
       "      <td>0.455666</td>\n",
       "      <td>0.651106</td>\n",
       "      <td>1</td>\n",
       "      <td>1.279814e-03</td>\n",
       "      <td>0.011668</td>\n",
       "      <td>6</td>\n",
       "      <td>...</td>\n",
       "      <td>0</td>\n",
       "      <td>0</td>\n",
       "      <td>0</td>\n",
       "      <td>0</td>\n",
       "      <td>0</td>\n",
       "      <td>0</td>\n",
       "      <td>0</td>\n",
       "      <td>0</td>\n",
       "      <td>1</td>\n",
       "      <td>0</td>\n",
       "    </tr>\n",
       "    <tr>\n",
       "      <th>624866</th>\n",
       "      <td>1.0</td>\n",
       "      <td>1</td>\n",
       "      <td>1.0</td>\n",
       "      <td>0</td>\n",
       "      <td>0.109695</td>\n",
       "      <td>0.071721</td>\n",
       "      <td>1</td>\n",
       "      <td>1.100474e-03</td>\n",
       "      <td>0.014841</td>\n",
       "      <td>12</td>\n",
       "      <td>...</td>\n",
       "      <td>0</td>\n",
       "      <td>0</td>\n",
       "      <td>0</td>\n",
       "      <td>0</td>\n",
       "      <td>1</td>\n",
       "      <td>0</td>\n",
       "      <td>0</td>\n",
       "      <td>0</td>\n",
       "      <td>0</td>\n",
       "      <td>0</td>\n",
       "    </tr>\n",
       "    <tr>\n",
       "      <th>882900</th>\n",
       "      <td>1.0</td>\n",
       "      <td>1</td>\n",
       "      <td>2.0</td>\n",
       "      <td>0</td>\n",
       "      <td>0.076566</td>\n",
       "      <td>0.084295</td>\n",
       "      <td>1</td>\n",
       "      <td>1.074730e-03</td>\n",
       "      <td>0.004123</td>\n",
       "      <td>0</td>\n",
       "      <td>...</td>\n",
       "      <td>0</td>\n",
       "      <td>0</td>\n",
       "      <td>0</td>\n",
       "      <td>1</td>\n",
       "      <td>0</td>\n",
       "      <td>0</td>\n",
       "      <td>0</td>\n",
       "      <td>0</td>\n",
       "      <td>0</td>\n",
       "      <td>0</td>\n",
       "    </tr>\n",
       "    <tr>\n",
       "      <th>2245274</th>\n",
       "      <td>1.0</td>\n",
       "      <td>1</td>\n",
       "      <td>2.0</td>\n",
       "      <td>0</td>\n",
       "      <td>0.042442</td>\n",
       "      <td>0.651106</td>\n",
       "      <td>0</td>\n",
       "      <td>2.181749e-06</td>\n",
       "      <td>0.012369</td>\n",
       "      <td>6</td>\n",
       "      <td>...</td>\n",
       "      <td>0</td>\n",
       "      <td>0</td>\n",
       "      <td>0</td>\n",
       "      <td>0</td>\n",
       "      <td>0</td>\n",
       "      <td>0</td>\n",
       "      <td>1</td>\n",
       "      <td>0</td>\n",
       "      <td>0</td>\n",
       "      <td>0</td>\n",
       "    </tr>\n",
       "  </tbody>\n",
       "</table>\n",
       "<p>990 rows × 194 columns</p>\n",
       "</div>"
      ],
      "text/plain": [
       "        place  sexe  nbv  vosp      manv catv_Label agg           com  \\\n",
       "1437591   1.0     1  2.0     0  0.076566   0.003601   1  4.216885e-03   \n",
       "2185543  10.0     1  2.0     0  0.455666   0.651106   1  5.236198e-06   \n",
       "2183920   1.0     1  2.0     0  0.076566   0.034623   0  4.363499e-07   \n",
       "108911    2.0     0  2.0     0  0.455666   0.084295   0  2.999469e-03   \n",
       "1908583   1.0     1  2.0     0  0.455666   0.084295   1  1.412901e-03   \n",
       "...       ...   ...  ...   ...       ...        ...  ..           ...   \n",
       "1181438   1.0     1  4.0     0  0.109695   0.651106   0  1.321704e-03   \n",
       "1397981   1.0     1  2.0     0  0.455666   0.651106   1  1.279814e-03   \n",
       "624866    1.0     1  1.0     0  0.109695   0.071721   1  1.100474e-03   \n",
       "882900    1.0     1  2.0     0  0.076566   0.084295   1  1.074730e-03   \n",
       "2245274   1.0     1  2.0     0  0.042442   0.651106   0  2.181749e-06   \n",
       "\n",
       "              dep heure  ...  col_Sans collision  \\\n",
       "1437591  0.041958    16  ...                   0   \n",
       "2185543  0.011955    17  ...                   0   \n",
       "2183920  0.006636    16  ...                   1   \n",
       "108911   0.013070     6  ...                   0   \n",
       "1908583  0.003007    20  ...                   0   \n",
       "...           ...   ...  ...                 ...   \n",
       "1181438  0.012329    19  ...                   0   \n",
       "1397981  0.011668     6  ...                   0   \n",
       "624866   0.014841    12  ...                   0   \n",
       "882900   0.004123     0  ...                   0   \n",
       "2245274  0.012369     6  ...                   0   \n",
       "\n",
       "         col_Trois véhicules et plus - collisions multiples  \\\n",
       "1437591                                                  0    \n",
       "2185543                                                  0    \n",
       "2183920                                                  0    \n",
       "108911                                                   0    \n",
       "1908583                                                  0    \n",
       "...                                                    ...    \n",
       "1181438                                                  0    \n",
       "1397981                                                  0    \n",
       "624866                                                   0    \n",
       "882900                                                   0    \n",
       "2245274                                                  0    \n",
       "\n",
       "         col_Trois véhicules et plus – en chaîne  jour_de_la_semaine_Dimanche  \\\n",
       "1437591                                        0                            1   \n",
       "2185543                                        0                            0   \n",
       "2183920                                        0                            0   \n",
       "108911                                         0                            1   \n",
       "1908583                                        0                            0   \n",
       "...                                          ...                          ...   \n",
       "1181438                                        0                            0   \n",
       "1397981                                        0                            0   \n",
       "624866                                         0                            0   \n",
       "882900                                         0                            1   \n",
       "2245274                                        0                            0   \n",
       "\n",
       "         jour_de_la_semaine_Jeudi  jour_de_la_semaine_Lundi  \\\n",
       "1437591                         0                         0   \n",
       "2185543                         0                         0   \n",
       "2183920                         0                         0   \n",
       "108911                          0                         0   \n",
       "1908583                         0                         0   \n",
       "...                           ...                       ...   \n",
       "1181438                         0                         0   \n",
       "1397981                         0                         0   \n",
       "624866                          1                         0   \n",
       "882900                          0                         0   \n",
       "2245274                         0                         0   \n",
       "\n",
       "         jour_de_la_semaine_Mardi  jour_de_la_semaine_Mercredi  \\\n",
       "1437591                         0                            0   \n",
       "2185543                         0                            0   \n",
       "2183920                         0                            1   \n",
       "108911                          0                            0   \n",
       "1908583                         0                            1   \n",
       "...                           ...                          ...   \n",
       "1181438                         1                            0   \n",
       "1397981                         0                            0   \n",
       "624866                          0                            0   \n",
       "882900                          0                            0   \n",
       "2245274                         1                            0   \n",
       "\n",
       "         jour_de_la_semaine_Samedi  jour_de_la_semaine_Vendredi  \n",
       "1437591                          0                            0  \n",
       "2185543                          0                            1  \n",
       "2183920                          0                            0  \n",
       "108911                           0                            0  \n",
       "1908583                          0                            0  \n",
       "...                            ...                          ...  \n",
       "1181438                          0                            0  \n",
       "1397981                          1                            0  \n",
       "624866                           0                            0  \n",
       "882900                           0                            0  \n",
       "2245274                          0                            0  \n",
       "\n",
       "[990 rows x 194 columns]"
      ]
     },
     "execution_count": 69,
     "metadata": {},
     "output_type": "execute_result"
    }
   ],
   "source": [
    "X_train[X_train.index.isin(oversampled_minority_indices)]"
   ]
  },
  {
   "cell_type": "code",
   "execution_count": 70,
   "id": "8370e433",
   "metadata": {},
   "outputs": [
    {
     "data": {
      "text/plain": [
       "91137      Tué\n",
       "1356597    Tué\n",
       "1758289    Tué\n",
       "986096     Tué\n",
       "1702148    Tué\n",
       "          ... \n",
       "2223896    Tué\n",
       "1078791    Tué\n",
       "1761826    Tué\n",
       "421658     Tué\n",
       "1493932    Tué\n",
       "Name: grav, Length: 990, dtype: object"
      ]
     },
     "execution_count": 70,
     "metadata": {},
     "output_type": "execute_result"
    }
   ],
   "source": [
    "y_train[pd.Index(oversampled_minority_indices).drop_duplicates()]"
   ]
  },
  {
   "cell_type": "code",
   "execution_count": 71,
   "id": "d2db66df",
   "metadata": {},
   "outputs": [
    {
     "data": {
      "text/plain": [
       "10"
      ]
     },
     "execution_count": 71,
     "metadata": {},
     "output_type": "execute_result"
    }
   ],
   "source": [
    "y_train[oversampled_minority_indices].index.duplicated().sum()"
   ]
  },
  {
   "cell_type": "code",
   "execution_count": 72,
   "id": "65daf668",
   "metadata": {},
   "outputs": [
    {
     "data": {
      "text/plain": [
       "1833391"
      ]
     },
     "execution_count": 72,
     "metadata": {},
     "output_type": "execute_result"
    }
   ],
   "source": [
    "len(y_train)"
   ]
  },
  {
   "cell_type": "markdown",
   "id": "7ff36c43",
   "metadata": {},
   "source": [
    "## Création d'une fonction pour faire un oversampling en dupliquant aléatoirement des exemples de la classe minoritaire"
   ]
  },
  {
   "cell_type": "code",
   "execution_count": 73,
   "id": "acde2c3e",
   "metadata": {},
   "outputs": [],
   "source": [
    "def oversample_minority_class(X_train, y_train, subset_size):\n",
    "    # Identification des indices des exemples de la classe minoritaire\n",
    "    minority_indices = np.asarray(y_train[y_train == minority_class_label].index) \n",
    "    print(minority_indices)\n",
    "    # Duplication aléatoire des exemples de la classe minoritaire\n",
    "    oversampled_minority_indices = np.random.choice(minority_indices, size=subset_size, replace=True)\n",
    "    oversampled_minority_indices = pd.Index(oversampled_minority_indices).drop_duplicates()\n",
    "    print(oversampled_minority_indices)\n",
    "    # Concaténation des exemples de la classe majoritaire et des exemples dupliqués de la classe minoritaire\n",
    "    X_oversampled = np.concatenate((X_train, X_train[X_train.index.isin(oversampled_minority_indices)]))\n",
    "    y_oversampled = np.concatenate((y_train, y_train[oversampled_minority_indices]))\n",
    "\n",
    "    return X_oversampled, y_oversampled"
   ]
  },
  {
   "cell_type": "code",
   "execution_count": 74,
   "id": "5bf398de",
   "metadata": {},
   "outputs": [
    {
     "name": "stdout",
     "output_type": "stream",
     "text": [
      "[ 708601 1902226 1914482 ... 1425498 1500968 2281988]\n",
      "Int64Index([ 911079, 1768715, 1603360, 2248883, 1802477, 2289093, 1662322,\n",
      "             947479,  557223,  842913,\n",
      "            ...\n",
      "             777268,  338919,  425265, 1074209, 1107935, 2058364,  454546,\n",
      "            1861414,    2927, 1659915],\n",
      "           dtype='int64', length=989)\n"
     ]
    }
   ],
   "source": [
    "# Création d'un sur-ensemble de données en utilisant l'oversampling\n",
    "\n",
    "minority_class_label = 'Tué'\n",
    "subset_size = 1000\n",
    "X_oversampled, y_oversampled = oversample_minority_class(X_train, y_train, subset_size)"
   ]
  },
  {
   "cell_type": "code",
   "execution_count": 75,
   "id": "3dabf05a",
   "metadata": {},
   "outputs": [
    {
     "data": {
      "text/plain": [
       "array([['2.0', 0, '2.0', ..., 0, 0, 1],\n",
       "       ['1.0', 1, '4.0', ..., 0, 0, 1],\n",
       "       ['2.0', 0, '0.0', ..., 0, 0, 0],\n",
       "       ...,\n",
       "       ['1.0', 1, '2.0', ..., 0, 0, 0],\n",
       "       ['1.0', 0, '2.0', ..., 0, 0, 0],\n",
       "       ['1.0', 0, '0.0', ..., 0, 0, 0]], dtype=object)"
      ]
     },
     "execution_count": 75,
     "metadata": {},
     "output_type": "execute_result"
    }
   ],
   "source": [
    "X_oversampled"
   ]
  },
  {
   "cell_type": "code",
   "execution_count": 76,
   "id": "028691bb",
   "metadata": {},
   "outputs": [
    {
     "data": {
      "text/plain": [
       "(1834380, 194)"
      ]
     },
     "execution_count": 76,
     "metadata": {},
     "output_type": "execute_result"
    }
   ],
   "source": [
    "X_oversampled.shape"
   ]
  },
  {
   "cell_type": "code",
   "execution_count": 77,
   "id": "6c57035c",
   "metadata": {},
   "outputs": [
    {
     "data": {
      "text/plain": [
       "array(['Blessé léger', 'Indemne', 'Blessé léger', ..., 'Tué', 'Tué',\n",
       "       'Tué'], dtype=object)"
      ]
     },
     "execution_count": 77,
     "metadata": {},
     "output_type": "execute_result"
    }
   ],
   "source": [
    "y_oversampled"
   ]
  },
  {
   "cell_type": "code",
   "execution_count": 78,
   "id": "a408861a",
   "metadata": {},
   "outputs": [
    {
     "data": {
      "text/plain": [
       "(1834380,)"
      ]
     },
     "execution_count": 78,
     "metadata": {},
     "output_type": "execute_result"
    }
   ],
   "source": [
    "y_oversampled.shape"
   ]
  },
  {
   "cell_type": "code",
   "execution_count": 79,
   "id": "dfc274b1",
   "metadata": {},
   "outputs": [],
   "source": [
    "# Utilisation d'un sous-ensemble de données pour réduire la taille\n",
    "\n",
    "X_oversampled_subset = X_oversampled[:subset_size]\n",
    "y_oversampled_subset = y_oversampled[:subset_size]"
   ]
  },
  {
   "cell_type": "markdown",
   "id": "93114843",
   "metadata": {
    "id": "93114843"
   },
   "source": [
    "# Entrainement du modèle RandomForestClassifier"
   ]
  },
  {
   "cell_type": "code",
   "execution_count": 80,
   "id": "53eb8c6e",
   "metadata": {
    "id": "53eb8c6e"
   },
   "outputs": [],
   "source": [
    "model = RandomForestClassifier(n_jobs= -1, random_state=42)"
   ]
  },
  {
   "cell_type": "code",
   "execution_count": 81,
   "id": "cb228ae7",
   "metadata": {
    "id": "cb228ae7"
   },
   "outputs": [
    {
     "name": "stdout",
     "output_type": "stream",
     "text": [
      "Réalisé en 565.712 secondes\n"
     ]
    }
   ],
   "source": [
    "# Entraînement du modèle sur l'ensemble issu de l'OverSampling\n",
    "from time import time\n",
    "t0 = time()\n",
    "model.fit(X_oversampled, y_oversampled)\n",
    "t1 = time() - t0\n",
    "print(\"Réalisé en {} secondes\".format(round(t1,3)))"
   ]
  },
  {
   "cell_type": "markdown",
   "id": "4089079d",
   "metadata": {
    "id": "4089079d"
   },
   "source": [
    "<h1>Calcul des métriques d'évaluation</h1>"
   ]
  },
  {
   "cell_type": "code",
   "execution_count": 82,
   "id": "a5157453",
   "metadata": {
    "id": "a5157453"
   },
   "outputs": [
    {
     "data": {
      "text/plain": [
       "0.99830024313392"
      ]
     },
     "execution_count": 82,
     "metadata": {},
     "output_type": "execute_result"
    }
   ],
   "source": [
    "model.score(X_oversampled, y_oversampled)"
   ]
  },
  {
   "cell_type": "code",
   "execution_count": 83,
   "id": "ee410510",
   "metadata": {
    "id": "ee410510"
   },
   "outputs": [
    {
     "name": "stderr",
     "output_type": "stream",
     "text": [
      "C:\\Users\\clevr\\anaconda3\\lib\\site-packages\\sklearn\\base.py:443: UserWarning: X has feature names, but RandomForestClassifier was fitted without feature names\n",
      "  warnings.warn(\n"
     ]
    },
    {
     "data": {
      "text/plain": [
       "0.668777871835374"
      ]
     },
     "execution_count": 83,
     "metadata": {},
     "output_type": "execute_result"
    }
   ],
   "source": [
    "# Calcul du taux de bonnes prédictions du modèle\n",
    "\n",
    "model.score(X_test, y_test)"
   ]
  },
  {
   "cell_type": "code",
   "execution_count": 84,
   "id": "0dd481c4",
   "metadata": {
    "id": "0dd481c4"
   },
   "outputs": [
    {
     "name": "stderr",
     "output_type": "stream",
     "text": [
      "C:\\Users\\clevr\\anaconda3\\lib\\site-packages\\sklearn\\base.py:443: UserWarning: X has feature names, but RandomForestClassifier was fitted without feature names\n",
      "  warnings.warn(\n"
     ]
    },
    {
     "name": "stdout",
     "output_type": "stream",
     "text": [
      "Réalisé en 81.264 secondes\n"
     ]
    }
   ],
   "source": [
    "# Calcul des prédictions pour les données présentes dans l'ensemble de test\n",
    "\n",
    "t0 = time()\n",
    "y_pred = model.predict(X_test)\n",
    "t1 = time() - t0\n",
    "print(\"Réalisé en {} secondes\".format(round(t1,3)))"
   ]
  },
  {
   "cell_type": "code",
   "execution_count": 85,
   "id": "97db64ff",
   "metadata": {
    "id": "97db64ff"
   },
   "outputs": [
    {
     "name": "stderr",
     "output_type": "stream",
     "text": [
      "C:\\Users\\clevr\\anaconda3\\lib\\site-packages\\sklearn\\base.py:443: UserWarning: X has feature names, but RandomForestClassifier was fitted without feature names\n",
      "  warnings.warn(\n"
     ]
    },
    {
     "name": "stdout",
     "output_type": "stream",
     "text": [
      "Classe prédite      Blessé hospitalisé  Blessé léger  Indemne  Tué\n",
      "Classe réelle                                                     \n",
      "Blessé hospitalisé               42825         34438    15914  467\n",
      "Blessé léger                     18760        104440    41690  152\n",
      "Indemne                           7863         20689   158820  103\n",
      "Tué                               7845          2216     1677  449\n"
     ]
    }
   ],
   "source": [
    "# Affichage de la matrice de confusion obtenue grâce aux prédictions sur l'ensemble de test\n",
    "\n",
    "y_pred = model.predict(X_test)\n",
    "print(pd.crosstab(y_test, y_pred, rownames=['Classe réelle'], colnames=['Classe prédite']))"
   ]
  },
  {
   "cell_type": "code",
   "execution_count": 86,
   "id": "ba59258f",
   "metadata": {
    "id": "ba59258f"
   },
   "outputs": [
    {
     "name": "stdout",
     "output_type": "stream",
     "text": [
      "                    precision    recall  f1-score   support\n",
      "\n",
      "Blessé hospitalisé       0.55      0.46      0.50     93644\n",
      "      Blessé léger       0.65      0.63      0.64    165042\n",
      "           Indemne       0.73      0.85      0.78    187475\n",
      "               Tué       0.38      0.04      0.07     12187\n",
      "\n",
      "          accuracy                           0.67    458348\n",
      "         macro avg       0.58      0.49      0.50    458348\n",
      "      weighted avg       0.65      0.67      0.65    458348\n",
      "\n"
     ]
    }
   ],
   "source": [
    "# Rapport de résultat sur l'ensemble de test obtenu par classification_report\n",
    "\n",
    "print(classification_report(y_test, y_pred))"
   ]
  },
  {
   "cell_type": "code",
   "execution_count": 87,
   "id": "3a116acb",
   "metadata": {
    "id": "3a116acb"
   },
   "outputs": [
    {
     "name": "stdout",
     "output_type": "stream",
     "text": [
      "                          pre       rec       spe        f1       geo       iba       sup\n",
      "\n",
      "Blessé hospitalisé       0.55      0.46      0.91      0.50      0.64      0.40     93644\n",
      "      Blessé léger       0.65      0.63      0.80      0.64      0.71      0.50    165042\n",
      "           Indemne       0.73      0.85      0.78      0.78      0.81      0.67    187475\n",
      "               Tué       0.38      0.04      1.00      0.07      0.19      0.03     12187\n",
      "\n",
      "       avg / total       0.65      0.67      0.82      0.65      0.73      0.53    458348\n",
      "\n"
     ]
    }
   ],
   "source": [
    "# Rapport de résultat sur l'ensemble de test obtenu par classification_report_imbalanced\n",
    "\n",
    "print(classification_report_imbalanced(y_test, y_pred))"
   ]
  },
  {
   "cell_type": "code",
   "execution_count": 88,
   "id": "2d6881dc",
   "metadata": {
    "id": "2d6881dc"
   },
   "outputs": [
    {
     "data": {
      "text/plain": [
       "0.3082835064018133"
      ]
     },
     "execution_count": 88,
     "metadata": {},
     "output_type": "execute_result"
    }
   ],
   "source": [
    "from imblearn.metrics import geometric_mean_score\n",
    "\n",
    "geometric_mean_score(y_test, y_pred)"
   ]
  },
  {
   "cell_type": "code",
   "execution_count": 89,
   "id": "a1b34378",
   "metadata": {
    "id": "a1b34378"
   },
   "outputs": [
    {
     "data": {
      "text/plain": [
       "0.49353029560997663"
      ]
     },
     "execution_count": 89,
     "metadata": {},
     "output_type": "execute_result"
    }
   ],
   "source": [
    "from sklearn.metrics import balanced_accuracy_score\n",
    "\n",
    "balanced_accuracy_score(y_test, y_pred)"
   ]
  },
  {
   "cell_type": "code",
   "execution_count": 90,
   "id": "7813f099",
   "metadata": {},
   "outputs": [
    {
     "name": "stderr",
     "output_type": "stream",
     "text": [
      "[Parallel(n_jobs=-1)]: Using backend LokyBackend with 8 concurrent workers.\n",
      "[Parallel(n_jobs=-1)]: Done   2 out of   5 | elapsed:    3.6s remaining:    5.4s\n",
      "[Parallel(n_jobs=-1)]: Done   5 out of   5 | elapsed:    3.6s finished\n"
     ]
    }
   ],
   "source": [
    "# Calcul des scores avec le sur-ensemble de données\n",
    "from sklearn.model_selection import StratifiedKFold, cross_val_score\n",
    "\n",
    "cv = StratifiedKFold(n_splits=5, shuffle=True, random_state=42)\n",
    "model = RandomForestClassifier(n_jobs= -1, random_state=42)\n",
    "\n",
    "score_oversampled = cross_val_score(model, X_oversampled_subset, y_oversampled_subset, \n",
    "                                    cv=cv, scoring='roc_auc_ovo', verbose=2, n_jobs=-1)"
   ]
  },
  {
   "cell_type": "code",
   "execution_count": 91,
   "id": "53fd97f2",
   "metadata": {
    "id": "53fd97f2"
   },
   "outputs": [
    {
     "name": "stdout",
     "output_type": "stream",
     "text": [
      "scores ROC AUC OvO pour chaque pli avec oversampling : [0.76639033 0.72766834 0.74864026 0.69957634 0.73008297]\n",
      "Moyenne des scores ROC AUC OvO avec oversampling : 0.7344716493289594\n"
     ]
    }
   ],
   "source": [
    "# Affichage des scores\n",
    "print(f\"scores ROC AUC OvO pour chaque pli avec oversampling : {score_oversampled}\")\n",
    "print(f\"Moyenne des scores ROC AUC OvO avec oversampling : {score_oversampled.mean()}\")"
   ]
  },
  {
   "cell_type": "markdown",
   "id": "128af5bf",
   "metadata": {},
   "source": [
    "# Conclusion générale"
   ]
  },
  {
   "cell_type": "code",
   "execution_count": null,
   "id": "577323f4",
   "metadata": {},
   "outputs": [],
   "source": [
    "\"\"\"\n",
    "Concernant les classes 1 (blessé léger) et 2 (Indemne), la précision et le rappel sont relativement satisfaisants.\n",
    "Ces classes ont été relativement bien gérée par le modèle, celles-ci sont relativement bien détectées.\n",
    "Touefois les résultats obtenus ne sont pas représentatifs.\n",
    "\n",
    "Le F1-score est respectivement de 64 % et 78 % pour ces classes, toutefois la performance de bonnes prédictions\n",
    "sur celles-ci est toute relative compte tenu du déséquilibre flagrant avec les autres classes, \n",
    "et tout particulièrement avec la classe 3 (Tué).\n",
    "\n",
    "La précision et le rappel concernant la classe 3 (Tué), bien que sensiblement meilleurs par rapport au modèle\n",
    "de Régression Logistique, sont toujours très faibles. Ils sont respectivement de 38 % et 4 %.\n",
    "Cette classe qui est prioritaire dans notre étude n'est toujours pas bien gérée par le modèle RandomForestClassifier.\n",
    "\n",
    "Concernant la classe 0 (blessé hospitalisé), la classe est moyennement bien détectée ce qui est clairement insuffisant.\n",
    "\n",
    "Nous avons calculé la moyenne géometrique (geometric mean) qui s'avère utile pour les problèmes de classification\n",
    "déséquilibrée : il s'agit de la racine du produit de la sensibilité et de la spécificité.\n",
    "En outre, celle-ci est également faible. Le modèle n'est donc pas acceptable ainsi pour notre problème.\n",
    "\n",
    "En conclusion, le modèle RandomForestClassifier avec la fonction d'oversampling qui a été implentée a permis d'améliorer\n",
    "sensiblement les performances de notre modèle. Toutefois la marge de progression est encore significative\n",
    "et la problématique de déséquilibre de classes est toujours bien présent.\n",
    "\n",
    "Par la suite, je vais expérimenter un modèle de Deep Learning (DNN) sur la base d'un MLP, avec oversampling\n",
    "et classification binaire qui devrait produire de bien meilleurs résultats.\n",
    "\n",
    "\"\"\""
   ]
  }
 ],
 "metadata": {
  "colab": {
   "provenance": []
  },
  "kernelspec": {
   "display_name": "Python 3 (ipykernel)",
   "language": "python",
   "name": "python3"
  },
  "language_info": {
   "codemirror_mode": {
    "name": "ipython",
    "version": 3
   },
   "file_extension": ".py",
   "mimetype": "text/x-python",
   "name": "python",
   "nbconvert_exporter": "python",
   "pygments_lexer": "ipython3",
   "version": "3.9.13"
  }
 },
 "nbformat": 4,
 "nbformat_minor": 5
}
