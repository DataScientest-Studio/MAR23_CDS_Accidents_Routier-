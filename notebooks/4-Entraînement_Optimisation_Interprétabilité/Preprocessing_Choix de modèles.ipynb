{
 "cells": [
  {
   "cell_type": "markdown",
   "id": "f6f8ba82",
   "metadata": {},
   "source": [
    "# Etude  préprocessing données Accidents Routiers"
   ]
  },
  {
   "cell_type": "markdown",
   "id": "d571b8c6",
   "metadata": {},
   "source": [
    "\n",
    "## [Standardisation des données](#scaling_data)\n",
    "\n",
    "## [Entrainement de quelques modèles](#train_models)\n",
    "\n",
    "## [Hyperparameter tuning by grid-search](#tuning_gridsearch)\n",
    "\n",
    "## [Jeux de données déséquilibrés](#data_desequilibre)\n",
    "\n",
    "## [Réduction de dimension](#reduction_dimension)"
   ]
  },
  {
   "cell_type": "code",
   "execution_count": 2,
   "id": "a8a154e5",
   "metadata": {},
   "outputs": [],
   "source": [
    "# Import des packages\n",
    "import pandas as pd;\n",
    "import seaborn as sns\n",
    "import matplotlib.pyplot as plt\n",
    "%matplotlib inline\n",
    "import numpy as np\n",
    "\n",
    "import missingno as msno"
   ]
  },
  {
   "cell_type": "code",
   "execution_count": 3,
   "id": "9e8ff9aa",
   "metadata": {},
   "outputs": [],
   "source": [
    "from sklearn.compose import make_column_selector as selector"
   ]
  },
  {
   "cell_type": "code",
   "execution_count": 4,
   "id": "1679797c",
   "metadata": {},
   "outputs": [],
   "source": [
    "from sklearn.model_selection import train_test_split\n",
    "from sklearn.model_selection import KFold\n",
    "from sklearn.model_selection import cross_val_score\n",
    "from sklearn.compose import make_column_selector, make_column_transformer\n",
    "from sklearn.ensemble import HistGradientBoostingClassifier\n",
    "from sklearn.ensemble import RandomForestClassifier\n",
    "from sklearn.pipeline import Pipeline\n",
    "from sklearn.pipeline import make_pipeline"
   ]
  },
  {
   "cell_type": "code",
   "execution_count": 5,
   "id": "86a3a618",
   "metadata": {},
   "outputs": [],
   "source": [
    "# numerical scaling numerical features which will be standardized\n",
    "from sklearn.preprocessing import OneHotEncoder, StandardScaler\n",
    "from sklearn.compose import ColumnTransformer"
   ]
  },
  {
   "cell_type": "code",
   "execution_count": 6,
   "id": "19432b0a",
   "metadata": {},
   "outputs": [],
   "source": [
    "from sklearn.preprocessing import OrdinalEncoder"
   ]
  },
  {
   "cell_type": "code",
   "execution_count": 7,
   "id": "1f30f433",
   "metadata": {},
   "outputs": [],
   "source": [
    "from sklearn import set_config"
   ]
  },
  {
   "cell_type": "code",
   "execution_count": 8,
   "id": "68f993eb",
   "metadata": {},
   "outputs": [],
   "source": [
    "import time"
   ]
  },
  {
   "cell_type": "code",
   "execution_count": 9,
   "id": "28dfe772",
   "metadata": {},
   "outputs": [],
   "source": [
    "from sklearn.metrics import accuracy_score, precision_score, recall_score, f1_score, classification_report, confusion_matrix"
   ]
  },
  {
   "cell_type": "code",
   "execution_count": 10,
   "id": "1a746502",
   "metadata": {},
   "outputs": [],
   "source": [
    "from sklearn.metrics import ConfusionMatrixDisplay, confusion_matrix"
   ]
  },
  {
   "cell_type": "markdown",
   "id": "b982ef61",
   "metadata": {},
   "source": [
    "!conda install -c conda-forge imbalanced-learn"
   ]
  },
  {
   "cell_type": "code",
   "execution_count": 11,
   "id": "0ed0e1f2",
   "metadata": {},
   "outputs": [],
   "source": [
    "from collections import Counter"
   ]
  },
  {
   "cell_type": "code",
   "execution_count": 12,
   "id": "5fcd5115",
   "metadata": {},
   "outputs": [],
   "source": [
    "from imblearn.under_sampling import RandomUnderSampler,  ClusterCentroids\n",
    "from imblearn.metrics import classification_report_imbalanced, geometric_mean_score"
   ]
  },
  {
   "cell_type": "code",
   "execution_count": 13,
   "id": "396d0fb6",
   "metadata": {},
   "outputs": [],
   "source": [
    "from imblearn.over_sampling import RandomOverSampler, SMOTE"
   ]
  },
  {
   "cell_type": "code",
   "execution_count": 14,
   "id": "5365179d",
   "metadata": {},
   "outputs": [],
   "source": [
    "from sklearn.preprocessing import MinMaxScaler"
   ]
  },
  {
   "cell_type": "code",
   "execution_count": 15,
   "id": "640c9185",
   "metadata": {},
   "outputs": [],
   "source": [
    "from sklearn.linear_model import LogisticRegression"
   ]
  },
  {
   "cell_type": "code",
   "execution_count": 16,
   "id": "a2966fb6",
   "metadata": {},
   "outputs": [],
   "source": [
    "from sklearn.feature_selection import VarianceThreshold, SelectKBest, SelectFromModel, RFE, RFECV\n",
    "from sklearn.feature_selection import SelectPercentile, chi2, f_classif, mutual_info_classif"
   ]
  },
  {
   "cell_type": "code",
   "execution_count": 17,
   "id": "21adc60c",
   "metadata": {},
   "outputs": [],
   "source": [
    "from sklearn.neighbors import KNeighborsClassifier"
   ]
  },
  {
   "cell_type": "code",
   "execution_count": 18,
   "id": "7cf395fb",
   "metadata": {},
   "outputs": [],
   "source": [
    "from sklearn.linear_model import RidgeClassifier, SGDClassifier"
   ]
  },
  {
   "cell_type": "code",
   "execution_count": 19,
   "id": "95874586",
   "metadata": {},
   "outputs": [],
   "source": [
    "from sklearn.tree import DecisionTreeClassifier"
   ]
  },
  {
   "cell_type": "code",
   "execution_count": 20,
   "id": "29e7eed0",
   "metadata": {},
   "outputs": [],
   "source": [
    "from sklearn.ensemble import AdaBoostClassifier\n",
    "\n",
    "from imblearn.ensemble import EasyEnsembleClassifier, RUSBoostClassifier"
   ]
  },
  {
   "cell_type": "code",
   "execution_count": 21,
   "id": "3d751dd9",
   "metadata": {},
   "outputs": [],
   "source": [
    "from imblearn.ensemble import BalancedRandomForestClassifier"
   ]
  },
  {
   "cell_type": "code",
   "execution_count": 22,
   "id": "0ba32e0b",
   "metadata": {},
   "outputs": [],
   "source": [
    "from sklearn.metrics import balanced_accuracy_score"
   ]
  },
  {
   "cell_type": "code",
   "execution_count": 23,
   "id": "20fc8460",
   "metadata": {},
   "outputs": [],
   "source": [
    "from sklearn.ensemble import BaggingClassifier\n",
    "\n",
    "from imblearn.ensemble import BalancedBaggingClassifier"
   ]
  },
  {
   "cell_type": "code",
   "execution_count": 24,
   "id": "919e6746",
   "metadata": {},
   "outputs": [],
   "source": [
    "# Importez la librairie tqdm\n",
    "import tqdm"
   ]
  },
  {
   "cell_type": "code",
   "execution_count": 83,
   "id": "991f2b47",
   "metadata": {},
   "outputs": [],
   "source": [
    "from itertools import cycle\n",
    "from sklearn.metrics import average_precision_score, precision_recall_curve\n"
   ]
  },
  {
   "cell_type": "code",
   "execution_count": 84,
   "id": "168c7c6c",
   "metadata": {},
   "outputs": [],
   "source": [
    "from sklearn.model_selection import cross_validate\n",
    "\n",
    "from sklearn.model_selection import GridSearchCV"
   ]
  },
  {
   "cell_type": "code",
   "execution_count": 25,
   "id": "a69b1666",
   "metadata": {},
   "outputs": [],
   "source": [
    "# Using the categorical dtype is a great way to save memory and boost performance. Specifying the dtypes will lower the amount of memory required to load your dataset. This is quite helpful when dealing with large datasets!\n",
    "\n",
    "# Create a dictionary with column names as keys and \"category\" as values\n",
    "acc_dtypes = {\n",
    "    \"place\":\"category\",\n",
    "    \"catu\":\"category\",\n",
    "    \"grav\":\"category\",\n",
    "    \"sexe\":\"category\",\n",
    "    \"trajet\":\"category\",\n",
    "    \"locp\":\"category\",\n",
    "    \"actp\":\"category\",\n",
    "    \"etatp\":\"category\",\n",
    "    \"secuUn\":\"category\",\n",
    "    \"secuDeux\":\"category\",\n",
    "    \"tranches_ages\":\"category\",\n",
    "    \"catr\":\"category\",\n",
    "    \"circ\":\"category\",\n",
    "    \"vosp\":\"category\",\n",
    "    \"prof\":\"category\",\n",
    "    \"plan\":\"category\",\n",
    "    \"surf\":\"category\",\n",
    "    \"infra\":\"category\",\n",
    "    \"situ\":\"category\",\n",
    "    \"senc\":\"category\",\n",
    "    \"obs\":\"category\",\n",
    "    \"obsm\":\"category\",\n",
    "    \"choc\":\"category\",\n",
    "    \"manv\":\"category\",\n",
    "    \"catv_Label\":\"category\",\n",
    "    \"lum\":\"category\",\n",
    "    \"agg\":\"category\",\n",
    "    \"int\":\"category\",\n",
    "    \"atm\":\"category\",\n",
    "    \"col\":\"category\",\n",
    "    \"jour_de_la_semaine\":\"category\",\n",
    "    \"heure\":\"category\",\n",
    "    }"
   ]
  },
  {
   "cell_type": "raw",
   "id": "c544d9e5",
   "metadata": {},
   "source": [
    "num_acc                        int64\n",
    "heure                          int64\n",
    "num_veh                       object\n",
    "com                           object\n",
    "dep                           object\n",
    "age_acc_an                   float64\n",
    "nbv                          float64\n",
    "occutc                       float64"
   ]
  },
  {
   "cell_type": "code",
   "execution_count": 26,
   "id": "363a23b7",
   "metadata": {},
   "outputs": [
    {
     "data": {
      "text/html": [
       "<div>\n",
       "<style scoped>\n",
       "    .dataframe tbody tr th:only-of-type {\n",
       "        vertical-align: middle;\n",
       "    }\n",
       "\n",
       "    .dataframe tbody tr th {\n",
       "        vertical-align: top;\n",
       "    }\n",
       "\n",
       "    .dataframe thead th {\n",
       "        text-align: right;\n",
       "    }\n",
       "</style>\n",
       "<table border=\"1\" class=\"dataframe\">\n",
       "  <thead>\n",
       "    <tr style=\"text-align: right;\">\n",
       "      <th></th>\n",
       "      <th>Unnamed: 0</th>\n",
       "      <th>num_acc</th>\n",
       "      <th>place</th>\n",
       "      <th>catu</th>\n",
       "      <th>grav</th>\n",
       "      <th>sexe</th>\n",
       "      <th>trajet</th>\n",
       "      <th>locp</th>\n",
       "      <th>actp</th>\n",
       "      <th>etatp</th>\n",
       "      <th>...</th>\n",
       "      <th>lum</th>\n",
       "      <th>agg</th>\n",
       "      <th>int</th>\n",
       "      <th>atm</th>\n",
       "      <th>col</th>\n",
       "      <th>com</th>\n",
       "      <th>dep</th>\n",
       "      <th>date</th>\n",
       "      <th>jour_de_la_semaine</th>\n",
       "      <th>heure</th>\n",
       "    </tr>\n",
       "  </thead>\n",
       "  <tbody>\n",
       "    <tr>\n",
       "      <th>0</th>\n",
       "      <td>0</td>\n",
       "      <td>200500000001</td>\n",
       "      <td>1.0</td>\n",
       "      <td>Conducteur</td>\n",
       "      <td>Blessé léger</td>\n",
       "      <td>Masculin</td>\n",
       "      <td>Domicile – travail</td>\n",
       "      <td>Sans objet</td>\n",
       "      <td>Non renseigné ou sans objet</td>\n",
       "      <td>Non renseigné</td>\n",
       "      <td>...</td>\n",
       "      <td>Nuit sans éclairage public</td>\n",
       "      <td>En agglomération</td>\n",
       "      <td>Hors intersection</td>\n",
       "      <td>Normale</td>\n",
       "      <td>Deux véhicules – par le coté</td>\n",
       "      <td>11</td>\n",
       "      <td>59</td>\n",
       "      <td>2005-01-12</td>\n",
       "      <td>Mercredi</td>\n",
       "      <td>19</td>\n",
       "    </tr>\n",
       "    <tr>\n",
       "      <th>1</th>\n",
       "      <td>1</td>\n",
       "      <td>200500000001</td>\n",
       "      <td>1.0</td>\n",
       "      <td>Conducteur</td>\n",
       "      <td>Blessé hospitalisé</td>\n",
       "      <td>Féminin</td>\n",
       "      <td>Courses – achats</td>\n",
       "      <td>Sans objet</td>\n",
       "      <td>Non renseigné ou sans objet</td>\n",
       "      <td>Non renseigné</td>\n",
       "      <td>...</td>\n",
       "      <td>Nuit sans éclairage public</td>\n",
       "      <td>En agglomération</td>\n",
       "      <td>Hors intersection</td>\n",
       "      <td>Normale</td>\n",
       "      <td>Deux véhicules – par le coté</td>\n",
       "      <td>11</td>\n",
       "      <td>59</td>\n",
       "      <td>2005-01-12</td>\n",
       "      <td>Mercredi</td>\n",
       "      <td>19</td>\n",
       "    </tr>\n",
       "    <tr>\n",
       "      <th>2</th>\n",
       "      <td>2</td>\n",
       "      <td>200500000001</td>\n",
       "      <td>2.0</td>\n",
       "      <td>Passager</td>\n",
       "      <td>Indemne</td>\n",
       "      <td>Masculin</td>\n",
       "      <td>Non renseigné</td>\n",
       "      <td>Sans objet</td>\n",
       "      <td>Non renseigné ou sans objet</td>\n",
       "      <td>Non renseigné</td>\n",
       "      <td>...</td>\n",
       "      <td>Nuit sans éclairage public</td>\n",
       "      <td>En agglomération</td>\n",
       "      <td>Hors intersection</td>\n",
       "      <td>Normale</td>\n",
       "      <td>Deux véhicules – par le coté</td>\n",
       "      <td>11</td>\n",
       "      <td>59</td>\n",
       "      <td>2005-01-12</td>\n",
       "      <td>Mercredi</td>\n",
       "      <td>19</td>\n",
       "    </tr>\n",
       "    <tr>\n",
       "      <th>3</th>\n",
       "      <td>3</td>\n",
       "      <td>200500000001</td>\n",
       "      <td>4.0</td>\n",
       "      <td>Passager</td>\n",
       "      <td>Indemne</td>\n",
       "      <td>Masculin</td>\n",
       "      <td>Non renseigné</td>\n",
       "      <td>Sans objet</td>\n",
       "      <td>Non renseigné ou sans objet</td>\n",
       "      <td>Non renseigné</td>\n",
       "      <td>...</td>\n",
       "      <td>Nuit sans éclairage public</td>\n",
       "      <td>En agglomération</td>\n",
       "      <td>Hors intersection</td>\n",
       "      <td>Normale</td>\n",
       "      <td>Deux véhicules – par le coté</td>\n",
       "      <td>11</td>\n",
       "      <td>59</td>\n",
       "      <td>2005-01-12</td>\n",
       "      <td>Mercredi</td>\n",
       "      <td>19</td>\n",
       "    </tr>\n",
       "    <tr>\n",
       "      <th>4</th>\n",
       "      <td>4</td>\n",
       "      <td>200500000001</td>\n",
       "      <td>5.0</td>\n",
       "      <td>Passager</td>\n",
       "      <td>Indemne</td>\n",
       "      <td>Masculin</td>\n",
       "      <td>Non renseigné</td>\n",
       "      <td>Sans objet</td>\n",
       "      <td>Non renseigné ou sans objet</td>\n",
       "      <td>Non renseigné</td>\n",
       "      <td>...</td>\n",
       "      <td>Nuit sans éclairage public</td>\n",
       "      <td>En agglomération</td>\n",
       "      <td>Hors intersection</td>\n",
       "      <td>Normale</td>\n",
       "      <td>Deux véhicules – par le coté</td>\n",
       "      <td>11</td>\n",
       "      <td>59</td>\n",
       "      <td>2005-01-12</td>\n",
       "      <td>Mercredi</td>\n",
       "      <td>19</td>\n",
       "    </tr>\n",
       "  </tbody>\n",
       "</table>\n",
       "<p>5 rows × 42 columns</p>\n",
       "</div>"
      ],
      "text/plain": [
       "   Unnamed: 0       num_acc place        catu                grav      sexe  \\\n",
       "0           0  200500000001   1.0  Conducteur        Blessé léger  Masculin   \n",
       "1           1  200500000001   1.0  Conducteur  Blessé hospitalisé   Féminin   \n",
       "2           2  200500000001   2.0    Passager             Indemne  Masculin   \n",
       "3           3  200500000001   4.0    Passager             Indemne  Masculin   \n",
       "4           4  200500000001   5.0    Passager             Indemne  Masculin   \n",
       "\n",
       "               trajet        locp                         actp          etatp  \\\n",
       "0  Domicile – travail  Sans objet  Non renseigné ou sans objet  Non renseigné   \n",
       "1    Courses – achats  Sans objet  Non renseigné ou sans objet  Non renseigné   \n",
       "2       Non renseigné  Sans objet  Non renseigné ou sans objet  Non renseigné   \n",
       "3       Non renseigné  Sans objet  Non renseigné ou sans objet  Non renseigné   \n",
       "4       Non renseigné  Sans objet  Non renseigné ou sans objet  Non renseigné   \n",
       "\n",
       "   ...                         lum               agg                int  \\\n",
       "0  ...  Nuit sans éclairage public  En agglomération  Hors intersection   \n",
       "1  ...  Nuit sans éclairage public  En agglomération  Hors intersection   \n",
       "2  ...  Nuit sans éclairage public  En agglomération  Hors intersection   \n",
       "3  ...  Nuit sans éclairage public  En agglomération  Hors intersection   \n",
       "4  ...  Nuit sans éclairage public  En agglomération  Hors intersection   \n",
       "\n",
       "       atm                           col com dep       date  \\\n",
       "0  Normale  Deux véhicules – par le coté  11  59 2005-01-12   \n",
       "1  Normale  Deux véhicules – par le coté  11  59 2005-01-12   \n",
       "2  Normale  Deux véhicules – par le coté  11  59 2005-01-12   \n",
       "3  Normale  Deux véhicules – par le coté  11  59 2005-01-12   \n",
       "4  Normale  Deux véhicules – par le coté  11  59 2005-01-12   \n",
       "\n",
       "   jour_de_la_semaine heure  \n",
       "0            Mercredi    19  \n",
       "1            Mercredi    19  \n",
       "2            Mercredi    19  \n",
       "3            Mercredi    19  \n",
       "4            Mercredi    19  \n",
       "\n",
       "[5 rows x 42 columns]"
      ]
     },
     "execution_count": 26,
     "metadata": {},
     "output_type": "execute_result"
    }
   ],
   "source": [
    "# Read in the CSV using the dtypes parameter\n",
    "accRoutierFr = pd.read_csv('fusion3.csv', parse_dates=[\"an_nais\", \"date\"], dtype=acc_dtypes, low_memory=False)\n",
    "accRoutierFr.head()"
   ]
  },
  {
   "cell_type": "code",
   "execution_count": 27,
   "id": "e47a39f9",
   "metadata": {},
   "outputs": [
    {
     "name": "stdout",
     "output_type": "stream",
     "text": [
      "<class 'pandas.core.frame.DataFrame'>\n",
      "RangeIndex: 2291797 entries, 0 to 2291796\n",
      "Data columns (total 42 columns):\n",
      " #   Column              Dtype         \n",
      "---  ------              -----         \n",
      " 0   Unnamed: 0          int64         \n",
      " 1   num_acc             int64         \n",
      " 2   place               category      \n",
      " 3   catu                category      \n",
      " 4   grav                category      \n",
      " 5   sexe                category      \n",
      " 6   trajet              category      \n",
      " 7   locp                category      \n",
      " 8   actp                category      \n",
      " 9   etatp               category      \n",
      " 10  an_nais             datetime64[ns]\n",
      " 11  num_veh             object        \n",
      " 12  secuUn              category      \n",
      " 13  secuDeux            category      \n",
      " 14  age_acc_an          float64       \n",
      " 15  tranches_ages       category      \n",
      " 16  catr                category      \n",
      " 17  circ                category      \n",
      " 18  nbv                 float64       \n",
      " 19  vosp                category      \n",
      " 20  prof                category      \n",
      " 21  plan                category      \n",
      " 22  surf                category      \n",
      " 23  infra               category      \n",
      " 24  situ                category      \n",
      " 25  senc                category      \n",
      " 26  occutc              float64       \n",
      " 27  obs                 category      \n",
      " 28  obsm                category      \n",
      " 29  choc                category      \n",
      " 30  manv                category      \n",
      " 31  catv_Label          category      \n",
      " 32  lum                 category      \n",
      " 33  agg                 category      \n",
      " 34  int                 category      \n",
      " 35  atm                 category      \n",
      " 36  col                 category      \n",
      " 37  com                 object        \n",
      " 38  dep                 object        \n",
      " 39  date                datetime64[ns]\n",
      " 40  jour_de_la_semaine  category      \n",
      " 41  heure               category      \n",
      "dtypes: category(32), datetime64[ns](2), float64(3), int64(2), object(3)\n",
      "memory usage: 244.8+ MB\n"
     ]
    }
   ],
   "source": [
    "accRoutierFr.info()"
   ]
  },
  {
   "cell_type": "code",
   "execution_count": 28,
   "id": "2cf40cc4",
   "metadata": {},
   "outputs": [
    {
     "data": {
      "text/plain": [
       "Index(['Blessé hospitalisé', 'Blessé léger', 'Indemne', 'Tué'], dtype='object')"
      ]
     },
     "execution_count": 28,
     "metadata": {},
     "output_type": "execute_result"
    }
   ],
   "source": [
    "accRoutierFr.grav.cat.categories"
   ]
  },
  {
   "cell_type": "code",
   "execution_count": 29,
   "id": "6a106c15",
   "metadata": {},
   "outputs": [],
   "source": [
    "accRoutierFr.grav = accRoutierFr.grav.cat.reorder_categories(\n",
    "  new_categories=['Indemne', 'Blessé léger', 'Blessé hospitalisé', 'Tué'], \n",
    "  ordered=True\n",
    ")"
   ]
  },
  {
   "cell_type": "code",
   "execution_count": 30,
   "id": "d169afb7",
   "metadata": {},
   "outputs": [
    {
     "data": {
      "text/plain": [
       "Index(['Indemne', 'Blessé léger', 'Blessé hospitalisé', 'Tué'], dtype='object')"
      ]
     },
     "execution_count": 30,
     "metadata": {},
     "output_type": "execute_result"
    }
   ],
   "source": [
    "accRoutierFr.grav.cat.categories"
   ]
  },
  {
   "cell_type": "code",
   "execution_count": 31,
   "id": "4a255199",
   "metadata": {},
   "outputs": [
    {
     "data": {
      "text/plain": [
       "Index(['Dimanche', 'Jeudi', 'Lundi', 'Mardi', 'Mercredi', 'Samedi',\n",
       "       'Vendredi'],\n",
       "      dtype='object')"
      ]
     },
     "execution_count": 31,
     "metadata": {},
     "output_type": "execute_result"
    }
   ],
   "source": [
    "accRoutierFr.jour_de_la_semaine.cat.categories"
   ]
  },
  {
   "cell_type": "code",
   "execution_count": 32,
   "id": "d2ca5531",
   "metadata": {},
   "outputs": [],
   "source": [
    "accRoutierFr.jour_de_la_semaine = accRoutierFr.jour_de_la_semaine.cat.reorder_categories(\n",
    "  new_categories=['Lundi', 'Mardi', 'Mercredi', 'Jeudi', 'Vendredi', 'Samedi', 'Dimanche'], \n",
    "  ordered=True\n",
    ")"
   ]
  },
  {
   "cell_type": "code",
   "execution_count": 33,
   "id": "97ad3e20",
   "metadata": {},
   "outputs": [
    {
     "data": {
      "text/plain": [
       "Index(['Lundi', 'Mardi', 'Mercredi', 'Jeudi', 'Vendredi', 'Samedi',\n",
       "       'Dimanche'],\n",
       "      dtype='object')"
      ]
     },
     "execution_count": 33,
     "metadata": {},
     "output_type": "execute_result"
    }
   ],
   "source": [
    "accRoutierFr.jour_de_la_semaine.cat.categories"
   ]
  },
  {
   "cell_type": "code",
   "execution_count": 34,
   "id": "5f414878",
   "metadata": {},
   "outputs": [
    {
     "data": {
      "text/plain": [
       "Index(['0', '1', '10', '11', '12', '13', '14', '15', '16', '17', '18', '19',\n",
       "       '2', '20', '21', '22', '23', '3', '4', '5', '6', '7', '8', '9'],\n",
       "      dtype='object')"
      ]
     },
     "execution_count": 34,
     "metadata": {},
     "output_type": "execute_result"
    }
   ],
   "source": [
    "accRoutierFr.heure.cat.categories"
   ]
  },
  {
   "cell_type": "code",
   "execution_count": 35,
   "id": "df21855f",
   "metadata": {},
   "outputs": [],
   "source": [
    "accRoutierFr.heure = accRoutierFr.heure.cat.reorder_categories(\n",
    "  new_categories=['0', '1', '2', '3', '4', '5', '6', '7', '8', '9', '10', \n",
    "                  '11', '12', '13', '14', '15', '16', '17', '18', '19', '20', '21', '22', '23'], \n",
    "  ordered=True\n",
    ")"
   ]
  },
  {
   "cell_type": "code",
   "execution_count": 36,
   "id": "430d213b",
   "metadata": {},
   "outputs": [
    {
     "data": {
      "text/plain": [
       "Index(['0', '1', '2', '3', '4', '5', '6', '7', '8', '9', '10', '11', '12',\n",
       "       '13', '14', '15', '16', '17', '18', '19', '20', '21', '22', '23'],\n",
       "      dtype='object')"
      ]
     },
     "execution_count": 36,
     "metadata": {},
     "output_type": "execute_result"
    }
   ],
   "source": [
    "accRoutierFr.heure.cat.categories"
   ]
  },
  {
   "cell_type": "code",
   "execution_count": 37,
   "id": "40797cac",
   "metadata": {},
   "outputs": [
    {
     "data": {
      "text/plain": [
       "Index(['Aucun', 'Autres', 'Bretelle d’échangeur ou de raccordement',\n",
       "       'Carrefour aménagé', 'Chantier', 'Non renseigné', 'Pont - autopont',\n",
       "       'Souterrain - tunnel', 'Voie ferrée', 'Zone de péage', 'Zone piétonne'],\n",
       "      dtype='object')"
      ]
     },
     "execution_count": 37,
     "metadata": {},
     "output_type": "execute_result"
    }
   ],
   "source": [
    "accRoutierFr.infra.cat.categories"
   ]
  },
  {
   "cell_type": "code",
   "execution_count": 38,
   "id": "464a525d",
   "metadata": {},
   "outputs": [
    {
     "data": {
      "text/plain": [
       "Index(['Bande cyclable(2)', 'Non renseigné(-1)', 'Piste cyclable(1)',\n",
       "       'Sans objet(0)', 'Voie réservée(3)'],\n",
       "      dtype='object')"
      ]
     },
     "execution_count": 38,
     "metadata": {},
     "output_type": "execute_result"
    }
   ],
   "source": [
    "accRoutierFr.vosp.cat.categories"
   ]
  },
  {
   "cell_type": "code",
   "execution_count": 39,
   "id": "bbe75511",
   "metadata": {},
   "outputs": [
    {
     "data": {
      "text/plain": [
       "Index(['Autre collision', 'Deux véhicules - frontale',\n",
       "       'Deux véhicules – par le coté', 'Deux véhicules – par l’arrière',\n",
       "       'Non renseigné', 'Sans collision',\n",
       "       'Trois véhicules et plus - collisions multiples',\n",
       "       'Trois véhicules et plus – en chaîne'],\n",
       "      dtype='object')"
      ]
     },
     "execution_count": 39,
     "metadata": {},
     "output_type": "execute_result"
    }
   ],
   "source": [
    "accRoutierFr.col.cat.categories"
   ]
  },
  {
   "cell_type": "code",
   "execution_count": 40,
   "id": "ea36ae63",
   "metadata": {},
   "outputs": [
    {
     "name": "stdout",
     "output_type": "stream",
     "text": [
      "<class 'pandas.core.frame.DataFrame'>\n",
      "RangeIndex: 2291797 entries, 0 to 2291796\n",
      "Data columns (total 42 columns):\n",
      " #   Column              Dtype         \n",
      "---  ------              -----         \n",
      " 0   Unnamed: 0          int64         \n",
      " 1   num_acc             int64         \n",
      " 2   place               category      \n",
      " 3   catu                category      \n",
      " 4   grav                category      \n",
      " 5   sexe                category      \n",
      " 6   trajet              category      \n",
      " 7   locp                category      \n",
      " 8   actp                category      \n",
      " 9   etatp               category      \n",
      " 10  an_nais             datetime64[ns]\n",
      " 11  num_veh             object        \n",
      " 12  secuUn              category      \n",
      " 13  secuDeux            category      \n",
      " 14  age_acc_an          float64       \n",
      " 15  tranches_ages       category      \n",
      " 16  catr                category      \n",
      " 17  circ                category      \n",
      " 18  nbv                 float64       \n",
      " 19  vosp                category      \n",
      " 20  prof                category      \n",
      " 21  plan                category      \n",
      " 22  surf                category      \n",
      " 23  infra               category      \n",
      " 24  situ                category      \n",
      " 25  senc                category      \n",
      " 26  occutc              float64       \n",
      " 27  obs                 category      \n",
      " 28  obsm                category      \n",
      " 29  choc                category      \n",
      " 30  manv                category      \n",
      " 31  catv_Label          category      \n",
      " 32  lum                 category      \n",
      " 33  agg                 category      \n",
      " 34  int                 category      \n",
      " 35  atm                 category      \n",
      " 36  col                 category      \n",
      " 37  com                 object        \n",
      " 38  dep                 object        \n",
      " 39  date                datetime64[ns]\n",
      " 40  jour_de_la_semaine  category      \n",
      " 41  heure               category      \n",
      "dtypes: category(32), datetime64[ns](2), float64(3), int64(2), object(3)\n",
      "memory usage: 244.8+ MB\n"
     ]
    }
   ],
   "source": [
    "accRoutierFr.info()"
   ]
  },
  {
   "cell_type": "code",
   "execution_count": 41,
   "id": "e8f2f0df",
   "metadata": {},
   "outputs": [
    {
     "data": {
      "text/plain": [
       "array(['59', '62', '80', '20', '60', '76', '27', '35', '22', '29', '56',\n",
       "       '14', '50', '61', '44', '49', '53', '72', '85', '33', '24', '40',\n",
       "       '47', '64', '86', '16', '17', '79', '87', '19', '23', '31', '90',\n",
       "       '12', '32', '46', '65', '81', '69', '82', '10', '70', '26', '38',\n",
       "       '42', '73', '74', '63', '30', '15', '43', '57', '54', '55', '88',\n",
       "       '67', '68', '51', '52', '21', '58', '71', '89', '25', '39', '13',\n",
       "       '83', '84', '34', '11', '48', '66', '2A', '2B', '78', '91', '95',\n",
       "       '77', '45', '18', '28', '36', '37', '41', '94', '75', '92', '93',\n",
       "       '972', '971', '973', '974', '976', '988', '02', '09', '07', '04',\n",
       "       '987', '03', '01', '06', '05', '986', '08', '977', '978', '975'],\n",
       "      dtype=object)"
      ]
     },
     "execution_count": 41,
     "metadata": {},
     "output_type": "execute_result"
    }
   ],
   "source": [
    "accRoutierFr.dep.unique()"
   ]
  },
  {
   "cell_type": "code",
   "execution_count": 42,
   "id": "5867c5fa",
   "metadata": {},
   "outputs": [
    {
     "data": {
      "text/plain": [
       "14129"
      ]
     },
     "execution_count": 42,
     "metadata": {},
     "output_type": "execute_result"
    }
   ],
   "source": [
    "len(accRoutierFr.com.unique())"
   ]
  },
  {
   "cell_type": "code",
   "execution_count": 43,
   "id": "19d61038",
   "metadata": {},
   "outputs": [
    {
     "data": {
      "text/plain": [
       "Unnamed: 0            0.000000\n",
       "plan                  0.000000\n",
       "surf                  0.000000\n",
       "infra                 0.000000\n",
       "situ                  0.000000\n",
       "senc                  0.000000\n",
       "occutc                0.000000\n",
       "obs                   0.000000\n",
       "obsm                  0.000000\n",
       "choc                  0.000000\n",
       "manv                  0.000000\n",
       "agg                   0.000000\n",
       "int                   0.000000\n",
       "atm                   0.000000\n",
       "dep                   0.000000\n",
       "date                  0.000000\n",
       "jour_de_la_semaine    0.000000\n",
       "vosp                  0.000000\n",
       "prof                  0.000000\n",
       "circ                  0.000000\n",
       "num_acc               0.000000\n",
       "place                 0.000000\n",
       "catu                  0.000000\n",
       "grav                  0.000000\n",
       "sexe                  0.000000\n",
       "nbv                   0.000000\n",
       "locp                  0.000000\n",
       "actp                  0.000000\n",
       "trajet                0.000000\n",
       "an_nais               0.000000\n",
       "num_veh               0.000000\n",
       "secuUn                0.000000\n",
       "secuDeux              0.000000\n",
       "age_acc_an            0.000000\n",
       "tranches_ages         0.000000\n",
       "catr                  0.000000\n",
       "etatp                 0.000000\n",
       "heure                 0.000000\n",
       "catv_Label            0.000131\n",
       "lum                   0.000262\n",
       "com                   0.000262\n",
       "col                   0.001876\n",
       "dtype: float64"
      ]
     },
     "execution_count": 43,
     "metadata": {},
     "output_type": "execute_result"
    }
   ],
   "source": [
    "size = accRoutierFr.shape\n",
    "\n",
    "# Count the number of missing values in each column\n",
    "nan_values = accRoutierFr.isna().sum()\n",
    "\n",
    "nan_values = nan_values.sort_values(ascending=True)*100/size[0]\n",
    "\n",
    "nan_values"
   ]
  },
  {
   "cell_type": "code",
   "execution_count": 44,
   "id": "399d71a5",
   "metadata": {},
   "outputs": [],
   "source": [
    "# Removes the rows that contains NULL values.\n",
    "accRoutierFr.dropna(inplace=True)"
   ]
  },
  {
   "cell_type": "code",
   "execution_count": 45,
   "id": "9ce35bff",
   "metadata": {},
   "outputs": [
    {
     "data": {
      "text/plain": [
       "Unnamed: 0            0.0\n",
       "infra                 0.0\n",
       "situ                  0.0\n",
       "senc                  0.0\n",
       "occutc                0.0\n",
       "obs                   0.0\n",
       "obsm                  0.0\n",
       "choc                  0.0\n",
       "manv                  0.0\n",
       "catv_Label            0.0\n",
       "lum                   0.0\n",
       "agg                   0.0\n",
       "int                   0.0\n",
       "atm                   0.0\n",
       "col                   0.0\n",
       "com                   0.0\n",
       "dep                   0.0\n",
       "date                  0.0\n",
       "surf                  0.0\n",
       "plan                  0.0\n",
       "prof                  0.0\n",
       "vosp                  0.0\n",
       "num_acc               0.0\n",
       "place                 0.0\n",
       "catu                  0.0\n",
       "grav                  0.0\n",
       "sexe                  0.0\n",
       "trajet                0.0\n",
       "locp                  0.0\n",
       "actp                  0.0\n",
       "jour_de_la_semaine    0.0\n",
       "etatp                 0.0\n",
       "num_veh               0.0\n",
       "secuUn                0.0\n",
       "secuDeux              0.0\n",
       "age_acc_an            0.0\n",
       "tranches_ages         0.0\n",
       "catr                  0.0\n",
       "circ                  0.0\n",
       "nbv                   0.0\n",
       "an_nais               0.0\n",
       "heure                 0.0\n",
       "dtype: float64"
      ]
     },
     "execution_count": 45,
     "metadata": {},
     "output_type": "execute_result"
    }
   ],
   "source": [
    "size = accRoutierFr.shape\n",
    "\n",
    "# Count the number of missing values in each column\n",
    "nan_values = accRoutierFr.isna().sum()\n",
    "\n",
    "nan_values = nan_values.sort_values(ascending=True)*100/size[0]\n",
    "\n",
    "nan_values"
   ]
  },
  {
   "cell_type": "markdown",
   "id": "302ec56a",
   "metadata": {},
   "source": [
    "Les colonnes 'Unnamed: 0', 'num_acc' et 'num_veh' sont sans importance pour notre problème, et on aimerait pouvoir effectuer des prédictions sur la gravité des accidents peu importe la date et l'emplacement géographique de l'accident, on peut donc également s'affranchir de la colonne 'com', 'dep' et 'num_veh'."
   ]
  },
  {
   "cell_type": "markdown",
   "id": "d2c211bc",
   "metadata": {},
   "source": [
    "##### Distribution en pourcentage de la variable cible."
   ]
  },
  {
   "cell_type": "code",
   "execution_count": 46,
   "id": "8b726de6",
   "metadata": {},
   "outputs": [],
   "source": [
    "target_name = \"grav\"\n",
    "y = accRoutierFr[target_name]"
   ]
  },
  {
   "cell_type": "code",
   "execution_count": 47,
   "id": "5f871543",
   "metadata": {},
   "outputs": [
    {
     "data": {
      "text/plain": [
       "Indemne               40.918403\n",
       "Blessé léger          36.011343\n",
       "Blessé hospitalisé    20.400796\n",
       "Tué                    2.669458\n",
       "Name: grav, dtype: float64"
      ]
     },
     "execution_count": 47,
     "metadata": {},
     "output_type": "execute_result"
    }
   ],
   "source": [
    "y.value_counts(normalize=True)*100"
   ]
  },
  {
   "cell_type": "markdown",
   "id": "97657c1c",
   "metadata": {},
   "source": [
    "##### Pre-processing pour standardiser les features"
   ]
  },
  {
   "cell_type": "code",
   "execution_count": 48,
   "id": "0c59f0fe",
   "metadata": {},
   "outputs": [
    {
     "data": {
      "text/plain": [
       "['place',\n",
       " 'catu',\n",
       " 'sexe',\n",
       " 'trajet',\n",
       " 'locp',\n",
       " 'actp',\n",
       " 'etatp',\n",
       " 'secuUn',\n",
       " 'secuDeux',\n",
       " 'tranches_ages',\n",
       " 'catr',\n",
       " 'circ',\n",
       " 'vosp',\n",
       " 'prof',\n",
       " 'plan',\n",
       " 'surf',\n",
       " 'infra',\n",
       " 'situ',\n",
       " 'senc',\n",
       " 'obs',\n",
       " 'obsm',\n",
       " 'choc',\n",
       " 'manv',\n",
       " 'catv_Label',\n",
       " 'lum',\n",
       " 'agg',\n",
       " 'int',\n",
       " 'atm',\n",
       " 'col',\n",
       " 'jour_de_la_semaine',\n",
       " 'heure']"
      ]
     },
     "execution_count": 48,
     "metadata": {},
     "output_type": "execute_result"
    }
   ],
   "source": [
    "categorical_columns_selector = selector(dtype_include=\"category\")\n",
    "categorical_columns = categorical_columns_selector(accRoutierFr.drop([\"grav\"], axis=1))\n",
    "categorical_columns"
   ]
  },
  {
   "cell_type": "code",
   "execution_count": 49,
   "id": "201629bb",
   "metadata": {},
   "outputs": [
    {
     "data": {
      "text/plain": [
       "['age_acc_an', 'nbv', 'occutc']"
      ]
     },
     "execution_count": 49,
     "metadata": {},
     "output_type": "execute_result"
    }
   ],
   "source": [
    "# Select columns based on their data type\n",
    "# we use the utility make_column_selector to select only columns with a specific data type\n",
    "numerical_columns_selector = selector(dtype_include=np.number)\n",
    "\n",
    "numerical_columns = numerical_columns_selector(accRoutierFr.drop([\"Unnamed: 0\", \"num_acc\"], axis=1))\n",
    "numerical_columns"
   ]
  },
  {
   "cell_type": "code",
   "execution_count": 50,
   "id": "b0ca51d7",
   "metadata": {},
   "outputs": [],
   "source": [
    "data_categorical = accRoutierFr[categorical_columns]\n",
    "data_numerical = accRoutierFr[numerical_columns]\n",
    "\n",
    "X = accRoutierFr[categorical_columns + numerical_columns]"
   ]
  },
  {
   "cell_type": "code",
   "execution_count": 51,
   "id": "739a4906",
   "metadata": {},
   "outputs": [
    {
     "data": {
      "text/html": [
       "<div>\n",
       "<style scoped>\n",
       "    .dataframe tbody tr th:only-of-type {\n",
       "        vertical-align: middle;\n",
       "    }\n",
       "\n",
       "    .dataframe tbody tr th {\n",
       "        vertical-align: top;\n",
       "    }\n",
       "\n",
       "    .dataframe thead th {\n",
       "        text-align: right;\n",
       "    }\n",
       "</style>\n",
       "<table border=\"1\" class=\"dataframe\">\n",
       "  <thead>\n",
       "    <tr style=\"text-align: right;\">\n",
       "      <th></th>\n",
       "      <th>place</th>\n",
       "      <th>catu</th>\n",
       "      <th>sexe</th>\n",
       "      <th>trajet</th>\n",
       "      <th>locp</th>\n",
       "      <th>actp</th>\n",
       "      <th>etatp</th>\n",
       "      <th>secuUn</th>\n",
       "      <th>secuDeux</th>\n",
       "      <th>tranches_ages</th>\n",
       "      <th>...</th>\n",
       "      <th>lum</th>\n",
       "      <th>agg</th>\n",
       "      <th>int</th>\n",
       "      <th>atm</th>\n",
       "      <th>col</th>\n",
       "      <th>jour_de_la_semaine</th>\n",
       "      <th>heure</th>\n",
       "      <th>age_acc_an</th>\n",
       "      <th>nbv</th>\n",
       "      <th>occutc</th>\n",
       "    </tr>\n",
       "  </thead>\n",
       "  <tbody>\n",
       "    <tr>\n",
       "      <th>0</th>\n",
       "      <td>1.0</td>\n",
       "      <td>Conducteur</td>\n",
       "      <td>Masculin</td>\n",
       "      <td>Domicile – travail</td>\n",
       "      <td>Sans objet</td>\n",
       "      <td>Non renseigné ou sans objet</td>\n",
       "      <td>Non renseigné</td>\n",
       "      <td>Ceinture</td>\n",
       "      <td>Ceinture</td>\n",
       "      <td>23-31</td>\n",
       "      <td>...</td>\n",
       "      <td>Nuit sans éclairage public</td>\n",
       "      <td>En agglomération</td>\n",
       "      <td>Hors intersection</td>\n",
       "      <td>Normale</td>\n",
       "      <td>Deux véhicules – par le coté</td>\n",
       "      <td>Mercredi</td>\n",
       "      <td>19</td>\n",
       "      <td>29.021918</td>\n",
       "      <td>2.0</td>\n",
       "      <td>0.0</td>\n",
       "    </tr>\n",
       "    <tr>\n",
       "      <th>1</th>\n",
       "      <td>1.0</td>\n",
       "      <td>Conducteur</td>\n",
       "      <td>Féminin</td>\n",
       "      <td>Courses – achats</td>\n",
       "      <td>Sans objet</td>\n",
       "      <td>Non renseigné ou sans objet</td>\n",
       "      <td>Non renseigné</td>\n",
       "      <td>Ceinture</td>\n",
       "      <td>Ceinture</td>\n",
       "      <td>32-40</td>\n",
       "      <td>...</td>\n",
       "      <td>Nuit sans éclairage public</td>\n",
       "      <td>En agglomération</td>\n",
       "      <td>Hors intersection</td>\n",
       "      <td>Normale</td>\n",
       "      <td>Deux véhicules – par le coté</td>\n",
       "      <td>Mercredi</td>\n",
       "      <td>19</td>\n",
       "      <td>37.027397</td>\n",
       "      <td>2.0</td>\n",
       "      <td>0.0</td>\n",
       "    </tr>\n",
       "    <tr>\n",
       "      <th>2</th>\n",
       "      <td>2.0</td>\n",
       "      <td>Passager</td>\n",
       "      <td>Masculin</td>\n",
       "      <td>Non renseigné</td>\n",
       "      <td>Sans objet</td>\n",
       "      <td>Non renseigné ou sans objet</td>\n",
       "      <td>Non renseigné</td>\n",
       "      <td>Ceinture</td>\n",
       "      <td>Ceinture</td>\n",
       "      <td>41-50</td>\n",
       "      <td>...</td>\n",
       "      <td>Nuit sans éclairage public</td>\n",
       "      <td>En agglomération</td>\n",
       "      <td>Hors intersection</td>\n",
       "      <td>Normale</td>\n",
       "      <td>Deux véhicules – par le coté</td>\n",
       "      <td>Mercredi</td>\n",
       "      <td>19</td>\n",
       "      <td>41.030137</td>\n",
       "      <td>2.0</td>\n",
       "      <td>0.0</td>\n",
       "    </tr>\n",
       "    <tr>\n",
       "      <th>3</th>\n",
       "      <td>4.0</td>\n",
       "      <td>Passager</td>\n",
       "      <td>Masculin</td>\n",
       "      <td>Non renseigné</td>\n",
       "      <td>Sans objet</td>\n",
       "      <td>Non renseigné ou sans objet</td>\n",
       "      <td>Non renseigné</td>\n",
       "      <td>Dispositif enfants</td>\n",
       "      <td>Ceinture</td>\n",
       "      <td>0-11</td>\n",
       "      <td>...</td>\n",
       "      <td>Nuit sans éclairage public</td>\n",
       "      <td>En agglomération</td>\n",
       "      <td>Hors intersection</td>\n",
       "      <td>Normale</td>\n",
       "      <td>Deux véhicules – par le coté</td>\n",
       "      <td>Mercredi</td>\n",
       "      <td>19</td>\n",
       "      <td>1.002740</td>\n",
       "      <td>2.0</td>\n",
       "      <td>0.0</td>\n",
       "    </tr>\n",
       "    <tr>\n",
       "      <th>4</th>\n",
       "      <td>5.0</td>\n",
       "      <td>Passager</td>\n",
       "      <td>Masculin</td>\n",
       "      <td>Non renseigné</td>\n",
       "      <td>Sans objet</td>\n",
       "      <td>Non renseigné ou sans objet</td>\n",
       "      <td>Non renseigné</td>\n",
       "      <td>Ceinture</td>\n",
       "      <td>Ceinture</td>\n",
       "      <td>0-11</td>\n",
       "      <td>...</td>\n",
       "      <td>Nuit sans éclairage public</td>\n",
       "      <td>En agglomération</td>\n",
       "      <td>Hors intersection</td>\n",
       "      <td>Normale</td>\n",
       "      <td>Deux véhicules – par le coté</td>\n",
       "      <td>Mercredi</td>\n",
       "      <td>19</td>\n",
       "      <td>7.005479</td>\n",
       "      <td>2.0</td>\n",
       "      <td>0.0</td>\n",
       "    </tr>\n",
       "  </tbody>\n",
       "</table>\n",
       "<p>5 rows × 34 columns</p>\n",
       "</div>"
      ],
      "text/plain": [
       "  place        catu      sexe              trajet        locp  \\\n",
       "0   1.0  Conducteur  Masculin  Domicile – travail  Sans objet   \n",
       "1   1.0  Conducteur   Féminin    Courses – achats  Sans objet   \n",
       "2   2.0    Passager  Masculin       Non renseigné  Sans objet   \n",
       "3   4.0    Passager  Masculin       Non renseigné  Sans objet   \n",
       "4   5.0    Passager  Masculin       Non renseigné  Sans objet   \n",
       "\n",
       "                          actp          etatp              secuUn  secuDeux  \\\n",
       "0  Non renseigné ou sans objet  Non renseigné            Ceinture  Ceinture   \n",
       "1  Non renseigné ou sans objet  Non renseigné            Ceinture  Ceinture   \n",
       "2  Non renseigné ou sans objet  Non renseigné            Ceinture  Ceinture   \n",
       "3  Non renseigné ou sans objet  Non renseigné  Dispositif enfants  Ceinture   \n",
       "4  Non renseigné ou sans objet  Non renseigné            Ceinture  Ceinture   \n",
       "\n",
       "  tranches_ages  ...                         lum               agg  \\\n",
       "0         23-31  ...  Nuit sans éclairage public  En agglomération   \n",
       "1         32-40  ...  Nuit sans éclairage public  En agglomération   \n",
       "2         41-50  ...  Nuit sans éclairage public  En agglomération   \n",
       "3          0-11  ...  Nuit sans éclairage public  En agglomération   \n",
       "4          0-11  ...  Nuit sans éclairage public  En agglomération   \n",
       "\n",
       "                 int      atm                           col  \\\n",
       "0  Hors intersection  Normale  Deux véhicules – par le coté   \n",
       "1  Hors intersection  Normale  Deux véhicules – par le coté   \n",
       "2  Hors intersection  Normale  Deux véhicules – par le coté   \n",
       "3  Hors intersection  Normale  Deux véhicules – par le coté   \n",
       "4  Hors intersection  Normale  Deux véhicules – par le coté   \n",
       "\n",
       "  jour_de_la_semaine heure age_acc_an  nbv occutc  \n",
       "0           Mercredi    19  29.021918  2.0    0.0  \n",
       "1           Mercredi    19  37.027397  2.0    0.0  \n",
       "2           Mercredi    19  41.030137  2.0    0.0  \n",
       "3           Mercredi    19   1.002740  2.0    0.0  \n",
       "4           Mercredi    19   7.005479  2.0    0.0  \n",
       "\n",
       "[5 rows x 34 columns]"
      ]
     },
     "execution_count": 51,
     "metadata": {},
     "output_type": "execute_result"
    }
   ],
   "source": [
    "X.head()"
   ]
  },
  {
   "cell_type": "code",
   "execution_count": 52,
   "id": "72aadea7",
   "metadata": {},
   "outputs": [
    {
     "name": "stdout",
     "output_type": "stream",
     "text": [
      "Number of samples: 2291739\n",
      "Number of features: 34\n",
      "Number of categorical features: 31\n",
      "Number of numerical features: 3\n"
     ]
    }
   ],
   "source": [
    "print(f\"Number of samples: {X.shape[0]}\")\n",
    "print(f\"Number of features: {X.shape[1]}\")\n",
    "print(f\"Number of categorical features: {len(categorical_columns)}\")\n",
    "print(f\"Number of numerical features: {len(numerical_columns)}\")"
   ]
  },
  {
   "cell_type": "code",
   "execution_count": 53,
   "id": "dd2d0f44",
   "metadata": {},
   "outputs": [],
   "source": [
    "categorical_indexes=[]\n",
    "for col in X.columns:\n",
    "    if X[col].dtype == 'category':\n",
    "        categorical_indexes.append(X.columns.get_loc(col))"
   ]
  },
  {
   "cell_type": "code",
   "execution_count": 54,
   "id": "62e21509",
   "metadata": {},
   "outputs": [
    {
     "data": {
      "text/plain": [
       "place                 category\n",
       "catu                  category\n",
       "sexe                  category\n",
       "trajet                category\n",
       "locp                  category\n",
       "actp                  category\n",
       "etatp                 category\n",
       "secuUn                category\n",
       "secuDeux              category\n",
       "tranches_ages         category\n",
       "catr                  category\n",
       "circ                  category\n",
       "vosp                  category\n",
       "prof                  category\n",
       "plan                  category\n",
       "surf                  category\n",
       "infra                 category\n",
       "situ                  category\n",
       "senc                  category\n",
       "obs                   category\n",
       "obsm                  category\n",
       "choc                  category\n",
       "manv                  category\n",
       "catv_Label            category\n",
       "lum                   category\n",
       "agg                   category\n",
       "int                   category\n",
       "atm                   category\n",
       "col                   category\n",
       "jour_de_la_semaine    category\n",
       "heure                 category\n",
       "age_acc_an             float64\n",
       "nbv                    float64\n",
       "occutc                 float64\n",
       "dtype: object"
      ]
     },
     "execution_count": 54,
     "metadata": {},
     "output_type": "execute_result"
    }
   ],
   "source": [
    "X.dtypes"
   ]
  },
  {
   "cell_type": "code",
   "execution_count": 55,
   "id": "bd224ed3",
   "metadata": {},
   "outputs": [
    {
     "data": {
      "text/plain": [
       "[0,\n",
       " 1,\n",
       " 2,\n",
       " 3,\n",
       " 4,\n",
       " 5,\n",
       " 6,\n",
       " 7,\n",
       " 8,\n",
       " 9,\n",
       " 10,\n",
       " 11,\n",
       " 12,\n",
       " 13,\n",
       " 14,\n",
       " 15,\n",
       " 16,\n",
       " 17,\n",
       " 18,\n",
       " 19,\n",
       " 20,\n",
       " 21,\n",
       " 22,\n",
       " 23,\n",
       " 24,\n",
       " 25,\n",
       " 26,\n",
       " 27,\n",
       " 28,\n",
       " 29,\n",
       " 30]"
      ]
     },
     "execution_count": 55,
     "metadata": {},
     "output_type": "execute_result"
    }
   ],
   "source": [
    "categorical_indexes"
   ]
  },
  {
   "cell_type": "code",
   "execution_count": 56,
   "id": "bf18693d",
   "metadata": {},
   "outputs": [
    {
     "data": {
      "text/html": [
       "<div>\n",
       "<style scoped>\n",
       "    .dataframe tbody tr th:only-of-type {\n",
       "        vertical-align: middle;\n",
       "    }\n",
       "\n",
       "    .dataframe tbody tr th {\n",
       "        vertical-align: top;\n",
       "    }\n",
       "\n",
       "    .dataframe thead th {\n",
       "        text-align: right;\n",
       "    }\n",
       "</style>\n",
       "<table border=\"1\" class=\"dataframe\">\n",
       "  <thead>\n",
       "    <tr style=\"text-align: right;\">\n",
       "      <th></th>\n",
       "      <th>age_acc_an</th>\n",
       "      <th>nbv</th>\n",
       "      <th>occutc</th>\n",
       "    </tr>\n",
       "  </thead>\n",
       "  <tbody>\n",
       "    <tr>\n",
       "      <th>0</th>\n",
       "      <td>29.021918</td>\n",
       "      <td>2.0</td>\n",
       "      <td>0.0</td>\n",
       "    </tr>\n",
       "    <tr>\n",
       "      <th>1</th>\n",
       "      <td>37.027397</td>\n",
       "      <td>2.0</td>\n",
       "      <td>0.0</td>\n",
       "    </tr>\n",
       "    <tr>\n",
       "      <th>2</th>\n",
       "      <td>41.030137</td>\n",
       "      <td>2.0</td>\n",
       "      <td>0.0</td>\n",
       "    </tr>\n",
       "    <tr>\n",
       "      <th>3</th>\n",
       "      <td>1.002740</td>\n",
       "      <td>2.0</td>\n",
       "      <td>0.0</td>\n",
       "    </tr>\n",
       "    <tr>\n",
       "      <th>4</th>\n",
       "      <td>7.005479</td>\n",
       "      <td>2.0</td>\n",
       "      <td>0.0</td>\n",
       "    </tr>\n",
       "  </tbody>\n",
       "</table>\n",
       "</div>"
      ],
      "text/plain": [
       "   age_acc_an  nbv  occutc\n",
       "0   29.021918  2.0     0.0\n",
       "1   37.027397  2.0     0.0\n",
       "2   41.030137  2.0     0.0\n",
       "3    1.002740  2.0     0.0\n",
       "4    7.005479  2.0     0.0"
      ]
     },
     "execution_count": 56,
     "metadata": {},
     "output_type": "execute_result"
    }
   ],
   "source": [
    "data_numerical.head()"
   ]
  },
  {
   "cell_type": "code",
   "execution_count": 57,
   "id": "4ec90505",
   "metadata": {},
   "outputs": [
    {
     "data": {
      "text/html": [
       "<div>\n",
       "<style scoped>\n",
       "    .dataframe tbody tr th:only-of-type {\n",
       "        vertical-align: middle;\n",
       "    }\n",
       "\n",
       "    .dataframe tbody tr th {\n",
       "        vertical-align: top;\n",
       "    }\n",
       "\n",
       "    .dataframe thead th {\n",
       "        text-align: right;\n",
       "    }\n",
       "</style>\n",
       "<table border=\"1\" class=\"dataframe\">\n",
       "  <thead>\n",
       "    <tr style=\"text-align: right;\">\n",
       "      <th></th>\n",
       "      <th>age_acc_an</th>\n",
       "      <th>nbv</th>\n",
       "      <th>occutc</th>\n",
       "    </tr>\n",
       "  </thead>\n",
       "  <tbody>\n",
       "    <tr>\n",
       "      <th>count</th>\n",
       "      <td>2.291739e+06</td>\n",
       "      <td>2.291739e+06</td>\n",
       "      <td>2.291739e+06</td>\n",
       "    </tr>\n",
       "    <tr>\n",
       "      <th>mean</th>\n",
       "      <td>3.755248e+01</td>\n",
       "      <td>2.133406e+00</td>\n",
       "      <td>1.529851e-01</td>\n",
       "    </tr>\n",
       "    <tr>\n",
       "      <th>std</th>\n",
       "      <td>1.812063e+01</td>\n",
       "      <td>1.525731e+00</td>\n",
       "      <td>3.282505e+00</td>\n",
       "    </tr>\n",
       "    <tr>\n",
       "      <th>min</th>\n",
       "      <td>1.000000e+00</td>\n",
       "      <td>-1.000000e+00</td>\n",
       "      <td>0.000000e+00</td>\n",
       "    </tr>\n",
       "    <tr>\n",
       "      <th>25%</th>\n",
       "      <td>2.301644e+01</td>\n",
       "      <td>2.000000e+00</td>\n",
       "      <td>0.000000e+00</td>\n",
       "    </tr>\n",
       "    <tr>\n",
       "      <th>50%</th>\n",
       "      <td>3.402466e+01</td>\n",
       "      <td>2.000000e+00</td>\n",
       "      <td>0.000000e+00</td>\n",
       "    </tr>\n",
       "    <tr>\n",
       "      <th>75%</th>\n",
       "      <td>5.003288e+01</td>\n",
       "      <td>2.000000e+00</td>\n",
       "      <td>0.000000e+00</td>\n",
       "    </tr>\n",
       "    <tr>\n",
       "      <th>max</th>\n",
       "      <td>9.006301e+01</td>\n",
       "      <td>9.900000e+01</td>\n",
       "      <td>9.000000e+02</td>\n",
       "    </tr>\n",
       "  </tbody>\n",
       "</table>\n",
       "</div>"
      ],
      "text/plain": [
       "         age_acc_an           nbv        occutc\n",
       "count  2.291739e+06  2.291739e+06  2.291739e+06\n",
       "mean   3.755248e+01  2.133406e+00  1.529851e-01\n",
       "std    1.812063e+01  1.525731e+00  3.282505e+00\n",
       "min    1.000000e+00 -1.000000e+00  0.000000e+00\n",
       "25%    2.301644e+01  2.000000e+00  0.000000e+00\n",
       "50%    3.402466e+01  2.000000e+00  0.000000e+00\n",
       "75%    5.003288e+01  2.000000e+00  0.000000e+00\n",
       "max    9.006301e+01  9.900000e+01  9.000000e+02"
      ]
     },
     "execution_count": 57,
     "metadata": {},
     "output_type": "execute_result"
    }
   ],
   "source": [
    "# printing some statistics about the training data.\n",
    "data_numerical.describe()"
   ]
  },
  {
   "cell_type": "markdown",
   "id": "6a904dad",
   "metadata": {},
   "source": [
    "We see that the dataset's features span across different ranges. \n",
    "\n",
    "Tip\n",
    "\n",
    "Here are some reasons for scaling features:\n",
    "\n",
    "Models that rely on the distance between a pair of samples, for instance k-nearest neighbors, should be trained on normalized features to make each feature contribute approximately equally to the distance computations.\n",
    "Many models such as logistic regression use a numerical solver (based on gradient descent) to find their optimal parameters. This solver converges faster when the features are scaled.\n",
    "\n",
    "Whether or not a machine learning model requires scaling the features depends on the model family. Linear models such as logistic regression generally benefit from scaling the features while other models such as decision trees do not need such preprocessing (but will not suffer from it)."
   ]
  },
  {
   "cell_type": "markdown",
   "id": "aad6c6c3",
   "metadata": {},
   "source": [
    "Le paramètre shuffle permet de décider si les échantillons sont choisis aléatoirement (option par défaut), ou bien si la séparation doit se faire en respectant l'ordre des données indiquées. Ce dernier cas peut correspondre à des cas d'usage où la donnée traitée admet un ordre ou une dimension temporelle comme un cours financiers, parcours d'un utilisateur sur un site, etc.."
   ]
  },
  {
   "cell_type": "code",
   "execution_count": 58,
   "id": "e4d535b9",
   "metadata": {},
   "outputs": [],
   "source": [
    "# split the array of features values, X, and target values, y, into training and test sets, \n",
    "#   ensuring that the same label proportions are reflected after the split\n",
    "X_train, X_test, y_train, y_test = train_test_split(X, y, test_size=0.2, stratify=y, random_state=259)\n",
    "\n"
   ]
  },
  {
   "cell_type": "code",
   "execution_count": 59,
   "id": "e919f1a4",
   "metadata": {},
   "outputs": [
    {
     "name": "stdout",
     "output_type": "stream",
     "text": [
      "Number of samples in testing: 458348 => 20.0% of the original set\n",
      "Number of samples in training: 1833391 => 80.0% of the original set\n"
     ]
    }
   ],
   "source": [
    "print(f\"Number of samples in testing: {X_test.shape[0]} => \"\n",
    "      f\"{X_test.shape[0] / data_categorical.shape[0] * 100:.1f}% of the\"\n",
    "      f\" original set\")\n",
    "\n",
    "print(f\"Number of samples in training: {X_train.shape[0]} => \"\n",
    "      f\"{X_train.shape[0] / data_categorical.shape[0] * 100:.1f}% of the\"\n",
    "      f\" original set\")"
   ]
  },
  {
   "cell_type": "markdown",
   "id": "398bcdb6",
   "metadata": {},
   "source": [
    "## Histogram-based Gradient Boosting Classification\n",
    "\n",
    "###### Model Training\n",
    "\n",
    "Histogram-based Gradient Boosting Classification Tree is much faster than GradientBoostingClassifier for big datasets (n_samples >= 10 000)."
   ]
  },
  {
   "cell_type": "code",
   "execution_count": 60,
   "id": "0d72891c",
   "metadata": {},
   "outputs": [],
   "source": [
    "###### Standardisation\n",
    "numerical_preprocessor = StandardScaler()"
   ]
  },
  {
   "cell_type": "code",
   "execution_count": 61,
   "id": "62cf210b",
   "metadata": {},
   "outputs": [],
   "source": [
    "# Modèle : Histogram-based Gradient Boosting Classification Tree\n",
    "hist_gradient_boosting = HistGradientBoostingClassifier(random_state=52)   "
   ]
  },
  {
   "cell_type": "markdown",
   "id": "babc5f9a",
   "metadata": {},
   "source": [
    "###### Gradient boosting estimator with dropped categorical features"
   ]
  },
  {
   "cell_type": "code",
   "execution_count": 60,
   "id": "ca4b53a4",
   "metadata": {},
   "outputs": [],
   "source": [
    "# create an estimator where the categorical features are dropped\n",
    "dropper_categorical_preprocessor = make_column_transformer(\n",
    "    (\"drop\", make_column_selector(dtype_include=\"category\")), remainder=\"passthrough\"\n",
    ")\n",
    "\n",
    "dropper_preprocessor = ColumnTransformer([\n",
    "    ('dropper', dropper_categorical_preprocessor, categorical_columns),\n",
    "    ('standard_scaler', numerical_preprocessor, numerical_columns)])\n",
    "\n",
    "#  create our dropped model\n",
    "#hist_dropped = make_pipeline(\n",
    "#    dropper_preprocessor, HistGradientBoostingClassifier() #random_state=42)\n",
    "#)\n",
    "hist_dropped = Pipeline(steps=[\n",
    "    ('scaler', dropper_preprocessor), \n",
    "    ('model_hist_dropped', hist_gradient_boosting) \n",
    "])"
   ]
  },
  {
   "cell_type": "code",
   "execution_count": 61,
   "id": "c4499273",
   "metadata": {},
   "outputs": [
    {
     "data": {
      "text/html": [
       "<style>#sk-b07880d1-c672-452a-a965-3d8e8ada9045 {color: black;background-color: white;}#sk-b07880d1-c672-452a-a965-3d8e8ada9045 pre{padding: 0;}#sk-b07880d1-c672-452a-a965-3d8e8ada9045 div.sk-toggleable {background-color: white;}#sk-b07880d1-c672-452a-a965-3d8e8ada9045 label.sk-toggleable__label {cursor: pointer;display: block;width: 100%;margin-bottom: 0;padding: 0.3em;box-sizing: border-box;text-align: center;}#sk-b07880d1-c672-452a-a965-3d8e8ada9045 label.sk-toggleable__label-arrow:before {content: \"▸\";float: left;margin-right: 0.25em;color: #696969;}#sk-b07880d1-c672-452a-a965-3d8e8ada9045 label.sk-toggleable__label-arrow:hover:before {color: black;}#sk-b07880d1-c672-452a-a965-3d8e8ada9045 div.sk-estimator:hover label.sk-toggleable__label-arrow:before {color: black;}#sk-b07880d1-c672-452a-a965-3d8e8ada9045 div.sk-toggleable__content {max-height: 0;max-width: 0;overflow: hidden;text-align: left;background-color: #f0f8ff;}#sk-b07880d1-c672-452a-a965-3d8e8ada9045 div.sk-toggleable__content pre {margin: 0.2em;color: black;border-radius: 0.25em;background-color: #f0f8ff;}#sk-b07880d1-c672-452a-a965-3d8e8ada9045 input.sk-toggleable__control:checked~div.sk-toggleable__content {max-height: 200px;max-width: 100%;overflow: auto;}#sk-b07880d1-c672-452a-a965-3d8e8ada9045 input.sk-toggleable__control:checked~label.sk-toggleable__label-arrow:before {content: \"▾\";}#sk-b07880d1-c672-452a-a965-3d8e8ada9045 div.sk-estimator input.sk-toggleable__control:checked~label.sk-toggleable__label {background-color: #d4ebff;}#sk-b07880d1-c672-452a-a965-3d8e8ada9045 div.sk-label input.sk-toggleable__control:checked~label.sk-toggleable__label {background-color: #d4ebff;}#sk-b07880d1-c672-452a-a965-3d8e8ada9045 input.sk-hidden--visually {border: 0;clip: rect(1px 1px 1px 1px);clip: rect(1px, 1px, 1px, 1px);height: 1px;margin: -1px;overflow: hidden;padding: 0;position: absolute;width: 1px;}#sk-b07880d1-c672-452a-a965-3d8e8ada9045 div.sk-estimator {font-family: monospace;background-color: #f0f8ff;border: 1px dotted black;border-radius: 0.25em;box-sizing: border-box;margin-bottom: 0.5em;}#sk-b07880d1-c672-452a-a965-3d8e8ada9045 div.sk-estimator:hover {background-color: #d4ebff;}#sk-b07880d1-c672-452a-a965-3d8e8ada9045 div.sk-parallel-item::after {content: \"\";width: 100%;border-bottom: 1px solid gray;flex-grow: 1;}#sk-b07880d1-c672-452a-a965-3d8e8ada9045 div.sk-label:hover label.sk-toggleable__label {background-color: #d4ebff;}#sk-b07880d1-c672-452a-a965-3d8e8ada9045 div.sk-serial::before {content: \"\";position: absolute;border-left: 1px solid gray;box-sizing: border-box;top: 2em;bottom: 0;left: 50%;}#sk-b07880d1-c672-452a-a965-3d8e8ada9045 div.sk-serial {display: flex;flex-direction: column;align-items: center;background-color: white;padding-right: 0.2em;padding-left: 0.2em;}#sk-b07880d1-c672-452a-a965-3d8e8ada9045 div.sk-item {z-index: 1;}#sk-b07880d1-c672-452a-a965-3d8e8ada9045 div.sk-parallel {display: flex;align-items: stretch;justify-content: center;background-color: white;}#sk-b07880d1-c672-452a-a965-3d8e8ada9045 div.sk-parallel::before {content: \"\";position: absolute;border-left: 1px solid gray;box-sizing: border-box;top: 2em;bottom: 0;left: 50%;}#sk-b07880d1-c672-452a-a965-3d8e8ada9045 div.sk-parallel-item {display: flex;flex-direction: column;position: relative;background-color: white;}#sk-b07880d1-c672-452a-a965-3d8e8ada9045 div.sk-parallel-item:first-child::after {align-self: flex-end;width: 50%;}#sk-b07880d1-c672-452a-a965-3d8e8ada9045 div.sk-parallel-item:last-child::after {align-self: flex-start;width: 50%;}#sk-b07880d1-c672-452a-a965-3d8e8ada9045 div.sk-parallel-item:only-child::after {width: 0;}#sk-b07880d1-c672-452a-a965-3d8e8ada9045 div.sk-dashed-wrapped {border: 1px dashed gray;margin: 0 0.4em 0.5em 0.4em;box-sizing: border-box;padding-bottom: 0.4em;background-color: white;position: relative;}#sk-b07880d1-c672-452a-a965-3d8e8ada9045 div.sk-label label {font-family: monospace;font-weight: bold;background-color: white;display: inline-block;line-height: 1.2em;}#sk-b07880d1-c672-452a-a965-3d8e8ada9045 div.sk-label-container {position: relative;z-index: 2;text-align: center;}#sk-b07880d1-c672-452a-a965-3d8e8ada9045 div.sk-container {/* jupyter's `normalize.less` sets `[hidden] { display: none; }` but bootstrap.min.css set `[hidden] { display: none !important; }` so we also need the `!important` here to be able to override the default hidden behavior on the sphinx rendered scikit-learn.org. See: https://github.com/scikit-learn/scikit-learn/issues/21755 */display: inline-block !important;position: relative;}#sk-b07880d1-c672-452a-a965-3d8e8ada9045 div.sk-text-repr-fallback {display: none;}</style><div id=\"sk-b07880d1-c672-452a-a965-3d8e8ada9045\" class=\"sk-top-container\"><div class=\"sk-text-repr-fallback\"><pre>Pipeline(steps=[(&#x27;scaler&#x27;,\n",
       "                 ColumnTransformer(transformers=[(&#x27;dropper&#x27;,\n",
       "                                                  ColumnTransformer(remainder=&#x27;passthrough&#x27;,\n",
       "                                                                    transformers=[(&#x27;drop&#x27;,\n",
       "                                                                                   &#x27;drop&#x27;,\n",
       "                                                                                   &lt;sklearn.compose._column_transformer.make_column_selector object at 0x7fd4fe5358e0&gt;)]),\n",
       "                                                  [&#x27;place&#x27;, &#x27;catu&#x27;, &#x27;sexe&#x27;,\n",
       "                                                   &#x27;trajet&#x27;, &#x27;locp&#x27;, &#x27;actp&#x27;,\n",
       "                                                   &#x27;etatp&#x27;, &#x27;secuUn&#x27;,\n",
       "                                                   &#x27;secuDeux&#x27;, &#x27;tranches_ages&#x27;,\n",
       "                                                   &#x27;catr&#x27;, &#x27;circ&#x27;, &#x27;vosp&#x27;,\n",
       "                                                   &#x27;prof&#x27;, &#x27;plan&#x27;, &#x27;surf&#x27;,\n",
       "                                                   &#x27;infra&#x27;, &#x27;situ&#x27;, &#x27;senc&#x27;,\n",
       "                                                   &#x27;obs&#x27;, &#x27;obsm&#x27;, &#x27;choc&#x27;,\n",
       "                                                   &#x27;manv&#x27;, &#x27;catv_Label&#x27;, &#x27;lum&#x27;,\n",
       "                                                   &#x27;agg&#x27;, &#x27;int&#x27;, &#x27;atm&#x27;, &#x27;col&#x27;,\n",
       "                                                   &#x27;jour_de_la_semaine&#x27;, ...]),\n",
       "                                                 (&#x27;standard_scaler&#x27;,\n",
       "                                                  StandardScaler(),\n",
       "                                                  [&#x27;age_acc_an&#x27;, &#x27;nbv&#x27;,\n",
       "                                                   &#x27;occutc&#x27;])])),\n",
       "                (&#x27;model_hist_dropped&#x27;,\n",
       "                 HistGradientBoostingClassifier(random_state=52))])</pre><b>Please rerun this cell to show the HTML repr or trust the notebook.</b></div><div class=\"sk-container\" hidden><div class=\"sk-item sk-dashed-wrapped\"><div class=\"sk-label-container\"><div class=\"sk-label sk-toggleable\"><input class=\"sk-toggleable__control sk-hidden--visually\" id=\"3dbe2aa7-31f3-41b8-b5b8-50dda4ec5f5f\" type=\"checkbox\" ><label for=\"3dbe2aa7-31f3-41b8-b5b8-50dda4ec5f5f\" class=\"sk-toggleable__label sk-toggleable__label-arrow\">Pipeline</label><div class=\"sk-toggleable__content\"><pre>Pipeline(steps=[(&#x27;scaler&#x27;,\n",
       "                 ColumnTransformer(transformers=[(&#x27;dropper&#x27;,\n",
       "                                                  ColumnTransformer(remainder=&#x27;passthrough&#x27;,\n",
       "                                                                    transformers=[(&#x27;drop&#x27;,\n",
       "                                                                                   &#x27;drop&#x27;,\n",
       "                                                                                   &lt;sklearn.compose._column_transformer.make_column_selector object at 0x7fd4fe5358e0&gt;)]),\n",
       "                                                  [&#x27;place&#x27;, &#x27;catu&#x27;, &#x27;sexe&#x27;,\n",
       "                                                   &#x27;trajet&#x27;, &#x27;locp&#x27;, &#x27;actp&#x27;,\n",
       "                                                   &#x27;etatp&#x27;, &#x27;secuUn&#x27;,\n",
       "                                                   &#x27;secuDeux&#x27;, &#x27;tranches_ages&#x27;,\n",
       "                                                   &#x27;catr&#x27;, &#x27;circ&#x27;, &#x27;vosp&#x27;,\n",
       "                                                   &#x27;prof&#x27;, &#x27;plan&#x27;, &#x27;surf&#x27;,\n",
       "                                                   &#x27;infra&#x27;, &#x27;situ&#x27;, &#x27;senc&#x27;,\n",
       "                                                   &#x27;obs&#x27;, &#x27;obsm&#x27;, &#x27;choc&#x27;,\n",
       "                                                   &#x27;manv&#x27;, &#x27;catv_Label&#x27;, &#x27;lum&#x27;,\n",
       "                                                   &#x27;agg&#x27;, &#x27;int&#x27;, &#x27;atm&#x27;, &#x27;col&#x27;,\n",
       "                                                   &#x27;jour_de_la_semaine&#x27;, ...]),\n",
       "                                                 (&#x27;standard_scaler&#x27;,\n",
       "                                                  StandardScaler(),\n",
       "                                                  [&#x27;age_acc_an&#x27;, &#x27;nbv&#x27;,\n",
       "                                                   &#x27;occutc&#x27;])])),\n",
       "                (&#x27;model_hist_dropped&#x27;,\n",
       "                 HistGradientBoostingClassifier(random_state=52))])</pre></div></div></div><div class=\"sk-serial\"><div class=\"sk-item sk-dashed-wrapped\"><div class=\"sk-label-container\"><div class=\"sk-label sk-toggleable\"><input class=\"sk-toggleable__control sk-hidden--visually\" id=\"c0ed23ea-3538-4eca-a099-bfc6de3b4258\" type=\"checkbox\" ><label for=\"c0ed23ea-3538-4eca-a099-bfc6de3b4258\" class=\"sk-toggleable__label sk-toggleable__label-arrow\">scaler: ColumnTransformer</label><div class=\"sk-toggleable__content\"><pre>ColumnTransformer(transformers=[(&#x27;dropper&#x27;,\n",
       "                                 ColumnTransformer(remainder=&#x27;passthrough&#x27;,\n",
       "                                                   transformers=[(&#x27;drop&#x27;,\n",
       "                                                                  &#x27;drop&#x27;,\n",
       "                                                                  &lt;sklearn.compose._column_transformer.make_column_selector object at 0x7fd4fe5358e0&gt;)]),\n",
       "                                 [&#x27;place&#x27;, &#x27;catu&#x27;, &#x27;sexe&#x27;, &#x27;trajet&#x27;, &#x27;locp&#x27;,\n",
       "                                  &#x27;actp&#x27;, &#x27;etatp&#x27;, &#x27;secuUn&#x27;, &#x27;secuDeux&#x27;,\n",
       "                                  &#x27;tranches_ages&#x27;, &#x27;catr&#x27;, &#x27;circ&#x27;, &#x27;vosp&#x27;,\n",
       "                                  &#x27;prof&#x27;, &#x27;plan&#x27;, &#x27;surf&#x27;, &#x27;infra&#x27;, &#x27;situ&#x27;,\n",
       "                                  &#x27;senc&#x27;, &#x27;obs&#x27;, &#x27;obsm&#x27;, &#x27;choc&#x27;, &#x27;manv&#x27;,\n",
       "                                  &#x27;catv_Label&#x27;, &#x27;lum&#x27;, &#x27;agg&#x27;, &#x27;int&#x27;, &#x27;atm&#x27;,\n",
       "                                  &#x27;col&#x27;, &#x27;jour_de_la_semaine&#x27;, ...]),\n",
       "                                (&#x27;standard_scaler&#x27;, StandardScaler(),\n",
       "                                 [&#x27;age_acc_an&#x27;, &#x27;nbv&#x27;, &#x27;occutc&#x27;])])</pre></div></div></div><div class=\"sk-parallel\"><div class=\"sk-parallel-item\"><div class=\"sk-item\"><div class=\"sk-label-container\"><div class=\"sk-label sk-toggleable\"><input class=\"sk-toggleable__control sk-hidden--visually\" id=\"fd54eaa7-535c-4ecf-b3e2-2c35521d2baf\" type=\"checkbox\" ><label for=\"fd54eaa7-535c-4ecf-b3e2-2c35521d2baf\" class=\"sk-toggleable__label sk-toggleable__label-arrow\">dropper</label><div class=\"sk-toggleable__content\"><pre>[&#x27;place&#x27;, &#x27;catu&#x27;, &#x27;sexe&#x27;, &#x27;trajet&#x27;, &#x27;locp&#x27;, &#x27;actp&#x27;, &#x27;etatp&#x27;, &#x27;secuUn&#x27;, &#x27;secuDeux&#x27;, &#x27;tranches_ages&#x27;, &#x27;catr&#x27;, &#x27;circ&#x27;, &#x27;vosp&#x27;, &#x27;prof&#x27;, &#x27;plan&#x27;, &#x27;surf&#x27;, &#x27;infra&#x27;, &#x27;situ&#x27;, &#x27;senc&#x27;, &#x27;obs&#x27;, &#x27;obsm&#x27;, &#x27;choc&#x27;, &#x27;manv&#x27;, &#x27;catv_Label&#x27;, &#x27;lum&#x27;, &#x27;agg&#x27;, &#x27;int&#x27;, &#x27;atm&#x27;, &#x27;col&#x27;, &#x27;jour_de_la_semaine&#x27;, &#x27;heure&#x27;]</pre></div></div></div><div class=\"sk-serial\"><div class=\"sk-item sk-dashed-wrapped\"><div class=\"sk-parallel\"><div class=\"sk-parallel-item\"><div class=\"sk-item\"><div class=\"sk-label-container\"><div class=\"sk-label sk-toggleable\"><input class=\"sk-toggleable__control sk-hidden--visually\" id=\"b117148d-69a1-4505-9e1e-6aa08f553fd0\" type=\"checkbox\" ><label for=\"b117148d-69a1-4505-9e1e-6aa08f553fd0\" class=\"sk-toggleable__label sk-toggleable__label-arrow\">drop</label><div class=\"sk-toggleable__content\"><pre>&lt;sklearn.compose._column_transformer.make_column_selector object at 0x7fd4fe5358e0&gt;</pre></div></div></div><div class=\"sk-serial\"><div class=\"sk-item\"><div class=\"sk-estimator sk-toggleable\"><input class=\"sk-toggleable__control sk-hidden--visually\" id=\"70103f25-4ad9-4a8e-9811-7353c58128ef\" type=\"checkbox\" ><label for=\"70103f25-4ad9-4a8e-9811-7353c58128ef\" class=\"sk-toggleable__label sk-toggleable__label-arrow\">drop</label><div class=\"sk-toggleable__content\"><pre>drop</pre></div></div></div></div></div></div><div class=\"sk-parallel-item\"><div class=\"sk-item\"><div class=\"sk-label-container\"><div class=\"sk-label sk-toggleable\"><input class=\"sk-toggleable__control sk-hidden--visually\" id=\"c17590a5-05a0-481b-9d73-e7ebabfc3d41\" type=\"checkbox\" ><label for=\"c17590a5-05a0-481b-9d73-e7ebabfc3d41\" class=\"sk-toggleable__label sk-toggleable__label-arrow\">remainder</label><div class=\"sk-toggleable__content\"><pre></pre></div></div></div><div class=\"sk-serial\"><div class=\"sk-item\"><div class=\"sk-estimator sk-toggleable\"><input class=\"sk-toggleable__control sk-hidden--visually\" id=\"811ad23d-1a77-4dd2-a81a-301b4afdbbc4\" type=\"checkbox\" ><label for=\"811ad23d-1a77-4dd2-a81a-301b4afdbbc4\" class=\"sk-toggleable__label sk-toggleable__label-arrow\">passthrough</label><div class=\"sk-toggleable__content\"><pre>passthrough</pre></div></div></div></div></div></div></div></div></div></div></div><div class=\"sk-parallel-item\"><div class=\"sk-item\"><div class=\"sk-label-container\"><div class=\"sk-label sk-toggleable\"><input class=\"sk-toggleable__control sk-hidden--visually\" id=\"5b93e36e-0c6a-4541-889c-b8a70a12240e\" type=\"checkbox\" ><label for=\"5b93e36e-0c6a-4541-889c-b8a70a12240e\" class=\"sk-toggleable__label sk-toggleable__label-arrow\">standard_scaler</label><div class=\"sk-toggleable__content\"><pre>[&#x27;age_acc_an&#x27;, &#x27;nbv&#x27;, &#x27;occutc&#x27;]</pre></div></div></div><div class=\"sk-serial\"><div class=\"sk-item\"><div class=\"sk-estimator sk-toggleable\"><input class=\"sk-toggleable__control sk-hidden--visually\" id=\"9c50dd72-b303-49a9-a437-1cf2715e8bfa\" type=\"checkbox\" ><label for=\"9c50dd72-b303-49a9-a437-1cf2715e8bfa\" class=\"sk-toggleable__label sk-toggleable__label-arrow\">StandardScaler</label><div class=\"sk-toggleable__content\"><pre>StandardScaler()</pre></div></div></div></div></div></div></div></div><div class=\"sk-item\"><div class=\"sk-estimator sk-toggleable\"><input class=\"sk-toggleable__control sk-hidden--visually\" id=\"5bca15b9-513c-4d93-958e-40a0b0859802\" type=\"checkbox\" ><label for=\"5bca15b9-513c-4d93-958e-40a0b0859802\" class=\"sk-toggleable__label sk-toggleable__label-arrow\">HistGradientBoostingClassifier</label><div class=\"sk-toggleable__content\"><pre>HistGradientBoostingClassifier(random_state=52)</pre></div></div></div></div></div></div></div>"
      ],
      "text/plain": [
       "Pipeline(steps=[('scaler',\n",
       "                 ColumnTransformer(transformers=[('dropper',\n",
       "                                                  ColumnTransformer(remainder='passthrough',\n",
       "                                                                    transformers=[('drop',\n",
       "                                                                                   'drop',\n",
       "                                                                                   <sklearn.compose._column_transformer.make_column_selector object at 0x7fd4fe5358e0>)]),\n",
       "                                                  ['place', 'catu', 'sexe',\n",
       "                                                   'trajet', 'locp', 'actp',\n",
       "                                                   'etatp', 'secuUn',\n",
       "                                                   'secuDeux', 'tranches_ages',\n",
       "                                                   'catr', 'circ', 'vosp',\n",
       "                                                   'prof', 'plan', 'surf',\n",
       "                                                   'infra', 'situ', 'senc',\n",
       "                                                   'obs', 'obsm', 'choc',\n",
       "                                                   'manv', 'catv_Label', 'lum',\n",
       "                                                   'agg', 'int', 'atm', 'col',\n",
       "                                                   'jour_de_la_semaine', ...]),\n",
       "                                                 ('standard_scaler',\n",
       "                                                  StandardScaler(),\n",
       "                                                  ['age_acc_an', 'nbv',\n",
       "                                                   'occutc'])])),\n",
       "                ('model_hist_dropped',\n",
       "                 HistGradientBoostingClassifier(random_state=52))])"
      ]
     },
     "execution_count": 61,
     "metadata": {},
     "output_type": "execute_result"
    }
   ],
   "source": [
    "set_config(display='diagram')\n",
    "hist_dropped"
   ]
  },
  {
   "cell_type": "markdown",
   "id": "48dd6660",
   "metadata": {},
   "source": [
    "###### Gradient boosting estimator with one-hot encoding"
   ]
  },
  {
   "cell_type": "code",
   "execution_count": 62,
   "id": "a72149d9",
   "metadata": {},
   "outputs": [],
   "source": [
    "one_hot_categorical_preprocessor = OneHotEncoder(sparse=False, \n",
    "                                                 handle_unknown=\"ignore\")# to solve the potential issues due to rare categories\n",
    "\n",
    "one_hot_preprocessor = ColumnTransformer([\n",
    "    ('one_hot_encoder', one_hot_categorical_preprocessor, categorical_columns),\n",
    "    ('standard_scaler', numerical_preprocessor, numerical_columns)])\n",
    "\n",
    "#  create our model\n",
    "hist_one_hot = Pipeline(steps=[\n",
    "    ('one_hot_preprocessor', one_hot_preprocessor), \n",
    "    ('model_hist_one_hot', hist_gradient_boosting)\n",
    "])"
   ]
  },
  {
   "cell_type": "code",
   "execution_count": 63,
   "id": "18a48f5f",
   "metadata": {},
   "outputs": [
    {
     "data": {
      "text/html": [
       "<style>#sk-7852956f-ff72-47b8-91f9-9e08e4b8e942 {color: black;background-color: white;}#sk-7852956f-ff72-47b8-91f9-9e08e4b8e942 pre{padding: 0;}#sk-7852956f-ff72-47b8-91f9-9e08e4b8e942 div.sk-toggleable {background-color: white;}#sk-7852956f-ff72-47b8-91f9-9e08e4b8e942 label.sk-toggleable__label {cursor: pointer;display: block;width: 100%;margin-bottom: 0;padding: 0.3em;box-sizing: border-box;text-align: center;}#sk-7852956f-ff72-47b8-91f9-9e08e4b8e942 label.sk-toggleable__label-arrow:before {content: \"▸\";float: left;margin-right: 0.25em;color: #696969;}#sk-7852956f-ff72-47b8-91f9-9e08e4b8e942 label.sk-toggleable__label-arrow:hover:before {color: black;}#sk-7852956f-ff72-47b8-91f9-9e08e4b8e942 div.sk-estimator:hover label.sk-toggleable__label-arrow:before {color: black;}#sk-7852956f-ff72-47b8-91f9-9e08e4b8e942 div.sk-toggleable__content {max-height: 0;max-width: 0;overflow: hidden;text-align: left;background-color: #f0f8ff;}#sk-7852956f-ff72-47b8-91f9-9e08e4b8e942 div.sk-toggleable__content pre {margin: 0.2em;color: black;border-radius: 0.25em;background-color: #f0f8ff;}#sk-7852956f-ff72-47b8-91f9-9e08e4b8e942 input.sk-toggleable__control:checked~div.sk-toggleable__content {max-height: 200px;max-width: 100%;overflow: auto;}#sk-7852956f-ff72-47b8-91f9-9e08e4b8e942 input.sk-toggleable__control:checked~label.sk-toggleable__label-arrow:before {content: \"▾\";}#sk-7852956f-ff72-47b8-91f9-9e08e4b8e942 div.sk-estimator input.sk-toggleable__control:checked~label.sk-toggleable__label {background-color: #d4ebff;}#sk-7852956f-ff72-47b8-91f9-9e08e4b8e942 div.sk-label input.sk-toggleable__control:checked~label.sk-toggleable__label {background-color: #d4ebff;}#sk-7852956f-ff72-47b8-91f9-9e08e4b8e942 input.sk-hidden--visually {border: 0;clip: rect(1px 1px 1px 1px);clip: rect(1px, 1px, 1px, 1px);height: 1px;margin: -1px;overflow: hidden;padding: 0;position: absolute;width: 1px;}#sk-7852956f-ff72-47b8-91f9-9e08e4b8e942 div.sk-estimator {font-family: monospace;background-color: #f0f8ff;border: 1px dotted black;border-radius: 0.25em;box-sizing: border-box;margin-bottom: 0.5em;}#sk-7852956f-ff72-47b8-91f9-9e08e4b8e942 div.sk-estimator:hover {background-color: #d4ebff;}#sk-7852956f-ff72-47b8-91f9-9e08e4b8e942 div.sk-parallel-item::after {content: \"\";width: 100%;border-bottom: 1px solid gray;flex-grow: 1;}#sk-7852956f-ff72-47b8-91f9-9e08e4b8e942 div.sk-label:hover label.sk-toggleable__label {background-color: #d4ebff;}#sk-7852956f-ff72-47b8-91f9-9e08e4b8e942 div.sk-serial::before {content: \"\";position: absolute;border-left: 1px solid gray;box-sizing: border-box;top: 2em;bottom: 0;left: 50%;}#sk-7852956f-ff72-47b8-91f9-9e08e4b8e942 div.sk-serial {display: flex;flex-direction: column;align-items: center;background-color: white;padding-right: 0.2em;padding-left: 0.2em;}#sk-7852956f-ff72-47b8-91f9-9e08e4b8e942 div.sk-item {z-index: 1;}#sk-7852956f-ff72-47b8-91f9-9e08e4b8e942 div.sk-parallel {display: flex;align-items: stretch;justify-content: center;background-color: white;}#sk-7852956f-ff72-47b8-91f9-9e08e4b8e942 div.sk-parallel::before {content: \"\";position: absolute;border-left: 1px solid gray;box-sizing: border-box;top: 2em;bottom: 0;left: 50%;}#sk-7852956f-ff72-47b8-91f9-9e08e4b8e942 div.sk-parallel-item {display: flex;flex-direction: column;position: relative;background-color: white;}#sk-7852956f-ff72-47b8-91f9-9e08e4b8e942 div.sk-parallel-item:first-child::after {align-self: flex-end;width: 50%;}#sk-7852956f-ff72-47b8-91f9-9e08e4b8e942 div.sk-parallel-item:last-child::after {align-self: flex-start;width: 50%;}#sk-7852956f-ff72-47b8-91f9-9e08e4b8e942 div.sk-parallel-item:only-child::after {width: 0;}#sk-7852956f-ff72-47b8-91f9-9e08e4b8e942 div.sk-dashed-wrapped {border: 1px dashed gray;margin: 0 0.4em 0.5em 0.4em;box-sizing: border-box;padding-bottom: 0.4em;background-color: white;position: relative;}#sk-7852956f-ff72-47b8-91f9-9e08e4b8e942 div.sk-label label {font-family: monospace;font-weight: bold;background-color: white;display: inline-block;line-height: 1.2em;}#sk-7852956f-ff72-47b8-91f9-9e08e4b8e942 div.sk-label-container {position: relative;z-index: 2;text-align: center;}#sk-7852956f-ff72-47b8-91f9-9e08e4b8e942 div.sk-container {/* jupyter's `normalize.less` sets `[hidden] { display: none; }` but bootstrap.min.css set `[hidden] { display: none !important; }` so we also need the `!important` here to be able to override the default hidden behavior on the sphinx rendered scikit-learn.org. See: https://github.com/scikit-learn/scikit-learn/issues/21755 */display: inline-block !important;position: relative;}#sk-7852956f-ff72-47b8-91f9-9e08e4b8e942 div.sk-text-repr-fallback {display: none;}</style><div id=\"sk-7852956f-ff72-47b8-91f9-9e08e4b8e942\" class=\"sk-top-container\"><div class=\"sk-text-repr-fallback\"><pre>Pipeline(steps=[(&#x27;one_hot_preprocessor&#x27;,\n",
       "                 ColumnTransformer(transformers=[(&#x27;one_hot_encoder&#x27;,\n",
       "                                                  OneHotEncoder(handle_unknown=&#x27;ignore&#x27;,\n",
       "                                                                sparse=False),\n",
       "                                                  [&#x27;place&#x27;, &#x27;catu&#x27;, &#x27;sexe&#x27;,\n",
       "                                                   &#x27;trajet&#x27;, &#x27;locp&#x27;, &#x27;actp&#x27;,\n",
       "                                                   &#x27;etatp&#x27;, &#x27;secuUn&#x27;,\n",
       "                                                   &#x27;secuDeux&#x27;, &#x27;tranches_ages&#x27;,\n",
       "                                                   &#x27;catr&#x27;, &#x27;circ&#x27;, &#x27;vosp&#x27;,\n",
       "                                                   &#x27;prof&#x27;, &#x27;plan&#x27;, &#x27;surf&#x27;,\n",
       "                                                   &#x27;infra&#x27;, &#x27;situ&#x27;, &#x27;senc&#x27;,\n",
       "                                                   &#x27;obs&#x27;, &#x27;obsm&#x27;, &#x27;choc&#x27;,\n",
       "                                                   &#x27;manv&#x27;, &#x27;catv_Label&#x27;, &#x27;lum&#x27;,\n",
       "                                                   &#x27;agg&#x27;, &#x27;int&#x27;, &#x27;atm&#x27;, &#x27;col&#x27;,\n",
       "                                                   &#x27;jour_de_la_semaine&#x27;, ...]),\n",
       "                                                 (&#x27;standard_scaler&#x27;,\n",
       "                                                  StandardScaler(),\n",
       "                                                  [&#x27;age_acc_an&#x27;, &#x27;nbv&#x27;,\n",
       "                                                   &#x27;occutc&#x27;])])),\n",
       "                (&#x27;model_hist_one_hot&#x27;,\n",
       "                 HistGradientBoostingClassifier(random_state=52))])</pre><b>Please rerun this cell to show the HTML repr or trust the notebook.</b></div><div class=\"sk-container\" hidden><div class=\"sk-item sk-dashed-wrapped\"><div class=\"sk-label-container\"><div class=\"sk-label sk-toggleable\"><input class=\"sk-toggleable__control sk-hidden--visually\" id=\"f8156166-0fa7-4046-9e9d-9f0e143aa106\" type=\"checkbox\" ><label for=\"f8156166-0fa7-4046-9e9d-9f0e143aa106\" class=\"sk-toggleable__label sk-toggleable__label-arrow\">Pipeline</label><div class=\"sk-toggleable__content\"><pre>Pipeline(steps=[(&#x27;one_hot_preprocessor&#x27;,\n",
       "                 ColumnTransformer(transformers=[(&#x27;one_hot_encoder&#x27;,\n",
       "                                                  OneHotEncoder(handle_unknown=&#x27;ignore&#x27;,\n",
       "                                                                sparse=False),\n",
       "                                                  [&#x27;place&#x27;, &#x27;catu&#x27;, &#x27;sexe&#x27;,\n",
       "                                                   &#x27;trajet&#x27;, &#x27;locp&#x27;, &#x27;actp&#x27;,\n",
       "                                                   &#x27;etatp&#x27;, &#x27;secuUn&#x27;,\n",
       "                                                   &#x27;secuDeux&#x27;, &#x27;tranches_ages&#x27;,\n",
       "                                                   &#x27;catr&#x27;, &#x27;circ&#x27;, &#x27;vosp&#x27;,\n",
       "                                                   &#x27;prof&#x27;, &#x27;plan&#x27;, &#x27;surf&#x27;,\n",
       "                                                   &#x27;infra&#x27;, &#x27;situ&#x27;, &#x27;senc&#x27;,\n",
       "                                                   &#x27;obs&#x27;, &#x27;obsm&#x27;, &#x27;choc&#x27;,\n",
       "                                                   &#x27;manv&#x27;, &#x27;catv_Label&#x27;, &#x27;lum&#x27;,\n",
       "                                                   &#x27;agg&#x27;, &#x27;int&#x27;, &#x27;atm&#x27;, &#x27;col&#x27;,\n",
       "                                                   &#x27;jour_de_la_semaine&#x27;, ...]),\n",
       "                                                 (&#x27;standard_scaler&#x27;,\n",
       "                                                  StandardScaler(),\n",
       "                                                  [&#x27;age_acc_an&#x27;, &#x27;nbv&#x27;,\n",
       "                                                   &#x27;occutc&#x27;])])),\n",
       "                (&#x27;model_hist_one_hot&#x27;,\n",
       "                 HistGradientBoostingClassifier(random_state=52))])</pre></div></div></div><div class=\"sk-serial\"><div class=\"sk-item sk-dashed-wrapped\"><div class=\"sk-label-container\"><div class=\"sk-label sk-toggleable\"><input class=\"sk-toggleable__control sk-hidden--visually\" id=\"4e0c43df-8252-42ca-8a5d-420b20b44742\" type=\"checkbox\" ><label for=\"4e0c43df-8252-42ca-8a5d-420b20b44742\" class=\"sk-toggleable__label sk-toggleable__label-arrow\">one_hot_preprocessor: ColumnTransformer</label><div class=\"sk-toggleable__content\"><pre>ColumnTransformer(transformers=[(&#x27;one_hot_encoder&#x27;,\n",
       "                                 OneHotEncoder(handle_unknown=&#x27;ignore&#x27;,\n",
       "                                               sparse=False),\n",
       "                                 [&#x27;place&#x27;, &#x27;catu&#x27;, &#x27;sexe&#x27;, &#x27;trajet&#x27;, &#x27;locp&#x27;,\n",
       "                                  &#x27;actp&#x27;, &#x27;etatp&#x27;, &#x27;secuUn&#x27;, &#x27;secuDeux&#x27;,\n",
       "                                  &#x27;tranches_ages&#x27;, &#x27;catr&#x27;, &#x27;circ&#x27;, &#x27;vosp&#x27;,\n",
       "                                  &#x27;prof&#x27;, &#x27;plan&#x27;, &#x27;surf&#x27;, &#x27;infra&#x27;, &#x27;situ&#x27;,\n",
       "                                  &#x27;senc&#x27;, &#x27;obs&#x27;, &#x27;obsm&#x27;, &#x27;choc&#x27;, &#x27;manv&#x27;,\n",
       "                                  &#x27;catv_Label&#x27;, &#x27;lum&#x27;, &#x27;agg&#x27;, &#x27;int&#x27;, &#x27;atm&#x27;,\n",
       "                                  &#x27;col&#x27;, &#x27;jour_de_la_semaine&#x27;, ...]),\n",
       "                                (&#x27;standard_scaler&#x27;, StandardScaler(),\n",
       "                                 [&#x27;age_acc_an&#x27;, &#x27;nbv&#x27;, &#x27;occutc&#x27;])])</pre></div></div></div><div class=\"sk-parallel\"><div class=\"sk-parallel-item\"><div class=\"sk-item\"><div class=\"sk-label-container\"><div class=\"sk-label sk-toggleable\"><input class=\"sk-toggleable__control sk-hidden--visually\" id=\"bb2fea54-ef84-4c5c-95a8-268f2dc49436\" type=\"checkbox\" ><label for=\"bb2fea54-ef84-4c5c-95a8-268f2dc49436\" class=\"sk-toggleable__label sk-toggleable__label-arrow\">one_hot_encoder</label><div class=\"sk-toggleable__content\"><pre>[&#x27;place&#x27;, &#x27;catu&#x27;, &#x27;sexe&#x27;, &#x27;trajet&#x27;, &#x27;locp&#x27;, &#x27;actp&#x27;, &#x27;etatp&#x27;, &#x27;secuUn&#x27;, &#x27;secuDeux&#x27;, &#x27;tranches_ages&#x27;, &#x27;catr&#x27;, &#x27;circ&#x27;, &#x27;vosp&#x27;, &#x27;prof&#x27;, &#x27;plan&#x27;, &#x27;surf&#x27;, &#x27;infra&#x27;, &#x27;situ&#x27;, &#x27;senc&#x27;, &#x27;obs&#x27;, &#x27;obsm&#x27;, &#x27;choc&#x27;, &#x27;manv&#x27;, &#x27;catv_Label&#x27;, &#x27;lum&#x27;, &#x27;agg&#x27;, &#x27;int&#x27;, &#x27;atm&#x27;, &#x27;col&#x27;, &#x27;jour_de_la_semaine&#x27;, &#x27;heure&#x27;]</pre></div></div></div><div class=\"sk-serial\"><div class=\"sk-item\"><div class=\"sk-estimator sk-toggleable\"><input class=\"sk-toggleable__control sk-hidden--visually\" id=\"2f393287-155a-4977-ad4c-49de9cadf5d0\" type=\"checkbox\" ><label for=\"2f393287-155a-4977-ad4c-49de9cadf5d0\" class=\"sk-toggleable__label sk-toggleable__label-arrow\">OneHotEncoder</label><div class=\"sk-toggleable__content\"><pre>OneHotEncoder(handle_unknown=&#x27;ignore&#x27;, sparse=False)</pre></div></div></div></div></div></div><div class=\"sk-parallel-item\"><div class=\"sk-item\"><div class=\"sk-label-container\"><div class=\"sk-label sk-toggleable\"><input class=\"sk-toggleable__control sk-hidden--visually\" id=\"9b35d74c-2f0f-49c7-844f-f5112a5f69e5\" type=\"checkbox\" ><label for=\"9b35d74c-2f0f-49c7-844f-f5112a5f69e5\" class=\"sk-toggleable__label sk-toggleable__label-arrow\">standard_scaler</label><div class=\"sk-toggleable__content\"><pre>[&#x27;age_acc_an&#x27;, &#x27;nbv&#x27;, &#x27;occutc&#x27;]</pre></div></div></div><div class=\"sk-serial\"><div class=\"sk-item\"><div class=\"sk-estimator sk-toggleable\"><input class=\"sk-toggleable__control sk-hidden--visually\" id=\"29ae1a72-1734-4717-9e2e-e635a4f99e5f\" type=\"checkbox\" ><label for=\"29ae1a72-1734-4717-9e2e-e635a4f99e5f\" class=\"sk-toggleable__label sk-toggleable__label-arrow\">StandardScaler</label><div class=\"sk-toggleable__content\"><pre>StandardScaler()</pre></div></div></div></div></div></div></div></div><div class=\"sk-item\"><div class=\"sk-estimator sk-toggleable\"><input class=\"sk-toggleable__control sk-hidden--visually\" id=\"1441550f-68b5-405a-a2d2-8ec00ec87c53\" type=\"checkbox\" ><label for=\"1441550f-68b5-405a-a2d2-8ec00ec87c53\" class=\"sk-toggleable__label sk-toggleable__label-arrow\">HistGradientBoostingClassifier</label><div class=\"sk-toggleable__content\"><pre>HistGradientBoostingClassifier(random_state=52)</pre></div></div></div></div></div></div></div>"
      ],
      "text/plain": [
       "Pipeline(steps=[('one_hot_preprocessor',\n",
       "                 ColumnTransformer(transformers=[('one_hot_encoder',\n",
       "                                                  OneHotEncoder(handle_unknown='ignore',\n",
       "                                                                sparse=False),\n",
       "                                                  ['place', 'catu', 'sexe',\n",
       "                                                   'trajet', 'locp', 'actp',\n",
       "                                                   'etatp', 'secuUn',\n",
       "                                                   'secuDeux', 'tranches_ages',\n",
       "                                                   'catr', 'circ', 'vosp',\n",
       "                                                   'prof', 'plan', 'surf',\n",
       "                                                   'infra', 'situ', 'senc',\n",
       "                                                   'obs', 'obsm', 'choc',\n",
       "                                                   'manv', 'catv_Label', 'lum',\n",
       "                                                   'agg', 'int', 'atm', 'col',\n",
       "                                                   'jour_de_la_semaine', ...]),\n",
       "                                                 ('standard_scaler',\n",
       "                                                  StandardScaler(),\n",
       "                                                  ['age_acc_an', 'nbv',\n",
       "                                                   'occutc'])])),\n",
       "                ('model_hist_one_hot',\n",
       "                 HistGradientBoostingClassifier(random_state=52))])"
      ]
     },
     "execution_count": 63,
     "metadata": {},
     "output_type": "execute_result"
    }
   ],
   "source": [
    "set_config(display='diagram')\n",
    "hist_one_hot"
   ]
  },
  {
   "cell_type": "markdown",
   "id": "2fc53dd9",
   "metadata": {},
   "source": [
    "###### Gradient boosting estimator with ordinal encoding"
   ]
  },
  {
   "cell_type": "code",
   "execution_count": 64,
   "id": "6bcc5d28",
   "metadata": {},
   "outputs": [],
   "source": [
    "# pipeline that will treat categorical features as if they were ordered quantities\n",
    "# create the transformer and associate each of these preprocessors with their respective columns.\n",
    "ordinal_categorical_preprocessor = make_column_transformer(\n",
    "    (\n",
    "        OrdinalEncoder(handle_unknown=\"use_encoded_value\", unknown_value=np.nan),\n",
    "        make_column_selector(dtype_include=\"category\"),\n",
    "    ),\n",
    "    remainder=\"passthrough\",\n",
    "    # Use short feature names to make it easier to specify the categorical\n",
    "    # variables in the HistGradientBoostingRegressor in the next step\n",
    "    # of the pipeline.\n",
    "    verbose_feature_names_out=False,\n",
    ")\n",
    "\n",
    "#hist_ordinal = make_pipeline(\n",
    "#    ordinal_encoder, HistGradientBoostingClassifier() #(random_state=42)\n",
    "#)\n",
    "\n",
    "# create the transformer and associate each of these preprocessors with their respective columns.\n",
    "#categorical_preprocessor = OrdinalEncoder(handle_unknown=\"use_encoded_value\",  unknown_value=-1)\n",
    "\n",
    "ordinal_preprocessor = ColumnTransformer([\n",
    "    ('ordinal_encoder', ordinal_categorical_preprocessor, categorical_columns),\n",
    "    ('standard_scaler', numerical_preprocessor, numerical_columns)])\n",
    "\n",
    "#  create our model\n",
    "hist_ordinal = Pipeline(steps=[\n",
    "    ('ordinal_preprocessor', ordinal_preprocessor), \n",
    "    ('model_hist_ordinal', hist_gradient_boosting)\n",
    "])"
   ]
  },
  {
   "cell_type": "code",
   "execution_count": 65,
   "id": "45539dee",
   "metadata": {},
   "outputs": [
    {
     "data": {
      "text/html": [
       "<style>#sk-b89eef02-4c38-4464-90bd-54d00fcd8702 {color: black;background-color: white;}#sk-b89eef02-4c38-4464-90bd-54d00fcd8702 pre{padding: 0;}#sk-b89eef02-4c38-4464-90bd-54d00fcd8702 div.sk-toggleable {background-color: white;}#sk-b89eef02-4c38-4464-90bd-54d00fcd8702 label.sk-toggleable__label {cursor: pointer;display: block;width: 100%;margin-bottom: 0;padding: 0.3em;box-sizing: border-box;text-align: center;}#sk-b89eef02-4c38-4464-90bd-54d00fcd8702 label.sk-toggleable__label-arrow:before {content: \"▸\";float: left;margin-right: 0.25em;color: #696969;}#sk-b89eef02-4c38-4464-90bd-54d00fcd8702 label.sk-toggleable__label-arrow:hover:before {color: black;}#sk-b89eef02-4c38-4464-90bd-54d00fcd8702 div.sk-estimator:hover label.sk-toggleable__label-arrow:before {color: black;}#sk-b89eef02-4c38-4464-90bd-54d00fcd8702 div.sk-toggleable__content {max-height: 0;max-width: 0;overflow: hidden;text-align: left;background-color: #f0f8ff;}#sk-b89eef02-4c38-4464-90bd-54d00fcd8702 div.sk-toggleable__content pre {margin: 0.2em;color: black;border-radius: 0.25em;background-color: #f0f8ff;}#sk-b89eef02-4c38-4464-90bd-54d00fcd8702 input.sk-toggleable__control:checked~div.sk-toggleable__content {max-height: 200px;max-width: 100%;overflow: auto;}#sk-b89eef02-4c38-4464-90bd-54d00fcd8702 input.sk-toggleable__control:checked~label.sk-toggleable__label-arrow:before {content: \"▾\";}#sk-b89eef02-4c38-4464-90bd-54d00fcd8702 div.sk-estimator input.sk-toggleable__control:checked~label.sk-toggleable__label {background-color: #d4ebff;}#sk-b89eef02-4c38-4464-90bd-54d00fcd8702 div.sk-label input.sk-toggleable__control:checked~label.sk-toggleable__label {background-color: #d4ebff;}#sk-b89eef02-4c38-4464-90bd-54d00fcd8702 input.sk-hidden--visually {border: 0;clip: rect(1px 1px 1px 1px);clip: rect(1px, 1px, 1px, 1px);height: 1px;margin: -1px;overflow: hidden;padding: 0;position: absolute;width: 1px;}#sk-b89eef02-4c38-4464-90bd-54d00fcd8702 div.sk-estimator {font-family: monospace;background-color: #f0f8ff;border: 1px dotted black;border-radius: 0.25em;box-sizing: border-box;margin-bottom: 0.5em;}#sk-b89eef02-4c38-4464-90bd-54d00fcd8702 div.sk-estimator:hover {background-color: #d4ebff;}#sk-b89eef02-4c38-4464-90bd-54d00fcd8702 div.sk-parallel-item::after {content: \"\";width: 100%;border-bottom: 1px solid gray;flex-grow: 1;}#sk-b89eef02-4c38-4464-90bd-54d00fcd8702 div.sk-label:hover label.sk-toggleable__label {background-color: #d4ebff;}#sk-b89eef02-4c38-4464-90bd-54d00fcd8702 div.sk-serial::before {content: \"\";position: absolute;border-left: 1px solid gray;box-sizing: border-box;top: 2em;bottom: 0;left: 50%;}#sk-b89eef02-4c38-4464-90bd-54d00fcd8702 div.sk-serial {display: flex;flex-direction: column;align-items: center;background-color: white;padding-right: 0.2em;padding-left: 0.2em;}#sk-b89eef02-4c38-4464-90bd-54d00fcd8702 div.sk-item {z-index: 1;}#sk-b89eef02-4c38-4464-90bd-54d00fcd8702 div.sk-parallel {display: flex;align-items: stretch;justify-content: center;background-color: white;}#sk-b89eef02-4c38-4464-90bd-54d00fcd8702 div.sk-parallel::before {content: \"\";position: absolute;border-left: 1px solid gray;box-sizing: border-box;top: 2em;bottom: 0;left: 50%;}#sk-b89eef02-4c38-4464-90bd-54d00fcd8702 div.sk-parallel-item {display: flex;flex-direction: column;position: relative;background-color: white;}#sk-b89eef02-4c38-4464-90bd-54d00fcd8702 div.sk-parallel-item:first-child::after {align-self: flex-end;width: 50%;}#sk-b89eef02-4c38-4464-90bd-54d00fcd8702 div.sk-parallel-item:last-child::after {align-self: flex-start;width: 50%;}#sk-b89eef02-4c38-4464-90bd-54d00fcd8702 div.sk-parallel-item:only-child::after {width: 0;}#sk-b89eef02-4c38-4464-90bd-54d00fcd8702 div.sk-dashed-wrapped {border: 1px dashed gray;margin: 0 0.4em 0.5em 0.4em;box-sizing: border-box;padding-bottom: 0.4em;background-color: white;position: relative;}#sk-b89eef02-4c38-4464-90bd-54d00fcd8702 div.sk-label label {font-family: monospace;font-weight: bold;background-color: white;display: inline-block;line-height: 1.2em;}#sk-b89eef02-4c38-4464-90bd-54d00fcd8702 div.sk-label-container {position: relative;z-index: 2;text-align: center;}#sk-b89eef02-4c38-4464-90bd-54d00fcd8702 div.sk-container {/* jupyter's `normalize.less` sets `[hidden] { display: none; }` but bootstrap.min.css set `[hidden] { display: none !important; }` so we also need the `!important` here to be able to override the default hidden behavior on the sphinx rendered scikit-learn.org. See: https://github.com/scikit-learn/scikit-learn/issues/21755 */display: inline-block !important;position: relative;}#sk-b89eef02-4c38-4464-90bd-54d00fcd8702 div.sk-text-repr-fallback {display: none;}</style><div id=\"sk-b89eef02-4c38-4464-90bd-54d00fcd8702\" class=\"sk-top-container\"><div class=\"sk-text-repr-fallback\"><pre>Pipeline(steps=[(&#x27;ordinal_preprocessor&#x27;,\n",
       "                 ColumnTransformer(transformers=[(&#x27;ordinal_encoder&#x27;,\n",
       "                                                  ColumnTransformer(remainder=&#x27;passthrough&#x27;,\n",
       "                                                                    transformers=[(&#x27;ordinalencoder&#x27;,\n",
       "                                                                                   OrdinalEncoder(handle_unknown=&#x27;use_encoded_value&#x27;,\n",
       "                                                                                                  unknown_value=nan),\n",
       "                                                                                   &lt;sklearn.compose._column_transformer.make_column_selector object at 0x7fd4fe540250&gt;)],\n",
       "                                                                    verbose_feature_names_out=False),...\n",
       "                                                   &#x27;trajet&#x27;, &#x27;locp&#x27;, &#x27;actp&#x27;,\n",
       "                                                   &#x27;etatp&#x27;, &#x27;secuUn&#x27;,\n",
       "                                                   &#x27;secuDeux&#x27;, &#x27;tranches_ages&#x27;,\n",
       "                                                   &#x27;catr&#x27;, &#x27;circ&#x27;, &#x27;vosp&#x27;,\n",
       "                                                   &#x27;prof&#x27;, &#x27;plan&#x27;, &#x27;surf&#x27;,\n",
       "                                                   &#x27;infra&#x27;, &#x27;situ&#x27;, &#x27;senc&#x27;,\n",
       "                                                   &#x27;obs&#x27;, &#x27;obsm&#x27;, &#x27;choc&#x27;,\n",
       "                                                   &#x27;manv&#x27;, &#x27;catv_Label&#x27;, &#x27;lum&#x27;,\n",
       "                                                   &#x27;agg&#x27;, &#x27;int&#x27;, &#x27;atm&#x27;, &#x27;col&#x27;,\n",
       "                                                   &#x27;jour_de_la_semaine&#x27;, ...]),\n",
       "                                                 (&#x27;standard_scaler&#x27;,\n",
       "                                                  StandardScaler(),\n",
       "                                                  [&#x27;age_acc_an&#x27;, &#x27;nbv&#x27;,\n",
       "                                                   &#x27;occutc&#x27;])])),\n",
       "                (&#x27;model_hist_ordinal&#x27;,\n",
       "                 HistGradientBoostingClassifier(random_state=52))])</pre><b>Please rerun this cell to show the HTML repr or trust the notebook.</b></div><div class=\"sk-container\" hidden><div class=\"sk-item sk-dashed-wrapped\"><div class=\"sk-label-container\"><div class=\"sk-label sk-toggleable\"><input class=\"sk-toggleable__control sk-hidden--visually\" id=\"0c02856f-d483-4395-a023-df23b76c4890\" type=\"checkbox\" ><label for=\"0c02856f-d483-4395-a023-df23b76c4890\" class=\"sk-toggleable__label sk-toggleable__label-arrow\">Pipeline</label><div class=\"sk-toggleable__content\"><pre>Pipeline(steps=[(&#x27;ordinal_preprocessor&#x27;,\n",
       "                 ColumnTransformer(transformers=[(&#x27;ordinal_encoder&#x27;,\n",
       "                                                  ColumnTransformer(remainder=&#x27;passthrough&#x27;,\n",
       "                                                                    transformers=[(&#x27;ordinalencoder&#x27;,\n",
       "                                                                                   OrdinalEncoder(handle_unknown=&#x27;use_encoded_value&#x27;,\n",
       "                                                                                                  unknown_value=nan),\n",
       "                                                                                   &lt;sklearn.compose._column_transformer.make_column_selector object at 0x7fd4fe540250&gt;)],\n",
       "                                                                    verbose_feature_names_out=False),...\n",
       "                                                   &#x27;trajet&#x27;, &#x27;locp&#x27;, &#x27;actp&#x27;,\n",
       "                                                   &#x27;etatp&#x27;, &#x27;secuUn&#x27;,\n",
       "                                                   &#x27;secuDeux&#x27;, &#x27;tranches_ages&#x27;,\n",
       "                                                   &#x27;catr&#x27;, &#x27;circ&#x27;, &#x27;vosp&#x27;,\n",
       "                                                   &#x27;prof&#x27;, &#x27;plan&#x27;, &#x27;surf&#x27;,\n",
       "                                                   &#x27;infra&#x27;, &#x27;situ&#x27;, &#x27;senc&#x27;,\n",
       "                                                   &#x27;obs&#x27;, &#x27;obsm&#x27;, &#x27;choc&#x27;,\n",
       "                                                   &#x27;manv&#x27;, &#x27;catv_Label&#x27;, &#x27;lum&#x27;,\n",
       "                                                   &#x27;agg&#x27;, &#x27;int&#x27;, &#x27;atm&#x27;, &#x27;col&#x27;,\n",
       "                                                   &#x27;jour_de_la_semaine&#x27;, ...]),\n",
       "                                                 (&#x27;standard_scaler&#x27;,\n",
       "                                                  StandardScaler(),\n",
       "                                                  [&#x27;age_acc_an&#x27;, &#x27;nbv&#x27;,\n",
       "                                                   &#x27;occutc&#x27;])])),\n",
       "                (&#x27;model_hist_ordinal&#x27;,\n",
       "                 HistGradientBoostingClassifier(random_state=52))])</pre></div></div></div><div class=\"sk-serial\"><div class=\"sk-item sk-dashed-wrapped\"><div class=\"sk-label-container\"><div class=\"sk-label sk-toggleable\"><input class=\"sk-toggleable__control sk-hidden--visually\" id=\"442c2470-42b6-4b20-8a95-6141dd577b5c\" type=\"checkbox\" ><label for=\"442c2470-42b6-4b20-8a95-6141dd577b5c\" class=\"sk-toggleable__label sk-toggleable__label-arrow\">ordinal_preprocessor: ColumnTransformer</label><div class=\"sk-toggleable__content\"><pre>ColumnTransformer(transformers=[(&#x27;ordinal_encoder&#x27;,\n",
       "                                 ColumnTransformer(remainder=&#x27;passthrough&#x27;,\n",
       "                                                   transformers=[(&#x27;ordinalencoder&#x27;,\n",
       "                                                                  OrdinalEncoder(handle_unknown=&#x27;use_encoded_value&#x27;,\n",
       "                                                                                 unknown_value=nan),\n",
       "                                                                  &lt;sklearn.compose._column_transformer.make_column_selector object at 0x7fd4fe540250&gt;)],\n",
       "                                                   verbose_feature_names_out=False),\n",
       "                                 [&#x27;place&#x27;, &#x27;catu&#x27;, &#x27;sexe&#x27;, &#x27;trajet&#x27;, &#x27;locp&#x27;,\n",
       "                                  &#x27;actp&#x27;, &#x27;etatp&#x27;, &#x27;secuUn&#x27;, &#x27;secuDeux&#x27;,\n",
       "                                  &#x27;tranches_ages&#x27;, &#x27;catr&#x27;, &#x27;circ&#x27;, &#x27;vosp&#x27;,\n",
       "                                  &#x27;prof&#x27;, &#x27;plan&#x27;, &#x27;surf&#x27;, &#x27;infra&#x27;, &#x27;situ&#x27;,\n",
       "                                  &#x27;senc&#x27;, &#x27;obs&#x27;, &#x27;obsm&#x27;, &#x27;choc&#x27;, &#x27;manv&#x27;,\n",
       "                                  &#x27;catv_Label&#x27;, &#x27;lum&#x27;, &#x27;agg&#x27;, &#x27;int&#x27;, &#x27;atm&#x27;,\n",
       "                                  &#x27;col&#x27;, &#x27;jour_de_la_semaine&#x27;, ...]),\n",
       "                                (&#x27;standard_scaler&#x27;, StandardScaler(),\n",
       "                                 [&#x27;age_acc_an&#x27;, &#x27;nbv&#x27;, &#x27;occutc&#x27;])])</pre></div></div></div><div class=\"sk-parallel\"><div class=\"sk-parallel-item\"><div class=\"sk-item\"><div class=\"sk-label-container\"><div class=\"sk-label sk-toggleable\"><input class=\"sk-toggleable__control sk-hidden--visually\" id=\"ff16b2ab-1e36-4d34-93a1-954109dd6ae8\" type=\"checkbox\" ><label for=\"ff16b2ab-1e36-4d34-93a1-954109dd6ae8\" class=\"sk-toggleable__label sk-toggleable__label-arrow\">ordinal_encoder</label><div class=\"sk-toggleable__content\"><pre>[&#x27;place&#x27;, &#x27;catu&#x27;, &#x27;sexe&#x27;, &#x27;trajet&#x27;, &#x27;locp&#x27;, &#x27;actp&#x27;, &#x27;etatp&#x27;, &#x27;secuUn&#x27;, &#x27;secuDeux&#x27;, &#x27;tranches_ages&#x27;, &#x27;catr&#x27;, &#x27;circ&#x27;, &#x27;vosp&#x27;, &#x27;prof&#x27;, &#x27;plan&#x27;, &#x27;surf&#x27;, &#x27;infra&#x27;, &#x27;situ&#x27;, &#x27;senc&#x27;, &#x27;obs&#x27;, &#x27;obsm&#x27;, &#x27;choc&#x27;, &#x27;manv&#x27;, &#x27;catv_Label&#x27;, &#x27;lum&#x27;, &#x27;agg&#x27;, &#x27;int&#x27;, &#x27;atm&#x27;, &#x27;col&#x27;, &#x27;jour_de_la_semaine&#x27;, &#x27;heure&#x27;]</pre></div></div></div><div class=\"sk-serial\"><div class=\"sk-item sk-dashed-wrapped\"><div class=\"sk-parallel\"><div class=\"sk-parallel-item\"><div class=\"sk-item\"><div class=\"sk-label-container\"><div class=\"sk-label sk-toggleable\"><input class=\"sk-toggleable__control sk-hidden--visually\" id=\"e52db00d-9ed6-4637-9b54-9d1dedf00bc0\" type=\"checkbox\" ><label for=\"e52db00d-9ed6-4637-9b54-9d1dedf00bc0\" class=\"sk-toggleable__label sk-toggleable__label-arrow\">ordinalencoder</label><div class=\"sk-toggleable__content\"><pre>&lt;sklearn.compose._column_transformer.make_column_selector object at 0x7fd4fe540250&gt;</pre></div></div></div><div class=\"sk-serial\"><div class=\"sk-item\"><div class=\"sk-estimator sk-toggleable\"><input class=\"sk-toggleable__control sk-hidden--visually\" id=\"bb3a775a-abe5-4c26-b8f0-d46b91e6b76a\" type=\"checkbox\" ><label for=\"bb3a775a-abe5-4c26-b8f0-d46b91e6b76a\" class=\"sk-toggleable__label sk-toggleable__label-arrow\">OrdinalEncoder</label><div class=\"sk-toggleable__content\"><pre>OrdinalEncoder(handle_unknown=&#x27;use_encoded_value&#x27;, unknown_value=nan)</pre></div></div></div></div></div></div><div class=\"sk-parallel-item\"><div class=\"sk-item\"><div class=\"sk-label-container\"><div class=\"sk-label sk-toggleable\"><input class=\"sk-toggleable__control sk-hidden--visually\" id=\"94041191-5c46-4519-ab53-2f3618bb5c8f\" type=\"checkbox\" ><label for=\"94041191-5c46-4519-ab53-2f3618bb5c8f\" class=\"sk-toggleable__label sk-toggleable__label-arrow\">remainder</label><div class=\"sk-toggleable__content\"><pre></pre></div></div></div><div class=\"sk-serial\"><div class=\"sk-item\"><div class=\"sk-estimator sk-toggleable\"><input class=\"sk-toggleable__control sk-hidden--visually\" id=\"e87ccd66-09a5-4bc4-901a-5dbf3b8d09ef\" type=\"checkbox\" ><label for=\"e87ccd66-09a5-4bc4-901a-5dbf3b8d09ef\" class=\"sk-toggleable__label sk-toggleable__label-arrow\">passthrough</label><div class=\"sk-toggleable__content\"><pre>passthrough</pre></div></div></div></div></div></div></div></div></div></div></div><div class=\"sk-parallel-item\"><div class=\"sk-item\"><div class=\"sk-label-container\"><div class=\"sk-label sk-toggleable\"><input class=\"sk-toggleable__control sk-hidden--visually\" id=\"2ab943ce-335b-41d3-b535-641d20a810aa\" type=\"checkbox\" ><label for=\"2ab943ce-335b-41d3-b535-641d20a810aa\" class=\"sk-toggleable__label sk-toggleable__label-arrow\">standard_scaler</label><div class=\"sk-toggleable__content\"><pre>[&#x27;age_acc_an&#x27;, &#x27;nbv&#x27;, &#x27;occutc&#x27;]</pre></div></div></div><div class=\"sk-serial\"><div class=\"sk-item\"><div class=\"sk-estimator sk-toggleable\"><input class=\"sk-toggleable__control sk-hidden--visually\" id=\"a038cfc3-ec1e-42a5-825e-80045e575393\" type=\"checkbox\" ><label for=\"a038cfc3-ec1e-42a5-825e-80045e575393\" class=\"sk-toggleable__label sk-toggleable__label-arrow\">StandardScaler</label><div class=\"sk-toggleable__content\"><pre>StandardScaler()</pre></div></div></div></div></div></div></div></div><div class=\"sk-item\"><div class=\"sk-estimator sk-toggleable\"><input class=\"sk-toggleable__control sk-hidden--visually\" id=\"5c07162d-16e3-4bac-ac15-d4f24c745e0e\" type=\"checkbox\" ><label for=\"5c07162d-16e3-4bac-ac15-d4f24c745e0e\" class=\"sk-toggleable__label sk-toggleable__label-arrow\">HistGradientBoostingClassifier</label><div class=\"sk-toggleable__content\"><pre>HistGradientBoostingClassifier(random_state=52)</pre></div></div></div></div></div></div></div>"
      ],
      "text/plain": [
       "Pipeline(steps=[('ordinal_preprocessor',\n",
       "                 ColumnTransformer(transformers=[('ordinal_encoder',\n",
       "                                                  ColumnTransformer(remainder='passthrough',\n",
       "                                                                    transformers=[('ordinalencoder',\n",
       "                                                                                   OrdinalEncoder(handle_unknown='use_encoded_value',\n",
       "                                                                                                  unknown_value=nan),\n",
       "                                                                                   <sklearn.compose._column_transformer.make_column_selector object at 0x7fd4fe540250>)],\n",
       "                                                                    verbose_feature_names_out=False),...\n",
       "                                                   'trajet', 'locp', 'actp',\n",
       "                                                   'etatp', 'secuUn',\n",
       "                                                   'secuDeux', 'tranches_ages',\n",
       "                                                   'catr', 'circ', 'vosp',\n",
       "                                                   'prof', 'plan', 'surf',\n",
       "                                                   'infra', 'situ', 'senc',\n",
       "                                                   'obs', 'obsm', 'choc',\n",
       "                                                   'manv', 'catv_Label', 'lum',\n",
       "                                                   'agg', 'int', 'atm', 'col',\n",
       "                                                   'jour_de_la_semaine', ...]),\n",
       "                                                 ('standard_scaler',\n",
       "                                                  StandardScaler(),\n",
       "                                                  ['age_acc_an', 'nbv',\n",
       "                                                   'occutc'])])),\n",
       "                ('model_hist_ordinal',\n",
       "                 HistGradientBoostingClassifier(random_state=52))])"
      ]
     },
     "execution_count": 65,
     "metadata": {},
     "output_type": "execute_result"
    }
   ],
   "source": [
    "set_config(display='diagram')\n",
    "hist_ordinal"
   ]
  },
  {
   "cell_type": "markdown",
   "id": "facecf45",
   "metadata": {},
   "source": [
    "###### Gradient boosting estimator with native categorical support\n",
    "The HistGradientBoostingClassifier estimator that will natively handle categorical features. This estimator will not treat categorical features as ordered quantities.\n",
    "\n",
    "Since the HistGradientBoostingClassifier requires category values to be encoded in [0, n_unique_categories - 1], we still rely on an OrdinalEncoder to pre-process the data"
   ]
  },
  {
   "cell_type": "raw",
   "id": "75b3fa2d",
   "metadata": {},
   "source": [
    "# The ordinal encoder will first output the categorical features, and then the\n",
    "# continuous (passed-through) features\n",
    "\n",
    "hist_native = make_pipeline(\n",
    "    ordinal_encoder,\n",
    "    HistGradientBoostingClassifier(\n",
    "        #random_state=42,\n",
    "        categorical_features=categorical_columns,\n",
    "    ),\n",
    ")#.set_output(transform=\"pandas\")"
   ]
  },
  {
   "cell_type": "code",
   "execution_count": 88,
   "id": "6a4a32b3",
   "metadata": {},
   "outputs": [],
   "source": [
    "categorical_preprocessor = OrdinalEncoder(handle_unknown=\"use_encoded_value\",\n",
    "                                          unknown_value=-1)\n",
    "\n",
    "preprocessor = ColumnTransformer([\n",
    "    ('ordinal_encoder', categorical_preprocessor, categorical_columns),\n",
    "    ('standard_scaler', numerical_preprocessor, numerical_columns)])\n",
    "#  create our model\n",
    "hist_native_ordinal = Pipeline(steps=[\n",
    "    ('standard_scaler_preprocessor', preprocessor), \n",
    "    ('model_hist_native_ordinal', hist_gradient_boosting)\n",
    "])"
   ]
  },
  {
   "cell_type": "code",
   "execution_count": 89,
   "id": "59065cda",
   "metadata": {},
   "outputs": [
    {
     "data": {
      "text/html": [
       "<style>#sk-55d4f7da-6012-49f4-b581-7f35944025dc {color: black;background-color: white;}#sk-55d4f7da-6012-49f4-b581-7f35944025dc pre{padding: 0;}#sk-55d4f7da-6012-49f4-b581-7f35944025dc div.sk-toggleable {background-color: white;}#sk-55d4f7da-6012-49f4-b581-7f35944025dc label.sk-toggleable__label {cursor: pointer;display: block;width: 100%;margin-bottom: 0;padding: 0.3em;box-sizing: border-box;text-align: center;}#sk-55d4f7da-6012-49f4-b581-7f35944025dc label.sk-toggleable__label-arrow:before {content: \"▸\";float: left;margin-right: 0.25em;color: #696969;}#sk-55d4f7da-6012-49f4-b581-7f35944025dc label.sk-toggleable__label-arrow:hover:before {color: black;}#sk-55d4f7da-6012-49f4-b581-7f35944025dc div.sk-estimator:hover label.sk-toggleable__label-arrow:before {color: black;}#sk-55d4f7da-6012-49f4-b581-7f35944025dc div.sk-toggleable__content {max-height: 0;max-width: 0;overflow: hidden;text-align: left;background-color: #f0f8ff;}#sk-55d4f7da-6012-49f4-b581-7f35944025dc div.sk-toggleable__content pre {margin: 0.2em;color: black;border-radius: 0.25em;background-color: #f0f8ff;}#sk-55d4f7da-6012-49f4-b581-7f35944025dc input.sk-toggleable__control:checked~div.sk-toggleable__content {max-height: 200px;max-width: 100%;overflow: auto;}#sk-55d4f7da-6012-49f4-b581-7f35944025dc input.sk-toggleable__control:checked~label.sk-toggleable__label-arrow:before {content: \"▾\";}#sk-55d4f7da-6012-49f4-b581-7f35944025dc div.sk-estimator input.sk-toggleable__control:checked~label.sk-toggleable__label {background-color: #d4ebff;}#sk-55d4f7da-6012-49f4-b581-7f35944025dc div.sk-label input.sk-toggleable__control:checked~label.sk-toggleable__label {background-color: #d4ebff;}#sk-55d4f7da-6012-49f4-b581-7f35944025dc input.sk-hidden--visually {border: 0;clip: rect(1px 1px 1px 1px);clip: rect(1px, 1px, 1px, 1px);height: 1px;margin: -1px;overflow: hidden;padding: 0;position: absolute;width: 1px;}#sk-55d4f7da-6012-49f4-b581-7f35944025dc div.sk-estimator {font-family: monospace;background-color: #f0f8ff;border: 1px dotted black;border-radius: 0.25em;box-sizing: border-box;margin-bottom: 0.5em;}#sk-55d4f7da-6012-49f4-b581-7f35944025dc div.sk-estimator:hover {background-color: #d4ebff;}#sk-55d4f7da-6012-49f4-b581-7f35944025dc div.sk-parallel-item::after {content: \"\";width: 100%;border-bottom: 1px solid gray;flex-grow: 1;}#sk-55d4f7da-6012-49f4-b581-7f35944025dc div.sk-label:hover label.sk-toggleable__label {background-color: #d4ebff;}#sk-55d4f7da-6012-49f4-b581-7f35944025dc div.sk-serial::before {content: \"\";position: absolute;border-left: 1px solid gray;box-sizing: border-box;top: 2em;bottom: 0;left: 50%;}#sk-55d4f7da-6012-49f4-b581-7f35944025dc div.sk-serial {display: flex;flex-direction: column;align-items: center;background-color: white;padding-right: 0.2em;padding-left: 0.2em;}#sk-55d4f7da-6012-49f4-b581-7f35944025dc div.sk-item {z-index: 1;}#sk-55d4f7da-6012-49f4-b581-7f35944025dc div.sk-parallel {display: flex;align-items: stretch;justify-content: center;background-color: white;}#sk-55d4f7da-6012-49f4-b581-7f35944025dc div.sk-parallel::before {content: \"\";position: absolute;border-left: 1px solid gray;box-sizing: border-box;top: 2em;bottom: 0;left: 50%;}#sk-55d4f7da-6012-49f4-b581-7f35944025dc div.sk-parallel-item {display: flex;flex-direction: column;position: relative;background-color: white;}#sk-55d4f7da-6012-49f4-b581-7f35944025dc div.sk-parallel-item:first-child::after {align-self: flex-end;width: 50%;}#sk-55d4f7da-6012-49f4-b581-7f35944025dc div.sk-parallel-item:last-child::after {align-self: flex-start;width: 50%;}#sk-55d4f7da-6012-49f4-b581-7f35944025dc div.sk-parallel-item:only-child::after {width: 0;}#sk-55d4f7da-6012-49f4-b581-7f35944025dc div.sk-dashed-wrapped {border: 1px dashed gray;margin: 0 0.4em 0.5em 0.4em;box-sizing: border-box;padding-bottom: 0.4em;background-color: white;position: relative;}#sk-55d4f7da-6012-49f4-b581-7f35944025dc div.sk-label label {font-family: monospace;font-weight: bold;background-color: white;display: inline-block;line-height: 1.2em;}#sk-55d4f7da-6012-49f4-b581-7f35944025dc div.sk-label-container {position: relative;z-index: 2;text-align: center;}#sk-55d4f7da-6012-49f4-b581-7f35944025dc div.sk-container {/* jupyter's `normalize.less` sets `[hidden] { display: none; }` but bootstrap.min.css set `[hidden] { display: none !important; }` so we also need the `!important` here to be able to override the default hidden behavior on the sphinx rendered scikit-learn.org. See: https://github.com/scikit-learn/scikit-learn/issues/21755 */display: inline-block !important;position: relative;}#sk-55d4f7da-6012-49f4-b581-7f35944025dc div.sk-text-repr-fallback {display: none;}</style><div id=\"sk-55d4f7da-6012-49f4-b581-7f35944025dc\" class=\"sk-top-container\"><div class=\"sk-text-repr-fallback\"><pre>Pipeline(steps=[(&#x27;standard_scaler_preprocessor&#x27;,\n",
       "                 ColumnTransformer(transformers=[(&#x27;ordinal_encoder&#x27;,\n",
       "                                                  OrdinalEncoder(handle_unknown=&#x27;use_encoded_value&#x27;,\n",
       "                                                                 unknown_value=-1),\n",
       "                                                  [&#x27;place&#x27;, &#x27;catu&#x27;, &#x27;sexe&#x27;,\n",
       "                                                   &#x27;trajet&#x27;, &#x27;locp&#x27;, &#x27;actp&#x27;,\n",
       "                                                   &#x27;etatp&#x27;, &#x27;secuUn&#x27;,\n",
       "                                                   &#x27;secuDeux&#x27;, &#x27;tranches_ages&#x27;,\n",
       "                                                   &#x27;catr&#x27;, &#x27;circ&#x27;, &#x27;vosp&#x27;,\n",
       "                                                   &#x27;prof&#x27;, &#x27;plan&#x27;, &#x27;surf&#x27;,\n",
       "                                                   &#x27;infra&#x27;, &#x27;situ&#x27;, &#x27;senc&#x27;,\n",
       "                                                   &#x27;obs&#x27;, &#x27;obsm&#x27;, &#x27;choc&#x27;,\n",
       "                                                   &#x27;manv&#x27;, &#x27;catv_Label&#x27;, &#x27;lum&#x27;,\n",
       "                                                   &#x27;agg&#x27;, &#x27;int&#x27;, &#x27;atm&#x27;, &#x27;col&#x27;,\n",
       "                                                   &#x27;jour_de_la_semaine&#x27;, ...]),\n",
       "                                                 (&#x27;standard_scaler&#x27;,\n",
       "                                                  StandardScaler(),\n",
       "                                                  [&#x27;age_acc_an&#x27;, &#x27;nbv&#x27;,\n",
       "                                                   &#x27;occutc&#x27;])])),\n",
       "                (&#x27;model_hist_native_ordinal&#x27;,\n",
       "                 HistGradientBoostingClassifier(random_state=52))])</pre><b>Please rerun this cell to show the HTML repr or trust the notebook.</b></div><div class=\"sk-container\" hidden><div class=\"sk-item sk-dashed-wrapped\"><div class=\"sk-label-container\"><div class=\"sk-label sk-toggleable\"><input class=\"sk-toggleable__control sk-hidden--visually\" id=\"18c1b150-2332-425b-8f11-a3fc16840627\" type=\"checkbox\" ><label for=\"18c1b150-2332-425b-8f11-a3fc16840627\" class=\"sk-toggleable__label sk-toggleable__label-arrow\">Pipeline</label><div class=\"sk-toggleable__content\"><pre>Pipeline(steps=[(&#x27;standard_scaler_preprocessor&#x27;,\n",
       "                 ColumnTransformer(transformers=[(&#x27;ordinal_encoder&#x27;,\n",
       "                                                  OrdinalEncoder(handle_unknown=&#x27;use_encoded_value&#x27;,\n",
       "                                                                 unknown_value=-1),\n",
       "                                                  [&#x27;place&#x27;, &#x27;catu&#x27;, &#x27;sexe&#x27;,\n",
       "                                                   &#x27;trajet&#x27;, &#x27;locp&#x27;, &#x27;actp&#x27;,\n",
       "                                                   &#x27;etatp&#x27;, &#x27;secuUn&#x27;,\n",
       "                                                   &#x27;secuDeux&#x27;, &#x27;tranches_ages&#x27;,\n",
       "                                                   &#x27;catr&#x27;, &#x27;circ&#x27;, &#x27;vosp&#x27;,\n",
       "                                                   &#x27;prof&#x27;, &#x27;plan&#x27;, &#x27;surf&#x27;,\n",
       "                                                   &#x27;infra&#x27;, &#x27;situ&#x27;, &#x27;senc&#x27;,\n",
       "                                                   &#x27;obs&#x27;, &#x27;obsm&#x27;, &#x27;choc&#x27;,\n",
       "                                                   &#x27;manv&#x27;, &#x27;catv_Label&#x27;, &#x27;lum&#x27;,\n",
       "                                                   &#x27;agg&#x27;, &#x27;int&#x27;, &#x27;atm&#x27;, &#x27;col&#x27;,\n",
       "                                                   &#x27;jour_de_la_semaine&#x27;, ...]),\n",
       "                                                 (&#x27;standard_scaler&#x27;,\n",
       "                                                  StandardScaler(),\n",
       "                                                  [&#x27;age_acc_an&#x27;, &#x27;nbv&#x27;,\n",
       "                                                   &#x27;occutc&#x27;])])),\n",
       "                (&#x27;model_hist_native_ordinal&#x27;,\n",
       "                 HistGradientBoostingClassifier(random_state=52))])</pre></div></div></div><div class=\"sk-serial\"><div class=\"sk-item sk-dashed-wrapped\"><div class=\"sk-label-container\"><div class=\"sk-label sk-toggleable\"><input class=\"sk-toggleable__control sk-hidden--visually\" id=\"b413addb-791d-48a1-b362-7235f250490c\" type=\"checkbox\" ><label for=\"b413addb-791d-48a1-b362-7235f250490c\" class=\"sk-toggleable__label sk-toggleable__label-arrow\">standard_scaler_preprocessor: ColumnTransformer</label><div class=\"sk-toggleable__content\"><pre>ColumnTransformer(transformers=[(&#x27;ordinal_encoder&#x27;,\n",
       "                                 OrdinalEncoder(handle_unknown=&#x27;use_encoded_value&#x27;,\n",
       "                                                unknown_value=-1),\n",
       "                                 [&#x27;place&#x27;, &#x27;catu&#x27;, &#x27;sexe&#x27;, &#x27;trajet&#x27;, &#x27;locp&#x27;,\n",
       "                                  &#x27;actp&#x27;, &#x27;etatp&#x27;, &#x27;secuUn&#x27;, &#x27;secuDeux&#x27;,\n",
       "                                  &#x27;tranches_ages&#x27;, &#x27;catr&#x27;, &#x27;circ&#x27;, &#x27;vosp&#x27;,\n",
       "                                  &#x27;prof&#x27;, &#x27;plan&#x27;, &#x27;surf&#x27;, &#x27;infra&#x27;, &#x27;situ&#x27;,\n",
       "                                  &#x27;senc&#x27;, &#x27;obs&#x27;, &#x27;obsm&#x27;, &#x27;choc&#x27;, &#x27;manv&#x27;,\n",
       "                                  &#x27;catv_Label&#x27;, &#x27;lum&#x27;, &#x27;agg&#x27;, &#x27;int&#x27;, &#x27;atm&#x27;,\n",
       "                                  &#x27;col&#x27;, &#x27;jour_de_la_semaine&#x27;, ...]),\n",
       "                                (&#x27;standard_scaler&#x27;, StandardScaler(),\n",
       "                                 [&#x27;age_acc_an&#x27;, &#x27;nbv&#x27;, &#x27;occutc&#x27;])])</pre></div></div></div><div class=\"sk-parallel\"><div class=\"sk-parallel-item\"><div class=\"sk-item\"><div class=\"sk-label-container\"><div class=\"sk-label sk-toggleable\"><input class=\"sk-toggleable__control sk-hidden--visually\" id=\"9c462b50-5a0a-4934-b9dc-e747a801b834\" type=\"checkbox\" ><label for=\"9c462b50-5a0a-4934-b9dc-e747a801b834\" class=\"sk-toggleable__label sk-toggleable__label-arrow\">ordinal_encoder</label><div class=\"sk-toggleable__content\"><pre>[&#x27;place&#x27;, &#x27;catu&#x27;, &#x27;sexe&#x27;, &#x27;trajet&#x27;, &#x27;locp&#x27;, &#x27;actp&#x27;, &#x27;etatp&#x27;, &#x27;secuUn&#x27;, &#x27;secuDeux&#x27;, &#x27;tranches_ages&#x27;, &#x27;catr&#x27;, &#x27;circ&#x27;, &#x27;vosp&#x27;, &#x27;prof&#x27;, &#x27;plan&#x27;, &#x27;surf&#x27;, &#x27;infra&#x27;, &#x27;situ&#x27;, &#x27;senc&#x27;, &#x27;obs&#x27;, &#x27;obsm&#x27;, &#x27;choc&#x27;, &#x27;manv&#x27;, &#x27;catv_Label&#x27;, &#x27;lum&#x27;, &#x27;agg&#x27;, &#x27;int&#x27;, &#x27;atm&#x27;, &#x27;col&#x27;, &#x27;jour_de_la_semaine&#x27;, &#x27;heure&#x27;]</pre></div></div></div><div class=\"sk-serial\"><div class=\"sk-item\"><div class=\"sk-estimator sk-toggleable\"><input class=\"sk-toggleable__control sk-hidden--visually\" id=\"6cb3f8c6-a9b6-4043-9ecd-f2c48888eaf8\" type=\"checkbox\" ><label for=\"6cb3f8c6-a9b6-4043-9ecd-f2c48888eaf8\" class=\"sk-toggleable__label sk-toggleable__label-arrow\">OrdinalEncoder</label><div class=\"sk-toggleable__content\"><pre>OrdinalEncoder(handle_unknown=&#x27;use_encoded_value&#x27;, unknown_value=-1)</pre></div></div></div></div></div></div><div class=\"sk-parallel-item\"><div class=\"sk-item\"><div class=\"sk-label-container\"><div class=\"sk-label sk-toggleable\"><input class=\"sk-toggleable__control sk-hidden--visually\" id=\"bae4aa73-8a83-4da6-ac1e-9ad062113a2d\" type=\"checkbox\" ><label for=\"bae4aa73-8a83-4da6-ac1e-9ad062113a2d\" class=\"sk-toggleable__label sk-toggleable__label-arrow\">standard_scaler</label><div class=\"sk-toggleable__content\"><pre>[&#x27;age_acc_an&#x27;, &#x27;nbv&#x27;, &#x27;occutc&#x27;]</pre></div></div></div><div class=\"sk-serial\"><div class=\"sk-item\"><div class=\"sk-estimator sk-toggleable\"><input class=\"sk-toggleable__control sk-hidden--visually\" id=\"23f20379-112e-4311-9491-61132bf91391\" type=\"checkbox\" ><label for=\"23f20379-112e-4311-9491-61132bf91391\" class=\"sk-toggleable__label sk-toggleable__label-arrow\">StandardScaler</label><div class=\"sk-toggleable__content\"><pre>StandardScaler()</pre></div></div></div></div></div></div></div></div><div class=\"sk-item\"><div class=\"sk-estimator sk-toggleable\"><input class=\"sk-toggleable__control sk-hidden--visually\" id=\"a114f371-03f3-4127-ac5d-133161cdb1f1\" type=\"checkbox\" ><label for=\"a114f371-03f3-4127-ac5d-133161cdb1f1\" class=\"sk-toggleable__label sk-toggleable__label-arrow\">HistGradientBoostingClassifier</label><div class=\"sk-toggleable__content\"><pre>HistGradientBoostingClassifier(random_state=52)</pre></div></div></div></div></div></div></div>"
      ],
      "text/plain": [
       "Pipeline(steps=[('standard_scaler_preprocessor',\n",
       "                 ColumnTransformer(transformers=[('ordinal_encoder',\n",
       "                                                  OrdinalEncoder(handle_unknown='use_encoded_value',\n",
       "                                                                 unknown_value=-1),\n",
       "                                                  ['place', 'catu', 'sexe',\n",
       "                                                   'trajet', 'locp', 'actp',\n",
       "                                                   'etatp', 'secuUn',\n",
       "                                                   'secuDeux', 'tranches_ages',\n",
       "                                                   'catr', 'circ', 'vosp',\n",
       "                                                   'prof', 'plan', 'surf',\n",
       "                                                   'infra', 'situ', 'senc',\n",
       "                                                   'obs', 'obsm', 'choc',\n",
       "                                                   'manv', 'catv_Label', 'lum',\n",
       "                                                   'agg', 'int', 'atm', 'col',\n",
       "                                                   'jour_de_la_semaine', ...]),\n",
       "                                                 ('standard_scaler',\n",
       "                                                  StandardScaler(),\n",
       "                                                  ['age_acc_an', 'nbv',\n",
       "                                                   'occutc'])])),\n",
       "                ('model_hist_native_ordinal',\n",
       "                 HistGradientBoostingClassifier(random_state=52))])"
      ]
     },
     "execution_count": 89,
     "metadata": {},
     "output_type": "execute_result"
    }
   ],
   "source": [
    "set_config(display='diagram')\n",
    "hist_native_ordinal"
   ]
  },
  {
   "cell_type": "code",
   "execution_count": 68,
   "id": "bf30fff4",
   "metadata": {},
   "outputs": [],
   "source": [
    "preprocessor = ColumnTransformer([\n",
    "    ('one_hot_encoder', one_hot_categorical_preprocessor, categorical_columns),\n",
    "    ('standard_scaler', numerical_preprocessor, numerical_columns)])\n",
    "#  create our model\n",
    "hist_native_hot = Pipeline(steps=[\n",
    "    ('standard_scaler_preprocessor', preprocessor), \n",
    "    ('model_hist_native_One_hot', hist_gradient_boosting)\n",
    "])"
   ]
  },
  {
   "cell_type": "code",
   "execution_count": 69,
   "id": "d6eb032f",
   "metadata": {},
   "outputs": [
    {
     "data": {
      "text/html": [
       "<style>#sk-0c5fa8a1-cb0c-4fd9-addf-b031c9ffcb0f {color: black;background-color: white;}#sk-0c5fa8a1-cb0c-4fd9-addf-b031c9ffcb0f pre{padding: 0;}#sk-0c5fa8a1-cb0c-4fd9-addf-b031c9ffcb0f div.sk-toggleable {background-color: white;}#sk-0c5fa8a1-cb0c-4fd9-addf-b031c9ffcb0f label.sk-toggleable__label {cursor: pointer;display: block;width: 100%;margin-bottom: 0;padding: 0.3em;box-sizing: border-box;text-align: center;}#sk-0c5fa8a1-cb0c-4fd9-addf-b031c9ffcb0f label.sk-toggleable__label-arrow:before {content: \"▸\";float: left;margin-right: 0.25em;color: #696969;}#sk-0c5fa8a1-cb0c-4fd9-addf-b031c9ffcb0f label.sk-toggleable__label-arrow:hover:before {color: black;}#sk-0c5fa8a1-cb0c-4fd9-addf-b031c9ffcb0f div.sk-estimator:hover label.sk-toggleable__label-arrow:before {color: black;}#sk-0c5fa8a1-cb0c-4fd9-addf-b031c9ffcb0f div.sk-toggleable__content {max-height: 0;max-width: 0;overflow: hidden;text-align: left;background-color: #f0f8ff;}#sk-0c5fa8a1-cb0c-4fd9-addf-b031c9ffcb0f div.sk-toggleable__content pre {margin: 0.2em;color: black;border-radius: 0.25em;background-color: #f0f8ff;}#sk-0c5fa8a1-cb0c-4fd9-addf-b031c9ffcb0f input.sk-toggleable__control:checked~div.sk-toggleable__content {max-height: 200px;max-width: 100%;overflow: auto;}#sk-0c5fa8a1-cb0c-4fd9-addf-b031c9ffcb0f input.sk-toggleable__control:checked~label.sk-toggleable__label-arrow:before {content: \"▾\";}#sk-0c5fa8a1-cb0c-4fd9-addf-b031c9ffcb0f div.sk-estimator input.sk-toggleable__control:checked~label.sk-toggleable__label {background-color: #d4ebff;}#sk-0c5fa8a1-cb0c-4fd9-addf-b031c9ffcb0f div.sk-label input.sk-toggleable__control:checked~label.sk-toggleable__label {background-color: #d4ebff;}#sk-0c5fa8a1-cb0c-4fd9-addf-b031c9ffcb0f input.sk-hidden--visually {border: 0;clip: rect(1px 1px 1px 1px);clip: rect(1px, 1px, 1px, 1px);height: 1px;margin: -1px;overflow: hidden;padding: 0;position: absolute;width: 1px;}#sk-0c5fa8a1-cb0c-4fd9-addf-b031c9ffcb0f div.sk-estimator {font-family: monospace;background-color: #f0f8ff;border: 1px dotted black;border-radius: 0.25em;box-sizing: border-box;margin-bottom: 0.5em;}#sk-0c5fa8a1-cb0c-4fd9-addf-b031c9ffcb0f div.sk-estimator:hover {background-color: #d4ebff;}#sk-0c5fa8a1-cb0c-4fd9-addf-b031c9ffcb0f div.sk-parallel-item::after {content: \"\";width: 100%;border-bottom: 1px solid gray;flex-grow: 1;}#sk-0c5fa8a1-cb0c-4fd9-addf-b031c9ffcb0f div.sk-label:hover label.sk-toggleable__label {background-color: #d4ebff;}#sk-0c5fa8a1-cb0c-4fd9-addf-b031c9ffcb0f div.sk-serial::before {content: \"\";position: absolute;border-left: 1px solid gray;box-sizing: border-box;top: 2em;bottom: 0;left: 50%;}#sk-0c5fa8a1-cb0c-4fd9-addf-b031c9ffcb0f div.sk-serial {display: flex;flex-direction: column;align-items: center;background-color: white;padding-right: 0.2em;padding-left: 0.2em;}#sk-0c5fa8a1-cb0c-4fd9-addf-b031c9ffcb0f div.sk-item {z-index: 1;}#sk-0c5fa8a1-cb0c-4fd9-addf-b031c9ffcb0f div.sk-parallel {display: flex;align-items: stretch;justify-content: center;background-color: white;}#sk-0c5fa8a1-cb0c-4fd9-addf-b031c9ffcb0f div.sk-parallel::before {content: \"\";position: absolute;border-left: 1px solid gray;box-sizing: border-box;top: 2em;bottom: 0;left: 50%;}#sk-0c5fa8a1-cb0c-4fd9-addf-b031c9ffcb0f div.sk-parallel-item {display: flex;flex-direction: column;position: relative;background-color: white;}#sk-0c5fa8a1-cb0c-4fd9-addf-b031c9ffcb0f div.sk-parallel-item:first-child::after {align-self: flex-end;width: 50%;}#sk-0c5fa8a1-cb0c-4fd9-addf-b031c9ffcb0f div.sk-parallel-item:last-child::after {align-self: flex-start;width: 50%;}#sk-0c5fa8a1-cb0c-4fd9-addf-b031c9ffcb0f div.sk-parallel-item:only-child::after {width: 0;}#sk-0c5fa8a1-cb0c-4fd9-addf-b031c9ffcb0f div.sk-dashed-wrapped {border: 1px dashed gray;margin: 0 0.4em 0.5em 0.4em;box-sizing: border-box;padding-bottom: 0.4em;background-color: white;position: relative;}#sk-0c5fa8a1-cb0c-4fd9-addf-b031c9ffcb0f div.sk-label label {font-family: monospace;font-weight: bold;background-color: white;display: inline-block;line-height: 1.2em;}#sk-0c5fa8a1-cb0c-4fd9-addf-b031c9ffcb0f div.sk-label-container {position: relative;z-index: 2;text-align: center;}#sk-0c5fa8a1-cb0c-4fd9-addf-b031c9ffcb0f div.sk-container {/* jupyter's `normalize.less` sets `[hidden] { display: none; }` but bootstrap.min.css set `[hidden] { display: none !important; }` so we also need the `!important` here to be able to override the default hidden behavior on the sphinx rendered scikit-learn.org. See: https://github.com/scikit-learn/scikit-learn/issues/21755 */display: inline-block !important;position: relative;}#sk-0c5fa8a1-cb0c-4fd9-addf-b031c9ffcb0f div.sk-text-repr-fallback {display: none;}</style><div id=\"sk-0c5fa8a1-cb0c-4fd9-addf-b031c9ffcb0f\" class=\"sk-top-container\"><div class=\"sk-text-repr-fallback\"><pre>Pipeline(steps=[(&#x27;standard_scaler_preprocessor&#x27;,\n",
       "                 ColumnTransformer(transformers=[(&#x27;one_hot_encoder&#x27;,\n",
       "                                                  OneHotEncoder(handle_unknown=&#x27;ignore&#x27;,\n",
       "                                                                sparse=False),\n",
       "                                                  [&#x27;place&#x27;, &#x27;catu&#x27;, &#x27;sexe&#x27;,\n",
       "                                                   &#x27;trajet&#x27;, &#x27;locp&#x27;, &#x27;actp&#x27;,\n",
       "                                                   &#x27;etatp&#x27;, &#x27;secuUn&#x27;,\n",
       "                                                   &#x27;secuDeux&#x27;, &#x27;tranches_ages&#x27;,\n",
       "                                                   &#x27;catr&#x27;, &#x27;circ&#x27;, &#x27;vosp&#x27;,\n",
       "                                                   &#x27;prof&#x27;, &#x27;plan&#x27;, &#x27;surf&#x27;,\n",
       "                                                   &#x27;infra&#x27;, &#x27;situ&#x27;, &#x27;senc&#x27;,\n",
       "                                                   &#x27;obs&#x27;, &#x27;obsm&#x27;, &#x27;choc&#x27;,\n",
       "                                                   &#x27;manv&#x27;, &#x27;catv_Label&#x27;, &#x27;lum&#x27;,\n",
       "                                                   &#x27;agg&#x27;, &#x27;int&#x27;, &#x27;atm&#x27;, &#x27;col&#x27;,\n",
       "                                                   &#x27;jour_de_la_semaine&#x27;, ...]),\n",
       "                                                 (&#x27;standard_scaler&#x27;,\n",
       "                                                  StandardScaler(),\n",
       "                                                  [&#x27;age_acc_an&#x27;, &#x27;nbv&#x27;,\n",
       "                                                   &#x27;occutc&#x27;])])),\n",
       "                (&#x27;model_hist_native_One_hot&#x27;,\n",
       "                 HistGradientBoostingClassifier(random_state=52))])</pre><b>Please rerun this cell to show the HTML repr or trust the notebook.</b></div><div class=\"sk-container\" hidden><div class=\"sk-item sk-dashed-wrapped\"><div class=\"sk-label-container\"><div class=\"sk-label sk-toggleable\"><input class=\"sk-toggleable__control sk-hidden--visually\" id=\"7dd3745a-0f31-411f-aedb-6c8f1184351f\" type=\"checkbox\" ><label for=\"7dd3745a-0f31-411f-aedb-6c8f1184351f\" class=\"sk-toggleable__label sk-toggleable__label-arrow\">Pipeline</label><div class=\"sk-toggleable__content\"><pre>Pipeline(steps=[(&#x27;standard_scaler_preprocessor&#x27;,\n",
       "                 ColumnTransformer(transformers=[(&#x27;one_hot_encoder&#x27;,\n",
       "                                                  OneHotEncoder(handle_unknown=&#x27;ignore&#x27;,\n",
       "                                                                sparse=False),\n",
       "                                                  [&#x27;place&#x27;, &#x27;catu&#x27;, &#x27;sexe&#x27;,\n",
       "                                                   &#x27;trajet&#x27;, &#x27;locp&#x27;, &#x27;actp&#x27;,\n",
       "                                                   &#x27;etatp&#x27;, &#x27;secuUn&#x27;,\n",
       "                                                   &#x27;secuDeux&#x27;, &#x27;tranches_ages&#x27;,\n",
       "                                                   &#x27;catr&#x27;, &#x27;circ&#x27;, &#x27;vosp&#x27;,\n",
       "                                                   &#x27;prof&#x27;, &#x27;plan&#x27;, &#x27;surf&#x27;,\n",
       "                                                   &#x27;infra&#x27;, &#x27;situ&#x27;, &#x27;senc&#x27;,\n",
       "                                                   &#x27;obs&#x27;, &#x27;obsm&#x27;, &#x27;choc&#x27;,\n",
       "                                                   &#x27;manv&#x27;, &#x27;catv_Label&#x27;, &#x27;lum&#x27;,\n",
       "                                                   &#x27;agg&#x27;, &#x27;int&#x27;, &#x27;atm&#x27;, &#x27;col&#x27;,\n",
       "                                                   &#x27;jour_de_la_semaine&#x27;, ...]),\n",
       "                                                 (&#x27;standard_scaler&#x27;,\n",
       "                                                  StandardScaler(),\n",
       "                                                  [&#x27;age_acc_an&#x27;, &#x27;nbv&#x27;,\n",
       "                                                   &#x27;occutc&#x27;])])),\n",
       "                (&#x27;model_hist_native_One_hot&#x27;,\n",
       "                 HistGradientBoostingClassifier(random_state=52))])</pre></div></div></div><div class=\"sk-serial\"><div class=\"sk-item sk-dashed-wrapped\"><div class=\"sk-label-container\"><div class=\"sk-label sk-toggleable\"><input class=\"sk-toggleable__control sk-hidden--visually\" id=\"dce06e30-8caf-448c-8caf-719ae170fda0\" type=\"checkbox\" ><label for=\"dce06e30-8caf-448c-8caf-719ae170fda0\" class=\"sk-toggleable__label sk-toggleable__label-arrow\">standard_scaler_preprocessor: ColumnTransformer</label><div class=\"sk-toggleable__content\"><pre>ColumnTransformer(transformers=[(&#x27;one_hot_encoder&#x27;,\n",
       "                                 OneHotEncoder(handle_unknown=&#x27;ignore&#x27;,\n",
       "                                               sparse=False),\n",
       "                                 [&#x27;place&#x27;, &#x27;catu&#x27;, &#x27;sexe&#x27;, &#x27;trajet&#x27;, &#x27;locp&#x27;,\n",
       "                                  &#x27;actp&#x27;, &#x27;etatp&#x27;, &#x27;secuUn&#x27;, &#x27;secuDeux&#x27;,\n",
       "                                  &#x27;tranches_ages&#x27;, &#x27;catr&#x27;, &#x27;circ&#x27;, &#x27;vosp&#x27;,\n",
       "                                  &#x27;prof&#x27;, &#x27;plan&#x27;, &#x27;surf&#x27;, &#x27;infra&#x27;, &#x27;situ&#x27;,\n",
       "                                  &#x27;senc&#x27;, &#x27;obs&#x27;, &#x27;obsm&#x27;, &#x27;choc&#x27;, &#x27;manv&#x27;,\n",
       "                                  &#x27;catv_Label&#x27;, &#x27;lum&#x27;, &#x27;agg&#x27;, &#x27;int&#x27;, &#x27;atm&#x27;,\n",
       "                                  &#x27;col&#x27;, &#x27;jour_de_la_semaine&#x27;, ...]),\n",
       "                                (&#x27;standard_scaler&#x27;, StandardScaler(),\n",
       "                                 [&#x27;age_acc_an&#x27;, &#x27;nbv&#x27;, &#x27;occutc&#x27;])])</pre></div></div></div><div class=\"sk-parallel\"><div class=\"sk-parallel-item\"><div class=\"sk-item\"><div class=\"sk-label-container\"><div class=\"sk-label sk-toggleable\"><input class=\"sk-toggleable__control sk-hidden--visually\" id=\"921bf532-74e8-4878-a8a0-c8cfc64bb841\" type=\"checkbox\" ><label for=\"921bf532-74e8-4878-a8a0-c8cfc64bb841\" class=\"sk-toggleable__label sk-toggleable__label-arrow\">one_hot_encoder</label><div class=\"sk-toggleable__content\"><pre>[&#x27;place&#x27;, &#x27;catu&#x27;, &#x27;sexe&#x27;, &#x27;trajet&#x27;, &#x27;locp&#x27;, &#x27;actp&#x27;, &#x27;etatp&#x27;, &#x27;secuUn&#x27;, &#x27;secuDeux&#x27;, &#x27;tranches_ages&#x27;, &#x27;catr&#x27;, &#x27;circ&#x27;, &#x27;vosp&#x27;, &#x27;prof&#x27;, &#x27;plan&#x27;, &#x27;surf&#x27;, &#x27;infra&#x27;, &#x27;situ&#x27;, &#x27;senc&#x27;, &#x27;obs&#x27;, &#x27;obsm&#x27;, &#x27;choc&#x27;, &#x27;manv&#x27;, &#x27;catv_Label&#x27;, &#x27;lum&#x27;, &#x27;agg&#x27;, &#x27;int&#x27;, &#x27;atm&#x27;, &#x27;col&#x27;, &#x27;jour_de_la_semaine&#x27;, &#x27;heure&#x27;]</pre></div></div></div><div class=\"sk-serial\"><div class=\"sk-item\"><div class=\"sk-estimator sk-toggleable\"><input class=\"sk-toggleable__control sk-hidden--visually\" id=\"7a01bce3-c929-4942-9033-a41c962a1c76\" type=\"checkbox\" ><label for=\"7a01bce3-c929-4942-9033-a41c962a1c76\" class=\"sk-toggleable__label sk-toggleable__label-arrow\">OneHotEncoder</label><div class=\"sk-toggleable__content\"><pre>OneHotEncoder(handle_unknown=&#x27;ignore&#x27;, sparse=False)</pre></div></div></div></div></div></div><div class=\"sk-parallel-item\"><div class=\"sk-item\"><div class=\"sk-label-container\"><div class=\"sk-label sk-toggleable\"><input class=\"sk-toggleable__control sk-hidden--visually\" id=\"4b393dbc-9637-4672-a8ba-2ab8b35bf214\" type=\"checkbox\" ><label for=\"4b393dbc-9637-4672-a8ba-2ab8b35bf214\" class=\"sk-toggleable__label sk-toggleable__label-arrow\">standard_scaler</label><div class=\"sk-toggleable__content\"><pre>[&#x27;age_acc_an&#x27;, &#x27;nbv&#x27;, &#x27;occutc&#x27;]</pre></div></div></div><div class=\"sk-serial\"><div class=\"sk-item\"><div class=\"sk-estimator sk-toggleable\"><input class=\"sk-toggleable__control sk-hidden--visually\" id=\"b26e06e8-5a86-42c8-8793-b0dc4a4c33b0\" type=\"checkbox\" ><label for=\"b26e06e8-5a86-42c8-8793-b0dc4a4c33b0\" class=\"sk-toggleable__label sk-toggleable__label-arrow\">StandardScaler</label><div class=\"sk-toggleable__content\"><pre>StandardScaler()</pre></div></div></div></div></div></div></div></div><div class=\"sk-item\"><div class=\"sk-estimator sk-toggleable\"><input class=\"sk-toggleable__control sk-hidden--visually\" id=\"a3cd0c7f-e8d1-4212-ad4e-f5674a4df05d\" type=\"checkbox\" ><label for=\"a3cd0c7f-e8d1-4212-ad4e-f5674a4df05d\" class=\"sk-toggleable__label sk-toggleable__label-arrow\">HistGradientBoostingClassifier</label><div class=\"sk-toggleable__content\"><pre>HistGradientBoostingClassifier(random_state=52)</pre></div></div></div></div></div></div></div>"
      ],
      "text/plain": [
       "Pipeline(steps=[('standard_scaler_preprocessor',\n",
       "                 ColumnTransformer(transformers=[('one_hot_encoder',\n",
       "                                                  OneHotEncoder(handle_unknown='ignore',\n",
       "                                                                sparse=False),\n",
       "                                                  ['place', 'catu', 'sexe',\n",
       "                                                   'trajet', 'locp', 'actp',\n",
       "                                                   'etatp', 'secuUn',\n",
       "                                                   'secuDeux', 'tranches_ages',\n",
       "                                                   'catr', 'circ', 'vosp',\n",
       "                                                   'prof', 'plan', 'surf',\n",
       "                                                   'infra', 'situ', 'senc',\n",
       "                                                   'obs', 'obsm', 'choc',\n",
       "                                                   'manv', 'catv_Label', 'lum',\n",
       "                                                   'agg', 'int', 'atm', 'col',\n",
       "                                                   'jour_de_la_semaine', ...]),\n",
       "                                                 ('standard_scaler',\n",
       "                                                  StandardScaler(),\n",
       "                                                  ['age_acc_an', 'nbv',\n",
       "                                                   'occutc'])])),\n",
       "                ('model_hist_native_One_hot',\n",
       "                 HistGradientBoostingClassifier(random_state=52))])"
      ]
     },
     "execution_count": 69,
     "metadata": {},
     "output_type": "execute_result"
    }
   ],
   "source": [
    "set_config(display='diagram')\n",
    "hist_native_hot"
   ]
  },
  {
   "cell_type": "raw",
   "id": "1b837222",
   "metadata": {
    "scrolled": true
   },
   "source": [
    "column_mask = []\n",
    "for column_name in list(X_train.columns.values):\n",
    "    column_mask.append(column_name in categorical_columns)\n"
   ]
  },
  {
   "cell_type": "raw",
   "id": "435cd768",
   "metadata": {},
   "source": [
    "cat_column_mask = [mask for mask in column_mask if mask == True]\n",
    "cat_column_mask"
   ]
  },
  {
   "cell_type": "code",
   "execution_count": 70,
   "id": "573e9f0b",
   "metadata": {},
   "outputs": [],
   "source": [
    "preprocessor = ColumnTransformer([\n",
    "    ('ordinal_encoder', OrdinalEncoder(), ['jour_de_la_semaine', 'heure']),\n",
    "    ('one_hot_encoder', one_hot_categorical_preprocessor, ['place', 'catu', 'sexe', 'trajet', 'locp', 'actp', 'etatp',\n",
    "       'secuUn', 'secuDeux', 'tranches_ages', 'catr', 'circ', 'vosp', 'prof', 'plan', 'surf', 'infra', \n",
    "        'situ', 'senc', 'obs', 'obsm', 'choc', 'manv', 'catv_Label', 'lum', 'agg', 'int', 'atm', 'col']),\n",
    "    ('standard_scaler', numerical_preprocessor, numerical_columns)])\n",
    "#  create our model\n",
    "hist_native = Pipeline(steps=[\n",
    "    ('standard_scaler_preprocessor', preprocessor), \n",
    "    ('model_hist_native',  hist_gradient_boosting)\n",
    "     #HistGradientBoostingClassifier(random_state=52,\n",
    "        #categorical_features=np.array(column_mask),\n",
    "])"
   ]
  },
  {
   "cell_type": "code",
   "execution_count": 71,
   "id": "c449014a",
   "metadata": {},
   "outputs": [
    {
     "data": {
      "text/html": [
       "<style>#sk-ab199f4f-ed7a-4b6e-8a4b-fbae20e7b6ea {color: black;background-color: white;}#sk-ab199f4f-ed7a-4b6e-8a4b-fbae20e7b6ea pre{padding: 0;}#sk-ab199f4f-ed7a-4b6e-8a4b-fbae20e7b6ea div.sk-toggleable {background-color: white;}#sk-ab199f4f-ed7a-4b6e-8a4b-fbae20e7b6ea label.sk-toggleable__label {cursor: pointer;display: block;width: 100%;margin-bottom: 0;padding: 0.3em;box-sizing: border-box;text-align: center;}#sk-ab199f4f-ed7a-4b6e-8a4b-fbae20e7b6ea label.sk-toggleable__label-arrow:before {content: \"▸\";float: left;margin-right: 0.25em;color: #696969;}#sk-ab199f4f-ed7a-4b6e-8a4b-fbae20e7b6ea label.sk-toggleable__label-arrow:hover:before {color: black;}#sk-ab199f4f-ed7a-4b6e-8a4b-fbae20e7b6ea div.sk-estimator:hover label.sk-toggleable__label-arrow:before {color: black;}#sk-ab199f4f-ed7a-4b6e-8a4b-fbae20e7b6ea div.sk-toggleable__content {max-height: 0;max-width: 0;overflow: hidden;text-align: left;background-color: #f0f8ff;}#sk-ab199f4f-ed7a-4b6e-8a4b-fbae20e7b6ea div.sk-toggleable__content pre {margin: 0.2em;color: black;border-radius: 0.25em;background-color: #f0f8ff;}#sk-ab199f4f-ed7a-4b6e-8a4b-fbae20e7b6ea input.sk-toggleable__control:checked~div.sk-toggleable__content {max-height: 200px;max-width: 100%;overflow: auto;}#sk-ab199f4f-ed7a-4b6e-8a4b-fbae20e7b6ea input.sk-toggleable__control:checked~label.sk-toggleable__label-arrow:before {content: \"▾\";}#sk-ab199f4f-ed7a-4b6e-8a4b-fbae20e7b6ea div.sk-estimator input.sk-toggleable__control:checked~label.sk-toggleable__label {background-color: #d4ebff;}#sk-ab199f4f-ed7a-4b6e-8a4b-fbae20e7b6ea div.sk-label input.sk-toggleable__control:checked~label.sk-toggleable__label {background-color: #d4ebff;}#sk-ab199f4f-ed7a-4b6e-8a4b-fbae20e7b6ea input.sk-hidden--visually {border: 0;clip: rect(1px 1px 1px 1px);clip: rect(1px, 1px, 1px, 1px);height: 1px;margin: -1px;overflow: hidden;padding: 0;position: absolute;width: 1px;}#sk-ab199f4f-ed7a-4b6e-8a4b-fbae20e7b6ea div.sk-estimator {font-family: monospace;background-color: #f0f8ff;border: 1px dotted black;border-radius: 0.25em;box-sizing: border-box;margin-bottom: 0.5em;}#sk-ab199f4f-ed7a-4b6e-8a4b-fbae20e7b6ea div.sk-estimator:hover {background-color: #d4ebff;}#sk-ab199f4f-ed7a-4b6e-8a4b-fbae20e7b6ea div.sk-parallel-item::after {content: \"\";width: 100%;border-bottom: 1px solid gray;flex-grow: 1;}#sk-ab199f4f-ed7a-4b6e-8a4b-fbae20e7b6ea div.sk-label:hover label.sk-toggleable__label {background-color: #d4ebff;}#sk-ab199f4f-ed7a-4b6e-8a4b-fbae20e7b6ea div.sk-serial::before {content: \"\";position: absolute;border-left: 1px solid gray;box-sizing: border-box;top: 2em;bottom: 0;left: 50%;}#sk-ab199f4f-ed7a-4b6e-8a4b-fbae20e7b6ea div.sk-serial {display: flex;flex-direction: column;align-items: center;background-color: white;padding-right: 0.2em;padding-left: 0.2em;}#sk-ab199f4f-ed7a-4b6e-8a4b-fbae20e7b6ea div.sk-item {z-index: 1;}#sk-ab199f4f-ed7a-4b6e-8a4b-fbae20e7b6ea div.sk-parallel {display: flex;align-items: stretch;justify-content: center;background-color: white;}#sk-ab199f4f-ed7a-4b6e-8a4b-fbae20e7b6ea div.sk-parallel::before {content: \"\";position: absolute;border-left: 1px solid gray;box-sizing: border-box;top: 2em;bottom: 0;left: 50%;}#sk-ab199f4f-ed7a-4b6e-8a4b-fbae20e7b6ea div.sk-parallel-item {display: flex;flex-direction: column;position: relative;background-color: white;}#sk-ab199f4f-ed7a-4b6e-8a4b-fbae20e7b6ea div.sk-parallel-item:first-child::after {align-self: flex-end;width: 50%;}#sk-ab199f4f-ed7a-4b6e-8a4b-fbae20e7b6ea div.sk-parallel-item:last-child::after {align-self: flex-start;width: 50%;}#sk-ab199f4f-ed7a-4b6e-8a4b-fbae20e7b6ea div.sk-parallel-item:only-child::after {width: 0;}#sk-ab199f4f-ed7a-4b6e-8a4b-fbae20e7b6ea div.sk-dashed-wrapped {border: 1px dashed gray;margin: 0 0.4em 0.5em 0.4em;box-sizing: border-box;padding-bottom: 0.4em;background-color: white;position: relative;}#sk-ab199f4f-ed7a-4b6e-8a4b-fbae20e7b6ea div.sk-label label {font-family: monospace;font-weight: bold;background-color: white;display: inline-block;line-height: 1.2em;}#sk-ab199f4f-ed7a-4b6e-8a4b-fbae20e7b6ea div.sk-label-container {position: relative;z-index: 2;text-align: center;}#sk-ab199f4f-ed7a-4b6e-8a4b-fbae20e7b6ea div.sk-container {/* jupyter's `normalize.less` sets `[hidden] { display: none; }` but bootstrap.min.css set `[hidden] { display: none !important; }` so we also need the `!important` here to be able to override the default hidden behavior on the sphinx rendered scikit-learn.org. See: https://github.com/scikit-learn/scikit-learn/issues/21755 */display: inline-block !important;position: relative;}#sk-ab199f4f-ed7a-4b6e-8a4b-fbae20e7b6ea div.sk-text-repr-fallback {display: none;}</style><div id=\"sk-ab199f4f-ed7a-4b6e-8a4b-fbae20e7b6ea\" class=\"sk-top-container\"><div class=\"sk-text-repr-fallback\"><pre>Pipeline(steps=[(&#x27;standard_scaler_preprocessor&#x27;,\n",
       "                 ColumnTransformer(transformers=[(&#x27;ordinal_encoder&#x27;,\n",
       "                                                  OrdinalEncoder(),\n",
       "                                                  [&#x27;jour_de_la_semaine&#x27;,\n",
       "                                                   &#x27;heure&#x27;]),\n",
       "                                                 (&#x27;one_hot_encoder&#x27;,\n",
       "                                                  OneHotEncoder(handle_unknown=&#x27;ignore&#x27;,\n",
       "                                                                sparse=False),\n",
       "                                                  [&#x27;place&#x27;, &#x27;catu&#x27;, &#x27;sexe&#x27;,\n",
       "                                                   &#x27;trajet&#x27;, &#x27;locp&#x27;, &#x27;actp&#x27;,\n",
       "                                                   &#x27;etatp&#x27;, &#x27;secuUn&#x27;,\n",
       "                                                   &#x27;secuDeux&#x27;, &#x27;tranches_ages&#x27;,\n",
       "                                                   &#x27;catr&#x27;, &#x27;circ&#x27;, &#x27;vosp&#x27;,\n",
       "                                                   &#x27;prof&#x27;, &#x27;plan&#x27;, &#x27;surf&#x27;,\n",
       "                                                   &#x27;infra&#x27;, &#x27;situ&#x27;, &#x27;senc&#x27;,\n",
       "                                                   &#x27;obs&#x27;, &#x27;obsm&#x27;, &#x27;choc&#x27;,\n",
       "                                                   &#x27;manv&#x27;, &#x27;catv_Label&#x27;, &#x27;lum&#x27;,\n",
       "                                                   &#x27;agg&#x27;, &#x27;int&#x27;, &#x27;atm&#x27;,\n",
       "                                                   &#x27;col&#x27;]),\n",
       "                                                 (&#x27;standard_scaler&#x27;,\n",
       "                                                  StandardScaler(),\n",
       "                                                  [&#x27;age_acc_an&#x27;, &#x27;nbv&#x27;,\n",
       "                                                   &#x27;occutc&#x27;])])),\n",
       "                (&#x27;model_hist_native&#x27;,\n",
       "                 HistGradientBoostingClassifier(random_state=52))])</pre><b>Please rerun this cell to show the HTML repr or trust the notebook.</b></div><div class=\"sk-container\" hidden><div class=\"sk-item sk-dashed-wrapped\"><div class=\"sk-label-container\"><div class=\"sk-label sk-toggleable\"><input class=\"sk-toggleable__control sk-hidden--visually\" id=\"58b973ef-ecf0-4d83-80cd-5e425eed12e4\" type=\"checkbox\" ><label for=\"58b973ef-ecf0-4d83-80cd-5e425eed12e4\" class=\"sk-toggleable__label sk-toggleable__label-arrow\">Pipeline</label><div class=\"sk-toggleable__content\"><pre>Pipeline(steps=[(&#x27;standard_scaler_preprocessor&#x27;,\n",
       "                 ColumnTransformer(transformers=[(&#x27;ordinal_encoder&#x27;,\n",
       "                                                  OrdinalEncoder(),\n",
       "                                                  [&#x27;jour_de_la_semaine&#x27;,\n",
       "                                                   &#x27;heure&#x27;]),\n",
       "                                                 (&#x27;one_hot_encoder&#x27;,\n",
       "                                                  OneHotEncoder(handle_unknown=&#x27;ignore&#x27;,\n",
       "                                                                sparse=False),\n",
       "                                                  [&#x27;place&#x27;, &#x27;catu&#x27;, &#x27;sexe&#x27;,\n",
       "                                                   &#x27;trajet&#x27;, &#x27;locp&#x27;, &#x27;actp&#x27;,\n",
       "                                                   &#x27;etatp&#x27;, &#x27;secuUn&#x27;,\n",
       "                                                   &#x27;secuDeux&#x27;, &#x27;tranches_ages&#x27;,\n",
       "                                                   &#x27;catr&#x27;, &#x27;circ&#x27;, &#x27;vosp&#x27;,\n",
       "                                                   &#x27;prof&#x27;, &#x27;plan&#x27;, &#x27;surf&#x27;,\n",
       "                                                   &#x27;infra&#x27;, &#x27;situ&#x27;, &#x27;senc&#x27;,\n",
       "                                                   &#x27;obs&#x27;, &#x27;obsm&#x27;, &#x27;choc&#x27;,\n",
       "                                                   &#x27;manv&#x27;, &#x27;catv_Label&#x27;, &#x27;lum&#x27;,\n",
       "                                                   &#x27;agg&#x27;, &#x27;int&#x27;, &#x27;atm&#x27;,\n",
       "                                                   &#x27;col&#x27;]),\n",
       "                                                 (&#x27;standard_scaler&#x27;,\n",
       "                                                  StandardScaler(),\n",
       "                                                  [&#x27;age_acc_an&#x27;, &#x27;nbv&#x27;,\n",
       "                                                   &#x27;occutc&#x27;])])),\n",
       "                (&#x27;model_hist_native&#x27;,\n",
       "                 HistGradientBoostingClassifier(random_state=52))])</pre></div></div></div><div class=\"sk-serial\"><div class=\"sk-item sk-dashed-wrapped\"><div class=\"sk-label-container\"><div class=\"sk-label sk-toggleable\"><input class=\"sk-toggleable__control sk-hidden--visually\" id=\"83b41f2d-e987-4840-89a6-35a24682eab5\" type=\"checkbox\" ><label for=\"83b41f2d-e987-4840-89a6-35a24682eab5\" class=\"sk-toggleable__label sk-toggleable__label-arrow\">standard_scaler_preprocessor: ColumnTransformer</label><div class=\"sk-toggleable__content\"><pre>ColumnTransformer(transformers=[(&#x27;ordinal_encoder&#x27;, OrdinalEncoder(),\n",
       "                                 [&#x27;jour_de_la_semaine&#x27;, &#x27;heure&#x27;]),\n",
       "                                (&#x27;one_hot_encoder&#x27;,\n",
       "                                 OneHotEncoder(handle_unknown=&#x27;ignore&#x27;,\n",
       "                                               sparse=False),\n",
       "                                 [&#x27;place&#x27;, &#x27;catu&#x27;, &#x27;sexe&#x27;, &#x27;trajet&#x27;, &#x27;locp&#x27;,\n",
       "                                  &#x27;actp&#x27;, &#x27;etatp&#x27;, &#x27;secuUn&#x27;, &#x27;secuDeux&#x27;,\n",
       "                                  &#x27;tranches_ages&#x27;, &#x27;catr&#x27;, &#x27;circ&#x27;, &#x27;vosp&#x27;,\n",
       "                                  &#x27;prof&#x27;, &#x27;plan&#x27;, &#x27;surf&#x27;, &#x27;infra&#x27;, &#x27;situ&#x27;,\n",
       "                                  &#x27;senc&#x27;, &#x27;obs&#x27;, &#x27;obsm&#x27;, &#x27;choc&#x27;, &#x27;manv&#x27;,\n",
       "                                  &#x27;catv_Label&#x27;, &#x27;lum&#x27;, &#x27;agg&#x27;, &#x27;int&#x27;, &#x27;atm&#x27;,\n",
       "                                  &#x27;col&#x27;]),\n",
       "                                (&#x27;standard_scaler&#x27;, StandardScaler(),\n",
       "                                 [&#x27;age_acc_an&#x27;, &#x27;nbv&#x27;, &#x27;occutc&#x27;])])</pre></div></div></div><div class=\"sk-parallel\"><div class=\"sk-parallel-item\"><div class=\"sk-item\"><div class=\"sk-label-container\"><div class=\"sk-label sk-toggleable\"><input class=\"sk-toggleable__control sk-hidden--visually\" id=\"4d3110ea-b246-4eaa-9fdf-b7c202954070\" type=\"checkbox\" ><label for=\"4d3110ea-b246-4eaa-9fdf-b7c202954070\" class=\"sk-toggleable__label sk-toggleable__label-arrow\">ordinal_encoder</label><div class=\"sk-toggleable__content\"><pre>[&#x27;jour_de_la_semaine&#x27;, &#x27;heure&#x27;]</pre></div></div></div><div class=\"sk-serial\"><div class=\"sk-item\"><div class=\"sk-estimator sk-toggleable\"><input class=\"sk-toggleable__control sk-hidden--visually\" id=\"147c5f54-df25-42a4-9bd3-fdff27d13222\" type=\"checkbox\" ><label for=\"147c5f54-df25-42a4-9bd3-fdff27d13222\" class=\"sk-toggleable__label sk-toggleable__label-arrow\">OrdinalEncoder</label><div class=\"sk-toggleable__content\"><pre>OrdinalEncoder()</pre></div></div></div></div></div></div><div class=\"sk-parallel-item\"><div class=\"sk-item\"><div class=\"sk-label-container\"><div class=\"sk-label sk-toggleable\"><input class=\"sk-toggleable__control sk-hidden--visually\" id=\"4f042d4b-6601-4a11-8db1-7d2d5c1789a8\" type=\"checkbox\" ><label for=\"4f042d4b-6601-4a11-8db1-7d2d5c1789a8\" class=\"sk-toggleable__label sk-toggleable__label-arrow\">one_hot_encoder</label><div class=\"sk-toggleable__content\"><pre>[&#x27;place&#x27;, &#x27;catu&#x27;, &#x27;sexe&#x27;, &#x27;trajet&#x27;, &#x27;locp&#x27;, &#x27;actp&#x27;, &#x27;etatp&#x27;, &#x27;secuUn&#x27;, &#x27;secuDeux&#x27;, &#x27;tranches_ages&#x27;, &#x27;catr&#x27;, &#x27;circ&#x27;, &#x27;vosp&#x27;, &#x27;prof&#x27;, &#x27;plan&#x27;, &#x27;surf&#x27;, &#x27;infra&#x27;, &#x27;situ&#x27;, &#x27;senc&#x27;, &#x27;obs&#x27;, &#x27;obsm&#x27;, &#x27;choc&#x27;, &#x27;manv&#x27;, &#x27;catv_Label&#x27;, &#x27;lum&#x27;, &#x27;agg&#x27;, &#x27;int&#x27;, &#x27;atm&#x27;, &#x27;col&#x27;]</pre></div></div></div><div class=\"sk-serial\"><div class=\"sk-item\"><div class=\"sk-estimator sk-toggleable\"><input class=\"sk-toggleable__control sk-hidden--visually\" id=\"8b41bf6a-0011-4f4c-a2d8-b3905c4fb6bd\" type=\"checkbox\" ><label for=\"8b41bf6a-0011-4f4c-a2d8-b3905c4fb6bd\" class=\"sk-toggleable__label sk-toggleable__label-arrow\">OneHotEncoder</label><div class=\"sk-toggleable__content\"><pre>OneHotEncoder(handle_unknown=&#x27;ignore&#x27;, sparse=False)</pre></div></div></div></div></div></div><div class=\"sk-parallel-item\"><div class=\"sk-item\"><div class=\"sk-label-container\"><div class=\"sk-label sk-toggleable\"><input class=\"sk-toggleable__control sk-hidden--visually\" id=\"11d13b2e-6078-47f2-b523-8940685d4f9f\" type=\"checkbox\" ><label for=\"11d13b2e-6078-47f2-b523-8940685d4f9f\" class=\"sk-toggleable__label sk-toggleable__label-arrow\">standard_scaler</label><div class=\"sk-toggleable__content\"><pre>[&#x27;age_acc_an&#x27;, &#x27;nbv&#x27;, &#x27;occutc&#x27;]</pre></div></div></div><div class=\"sk-serial\"><div class=\"sk-item\"><div class=\"sk-estimator sk-toggleable\"><input class=\"sk-toggleable__control sk-hidden--visually\" id=\"1b71fa5a-0bcd-4a3a-b126-026527fa16ec\" type=\"checkbox\" ><label for=\"1b71fa5a-0bcd-4a3a-b126-026527fa16ec\" class=\"sk-toggleable__label sk-toggleable__label-arrow\">StandardScaler</label><div class=\"sk-toggleable__content\"><pre>StandardScaler()</pre></div></div></div></div></div></div></div></div><div class=\"sk-item\"><div class=\"sk-estimator sk-toggleable\"><input class=\"sk-toggleable__control sk-hidden--visually\" id=\"b7b7f039-164d-4da7-8924-f7cc54a63c64\" type=\"checkbox\" ><label for=\"b7b7f039-164d-4da7-8924-f7cc54a63c64\" class=\"sk-toggleable__label sk-toggleable__label-arrow\">HistGradientBoostingClassifier</label><div class=\"sk-toggleable__content\"><pre>HistGradientBoostingClassifier(random_state=52)</pre></div></div></div></div></div></div></div>"
      ],
      "text/plain": [
       "Pipeline(steps=[('standard_scaler_preprocessor',\n",
       "                 ColumnTransformer(transformers=[('ordinal_encoder',\n",
       "                                                  OrdinalEncoder(),\n",
       "                                                  ['jour_de_la_semaine',\n",
       "                                                   'heure']),\n",
       "                                                 ('one_hot_encoder',\n",
       "                                                  OneHotEncoder(handle_unknown='ignore',\n",
       "                                                                sparse=False),\n",
       "                                                  ['place', 'catu', 'sexe',\n",
       "                                                   'trajet', 'locp', 'actp',\n",
       "                                                   'etatp', 'secuUn',\n",
       "                                                   'secuDeux', 'tranches_ages',\n",
       "                                                   'catr', 'circ', 'vosp',\n",
       "                                                   'prof', 'plan', 'surf',\n",
       "                                                   'infra', 'situ', 'senc',\n",
       "                                                   'obs', 'obsm', 'choc',\n",
       "                                                   'manv', 'catv_Label', 'lum',\n",
       "                                                   'agg', 'int', 'atm',\n",
       "                                                   'col']),\n",
       "                                                 ('standard_scaler',\n",
       "                                                  StandardScaler(),\n",
       "                                                  ['age_acc_an', 'nbv',\n",
       "                                                   'occutc'])])),\n",
       "                ('model_hist_native',\n",
       "                 HistGradientBoostingClassifier(random_state=52))])"
      ]
     },
     "execution_count": 71,
     "metadata": {},
     "output_type": "execute_result"
    }
   ],
   "source": [
    "set_config(display='diagram')\n",
    "hist_native"
   ]
  },
  {
   "cell_type": "markdown",
   "id": "b6145d4d",
   "metadata": {},
   "source": [
    "###### Histogram-based Gradient Boosting Classification Models comparison\n",
    "\n",
    "We evaluate the models using cross validation. Here we compare the models performance in terms of accuracy and fit times."
   ]
  },
  {
   "cell_type": "markdown",
   "id": "9afd13af",
   "metadata": {},
   "source": [
    "Create RocCurveDisplay & Create PrecisionRecallDisplay\n",
    "https://scikit-learn.org/stable/auto_examples/miscellaneous/plot_display_object_visualization.html#create-confusionmatrixdisplay"
   ]
  },
  {
   "cell_type": "markdown",
   "id": "8603d3ad",
   "metadata": {},
   "source": [
    " - La matrice de confusion : \n",
    "     chaque colonne de la matrice représente le nombre d'occurrences d'une classe estimée, tandis que chaque ligne représente le nombre d'occurrences d'une classe réelle."
   ]
  },
  {
   "cell_type": "code",
   "execution_count": 72,
   "id": "621d98b6",
   "metadata": {},
   "outputs": [
    {
     "name": "stdout",
     "output_type": "stream",
     "text": [
      "Model: model_hist_dropped\n",
      "---------------------------------------------------------------------------\n",
      "Classification Report :\n",
      "                    precision    recall  f1-score   support\n",
      "\n",
      "Blessé hospitalisé       0.38      0.04      0.07     93507\n",
      "      Blessé léger       0.46      0.27      0.34    165057\n",
      "           Indemne       0.45      0.84      0.58    187549\n",
      "               Tué       0.78      0.00      0.00     12235\n",
      "\n",
      "          accuracy                           0.45    458348\n",
      "         macro avg       0.52      0.29      0.25    458348\n",
      "      weighted avg       0.45      0.45      0.37    458348\n",
      "\n",
      "Confusion Matrix:\n",
      "[[  3666  21865  67974      2]\n",
      " [  2870  43993 118194      0]\n",
      " [  2426  27839 157284      0]\n",
      " [   720   1967   9541      7]]\n",
      "===========================================================================\n",
      "Model: model_hist_one_hot\n",
      "---------------------------------------------------------------------------\n",
      "Classification Report :\n",
      "                    precision    recall  f1-score   support\n",
      "\n",
      "Blessé hospitalisé       0.54      0.44      0.48     93507\n",
      "      Blessé léger       0.63      0.63      0.63    165057\n",
      "           Indemne       0.73      0.83      0.78    187549\n",
      "               Tué       0.45      0.08      0.14     12235\n",
      "\n",
      "          accuracy                           0.66    458348\n",
      "         macro avg       0.58      0.50      0.51    458348\n",
      "      weighted avg       0.65      0.66      0.65    458348\n",
      "\n",
      "Confusion Matrix:\n",
      "[[ 40761  37063  14773    910]\n",
      " [ 19359 104101  41395    202]\n",
      " [  8081  22909 156456    103]\n",
      " [  7748   2068   1444    975]]\n",
      "===========================================================================\n",
      "Model: model_hist_ordinal\n",
      "---------------------------------------------------------------------------\n",
      "Classification Report :\n",
      "                    precision    recall  f1-score   support\n",
      "\n",
      "Blessé hospitalisé       0.54      0.44      0.48     93507\n",
      "      Blessé léger       0.63      0.63      0.63    165057\n",
      "           Indemne       0.73      0.83      0.78    187549\n",
      "               Tué       0.44      0.08      0.13     12235\n",
      "\n",
      "          accuracy                           0.66    458348\n",
      "         macro avg       0.58      0.49      0.50    458348\n",
      "      weighted avg       0.65      0.66      0.65    458348\n",
      "\n",
      "Confusion Matrix:\n",
      "[[ 40691  37198  14716    902]\n",
      " [ 19437 104205  41244    171]\n",
      " [  8103  22979 156365    102]\n",
      " [  7704   2106   1483    942]]\n",
      "===========================================================================\n",
      "Model: model_hist_native_ordinal\n",
      "---------------------------------------------------------------------------\n",
      "Classification Report :\n",
      "                    precision    recall  f1-score   support\n",
      "\n",
      "Blessé hospitalisé       0.54      0.44      0.48     93507\n",
      "      Blessé léger       0.63      0.63      0.63    165057\n",
      "           Indemne       0.73      0.83      0.78    187549\n",
      "               Tué       0.44      0.08      0.13     12235\n",
      "\n",
      "          accuracy                           0.66    458348\n",
      "         macro avg       0.58      0.49      0.50    458348\n",
      "      weighted avg       0.65      0.66      0.65    458348\n",
      "\n",
      "Confusion Matrix:\n",
      "[[ 40691  37198  14716    902]\n",
      " [ 19437 104205  41244    171]\n",
      " [  8103  22979 156365    102]\n",
      " [  7704   2106   1483    942]]\n",
      "===========================================================================\n",
      "Model: model_hist_native_One_hot\n",
      "---------------------------------------------------------------------------\n",
      "Classification Report :\n",
      "                    precision    recall  f1-score   support\n",
      "\n",
      "Blessé hospitalisé       0.54      0.44      0.48     93507\n",
      "      Blessé léger       0.63      0.63      0.63    165057\n",
      "           Indemne       0.73      0.83      0.78    187549\n",
      "               Tué       0.45      0.08      0.14     12235\n",
      "\n",
      "          accuracy                           0.66    458348\n",
      "         macro avg       0.58      0.50      0.51    458348\n",
      "      weighted avg       0.65      0.66      0.65    458348\n",
      "\n",
      "Confusion Matrix:\n",
      "[[ 40761  37063  14773    910]\n",
      " [ 19359 104101  41395    202]\n",
      " [  8081  22909 156456    103]\n",
      " [  7748   2068   1444    975]]\n",
      "===========================================================================\n",
      "Model: model_hist_native\n",
      "---------------------------------------------------------------------------\n",
      "Classification Report :\n",
      "                    precision    recall  f1-score   support\n",
      "\n",
      "Blessé hospitalisé       0.54      0.44      0.48     93507\n",
      "      Blessé léger       0.63      0.63      0.63    165057\n",
      "           Indemne       0.73      0.83      0.78    187549\n",
      "               Tué       0.45      0.08      0.13     12235\n",
      "\n",
      "          accuracy                           0.66    458348\n",
      "         macro avg       0.59      0.49      0.51    458348\n",
      "      weighted avg       0.65      0.66      0.65    458348\n",
      "\n",
      "Confusion Matrix:\n",
      "[[ 40880  37043  14674    910]\n",
      " [ 19462 104026  41374    195]\n",
      " [  8107  22962 156391     89]\n",
      " [  7752   2074   1447    962]]\n",
      "===========================================================================\n"
     ]
    }
   ],
   "source": [
    "# the models list contains instances of different classifier models. \n",
    "# The loop iterates through each model, trains it, makes predictions, \n",
    "#  calculates evaluation metrics, and then prints the metrics for each model.\n",
    "\n",
    "# Define a list of classifier models\n",
    "models = [\n",
    "    hist_dropped,\n",
    "    hist_one_hot,\n",
    "    hist_ordinal,\n",
    "    hist_native_ordinal,\n",
    "    hist_native_hot,\n",
    "    hist_native\n",
    "]\n",
    "\n",
    "model_names=[]\n",
    "execution_times=[]\n",
    "test_times=[]\n",
    "train_scores=[]\n",
    "test_scores=[]\n",
    "accuracy_scores=[]\n",
    "mean_auc_score=[]\n",
    "\n",
    "\n",
    "#seed for random state and splits - number of Kfolds\n",
    "random_seed = 2\n",
    "splits = 5\n",
    "#Scikit Kfold model call\n",
    "kfold = KFold(n_splits=splits, random_state=random_seed, shuffle=True)\n",
    "\n",
    "\n",
    "\n",
    "# Iterate through the models and evaluate each\n",
    "for model in models:\n",
    "    step_names = list(model.named_steps.keys())\n",
    "    model_name = step_names[-1]\n",
    "    model_names.append(model_name)\n",
    "    \n",
    "    start_time = time.time()\n",
    "\n",
    "    # Train the classifier model\n",
    "    model.fit(X_train, y_train)\n",
    "\n",
    "    end_time = time.time()\n",
    "    execution_time = end_time - start_time\n",
    "    execution_times.append(execution_time)\n",
    "\n",
    "    # Taux de bonnes prédictions du modèle de classification sur l'ensemble de test\n",
    "    test_scores.append(model.score(X_test, y_test))\n",
    "    train_scores.append(model.score(X_train, y_train))\n",
    "    \n",
    "    # Make predictions\n",
    "    start_time = time.time()\n",
    "    y_pred = model.predict(X_test)\n",
    "    end_time = time.time()\n",
    "    test_time = end_time - start_time\n",
    "    test_times.append(test_time)\n",
    "    \n",
    "    # Calculate evaluation metrics\n",
    "    accuracy = accuracy_score(y_test, y_pred)\n",
    "    accuracy_scores.append(accuracy)\n",
    "    #precision = precision_score(y_test, y_pred)\n",
    "    #    ValueError: Target is multiclass but average='binary'. Please choose another average setting, one of [None, 'micro', 'macro', 'weighted'].\n",
    "    #recall = recall_score(y_test, y_pred)\n",
    "    #f1 = f1_score(y_test, y_pred)\n",
    "    \n",
    "    # Confusion matrix\n",
    "    conf_matrix = confusion_matrix(y_test, y_pred)\n",
    "    \n",
    "    # Print the evaluation metrics for the current model\n",
    "    print(f\"Model: {model_name}\")\n",
    "    print(\"-\" * 75)\n",
    "    #print(f\"Execution time: {execution_time:.4f} seconds\")\n",
    "    #print(\"Accuracy:\", accuracy)\n",
    "    #print(\"Precision:\", precision)\n",
    "    #print(\"Recall:\", recall)\n",
    "    #print(\"F1-score:\", f1)\n",
    "    # Print classification report\n",
    "    print(\"Classification Report :\")\n",
    "    print(classification_report(y_test, y_pred))\n",
    "    # Print confusion matrix\n",
    "    print(\"Confusion Matrix:\")\n",
    "    print(conf_matrix)\n",
    "    \n",
    "    #results set equal to model with kfolds\n",
    "    #scores = cross_val_score(model, X_train, y_train, cv=kfold, scoring='roc_auc')\n",
    "    #print(\"Mean AUC Score : \", scores.mean())\n",
    "    #mean_auc_score.append(scores.mean())\n",
    "    #printing the averaged score over the 5 Kfolds\n",
    "    #print(\"Accuracy(averaged score over the 5 Kfolds): %.3f%% (%.3f%%)\" % (scores.mean()*100.0, scores.std()*100.0))\n",
    "    \n",
    "    print(\"=\" * 75)"
   ]
  },
  {
   "cell_type": "code",
   "execution_count": 73,
   "id": "191b5997",
   "metadata": {},
   "outputs": [
    {
     "data": {
      "text/html": [
       "<div>\n",
       "<style scoped>\n",
       "    .dataframe tbody tr th:only-of-type {\n",
       "        vertical-align: middle;\n",
       "    }\n",
       "\n",
       "    .dataframe tbody tr th {\n",
       "        vertical-align: top;\n",
       "    }\n",
       "\n",
       "    .dataframe thead th {\n",
       "        text-align: right;\n",
       "    }\n",
       "</style>\n",
       "<table border=\"1\" class=\"dataframe\">\n",
       "  <thead>\n",
       "    <tr style=\"text-align: right;\">\n",
       "      <th></th>\n",
       "      <th>Model Name</th>\n",
       "      <th>Execution time</th>\n",
       "      <th>Test time</th>\n",
       "      <th>Train Accuracy</th>\n",
       "      <th>Test score</th>\n",
       "      <th>Test Accuracy</th>\n",
       "    </tr>\n",
       "  </thead>\n",
       "  <tbody>\n",
       "    <tr>\n",
       "      <th>0</th>\n",
       "      <td>model_hist_dropped</td>\n",
       "      <td>34.914586</td>\n",
       "      <td>1.479341</td>\n",
       "      <td>0.448570</td>\n",
       "      <td>0.447149</td>\n",
       "      <td>0.447149</td>\n",
       "    </tr>\n",
       "    <tr>\n",
       "      <th>1</th>\n",
       "      <td>model_hist_one_hot</td>\n",
       "      <td>1208.417817</td>\n",
       "      <td>14.446718</td>\n",
       "      <td>0.660673</td>\n",
       "      <td>0.659527</td>\n",
       "      <td>0.659527</td>\n",
       "    </tr>\n",
       "    <tr>\n",
       "      <th>2</th>\n",
       "      <td>model_hist_ordinal</td>\n",
       "      <td>2124.801684</td>\n",
       "      <td>6.154147</td>\n",
       "      <td>0.660570</td>\n",
       "      <td>0.659331</td>\n",
       "      <td>0.659331</td>\n",
       "    </tr>\n",
       "    <tr>\n",
       "      <th>3</th>\n",
       "      <td>model_hist_native_ordinal</td>\n",
       "      <td>118.096088</td>\n",
       "      <td>6.168384</td>\n",
       "      <td>0.660570</td>\n",
       "      <td>0.659331</td>\n",
       "      <td>0.659331</td>\n",
       "    </tr>\n",
       "    <tr>\n",
       "      <th>4</th>\n",
       "      <td>model_hist_native_One_hot</td>\n",
       "      <td>3853.702844</td>\n",
       "      <td>20.419032</td>\n",
       "      <td>0.660673</td>\n",
       "      <td>0.659527</td>\n",
       "      <td>0.659527</td>\n",
       "    </tr>\n",
       "    <tr>\n",
       "      <th>5</th>\n",
       "      <td>model_hist_native</td>\n",
       "      <td>5496.046752</td>\n",
       "      <td>17.605063</td>\n",
       "      <td>0.660830</td>\n",
       "      <td>0.659453</td>\n",
       "      <td>0.659453</td>\n",
       "    </tr>\n",
       "  </tbody>\n",
       "</table>\n",
       "</div>"
      ],
      "text/plain": [
       "                  Model Name  Execution time  Test time  Train Accuracy  \\\n",
       "0         model_hist_dropped       34.914586   1.479341        0.448570   \n",
       "1         model_hist_one_hot     1208.417817  14.446718        0.660673   \n",
       "2         model_hist_ordinal     2124.801684   6.154147        0.660570   \n",
       "3  model_hist_native_ordinal      118.096088   6.168384        0.660570   \n",
       "4  model_hist_native_One_hot     3853.702844  20.419032        0.660673   \n",
       "5          model_hist_native     5496.046752  17.605063        0.660830   \n",
       "\n",
       "   Test score  Test Accuracy  \n",
       "0    0.447149       0.447149  \n",
       "1    0.659527       0.659527  \n",
       "2    0.659331       0.659331  \n",
       "3    0.659331       0.659331  \n",
       "4    0.659527       0.659527  \n",
       "5    0.659453       0.659453  "
      ]
     },
     "execution_count": 73,
     "metadata": {},
     "output_type": "execute_result"
    }
   ],
   "source": [
    "# Calling DataFrame constructor after zipping\n",
    "# both lists, with columns specified\n",
    "hist_gradient_boosting_results = pd.DataFrame(\n",
    "    list(zip(model_names, execution_times, test_times, train_scores, test_scores, accuracy_scores)),\n",
    "                  columns =['Model Name', 'Execution time', 'Test time', 'Train Accuracy', 'Test score', 'Test Accuracy']\n",
    "                 )\n",
    "\n",
    "# Exporting the RESULT DataFrame into a CSV file\n",
    "hist_gradient_boosting_results.to_csv('Acc_Results_hist_gradient_boosting.csv')\n",
    "# Printing\n",
    "hist_gradient_boosting_results"
   ]
  },
  {
   "cell_type": "code",
   "execution_count": 74,
   "id": "723f058f",
   "metadata": {},
   "outputs": [
    {
     "name": "stdout",
     "output_type": "stream",
     "text": [
      "Accuracy: 44.715% (44.715%)\n"
     ]
    }
   ],
   "source": [
    "print(\"Accuracy: %.3f%% (%.3f%%)\" % (accuracy_scores[0]*100.0, accuracy_scores[0]*100.0))"
   ]
  },
  {
   "cell_type": "code",
   "execution_count": 75,
   "id": "083e20fa",
   "metadata": {},
   "outputs": [
    {
     "data": {
      "text/html": [
       "<div>\n",
       "<style scoped>\n",
       "    .dataframe tbody tr th:only-of-type {\n",
       "        vertical-align: middle;\n",
       "    }\n",
       "\n",
       "    .dataframe tbody tr th {\n",
       "        vertical-align: top;\n",
       "    }\n",
       "\n",
       "    .dataframe thead th {\n",
       "        text-align: right;\n",
       "    }\n",
       "</style>\n",
       "<table border=\"1\" class=\"dataframe\">\n",
       "  <thead>\n",
       "    <tr style=\"text-align: right;\">\n",
       "      <th></th>\n",
       "      <th>Train Accuracy</th>\n",
       "      <th>Test score</th>\n",
       "      <th>Test Accuracy</th>\n",
       "    </tr>\n",
       "  </thead>\n",
       "  <tbody>\n",
       "    <tr>\n",
       "      <th>0</th>\n",
       "      <td>44.857</td>\n",
       "      <td>44.715</td>\n",
       "      <td>44.715</td>\n",
       "    </tr>\n",
       "    <tr>\n",
       "      <th>1</th>\n",
       "      <td>66.067</td>\n",
       "      <td>65.953</td>\n",
       "      <td>65.953</td>\n",
       "    </tr>\n",
       "    <tr>\n",
       "      <th>2</th>\n",
       "      <td>66.057</td>\n",
       "      <td>65.933</td>\n",
       "      <td>65.933</td>\n",
       "    </tr>\n",
       "    <tr>\n",
       "      <th>3</th>\n",
       "      <td>66.057</td>\n",
       "      <td>65.933</td>\n",
       "      <td>65.933</td>\n",
       "    </tr>\n",
       "    <tr>\n",
       "      <th>4</th>\n",
       "      <td>66.067</td>\n",
       "      <td>65.953</td>\n",
       "      <td>65.953</td>\n",
       "    </tr>\n",
       "    <tr>\n",
       "      <th>5</th>\n",
       "      <td>66.083</td>\n",
       "      <td>65.945</td>\n",
       "      <td>65.945</td>\n",
       "    </tr>\n",
       "  </tbody>\n",
       "</table>\n",
       "</div>"
      ],
      "text/plain": [
       "   Train Accuracy  Test score  Test Accuracy\n",
       "0          44.857      44.715         44.715\n",
       "1          66.067      65.953         65.953\n",
       "2          66.057      65.933         65.933\n",
       "3          66.057      65.933         65.933\n",
       "4          66.067      65.953         65.953\n",
       "5          66.083      65.945         65.945"
      ]
     },
     "execution_count": 75,
     "metadata": {},
     "output_type": "execute_result"
    }
   ],
   "source": [
    "(hist_gradient_boosting_results[['Train Accuracy', 'Test score', 'Test Accuracy']]*100).round(3)"
   ]
  },
  {
   "cell_type": "markdown",
   "id": "4ab752b2",
   "metadata": {},
   "source": [
    "For datasets with categorical features, using the native categorical support is often better than relying on one-hot encoding (OneHotEncoder), because one-hot encoding requires more tree depth to achieve equivalent splits. It is also usually better to rely on the native categorical support rather than to treat categorical features as continuous (ordinal), which happens for ordinal-encoded categorical data, since categories are nominal quantities where order does not matter.\n",
    "\n"
   ]
  },
  {
   "cell_type": "markdown",
   "id": "88591c71",
   "metadata": {},
   "source": [
    "##### Plot accuracy, training and test time of each histo gradient boosting classifier"
   ]
  },
  {
   "cell_type": "code",
   "execution_count": 76,
   "id": "175645ad",
   "metadata": {},
   "outputs": [
    {
     "data": {
      "image/png": "[encoded data removed]",
      "text/plain": [
       "<Figure size 1200x900 with 1 Axes>"
      ]
     },
     "metadata": {},
     "output_type": "display_data"
    },
    {
     "data": {
      "image/png": "[encoded data removed]",
      "text/plain": [
       "<Figure size 1000x800 with 1 Axes>"
      ]
     },
     "metadata": {},
     "output_type": "display_data"
    }
   ],
   "source": [
    "\n",
    "fig, ax1 = plt.subplots(figsize=(12, 9))\n",
    "ax1.scatter(test_scores, execution_times, s=60)\n",
    "ax1.set(\n",
    "    title=\"Score-training time trade-off\",\n",
    "    yscale=\"log\",\n",
    "    xlabel=\"test accuracy\",\n",
    "    ylabel=\"training time (s)\",\n",
    ")\n",
    "fig, ax2 = plt.subplots(figsize=(10, 8))\n",
    "ax2.scatter(test_scores, test_times, s=60)\n",
    "ax2.set(\n",
    "    title=\"Score-test time trade-off\",\n",
    "    yscale=\"log\",\n",
    "    xlabel=\"test accuracy\",\n",
    "    ylabel=\"test time (s)\",\n",
    ")\n",
    "\n",
    "for i, txt in enumerate(model_names):\n",
    "    ax1.annotate(txt, (test_scores[i], execution_times[i]))\n",
    "    ax2.annotate(txt, (test_scores[i], test_times[i]))"
   ]
  },
  {
   "cell_type": "code",
   "execution_count": 77,
   "id": "b7e025e5",
   "metadata": {},
   "outputs": [
    {
     "data": {
      "image/png": "[encoded data removed]",
      "text/plain": [
       "<Figure size 640x480 with 2 Axes>"
      ]
     },
     "metadata": {},
     "output_type": "display_data"
    }
   ],
   "source": [
    "#X_test_norm = hist_ordinal.transform(X_test)\n",
    "hist_ordinal.fit(X_train, y_train)\n",
    "y_pred = hist_ordinal.predict(X_test)\n",
    "cm = confusion_matrix(y_test, y_pred)\n",
    "cm_display = ConfusionMatrixDisplay(cm).plot()"
   ]
  },
  {
   "cell_type": "code",
   "execution_count": 78,
   "id": "dca43613",
   "metadata": {},
   "outputs": [
    {
     "name": "stdout",
     "output_type": "stream",
     "text": [
      "col_0               Blessé hospitalisé  Blessé léger  Indemne  Tué\n",
      "grav                                                              \n",
      "Indemne                           8103         22979   156365  102\n",
      "Blessé léger                     19437        104205    41244  171\n",
      "Blessé hospitalisé               40691         37198    14716  902\n",
      "Tué                               7704          2106     1483  942\n",
      "==================================================\n",
      "Classification Report imbalanced :\n",
      "                          pre       rec       spe        f1       geo       iba       sup\n",
      "\n",
      "Blessé hospitalisé       0.54      0.44      0.90      0.48      0.63      0.37     93507\n",
      "      Blessé léger       0.63      0.63      0.79      0.63      0.71      0.49    165057\n",
      "           Indemne       0.73      0.83      0.79      0.78      0.81      0.66    187549\n",
      "               Tué       0.44      0.08      1.00      0.13      0.28      0.07     12235\n",
      "\n",
      "       avg / total       0.65      0.66      0.82      0.65      0.72      0.52    458348\n",
      "\n"
     ]
    }
   ],
   "source": [
    "# Affichage de la matrice de confusion obtenue grâce aux prédictions sur l'ensemble de test.\n",
    "#y_pred = hist_native_hot.predict(X_test)\n",
    "print(pd.crosstab(y_test, y_pred))\n",
    "print(\"=\" * 50)\n",
    "\n",
    "# Affichage du rapport de résultat sur l'ensemble de test obtenu par classification_report_imbalanced\n",
    "print(\"Classification Report imbalanced :\")\n",
    "print(classification_report_imbalanced(y_test, y_pred))"
   ]
  },
  {
   "cell_type": "markdown",
   "id": "a85673c0",
   "metadata": {},
   "source": [
    "Le tableau de rapport de classification montre que le rappel et le f1-score de la classe 'Blessé hospitalisé' et de la classe 'Tué' sont mauvais, tandis que pour les classe 'Blessé léger' et 'Indemne', ils sont élevés.\n",
    "En outre, la moyenne géométrique est également faible uniquement pour la classe 'Tué'. \n",
    "Le modèle semble ne pas être acceptable ainsi pour notre problème."
   ]
  },
  {
   "cell_type": "code",
   "execution_count": 79,
   "id": "250b7396",
   "metadata": {},
   "outputs": [
    {
     "name": "stdout",
     "output_type": "stream",
     "text": [
      "[('Blessé hospitalisé', 374026), ('Blessé léger', 660229), ('Indemne', 750194), ('Tué', 48942)]\n"
     ]
    }
   ],
   "source": [
    "print(sorted(Counter(y_train).items()))"
   ]
  },
  {
   "cell_type": "markdown",
   "id": "afd56e54",
   "metadata": {},
   "source": [
    "## Scaling data\n",
    "<div class=\"alert alert-block alert-info\">\n",
    "<h2><a id = \"scaling_data\">Standardisation des données</a></h2>\n",
    "</div>"
   ]
  },
  {
   "cell_type": "markdown",
   "id": "c846c33f",
   "metadata": {},
   "source": [
    "##### Strategies to encode categories"
   ]
  },
  {
   "cell_type": "code",
   "execution_count": 62,
   "id": "2f6722a1",
   "metadata": {},
   "outputs": [
    {
     "data": {
      "text/plain": [
       "Index(['Lundi', 'Mardi', 'Mercredi', 'Jeudi', 'Vendredi', 'Samedi',\n",
       "       'Dimanche'],\n",
       "      dtype='object')"
      ]
     },
     "execution_count": 62,
     "metadata": {},
     "output_type": "execute_result"
    }
   ],
   "source": [
    "X[\"jour_de_la_semaine\"].cat.categories"
   ]
  },
  {
   "cell_type": "code",
   "execution_count": 63,
   "id": "9701204a",
   "metadata": {},
   "outputs": [
    {
     "data": {
      "text/plain": [
       "Index(['0', '1', '2', '3', '4', '5', '6', '7', '8', '9', '10', '11', '12',\n",
       "       '13', '14', '15', '16', '17', '18', '19', '20', '21', '22', '23'],\n",
       "      dtype='object')"
      ]
     },
     "execution_count": 63,
     "metadata": {},
     "output_type": "execute_result"
    }
   ],
   "source": [
    "X[\"heure\"].cat.categories"
   ]
  },
  {
   "cell_type": "code",
   "execution_count": 64,
   "id": "6bc743ff",
   "metadata": {},
   "outputs": [
    {
     "data": {
      "text/plain": [
       "array([[ 4., 11.],\n",
       "       [ 4., 11.],\n",
       "       [ 4., 11.],\n",
       "       ...,\n",
       "       [ 5.,  3.],\n",
       "       [ 4.,  9.],\n",
       "       [ 4.,  9.]])"
      ]
     },
     "execution_count": 64,
     "metadata": {},
     "output_type": "execute_result"
    }
   ],
   "source": [
    "# Encoding ordinal categorie\n",
    "heure_jsemaine_column = X[[\"jour_de_la_semaine\", \"heure\"]]\n",
    "\n",
    "encoder = OrdinalEncoder()\n",
    "heure_jsemaine_encoded = encoder.fit_transform(heure_jsemaine_column)\n",
    "heure_jsemaine_encoded"
   ]
  },
  {
   "cell_type": "code",
   "execution_count": 65,
   "id": "6eaf98ae",
   "metadata": {},
   "outputs": [
    {
     "data": {
      "text/plain": [
       "[array(['Dimanche', 'Jeudi', 'Lundi', 'Mardi', 'Mercredi', 'Samedi',\n",
       "        'Vendredi'], dtype=object),\n",
       " array(['0', '1', '10', '11', '12', '13', '14', '15', '16', '17', '18',\n",
       "        '19', '2', '20', '21', '22', '23', '3', '4', '5', '6', '7', '8',\n",
       "        '9'], dtype=object)]"
      ]
     },
     "execution_count": 65,
     "metadata": {},
     "output_type": "execute_result"
    }
   ],
   "source": [
    "# check the mapping between the categories and the numerical values\n",
    "encoder.categories_"
   ]
  },
  {
   "cell_type": "code",
   "execution_count": 66,
   "id": "21009128",
   "metadata": {},
   "outputs": [
    {
     "name": "stdout",
     "output_type": "stream",
     "text": [
      "The dataset encoded contains 2 features\n"
     ]
    }
   ],
   "source": [
    "print(\n",
    "    f\"The dataset encoded contains {heure_jsemaine_encoded.shape[1]} features\")"
   ]
  },
  {
   "cell_type": "code",
   "execution_count": 67,
   "id": "4431f170",
   "metadata": {},
   "outputs": [
    {
     "data": {
      "text/html": [
       "<div>\n",
       "<style scoped>\n",
       "    .dataframe tbody tr th:only-of-type {\n",
       "        vertical-align: middle;\n",
       "    }\n",
       "\n",
       "    .dataframe tbody tr th {\n",
       "        vertical-align: top;\n",
       "    }\n",
       "\n",
       "    .dataframe thead th {\n",
       "        text-align: right;\n",
       "    }\n",
       "</style>\n",
       "<table border=\"1\" class=\"dataframe\">\n",
       "  <thead>\n",
       "    <tr style=\"text-align: right;\">\n",
       "      <th></th>\n",
       "      <th>jour_de_la_semaine</th>\n",
       "      <th>heure</th>\n",
       "    </tr>\n",
       "  </thead>\n",
       "  <tbody>\n",
       "    <tr>\n",
       "      <th>0</th>\n",
       "      <td>4.0</td>\n",
       "      <td>11.0</td>\n",
       "    </tr>\n",
       "    <tr>\n",
       "      <th>1</th>\n",
       "      <td>4.0</td>\n",
       "      <td>11.0</td>\n",
       "    </tr>\n",
       "    <tr>\n",
       "      <th>2</th>\n",
       "      <td>4.0</td>\n",
       "      <td>11.0</td>\n",
       "    </tr>\n",
       "    <tr>\n",
       "      <th>3</th>\n",
       "      <td>4.0</td>\n",
       "      <td>11.0</td>\n",
       "    </tr>\n",
       "    <tr>\n",
       "      <th>4</th>\n",
       "      <td>4.0</td>\n",
       "      <td>11.0</td>\n",
       "    </tr>\n",
       "  </tbody>\n",
       "</table>\n",
       "</div>"
      ],
      "text/plain": [
       "   jour_de_la_semaine  heure\n",
       "0                 4.0   11.0\n",
       "1                 4.0   11.0\n",
       "2                 4.0   11.0\n",
       "3                 4.0   11.0\n",
       "4                 4.0   11.0"
      ]
     },
     "execution_count": 67,
     "metadata": {},
     "output_type": "execute_result"
    }
   ],
   "source": [
    "cat_ordered_encoded = pd.DataFrame(heure_jsemaine_encoded, columns =['jour_de_la_semaine', 'heure'])\n",
    "cat_ordered_encoded.head()"
   ]
  },
  {
   "cell_type": "code",
   "execution_count": 68,
   "id": "013a7001",
   "metadata": {},
   "outputs": [
    {
     "name": "stdout",
     "output_type": "stream",
     "text": [
      "The encoded dataset contains 261 features\n"
     ]
    }
   ],
   "source": [
    "# Encoding nominal categories (without assuming any order)\n",
    "oneHotEncoder = OneHotEncoder(sparse=False)\n",
    "\n",
    "categorical_columns.remove(\"jour_de_la_semaine\")\n",
    "categorical_columns.remove(\"heure\")\n",
    "\n",
    "X_categorical_encoded = oneHotEncoder.fit_transform(X[categorical_columns])\n",
    "\n",
    "\n",
    "print(f\"The encoded dataset contains {X_categorical_encoded.shape[1]} features\")"
   ]
  },
  {
   "cell_type": "code",
   "execution_count": 69,
   "id": "837d4b64",
   "metadata": {},
   "outputs": [
    {
     "data": {
      "text/html": [
       "<div>\n",
       "<style scoped>\n",
       "    .dataframe tbody tr th:only-of-type {\n",
       "        vertical-align: middle;\n",
       "    }\n",
       "\n",
       "    .dataframe tbody tr th {\n",
       "        vertical-align: top;\n",
       "    }\n",
       "\n",
       "    .dataframe thead th {\n",
       "        text-align: right;\n",
       "    }\n",
       "</style>\n",
       "<table border=\"1\" class=\"dataframe\">\n",
       "  <thead>\n",
       "    <tr style=\"text-align: right;\">\n",
       "      <th></th>\n",
       "      <th>place_0.0</th>\n",
       "      <th>place_1.0</th>\n",
       "      <th>place_10.0</th>\n",
       "      <th>place_2.0</th>\n",
       "      <th>place_3.0</th>\n",
       "      <th>place_4.0</th>\n",
       "      <th>place_5.0</th>\n",
       "      <th>place_6.0</th>\n",
       "      <th>place_7.0</th>\n",
       "      <th>place_8.0</th>\n",
       "      <th>...</th>\n",
       "      <th>atm_Temps éblouissant</th>\n",
       "      <th>atm_Vent fort - tempête</th>\n",
       "      <th>col_Autre collision</th>\n",
       "      <th>col_Deux véhicules - frontale</th>\n",
       "      <th>col_Deux véhicules – par le coté</th>\n",
       "      <th>col_Deux véhicules – par l’arrière</th>\n",
       "      <th>col_Non renseigné</th>\n",
       "      <th>col_Sans collision</th>\n",
       "      <th>col_Trois véhicules et plus - collisions multiples</th>\n",
       "      <th>col_Trois véhicules et plus – en chaîne</th>\n",
       "    </tr>\n",
       "  </thead>\n",
       "  <tbody>\n",
       "    <tr>\n",
       "      <th>0</th>\n",
       "      <td>0.0</td>\n",
       "      <td>1.0</td>\n",
       "      <td>0.0</td>\n",
       "      <td>0.0</td>\n",
       "      <td>0.0</td>\n",
       "      <td>0.0</td>\n",
       "      <td>0.0</td>\n",
       "      <td>0.0</td>\n",
       "      <td>0.0</td>\n",
       "      <td>0.0</td>\n",
       "      <td>...</td>\n",
       "      <td>0.0</td>\n",
       "      <td>0.0</td>\n",
       "      <td>0.0</td>\n",
       "      <td>0.0</td>\n",
       "      <td>1.0</td>\n",
       "      <td>0.0</td>\n",
       "      <td>0.0</td>\n",
       "      <td>0.0</td>\n",
       "      <td>0.0</td>\n",
       "      <td>0.0</td>\n",
       "    </tr>\n",
       "    <tr>\n",
       "      <th>1</th>\n",
       "      <td>0.0</td>\n",
       "      <td>1.0</td>\n",
       "      <td>0.0</td>\n",
       "      <td>0.0</td>\n",
       "      <td>0.0</td>\n",
       "      <td>0.0</td>\n",
       "      <td>0.0</td>\n",
       "      <td>0.0</td>\n",
       "      <td>0.0</td>\n",
       "      <td>0.0</td>\n",
       "      <td>...</td>\n",
       "      <td>0.0</td>\n",
       "      <td>0.0</td>\n",
       "      <td>0.0</td>\n",
       "      <td>0.0</td>\n",
       "      <td>1.0</td>\n",
       "      <td>0.0</td>\n",
       "      <td>0.0</td>\n",
       "      <td>0.0</td>\n",
       "      <td>0.0</td>\n",
       "      <td>0.0</td>\n",
       "    </tr>\n",
       "    <tr>\n",
       "      <th>2</th>\n",
       "      <td>0.0</td>\n",
       "      <td>0.0</td>\n",
       "      <td>0.0</td>\n",
       "      <td>1.0</td>\n",
       "      <td>0.0</td>\n",
       "      <td>0.0</td>\n",
       "      <td>0.0</td>\n",
       "      <td>0.0</td>\n",
       "      <td>0.0</td>\n",
       "      <td>0.0</td>\n",
       "      <td>...</td>\n",
       "      <td>0.0</td>\n",
       "      <td>0.0</td>\n",
       "      <td>0.0</td>\n",
       "      <td>0.0</td>\n",
       "      <td>1.0</td>\n",
       "      <td>0.0</td>\n",
       "      <td>0.0</td>\n",
       "      <td>0.0</td>\n",
       "      <td>0.0</td>\n",
       "      <td>0.0</td>\n",
       "    </tr>\n",
       "    <tr>\n",
       "      <th>3</th>\n",
       "      <td>0.0</td>\n",
       "      <td>0.0</td>\n",
       "      <td>0.0</td>\n",
       "      <td>0.0</td>\n",
       "      <td>0.0</td>\n",
       "      <td>1.0</td>\n",
       "      <td>0.0</td>\n",
       "      <td>0.0</td>\n",
       "      <td>0.0</td>\n",
       "      <td>0.0</td>\n",
       "      <td>...</td>\n",
       "      <td>0.0</td>\n",
       "      <td>0.0</td>\n",
       "      <td>0.0</td>\n",
       "      <td>0.0</td>\n",
       "      <td>1.0</td>\n",
       "      <td>0.0</td>\n",
       "      <td>0.0</td>\n",
       "      <td>0.0</td>\n",
       "      <td>0.0</td>\n",
       "      <td>0.0</td>\n",
       "    </tr>\n",
       "    <tr>\n",
       "      <th>4</th>\n",
       "      <td>0.0</td>\n",
       "      <td>0.0</td>\n",
       "      <td>0.0</td>\n",
       "      <td>0.0</td>\n",
       "      <td>0.0</td>\n",
       "      <td>0.0</td>\n",
       "      <td>1.0</td>\n",
       "      <td>0.0</td>\n",
       "      <td>0.0</td>\n",
       "      <td>0.0</td>\n",
       "      <td>...</td>\n",
       "      <td>0.0</td>\n",
       "      <td>0.0</td>\n",
       "      <td>0.0</td>\n",
       "      <td>0.0</td>\n",
       "      <td>1.0</td>\n",
       "      <td>0.0</td>\n",
       "      <td>0.0</td>\n",
       "      <td>0.0</td>\n",
       "      <td>0.0</td>\n",
       "      <td>0.0</td>\n",
       "    </tr>\n",
       "  </tbody>\n",
       "</table>\n",
       "<p>5 rows × 261 columns</p>\n",
       "</div>"
      ],
      "text/plain": [
       "   place_0.0  place_1.0  place_10.0  place_2.0  place_3.0  place_4.0  \\\n",
       "0        0.0        1.0         0.0        0.0        0.0        0.0   \n",
       "1        0.0        1.0         0.0        0.0        0.0        0.0   \n",
       "2        0.0        0.0         0.0        1.0        0.0        0.0   \n",
       "3        0.0        0.0         0.0        0.0        0.0        1.0   \n",
       "4        0.0        0.0         0.0        0.0        0.0        0.0   \n",
       "\n",
       "   place_5.0  place_6.0  place_7.0  place_8.0  ...  atm_Temps éblouissant  \\\n",
       "0        0.0        0.0        0.0        0.0  ...                    0.0   \n",
       "1        0.0        0.0        0.0        0.0  ...                    0.0   \n",
       "2        0.0        0.0        0.0        0.0  ...                    0.0   \n",
       "3        0.0        0.0        0.0        0.0  ...                    0.0   \n",
       "4        1.0        0.0        0.0        0.0  ...                    0.0   \n",
       "\n",
       "   atm_Vent fort - tempête  col_Autre collision  \\\n",
       "0                      0.0                  0.0   \n",
       "1                      0.0                  0.0   \n",
       "2                      0.0                  0.0   \n",
       "3                      0.0                  0.0   \n",
       "4                      0.0                  0.0   \n",
       "\n",
       "   col_Deux véhicules - frontale  col_Deux véhicules – par le coté  \\\n",
       "0                            0.0                               1.0   \n",
       "1                            0.0                               1.0   \n",
       "2                            0.0                               1.0   \n",
       "3                            0.0                               1.0   \n",
       "4                            0.0                               1.0   \n",
       "\n",
       "   col_Deux véhicules – par l’arrière  col_Non renseigné  col_Sans collision  \\\n",
       "0                                 0.0                0.0                 0.0   \n",
       "1                                 0.0                0.0                 0.0   \n",
       "2                                 0.0                0.0                 0.0   \n",
       "3                                 0.0                0.0                 0.0   \n",
       "4                                 0.0                0.0                 0.0   \n",
       "\n",
       "   col_Trois véhicules et plus - collisions multiples  \\\n",
       "0                                                0.0    \n",
       "1                                                0.0    \n",
       "2                                                0.0    \n",
       "3                                                0.0    \n",
       "4                                                0.0    \n",
       "\n",
       "   col_Trois véhicules et plus – en chaîne  \n",
       "0                                      0.0  \n",
       "1                                      0.0  \n",
       "2                                      0.0  \n",
       "3                                      0.0  \n",
       "4                                      0.0  \n",
       "\n",
       "[5 rows x 261 columns]"
      ]
     },
     "execution_count": 69,
     "metadata": {},
     "output_type": "execute_result"
    }
   ],
   "source": [
    "# dataframe with informative column names as provided by the encoder object:\n",
    "columns_encoded = oneHotEncoder.get_feature_names_out(categorical_columns)\n",
    "cat_data_encoded= pd.DataFrame(X_categorical_encoded, columns=columns_encoded)\n",
    "cat_data_encoded.head()"
   ]
  },
  {
   "cell_type": "code",
   "execution_count": 70,
   "id": "3d20fea6",
   "metadata": {},
   "outputs": [
    {
     "name": "stdout",
     "output_type": "stream",
     "text": [
      "Index(['place_0.0', 'place_1.0', 'place_10.0', 'place_2.0', 'place_3.0',\n",
      "       'place_4.0', 'place_5.0', 'place_6.0', 'place_7.0', 'place_8.0',\n",
      "       ...\n",
      "       'atm_Temps éblouissant', 'atm_Vent fort - tempête',\n",
      "       'col_Autre collision', 'col_Deux véhicules - frontale',\n",
      "       'col_Deux véhicules – par le coté',\n",
      "       'col_Deux véhicules – par l’arrière', 'col_Non renseigné',\n",
      "       'col_Sans collision',\n",
      "       'col_Trois véhicules et plus - collisions multiples',\n",
      "       'col_Trois véhicules et plus – en chaîne'],\n",
      "      dtype='object', length=261)\n"
     ]
    }
   ],
   "source": [
    "print(cat_data_encoded.columns)"
   ]
  },
  {
   "cell_type": "code",
   "execution_count": 71,
   "id": "2d7d5056",
   "metadata": {},
   "outputs": [
    {
     "data": {
      "text/plain": [
       "Index(['place', 'catu', 'sexe', 'trajet', 'locp', 'actp', 'etatp', 'secuUn',\n",
       "       'secuDeux', 'tranches_ages', 'catr', 'circ', 'vosp', 'prof', 'plan',\n",
       "       'surf', 'infra', 'situ', 'senc', 'obs', 'obsm', 'choc', 'manv',\n",
       "       'catv_Label', 'lum', 'agg', 'int', 'atm', 'col', 'jour_de_la_semaine',\n",
       "       'heure', 'age_acc_an', 'nbv', 'occutc'],\n",
       "      dtype='object')"
      ]
     },
     "execution_count": 71,
     "metadata": {},
     "output_type": "execute_result"
    }
   ],
   "source": [
    "X.columns"
   ]
  },
  {
   "cell_type": "code",
   "execution_count": 72,
   "id": "d55721e4",
   "metadata": {},
   "outputs": [],
   "source": [
    "# mise à jour de la liste des variables catégorielles\n",
    "categorical_columns_selector = selector(dtype_include=\"category\")\n",
    "categorical_columns = categorical_columns_selector(accRoutierFr.drop([\"grav\"], axis=1))"
   ]
  },
  {
   "cell_type": "markdown",
   "id": "af3522e0",
   "metadata": {},
   "source": [
    "##### scaling numerical variables"
   ]
  },
  {
   "cell_type": "code",
   "execution_count": 73,
   "id": "83594fea",
   "metadata": {},
   "outputs": [
    {
     "data": {
      "text/plain": [
       "array([[-0.47076531, -0.08743727, -0.04660622],\n",
       "       [-0.02897708, -0.08743727, -0.04660622],\n",
       "       [ 0.19191704, -0.08743727, -0.04660622],\n",
       "       ...,\n",
       "       [-0.85751901, -0.08743727, -0.04660622],\n",
       "       [ 0.85444819, -0.08743727, -0.04660622],\n",
       "       [ 1.0753423 , -0.08743727, -0.04660622]])"
      ]
     },
     "execution_count": 73,
     "metadata": {},
     "output_type": "execute_result"
    }
   ],
   "source": [
    "# Application de la standardisation des variables continues \n",
    "numerical_X_scaled = numerical_preprocessor.fit_transform(X[['age_acc_an', 'nbv', 'occutc']])\n",
    "numerical_X_scaled"
   ]
  },
  {
   "cell_type": "code",
   "execution_count": 74,
   "id": "61d0be7b",
   "metadata": {},
   "outputs": [
    {
     "data": {
      "text/html": [
       "<div>\n",
       "<style scoped>\n",
       "    .dataframe tbody tr th:only-of-type {\n",
       "        vertical-align: middle;\n",
       "    }\n",
       "\n",
       "    .dataframe tbody tr th {\n",
       "        vertical-align: top;\n",
       "    }\n",
       "\n",
       "    .dataframe thead th {\n",
       "        text-align: right;\n",
       "    }\n",
       "</style>\n",
       "<table border=\"1\" class=\"dataframe\">\n",
       "  <thead>\n",
       "    <tr style=\"text-align: right;\">\n",
       "      <th></th>\n",
       "      <th>age_acc_an</th>\n",
       "      <th>nbv</th>\n",
       "      <th>occutc</th>\n",
       "    </tr>\n",
       "  </thead>\n",
       "  <tbody>\n",
       "    <tr>\n",
       "      <th>count</th>\n",
       "      <td>2.291739e+06</td>\n",
       "      <td>2.291739e+06</td>\n",
       "      <td>2.291739e+06</td>\n",
       "    </tr>\n",
       "    <tr>\n",
       "      <th>mean</th>\n",
       "      <td>-1.438289e-13</td>\n",
       "      <td>1.813049e-13</td>\n",
       "      <td>-5.017623e-15</td>\n",
       "    </tr>\n",
       "    <tr>\n",
       "      <th>std</th>\n",
       "      <td>1.000000e+00</td>\n",
       "      <td>1.000000e+00</td>\n",
       "      <td>1.000000e+00</td>\n",
       "    </tr>\n",
       "    <tr>\n",
       "      <th>min</th>\n",
       "      <td>-2.017175e+00</td>\n",
       "      <td>-2.053709e+00</td>\n",
       "      <td>-4.660622e-02</td>\n",
       "    </tr>\n",
       "    <tr>\n",
       "      <th>25%</th>\n",
       "      <td>-8.021821e-01</td>\n",
       "      <td>-8.743727e-02</td>\n",
       "      <td>-4.660622e-02</td>\n",
       "    </tr>\n",
       "    <tr>\n",
       "      <th>50%</th>\n",
       "      <td>-1.946855e-01</td>\n",
       "      <td>-8.743727e-02</td>\n",
       "      <td>-4.660622e-02</td>\n",
       "    </tr>\n",
       "    <tr>\n",
       "      <th>75%</th>\n",
       "      <td>6.887398e-01</td>\n",
       "      <td>-8.743727e-02</td>\n",
       "      <td>-4.660622e-02</td>\n",
       "    </tr>\n",
       "    <tr>\n",
       "      <th>max</th>\n",
       "      <td>2.897832e+00</td>\n",
       "      <td>6.348868e+01</td>\n",
       "      <td>2.741343e+02</td>\n",
       "    </tr>\n",
       "  </tbody>\n",
       "</table>\n",
       "</div>"
      ],
      "text/plain": [
       "         age_acc_an           nbv        occutc\n",
       "count  2.291739e+06  2.291739e+06  2.291739e+06\n",
       "mean  -1.438289e-13  1.813049e-13 -5.017623e-15\n",
       "std    1.000000e+00  1.000000e+00  1.000000e+00\n",
       "min   -2.017175e+00 -2.053709e+00 -4.660622e-02\n",
       "25%   -8.021821e-01 -8.743727e-02 -4.660622e-02\n",
       "50%   -1.946855e-01 -8.743727e-02 -4.660622e-02\n",
       "75%    6.887398e-01 -8.743727e-02 -4.660622e-02\n",
       "max    2.897832e+00  6.348868e+01  2.741343e+02"
      ]
     },
     "execution_count": 74,
     "metadata": {},
     "output_type": "execute_result"
    }
   ],
   "source": [
    "data_numerical_scaled = pd.DataFrame(numerical_X_scaled,\n",
    "                                 columns=['age_acc_an', 'nbv', 'occutc'])\n",
    "data_numerical_scaled.describe()"
   ]
  },
  {
   "cell_type": "code",
   "execution_count": 75,
   "id": "004d22d9",
   "metadata": {},
   "outputs": [
    {
     "data": {
      "text/plain": [
       "Index(['age_acc_an', 'nbv', 'occutc'], dtype='object')"
      ]
     },
     "execution_count": 75,
     "metadata": {},
     "output_type": "execute_result"
    }
   ],
   "source": [
    "data_numerical_scaled.columns"
   ]
  },
  {
   "cell_type": "code",
   "execution_count": 76,
   "id": "db716adf",
   "metadata": {},
   "outputs": [
    {
     "data": {
      "text/plain": [
       "(2291739, 266)"
      ]
     },
     "execution_count": 76,
     "metadata": {},
     "output_type": "execute_result"
    }
   ],
   "source": [
    "X_encoded = pd.concat([cat_ordered_encoded, cat_data_encoded, data_numerical_scaled], axis=1)\n",
    "X_encoded.shape"
   ]
  },
  {
   "cell_type": "code",
   "execution_count": 77,
   "id": "15d74927",
   "metadata": {},
   "outputs": [
    {
     "name": "stdout",
     "output_type": "stream",
     "text": [
      "<class 'pandas.core.frame.DataFrame'>\n",
      "RangeIndex: 2291739 entries, 0 to 2291738\n",
      "Columns: 266 entries, jour_de_la_semaine to occutc\n",
      "dtypes: float64(266)\n",
      "memory usage: 4.5 GB\n"
     ]
    }
   ],
   "source": [
    "X_encoded.info()"
   ]
  },
  {
   "cell_type": "code",
   "execution_count": 78,
   "id": "f3c8dd30",
   "metadata": {},
   "outputs": [
    {
     "data": {
      "text/plain": [
       "jour_de_la_semaine                                    float64\n",
       "heure                                                 float64\n",
       "place_0.0                                             float64\n",
       "place_1.0                                             float64\n",
       "place_10.0                                            float64\n",
       "                                                       ...   \n",
       "col_Trois véhicules et plus - collisions multiples    float64\n",
       "col_Trois véhicules et plus – en chaîne               float64\n",
       "age_acc_an                                            float64\n",
       "nbv                                                   float64\n",
       "occutc                                                float64\n",
       "Length: 266, dtype: object"
      ]
     },
     "execution_count": 78,
     "metadata": {},
     "output_type": "execute_result"
    }
   ],
   "source": [
    "X_encoded.dtypes"
   ]
  },
  {
   "cell_type": "code",
   "execution_count": 79,
   "id": "625bc86d",
   "metadata": {},
   "outputs": [
    {
     "data": {
      "text/html": [
       "<div>\n",
       "<style scoped>\n",
       "    .dataframe tbody tr th:only-of-type {\n",
       "        vertical-align: middle;\n",
       "    }\n",
       "\n",
       "    .dataframe tbody tr th {\n",
       "        vertical-align: top;\n",
       "    }\n",
       "\n",
       "    .dataframe thead th {\n",
       "        text-align: right;\n",
       "    }\n",
       "</style>\n",
       "<table border=\"1\" class=\"dataframe\">\n",
       "  <thead>\n",
       "    <tr style=\"text-align: right;\">\n",
       "      <th></th>\n",
       "      <th>jour_de_la_semaine</th>\n",
       "      <th>heure</th>\n",
       "      <th>place_0.0</th>\n",
       "      <th>place_1.0</th>\n",
       "      <th>place_10.0</th>\n",
       "      <th>place_2.0</th>\n",
       "      <th>place_3.0</th>\n",
       "      <th>place_4.0</th>\n",
       "      <th>place_5.0</th>\n",
       "      <th>place_6.0</th>\n",
       "      <th>...</th>\n",
       "      <th>col_Deux véhicules - frontale</th>\n",
       "      <th>col_Deux véhicules – par le coté</th>\n",
       "      <th>col_Deux véhicules – par l’arrière</th>\n",
       "      <th>col_Non renseigné</th>\n",
       "      <th>col_Sans collision</th>\n",
       "      <th>col_Trois véhicules et plus - collisions multiples</th>\n",
       "      <th>col_Trois véhicules et plus – en chaîne</th>\n",
       "      <th>age_acc_an</th>\n",
       "      <th>nbv</th>\n",
       "      <th>occutc</th>\n",
       "    </tr>\n",
       "  </thead>\n",
       "  <tbody>\n",
       "    <tr>\n",
       "      <th>0</th>\n",
       "      <td>4.0</td>\n",
       "      <td>11.0</td>\n",
       "      <td>0.0</td>\n",
       "      <td>1.0</td>\n",
       "      <td>0.0</td>\n",
       "      <td>0.0</td>\n",
       "      <td>0.0</td>\n",
       "      <td>0.0</td>\n",
       "      <td>0.0</td>\n",
       "      <td>0.0</td>\n",
       "      <td>...</td>\n",
       "      <td>0.0</td>\n",
       "      <td>1.0</td>\n",
       "      <td>0.0</td>\n",
       "      <td>0.0</td>\n",
       "      <td>0.0</td>\n",
       "      <td>0.0</td>\n",
       "      <td>0.0</td>\n",
       "      <td>-0.470765</td>\n",
       "      <td>-0.087437</td>\n",
       "      <td>-0.046606</td>\n",
       "    </tr>\n",
       "    <tr>\n",
       "      <th>1</th>\n",
       "      <td>4.0</td>\n",
       "      <td>11.0</td>\n",
       "      <td>0.0</td>\n",
       "      <td>1.0</td>\n",
       "      <td>0.0</td>\n",
       "      <td>0.0</td>\n",
       "      <td>0.0</td>\n",
       "      <td>0.0</td>\n",
       "      <td>0.0</td>\n",
       "      <td>0.0</td>\n",
       "      <td>...</td>\n",
       "      <td>0.0</td>\n",
       "      <td>1.0</td>\n",
       "      <td>0.0</td>\n",
       "      <td>0.0</td>\n",
       "      <td>0.0</td>\n",
       "      <td>0.0</td>\n",
       "      <td>0.0</td>\n",
       "      <td>-0.028977</td>\n",
       "      <td>-0.087437</td>\n",
       "      <td>-0.046606</td>\n",
       "    </tr>\n",
       "    <tr>\n",
       "      <th>2</th>\n",
       "      <td>4.0</td>\n",
       "      <td>11.0</td>\n",
       "      <td>0.0</td>\n",
       "      <td>0.0</td>\n",
       "      <td>0.0</td>\n",
       "      <td>1.0</td>\n",
       "      <td>0.0</td>\n",
       "      <td>0.0</td>\n",
       "      <td>0.0</td>\n",
       "      <td>0.0</td>\n",
       "      <td>...</td>\n",
       "      <td>0.0</td>\n",
       "      <td>1.0</td>\n",
       "      <td>0.0</td>\n",
       "      <td>0.0</td>\n",
       "      <td>0.0</td>\n",
       "      <td>0.0</td>\n",
       "      <td>0.0</td>\n",
       "      <td>0.191917</td>\n",
       "      <td>-0.087437</td>\n",
       "      <td>-0.046606</td>\n",
       "    </tr>\n",
       "    <tr>\n",
       "      <th>3</th>\n",
       "      <td>4.0</td>\n",
       "      <td>11.0</td>\n",
       "      <td>0.0</td>\n",
       "      <td>0.0</td>\n",
       "      <td>0.0</td>\n",
       "      <td>0.0</td>\n",
       "      <td>0.0</td>\n",
       "      <td>1.0</td>\n",
       "      <td>0.0</td>\n",
       "      <td>0.0</td>\n",
       "      <td>...</td>\n",
       "      <td>0.0</td>\n",
       "      <td>1.0</td>\n",
       "      <td>0.0</td>\n",
       "      <td>0.0</td>\n",
       "      <td>0.0</td>\n",
       "      <td>0.0</td>\n",
       "      <td>0.0</td>\n",
       "      <td>-2.017024</td>\n",
       "      <td>-0.087437</td>\n",
       "      <td>-0.046606</td>\n",
       "    </tr>\n",
       "    <tr>\n",
       "      <th>4</th>\n",
       "      <td>4.0</td>\n",
       "      <td>11.0</td>\n",
       "      <td>0.0</td>\n",
       "      <td>0.0</td>\n",
       "      <td>0.0</td>\n",
       "      <td>0.0</td>\n",
       "      <td>0.0</td>\n",
       "      <td>0.0</td>\n",
       "      <td>1.0</td>\n",
       "      <td>0.0</td>\n",
       "      <td>...</td>\n",
       "      <td>0.0</td>\n",
       "      <td>1.0</td>\n",
       "      <td>0.0</td>\n",
       "      <td>0.0</td>\n",
       "      <td>0.0</td>\n",
       "      <td>0.0</td>\n",
       "      <td>0.0</td>\n",
       "      <td>-1.685759</td>\n",
       "      <td>-0.087437</td>\n",
       "      <td>-0.046606</td>\n",
       "    </tr>\n",
       "  </tbody>\n",
       "</table>\n",
       "<p>5 rows × 266 columns</p>\n",
       "</div>"
      ],
      "text/plain": [
       "   jour_de_la_semaine  heure  place_0.0  place_1.0  place_10.0  place_2.0  \\\n",
       "0                 4.0   11.0        0.0        1.0         0.0        0.0   \n",
       "1                 4.0   11.0        0.0        1.0         0.0        0.0   \n",
       "2                 4.0   11.0        0.0        0.0         0.0        1.0   \n",
       "3                 4.0   11.0        0.0        0.0         0.0        0.0   \n",
       "4                 4.0   11.0        0.0        0.0         0.0        0.0   \n",
       "\n",
       "   place_3.0  place_4.0  place_5.0  place_6.0  ...  \\\n",
       "0        0.0        0.0        0.0        0.0  ...   \n",
       "1        0.0        0.0        0.0        0.0  ...   \n",
       "2        0.0        0.0        0.0        0.0  ...   \n",
       "3        0.0        1.0        0.0        0.0  ...   \n",
       "4        0.0        0.0        1.0        0.0  ...   \n",
       "\n",
       "   col_Deux véhicules - frontale  col_Deux véhicules – par le coté  \\\n",
       "0                            0.0                               1.0   \n",
       "1                            0.0                               1.0   \n",
       "2                            0.0                               1.0   \n",
       "3                            0.0                               1.0   \n",
       "4                            0.0                               1.0   \n",
       "\n",
       "   col_Deux véhicules – par l’arrière  col_Non renseigné  col_Sans collision  \\\n",
       "0                                 0.0                0.0                 0.0   \n",
       "1                                 0.0                0.0                 0.0   \n",
       "2                                 0.0                0.0                 0.0   \n",
       "3                                 0.0                0.0                 0.0   \n",
       "4                                 0.0                0.0                 0.0   \n",
       "\n",
       "   col_Trois véhicules et plus - collisions multiples  \\\n",
       "0                                                0.0    \n",
       "1                                                0.0    \n",
       "2                                                0.0    \n",
       "3                                                0.0    \n",
       "4                                                0.0    \n",
       "\n",
       "   col_Trois véhicules et plus – en chaîne  age_acc_an       nbv    occutc  \n",
       "0                                      0.0   -0.470765 -0.087437 -0.046606  \n",
       "1                                      0.0   -0.028977 -0.087437 -0.046606  \n",
       "2                                      0.0    0.191917 -0.087437 -0.046606  \n",
       "3                                      0.0   -2.017024 -0.087437 -0.046606  \n",
       "4                                      0.0   -1.685759 -0.087437 -0.046606  \n",
       "\n",
       "[5 rows x 266 columns]"
      ]
     },
     "execution_count": 79,
     "metadata": {},
     "output_type": "execute_result"
    }
   ],
   "source": [
    "X_encoded.head()"
   ]
  },
  {
   "cell_type": "code",
   "execution_count": 80,
   "id": "a5b2f270",
   "metadata": {},
   "outputs": [
    {
     "data": {
      "text/plain": [
       "jour_de_la_semaine           0.0\n",
       "choc_Arrière                 0.0\n",
       "choc_Arrière droit           0.0\n",
       "choc_Arrière gauche          0.0\n",
       "choc_Aucun                   0.0\n",
       "                            ... \n",
       "vosp_Sans objet(0)           0.0\n",
       "vosp_Voie réservée(3)        0.0\n",
       "prof_Bas de côte(4)          0.0\n",
       "catr_5-Hors réseau public    0.0\n",
       "occutc                       0.0\n",
       "Length: 266, dtype: float64"
      ]
     },
     "execution_count": 80,
     "metadata": {},
     "output_type": "execute_result"
    }
   ],
   "source": [
    "size = X_encoded.shape\n",
    "\n",
    "# Count the number of missing values in each column\n",
    "nan_values = X_encoded.isna().sum()\n",
    "\n",
    "nan_values = nan_values.sort_values(ascending=True)*100/size[0]\n",
    "\n",
    "nan_values"
   ]
  },
  {
   "cell_type": "code",
   "execution_count": 81,
   "id": "ffc4905f",
   "metadata": {},
   "outputs": [],
   "source": [
    "# split the array of features values, X, and target values, y, into training and test sets, \n",
    "#   ensuring that the same label proportions are reflected after the split\n",
    "X_train_encoded, X_test_encoded, y_train2, y_test2 = train_test_split(X_encoded, y, test_size=0.2, \n",
    "                                                                      stratify=y, random_state=259)"
   ]
  },
  {
   "cell_type": "code",
   "execution_count": 82,
   "id": "83d500ef",
   "metadata": {},
   "outputs": [
    {
     "data": {
      "text/plain": [
       "pandas.core.frame.DataFrame"
      ]
     },
     "execution_count": 82,
     "metadata": {},
     "output_type": "execute_result"
    }
   ],
   "source": [
    "type(X_train_encoded)"
   ]
  },
  {
   "cell_type": "code",
   "execution_count": 75,
   "id": "3fad978f",
   "metadata": {},
   "outputs": [
    {
     "name": "stdout",
     "output_type": "stream",
     "text": [
      "328.4447202682495\n"
     ]
    }
   ],
   "source": [
    "# Creating Dataframe\n",
    "#df_encoded = pd.concat([X_train_encoded, X_test_encoded, y_train2, y_test2])\n",
    "# Exporting the DataFrame into a CSV file\n",
    "start_time = time.time()\n",
    "X_encoded.to_csv('Acc_Xencoded.csv')\n",
    "end_time = time.time()\n",
    "exporting_to_csv_time = end_time - start_time\n",
    "print(exporting_to_csv_time)\n",
    "#df_encoded.head()"
   ]
  },
  {
   "cell_type": "raw",
   "id": "3c106778",
   "metadata": {},
   "source": [
    "# Importing encoded data accident to DataFrame \n",
    "df_encoded=pd.read_csv('Acc_encoded.csv', low_memory=False)\n",
    "df_encoded.head()"
   ]
  },
  {
   "cell_type": "raw",
   "id": "0c4fad4b",
   "metadata": {},
   "source": [
    "X_train_encoded=df_encoded['']\n",
    "X_test_encoded=df_encoded['']\n",
    "y_train2=df_encoded['']\n",
    "y_test2=df_encoded['']"
   ]
  },
  {
   "cell_type": "markdown",
   "id": "f98d0344",
   "metadata": {},
   "source": [
    "<div class=\"alert alert-block alert-info\">\n",
    "<h2><a id = \"train_models\">Entrainement de quelques modèles</a></h2>\n",
    "</div>"
   ]
  },
  {
   "cell_type": "markdown",
   "id": "9b574376",
   "metadata": {},
   "source": [
    "##### 1. [Ridge classifier](#ridge_std)\n",
    "##### 2. [Logistic Regression](#logreg_std)\n",
    "##### 3.[Classification par machines à vecteurs de support](#svm_std)\n",
    "##### 4.[Random Forest Classifier](#rf_std)\n",
    "##### 5.[Boosting classifier](#boosting_std)"
   ]
  },
  {
   "cell_type": "markdown",
   "id": "6190bdd5",
   "metadata": {},
   "source": [
    "When you enact(put into practice) Kfold in your model what it essential does is divide up your data in “K” number of folds or segments. One section is used for testing while the rest of the segments are used for training. It then calculates a score for each time the model was trained and tested. This is done so that each segment is tested on exactly once. What this allows is for a true estimate of how the model is actually performing, in this, we can remove a lot of bias (not all) from test score since it has trained on all of the data throughout the trials."
   ]
  },
  {
   "cell_type": "code",
   "execution_count": 99,
   "id": "57d947e4",
   "metadata": {},
   "outputs": [
    {
     "name": "stdout",
     "output_type": "stream",
     "text": [
      "---------------------------------------------------------------------------\n"
     ]
    },
    {
     "data": {
      "text/plain": [
       "array([0.79916597, 0.79911524, 0.79777955, 0.79953752, 0.79921825])"
      ]
     },
     "execution_count": 99,
     "metadata": {},
     "output_type": "execute_result"
    }
   ],
   "source": [
    "#Imports\n",
    "#import numpy as np\n",
    "#from sklearn.linear_model import LogisticRegression\n",
    "#from sklearn.model_selection import train_test_split\n",
    "#from sklearn import model_selection\n",
    "#seed for random state and splits - number of Kfolds\n",
    "random_seed = 1\n",
    "splits = 5\n",
    "#Scikit Kfold model call\n",
    "kfold = KFold(n_splits=splits,random_state=random_seed, shuffle=True)\n",
    "#Logistic Regression Model\n",
    "#model = LogisticRegression()\n",
    "#results set equal to model with kfolds\n",
    "#results = model_selection.cross_val_score(model, x_train, y_train,cv=kfold)\n",
    "\n",
    "#printing the averaged score over the 5 Kfolds\n",
    "#print(\"Accuracy: %.3f%% (%.3f%%)\" % (results.mean()*100.0, results.std()*100.0))\n",
    "print(\"-\" * 75)\n",
    "scores = cross_val_score(logreg, X_train_encoded, y_train2, cv=kfold, scoring='roc_auc_ovo')\n",
    "scores "
   ]
  },
  {
   "cell_type": "code",
   "execution_count": 100,
   "id": "ad71d780",
   "metadata": {},
   "outputs": [
    {
     "data": {
      "text/plain": [
       "0.7989633042359826"
      ]
     },
     "execution_count": 100,
     "metadata": {},
     "output_type": "execute_result"
    }
   ],
   "source": [
    "scores.mean()"
   ]
  },
  {
   "cell_type": "code",
   "execution_count": 102,
   "id": "be6a938b",
   "metadata": {},
   "outputs": [],
   "source": [
    "def benchmarkClassifier(model, model_name, X_train, y_train, X_test, y_test):\n",
    "\n",
    "    if model_name == \"\" :\n",
    "        step_names = list(model.named_steps.keys())\n",
    "        model_name = step_names[-1]\n",
    "    \n",
    "    start_time = time.time()\n",
    "    # Train the classifier model\n",
    "    model.fit(X_train, y_train)\n",
    "    end_time = time.time()\n",
    "    training_time = end_time - start_time\n",
    "\n",
    "    \n",
    "    # Make predictions\n",
    "    start_time = time.time()\n",
    "    y_pred = model.predict(X_test)\n",
    "    end_time = time.time()\n",
    "    test_time = end_time - start_time\n",
    "    \n",
    "    # Taux de bonnes prédictions du modèle de classification sur l'ensemble d'entrainement\n",
    "    train_score= model.score(X_train, y_train)*100.0\n",
    "    # Taux de bonnes prédictions du modèle de classification sur l'ensemble de test\n",
    "    test_score= model.score(X_test, y_test)*100.0\n",
    "    \n",
    "    # Calculate evaluation metrics\n",
    "    model_accuracy = accuracy_score(y_test, y_pred)*100.0\n",
    "    \n",
    "    balanced_accuracy=balanced_accuracy_score(y_test, y_pred)\n",
    "    \n",
    "    geo_mean_score = geometric_mean_score(y_test, y_pred)\n",
    "    \n",
    "    # Confusion matrix\n",
    "    conf_matrix = confusion_matrix(y_test, y_pred)\n",
    "    \n",
    "    # Print the evaluation metrics for the current model\n",
    "    print(f\"Model: {model_name}\")\n",
    "    print(\"-\" * 75)\n",
    "    # Print classification report imbalanced\n",
    "    print(\"Classification Report imbalanced :\")\n",
    "    print(classification_report_imbalanced(y_test, y_pred))\n",
    "        \n",
    "    print(\"-\" * 75)\n",
    "    # Print confusion matrix\n",
    "    print(\"Confusion Matrix:\")\n",
    "    print(conf_matrix)\n",
    "    \n",
    "    print(\"-\" * 75)\n",
    "    print(\n",
    "        f\"Balanced accuracy: {balanced_accuracy:.3f} - \"\n",
    "        f\"Geometric mean: {geo_mean_score:.3f}\"\n",
    "    )\n",
    "    \n",
    "    print(\"-\" * 75)\n",
    "    start_time = time.time()\n",
    "    scores = cross_val_score(model, X_train_encoded, y_train2, cv=kfold, scoring='roc_auc_ovo')\n",
    "    end_time = time.time() - start_time\n",
    "    print(\"Mean AUC Score:\",scores.mean(), \" temps execution en secondes : \", end_time)\n",
    "    \n",
    "    print(\"=\" * 75)\n",
    "    \n",
    "    return [training_time, test_time, train_score.round(3), test_score.round(3), model_accuracy.round(3), balanced_accuracy.round(3), geo_mean_score.round(3)] "
   ]
  },
  {
   "cell_type": "code",
   "execution_count": 125,
   "id": "acf4afc8",
   "metadata": {},
   "outputs": [],
   "source": [
    "std_model_names=[]\n",
    "std_training_times=[] \n",
    "std_testing_times=[] \n",
    "std_training_scores=[]\n",
    "std_test_scores=[]\n",
    "std_baccuracy_score=[]\n",
    "std_geo_mean_score=[]"
   ]
  },
  {
   "cell_type": "markdown",
   "id": "818696d6",
   "metadata": {},
   "source": [
    "### <a id = \"ridge_std\">Ridge classifier model</a>\n",
    "\n",
    "######  Classifier using Ridge regression \n",
    "\n",
    "For multi-class classification, \n",
    " - n_class classifiers are trained in a one-versus-all approach. Concretely, this is implemented by taking advantage of the multi-variate response support in Ridge.\n",
    " - the problem is treated as multi-output regression, and the predicted class corresponds to the output with the highest value\n",
    "\n",
    "\n",
    "\n",
    "RidgeClassifierCV"
   ]
  },
  {
   "cell_type": "code",
   "execution_count": 106,
   "id": "d75b07c7",
   "metadata": {},
   "outputs": [],
   "source": [
    "#\n",
    "ridge_clf = RidgeClassifier()"
   ]
  },
  {
   "cell_type": "code",
   "execution_count": 117,
   "id": "ae5364fd",
   "metadata": {},
   "outputs": [
    {
     "name": "stdout",
     "output_type": "stream",
     "text": [
      "Model: Ridge Classifier\n",
      "---------------------------------------------------------------------------\n",
      "Classification Report imbalanced :\n",
      "                          pre       rec       spe        f1       geo       iba       sup\n",
      "\n",
      "Blessé hospitalisé       0.54      0.30      0.94      0.38      0.53      0.26     93507\n",
      "      Blessé léger       0.60      0.60      0.78      0.60      0.68      0.45    165057\n",
      "           Indemne       0.67      0.87      0.71      0.76      0.79      0.63    187549\n",
      "               Tué       0.88      0.00      1.00      0.00      0.02      0.00     12235\n",
      "\n",
      "       avg / total       0.63      0.63      0.79      0.60      0.67      0.47    458348\n",
      "\n",
      "Confusion Matrix:\n",
      "[[ 27597  43930  21979      1]\n",
      " [ 11538  98396  55123      0]\n",
      " [  5333  18416 163800      0]\n",
      " [  6604   3007   2617      7]]\n",
      "===========================================================================\n",
      "49.65511083602905 1.4350881576538086 63.21 63.227 63.227\n"
     ]
    }
   ],
   "source": [
    "# Classifier using Ridge regression\n",
    "#X_train_encoded, X_test_encoded, y_train2, y_test2\n",
    "#training_time, test_time, train_scores, test_scores, model_accuracy\n",
    "training_time, test_time, train_score, test_score, ridge_accuracy = benchmarkClassifier(ridge_clf, \n",
    "                                            \"Ridge Classifier\", X_train_encoded, y_train2, X_test_encoded, y_test2)\n",
    "print(training_time, test_time, train_score, test_score, ridge_accuracy)\n",
    "std_model_names.append(\"Ridge Classifier\") \n",
    "std_training_times.append(training_time) \n",
    "std_testing_times.append(test_time) \n",
    "std_train_scores.append(train_score) \n",
    "std_test_scores.append(test_score)"
   ]
  },
  {
   "cell_type": "code",
   "execution_count": 139,
   "id": "b602e177",
   "metadata": {},
   "outputs": [
    {
     "name": "stdout",
     "output_type": "stream",
     "text": [
      "Model: Ridge Classifier\n",
      "---------------------------------------------------------------------------\n",
      "Classification Report imbalanced :\n",
      "                          pre       rec       spe        f1       geo       iba       sup\n",
      "\n",
      "Blessé hospitalisé       0.54      0.30      0.94      0.38      0.53      0.26     93507\n",
      "      Blessé léger       0.60      0.60      0.78      0.60      0.68      0.45    165057\n",
      "           Indemne       0.67      0.87      0.71      0.76      0.79      0.63    187549\n",
      "               Tué       0.88      0.00      1.00      0.00      0.02      0.00     12235\n",
      "\n",
      "       avg / total       0.63      0.63      0.79      0.60      0.67      0.47    458348\n",
      "\n",
      "---------------------------------------------------------------------------\n",
      "Confusion Matrix:\n",
      "[[ 27597  43930  21979      1]\n",
      " [ 11538  98396  55123      0]\n",
      " [  5333  18416 163800      0]\n",
      " [  6604   3007   2617      7]]\n",
      "---------------------------------------------------------------------------\n",
      "Balanced accuracy: 0.441 - Geometric mean: 0.097\n",
      "===========================================================================\n",
      "training_time test_time train_score test_score sgdc_accuracy balanced_accuracy geometric_mean_score\n",
      "46.943504333496094 1.3137710094451904 63.21 63.227 63.227 0.441 0.097\n"
     ]
    }
   ],
   "source": [
    "result_accuracy = benchmarkClassifier(ridge_clf, \"Ridge Classifier\", X_train_encoded, y_train2, \n",
    "                                      X_test_encoded, y_test2)\n",
    "\n",
    "print('training_time', 'test_time', 'train_score', 'test_score', 'sgdc_accuracy', 'balanced_accuracy', 'geometric_mean_score')\n",
    "print(result_accuracy[0], result_accuracy[1], result_accuracy[2], result_accuracy[3],result_accuracy[4],\n",
    "     result_accuracy[5], result_accuracy[6])\n",
    "std_model_names.append(\"Ridge Classifier\") \n",
    "std_training_times.append(result_accuracy[0]) \n",
    "std_testing_times.append(result_accuracy[1])   \n",
    "std_train_scores.append(result_accuracy[2]) \n",
    "std_test_scores.append(result_accuracy[3])\n",
    "std_baccuracy_score.append(result_accuracy[5])\n",
    "std_geo_mean_score.append(result_accuracy[6])"
   ]
  },
  {
   "cell_type": "markdown",
   "id": "68b4d3dc",
   "metadata": {},
   "source": [
    "### <a id = \"logreg_std\">Logistic Regression model</a>"
   ]
  },
  {
   "cell_type": "code",
   "execution_count": 98,
   "id": "fd8991f3",
   "metadata": {},
   "outputs": [],
   "source": [
    "# Modification du constructeur du modèle\n",
    "logreg = LogisticRegression(random_state=0, max_iter=2500)"
   ]
  },
  {
   "cell_type": "code",
   "execution_count": 119,
   "id": "5ac81473",
   "metadata": {},
   "outputs": [
    {
     "name": "stdout",
     "output_type": "stream",
     "text": [
      "Model: Logistic regression\n",
      "---------------------------------------------------------------------------\n",
      "Classification Report imbalanced :\n",
      "                          pre       rec       spe        f1       geo       iba       sup\n",
      "\n",
      "Blessé hospitalisé       0.53      0.39      0.91      0.45      0.60      0.34     93507\n",
      "      Blessé léger       0.61      0.60      0.79      0.61      0.69      0.46    165057\n",
      "           Indemne       0.70      0.84      0.75      0.77      0.80      0.64    187549\n",
      "               Tué       0.45      0.04      1.00      0.08      0.21      0.04     12235\n",
      "\n",
      "       avg / total       0.63      0.64      0.80      0.63      0.70      0.50    458348\n",
      "\n",
      "Confusion Matrix:\n",
      "[[ 36782  38918  17284    523]\n",
      " [ 18028  99168  47769     92]\n",
      " [  7397  21654 158457     41]\n",
      " [  7532   2323   1842    538]]\n",
      "===========================================================================\n",
      "2988.390198945999 2.6545259952545166 64.358 64.35 64.35\n"
     ]
    }
   ],
   "source": [
    "# Classifier using Logistic regression\n",
    "training_time, test_time, train_score, test_score, logreg_accuracy = benchmarkClassifier(logreg, \n",
    "                                            \"Logistic regression\", X_train_encoded, y_train2, X_test_encoded, y_test2)\n",
    "print(training_time, test_time, train_score, test_score, logreg_accuracy)\n",
    "std_model_names.append(\"Logistic_Regression\") \n",
    "std_training_times.append(training_time) \n",
    "std_testing_times.append(test_time)  \n",
    "std_train_scores.append(train_score) \n",
    "std_test_scores.append(test_score)"
   ]
  },
  {
   "cell_type": "code",
   "execution_count": 138,
   "id": "a360493f",
   "metadata": {},
   "outputs": [
    {
     "name": "stdout",
     "output_type": "stream",
     "text": [
      "Model: Logistic regression\n",
      "---------------------------------------------------------------------------\n",
      "Classification Report imbalanced :\n",
      "                          pre       rec       spe        f1       geo       iba       sup\n",
      "\n",
      "Blessé hospitalisé       0.53      0.39      0.91      0.45      0.60      0.34     93507\n",
      "      Blessé léger       0.61      0.60      0.79      0.61      0.69      0.46    165057\n",
      "           Indemne       0.70      0.84      0.75      0.77      0.80      0.64    187549\n",
      "               Tué       0.45      0.04      1.00      0.08      0.21      0.04     12235\n",
      "\n",
      "       avg / total       0.63      0.64      0.80      0.63      0.70      0.50    458348\n",
      "\n",
      "---------------------------------------------------------------------------\n",
      "Confusion Matrix:\n",
      "[[ 36782  38918  17284    523]\n",
      " [ 18028  99168  47769     92]\n",
      " [  7397  21654 158457     41]\n",
      " [  7532   2323   1842    538]]\n",
      "---------------------------------------------------------------------------\n",
      "Balanced accuracy: 0.471 - Geometric mean: 0.306\n",
      "===========================================================================\n",
      "training_time test_time train_score test_score sgdc_accuracy balanced_accuracy geometric_mean_score\n",
      "2645.55873298645 1.7359857559204102 64.358 64.35 64.35 0.471 0.306\n"
     ]
    }
   ],
   "source": [
    "result_accuracy = benchmarkClassifier(logreg, \"Logistic regression\", X_train_encoded, y_train2, \n",
    "                                      X_test_encoded, y_test2)\n",
    "print('training_time', 'test_time', 'train_score', 'test_score', 'sgdc_accuracy', 'balanced_accuracy', 'geometric_mean_score')\n",
    "print(result_accuracy[0], result_accuracy[1], result_accuracy[2], result_accuracy[3],result_accuracy[4],\n",
    "     result_accuracy[5], result_accuracy[6])\n",
    "std_model_names.append(\"Logistic_Regression\") \n",
    "std_training_times.append(result_accuracy[0]) \n",
    "std_testing_times.append(result_accuracy[1])   \n",
    "std_train_scores.append(result_accuracy[2]) \n",
    "std_test_scores.append(result_accuracy[3])\n",
    "std_baccuracy_score.append(result_accuracy[5])\n",
    "std_geo_mean_score.append(result_accuracy[6])"
   ]
  },
  {
   "cell_type": "markdown",
   "id": "f9eff490",
   "metadata": {},
   "source": [
    "### <a id = \"svm_std\">Classification par machines à vecteurs de support (Stochastic Gradient Descent (SGD))</a>\n",
    "\n",
    "POURQUOI ????? quantité de données, déséquilibre de classes\n",
    "\n",
    "SGDClassifier supports the following loss functions:\n",
    "\n",
    "loss=\"hinge\": (soft-margin) linear Support Vector Machine,\n",
    "\n",
    "loss=\"modified_huber\": smoothed hinge loss,\n",
    "\n",
    "loss=\"log_loss\": logistic regression,\n",
    "\n",
    "and all regression losses below. In this case the target is encoded as -1 or 1, and the problem is treated as a regression problem. The predicted class then correspond to the sign of the predicted target."
   ]
  },
  {
   "cell_type": "code",
   "execution_count": 121,
   "id": "e0e1c6e6",
   "metadata": {},
   "outputs": [],
   "source": [
    "\n",
    "\n",
    "sgdc_clf = SGDClassifier(loss=\"hinge\", penalty=\"l2\", max_iter=5)\n"
   ]
  },
  {
   "cell_type": "code",
   "execution_count": 126,
   "id": "1d866058",
   "metadata": {},
   "outputs": [
    {
     "name": "stderr",
     "output_type": "stream",
     "text": [
      "/opt/anaconda3/lib/python3.9/site-packages/sklearn/linear_model/_stochastic_gradient.py:696: ConvergenceWarning: Maximum number of iteration reached before convergence. Consider increasing max_iter to improve the fit.\n",
      "  warnings.warn(\n"
     ]
    },
    {
     "name": "stdout",
     "output_type": "stream",
     "text": [
      "Model: Stochastic Gradient Descent\n",
      "---------------------------------------------------------------------------\n",
      "Classification Report imbalanced :\n",
      "                          pre       rec       spe        f1       geo       iba       sup\n",
      "\n",
      "Blessé hospitalisé       0.43      0.47      0.84      0.45      0.63      0.38     93507\n",
      "      Blessé léger       0.60      0.62      0.77      0.61      0.69      0.47    165057\n",
      "           Indemne       0.76      0.75      0.83      0.75      0.79      0.62    187549\n",
      "               Tué       0.38      0.00      1.00      0.00      0.02      0.00     12235\n",
      "\n",
      "       avg / total       0.62      0.63      0.82      0.62      0.70      0.50    458348\n",
      "\n",
      "---------------------------------------------------------------------------\n",
      "Confusion Matrix:\n",
      "[[ 43950  39463  10094      0]\n",
      " [ 28894 101820  34338      5]\n",
      " [ 20736  25907 140906      0]\n",
      " [  8963   2379    890      3]]\n",
      "---------------------------------------------------------------------------\n",
      "Balanced accuracy: 0.460 - Geometric mean: 0.085\n",
      "===========================================================================\n",
      "38.63443088531494 0.7236249446868896 62.559 62.546 62.546 0.46 0.085\n"
     ]
    }
   ],
   "source": [
    "training_time, test_time, train_score, test_score, sgdc_accuracy, balanced_accuracy, geometric_mean_score = benchmarkClassifier(sgdc_clf, \n",
    "                                    \"Stochastic Gradient Descent\", X_train_encoded, y_train2, X_test_encoded, y_test2)\n",
    "\n",
    "print(training_time, test_time, train_score, test_score, sgdc_accuracy, balanced_accuracy, geometric_mean_score)\n",
    "std_model_names.append(\"Stochastic_Gradient-Descent\") \n",
    "std_training_times.append(training_time) \n",
    "std_testing_times.append(test_time)   \n",
    "std_train_scores.append(train_score) \n",
    "std_test_scores.append(test_score)\n",
    "std_baccuracy_score.append(balanced_accuracy)\n",
    "std_geo_mean_score.append(geometric_mean_score)"
   ]
  },
  {
   "cell_type": "code",
   "execution_count": 132,
   "id": "7656bbe8",
   "metadata": {},
   "outputs": [],
   "source": [
    "sgdc_clf = SGDClassifier(loss=\"hinge\", penalty=\"l2\", max_iter=150)"
   ]
  },
  {
   "cell_type": "code",
   "execution_count": 137,
   "id": "c4044c0c",
   "metadata": {},
   "outputs": [
    {
     "name": "stdout",
     "output_type": "stream",
     "text": [
      "Model: Stochastic Gradient Descent\n",
      "---------------------------------------------------------------------------\n",
      "Classification Report imbalanced :\n",
      "                          pre       rec       spe        f1       geo       iba       sup\n",
      "\n",
      "Blessé hospitalisé       0.52      0.12      0.97      0.20      0.34      0.11     93507\n",
      "      Blessé léger       0.55      0.62      0.72      0.58      0.67      0.44    165057\n",
      "           Indemne       0.66      0.89      0.68      0.76      0.78      0.62    187549\n",
      "               Tué       0.24      0.00      1.00      0.00      0.03      0.00     12235\n",
      "\n",
      "       avg / total       0.58      0.61      0.76      0.56      0.63      0.43    458348\n",
      "\n",
      "---------------------------------------------------------------------------\n",
      "Confusion Matrix:\n",
      "[[ 11401  57981  24121      4]\n",
      " [  4300 101681  59058     18]\n",
      " [  2590  17865 167087      7]\n",
      " [  3514   5696   3016      9]]\n",
      "---------------------------------------------------------------------------\n",
      "Balanced accuracy: 0.407 - Geometric mean: 0.084\n",
      "===========================================================================\n",
      "training_time test_time train_score test_score sgdc_accuracy balanced_accuracy geometric_mean_score\n",
      "119.89614510536194 1.1264541149139404 61.165 61.128 61.128 0.407 0.084\n"
     ]
    }
   ],
   "source": [
    "result_accuracy = benchmarkClassifier(sgdc_clf, \"Stochastic Gradient Descent\", X_train_encoded, y_train2, \n",
    "                                                                             X_test_encoded, y_test2)\n",
    "print('training_time', 'test_time', 'train_score', 'test_score', 'sgdc_accuracy', 'balanced_accuracy', 'geometric_mean_score')\n",
    "print(result_accuracy[0], result_accuracy[1], result_accuracy[2], result_accuracy[3],result_accuracy[4],\n",
    "     result_accuracy[5], result_accuracy[6])\n",
    "std_model_names.append(\"Stochastic_Gradient_Descent1500\") \n",
    "std_training_times.append(result_accuracy[0]) \n",
    "std_testing_times.append(result_accuracy[1])   \n",
    "std_train_scores.append(result_accuracy[2]) \n",
    "std_test_scores.append(result_accuracy[3])\n",
    "std_baccuracy_score.append(result_accuracy[5])\n",
    "std_geo_mean_score.append(result_accuracy[6])"
   ]
  },
  {
   "cell_type": "markdown",
   "id": "9142e9dc",
   "metadata": {},
   "source": [
    "### <a id = \"dt_std\">Arbre de décisions</a>"
   ]
  },
  {
   "cell_type": "code",
   "execution_count": null,
   "id": "48078ad1",
   "metadata": {},
   "outputs": [],
   "source": [
    "# (a) Création d'un modèle de classification dtc, ayant pour paramètre max_depth=5\n",
    "dtc=DecisionTreeClassifier(max_depth=5)"
   ]
  },
  {
   "cell_type": "markdown",
   "id": "71ab63c0",
   "metadata": {},
   "source": [
    "### <a id = \"bagging_std\">Bagging classifier with and without sampling</a>\n",
    "\n",
    "Instead of using a single tree, we will check if an ensemble of decision tree can actually alleviate the issue induced by the class imbalancing. First, we will use a bagging classifier and its counter part which internally uses a random under-sampling to balanced each bootstrap sample."
   ]
  },
  {
   "cell_type": "code",
   "execution_count": 150,
   "id": "25b79891",
   "metadata": {},
   "outputs": [],
   "source": [
    "bagging = BaggingClassifier(n_estimators=50, random_state=0)"
   ]
  },
  {
   "cell_type": "code",
   "execution_count": 151,
   "id": "b1b7f30a",
   "metadata": {},
   "outputs": [
    {
     "name": "stdout",
     "output_type": "stream",
     "text": [
      "Model: Bagging Classifier\n",
      "---------------------------------------------------------------------------\n",
      "Classification Report imbalanced :\n",
      "                          pre       rec       spe        f1       geo       iba       sup\n",
      "\n",
      "Blessé hospitalisé       0.52      0.45      0.89      0.48      0.63      0.38     93507\n",
      "      Blessé léger       0.61      0.62      0.78      0.62      0.70      0.48    165057\n",
      "           Indemne       0.74      0.81      0.80      0.77      0.80      0.65    187549\n",
      "               Tué       0.37      0.09      1.00      0.15      0.30      0.08     12235\n",
      "\n",
      "       avg / total       0.64      0.65      0.82      0.64      0.72      0.52    458348\n",
      "\n",
      "---------------------------------------------------------------------------\n",
      "Confusion Matrix:\n",
      "[[ 42161  36408  13546   1392]\n",
      " [ 23049 103076  38630    302]\n",
      " [  8837  27195 151310    207]\n",
      " [  7446   2384   1272   1133]]\n",
      "---------------------------------------------------------------------------\n",
      "Balanced accuracy: 0.494 - Geometric mean: 0.381\n",
      "===========================================================================\n",
      "training_time test_time train_score test_score sgdc_accuracy balanced_accuracy geometric_mean_score\n",
      "23633.03832769394 151.92598509788513 99.931 64.946 64.946 0.494 0.381\n"
     ]
    }
   ],
   "source": [
    "result_accuracy = benchmarkClassifier(bagging, \"Bagging Classifier\", X_train_encoded, y_train2, \n",
    "                                      X_test_encoded, y_test2)\n",
    "\n",
    "print('training_time', 'test_time', 'train_score', 'test_score', 'test_accuracy', 'balanced_accuracy', 'geometric_mean_score')\n",
    "print(result_accuracy[0], result_accuracy[1], result_accuracy[2], result_accuracy[3],result_accuracy[4],\n",
    "     result_accuracy[5], result_accuracy[6])\n",
    "std_model_names.append(\"Bagging Classifier\") \n",
    "std_training_times.append(result_accuracy[0]) \n",
    "std_testing_times.append(result_accuracy[1])   \n",
    "std_train_scores.append(result_accuracy[2]) \n",
    "std_test_scores.append(result_accuracy[3])\n",
    "std_baccuracy_score.append(result_accuracy[5])\n",
    "std_geo_mean_score.append(result_accuracy[6])"
   ]
  },
  {
   "cell_type": "code",
   "execution_count": 76,
   "id": "22cd4c1d",
   "metadata": {},
   "outputs": [
    {
     "data": {
      "text/plain": [
       "9818.934656858444"
      ]
     },
     "execution_count": 76,
     "metadata": {},
     "output_type": "execute_result"
    }
   ],
   "source": [
    "start_time = time.time()\n",
    "bagging.fit(X_train_encoded, y_train2)\n",
    "end_time = time.time()\n",
    "bc_training_time = end_time - start_time\n",
    "bc_training_time"
   ]
  },
  {
   "cell_type": "code",
   "execution_count": 77,
   "id": "e6861737",
   "metadata": {},
   "outputs": [
    {
     "data": {
      "text/plain": [
       "87.58561491966248"
      ]
     },
     "execution_count": 77,
     "metadata": {},
     "output_type": "execute_result"
    }
   ],
   "source": [
    "start_time = time.time()\n",
    "y_pred_bc = bagging.predict(X_test_encoded)\n",
    "end_time = time.time()\n",
    "bc_test_time = end_time - start_time\n",
    "bc_test_time"
   ]
  },
  {
   "cell_type": "code",
   "execution_count": 152,
   "id": "824f20ee",
   "metadata": {},
   "outputs": [],
   "source": [
    "balanced_bagging = BalancedBaggingClassifier(n_estimators=50, random_state=0)"
   ]
  },
  {
   "cell_type": "code",
   "execution_count": 153,
   "id": "03af07b1",
   "metadata": {},
   "outputs": [
    {
     "name": "stdout",
     "output_type": "stream",
     "text": [
      "Model: Balanced Bagging Classifier\n",
      "---------------------------------------------------------------------------\n",
      "Classification Report imbalanced :\n",
      "                          pre       rec       spe        f1       geo       iba       sup\n",
      "\n",
      "Blessé hospitalisé       0.43      0.46      0.85      0.45      0.62      0.37     93507\n",
      "      Blessé léger       0.64      0.52      0.84      0.57      0.66      0.42    165057\n",
      "           Indemne       0.77      0.76      0.84      0.77      0.80      0.64    187549\n",
      "               Tué       0.17      0.54      0.93      0.26      0.71      0.48     12235\n",
      "\n",
      "       avg / total       0.64      0.61      0.84      0.62      0.71      0.50    458348\n",
      "\n",
      "---------------------------------------------------------------------------\n",
      "Confusion Matrix:\n",
      "[[ 42845  22945   9245  18472]\n",
      " [ 37601  85304  33488   8664]\n",
      " [ 14451  24133 143126   5839]\n",
      " [  4117    883    616   6619]]\n",
      "---------------------------------------------------------------------------\n",
      "Balanced accuracy: 0.570 - Geometric mean: 0.559\n",
      "===========================================================================\n",
      "training_time test_time train_score test_score test_accuracy balanced_accuracy geometric_mean_score\n",
      "2824.0896260738373 67.82817387580872 69.972 60.629 60.629 0.57 0.559\n"
     ]
    }
   ],
   "source": [
    "result_accuracy = benchmarkClassifier(balanced_bagging, \"Balanced Bagging Classifier\", X_train_encoded, y_train2, \n",
    "                                      X_test_encoded, y_test2)\n",
    "\n",
    "print('training_time', 'test_time', 'train_score', 'test_score', 'test_accuracy', 'balanced_accuracy', 'geometric_mean_score')\n",
    "print(result_accuracy[0], result_accuracy[1], result_accuracy[2], result_accuracy[3],result_accuracy[4],\n",
    "     result_accuracy[5], result_accuracy[6])\n",
    "std_model_names.append(\"Balanced Bagging Classifier\") \n",
    "std_training_times.append(result_accuracy[0]) \n",
    "std_testing_times.append(result_accuracy[1])   \n",
    "std_train_scores.append(result_accuracy[2]) \n",
    "std_test_scores.append(result_accuracy[3])\n",
    "std_baccuracy_score.append(result_accuracy[5])\n",
    "std_geo_mean_score.append(result_accuracy[6])"
   ]
  },
  {
   "cell_type": "code",
   "execution_count": 72,
   "id": "aa34f6e9",
   "metadata": {},
   "outputs": [
    {
     "data": {
      "text/plain": [
       "15961.768054008484"
      ]
     },
     "execution_count": 72,
     "metadata": {},
     "output_type": "execute_result"
    }
   ],
   "source": [
    "balanced_bagging = BalancedBaggingClassifier(n_estimators=50, random_state=0)\n",
    "\n",
    "start_time = time.time()\n",
    "balanced_bagging.fit(X_train_encoded, y_train2)\n",
    "end_time = time.time()\n",
    "bbc_training_time = end_time - start_time\n",
    "bbc_training_time"
   ]
  },
  {
   "cell_type": "code",
   "execution_count": 73,
   "id": "3707f57a",
   "metadata": {},
   "outputs": [
    {
     "data": {
      "text/plain": [
       "59.46463108062744"
      ]
     },
     "execution_count": 73,
     "metadata": {},
     "output_type": "execute_result"
    }
   ],
   "source": [
    "start_time = time.time()\n",
    "y_pred_bbc = balanced_bagging.predict(X_test_encoded)\n",
    "end_time = time.time()\n",
    "bbc_test_time = end_time - start_time\n",
    "bbc_test_time"
   ]
  },
  {
   "cell_type": "code",
   "execution_count": null,
   "id": "2d2ec53e",
   "metadata": {},
   "outputs": [],
   "source": [
    "print(\"Bagging classifier performance:\")\n",
    "print(\n",
    "    f\"Balanced accuracy: {balanced_accuracy_score(y_test2, y_pred_bc):.2f} - \"\n",
    "    f\"Geometric mean {geometric_mean_score(y_test2, y_pred_bc):.2f}\"\n",
    ")"
   ]
  },
  {
   "cell_type": "code",
   "execution_count": 78,
   "id": "a25163fb",
   "metadata": {},
   "outputs": [
    {
     "name": "stdout",
     "output_type": "stream",
     "text": [
      "Balanced Bagging classifier performance:\n",
      "Balanced accuracy: 0.57 - Geometric mean 0.56\n"
     ]
    }
   ],
   "source": [
    "print(\"Balanced Bagging classifier performance:\")\n",
    "print(\n",
    "    f\"Balanced accuracy: {balanced_accuracy_score(y_test2, y_pred_bbc):.2f} - \"\n",
    "    f\"Geometric mean {geometric_mean_score(y_test2, y_pred_bbc):.2f}\"\n",
    ")"
   ]
  },
  {
   "cell_type": "code",
   "execution_count": null,
   "id": "2e0992fb",
   "metadata": {},
   "outputs": [],
   "source": [
    "fig, axs = plt.subplots(ncols=2, figsize=(10, 5))\n",
    "ConfusionMatrixDisplay.from_estimator(\n",
    "    bagging, X_test_encoded, y_test2, ax=axs[0], colorbar=False\n",
    ")\n",
    "axs[0].set_title(\"Bagging\")\n",
    "\n",
    "ConfusionMatrixDisplay.from_estimator(\n",
    "    balanced_bagging, X_test_encoded, y_test2, ax=axs[1], colorbar=False\n",
    ")\n",
    "axs[1].set_title(\"Balanced Bagging\")\n",
    "\n",
    "fig.tight_layout()"
   ]
  },
  {
   "cell_type": "markdown",
   "id": "8a81a83d",
   "metadata": {},
   "source": [
    "### <a id = \"rf_std\">Les forêts aléatoires</a>"
   ]
  },
  {
   "cell_type": "code",
   "execution_count": 140,
   "id": "7de667e0",
   "metadata": {},
   "outputs": [],
   "source": [
    "rf = RandomForestClassifier(n_estimators=50, random_state=5)"
   ]
  },
  {
   "cell_type": "code",
   "execution_count": null,
   "id": "3e56bea0",
   "metadata": {},
   "outputs": [],
   "source": [
    "start_time = time.time()\n",
    "rf.fit(X_train_encoded, y_train2)\n",
    "end_time = time.time()\n",
    "execution_time = end_time - start_time"
   ]
  },
  {
   "cell_type": "code",
   "execution_count": 73,
   "id": "680528ca",
   "metadata": {},
   "outputs": [
    {
     "data": {
      "text/plain": [
       "786.9894618988037"
      ]
     },
     "execution_count": 73,
     "metadata": {},
     "output_type": "execute_result"
    }
   ],
   "source": [
    "#std_training_times.append(execution_time)\n",
    "#std_model_names.append(\"Random_Forest_Classifier\") \n",
    "execution_time"
   ]
  },
  {
   "cell_type": "code",
   "execution_count": 74,
   "id": "7054da81",
   "metadata": {},
   "outputs": [
    {
     "data": {
      "text/plain": [
       "27.869361877441406"
      ]
     },
     "execution_count": 74,
     "metadata": {},
     "output_type": "execute_result"
    }
   ],
   "source": [
    "start_time = time.time()\n",
    "y_pred_rf = rf.predict(X_test_encoded)\n",
    "end_time = time.time()\n",
    "rf_test_time = end_time - start_time\n",
    "rf_test_time"
   ]
  },
  {
   "cell_type": "code",
   "execution_count": 141,
   "id": "33f85d96",
   "metadata": {},
   "outputs": [
    {
     "name": "stdout",
     "output_type": "stream",
     "text": [
      "Model: Random Forest Classifier\n",
      "---------------------------------------------------------------------------\n",
      "Classification Report imbalanced :\n",
      "                          pre       rec       spe        f1       geo       iba       sup\n",
      "\n",
      "Blessé hospitalisé       0.53      0.44      0.90      0.48      0.63      0.38     93507\n",
      "      Blessé léger       0.62      0.63      0.78      0.63      0.70      0.49    165057\n",
      "           Indemne       0.73      0.83      0.79      0.78      0.81      0.66    187549\n",
      "               Tué       0.41      0.06      1.00      0.11      0.25      0.05     12235\n",
      "\n",
      "       avg / total       0.64      0.66      0.82      0.64      0.72      0.52    458348\n",
      "\n",
      "---------------------------------------------------------------------------\n",
      "Confusion Matrix:\n",
      "[[ 41201  37093  14440    773]\n",
      " [ 20385 104354  40144    174]\n",
      " [  7994  24455 154970    130]\n",
      " [  7712   2357   1428    738]]\n",
      "---------------------------------------------------------------------------\n",
      "Balanced accuracy: 0.490 - Geometric mean: 0.343\n",
      "===========================================================================\n",
      "training_time test_time train_score test_score sgdc_accuracy balanced_accuracy geometric_mean_score\n",
      "966.6799049377441 43.12959909439087 99.939 65.728 65.728 0.49 0.343\n"
     ]
    }
   ],
   "source": [
    "# Entraînement l'algorithme sur l'ensemble d'entraînement \n",
    "result_accuracy = benchmarkClassifier(rf, \"Random Forest Classifier\", X_train_encoded, y_train2, \n",
    "                                      X_test_encoded, y_test2)\n",
    "\n",
    "print('training_time', 'test_time', 'train_score', 'test_score', 'sgdc_accuracy', 'balanced_accuracy', 'geometric_mean_score')\n",
    "print(result_accuracy[0], result_accuracy[1], result_accuracy[2], result_accuracy[3],result_accuracy[4],\n",
    "     result_accuracy[5], result_accuracy[6])\n",
    "std_model_names.append(\"Random_Forest_Classifier\") \n",
    "std_training_times.append(result_accuracy[0]) \n",
    "std_testing_times.append(result_accuracy[1])   \n",
    "std_train_scores.append(result_accuracy[2]) \n",
    "std_test_scores.append(result_accuracy[3])\n",
    "std_baccuracy_score.append(result_accuracy[5])\n",
    "std_geo_mean_score.append(result_accuracy[6])"
   ]
  },
  {
   "cell_type": "markdown",
   "id": "1ec2a887",
   "metadata": {},
   "source": [
    "### <a id = \"rfrt_std\">Forest of randomized trees</a>\n",
    "\n",
    "BalancedRandomForestClassifier is another ensemble method in which each tree of the forest will be provided a balanced bootstrap sample [CLB+04]. This class provides all functionality of the RandomForestClassifier:"
   ]
  },
  {
   "cell_type": "code",
   "execution_count": 142,
   "id": "19f7e009",
   "metadata": {},
   "outputs": [],
   "source": [
    "brf = BalancedRandomForestClassifier(\n",
    "    n_estimators=100, random_state=0, sampling_strategy=\"all\", replacement=True\n",
    ")"
   ]
  },
  {
   "cell_type": "code",
   "execution_count": 143,
   "id": "c27bdf74",
   "metadata": {},
   "outputs": [
    {
     "name": "stdout",
     "output_type": "stream",
     "text": [
      "Model: Balanced Random Forest Classifier\n",
      "---------------------------------------------------------------------------\n",
      "Classification Report imbalanced :\n",
      "                          pre       rec       spe        f1       geo       iba       sup\n",
      "\n",
      "Blessé hospitalisé       0.44      0.42      0.86      0.43      0.60      0.35     93507\n",
      "      Blessé léger       0.65      0.52      0.85      0.58      0.66      0.42    165057\n",
      "           Indemne       0.76      0.79      0.83      0.77      0.81      0.65    187549\n",
      "               Tué       0.17      0.59      0.92      0.26      0.74      0.53     12235\n",
      "\n",
      "       avg / total       0.64      0.61      0.84      0.62      0.71      0.50    458348\n",
      "\n",
      "---------------------------------------------------------------------------\n",
      "Confusion Matrix:\n",
      "[[ 39314  23285  10130  20778]\n",
      " [ 33949  85602  36555   8951]\n",
      " [ 12332  21075 147880   6262]\n",
      " [  3327    934    697   7277]]\n",
      "---------------------------------------------------------------------------\n",
      "Balanced accuracy: 0.581 - Geometric mean: 0.565\n",
      "===========================================================================\n",
      "training_time test_time train_score test_score sgdc_accuracy balanced_accuracy geometric_mean_score\n",
      "345.42558884620667 25.440797090530396 68.46 61.105 61.105 0.581 0.565\n"
     ]
    }
   ],
   "source": [
    "result_accuracy = benchmarkClassifier(brf, \"Balanced Random Forest Classifier\", X_train_encoded, y_train2, \n",
    "                                      X_test_encoded, y_test2)\n",
    "\n",
    "print('training_time', 'test_time', 'train_score', 'test_score', 'sgdc_accuracy', 'balanced_accuracy', 'geometric_mean_score')\n",
    "print(result_accuracy[0], result_accuracy[1], result_accuracy[2], result_accuracy[3],result_accuracy[4],\n",
    "     result_accuracy[5], result_accuracy[6])\n",
    "std_model_names.append(\"Balanced_Random_Forest_Classifier\") \n",
    "std_training_times.append(result_accuracy[0]) \n",
    "std_testing_times.append(result_accuracy[1])   \n",
    "std_train_scores.append(result_accuracy[2]) \n",
    "std_test_scores.append(result_accuracy[3])\n",
    "std_baccuracy_score.append(result_accuracy[5])\n",
    "std_geo_mean_score.append(result_accuracy[6])"
   ]
  },
  {
   "cell_type": "code",
   "execution_count": 76,
   "id": "9c68287f",
   "metadata": {},
   "outputs": [
    {
     "data": {
      "text/plain": [
       "243.0217308998108"
      ]
     },
     "execution_count": 76,
     "metadata": {},
     "output_type": "execute_result"
    }
   ],
   "source": [
    "start_time = time.time()\n",
    "brf.fit(X_train_encoded, y_train2)\n",
    "end_time = time.time()\n",
    "brf_training_time = end_time - start_time\n",
    "brf_training_time"
   ]
  },
  {
   "cell_type": "code",
   "execution_count": 77,
   "id": "b7dc2834",
   "metadata": {},
   "outputs": [
    {
     "data": {
      "text/plain": [
       "23.364213943481445"
      ]
     },
     "execution_count": 77,
     "metadata": {},
     "output_type": "execute_result"
    }
   ],
   "source": [
    "start_time = time.time()\n",
    "y_pred_brf = brf.predict(X_test_encoded)\n",
    "end_time = time.time()\n",
    "brf_test_time = end_time - start_time\n",
    "brf_test_time"
   ]
  },
  {
   "cell_type": "code",
   "execution_count": 84,
   "id": "f2ade586",
   "metadata": {},
   "outputs": [
    {
     "name": "stdout",
     "output_type": "stream",
     "text": [
      "Balanced Random Forest classifier performance:\n",
      "Balanced accuracy: 0.58 - \n"
     ]
    }
   ],
   "source": [
    "balanced_accuracy_score(y_test2, y_pred_brf)\n",
    "print(\"Balanced Random Forest classifier performance:\")\n",
    "print(\n",
    "    f\"Balanced accuracy: {balanced_accuracy_score(y_test2, y_pred_brf):.2f} - \")"
   ]
  },
  {
   "cell_type": "code",
   "execution_count": 78,
   "id": "eabdd369",
   "metadata": {},
   "outputs": [
    {
     "name": "stdout",
     "output_type": "stream",
     "text": [
      "Random Forest classifier performance:\n",
      "Balanced accuracy: 0.49 - Geometric mean 0.34\n",
      "Balanced Random Forest classifier performance:\n",
      "Balanced accuracy: 0.58 - Geometric mean 0.57\n"
     ]
    }
   ],
   "source": [
    "print(\"Random Forest classifier performance:\")\n",
    "print(\n",
    "    f\"Balanced accuracy: {balanced_accuracy_score(y_test2, y_pred_rf):.2f} - \"\n",
    "    f\"Geometric mean {geometric_mean_score(y_test2, y_pred_rf):.2f}\"\n",
    ")\n",
    "print(\"Balanced Random Forest classifier performance:\")\n",
    "print(\n",
    "    f\"Balanced accuracy: {balanced_accuracy_score(y_test2, y_pred_brf):.2f} - \"\n",
    "    f\"Geometric mean {geometric_mean_score(y_test2, y_pred_brf):.2f}\"\n",
    ")"
   ]
  },
  {
   "cell_type": "code",
   "execution_count": 79,
   "id": "af181e1d",
   "metadata": {},
   "outputs": [
    {
     "data": {
      "image/png": "[encoded data removed]",
      "text/plain": [
       "<Figure size 1000x500 with 2 Axes>"
      ]
     },
     "metadata": {},
     "output_type": "display_data"
    }
   ],
   "source": [
    "fig, axs = plt.subplots(ncols=2, figsize=(10, 5))\n",
    "ConfusionMatrixDisplay.from_estimator(rf, X_test_encoded, y_test2, ax=axs[0], colorbar=False)\n",
    "axs[0].set_title(\"Random forest\")\n",
    "\n",
    "ConfusionMatrixDisplay.from_estimator(brf, X_test_encoded, y_test2, ax=axs[1], colorbar=False)\n",
    "axs[1].set_title(\"Balanced random forest\")\n",
    "\n",
    "fig.tight_layout()"
   ]
  },
  {
   "cell_type": "markdown",
   "id": "19042225",
   "metadata": {},
   "source": [
    "##### Plot Precision-Recall curve for each class and iso-f1 curves"
   ]
  },
  {
   "cell_type": "code",
   "execution_count": null,
   "id": "9ee96474",
   "metadata": {},
   "outputs": [],
   "source": [
    "\n",
    "\n",
    "# setup plot details\n",
    "colors = cycle([\"navy\", \"turquoise\", \"darkorange\", \"cornflowerblue\", \"teal\"])\n",
    "\n",
    "_, ax = plt.subplots(figsize=(7, 8))\n",
    "\n",
    "f_scores = np.linspace(0.2, 0.8, num=4)\n",
    "lines, labels = [], []\n",
    "for f_score in f_scores:\n",
    "    x = np.linspace(0.01, 1)\n",
    "    y = f_score * x / (2 * x - f_score)\n",
    "    (l,) = plt.plot(x[y >= 0], y[y >= 0], color=\"gray\", alpha=0.2)\n",
    "    plt.annotate(\"f1={0:0.1f}\".format(f_score), xy=(0.9, y[45] + 0.02))\n",
    "\n",
    "display = PrecisionRecallDisplay(\n",
    "    recall=recall[\"micro\"],\n",
    "    precision=precision[\"micro\"],\n",
    "    average_precision=average_precision[\"micro\"],\n",
    ")\n",
    "display.plot(ax=ax, name=\"Micro-average precision-recall\", color=\"gold\")\n",
    "\n",
    "for i, color in zip(range(n_classes), colors):\n",
    "    display = PrecisionRecallDisplay(\n",
    "        recall=recall[i],\n",
    "        precision=precision[i],\n",
    "        average_precision=average_precision[i],\n",
    "    )\n",
    "    display.plot(ax=ax, name=f\"Precision-recall for class {i}\", color=color)\n",
    "\n",
    "# add the legend for the iso-f1 curves\n",
    "handles, labels = display.ax_.get_legend_handles_labels()\n",
    "handles.extend([l])\n",
    "labels.extend([\"iso-f1 curves\"])\n",
    "# set the legend and the axes\n",
    "ax.set_xlim([0.0, 1.0])\n",
    "ax.set_ylim([0.0, 1.05])\n",
    "ax.legend(handles=handles, labels=labels, loc=\"best\")\n",
    "ax.set_title(\"Extension of Precision-Recall curve to multi-class\")\n",
    "\n",
    "plt.show()"
   ]
  },
  {
   "cell_type": "code",
   "execution_count": null,
   "id": "9b09ed80",
   "metadata": {},
   "outputs": [],
   "source": [
    "scores = cross_val_score(model, X_train, y_train, cv=cross_val, scoring='roc_auc_ovo')\n",
    "import sklearn\n",
    "sorted(sklearn.metrics.SCORERS.keys())"
   ]
  },
  {
   "cell_type": "markdown",
   "id": "d4c6c564",
   "metadata": {},
   "source": [
    "### <a id = \"boosting_std\">Boosting classifier</a>"
   ]
  },
  {
   "cell_type": "code",
   "execution_count": 145,
   "id": "fb1d1fe4",
   "metadata": {},
   "outputs": [],
   "source": [
    "estimator = AdaBoostClassifier(n_estimators=10)"
   ]
  },
  {
   "cell_type": "code",
   "execution_count": 146,
   "id": "b1fb1170",
   "metadata": {},
   "outputs": [],
   "source": [
    "eec = EasyEnsembleClassifier(n_estimators=10, estimator=estimator)"
   ]
  },
  {
   "cell_type": "code",
   "execution_count": 147,
   "id": "210234c4",
   "metadata": {},
   "outputs": [
    {
     "name": "stdout",
     "output_type": "stream",
     "text": [
      "Model: Easy Ensemble Classifier\n",
      "---------------------------------------------------------------------------\n",
      "Classification Report imbalanced :\n",
      "                          pre       rec       spe        f1       geo       iba       sup\n",
      "\n",
      "Blessé hospitalisé       0.39      0.22      0.91      0.28      0.45      0.18     93507\n",
      "      Blessé léger       0.61      0.37      0.87      0.46      0.57      0.30    165057\n",
      "           Indemne       0.66      0.82      0.70      0.73      0.76      0.58    187549\n",
      "               Tué       0.10      0.61      0.85      0.18      0.72      0.51     12235\n",
      "\n",
      "       avg / total       0.57      0.53      0.81      0.53      0.62      0.40    458348\n",
      "\n",
      "---------------------------------------------------------------------------\n",
      "Confusion Matrix:\n",
      "[[ 20324  22412  20095  30676]\n",
      " [ 24555  60906  58989  20607]\n",
      " [  4963  15329 153728  13529]\n",
      " [  2139    981   1698   7417]]\n",
      "---------------------------------------------------------------------------\n",
      "Balanced accuracy: 0.503 - Geometric mean: 0.447\n",
      "===========================================================================\n",
      "training_time test_time train_score test_score test_accuracy balanced_accuracy geometric_mean_score\n",
      "366.96796107292175 56.381591796875 52.875 52.88 52.88 0.503 0.447\n"
     ]
    }
   ],
   "source": [
    "result_accuracy = benchmarkClassifier(eec, \"Easy Ensemble Classifier\", X_train_encoded, y_train2, \n",
    "                                      X_test_encoded, y_test2)\n",
    "\n",
    "print('training_time', 'test_time', 'train_score', 'test_score', 'test_accuracy', 'balanced_accuracy', 'geometric_mean_score')\n",
    "print(result_accuracy[0], result_accuracy[1], result_accuracy[2], result_accuracy[3],result_accuracy[4],\n",
    "     result_accuracy[5], result_accuracy[6])\n",
    "std_model_names.append(\"Easy Ensemble Classifier\") \n",
    "std_training_times.append(result_accuracy[0]) \n",
    "std_testing_times.append(result_accuracy[1])   \n",
    "std_train_scores.append(result_accuracy[2]) \n",
    "std_test_scores.append(result_accuracy[3])\n",
    "std_baccuracy_score.append(result_accuracy[5])\n",
    "std_geo_mean_score.append(result_accuracy[6])"
   ]
  },
  {
   "cell_type": "code",
   "execution_count": 73,
   "id": "698fe7fb",
   "metadata": {},
   "outputs": [
    {
     "name": "stdout",
     "output_type": "stream",
     "text": [
      "507.19273710250854\n"
     ]
    }
   ],
   "source": [
    "\n",
    "\n",
    "start_time = time.time()\n",
    "eec.fit(X_train_encoded, y_train2)\n",
    "end_time = time.time()\n",
    "eec_training_time = end_time - start_time\n",
    "print(eec_training_time)"
   ]
  },
  {
   "cell_type": "code",
   "execution_count": 74,
   "id": "40ed3e07",
   "metadata": {},
   "outputs": [
    {
     "name": "stdout",
     "output_type": "stream",
     "text": [
      "49.60826897621155\n"
     ]
    }
   ],
   "source": [
    "start_time = time.time()\n",
    "y_pred_eec = eec.predict(X_test_encoded)\n",
    "end_time = time.time()\n",
    "eec_test_time = end_time - start_time\n",
    "print(eec_test_time)"
   ]
  },
  {
   "cell_type": "markdown",
   "id": "510e9a3a",
   "metadata": {},
   "source": [
    "Random under-sampling integrated in the learning of AdaBoost."
   ]
  },
  {
   "cell_type": "code",
   "execution_count": 148,
   "id": "3bc12c32",
   "metadata": {},
   "outputs": [],
   "source": [
    "rusboost = RUSBoostClassifier(n_estimators=10, estimator=estimator)"
   ]
  },
  {
   "cell_type": "code",
   "execution_count": 149,
   "id": "a08318fb",
   "metadata": {},
   "outputs": [
    {
     "name": "stdout",
     "output_type": "stream",
     "text": [
      "Model: Random under-sampling AdaBoost Classifier\n",
      "---------------------------------------------------------------------------\n",
      "Classification Report imbalanced :\n",
      "                          pre       rec       spe        f1       geo       iba       sup\n",
      "\n",
      "Blessé hospitalisé       0.41      0.26      0.90      0.32      0.49      0.22     93507\n",
      "      Blessé léger       0.62      0.39      0.86      0.48      0.58      0.32    165057\n",
      "           Indemne       0.67      0.81      0.72      0.73      0.76      0.59    187549\n",
      "               Tué       0.11      0.60      0.87      0.18      0.72      0.50     12235\n",
      "\n",
      "       avg / total       0.58      0.54      0.81      0.54      0.64      0.42    458348\n",
      "\n",
      "---------------------------------------------------------------------------\n",
      "Confusion Matrix:\n",
      "[[ 24658  23521  16819  28509]\n",
      " [ 25778  64463  56978  17838]\n",
      " [  6552  15670 151484  13843]\n",
      " [  2566   1061   1290   7318]]\n",
      "---------------------------------------------------------------------------\n",
      "Balanced accuracy: 0.515 - Geometric mean: 0.472\n",
      "===========================================================================\n",
      "training_time test_time train_score test_score test_accuracy balanced_accuracy geometric_mean_score\n",
      "448.8950831890106 49.028801918029785 54.049 54.091 54.091 0.515 0.472\n"
     ]
    }
   ],
   "source": [
    "result_accuracy = benchmarkClassifier(rusboost, \"Random under-sampling AdaBoost Classifier\", X_train_encoded, y_train2, \n",
    "                                      X_test_encoded, y_test2)\n",
    "\n",
    "print('training_time', 'test_time', 'train_score', 'test_score', 'test_accuracy', 'balanced_accuracy', 'geometric_mean_score')\n",
    "print(result_accuracy[0], result_accuracy[1], result_accuracy[2], result_accuracy[3],result_accuracy[4],\n",
    "     result_accuracy[5], result_accuracy[6])\n",
    "std_model_names.append(\"Random under-sampling AdaBoost Classifier\") \n",
    "std_training_times.append(result_accuracy[0]) \n",
    "std_testing_times.append(result_accuracy[1])   \n",
    "std_train_scores.append(result_accuracy[2]) \n",
    "std_test_scores.append(result_accuracy[3])\n",
    "std_baccuracy_score.append(result_accuracy[5])\n",
    "std_geo_mean_score.append(result_accuracy[6])"
   ]
  },
  {
   "cell_type": "code",
   "execution_count": 75,
   "id": "1f892859",
   "metadata": {},
   "outputs": [
    {
     "name": "stdout",
     "output_type": "stream",
     "text": [
      "392.8191637992859\n",
      "42.198992013931274\n"
     ]
    }
   ],
   "source": [
    "\n",
    "\n",
    "start_time = time.time()\n",
    "rusboost.fit(X_train_encoded, y_train2)\n",
    "end_time = time.time()\n",
    "rusboost_training_time = end_time - start_time\n",
    "print(rusboost_training_time)\n",
    "\n",
    "start_time = time.time()\n",
    "y_pred_rusboost = rusboost.predict(X_test_encoded)\n",
    "end_time = time.time()\n",
    "rusboost_test_time = end_time - start_time\n",
    "print(rusboost_test_time)"
   ]
  },
  {
   "cell_type": "code",
   "execution_count": 78,
   "id": "6d4d2a88",
   "metadata": {},
   "outputs": [
    {
     "name": "stdout",
     "output_type": "stream",
     "text": [
      "Easy ensemble classifier performance:\n",
      "Balanced accuracy: 0.50 - Geometric mean 0.45\n",
      "RUSBoost classifier performance:\n",
      "Balanced accuracy: 0.52 - Geometric mean 0.47\n"
     ]
    }
   ],
   "source": [
    "print(\"Easy ensemble classifier performance:\")\n",
    "print(\n",
    "    f\"Balanced accuracy: {balanced_accuracy_score(y_test2, y_pred_eec):.2f} - \"\n",
    "    f\"Geometric mean {geometric_mean_score(y_test2, y_pred_eec):.2f}\"\n",
    ")\n",
    "print(\"RUSBoost classifier performance:\")\n",
    "print(\n",
    "    f\"Balanced accuracy: {balanced_accuracy_score(y_test2, y_pred_rusboost):.2f} - \"\n",
    "    f\"Geometric mean {geometric_mean_score(y_test2, y_pred_rusboost):.2f}\"\n",
    ")"
   ]
  },
  {
   "cell_type": "code",
   "execution_count": 79,
   "id": "f9e663cc",
   "metadata": {},
   "outputs": [
    {
     "data": {
      "image/png": "[encoded data removed]",
      "text/plain": [
       "<Figure size 1000x500 with 2 Axes>"
      ]
     },
     "metadata": {},
     "output_type": "display_data"
    }
   ],
   "source": [
    "fig, axs = plt.subplots(ncols=2, figsize=(10, 5))\n",
    "\n",
    "ConfusionMatrixDisplay.from_estimator(eec, X_test_encoded, y_test2, ax=axs[0], colorbar=False)\n",
    "axs[0].set_title(\"Easy Ensemble\")\n",
    "ConfusionMatrixDisplay.from_estimator(\n",
    "    rusboost, X_test_encoded, y_test2, ax=axs[1], colorbar=False\n",
    ")\n",
    "axs[1].set_title(\"RUSBoost classifier\")\n",
    "\n",
    "fig.tight_layout()\n",
    "plt.show()"
   ]
  },
  {
   "cell_type": "code",
   "execution_count": 80,
   "id": "6fd428e8",
   "metadata": {},
   "outputs": [
    {
     "data": {
      "text/plain": [
       "0.5278783806190929"
      ]
     },
     "execution_count": 80,
     "metadata": {},
     "output_type": "execute_result"
    }
   ],
   "source": [
    "#Score du modèle eec \n",
    "eec.score(X_test_encoded, y_test2)"
   ]
  },
  {
   "cell_type": "code",
   "execution_count": 81,
   "id": "c7fb3fb7",
   "metadata": {},
   "outputs": [
    {
     "data": {
      "text/plain": [
       "0.5409819613045109"
      ]
     },
     "execution_count": 81,
     "metadata": {},
     "output_type": "execute_result"
    }
   ],
   "source": [
    "#Score du modèle rusboost \n",
    "rusboost.score(X_test_encoded, y_test2)"
   ]
  },
  {
   "cell_type": "markdown",
   "id": "712da6a1",
   "metadata": {},
   "source": [
    "### <a id = \"tb_std\">Tablau comparatif</a>"
   ]
  },
  {
   "cell_type": "code",
   "execution_count": 154,
   "id": "07bc7dee",
   "metadata": {},
   "outputs": [
    {
     "data": {
      "text/html": [
       "<div>\n",
       "<style scoped>\n",
       "    .dataframe tbody tr th:only-of-type {\n",
       "        vertical-align: middle;\n",
       "    }\n",
       "\n",
       "    .dataframe tbody tr th {\n",
       "        vertical-align: top;\n",
       "    }\n",
       "\n",
       "    .dataframe thead th {\n",
       "        text-align: right;\n",
       "    }\n",
       "</style>\n",
       "<table border=\"1\" class=\"dataframe\">\n",
       "  <thead>\n",
       "    <tr style=\"text-align: right;\">\n",
       "      <th></th>\n",
       "      <th>Model Name</th>\n",
       "      <th>Train time</th>\n",
       "      <th>Test time</th>\n",
       "      <th>Train score</th>\n",
       "      <th>Test score</th>\n",
       "      <th>balanced_accuracy</th>\n",
       "      <th>geometric_mean_score</th>\n",
       "    </tr>\n",
       "  </thead>\n",
       "  <tbody>\n",
       "    <tr>\n",
       "      <th>0</th>\n",
       "      <td>Stochastic_Gradient-Descent</td>\n",
       "      <td>38.634431</td>\n",
       "      <td>0.723625</td>\n",
       "      <td>63.210</td>\n",
       "      <td>62.546</td>\n",
       "      <td>0.460</td>\n",
       "      <td>0.085</td>\n",
       "    </tr>\n",
       "    <tr>\n",
       "      <th>1</th>\n",
       "      <td>Stochastic_Gradient_Descent1500</td>\n",
       "      <td>119.896145</td>\n",
       "      <td>1.126454</td>\n",
       "      <td>64.358</td>\n",
       "      <td>61.128</td>\n",
       "      <td>0.407</td>\n",
       "      <td>0.084</td>\n",
       "    </tr>\n",
       "    <tr>\n",
       "      <th>2</th>\n",
       "      <td>Logistic_Regression</td>\n",
       "      <td>2645.558733</td>\n",
       "      <td>1.735986</td>\n",
       "      <td>62.559</td>\n",
       "      <td>64.350</td>\n",
       "      <td>0.471</td>\n",
       "      <td>0.306</td>\n",
       "    </tr>\n",
       "    <tr>\n",
       "      <th>3</th>\n",
       "      <td>Ridge Classifier</td>\n",
       "      <td>46.943504</td>\n",
       "      <td>1.313771</td>\n",
       "      <td>61.165</td>\n",
       "      <td>63.227</td>\n",
       "      <td>0.441</td>\n",
       "      <td>0.097</td>\n",
       "    </tr>\n",
       "    <tr>\n",
       "      <th>4</th>\n",
       "      <td>Random_Forest_Classifier</td>\n",
       "      <td>966.679905</td>\n",
       "      <td>43.129599</td>\n",
       "      <td>64.358</td>\n",
       "      <td>65.728</td>\n",
       "      <td>0.490</td>\n",
       "      <td>0.343</td>\n",
       "    </tr>\n",
       "    <tr>\n",
       "      <th>5</th>\n",
       "      <td>Balanced_Random_Forest_Classifier</td>\n",
       "      <td>345.425589</td>\n",
       "      <td>25.440797</td>\n",
       "      <td>63.210</td>\n",
       "      <td>61.105</td>\n",
       "      <td>0.581</td>\n",
       "      <td>0.565</td>\n",
       "    </tr>\n",
       "    <tr>\n",
       "      <th>6</th>\n",
       "      <td>Easy Ensemble Classifier</td>\n",
       "      <td>366.967961</td>\n",
       "      <td>56.381592</td>\n",
       "      <td>99.939</td>\n",
       "      <td>52.880</td>\n",
       "      <td>0.503</td>\n",
       "      <td>0.447</td>\n",
       "    </tr>\n",
       "    <tr>\n",
       "      <th>7</th>\n",
       "      <td>Random under-sampling AdaBoost Classifier</td>\n",
       "      <td>448.895083</td>\n",
       "      <td>49.028802</td>\n",
       "      <td>68.460</td>\n",
       "      <td>54.091</td>\n",
       "      <td>0.515</td>\n",
       "      <td>0.472</td>\n",
       "    </tr>\n",
       "    <tr>\n",
       "      <th>8</th>\n",
       "      <td>Bagging Classifier</td>\n",
       "      <td>23633.038328</td>\n",
       "      <td>151.925985</td>\n",
       "      <td>52.875</td>\n",
       "      <td>64.946</td>\n",
       "      <td>0.494</td>\n",
       "      <td>0.381</td>\n",
       "    </tr>\n",
       "    <tr>\n",
       "      <th>9</th>\n",
       "      <td>Balanced Bagging Classifier</td>\n",
       "      <td>2824.089626</td>\n",
       "      <td>67.828174</td>\n",
       "      <td>54.049</td>\n",
       "      <td>60.629</td>\n",
       "      <td>0.570</td>\n",
       "      <td>0.559</td>\n",
       "    </tr>\n",
       "  </tbody>\n",
       "</table>\n",
       "</div>"
      ],
      "text/plain": [
       "                                  Model Name    Train time   Test time  \\\n",
       "0                Stochastic_Gradient-Descent     38.634431    0.723625   \n",
       "1            Stochastic_Gradient_Descent1500    119.896145    1.126454   \n",
       "2                        Logistic_Regression   2645.558733    1.735986   \n",
       "3                           Ridge Classifier     46.943504    1.313771   \n",
       "4                   Random_Forest_Classifier    966.679905   43.129599   \n",
       "5          Balanced_Random_Forest_Classifier    345.425589   25.440797   \n",
       "6                   Easy Ensemble Classifier    366.967961   56.381592   \n",
       "7  Random under-sampling AdaBoost Classifier    448.895083   49.028802   \n",
       "8                         Bagging Classifier  23633.038328  151.925985   \n",
       "9                Balanced Bagging Classifier   2824.089626   67.828174   \n",
       "\n",
       "   Train score  Test score  balanced_accuracy  geometric_mean_score  \n",
       "0       63.210      62.546              0.460                 0.085  \n",
       "1       64.358      61.128              0.407                 0.084  \n",
       "2       62.559      64.350              0.471                 0.306  \n",
       "3       61.165      63.227              0.441                 0.097  \n",
       "4       64.358      65.728              0.490                 0.343  \n",
       "5       63.210      61.105              0.581                 0.565  \n",
       "6       99.939      52.880              0.503                 0.447  \n",
       "7       68.460      54.091              0.515                 0.472  \n",
       "8       52.875      64.946              0.494                 0.381  \n",
       "9       54.049      60.629              0.570                 0.559  "
      ]
     },
     "execution_count": 154,
     "metadata": {},
     "output_type": "execute_result"
    }
   ],
   "source": [
    "# Calling DataFrame constructor after zipping\n",
    "# both lists, with columns specified\n",
    "Standardised_results = pd.DataFrame(list(zip(std_model_names, std_training_times, std_testing_times, std_train_scores, std_test_scores, std_baccuracy_score, std_geo_mean_score)),\n",
    "                  columns =['Model Name', 'Train time', 'Test time', 'Train score', 'Test score', 'balanced_accuracy', 'geometric_mean_score']\n",
    "                 )\n",
    "# Exporting the RESULT DataFrame into a CSV file\n",
    "Standardised_results.to_csv('Acc_Results_Standardised.csv')\n",
    "Standardised_results"
   ]
  },
  {
   "cell_type": "raw",
   "id": "acfa1021",
   "metadata": {},
   "source": [
    "result_accuracy = benchmarkClassifier(ridge_clf, \"Ridge Classifier\", X_train_encoded, y_train2, \n",
    "                                      X_test_encoded, y_test2)\n",
    "\n",
    "print('training_time', 'test_time', 'train_score', 'test_score', 'sgdc_accuracy', 'balanced_accuracy', 'geometric_mean_score')\n",
    "print(result_accuracy[0], result_accuracy[1], result_accuracy[2], result_accuracy[3],result_accuracy[4],\n",
    "     result_accuracy[5], result_accuracy[6])\n",
    "std_model_names.append(\"Ridge Classifier\") \n",
    "std_training_times.append(result_accuracy[0]) \n",
    "std_testing_times.append(result_accuracy[1])   \n",
    "std_train_scores.append(result_accuracy[2]) \n",
    "std_test_scores.append(result_accuracy[3])\n",
    "std_baccuracy_score.append(result_accuracy[5])\n",
    "std_geo_mean_score.append(result_accuracy[6])"
   ]
  },
  {
   "cell_type": "markdown",
   "id": "3f71cd98",
   "metadata": {},
   "source": [
    "<div class=\"alert alert-block alert-info\">\n",
    "<h2><a id = \"data_desequilibre\">Jeux de données déséquilibrés</a></h2>\n",
    "</div>\n"
   ]
  },
  {
   "cell_type": "markdown",
   "id": "45dbf7a7",
   "metadata": {},
   "source": [
    "#####  Sur-échantillonnage (Oversampling) "
   ]
  },
  {
   "cell_type": "code",
   "execution_count": 92,
   "id": "a9647140",
   "metadata": {},
   "outputs": [
    {
     "name": "stdout",
     "output_type": "stream",
     "text": [
      "41.59516382217407\n",
      "RandomOverSampler resampled dataset shape Counter({'Blessé hospitalisé': 750194, 'Blessé léger': 750194, 'Tué': 750194, 'Indemne': 750194})\n"
     ]
    }
   ],
   "source": [
    "# (a) A partir de X_train et y_train, création de deux nouveaux ensembles de données : \n",
    "# (X_ro, y_ro) obtenus par Oversampling aléatoire (RandomOverSampler) \n",
    "randomOs = RandomOverSampler()\n",
    "start_time = time.time()\n",
    "X_ro, y_ro = randomOs.fit_resample(X_train_encoded, y_train2)\n",
    "end_time = time.time()\n",
    "execution_time = end_time - start_time\n",
    "print(execution_time)\n",
    "print('RandomOverSampler resampled dataset shape %s' % Counter(y_ro))\n"
   ]
  },
  {
   "cell_type": "code",
   "execution_count": 78,
   "id": "e1c33965",
   "metadata": {},
   "outputs": [
    {
     "data": {
      "text/html": [
       "<div>\n",
       "<style scoped>\n",
       "    .dataframe tbody tr th:only-of-type {\n",
       "        vertical-align: middle;\n",
       "    }\n",
       "\n",
       "    .dataframe tbody tr th {\n",
       "        vertical-align: top;\n",
       "    }\n",
       "\n",
       "    .dataframe thead th {\n",
       "        text-align: right;\n",
       "    }\n",
       "</style>\n",
       "<table border=\"1\" class=\"dataframe\">\n",
       "  <thead>\n",
       "    <tr style=\"text-align: right;\">\n",
       "      <th></th>\n",
       "      <th>jour_de_la_semaine</th>\n",
       "      <th>heure</th>\n",
       "      <th>place_0.0</th>\n",
       "      <th>place_1.0</th>\n",
       "      <th>place_10.0</th>\n",
       "      <th>place_2.0</th>\n",
       "      <th>place_3.0</th>\n",
       "      <th>place_4.0</th>\n",
       "      <th>place_5.0</th>\n",
       "      <th>place_6.0</th>\n",
       "      <th>...</th>\n",
       "      <th>col_Deux véhicules – par le coté</th>\n",
       "      <th>col_Deux véhicules – par l’arrière</th>\n",
       "      <th>col_Non renseigné</th>\n",
       "      <th>col_Sans collision</th>\n",
       "      <th>col_Trois véhicules et plus - collisions multiples</th>\n",
       "      <th>col_Trois véhicules et plus – en chaîne</th>\n",
       "      <th>age_acc_an</th>\n",
       "      <th>nbv</th>\n",
       "      <th>occutc</th>\n",
       "      <th>0</th>\n",
       "    </tr>\n",
       "  </thead>\n",
       "  <tbody>\n",
       "    <tr>\n",
       "      <th>0</th>\n",
       "      <td>3.0</td>\n",
       "      <td>8.0</td>\n",
       "      <td>0.0</td>\n",
       "      <td>1.0</td>\n",
       "      <td>0.0</td>\n",
       "      <td>0.0</td>\n",
       "      <td>0.0</td>\n",
       "      <td>0.0</td>\n",
       "      <td>0.0</td>\n",
       "      <td>0.0</td>\n",
       "      <td>...</td>\n",
       "      <td>0.0</td>\n",
       "      <td>0.0</td>\n",
       "      <td>0.0</td>\n",
       "      <td>0.0</td>\n",
       "      <td>0.0</td>\n",
       "      <td>0.0</td>\n",
       "      <td>2.290336</td>\n",
       "      <td>-0.742861</td>\n",
       "      <td>-0.046606</td>\n",
       "      <td>NaN</td>\n",
       "    </tr>\n",
       "    <tr>\n",
       "      <th>1</th>\n",
       "      <td>6.0</td>\n",
       "      <td>8.0</td>\n",
       "      <td>0.0</td>\n",
       "      <td>1.0</td>\n",
       "      <td>0.0</td>\n",
       "      <td>0.0</td>\n",
       "      <td>0.0</td>\n",
       "      <td>0.0</td>\n",
       "      <td>0.0</td>\n",
       "      <td>0.0</td>\n",
       "      <td>...</td>\n",
       "      <td>0.0</td>\n",
       "      <td>0.0</td>\n",
       "      <td>0.0</td>\n",
       "      <td>1.0</td>\n",
       "      <td>0.0</td>\n",
       "      <td>0.0</td>\n",
       "      <td>-0.249871</td>\n",
       "      <td>-0.087437</td>\n",
       "      <td>-0.046606</td>\n",
       "      <td>NaN</td>\n",
       "    </tr>\n",
       "    <tr>\n",
       "      <th>2</th>\n",
       "      <td>4.0</td>\n",
       "      <td>0.0</td>\n",
       "      <td>0.0</td>\n",
       "      <td>1.0</td>\n",
       "      <td>0.0</td>\n",
       "      <td>0.0</td>\n",
       "      <td>0.0</td>\n",
       "      <td>0.0</td>\n",
       "      <td>0.0</td>\n",
       "      <td>0.0</td>\n",
       "      <td>...</td>\n",
       "      <td>0.0</td>\n",
       "      <td>0.0</td>\n",
       "      <td>0.0</td>\n",
       "      <td>0.0</td>\n",
       "      <td>0.0</td>\n",
       "      <td>0.0</td>\n",
       "      <td>-0.746996</td>\n",
       "      <td>-0.087437</td>\n",
       "      <td>-0.046606</td>\n",
       "      <td>NaN</td>\n",
       "    </tr>\n",
       "    <tr>\n",
       "      <th>3</th>\n",
       "      <td>0.0</td>\n",
       "      <td>15.0</td>\n",
       "      <td>0.0</td>\n",
       "      <td>1.0</td>\n",
       "      <td>0.0</td>\n",
       "      <td>0.0</td>\n",
       "      <td>0.0</td>\n",
       "      <td>0.0</td>\n",
       "      <td>0.0</td>\n",
       "      <td>0.0</td>\n",
       "      <td>...</td>\n",
       "      <td>0.0</td>\n",
       "      <td>0.0</td>\n",
       "      <td>0.0</td>\n",
       "      <td>0.0</td>\n",
       "      <td>1.0</td>\n",
       "      <td>0.0</td>\n",
       "      <td>-0.305208</td>\n",
       "      <td>1.223410</td>\n",
       "      <td>-0.046606</td>\n",
       "      <td>NaN</td>\n",
       "    </tr>\n",
       "    <tr>\n",
       "      <th>4</th>\n",
       "      <td>2.0</td>\n",
       "      <td>23.0</td>\n",
       "      <td>0.0</td>\n",
       "      <td>1.0</td>\n",
       "      <td>0.0</td>\n",
       "      <td>0.0</td>\n",
       "      <td>0.0</td>\n",
       "      <td>0.0</td>\n",
       "      <td>0.0</td>\n",
       "      <td>0.0</td>\n",
       "      <td>...</td>\n",
       "      <td>0.0</td>\n",
       "      <td>0.0</td>\n",
       "      <td>0.0</td>\n",
       "      <td>0.0</td>\n",
       "      <td>1.0</td>\n",
       "      <td>0.0</td>\n",
       "      <td>2.069290</td>\n",
       "      <td>-0.087437</td>\n",
       "      <td>-0.046606</td>\n",
       "      <td>NaN</td>\n",
       "    </tr>\n",
       "  </tbody>\n",
       "</table>\n",
       "<p>5 rows × 267 columns</p>\n",
       "</div>"
      ],
      "text/plain": [
       "   jour_de_la_semaine  heure  place_0.0  place_1.0  place_10.0  place_2.0  \\\n",
       "0                 3.0    8.0        0.0        1.0         0.0        0.0   \n",
       "1                 6.0    8.0        0.0        1.0         0.0        0.0   \n",
       "2                 4.0    0.0        0.0        1.0         0.0        0.0   \n",
       "3                 0.0   15.0        0.0        1.0         0.0        0.0   \n",
       "4                 2.0   23.0        0.0        1.0         0.0        0.0   \n",
       "\n",
       "   place_3.0  place_4.0  place_5.0  place_6.0  ...  \\\n",
       "0        0.0        0.0        0.0        0.0  ...   \n",
       "1        0.0        0.0        0.0        0.0  ...   \n",
       "2        0.0        0.0        0.0        0.0  ...   \n",
       "3        0.0        0.0        0.0        0.0  ...   \n",
       "4        0.0        0.0        0.0        0.0  ...   \n",
       "\n",
       "   col_Deux véhicules – par le coté  col_Deux véhicules – par l’arrière  \\\n",
       "0                               0.0                                 0.0   \n",
       "1                               0.0                                 0.0   \n",
       "2                               0.0                                 0.0   \n",
       "3                               0.0                                 0.0   \n",
       "4                               0.0                                 0.0   \n",
       "\n",
       "   col_Non renseigné  col_Sans collision  \\\n",
       "0                0.0                 0.0   \n",
       "1                0.0                 1.0   \n",
       "2                0.0                 0.0   \n",
       "3                0.0                 0.0   \n",
       "4                0.0                 0.0   \n",
       "\n",
       "   col_Trois véhicules et plus - collisions multiples  \\\n",
       "0                                                0.0    \n",
       "1                                                0.0    \n",
       "2                                                0.0    \n",
       "3                                                1.0    \n",
       "4                                                1.0    \n",
       "\n",
       "   col_Trois véhicules et plus – en chaîne  age_acc_an       nbv    occutc  \\\n",
       "0                                      0.0    2.290336 -0.742861 -0.046606   \n",
       "1                                      0.0   -0.249871 -0.087437 -0.046606   \n",
       "2                                      0.0   -0.746996 -0.087437 -0.046606   \n",
       "3                                      0.0   -0.305208  1.223410 -0.046606   \n",
       "4                                      0.0    2.069290 -0.087437 -0.046606   \n",
       "\n",
       "     0  \n",
       "0  NaN  \n",
       "1  NaN  \n",
       "2  NaN  \n",
       "3  NaN  \n",
       "4  NaN  \n",
       "\n",
       "[5 rows x 267 columns]"
      ]
     },
     "execution_count": 78,
     "metadata": {},
     "output_type": "execute_result"
    }
   ],
   "source": [
    "# Creating Dataframe\n",
    "df_randomOS = pd.concat([X_ro, X_test_encoded, y_ro, y_test2])\n",
    "# Exporting the DataFrame into a CSV file\n",
    "df_randomOS.to_csv('Acc_Results_data_randomOS.csv')\n",
    "df_randomOS.head()"
   ]
  },
  {
   "cell_type": "code",
   "execution_count": 93,
   "id": "a7d03c14",
   "metadata": {},
   "outputs": [
    {
     "name": "stdout",
     "output_type": "stream",
     "text": [
      "17393.02422809601\n",
      "SMOTE resampled dataset shape Counter({'Blessé hospitalisé': 750194, 'Blessé léger': 750194, 'Tué': 750194, 'Indemne': 750194})\n"
     ]
    }
   ],
   "source": [
    "# et (X_sm, y_sm) obtenus par SMOTE (SMOTE).\n",
    "smote = SMOTE()\n",
    "start_time = time.time()\n",
    "X_sm, y_sm = smote.fit_resample(X_train_encoded, y_train2)\n",
    "end_time = time.time()\n",
    "execution_time = end_time - start_time\n",
    "print(execution_time)\n",
    "print('SMOTE resampled dataset shape %s' % Counter(y_sm))"
   ]
  },
  {
   "cell_type": "code",
   "execution_count": null,
   "id": "f6b23532",
   "metadata": {},
   "outputs": [],
   "source": [
    "# Creating Dataframe\n",
    "df_smote = pd.concat([X_ro, X_test_encoded, y_ro, y_test2])\n",
    "# Exporting the DataFrame into a CSV file\n",
    "df_smote.to_csv('Acc_Results_data_smoteOS.csv')\n",
    "df_smote.head()"
   ]
  },
  {
   "cell_type": "code",
   "execution_count": 140,
   "id": "d085420a",
   "metadata": {},
   "outputs": [
    {
     "data": {
      "text/plain": [
       "pandas.core.frame.DataFrame"
      ]
     },
     "execution_count": 140,
     "metadata": {},
     "output_type": "execute_result"
    }
   ],
   "source": [
    "type(X_ro)"
   ]
  },
  {
   "cell_type": "code",
   "execution_count": 141,
   "id": "c8b79efd",
   "metadata": {},
   "outputs": [
    {
     "data": {
      "text/plain": [
       "Index(['jour_de_la_semaine', 'place_0.0', 'place_1.0', 'place_10.0',\n",
       "       'place_2.0', 'place_3.0', 'place_4.0', 'place_5.0', 'place_6.0',\n",
       "       'place_7.0',\n",
       "       ...\n",
       "       'col_Deux véhicules – par le coté',\n",
       "       'col_Deux véhicules – par l’arrière', 'col_Non renseigné',\n",
       "       'col_Sans collision',\n",
       "       'col_Trois véhicules et plus - collisions multiples',\n",
       "       'col_Trois véhicules et plus – en chaîne', 'age_acc_an', 'nbv',\n",
       "       'occutc', 'heure'],\n",
       "      dtype='object', length=266)"
      ]
     },
     "execution_count": 141,
     "metadata": {},
     "output_type": "execute_result"
    }
   ],
   "source": [
    "X_ro.columns"
   ]
  },
  {
   "cell_type": "code",
   "execution_count": 79,
   "id": "0a19be91",
   "metadata": {},
   "outputs": [],
   "source": [
    "os_model_names=[]\n",
    "os_training_times=[]\n",
    "os_testing_times=[]\n",
    "os_test_scores=[]"
   ]
  },
  {
   "cell_type": "code",
   "execution_count": 146,
   "id": "dc195eaf",
   "metadata": {},
   "outputs": [
    {
     "name": "stdout",
     "output_type": "stream",
     "text": [
      "col_0               Blessé hospitalisé  Blessé léger  Indemne    Tué\n",
      "grav                                                                \n",
      "Indemne                          10827         22314   145341   9067\n",
      "Blessé léger                     30984         86842    33688  13543\n",
      "Blessé hospitalisé               34161         22684     9301  27361\n",
      "Tué                               2386           824      601   8424\n",
      "Classification Report imbalanced :\n",
      "                          pre       rec       spe        f1       geo       iba       sup\n",
      "\n",
      "Blessé hospitalisé       0.44      0.37      0.88      0.40      0.57      0.30     93507\n",
      "      Blessé léger       0.65      0.53      0.84      0.58      0.67      0.43    165057\n",
      "           Indemne       0.77      0.77      0.84      0.77      0.81      0.65    187549\n",
      "               Tué       0.14      0.69      0.89      0.24      0.78      0.60     12235\n",
      "\n",
      "       avg / total       0.64      0.60      0.85      0.61      0.71      0.50    458348\n",
      "\n"
     ]
    }
   ],
   "source": [
    "# Création et entrainement modèles\n",
    "# Classifier using Logistic Regression\n",
    "training_time, test_time, test_score, logreg_accuracy_ro = benchmarkClassifier(hist_gradient_boosting, \n",
    "                                            \"hist_gradient_boosting\", X_ro, y_ro, X_test_encoded, y_test2)\n",
    "os_model_names.append(\"RandOS_hist_gradient_boosting\") \n",
    "os_training_times.append(training_time) \n",
    "os_testing_times.append(test_time) \n",
    "os_test_scores.append(test_score)\n",
    "# X_train_encoded, X_test_encoded, y_train2, y_test2"
   ]
  },
  {
   "cell_type": "code",
   "execution_count": 103,
   "id": "67857838",
   "metadata": {},
   "outputs": [
    {
     "name": "stdout",
     "output_type": "stream",
     "text": [
      "Model: hist_gradient_boosting\n",
      "---------------------------------------------------------------------------\n",
      "Classification Report imbalanced :\n",
      "                          pre       rec       spe        f1       geo       iba       sup\n",
      "\n",
      "Blessé hospitalisé       0.44      0.37      0.88      0.40      0.57      0.31     93507\n",
      "      Blessé léger       0.66      0.52      0.85      0.58      0.67      0.43    165057\n",
      "           Indemne       0.77      0.78      0.84      0.77      0.81      0.65    187549\n",
      "               Tué       0.14      0.69      0.89      0.24      0.78      0.60     12235\n",
      "\n",
      "       avg / total       0.64      0.60      0.85      0.61      0.71      0.50    458348\n",
      "\n",
      "---------------------------------------------------------------------------\n",
      "Confusion Matrix:\n",
      "[[ 34302  22502   9410  27293]\n",
      " [ 31010  86429  34091  13527]\n",
      " [ 10898  21885 145744   9022]\n",
      " [  2370    838    606   8421]]\n",
      "---------------------------------------------------------------------------\n",
      "Balanced accuracy: 0.589 - Geometric mean: 0.566\n",
      "---------------------------------------------------------------------------\n",
      "Mean AUC Score: 0.8155946907336787  temps execution en secondes :  29228.277912139893\n",
      "===========================================================================\n",
      "training_time test_time train_score test_score hgbc_accuracy balanced_accuracy geometric_mean_score\n",
      "629.3970158100128 5.26541805267334 59.736 59.975 59.975 0.589 0.566\n"
     ]
    }
   ],
   "source": [
    "result_accuracy = benchmarkClassifier(hist_gradient_boosting, \"hist_gradient_boosting\",  X_ro, y_ro, \n",
    "                                      X_test_encoded, y_test2)\n",
    "\n",
    "print('training_time', 'test_time', 'train_score', 'test_score', 'hgbc_accuracy', 'balanced_accuracy', 'geometric_mean_score')\n",
    "print(result_accuracy[0], result_accuracy[1], result_accuracy[2], result_accuracy[3],result_accuracy[4],\n",
    "     result_accuracy[5], result_accuracy[6])"
   ]
  },
  {
   "cell_type": "code",
   "execution_count": 147,
   "id": "547db1fc",
   "metadata": {},
   "outputs": [
    {
     "name": "stdout",
     "output_type": "stream",
     "text": [
      "col_0               Blessé hospitalisé  Blessé léger  Indemne   Tué\n",
      "grav                                                               \n",
      "Indemne                           9584         22882   154517   566\n",
      "Blessé léger                     23022        100730    40567   738\n",
      "Blessé hospitalisé               42311         34034    14116  3046\n",
      "Tué                               6769          1915     1403  2148\n",
      "Classification Report imbalanced :\n",
      "                          pre       rec       spe        f1       geo       iba       sup\n",
      "\n",
      "Blessé hospitalisé       0.52      0.45      0.89      0.48      0.64      0.39     93507\n",
      "      Blessé léger       0.63      0.61      0.80      0.62      0.70      0.48    165057\n",
      "           Indemne       0.73      0.82      0.79      0.78      0.81      0.66    187549\n",
      "               Tué       0.33      0.18      0.99      0.23      0.42      0.16     12235\n",
      "\n",
      "       avg / total       0.64      0.65      0.82      0.65      0.72      0.52    458348\n",
      "\n"
     ]
    }
   ],
   "source": [
    "# Création et entrainement modèles après SMOTE\n",
    "training_time, test_time, test_score, ridge_accuracy_sm = benchmarkClassifier(HistGradientBoostingClassifier, \n",
    "                                            \"hist_gradient_boosting\", X_sm, y_sm, X_test_encoded, y_test2)\n",
    "print(training_time, test_time, test_score, ridge_accuracy_sm)\n",
    "os_model_names.append(\"Smote_hist_gradient_boosting\") \n",
    "os_training_times.append(training_time) \n",
    "os_testing_times.append(test_time) \n",
    "os_test_scores.append(test_score)"
   ]
  },
  {
   "cell_type": "code",
   "execution_count": 104,
   "id": "6f65a96d",
   "metadata": {},
   "outputs": [
    {
     "name": "stdout",
     "output_type": "stream",
     "text": [
      "Model: hist_gradient_boosting\n",
      "---------------------------------------------------------------------------\n",
      "Classification Report imbalanced :\n",
      "                          pre       rec       spe        f1       geo       iba       sup\n",
      "\n",
      "Blessé hospitalisé       0.52      0.45      0.89      0.48      0.63      0.38     93507\n",
      "      Blessé léger       0.63      0.61      0.80      0.62      0.70      0.48    165057\n",
      "           Indemne       0.73      0.82      0.79      0.78      0.81      0.66    187549\n",
      "               Tué       0.35      0.16      0.99      0.22      0.40      0.15     12235\n",
      "\n",
      "       avg / total       0.64      0.65      0.82      0.65      0.72      0.52    458348\n",
      "\n",
      "---------------------------------------------------------------------------\n",
      "Confusion Matrix:\n",
      "[[ 42137  34427  14290   2653]\n",
      " [ 22553 101312  40576    616]\n",
      " [  9341  23023 154705    480]\n",
      " [  6894   1908   1448   1985]]\n",
      "---------------------------------------------------------------------------\n",
      "Balanced accuracy: 0.513 - Geometric mean: 0.439\n",
      "---------------------------------------------------------------------------\n",
      "Mean AUC Score: 0.8155946907336787  temps execution en secondes :  34677.2691950798\n",
      "===========================================================================\n",
      "training_time test_time train_score test_score hgbc_accuracy_sm balanced_accuracy geometric_mean_score\n",
      "685.3310770988464 4.8042566776275635 69.153 65.483 65.483 0.513 0.439\n"
     ]
    }
   ],
   "source": [
    "result_accuracy = benchmarkClassifier(hist_gradient_boosting, \"hist_gradient_boosting\", X_sm, y_sm, \n",
    "                                      X_test_encoded, y_test2)\n",
    "\n",
    "print('training_time', 'test_time', 'train_score', 'test_score', 'hgbc_accuracy_sm', 'balanced_accuracy', 'geometric_mean_score')\n",
    "print(result_accuracy[0], result_accuracy[1], result_accuracy[2], result_accuracy[3],result_accuracy[4],\n",
    "     result_accuracy[5], result_accuracy[6])"
   ]
  },
  {
   "cell_type": "code",
   "execution_count": 156,
   "id": "5d99f7fb",
   "metadata": {},
   "outputs": [
    {
     "name": "stdout",
     "output_type": "stream",
     "text": [
      "Model: Ridge Classifier\n",
      "---------------------------------------------------------------------------\n",
      "Classification Report :\n",
      "                    precision    recall  f1-score   support\n",
      "\n",
      "Blessé hospitalisé       0.45      0.25      0.32     93507\n",
      "      Blessé léger       0.65      0.47      0.55    165057\n",
      "           Indemne       0.72      0.81      0.76    187549\n",
      "               Tué       0.11      0.70      0.20     12235\n",
      "\n",
      "          accuracy                           0.57    458348\n",
      "         macro avg       0.48      0.56      0.46    458348\n",
      "      weighted avg       0.62      0.57      0.58    458348\n",
      "\n",
      "Confusion Matrix:\n",
      "[[ 23144  23407  13661  33295]\n",
      " [ 20971  78272  45297  20517]\n",
      " [  5527  17392 151669  12961]\n",
      " [  1667   1009    963   8596]]\n",
      "===========================================================================\n"
     ]
    }
   ],
   "source": [
    "# Classifier using Ridge regression\n",
    "training_time, test_time, test_score, ridge_accuracy_ro = benchmarkClassifier(ridge_clf, \n",
    "                                            \"Ridge Classifier\", X_ro, y_ro, X_test_encoded, y_test2)\n",
    "#print(training_time, test_time, test_scores, ridge_accuracy_ro)\n",
    "os_model_names.append(\"RandOS_Ridge_Classifier\") \n",
    "os_training_times.append(training_time) \n",
    "os_testing_times.append(test_time) \n",
    "os_test_scores.append(test_score)"
   ]
  },
  {
   "cell_type": "code",
   "execution_count": 158,
   "id": "57253786",
   "metadata": {},
   "outputs": [
    {
     "name": "stdout",
     "output_type": "stream",
     "text": [
      "Model: Ridge Classifier\n",
      "---------------------------------------------------------------------------\n",
      "Classification Report :\n",
      "                    precision    recall  f1-score   support\n",
      "\n",
      "Blessé hospitalisé       0.44      0.25      0.32     93507\n",
      "      Blessé léger       0.65      0.48      0.55    165057\n",
      "           Indemne       0.72      0.80      0.76    187549\n",
      "               Tué       0.11      0.69      0.20     12235\n",
      "\n",
      "          accuracy                           0.57    458348\n",
      "         macro avg       0.48      0.56      0.46    458348\n",
      "      weighted avg       0.62      0.57      0.58    458348\n",
      "\n",
      "Confusion Matrix:\n",
      "[[ 23455  23645  13597  32810]\n",
      " [ 21702  78926  44433  19996]\n",
      " [  5884  18633 150630  12402]\n",
      " [  1725   1083    990   8437]]\n",
      "===========================================================================\n",
      "188.36788606643677 1.0930750370025635 0.6325783029488511 0.5704137467601037\n"
     ]
    }
   ],
   "source": [
    "# Classifier using Ridge regression\n",
    "training_time, test_time, test_score, ridge_accuracy_sm = benchmarkClassifier(ridge_clf, \n",
    "                                            \"Ridge Classifier\", X_sm, y_sm, X_test_encoded, y_test2)\n",
    "print(training_time, test_time, test_score, ridge_accuracy_sm)\n",
    "os_model_names.append(\"Smote_Ridge_Classifier\") \n",
    "os_training_times.append(training_time) \n",
    "os_testing_times.append(test_time) \n",
    "os_test_scores.append(test_score)"
   ]
  },
  {
   "cell_type": "code",
   "execution_count": 108,
   "id": "1da7263d",
   "metadata": {},
   "outputs": [
    {
     "name": "stdout",
     "output_type": "stream",
     "text": [
      "Model: Ridge Classifier\n",
      "---------------------------------------------------------------------------\n",
      "Classification Report imbalanced :\n",
      "                          pre       rec       spe        f1       geo       iba       sup\n",
      "\n",
      "Blessé hospitalisé       0.44      0.25      0.92      0.32      0.48      0.22     93507\n",
      "      Blessé léger       0.64      0.48      0.85      0.55      0.64      0.39    165057\n",
      "           Indemne       0.72      0.80      0.78      0.76      0.79      0.63    187549\n",
      "               Tué       0.12      0.69      0.85      0.20      0.77      0.58     12235\n",
      "\n",
      "       avg / total       0.62      0.57      0.84      0.58      0.67      0.46    458348\n",
      "\n",
      "---------------------------------------------------------------------------\n",
      "Confusion Matrix:\n",
      "[[ 23619  23712  13570  32606]\n",
      " [ 22009  79029  44358  19661]\n",
      " [  5927  18721 150428  12473]\n",
      " [  1720   1100    995   8420]]\n",
      "---------------------------------------------------------------------------\n",
      "Balanced accuracy: 0.555 - Geometric mean: 0.508\n",
      "---------------------------------------------------------------------------\n"
     ]
    },
    {
     "name": "stderr",
     "output_type": "stream",
     "text": [
      "/opt/anaconda3/lib/python3.9/site-packages/sklearn/model_selection/_validation.py:770: UserWarning: Scoring failed. The score on this train-test partition for these parameters will be set to nan. Details: \n",
      "Traceback (most recent call last):\n",
      "  File \"/opt/anaconda3/lib/python3.9/site-packages/sklearn/model_selection/_validation.py\", line 761, in _score\n",
      "    scores = scorer(estimator, X_test, y_test)\n",
      "  File \"/opt/anaconda3/lib/python3.9/site-packages/sklearn/metrics/_scorer.py\", line 103, in __call__\n",
      "    score = scorer._score(cached_call, estimator, *args, **kwargs)\n",
      "  File \"/opt/anaconda3/lib/python3.9/site-packages/sklearn/metrics/_scorer.py\", line 298, in _score\n",
      "    y_pred = method_caller(clf, \"predict_proba\", X)\n",
      "  File \"/opt/anaconda3/lib/python3.9/site-packages/sklearn/metrics/_scorer.py\", line 68, in _cached_call\n",
      "    return getattr(estimator, method)(*args, **kwargs)\n",
      "AttributeError: 'RidgeClassifier' object has no attribute 'predict_proba'\n",
      "\n",
      "  warnings.warn(\n",
      "/opt/anaconda3/lib/python3.9/site-packages/sklearn/model_selection/_validation.py:770: UserWarning: Scoring failed. The score on this train-test partition for these parameters will be set to nan. Details: \n",
      "Traceback (most recent call last):\n",
      "  File \"/opt/anaconda3/lib/python3.9/site-packages/sklearn/model_selection/_validation.py\", line 761, in _score\n",
      "    scores = scorer(estimator, X_test, y_test)\n",
      "  File \"/opt/anaconda3/lib/python3.9/site-packages/sklearn/metrics/_scorer.py\", line 103, in __call__\n",
      "    score = scorer._score(cached_call, estimator, *args, **kwargs)\n",
      "  File \"/opt/anaconda3/lib/python3.9/site-packages/sklearn/metrics/_scorer.py\", line 298, in _score\n",
      "    y_pred = method_caller(clf, \"predict_proba\", X)\n",
      "  File \"/opt/anaconda3/lib/python3.9/site-packages/sklearn/metrics/_scorer.py\", line 68, in _cached_call\n",
      "    return getattr(estimator, method)(*args, **kwargs)\n",
      "AttributeError: 'RidgeClassifier' object has no attribute 'predict_proba'\n",
      "\n",
      "  warnings.warn(\n",
      "/opt/anaconda3/lib/python3.9/site-packages/sklearn/model_selection/_validation.py:770: UserWarning: Scoring failed. The score on this train-test partition for these parameters will be set to nan. Details: \n",
      "Traceback (most recent call last):\n",
      "  File \"/opt/anaconda3/lib/python3.9/site-packages/sklearn/model_selection/_validation.py\", line 761, in _score\n",
      "    scores = scorer(estimator, X_test, y_test)\n",
      "  File \"/opt/anaconda3/lib/python3.9/site-packages/sklearn/metrics/_scorer.py\", line 103, in __call__\n",
      "    score = scorer._score(cached_call, estimator, *args, **kwargs)\n",
      "  File \"/opt/anaconda3/lib/python3.9/site-packages/sklearn/metrics/_scorer.py\", line 298, in _score\n",
      "    y_pred = method_caller(clf, \"predict_proba\", X)\n",
      "  File \"/opt/anaconda3/lib/python3.9/site-packages/sklearn/metrics/_scorer.py\", line 68, in _cached_call\n",
      "    return getattr(estimator, method)(*args, **kwargs)\n",
      "AttributeError: 'RidgeClassifier' object has no attribute 'predict_proba'\n",
      "\n",
      "  warnings.warn(\n",
      "/opt/anaconda3/lib/python3.9/site-packages/sklearn/model_selection/_validation.py:770: UserWarning: Scoring failed. The score on this train-test partition for these parameters will be set to nan. Details: \n",
      "Traceback (most recent call last):\n",
      "  File \"/opt/anaconda3/lib/python3.9/site-packages/sklearn/model_selection/_validation.py\", line 761, in _score\n",
      "    scores = scorer(estimator, X_test, y_test)\n",
      "  File \"/opt/anaconda3/lib/python3.9/site-packages/sklearn/metrics/_scorer.py\", line 103, in __call__\n",
      "    score = scorer._score(cached_call, estimator, *args, **kwargs)\n",
      "  File \"/opt/anaconda3/lib/python3.9/site-packages/sklearn/metrics/_scorer.py\", line 298, in _score\n",
      "    y_pred = method_caller(clf, \"predict_proba\", X)\n",
      "  File \"/opt/anaconda3/lib/python3.9/site-packages/sklearn/metrics/_scorer.py\", line 68, in _cached_call\n",
      "    return getattr(estimator, method)(*args, **kwargs)\n",
      "AttributeError: 'RidgeClassifier' object has no attribute 'predict_proba'\n",
      "\n",
      "  warnings.warn(\n"
     ]
    },
    {
     "name": "stdout",
     "output_type": "stream",
     "text": [
      "Mean AUC Score: nan  temps execution en secondes :  140.57352232933044\n",
      "===========================================================================\n",
      "training_time test_time train_score test_score ridge_accuracy_sm balanced_accuracy geometric_mean_score\n",
      "112.13066291809082 0.9237959384918213 57.395 57.052 57.052 0.555 0.508\n"
     ]
    },
    {
     "name": "stderr",
     "output_type": "stream",
     "text": [
      "/opt/anaconda3/lib/python3.9/site-packages/sklearn/model_selection/_validation.py:770: UserWarning: Scoring failed. The score on this train-test partition for these parameters will be set to nan. Details: \n",
      "Traceback (most recent call last):\n",
      "  File \"/opt/anaconda3/lib/python3.9/site-packages/sklearn/model_selection/_validation.py\", line 761, in _score\n",
      "    scores = scorer(estimator, X_test, y_test)\n",
      "  File \"/opt/anaconda3/lib/python3.9/site-packages/sklearn/metrics/_scorer.py\", line 103, in __call__\n",
      "    score = scorer._score(cached_call, estimator, *args, **kwargs)\n",
      "  File \"/opt/anaconda3/lib/python3.9/site-packages/sklearn/metrics/_scorer.py\", line 298, in _score\n",
      "    y_pred = method_caller(clf, \"predict_proba\", X)\n",
      "  File \"/opt/anaconda3/lib/python3.9/site-packages/sklearn/metrics/_scorer.py\", line 68, in _cached_call\n",
      "    return getattr(estimator, method)(*args, **kwargs)\n",
      "AttributeError: 'RidgeClassifier' object has no attribute 'predict_proba'\n",
      "\n",
      "  warnings.warn(\n"
     ]
    }
   ],
   "source": [
    "result_accuracy = benchmarkClassifier(ridge_clf, \"Ridge Classifier\", X_sm, y_sm, \n",
    "                                      X_test_encoded, y_test2)\n",
    "\n",
    "print('training_time', 'test_time', 'train_score', 'test_score', 'ridge_accuracy_sm', 'balanced_accuracy', 'geometric_mean_score')\n",
    "print(result_accuracy[0], result_accuracy[1], result_accuracy[2], result_accuracy[3],result_accuracy[4],\n",
    "     result_accuracy[5], result_accuracy[6])"
   ]
  },
  {
   "cell_type": "code",
   "execution_count": 109,
   "id": "cdab7b63",
   "metadata": {},
   "outputs": [
    {
     "name": "stdout",
     "output_type": "stream",
     "text": [
      "Model: RandOS_Logistic_Regression\n",
      "---------------------------------------------------------------------------\n",
      "Classification Report imbalanced :\n",
      "                          pre       rec       spe        f1       geo       iba       sup\n",
      "\n",
      "Blessé hospitalisé       0.43      0.34      0.88      0.38      0.54      0.28     93507\n",
      "      Blessé léger       0.65      0.49      0.85      0.56      0.64      0.40    165057\n",
      "           Indemne       0.74      0.78      0.81      0.76      0.80      0.64    187549\n",
      "               Tué       0.13      0.66      0.88      0.22      0.76      0.57     12235\n",
      "\n",
      "       avg / total       0.63      0.58      0.84      0.60      0.69      0.48    458348\n",
      "\n",
      "---------------------------------------------------------------------------\n",
      "Confusion Matrix:\n",
      "[[ 31353  22942  10950  28262]\n",
      " [ 29980  80608  39040  15429]\n",
      " [  9657  20162 147162  10568]\n",
      " [  2483    942    730   8080]]\n",
      "---------------------------------------------------------------------------\n",
      "Balanced accuracy: 0.567 - Geometric mean: 0.540\n",
      "---------------------------------------------------------------------------\n",
      "Mean AUC Score: 0.7989633042359826  temps execution en secondes :  15061.172173023224\n",
      "===========================================================================\n",
      "training_time test_time train_score test_score RandOS_Logistic_Regression balanced_accuracy geometric_mean_score\n",
      "4361.034858942032 1.4822590351104736 56.965 58.297 58.297 0.567 0.54\n"
     ]
    }
   ],
   "source": [
    "# Classifier using Logistic Regression\n",
    "result_accuracy = benchmarkClassifier(logreg, \"RandOS_Logistic_Regression\", X_ro, y_ro, \n",
    "                                      X_test_encoded, y_test2)\n",
    "\n",
    "print('training_time', 'test_time', 'train_score', 'test_score', 'RandOS_Logistic_Regression', 'balanced_accuracy', 'geometric_mean_score')\n",
    "print(result_accuracy[0], result_accuracy[1], result_accuracy[2], result_accuracy[3],result_accuracy[4],\n",
    "     result_accuracy[5], result_accuracy[6])\n",
    "\n",
    "\n",
    "#os_model_names.append(\"RandOS_Logistic_Regression\") \n",
    "#os_training_times.append(training_time) \n",
    "#os_testing_times.append(test_time) \n",
    "#os_test_scores.append(test_score)"
   ]
  },
  {
   "cell_type": "code",
   "execution_count": 112,
   "id": "a2b5b33a",
   "metadata": {},
   "outputs": [
    {
     "name": "stderr",
     "output_type": "stream",
     "text": [
      "/opt/anaconda3/lib/python3.9/site-packages/sklearn/linear_model/_logistic.py:814: ConvergenceWarning: lbfgs failed to converge (status=1):\n",
      "STOP: TOTAL NO. of ITERATIONS REACHED LIMIT.\n",
      "\n",
      "Increase the number of iterations (max_iter) or scale the data as shown in:\n",
      "    https://scikit-learn.org/stable/modules/preprocessing.html\n",
      "Please also refer to the documentation for alternative solver options:\n",
      "    https://scikit-learn.org/stable/modules/linear_model.html#logistic-regression\n",
      "  n_iter_i = _check_optimize_result(\n"
     ]
    },
    {
     "name": "stdout",
     "output_type": "stream",
     "text": [
      "Model: Smote_Logistic_Regression\n",
      "---------------------------------------------------------------------------\n",
      "Classification Report imbalanced :\n",
      "                          pre       rec       spe        f1       geo       iba       sup\n",
      "\n",
      "Blessé hospitalisé       0.42      0.34      0.88      0.38      0.55      0.29     93507\n",
      "      Blessé léger       0.64      0.49      0.85      0.55      0.64      0.40    165057\n",
      "           Indemne       0.74      0.78      0.81      0.76      0.80      0.64    187549\n",
      "               Tué       0.13      0.64      0.88      0.22      0.75      0.56     12235\n",
      "\n",
      "       avg / total       0.63      0.58      0.84      0.60      0.69      0.48    458348\n",
      "\n",
      "---------------------------------------------------------------------------\n",
      "Confusion Matrix:\n",
      "[[ 32150  23200  10967  27190]\n",
      " [ 31190  80667  38733  14467]\n",
      " [ 10125  20885 146871   9668]\n",
      " [  2537   1056    777   7865]]\n",
      "---------------------------------------------------------------------------\n",
      "Balanced accuracy: 0.565 - Geometric mean: 0.539\n",
      "---------------------------------------------------------------------------\n",
      "Mean AUC Score: 0.7989633042359826  temps execution en secondes :  16169.988966226578\n",
      "===========================================================================\n",
      "training_time test_time train_score test_score logreg_accuracy_sm balanced_accuracy geometric_mean_score\n",
      "4404.9193379879 2.8040497303009033 58.333 58.373 58.373 0.565 0.539\n"
     ]
    }
   ],
   "source": [
    "result_accuracy = benchmarkClassifier(logreg, \"Smote_Logistic_Regression\", X_sm, y_sm, \n",
    "                                      X_test_encoded, y_test2)\n",
    "\n",
    "print('training_time', 'test_time', 'train_score', 'test_score', 'logreg_accuracy_sm', 'balanced_accuracy', 'geometric_mean_score')\n",
    "print(result_accuracy[0], result_accuracy[1], result_accuracy[2], result_accuracy[3],result_accuracy[4],\n",
    "     result_accuracy[5], result_accuracy[6])"
   ]
  },
  {
   "cell_type": "code",
   "execution_count": 159,
   "id": "a09580a4",
   "metadata": {},
   "outputs": [
    {
     "data": {
      "text/html": [
       "<div>\n",
       "<style scoped>\n",
       "    .dataframe tbody tr th:only-of-type {\n",
       "        vertical-align: middle;\n",
       "    }\n",
       "\n",
       "    .dataframe tbody tr th {\n",
       "        vertical-align: top;\n",
       "    }\n",
       "\n",
       "    .dataframe thead th {\n",
       "        text-align: right;\n",
       "    }\n",
       "</style>\n",
       "<table border=\"1\" class=\"dataframe\">\n",
       "  <thead>\n",
       "    <tr style=\"text-align: right;\">\n",
       "      <th></th>\n",
       "      <th>Model Name</th>\n",
       "      <th>Execution time</th>\n",
       "      <th>Test time</th>\n",
       "      <th>Test score</th>\n",
       "    </tr>\n",
       "  </thead>\n",
       "  <tbody>\n",
       "    <tr>\n",
       "      <th>0</th>\n",
       "      <td>RandOS_hist_gradient_boosting</td>\n",
       "      <td>654.468295</td>\n",
       "      <td>5.616827</td>\n",
       "      <td>0.599475</td>\n",
       "    </tr>\n",
       "    <tr>\n",
       "      <th>1</th>\n",
       "      <td>Smote_hist_gradient_boosting</td>\n",
       "      <td>742.777473</td>\n",
       "      <td>6.175871</td>\n",
       "      <td>0.653883</td>\n",
       "    </tr>\n",
       "    <tr>\n",
       "      <th>2</th>\n",
       "      <td>RandOS_Ridge_Classifier</td>\n",
       "      <td>372.139751</td>\n",
       "      <td>1.334252</td>\n",
       "      <td>0.570922</td>\n",
       "    </tr>\n",
       "    <tr>\n",
       "      <th>3</th>\n",
       "      <td>Smote_Ridge_Classifier</td>\n",
       "      <td>188.367886</td>\n",
       "      <td>1.093075</td>\n",
       "      <td>0.570414</td>\n",
       "    </tr>\n",
       "  </tbody>\n",
       "</table>\n",
       "</div>"
      ],
      "text/plain": [
       "                      Model Name  Execution time  Test time  Test score\n",
       "0  RandOS_hist_gradient_boosting      654.468295   5.616827    0.599475\n",
       "1   Smote_hist_gradient_boosting      742.777473   6.175871    0.653883\n",
       "2        RandOS_Ridge_Classifier      372.139751   1.334252    0.570922\n",
       "3         Smote_Ridge_Classifier      188.367886   1.093075    0.570414"
      ]
     },
     "execution_count": 159,
     "metadata": {},
     "output_type": "execute_result"
    }
   ],
   "source": [
    "# Calling DataFrame constructor after zipping\n",
    "# both lists, with columns specified\n",
    "overSampling_df_results = pd.DataFrame(list(zip(os_model_names, os_training_times, os_testing_times, os_test_scores)),\n",
    "                  columns =['Model Name', 'Execution time', 'Test time', 'Test score']\n",
    "                 )\n",
    "# Exporting the RESULT DataFrame into a CSV file\n",
    "overSampling_df_results.to_csv('Acc_Results_overSampling.csv')\n",
    "overSampling_df_results"
   ]
  },
  {
   "cell_type": "code",
   "execution_count": null,
   "id": "d07f477e",
   "metadata": {},
   "outputs": [],
   "source": []
  },
  {
   "cell_type": "markdown",
   "id": "411be6e6",
   "metadata": {},
   "source": [
    "##### Sous-échantillonnage (Undersampling)"
   ]
  },
  {
   "cell_type": "code",
   "execution_count": 113,
   "id": "644b7a3f",
   "metadata": {},
   "outputs": [
    {
     "name": "stdout",
     "output_type": "stream",
     "text": [
      "17.988421201705933\n",
      "RandomUnderSampler resampled dataset shape Counter({'Blessé hospitalisé': 48942, 'Blessé léger': 48942, 'Indemne': 48942, 'Tué': 48942})\n"
     ]
    }
   ],
   "source": [
    "# A partir de X_train et y_train, créer deux nouveaux ensembles de données \n",
    "# (X_ru, y_ru) obtenus par Undersampling aléatoire (RandomUnderSampler)\n",
    "rUs = RandomUnderSampler()\n",
    "start_time = time.time()\n",
    "X_ru, y_ru = rUs.fit_resample(X_train_encoded, y_train2)\n",
    "end_time = time.time()\n",
    "execution_time = end_time - start_time\n",
    "print(execution_time)\n",
    "\n",
    "# Affichage du nombre d'éléments de chaque classe du nouvel ensemble obtenu.\n",
    "print('RandomUnderSampler resampled dataset shape %s' % Counter(y_ru))"
   ]
  },
  {
   "cell_type": "raw",
   "id": "ccdb423b",
   "metadata": {
    "scrolled": true
   },
   "source": [
    "############## FAIS PLANTER LE NOYAU SANS MESSAGE D'EXPLICATION ##############\n",
    "cc = ClusterCentroids(random_state=99)\n",
    "start_time = time.time()\n",
    "X_cc, y_cc = cc.fit_resample(X_train_encoded, y_train2)\n",
    "end_time = time.time()\n",
    "execution_time = end_time - start_time\n",
    "print(execution_time)\n",
    "\n",
    "# Affichage du nombre d'éléments de chaque classe du nouvel ensemble obtenu.\n",
    "print('RandomUnderSampler resampled dataset shape %s' % Counter(y_cc))\n",
    "\n",
    "print(sorted(Counter(y_cc).items()))"
   ]
  },
  {
   "cell_type": "code",
   "execution_count": 114,
   "id": "bf5e05cd",
   "metadata": {},
   "outputs": [
    {
     "name": "stdout",
     "output_type": "stream",
     "text": [
      "Model: RandUnderS_Logistic_Regression\n",
      "---------------------------------------------------------------------------\n",
      "Classification Report imbalanced :\n",
      "                          pre       rec       spe        f1       geo       iba       sup\n",
      "\n",
      "Blessé hospitalisé       0.43      0.34      0.88      0.38      0.55      0.28     93507\n",
      "      Blessé léger       0.64      0.49      0.85      0.56      0.64      0.40    165057\n",
      "           Indemne       0.74      0.78      0.81      0.76      0.80      0.63    187549\n",
      "               Tué       0.13      0.66      0.88      0.22      0.76      0.57     12235\n",
      "\n",
      "       avg / total       0.63      0.58      0.84      0.59      0.69      0.48    458348\n",
      "\n",
      "---------------------------------------------------------------------------\n",
      "Confusion Matrix:\n",
      "[[ 31527  22896  10836  28248]\n",
      " [ 30394  80615  38578  15470]\n",
      " [  9681  20814 146442  10612]\n",
      " [  2444    977    723   8091]]\n",
      "---------------------------------------------------------------------------\n",
      "Balanced accuracy: 0.567 - Geometric mean: 0.540\n",
      "---------------------------------------------------------------------------\n",
      "Mean AUC Score: 0.7989633042359826  temps execution en secondes :  10929.198586940765\n",
      "===========================================================================\n",
      "training_time test_time train_score test_score logreg_accuracy_RandUnderS balanced_accuracy geometric_mean_score\n",
      "273.6296582221985 2.092026948928833 57.103 58.182 58.182 0.567 0.54\n"
     ]
    }
   ],
   "source": [
    "result_accuracy = benchmarkClassifier(logreg, \"RandUnderS_Logistic_Regression\", X_ru, y_ru, \n",
    "                                      X_test_encoded, y_test2)\n",
    "\n",
    "print('training_time', 'test_time', 'train_score', 'test_score', 'logreg_accuracy_RandUnderS', 'balanced_accuracy', 'geometric_mean_score')\n",
    "print(result_accuracy[0], result_accuracy[1], result_accuracy[2], result_accuracy[3],result_accuracy[4],\n",
    "     result_accuracy[5], result_accuracy[6])"
   ]
  },
  {
   "cell_type": "code",
   "execution_count": 115,
   "id": "68393d12",
   "metadata": {},
   "outputs": [
    {
     "name": "stdout",
     "output_type": "stream",
     "text": [
      "Model: Ridge Classifier\n",
      "---------------------------------------------------------------------------\n",
      "Classification Report imbalanced :\n",
      "                          pre       rec       spe        f1       geo       iba       sup\n",
      "\n",
      "Blessé hospitalisé       0.45      0.25      0.92      0.32      0.48      0.22     93507\n",
      "      Blessé léger       0.65      0.47      0.86      0.55      0.64      0.39    165057\n",
      "           Indemne       0.72      0.80      0.78      0.76      0.79      0.63    187549\n",
      "               Tué       0.11      0.70      0.85      0.20      0.77      0.59     12235\n",
      "\n",
      "       avg / total       0.62      0.57      0.84      0.58      0.67      0.46    458348\n",
      "\n",
      "---------------------------------------------------------------------------\n",
      "Confusion Matrix:\n",
      "[[ 23417  23319  13559  33212]\n",
      " [ 21674  78305  44714  20364]\n",
      " [  5562  18081 150886  13020]\n",
      " [  1664   1024    934   8613]]\n",
      "---------------------------------------------------------------------------\n",
      "Balanced accuracy: 0.558 - Geometric mean: 0.509\n",
      "---------------------------------------------------------------------------\n"
     ]
    },
    {
     "name": "stderr",
     "output_type": "stream",
     "text": [
      "/opt/anaconda3/lib/python3.9/site-packages/sklearn/model_selection/_validation.py:770: UserWarning: Scoring failed. The score on this train-test partition for these parameters will be set to nan. Details: \n",
      "Traceback (most recent call last):\n",
      "  File \"/opt/anaconda3/lib/python3.9/site-packages/sklearn/model_selection/_validation.py\", line 761, in _score\n",
      "    scores = scorer(estimator, X_test, y_test)\n",
      "  File \"/opt/anaconda3/lib/python3.9/site-packages/sklearn/metrics/_scorer.py\", line 103, in __call__\n",
      "    score = scorer._score(cached_call, estimator, *args, **kwargs)\n",
      "  File \"/opt/anaconda3/lib/python3.9/site-packages/sklearn/metrics/_scorer.py\", line 298, in _score\n",
      "    y_pred = method_caller(clf, \"predict_proba\", X)\n",
      "  File \"/opt/anaconda3/lib/python3.9/site-packages/sklearn/metrics/_scorer.py\", line 68, in _cached_call\n",
      "    return getattr(estimator, method)(*args, **kwargs)\n",
      "AttributeError: 'RidgeClassifier' object has no attribute 'predict_proba'\n",
      "\n",
      "  warnings.warn(\n",
      "/opt/anaconda3/lib/python3.9/site-packages/sklearn/model_selection/_validation.py:770: UserWarning: Scoring failed. The score on this train-test partition for these parameters will be set to nan. Details: \n",
      "Traceback (most recent call last):\n",
      "  File \"/opt/anaconda3/lib/python3.9/site-packages/sklearn/model_selection/_validation.py\", line 761, in _score\n",
      "    scores = scorer(estimator, X_test, y_test)\n",
      "  File \"/opt/anaconda3/lib/python3.9/site-packages/sklearn/metrics/_scorer.py\", line 103, in __call__\n",
      "    score = scorer._score(cached_call, estimator, *args, **kwargs)\n",
      "  File \"/opt/anaconda3/lib/python3.9/site-packages/sklearn/metrics/_scorer.py\", line 298, in _score\n",
      "    y_pred = method_caller(clf, \"predict_proba\", X)\n",
      "  File \"/opt/anaconda3/lib/python3.9/site-packages/sklearn/metrics/_scorer.py\", line 68, in _cached_call\n",
      "    return getattr(estimator, method)(*args, **kwargs)\n",
      "AttributeError: 'RidgeClassifier' object has no attribute 'predict_proba'\n",
      "\n",
      "  warnings.warn(\n",
      "/opt/anaconda3/lib/python3.9/site-packages/sklearn/model_selection/_validation.py:770: UserWarning: Scoring failed. The score on this train-test partition for these parameters will be set to nan. Details: \n",
      "Traceback (most recent call last):\n",
      "  File \"/opt/anaconda3/lib/python3.9/site-packages/sklearn/model_selection/_validation.py\", line 761, in _score\n",
      "    scores = scorer(estimator, X_test, y_test)\n",
      "  File \"/opt/anaconda3/lib/python3.9/site-packages/sklearn/metrics/_scorer.py\", line 103, in __call__\n",
      "    score = scorer._score(cached_call, estimator, *args, **kwargs)\n",
      "  File \"/opt/anaconda3/lib/python3.9/site-packages/sklearn/metrics/_scorer.py\", line 298, in _score\n",
      "    y_pred = method_caller(clf, \"predict_proba\", X)\n",
      "  File \"/opt/anaconda3/lib/python3.9/site-packages/sklearn/metrics/_scorer.py\", line 68, in _cached_call\n",
      "    return getattr(estimator, method)(*args, **kwargs)\n",
      "AttributeError: 'RidgeClassifier' object has no attribute 'predict_proba'\n",
      "\n",
      "  warnings.warn(\n",
      "/opt/anaconda3/lib/python3.9/site-packages/sklearn/model_selection/_validation.py:770: UserWarning: Scoring failed. The score on this train-test partition for these parameters will be set to nan. Details: \n",
      "Traceback (most recent call last):\n",
      "  File \"/opt/anaconda3/lib/python3.9/site-packages/sklearn/model_selection/_validation.py\", line 761, in _score\n",
      "    scores = scorer(estimator, X_test, y_test)\n",
      "  File \"/opt/anaconda3/lib/python3.9/site-packages/sklearn/metrics/_scorer.py\", line 103, in __call__\n",
      "    score = scorer._score(cached_call, estimator, *args, **kwargs)\n",
      "  File \"/opt/anaconda3/lib/python3.9/site-packages/sklearn/metrics/_scorer.py\", line 298, in _score\n",
      "    y_pred = method_caller(clf, \"predict_proba\", X)\n",
      "  File \"/opt/anaconda3/lib/python3.9/site-packages/sklearn/metrics/_scorer.py\", line 68, in _cached_call\n",
      "    return getattr(estimator, method)(*args, **kwargs)\n",
      "AttributeError: 'RidgeClassifier' object has no attribute 'predict_proba'\n",
      "\n",
      "  warnings.warn(\n"
     ]
    },
    {
     "name": "stdout",
     "output_type": "stream",
     "text": [
      "Mean AUC Score: nan  temps execution en secondes :  203.88849997520447\n",
      "===========================================================================\n",
      "training_time test_time train_score test_score ridge_accuracy_RandUnderS balanced_accuracy geometric_mean_score\n",
      "2.6470839977264404 2.703217029571533 56.178 56.992 56.992 0.558 0.509\n"
     ]
    },
    {
     "name": "stderr",
     "output_type": "stream",
     "text": [
      "/opt/anaconda3/lib/python3.9/site-packages/sklearn/model_selection/_validation.py:770: UserWarning: Scoring failed. The score on this train-test partition for these parameters will be set to nan. Details: \n",
      "Traceback (most recent call last):\n",
      "  File \"/opt/anaconda3/lib/python3.9/site-packages/sklearn/model_selection/_validation.py\", line 761, in _score\n",
      "    scores = scorer(estimator, X_test, y_test)\n",
      "  File \"/opt/anaconda3/lib/python3.9/site-packages/sklearn/metrics/_scorer.py\", line 103, in __call__\n",
      "    score = scorer._score(cached_call, estimator, *args, **kwargs)\n",
      "  File \"/opt/anaconda3/lib/python3.9/site-packages/sklearn/metrics/_scorer.py\", line 298, in _score\n",
      "    y_pred = method_caller(clf, \"predict_proba\", X)\n",
      "  File \"/opt/anaconda3/lib/python3.9/site-packages/sklearn/metrics/_scorer.py\", line 68, in _cached_call\n",
      "    return getattr(estimator, method)(*args, **kwargs)\n",
      "AttributeError: 'RidgeClassifier' object has no attribute 'predict_proba'\n",
      "\n",
      "  warnings.warn(\n"
     ]
    }
   ],
   "source": [
    "result_accuracy = benchmarkClassifier(ridge_clf, \"Ridge Classifier\", X_ru, y_ru, \n",
    "                                      X_test_encoded, y_test2)\n",
    "\n",
    "print('training_time', 'test_time', 'train_score', 'test_score', 'ridge_accuracy_RandUnderS', 'balanced_accuracy', 'geometric_mean_score')\n",
    "print(result_accuracy[0], result_accuracy[1], result_accuracy[2], result_accuracy[3],result_accuracy[4],\n",
    "     result_accuracy[5], result_accuracy[6])"
   ]
  },
  {
   "cell_type": "code",
   "execution_count": 116,
   "id": "7ae01e26",
   "metadata": {},
   "outputs": [
    {
     "name": "stdout",
     "output_type": "stream",
     "text": [
      "Model: hist_gradient_boosting\n",
      "---------------------------------------------------------------------------\n",
      "Classification Report imbalanced :\n",
      "                          pre       rec       spe        f1       geo       iba       sup\n",
      "\n",
      "Blessé hospitalisé       0.43      0.36      0.88      0.39      0.56      0.30     93507\n",
      "      Blessé léger       0.65      0.51      0.85      0.57      0.66      0.42    165057\n",
      "           Indemne       0.77      0.77      0.84      0.77      0.80      0.64    187549\n",
      "               Tué       0.14      0.70      0.88      0.23      0.78      0.60     12235\n",
      "\n",
      "       avg / total       0.64      0.59      0.85      0.61      0.70      0.49    458348\n",
      "\n",
      "---------------------------------------------------------------------------\n",
      "Confusion Matrix:\n",
      "[[ 33620  22362   9451  28074]\n",
      " [ 31976  84782  34120  14179]\n",
      " [ 10960  22173 144956   9460]\n",
      " [  2272    854    596   8513]]\n",
      "---------------------------------------------------------------------------\n",
      "Balanced accuracy: 0.585 - Geometric mean: 0.561\n",
      "---------------------------------------------------------------------------\n",
      "Mean AUC Score: 0.8155946907336787  temps execution en secondes :  1751.6551611423492\n",
      "===========================================================================\n",
      "training_time test_time train_score test_score hgbc_accuracy_RandUnderS balanced_accuracy geometric_mean_score\n",
      "57.900551080703735 5.962434768676758 60.618 59.315 59.315 0.585 0.561\n"
     ]
    }
   ],
   "source": [
    "result_accuracy = benchmarkClassifier(hist_gradient_boosting, \"hist_gradient_boosting\", X_ru, y_ru, \n",
    "                                      X_test_encoded, y_test2)\n",
    "\n",
    "print('training_time', 'test_time', 'train_score', 'test_score', 'hgbc_accuracy_RandUnderS', 'balanced_accuracy', 'geometric_mean_score')\n",
    "print(result_accuracy[0], result_accuracy[1], result_accuracy[2], result_accuracy[3],result_accuracy[4],\n",
    "     result_accuracy[5], result_accuracy[6])"
   ]
  },
  {
   "cell_type": "code",
   "execution_count": 1,
   "id": "e1edc7b4",
   "metadata": {},
   "outputs": [],
   "source": [
    "us_model_names=[]\n",
    "us_training_times=[]\n",
    "us_testing_times=[]\n",
    "us_test_scores=[]"
   ]
  },
  {
   "cell_type": "code",
   "execution_count": null,
   "id": "1a7a73ee",
   "metadata": {},
   "outputs": [],
   "source": [
    "# Classifier using Ridge regression before RandomUnderSimpler\n",
    "training_time, test_time, test_score, ridge_accuracy_ru = benchmarkClassifier(ridge_clf, \n",
    "                                            \"Ridge Classifier\", X_ru, y_ru, X_test_encoded, y_test2)\n",
    "print(training_time, test_time, test_scores, ridge_accuracy_ru)\n",
    "us_model_names.append(\"RandUnderS_Ridge_Classifier\") \n",
    "us_training_times.append(training_time) \n",
    "us_testing_times.append(test_time) \n",
    "us_test_scores.append(test_score)"
   ]
  },
  {
   "cell_type": "code",
   "execution_count": null,
   "id": "df0590e5",
   "metadata": {},
   "outputs": [],
   "source": [
    "# Classifier using Logistic Regression\n",
    "training_time, test_time, test_score, logreg_accuracy_ru = benchmarkClassifier(logreg, \n",
    "                                            \"Logistic Regression\", X_ru, y_ru, X_test_encoded, y_test2)\n",
    "us_model_names.append(\"RandUnderS_Logistic_Regression\") \n",
    "us_training_times.append(training_time) \n",
    "us_testing_times.append(test_time) \n",
    "us_test_scores.append(test_score)"
   ]
  },
  {
   "cell_type": "code",
   "execution_count": 172,
   "id": "bfb6bfae",
   "metadata": {},
   "outputs": [
    {
     "name": "stdout",
     "output_type": "stream",
     "text": [
      "col_0               Blessé hospitalisé  Blessé léger  Indemne    Tué\n",
      "grav                                                                \n",
      "Indemne                          10947         21773   145267   9567\n",
      "Blessé léger                     31650         84734    34398  14280\n",
      "Blessé hospitalisé               33238         22611     9514  28145\n",
      "Tué                               2158           842      583   8653\n",
      "Classification Report imbalanced :\n",
      "                          pre       rec       spe        f1       geo       iba       sup\n",
      "\n",
      "Blessé hospitalisé       0.43      0.36      0.88      0.39      0.56      0.30     93508\n",
      "      Blessé léger       0.65      0.51      0.85      0.57      0.66      0.42    165062\n",
      "           Indemne       0.77      0.77      0.84      0.77      0.80      0.64    187554\n",
      "               Tué       0.14      0.71      0.88      0.24      0.79      0.61     12236\n",
      "\n",
      "       avg / total       0.64      0.59      0.85      0.61      0.70      0.49    458360\n",
      "\n"
     ]
    }
   ],
   "source": [
    "# Entraînement du modèle sur l'ensemble issu du RandomUnderSampler, \n",
    "training_time, test_time, test_score, histGB_accuracy_ru = benchmarkClassifier(hist_gradient_boosting, \n",
    "                                            \"hist_gradient_boosting\", X_ru, y_ru, X_test_encoded, y_test2)\n",
    "us_model_names.append(\"RandUnderS_hist_gradient_boosting\") \n",
    "us_training_times.append(training_time) \n",
    "us_testing_times.append(test_time) \n",
    "us_test_scores.append(test_score)"
   ]
  },
  {
   "cell_type": "raw",
   "id": "c3cd902e",
   "metadata": {},
   "source": [
    "# Entraînement du modèle sur l'ensemble issu du RandomUnderSampler, \n",
    "hist_native.fit(X_train, y_train)\n",
    "y_pred = hist_native.predict(X_test)\n",
    "cm = confusion_matrix(y_test, y_pred)\n",
    "cm_display = ConfusionMatrixDisplay(cm).plot()"
   ]
  },
  {
   "cell_type": "code",
   "execution_count": 173,
   "id": "5b5a85d0",
   "metadata": {},
   "outputs": [
    {
     "name": "stdout",
     "output_type": "stream",
     "text": [
      "Accuracy: 0.5931843965442011\n"
     ]
    }
   ],
   "source": [
    "print(\"Accuracy:\", accuracy_score(y_test, y_pred_ru))"
   ]
  },
  {
   "cell_type": "markdown",
   "id": "22dac521",
   "metadata": {},
   "source": [
    "##### Logistic Regression"
   ]
  },
  {
   "cell_type": "code",
   "execution_count": null,
   "id": "4780655b",
   "metadata": {},
   "outputs": [],
   "source": [
    "# logreg = LogisticRegression(max_iter=500)"
   ]
  },
  {
   "cell_type": "code",
   "execution_count": 80,
   "id": "c0bdbc0a",
   "metadata": {},
   "outputs": [],
   "source": [
    "# Modification du constructeur du modèle\n",
    "logreg = LogisticRegression(random_state=0, max_iter=2500)"
   ]
  },
  {
   "cell_type": "markdown",
   "id": "714a9da9",
   "metadata": {},
   "source": [
    "###### Logistic Regression estimator with dropped categorical features"
   ]
  },
  {
   "cell_type": "code",
   "execution_count": 96,
   "id": "bfd9b18c",
   "metadata": {},
   "outputs": [],
   "source": [
    "# create an estimator where the categorical features are dropped\n",
    "dropper_categorical_preprocessor = make_column_transformer(\n",
    "    (\"drop\", make_column_selector(dtype_include=\"category\")), remainder=\"passthrough\"\n",
    ")\n",
    "\n",
    "dropper_preprocessor = ColumnTransformer([\n",
    "    ('dropper', dropper_categorical_preprocessor, categorical_columns),\n",
    "    ('standard_scaler', numerical_preprocessor, numerical_columns)])\n",
    "\n",
    "#  create our dropped model\n",
    "#hist_dropped = make_pipeline(\n",
    "#    dropper_preprocessor, HistGradientBoostingClassifier() #random_state=42)\n",
    "#)\n",
    "logreg_dropped = Pipeline(steps=[\n",
    "    ('scaler', dropper_preprocessor), \n",
    "    ('Logistic_Regressiont_dropped', logreg) \n",
    "])"
   ]
  },
  {
   "cell_type": "markdown",
   "id": "baf9b184",
   "metadata": {},
   "source": [
    "###### Logistic Regression estimator with one-hot encoding"
   ]
  },
  {
   "cell_type": "code",
   "execution_count": 97,
   "id": "61eed2f9",
   "metadata": {},
   "outputs": [],
   "source": [
    "one_hot_categorical_preprocessor = OneHotEncoder(sparse=False, \n",
    "                                                 handle_unknown=\"ignore\")# to solve the potential issues due to rare categories\n",
    "\n",
    "one_hot_preprocessor = ColumnTransformer([\n",
    "    ('one_hot_encoder', one_hot_categorical_preprocessor, categorical_columns),\n",
    "    ('standard_scaler', numerical_preprocessor, numerical_columns)])\n",
    "\n",
    "#  create our model\n",
    "logreg_one_hot = Pipeline(steps=[\n",
    "    ('one_hot_preprocessor', one_hot_preprocessor), \n",
    "    ('Logistic_Regressiont_one_hot', logreg)\n",
    "])"
   ]
  },
  {
   "cell_type": "markdown",
   "id": "3c12693b",
   "metadata": {},
   "source": [
    "###### Logistic Regression estimator with ordinal encoding"
   ]
  },
  {
   "cell_type": "code",
   "execution_count": 98,
   "id": "09ce5ea0",
   "metadata": {},
   "outputs": [],
   "source": [
    "ordinal_preprocessor = ColumnTransformer([\n",
    "    ('ordinal_encoder', categorical_preprocessor, categorical_columns),\n",
    "    ('standard_scaler', numerical_preprocessor, numerical_columns)])\n",
    "\n",
    "#  create our model\n",
    "logreg_ordinal = Pipeline(steps=[\n",
    "    ('ordinal_preprocessor', ordinal_preprocessor), \n",
    "    ('Logistic_Regressiont_ordinal', logreg)\n",
    "])"
   ]
  },
  {
   "cell_type": "markdown",
   "id": "9373c8f0",
   "metadata": {},
   "source": [
    "###### Logistic Regression estimator with ordinal encoding and one-hot encoding\n"
   ]
  },
  {
   "cell_type": "code",
   "execution_count": 99,
   "id": "d0ec6269",
   "metadata": {},
   "outputs": [],
   "source": [
    "categorical_columns.remove(\"jour_de_la_semaine\")\n",
    "categorical_preprocessor = OrdinalEncoder(handle_unknown=\"use_encoded_value\",\n",
    "                                          unknown_value=-1)\n",
    "\n",
    "preprocessor = ColumnTransformer([\n",
    "    ('ordinal_encoder', categorical_preprocessor, ['jour_de_la_semaine']),\n",
    "    ('one_hot_encoder', one_hot_categorical_preprocessor, categorical_columns),\n",
    "    ('standard_scaler', MinMaxScaler(), numerical_columns)])\n",
    "#  create our model\n",
    "logreg_one_hot_ordinal = Pipeline(steps=[\n",
    "    ('standard_scaler_preprocessor', preprocessor), \n",
    "    ('Logistic_Regressiont_one_hot_ordinal', logreg)\n",
    "])"
   ]
  },
  {
   "cell_type": "code",
   "execution_count": 100,
   "id": "923822d0",
   "metadata": {},
   "outputs": [],
   "source": [
    "categorical_columns_selector = selector(dtype_include=\"category\")\n",
    "categorical_columns = categorical_columns_selector(accRoutierFr.drop([\"grav\"], axis=1))"
   ]
  },
  {
   "cell_type": "code",
   "execution_count": 129,
   "id": "6fc9a253",
   "metadata": {},
   "outputs": [
    {
     "name": "stdout",
     "output_type": "stream",
     "text": [
      "Execution time: 2308.3794 seconds\n"
     ]
    }
   ],
   "source": [
    "# check its generalization performance.\n",
    "\n",
    "start_time = time.time()\n",
    "\n",
    "# Train the classifier\n",
    "logreg_one_hot_ordinal.fit(X_train, y_train)\n",
    "\n",
    "end_time = time.time()\n",
    "execution_time = end_time - start_time\n",
    "\n",
    "print(f\"Execution time: {execution_time:.4f} seconds\")"
   ]
  },
  {
   "cell_type": "code",
   "execution_count": 130,
   "id": "1a88bdf7",
   "metadata": {},
   "outputs": [],
   "source": [
    "# Make predictions on the testing data\n",
    "y_pred_logreg = logreg_one_hot_ordinal.predict(X_test)"
   ]
  },
  {
   "cell_type": "code",
   "execution_count": 131,
   "id": "c9df2062",
   "metadata": {},
   "outputs": [
    {
     "name": "stdout",
     "output_type": "stream",
     "text": [
      "Accuracy: 0.643701457369753\n"
     ]
    }
   ],
   "source": [
    "print(\"Accuracy:\", accuracy_score(y_test, y_pred_logreg))"
   ]
  },
  {
   "cell_type": "code",
   "execution_count": 133,
   "id": "b9bdd92e",
   "metadata": {},
   "outputs": [
    {
     "name": "stdout",
     "output_type": "stream",
     "text": [
      "Execution time: 170.5252 seconds\n"
     ]
    }
   ],
   "source": [
    "# check its generalization performance.\n",
    "\n",
    "start_time = time.time()\n",
    "\n",
    "# Train the classifier\n",
    "logreg_one_hot_ordinal.fit(X_ru, y_ru)\n",
    "\n",
    "end_time = time.time()\n",
    "execution_time = end_time - start_time\n",
    "\n",
    "print(f\"Execution time: {execution_time:.4f} seconds\")"
   ]
  },
  {
   "cell_type": "code",
   "execution_count": 134,
   "id": "44e5f4d4",
   "metadata": {},
   "outputs": [],
   "source": [
    "# Make predictions on the testing data\n",
    "y_pred_logreg_ru = logreg_one_hot_ordinal.predict(X_test)"
   ]
  },
  {
   "cell_type": "code",
   "execution_count": 135,
   "id": "465b4539",
   "metadata": {},
   "outputs": [
    {
     "name": "stdout",
     "output_type": "stream",
     "text": [
      "Accuracy: 0.5806745789335893\n"
     ]
    }
   ],
   "source": [
    "print(\"Accuracy:\", accuracy_score(y_test, y_pred_logreg_ru))"
   ]
  },
  {
   "cell_type": "code",
   "execution_count": 101,
   "id": "d96a5868",
   "metadata": {},
   "outputs": [
    {
     "name": "stdout",
     "output_type": "stream",
     "text": [
      "Model: Logistic_Regressiont_dropped\n",
      "Classification Report :\n"
     ]
    },
    {
     "name": "stderr",
     "output_type": "stream",
     "text": [
      "/opt/anaconda3/lib/python3.9/site-packages/sklearn/metrics/_classification.py:1318: UndefinedMetricWarning: Precision and F-score are ill-defined and being set to 0.0 in labels with no predicted samples. Use `zero_division` parameter to control this behavior.\n",
      "  _warn_prf(average, modifier, msg_start, len(result))\n",
      "/opt/anaconda3/lib/python3.9/site-packages/sklearn/metrics/_classification.py:1318: UndefinedMetricWarning: Precision and F-score are ill-defined and being set to 0.0 in labels with no predicted samples. Use `zero_division` parameter to control this behavior.\n",
      "  _warn_prf(average, modifier, msg_start, len(result))\n",
      "/opt/anaconda3/lib/python3.9/site-packages/sklearn/metrics/_classification.py:1318: UndefinedMetricWarning: Precision and F-score are ill-defined and being set to 0.0 in labels with no predicted samples. Use `zero_division` parameter to control this behavior.\n",
      "  _warn_prf(average, modifier, msg_start, len(result))\n"
     ]
    },
    {
     "name": "stdout",
     "output_type": "stream",
     "text": [
      "                    precision    recall  f1-score   support\n",
      "\n",
      "Blessé hospitalisé       0.25      0.00      0.00     93508\n",
      "      Blessé léger       0.42      0.43      0.43    165062\n",
      "           Indemne       0.45      0.71      0.55    187554\n",
      "               Tué       0.00      0.00      0.00     12236\n",
      "\n",
      "          accuracy                           0.44    458360\n",
      "         macro avg       0.28      0.28      0.24    458360\n",
      "      weighted avg       0.39      0.44      0.38    458360\n",
      "\n",
      "Confusion Matrix:\n",
      "[[     1  37391  56116      0]\n",
      " [     2  70607  94453      0]\n",
      " [     1  55232 132321      0]\n",
      " [     0   3964   8272      0]]\n",
      "===========================================================================\n",
      "Model: Logistic_Regressiont_one_hot\n",
      "Classification Report :\n",
      "                    precision    recall  f1-score   support\n",
      "\n",
      "Blessé hospitalisé       0.53      0.39      0.45     93508\n",
      "      Blessé léger       0.61      0.60      0.61    165062\n",
      "           Indemne       0.70      0.84      0.77    187554\n",
      "               Tué       0.50      0.05      0.08     12236\n",
      "\n",
      "          accuracy                           0.64    458360\n",
      "         macro avg       0.59      0.47      0.48    458360\n",
      "      weighted avg       0.63      0.64      0.63    458360\n",
      "\n",
      "Confusion Matrix:\n",
      "[[ 36778  38914  17359    457]\n",
      " [ 18233  99308  47442     79]\n",
      " [  7379  21756 158385     34]\n",
      " [  7534   2292   1844    566]]\n",
      "===========================================================================\n"
     ]
    },
    {
     "ename": "ValueError",
     "evalue": "Input contains NaN, infinity or a value too large for dtype('float64').",
     "output_type": "error",
     "traceback": [
      "\u001b[0;31m---------------------------------------------------------------------------\u001b[0m",
      "\u001b[0;31mValueError\u001b[0m                                Traceback (most recent call last)",
      "\u001b[0;32m/var/folders/g0/g76qn8pj0j10kx_v9q9r022w0000gn/T/ipykernel_762/3718044673.py\u001b[0m in \u001b[0;36m<module>\u001b[0;34m\u001b[0m\n\u001b[0;32m----> 1\u001b[0;31m \u001b[0mcompare_classifiers_models\u001b[0m\u001b[0;34m(\u001b[0m\u001b[0;34m[\u001b[0m\u001b[0mlogreg_dropped\u001b[0m\u001b[0;34m,\u001b[0m \u001b[0mlogreg_one_hot\u001b[0m\u001b[0;34m,\u001b[0m \u001b[0mlogreg_ordinal\u001b[0m\u001b[0;34m,\u001b[0m \u001b[0mlogreg_one_hot_ordinal\u001b[0m\u001b[0;34m]\u001b[0m\u001b[0;34m)\u001b[0m\u001b[0;34m\u001b[0m\u001b[0;34m\u001b[0m\u001b[0m\n\u001b[0m",
      "\u001b[0;32m/var/folders/g0/g76qn8pj0j10kx_v9q9r022w0000gn/T/ipykernel_762/717250116.py\u001b[0m in \u001b[0;36mcompare_classifiers_models\u001b[0;34m(models)\u001b[0m\n\u001b[1;32m     14\u001b[0m \u001b[0;34m\u001b[0m\u001b[0m\n\u001b[1;32m     15\u001b[0m         \u001b[0;31m# Train the classifier model\u001b[0m\u001b[0;34m\u001b[0m\u001b[0;34m\u001b[0m\u001b[0m\n\u001b[0;32m---> 16\u001b[0;31m         \u001b[0mmodel\u001b[0m\u001b[0;34m.\u001b[0m\u001b[0mfit\u001b[0m\u001b[0;34m(\u001b[0m\u001b[0mX_train\u001b[0m\u001b[0;34m,\u001b[0m \u001b[0my_train\u001b[0m\u001b[0;34m)\u001b[0m\u001b[0;34m\u001b[0m\u001b[0;34m\u001b[0m\u001b[0m\n\u001b[0m\u001b[1;32m     17\u001b[0m \u001b[0;34m\u001b[0m\u001b[0m\n\u001b[1;32m     18\u001b[0m         \u001b[0mend_time\u001b[0m \u001b[0;34m=\u001b[0m \u001b[0mtime\u001b[0m\u001b[0;34m.\u001b[0m\u001b[0mtime\u001b[0m\u001b[0;34m(\u001b[0m\u001b[0;34m)\u001b[0m\u001b[0;34m\u001b[0m\u001b[0;34m\u001b[0m\u001b[0m\n",
      "\u001b[0;32m/opt/anaconda3/lib/python3.9/site-packages/sklearn/pipeline.py\u001b[0m in \u001b[0;36mfit\u001b[0;34m(self, X, y, **fit_params)\u001b[0m\n\u001b[1;32m    392\u001b[0m             \u001b[0;32mif\u001b[0m \u001b[0mself\u001b[0m\u001b[0;34m.\u001b[0m\u001b[0m_final_estimator\u001b[0m \u001b[0;34m!=\u001b[0m \u001b[0;34m\"passthrough\"\u001b[0m\u001b[0;34m:\u001b[0m\u001b[0;34m\u001b[0m\u001b[0;34m\u001b[0m\u001b[0m\n\u001b[1;32m    393\u001b[0m                 \u001b[0mfit_params_last_step\u001b[0m \u001b[0;34m=\u001b[0m \u001b[0mfit_params_steps\u001b[0m\u001b[0;34m[\u001b[0m\u001b[0mself\u001b[0m\u001b[0;34m.\u001b[0m\u001b[0msteps\u001b[0m\u001b[0;34m[\u001b[0m\u001b[0;34m-\u001b[0m\u001b[0;36m1\u001b[0m\u001b[0;34m]\u001b[0m\u001b[0;34m[\u001b[0m\u001b[0;36m0\u001b[0m\u001b[0;34m]\u001b[0m\u001b[0;34m]\u001b[0m\u001b[0;34m\u001b[0m\u001b[0;34m\u001b[0m\u001b[0m\n\u001b[0;32m--> 394\u001b[0;31m                 \u001b[0mself\u001b[0m\u001b[0;34m.\u001b[0m\u001b[0m_final_estimator\u001b[0m\u001b[0;34m.\u001b[0m\u001b[0mfit\u001b[0m\u001b[0;34m(\u001b[0m\u001b[0mXt\u001b[0m\u001b[0;34m,\u001b[0m \u001b[0my\u001b[0m\u001b[0;34m,\u001b[0m \u001b[0;34m**\u001b[0m\u001b[0mfit_params_last_step\u001b[0m\u001b[0;34m)\u001b[0m\u001b[0;34m\u001b[0m\u001b[0;34m\u001b[0m\u001b[0m\n\u001b[0m\u001b[1;32m    395\u001b[0m \u001b[0;34m\u001b[0m\u001b[0m\n\u001b[1;32m    396\u001b[0m         \u001b[0;32mreturn\u001b[0m \u001b[0mself\u001b[0m\u001b[0;34m\u001b[0m\u001b[0;34m\u001b[0m\u001b[0m\n",
      "\u001b[0;32m/opt/anaconda3/lib/python3.9/site-packages/sklearn/linear_model/_logistic.py\u001b[0m in \u001b[0;36mfit\u001b[0;34m(self, X, y, sample_weight)\u001b[0m\n\u001b[1;32m   1506\u001b[0m             \u001b[0m_dtype\u001b[0m \u001b[0;34m=\u001b[0m \u001b[0;34m[\u001b[0m\u001b[0mnp\u001b[0m\u001b[0;34m.\u001b[0m\u001b[0mfloat64\u001b[0m\u001b[0;34m,\u001b[0m \u001b[0mnp\u001b[0m\u001b[0;34m.\u001b[0m\u001b[0mfloat32\u001b[0m\u001b[0;34m]\u001b[0m\u001b[0;34m\u001b[0m\u001b[0;34m\u001b[0m\u001b[0m\n\u001b[1;32m   1507\u001b[0m \u001b[0;34m\u001b[0m\u001b[0m\n\u001b[0;32m-> 1508\u001b[0;31m         X, y = self._validate_data(\n\u001b[0m\u001b[1;32m   1509\u001b[0m             \u001b[0mX\u001b[0m\u001b[0;34m,\u001b[0m\u001b[0;34m\u001b[0m\u001b[0;34m\u001b[0m\u001b[0m\n\u001b[1;32m   1510\u001b[0m             \u001b[0my\u001b[0m\u001b[0;34m,\u001b[0m\u001b[0;34m\u001b[0m\u001b[0;34m\u001b[0m\u001b[0m\n",
      "\u001b[0;32m/opt/anaconda3/lib/python3.9/site-packages/sklearn/base.py\u001b[0m in \u001b[0;36m_validate_data\u001b[0;34m(self, X, y, reset, validate_separately, **check_params)\u001b[0m\n\u001b[1;32m    579\u001b[0m                 \u001b[0my\u001b[0m \u001b[0;34m=\u001b[0m \u001b[0mcheck_array\u001b[0m\u001b[0;34m(\u001b[0m\u001b[0my\u001b[0m\u001b[0;34m,\u001b[0m \u001b[0;34m**\u001b[0m\u001b[0mcheck_y_params\u001b[0m\u001b[0;34m)\u001b[0m\u001b[0;34m\u001b[0m\u001b[0;34m\u001b[0m\u001b[0m\n\u001b[1;32m    580\u001b[0m             \u001b[0;32melse\u001b[0m\u001b[0;34m:\u001b[0m\u001b[0;34m\u001b[0m\u001b[0;34m\u001b[0m\u001b[0m\n\u001b[0;32m--> 581\u001b[0;31m                 \u001b[0mX\u001b[0m\u001b[0;34m,\u001b[0m \u001b[0my\u001b[0m \u001b[0;34m=\u001b[0m \u001b[0mcheck_X_y\u001b[0m\u001b[0;34m(\u001b[0m\u001b[0mX\u001b[0m\u001b[0;34m,\u001b[0m \u001b[0my\u001b[0m\u001b[0;34m,\u001b[0m \u001b[0;34m**\u001b[0m\u001b[0mcheck_params\u001b[0m\u001b[0;34m)\u001b[0m\u001b[0;34m\u001b[0m\u001b[0;34m\u001b[0m\u001b[0m\n\u001b[0m\u001b[1;32m    582\u001b[0m             \u001b[0mout\u001b[0m \u001b[0;34m=\u001b[0m \u001b[0mX\u001b[0m\u001b[0;34m,\u001b[0m \u001b[0my\u001b[0m\u001b[0;34m\u001b[0m\u001b[0;34m\u001b[0m\u001b[0m\n\u001b[1;32m    583\u001b[0m \u001b[0;34m\u001b[0m\u001b[0m\n",
      "\u001b[0;32m/opt/anaconda3/lib/python3.9/site-packages/sklearn/utils/validation.py\u001b[0m in \u001b[0;36mcheck_X_y\u001b[0;34m(X, y, accept_sparse, accept_large_sparse, dtype, order, copy, force_all_finite, ensure_2d, allow_nd, multi_output, ensure_min_samples, ensure_min_features, y_numeric, estimator)\u001b[0m\n\u001b[1;32m    962\u001b[0m         \u001b[0;32mraise\u001b[0m \u001b[0mValueError\u001b[0m\u001b[0;34m(\u001b[0m\u001b[0;34m\"y cannot be None\"\u001b[0m\u001b[0;34m)\u001b[0m\u001b[0;34m\u001b[0m\u001b[0;34m\u001b[0m\u001b[0m\n\u001b[1;32m    963\u001b[0m \u001b[0;34m\u001b[0m\u001b[0m\n\u001b[0;32m--> 964\u001b[0;31m     X = check_array(\n\u001b[0m\u001b[1;32m    965\u001b[0m         \u001b[0mX\u001b[0m\u001b[0;34m,\u001b[0m\u001b[0;34m\u001b[0m\u001b[0;34m\u001b[0m\u001b[0m\n\u001b[1;32m    966\u001b[0m         \u001b[0maccept_sparse\u001b[0m\u001b[0;34m=\u001b[0m\u001b[0maccept_sparse\u001b[0m\u001b[0;34m,\u001b[0m\u001b[0;34m\u001b[0m\u001b[0;34m\u001b[0m\u001b[0m\n",
      "\u001b[0;32m/opt/anaconda3/lib/python3.9/site-packages/sklearn/utils/validation.py\u001b[0m in \u001b[0;36mcheck_array\u001b[0;34m(array, accept_sparse, accept_large_sparse, dtype, order, copy, force_all_finite, ensure_2d, allow_nd, ensure_min_samples, ensure_min_features, estimator)\u001b[0m\n\u001b[1;32m    798\u001b[0m \u001b[0;34m\u001b[0m\u001b[0m\n\u001b[1;32m    799\u001b[0m         \u001b[0;32mif\u001b[0m \u001b[0mforce_all_finite\u001b[0m\u001b[0;34m:\u001b[0m\u001b[0;34m\u001b[0m\u001b[0;34m\u001b[0m\u001b[0m\n\u001b[0;32m--> 800\u001b[0;31m             \u001b[0m_assert_all_finite\u001b[0m\u001b[0;34m(\u001b[0m\u001b[0marray\u001b[0m\u001b[0;34m,\u001b[0m \u001b[0mallow_nan\u001b[0m\u001b[0;34m=\u001b[0m\u001b[0mforce_all_finite\u001b[0m \u001b[0;34m==\u001b[0m \u001b[0;34m\"allow-nan\"\u001b[0m\u001b[0;34m)\u001b[0m\u001b[0;34m\u001b[0m\u001b[0;34m\u001b[0m\u001b[0m\n\u001b[0m\u001b[1;32m    801\u001b[0m \u001b[0;34m\u001b[0m\u001b[0m\n\u001b[1;32m    802\u001b[0m     \u001b[0;32mif\u001b[0m \u001b[0mensure_min_samples\u001b[0m \u001b[0;34m>\u001b[0m \u001b[0;36m0\u001b[0m\u001b[0;34m:\u001b[0m\u001b[0;34m\u001b[0m\u001b[0;34m\u001b[0m\u001b[0m\n",
      "\u001b[0;32m/opt/anaconda3/lib/python3.9/site-packages/sklearn/utils/validation.py\u001b[0m in \u001b[0;36m_assert_all_finite\u001b[0;34m(X, allow_nan, msg_dtype)\u001b[0m\n\u001b[1;32m    112\u001b[0m         ):\n\u001b[1;32m    113\u001b[0m             \u001b[0mtype_err\u001b[0m \u001b[0;34m=\u001b[0m \u001b[0;34m\"infinity\"\u001b[0m \u001b[0;32mif\u001b[0m \u001b[0mallow_nan\u001b[0m \u001b[0;32melse\u001b[0m \u001b[0;34m\"NaN, infinity\"\u001b[0m\u001b[0;34m\u001b[0m\u001b[0;34m\u001b[0m\u001b[0m\n\u001b[0;32m--> 114\u001b[0;31m             raise ValueError(\n\u001b[0m\u001b[1;32m    115\u001b[0m                 msg_err.format(\n\u001b[1;32m    116\u001b[0m                     \u001b[0mtype_err\u001b[0m\u001b[0;34m,\u001b[0m \u001b[0mmsg_dtype\u001b[0m \u001b[0;32mif\u001b[0m \u001b[0mmsg_dtype\u001b[0m \u001b[0;32mis\u001b[0m \u001b[0;32mnot\u001b[0m \u001b[0;32mNone\u001b[0m \u001b[0;32melse\u001b[0m \u001b[0mX\u001b[0m\u001b[0;34m.\u001b[0m\u001b[0mdtype\u001b[0m\u001b[0;34m\u001b[0m\u001b[0;34m\u001b[0m\u001b[0m\n",
      "\u001b[0;31mValueError\u001b[0m: Input contains NaN, infinity or a value too large for dtype('float64')."
     ]
    }
   ],
   "source": [
    "compare_classifiers_models([logreg_dropped, logreg_one_hot, logreg_ordinal, logreg_one_hot_ordinal])"
   ]
  },
  {
   "cell_type": "code",
   "execution_count": 116,
   "id": "46e4ee0a",
   "metadata": {},
   "outputs": [],
   "source": [
    "categorical_columns_selector = selector(dtype_include=\"category\")\n",
    "categorical_columns = categorical_columns_selector(accRoutierFr.drop([\"grav\"], axis=1))"
   ]
  },
  {
   "cell_type": "code",
   "execution_count": null,
   "id": "7a7cf4ce",
   "metadata": {},
   "outputs": [],
   "source": []
  },
  {
   "cell_type": "code",
   "execution_count": null,
   "id": "dca64c5c",
   "metadata": {},
   "outputs": [],
   "source": []
  },
  {
   "cell_type": "code",
   "execution_count": null,
   "id": "01d642d4",
   "metadata": {},
   "outputs": [],
   "source": []
  },
  {
   "cell_type": "code",
   "execution_count": null,
   "id": "cc51f21f",
   "metadata": {},
   "outputs": [],
   "source": [
    "# Define a list of classifier models result\n",
    "results = [\n",
    "    dropped_result,\n",
    "    one_hot_result,\n",
    "    ordinal_result,\n",
    "    native_result\n",
    "]\n",
    "\n",
    "# Iterate through the results and evaluate each\n",
    "for scores in results:\n",
    "    # Print the cross-validation scores\n",
    "    print(\"Cross-validation scores:\", scores)\n",
    "    print(\"Mean accuracy:\", scores.mean())\n",
    "    print(\"Standard deviation:\", scores.std())"
   ]
  },
  {
   "cell_type": "markdown",
   "id": "e9830921",
   "metadata": {},
   "source": [
    "<div class=\"alert alert-block alert-info\">\n",
    "<h2><a id = \"tuning_gridsearch\">Hyperparameter tuning by grid-search</a></h2>\n",
    "</div>"
   ]
  },
  {
   "cell_type": "code",
   "execution_count": 94,
   "id": "b82b8f4d",
   "metadata": {},
   "outputs": [
    {
     "data": {
      "text/html": [
       "<div>\n",
       "<style scoped>\n",
       "    .dataframe tbody tr th:only-of-type {\n",
       "        vertical-align: middle;\n",
       "    }\n",
       "\n",
       "    .dataframe tbody tr th {\n",
       "        vertical-align: top;\n",
       "    }\n",
       "\n",
       "    .dataframe thead th {\n",
       "        text-align: right;\n",
       "    }\n",
       "</style>\n",
       "<table border=\"1\" class=\"dataframe\">\n",
       "  <thead>\n",
       "    <tr style=\"text-align: right;\">\n",
       "      <th></th>\n",
       "      <th>fit_time</th>\n",
       "      <th>score_time</th>\n",
       "      <th>test_score</th>\n",
       "    </tr>\n",
       "  </thead>\n",
       "  <tbody>\n",
       "    <tr>\n",
       "      <th>0</th>\n",
       "      <td>122.042535</td>\n",
       "      <td>7.362739</td>\n",
       "      <td>0.646622</td>\n",
       "    </tr>\n",
       "    <tr>\n",
       "      <th>1</th>\n",
       "      <td>117.618042</td>\n",
       "      <td>6.381552</td>\n",
       "      <td>0.659412</td>\n",
       "    </tr>\n",
       "    <tr>\n",
       "      <th>2</th>\n",
       "      <td>119.184629</td>\n",
       "      <td>7.044930</td>\n",
       "      <td>0.666919</td>\n",
       "    </tr>\n",
       "    <tr>\n",
       "      <th>3</th>\n",
       "      <td>123.935749</td>\n",
       "      <td>6.133913</td>\n",
       "      <td>0.664940</td>\n",
       "    </tr>\n",
       "    <tr>\n",
       "      <th>4</th>\n",
       "      <td>117.067318</td>\n",
       "      <td>7.337887</td>\n",
       "      <td>0.626743</td>\n",
       "    </tr>\n",
       "  </tbody>\n",
       "</table>\n",
       "</div>"
      ],
      "text/plain": [
       "     fit_time  score_time  test_score\n",
       "0  122.042535    7.362739    0.646622\n",
       "1  117.618042    6.381552    0.659412\n",
       "2  119.184629    7.044930    0.666919\n",
       "3  123.935749    6.133913    0.664940\n",
       "4  117.067318    7.337887    0.626743"
      ]
     },
     "execution_count": 94,
     "metadata": {},
     "output_type": "execute_result"
    }
   ],
   "source": [
    "# Without hyperparameter tuning\n",
    "cv_results = cross_validate(hist_ordinal, X, y, cv=5)\n",
    "cv_results = pd.DataFrame(cv_results)\n",
    "cv_results"
   ]
  },
  {
   "cell_type": "code",
   "execution_count": 95,
   "id": "4c882d3f",
   "metadata": {},
   "outputs": [
    {
     "name": "stdout",
     "output_type": "stream",
     "text": [
      "Generalization score without hyperparameters tuning:\n",
      "0.653 ± 0.017\n"
     ]
    }
   ],
   "source": [
    "#23:35 le 10-09-2023\n",
    "print(\n",
    "    \"Generalization score without hyperparameters tuning:\\n\"\n",
    "    f\"{cv_results['test_score'].mean():.3f} ± {cv_results['test_score'].std():.3f}\"\n",
    ")"
   ]
  },
  {
   "cell_type": "code",
   "execution_count": 96,
   "id": "1ff73b98",
   "metadata": {},
   "outputs": [
    {
     "data": {
      "text/html": [
       "<style>#sk-c6c2466b-dedf-4fb7-981f-45a6ee34d387 {color: black;background-color: white;}#sk-c6c2466b-dedf-4fb7-981f-45a6ee34d387 pre{padding: 0;}#sk-c6c2466b-dedf-4fb7-981f-45a6ee34d387 div.sk-toggleable {background-color: white;}#sk-c6c2466b-dedf-4fb7-981f-45a6ee34d387 label.sk-toggleable__label {cursor: pointer;display: block;width: 100%;margin-bottom: 0;padding: 0.3em;box-sizing: border-box;text-align: center;}#sk-c6c2466b-dedf-4fb7-981f-45a6ee34d387 label.sk-toggleable__label-arrow:before {content: \"▸\";float: left;margin-right: 0.25em;color: #696969;}#sk-c6c2466b-dedf-4fb7-981f-45a6ee34d387 label.sk-toggleable__label-arrow:hover:before {color: black;}#sk-c6c2466b-dedf-4fb7-981f-45a6ee34d387 div.sk-estimator:hover label.sk-toggleable__label-arrow:before {color: black;}#sk-c6c2466b-dedf-4fb7-981f-45a6ee34d387 div.sk-toggleable__content {max-height: 0;max-width: 0;overflow: hidden;text-align: left;background-color: #f0f8ff;}#sk-c6c2466b-dedf-4fb7-981f-45a6ee34d387 div.sk-toggleable__content pre {margin: 0.2em;color: black;border-radius: 0.25em;background-color: #f0f8ff;}#sk-c6c2466b-dedf-4fb7-981f-45a6ee34d387 input.sk-toggleable__control:checked~div.sk-toggleable__content {max-height: 200px;max-width: 100%;overflow: auto;}#sk-c6c2466b-dedf-4fb7-981f-45a6ee34d387 input.sk-toggleable__control:checked~label.sk-toggleable__label-arrow:before {content: \"▾\";}#sk-c6c2466b-dedf-4fb7-981f-45a6ee34d387 div.sk-estimator input.sk-toggleable__control:checked~label.sk-toggleable__label {background-color: #d4ebff;}#sk-c6c2466b-dedf-4fb7-981f-45a6ee34d387 div.sk-label input.sk-toggleable__control:checked~label.sk-toggleable__label {background-color: #d4ebff;}#sk-c6c2466b-dedf-4fb7-981f-45a6ee34d387 input.sk-hidden--visually {border: 0;clip: rect(1px 1px 1px 1px);clip: rect(1px, 1px, 1px, 1px);height: 1px;margin: -1px;overflow: hidden;padding: 0;position: absolute;width: 1px;}#sk-c6c2466b-dedf-4fb7-981f-45a6ee34d387 div.sk-estimator {font-family: monospace;background-color: #f0f8ff;border: 1px dotted black;border-radius: 0.25em;box-sizing: border-box;margin-bottom: 0.5em;}#sk-c6c2466b-dedf-4fb7-981f-45a6ee34d387 div.sk-estimator:hover {background-color: #d4ebff;}#sk-c6c2466b-dedf-4fb7-981f-45a6ee34d387 div.sk-parallel-item::after {content: \"\";width: 100%;border-bottom: 1px solid gray;flex-grow: 1;}#sk-c6c2466b-dedf-4fb7-981f-45a6ee34d387 div.sk-label:hover label.sk-toggleable__label {background-color: #d4ebff;}#sk-c6c2466b-dedf-4fb7-981f-45a6ee34d387 div.sk-serial::before {content: \"\";position: absolute;border-left: 1px solid gray;box-sizing: border-box;top: 2em;bottom: 0;left: 50%;}#sk-c6c2466b-dedf-4fb7-981f-45a6ee34d387 div.sk-serial {display: flex;flex-direction: column;align-items: center;background-color: white;padding-right: 0.2em;padding-left: 0.2em;}#sk-c6c2466b-dedf-4fb7-981f-45a6ee34d387 div.sk-item {z-index: 1;}#sk-c6c2466b-dedf-4fb7-981f-45a6ee34d387 div.sk-parallel {display: flex;align-items: stretch;justify-content: center;background-color: white;}#sk-c6c2466b-dedf-4fb7-981f-45a6ee34d387 div.sk-parallel::before {content: \"\";position: absolute;border-left: 1px solid gray;box-sizing: border-box;top: 2em;bottom: 0;left: 50%;}#sk-c6c2466b-dedf-4fb7-981f-45a6ee34d387 div.sk-parallel-item {display: flex;flex-direction: column;position: relative;background-color: white;}#sk-c6c2466b-dedf-4fb7-981f-45a6ee34d387 div.sk-parallel-item:first-child::after {align-self: flex-end;width: 50%;}#sk-c6c2466b-dedf-4fb7-981f-45a6ee34d387 div.sk-parallel-item:last-child::after {align-self: flex-start;width: 50%;}#sk-c6c2466b-dedf-4fb7-981f-45a6ee34d387 div.sk-parallel-item:only-child::after {width: 0;}#sk-c6c2466b-dedf-4fb7-981f-45a6ee34d387 div.sk-dashed-wrapped {border: 1px dashed gray;margin: 0 0.4em 0.5em 0.4em;box-sizing: border-box;padding-bottom: 0.4em;background-color: white;position: relative;}#sk-c6c2466b-dedf-4fb7-981f-45a6ee34d387 div.sk-label label {font-family: monospace;font-weight: bold;background-color: white;display: inline-block;line-height: 1.2em;}#sk-c6c2466b-dedf-4fb7-981f-45a6ee34d387 div.sk-label-container {position: relative;z-index: 2;text-align: center;}#sk-c6c2466b-dedf-4fb7-981f-45a6ee34d387 div.sk-container {/* jupyter's `normalize.less` sets `[hidden] { display: none; }` but bootstrap.min.css set `[hidden] { display: none !important; }` so we also need the `!important` here to be able to override the default hidden behavior on the sphinx rendered scikit-learn.org. See: https://github.com/scikit-learn/scikit-learn/issues/21755 */display: inline-block !important;position: relative;}#sk-c6c2466b-dedf-4fb7-981f-45a6ee34d387 div.sk-text-repr-fallback {display: none;}</style><div id=\"sk-c6c2466b-dedf-4fb7-981f-45a6ee34d387\" class=\"sk-top-container\"><div class=\"sk-text-repr-fallback\"><pre>GridSearchCV(cv=2,\n",
       "             estimator=Pipeline(steps=[(&#x27;ordinal_preprocessor&#x27;,\n",
       "                                        ColumnTransformer(transformers=[(&#x27;ordinal_encoder&#x27;,\n",
       "                                                                         ColumnTransformer(remainder=&#x27;passthrough&#x27;,\n",
       "                                                                                           transformers=[(&#x27;ordinalencoder&#x27;,\n",
       "                                                                                                          OrdinalEncoder(handle_unknown=&#x27;use_encoded_value&#x27;,\n",
       "                                                                                                                         unknown_value=nan),\n",
       "                                                                                                          &lt;sklearn.compose._column_transformer.make_column_selector object at 0x7fadadd9f9d0&gt;)],\n",
       "                                                                                           verbo...\n",
       "                                                                          &#x27;obsm&#x27;,\n",
       "                                                                          &#x27;choc&#x27;,\n",
       "                                                                          &#x27;manv&#x27;,\n",
       "                                                                          &#x27;catv_Label&#x27;,\n",
       "                                                                          &#x27;lum&#x27;,\n",
       "                                                                          &#x27;agg&#x27;,\n",
       "                                                                          &#x27;int&#x27;,\n",
       "                                                                          &#x27;atm&#x27;,\n",
       "                                                                          &#x27;col&#x27;,\n",
       "                                                                          &#x27;jour_de_la_semaine&#x27;, ...]),\n",
       "                                                                        (&#x27;standard_scaler&#x27;,\n",
       "                                                                         StandardScaler(),\n",
       "                                                                         [&#x27;age_acc_an&#x27;,\n",
       "                                                                          &#x27;nbv&#x27;,\n",
       "                                                                          &#x27;occutc&#x27;])])),\n",
       "                                       (&#x27;model_hist_ordinal&#x27;,\n",
       "                                        HistGradientBoostingClassifier(random_state=52))]),\n",
       "             n_jobs=2,\n",
       "             param_grid={&#x27;model_hist_ordinal__learning_rate&#x27;: (0.01, 0.1, 1,\n",
       "                                                               10),\n",
       "                         &#x27;model_hist_ordinal__max_leaf_nodes&#x27;: (3, 10, 30)})</pre><b>Please rerun this cell to show the HTML repr or trust the notebook.</b></div><div class=\"sk-container\" hidden><div class=\"sk-item sk-dashed-wrapped\"><div class=\"sk-label-container\"><div class=\"sk-label sk-toggleable\"><input class=\"sk-toggleable__control sk-hidden--visually\" id=\"e5bd8729-dfbc-499f-b1ae-fa3bb6c697df\" type=\"checkbox\" ><label for=\"e5bd8729-dfbc-499f-b1ae-fa3bb6c697df\" class=\"sk-toggleable__label sk-toggleable__label-arrow\">GridSearchCV</label><div class=\"sk-toggleable__content\"><pre>GridSearchCV(cv=2,\n",
       "             estimator=Pipeline(steps=[(&#x27;ordinal_preprocessor&#x27;,\n",
       "                                        ColumnTransformer(transformers=[(&#x27;ordinal_encoder&#x27;,\n",
       "                                                                         ColumnTransformer(remainder=&#x27;passthrough&#x27;,\n",
       "                                                                                           transformers=[(&#x27;ordinalencoder&#x27;,\n",
       "                                                                                                          OrdinalEncoder(handle_unknown=&#x27;use_encoded_value&#x27;,\n",
       "                                                                                                                         unknown_value=nan),\n",
       "                                                                                                          &lt;sklearn.compose._column_transformer.make_column_selector object at 0x7fadadd9f9d0&gt;)],\n",
       "                                                                                           verbo...\n",
       "                                                                          &#x27;obsm&#x27;,\n",
       "                                                                          &#x27;choc&#x27;,\n",
       "                                                                          &#x27;manv&#x27;,\n",
       "                                                                          &#x27;catv_Label&#x27;,\n",
       "                                                                          &#x27;lum&#x27;,\n",
       "                                                                          &#x27;agg&#x27;,\n",
       "                                                                          &#x27;int&#x27;,\n",
       "                                                                          &#x27;atm&#x27;,\n",
       "                                                                          &#x27;col&#x27;,\n",
       "                                                                          &#x27;jour_de_la_semaine&#x27;, ...]),\n",
       "                                                                        (&#x27;standard_scaler&#x27;,\n",
       "                                                                         StandardScaler(),\n",
       "                                                                         [&#x27;age_acc_an&#x27;,\n",
       "                                                                          &#x27;nbv&#x27;,\n",
       "                                                                          &#x27;occutc&#x27;])])),\n",
       "                                       (&#x27;model_hist_ordinal&#x27;,\n",
       "                                        HistGradientBoostingClassifier(random_state=52))]),\n",
       "             n_jobs=2,\n",
       "             param_grid={&#x27;model_hist_ordinal__learning_rate&#x27;: (0.01, 0.1, 1,\n",
       "                                                               10),\n",
       "                         &#x27;model_hist_ordinal__max_leaf_nodes&#x27;: (3, 10, 30)})</pre></div></div></div><div class=\"sk-parallel\"><div class=\"sk-parallel-item\"><div class=\"sk-item\"><div class=\"sk-serial\"><div class=\"sk-item\"><div class=\"sk-serial\"><div class=\"sk-item sk-dashed-wrapped\"><div class=\"sk-label-container\"><div class=\"sk-label sk-toggleable\"><input class=\"sk-toggleable__control sk-hidden--visually\" id=\"a92934b8-d095-44cb-8894-43c2f59919e1\" type=\"checkbox\" ><label for=\"a92934b8-d095-44cb-8894-43c2f59919e1\" class=\"sk-toggleable__label sk-toggleable__label-arrow\">ordinal_preprocessor: ColumnTransformer</label><div class=\"sk-toggleable__content\"><pre>ColumnTransformer(transformers=[(&#x27;ordinal_encoder&#x27;,\n",
       "                                 ColumnTransformer(remainder=&#x27;passthrough&#x27;,\n",
       "                                                   transformers=[(&#x27;ordinalencoder&#x27;,\n",
       "                                                                  OrdinalEncoder(handle_unknown=&#x27;use_encoded_value&#x27;,\n",
       "                                                                                 unknown_value=nan),\n",
       "                                                                  &lt;sklearn.compose._column_transformer.make_column_selector object at 0x7fadadd9f9d0&gt;)],\n",
       "                                                   verbose_feature_names_out=False),\n",
       "                                 [&#x27;place&#x27;, &#x27;catu&#x27;, &#x27;sexe&#x27;, &#x27;trajet&#x27;, &#x27;locp&#x27;,\n",
       "                                  &#x27;actp&#x27;, &#x27;etatp&#x27;, &#x27;secuUn&#x27;, &#x27;secuDeux&#x27;,\n",
       "                                  &#x27;tranches_ages&#x27;, &#x27;catr&#x27;, &#x27;circ&#x27;, &#x27;vosp&#x27;,\n",
       "                                  &#x27;prof&#x27;, &#x27;plan&#x27;, &#x27;surf&#x27;, &#x27;infra&#x27;, &#x27;situ&#x27;,\n",
       "                                  &#x27;senc&#x27;, &#x27;obs&#x27;, &#x27;obsm&#x27;, &#x27;choc&#x27;, &#x27;manv&#x27;,\n",
       "                                  &#x27;catv_Label&#x27;, &#x27;lum&#x27;, &#x27;agg&#x27;, &#x27;int&#x27;, &#x27;atm&#x27;,\n",
       "                                  &#x27;col&#x27;, &#x27;jour_de_la_semaine&#x27;, ...]),\n",
       "                                (&#x27;standard_scaler&#x27;, StandardScaler(),\n",
       "                                 [&#x27;age_acc_an&#x27;, &#x27;nbv&#x27;, &#x27;occutc&#x27;])])</pre></div></div></div><div class=\"sk-parallel\"><div class=\"sk-parallel-item\"><div class=\"sk-item\"><div class=\"sk-label-container\"><div class=\"sk-label sk-toggleable\"><input class=\"sk-toggleable__control sk-hidden--visually\" id=\"9e6504b1-06b0-407b-b2e9-840667140927\" type=\"checkbox\" ><label for=\"9e6504b1-06b0-407b-b2e9-840667140927\" class=\"sk-toggleable__label sk-toggleable__label-arrow\">ordinal_encoder</label><div class=\"sk-toggleable__content\"><pre>[&#x27;place&#x27;, &#x27;catu&#x27;, &#x27;sexe&#x27;, &#x27;trajet&#x27;, &#x27;locp&#x27;, &#x27;actp&#x27;, &#x27;etatp&#x27;, &#x27;secuUn&#x27;, &#x27;secuDeux&#x27;, &#x27;tranches_ages&#x27;, &#x27;catr&#x27;, &#x27;circ&#x27;, &#x27;vosp&#x27;, &#x27;prof&#x27;, &#x27;plan&#x27;, &#x27;surf&#x27;, &#x27;infra&#x27;, &#x27;situ&#x27;, &#x27;senc&#x27;, &#x27;obs&#x27;, &#x27;obsm&#x27;, &#x27;choc&#x27;, &#x27;manv&#x27;, &#x27;catv_Label&#x27;, &#x27;lum&#x27;, &#x27;agg&#x27;, &#x27;int&#x27;, &#x27;atm&#x27;, &#x27;col&#x27;, &#x27;jour_de_la_semaine&#x27;, &#x27;heure&#x27;]</pre></div></div></div><div class=\"sk-serial\"><div class=\"sk-item sk-dashed-wrapped\"><div class=\"sk-parallel\"><div class=\"sk-parallel-item\"><div class=\"sk-item\"><div class=\"sk-label-container\"><div class=\"sk-label sk-toggleable\"><input class=\"sk-toggleable__control sk-hidden--visually\" id=\"9c0a1d89-c641-4eb8-85eb-e860cc4cd69c\" type=\"checkbox\" ><label for=\"9c0a1d89-c641-4eb8-85eb-e860cc4cd69c\" class=\"sk-toggleable__label sk-toggleable__label-arrow\">ordinalencoder</label><div class=\"sk-toggleable__content\"><pre>&lt;sklearn.compose._column_transformer.make_column_selector object at 0x7fadadd9f9d0&gt;</pre></div></div></div><div class=\"sk-serial\"><div class=\"sk-item\"><div class=\"sk-estimator sk-toggleable\"><input class=\"sk-toggleable__control sk-hidden--visually\" id=\"0bf6f736-3c5a-4372-ba79-e44d4d52eec0\" type=\"checkbox\" ><label for=\"0bf6f736-3c5a-4372-ba79-e44d4d52eec0\" class=\"sk-toggleable__label sk-toggleable__label-arrow\">OrdinalEncoder</label><div class=\"sk-toggleable__content\"><pre>OrdinalEncoder(handle_unknown=&#x27;use_encoded_value&#x27;, unknown_value=nan)</pre></div></div></div></div></div></div><div class=\"sk-parallel-item\"><div class=\"sk-item\"><div class=\"sk-label-container\"><div class=\"sk-label sk-toggleable\"><input class=\"sk-toggleable__control sk-hidden--visually\" id=\"ef440581-d12d-4f3c-ac3d-0f30301442ca\" type=\"checkbox\" ><label for=\"ef440581-d12d-4f3c-ac3d-0f30301442ca\" class=\"sk-toggleable__label sk-toggleable__label-arrow\">remainder</label><div class=\"sk-toggleable__content\"><pre></pre></div></div></div><div class=\"sk-serial\"><div class=\"sk-item\"><div class=\"sk-estimator sk-toggleable\"><input class=\"sk-toggleable__control sk-hidden--visually\" id=\"dba92eed-5453-4e73-91db-20efea6aab7d\" type=\"checkbox\" ><label for=\"dba92eed-5453-4e73-91db-20efea6aab7d\" class=\"sk-toggleable__label sk-toggleable__label-arrow\">passthrough</label><div class=\"sk-toggleable__content\"><pre>passthrough</pre></div></div></div></div></div></div></div></div></div></div></div><div class=\"sk-parallel-item\"><div class=\"sk-item\"><div class=\"sk-label-container\"><div class=\"sk-label sk-toggleable\"><input class=\"sk-toggleable__control sk-hidden--visually\" id=\"b194067a-9bcf-40da-89bc-c045d9672138\" type=\"checkbox\" ><label for=\"b194067a-9bcf-40da-89bc-c045d9672138\" class=\"sk-toggleable__label sk-toggleable__label-arrow\">standard_scaler</label><div class=\"sk-toggleable__content\"><pre>[&#x27;age_acc_an&#x27;, &#x27;nbv&#x27;, &#x27;occutc&#x27;]</pre></div></div></div><div class=\"sk-serial\"><div class=\"sk-item\"><div class=\"sk-estimator sk-toggleable\"><input class=\"sk-toggleable__control sk-hidden--visually\" id=\"2904ba87-663d-4296-80c7-1d3c8116911b\" type=\"checkbox\" ><label for=\"2904ba87-663d-4296-80c7-1d3c8116911b\" class=\"sk-toggleable__label sk-toggleable__label-arrow\">StandardScaler</label><div class=\"sk-toggleable__content\"><pre>StandardScaler()</pre></div></div></div></div></div></div></div></div><div class=\"sk-item\"><div class=\"sk-estimator sk-toggleable\"><input class=\"sk-toggleable__control sk-hidden--visually\" id=\"35fcca40-8c98-4792-bbfa-d7ab0c7b108b\" type=\"checkbox\" ><label for=\"35fcca40-8c98-4792-bbfa-d7ab0c7b108b\" class=\"sk-toggleable__label sk-toggleable__label-arrow\">HistGradientBoostingClassifier</label><div class=\"sk-toggleable__content\"><pre>HistGradientBoostingClassifier(random_state=52)</pre></div></div></div></div></div></div></div></div></div></div></div></div>"
      ],
      "text/plain": [
       "GridSearchCV(cv=2,\n",
       "             estimator=Pipeline(steps=[('ordinal_preprocessor',\n",
       "                                        ColumnTransformer(transformers=[('ordinal_encoder',\n",
       "                                                                         ColumnTransformer(remainder='passthrough',\n",
       "                                                                                           transformers=[('ordinalencoder',\n",
       "                                                                                                          OrdinalEncoder(handle_unknown='use_encoded_value',\n",
       "                                                                                                                         unknown_value=nan),\n",
       "                                                                                                          <sklearn.compose._column_transformer.make_column_selector object at 0x7fadadd9f9d0>)],\n",
       "                                                                                           verbo...\n",
       "                                                                          'obsm',\n",
       "                                                                          'choc',\n",
       "                                                                          'manv',\n",
       "                                                                          'catv_Label',\n",
       "                                                                          'lum',\n",
       "                                                                          'agg',\n",
       "                                                                          'int',\n",
       "                                                                          'atm',\n",
       "                                                                          'col',\n",
       "                                                                          'jour_de_la_semaine', ...]),\n",
       "                                                                        ('standard_scaler',\n",
       "                                                                         StandardScaler(),\n",
       "                                                                         ['age_acc_an',\n",
       "                                                                          'nbv',\n",
       "                                                                          'occutc'])])),\n",
       "                                       ('model_hist_ordinal',\n",
       "                                        HistGradientBoostingClassifier(random_state=52))]),\n",
       "             n_jobs=2,\n",
       "             param_grid={'model_hist_ordinal__learning_rate': (0.01, 0.1, 1,\n",
       "                                                               10),\n",
       "                         'model_hist_ordinal__max_leaf_nodes': (3, 10, 30)})"
      ]
     },
     "execution_count": 96,
     "metadata": {},
     "output_type": "execute_result"
    }
   ],
   "source": [
    "# With hyperparameter tuning : use of a grid-search strategy\n",
    "#00:02 le 11-09-2023\n",
    "param_grid = {\n",
    "    'model_hist_ordinal__learning_rate': (0.01, 0.1, 1, 10),\n",
    "    'model_hist_ordinal__max_leaf_nodes': (3, 10, 30)}\n",
    "model_grid_search = GridSearchCV(hist_ordinal, param_grid=param_grid,\n",
    "                                 n_jobs=2, cv=2)\n",
    "model_grid_search.fit(X, y)"
   ]
  },
  {
   "cell_type": "code",
   "execution_count": 97,
   "id": "9ccf2494",
   "metadata": {},
   "outputs": [
    {
     "data": {
      "text/plain": [
       "1694384319.553673"
      ]
     },
     "execution_count": 97,
     "metadata": {},
     "output_type": "execute_result"
    }
   ],
   "source": [
    "time.time() # 17min"
   ]
  },
  {
   "cell_type": "code",
   "execution_count": 98,
   "id": "e7437175",
   "metadata": {},
   "outputs": [
    {
     "data": {
      "text/html": [
       "<div>\n",
       "<style scoped>\n",
       "    .dataframe tbody tr th:only-of-type {\n",
       "        vertical-align: middle;\n",
       "    }\n",
       "\n",
       "    .dataframe tbody tr th {\n",
       "        vertical-align: top;\n",
       "    }\n",
       "\n",
       "    .dataframe thead th {\n",
       "        text-align: right;\n",
       "    }\n",
       "</style>\n",
       "<table border=\"1\" class=\"dataframe\">\n",
       "  <thead>\n",
       "    <tr style=\"text-align: right;\">\n",
       "      <th></th>\n",
       "      <th>param_model_hist_ordinal__learning_rate</th>\n",
       "      <th>param_model_hist_ordinal__max_leaf_nodes</th>\n",
       "      <th>mean_test_score</th>\n",
       "      <th>std_test_score</th>\n",
       "      <th>rank_test_score</th>\n",
       "    </tr>\n",
       "  </thead>\n",
       "  <tbody>\n",
       "    <tr>\n",
       "      <th>0</th>\n",
       "      <td>0.01</td>\n",
       "      <td>3</td>\n",
       "      <td>0.551962</td>\n",
       "      <td>0.013395</td>\n",
       "      <td>9</td>\n",
       "    </tr>\n",
       "    <tr>\n",
       "      <th>1</th>\n",
       "      <td>0.01</td>\n",
       "      <td>10</td>\n",
       "      <td>0.608043</td>\n",
       "      <td>0.001690</td>\n",
       "      <td>7</td>\n",
       "    </tr>\n",
       "    <tr>\n",
       "      <th>2</th>\n",
       "      <td>0.01</td>\n",
       "      <td>30</td>\n",
       "      <td>0.628779</td>\n",
       "      <td>0.005061</td>\n",
       "      <td>3</td>\n",
       "    </tr>\n",
       "    <tr>\n",
       "      <th>3</th>\n",
       "      <td>0.1</td>\n",
       "      <td>3</td>\n",
       "      <td>0.621638</td>\n",
       "      <td>0.003060</td>\n",
       "      <td>4</td>\n",
       "    </tr>\n",
       "    <tr>\n",
       "      <th>4</th>\n",
       "      <td>0.1</td>\n",
       "      <td>10</td>\n",
       "      <td>0.645295</td>\n",
       "      <td>0.005221</td>\n",
       "      <td>2</td>\n",
       "    </tr>\n",
       "    <tr>\n",
       "      <th>5</th>\n",
       "      <td>0.1</td>\n",
       "      <td>30</td>\n",
       "      <td>0.648576</td>\n",
       "      <td>0.006498</td>\n",
       "      <td>1</td>\n",
       "    </tr>\n",
       "    <tr>\n",
       "      <th>6</th>\n",
       "      <td>1</td>\n",
       "      <td>3</td>\n",
       "      <td>0.557389</td>\n",
       "      <td>0.002679</td>\n",
       "      <td>8</td>\n",
       "    </tr>\n",
       "    <tr>\n",
       "      <th>7</th>\n",
       "      <td>1</td>\n",
       "      <td>10</td>\n",
       "      <td>0.611350</td>\n",
       "      <td>0.011249</td>\n",
       "      <td>6</td>\n",
       "    </tr>\n",
       "    <tr>\n",
       "      <th>8</th>\n",
       "      <td>1</td>\n",
       "      <td>30</td>\n",
       "      <td>0.617513</td>\n",
       "      <td>0.011942</td>\n",
       "      <td>5</td>\n",
       "    </tr>\n",
       "    <tr>\n",
       "      <th>9</th>\n",
       "      <td>10</td>\n",
       "      <td>3</td>\n",
       "      <td>0.392159</td>\n",
       "      <td>0.120301</td>\n",
       "      <td>11</td>\n",
       "    </tr>\n",
       "    <tr>\n",
       "      <th>10</th>\n",
       "      <td>10</td>\n",
       "      <td>10</td>\n",
       "      <td>0.309666</td>\n",
       "      <td>0.081121</td>\n",
       "      <td>12</td>\n",
       "    </tr>\n",
       "    <tr>\n",
       "      <th>11</th>\n",
       "      <td>10</td>\n",
       "      <td>30</td>\n",
       "      <td>0.444752</td>\n",
       "      <td>0.034316</td>\n",
       "      <td>10</td>\n",
       "    </tr>\n",
       "  </tbody>\n",
       "</table>\n",
       "</div>"
      ],
      "text/plain": [
       "   param_model_hist_ordinal__learning_rate  \\\n",
       "0                                     0.01   \n",
       "1                                     0.01   \n",
       "2                                     0.01   \n",
       "3                                      0.1   \n",
       "4                                      0.1   \n",
       "5                                      0.1   \n",
       "6                                        1   \n",
       "7                                        1   \n",
       "8                                        1   \n",
       "9                                       10   \n",
       "10                                      10   \n",
       "11                                      10   \n",
       "\n",
       "   param_model_hist_ordinal__max_leaf_nodes  mean_test_score  std_test_score  \\\n",
       "0                                         3         0.551962        0.013395   \n",
       "1                                        10         0.608043        0.001690   \n",
       "2                                        30         0.628779        0.005061   \n",
       "3                                         3         0.621638        0.003060   \n",
       "4                                        10         0.645295        0.005221   \n",
       "5                                        30         0.648576        0.006498   \n",
       "6                                         3         0.557389        0.002679   \n",
       "7                                        10         0.611350        0.011249   \n",
       "8                                        30         0.617513        0.011942   \n",
       "9                                         3         0.392159        0.120301   \n",
       "10                                       10         0.309666        0.081121   \n",
       "11                                       30         0.444752        0.034316   \n",
       "\n",
       "    rank_test_score  \n",
       "0                 9  \n",
       "1                 7  \n",
       "2                 3  \n",
       "3                 4  \n",
       "4                 2  \n",
       "5                 1  \n",
       "6                 8  \n",
       "7                 6  \n",
       "8                 5  \n",
       "9                11  \n",
       "10               12  \n",
       "11               10  "
      ]
     },
     "execution_count": 98,
     "metadata": {},
     "output_type": "execute_result"
    }
   ],
   "source": [
    "# The best combination is selected by keeping the combination leading to the best mean cross-validated score.\n",
    "cv_results_grid = pd.DataFrame(model_grid_search.cv_results_)\n",
    "cv_results_grid[[\n",
    "    \"param_model_hist_ordinal__learning_rate\",\n",
    "    \"param_model_hist_ordinal__max_leaf_nodes\",\n",
    "    \"mean_test_score\",\n",
    "    \"std_test_score\",\n",
    "    \"rank_test_score\"\n",
    "]]"
   ]
  },
  {
   "cell_type": "code",
   "execution_count": 99,
   "id": "0c15ff3f",
   "metadata": {},
   "outputs": [
    {
     "data": {
      "text/plain": [
       "{'model_hist_ordinal__learning_rate': 0.1,\n",
       " 'model_hist_ordinal__max_leaf_nodes': 30}"
      ]
     },
     "execution_count": 99,
     "metadata": {},
     "output_type": "execute_result"
    }
   ],
   "source": [
    "model_grid_search.best_params_"
   ]
  },
  {
   "cell_type": "code",
   "execution_count": 100,
   "id": "c0e5733d",
   "metadata": {},
   "outputs": [
    {
     "name": "stdout",
     "output_type": "stream",
     "text": [
      "Accuracy on test set: 0.659\n",
      "Execution time: 782.6459 seconds\n"
     ]
    }
   ],
   "source": [
    "# using knowledge from the full dataset to both decide our model’s hyper-parameters and to train the refitted model\n",
    "\n",
    "start_time = time.time()\n",
    "\n",
    "model_grid_search.fit(X_train, y_train)\n",
    "accuracy = model_grid_search.score(X_test, y_test)\n",
    "print(f\"Accuracy on test set: {accuracy:.3f}\")\n",
    "\n",
    "end_time = time.time()\n",
    "execution_time = end_time - start_time\n",
    "\n",
    "print(f\"Execution time: {execution_time:.4f} seconds\")"
   ]
  },
  {
   "cell_type": "code",
   "execution_count": 101,
   "id": "b78afdff",
   "metadata": {},
   "outputs": [
    {
     "name": "stdout",
     "output_type": "stream",
     "text": [
      "Execution time: 29040.3973 seconds\n"
     ]
    }
   ],
   "source": [
    "# cross-validation for the evaluation of generalization performance of the refitted tuned model.\n",
    "start_time = time.time()\n",
    "cv_results = cross_validate(\n",
    "    model_grid_search, X, y, cv=5, n_jobs=2, return_estimator=True\n",
    ")\n",
    "end_time = time.time()\n",
    "execution_time = end_time - start_time\n",
    "\n",
    "print(f\"Execution time: {execution_time:.4f} seconds\")"
   ]
  },
  {
   "cell_type": "code",
   "execution_count": 102,
   "id": "d594387a",
   "metadata": {},
   "outputs": [
    {
     "name": "stdout",
     "output_type": "stream",
     "text": [
      "Generalization score with hyperparameters tuning:\n",
      "0.653 ± 0.016\n"
     ]
    }
   ],
   "source": [
    "cv_results = pd.DataFrame(cv_results)\n",
    "cv_test_scores = cv_results['test_score']\n",
    "print(\n",
    "    \"Generalization score with hyperparameters tuning:\\n\"\n",
    "    f\"{cv_test_scores.mean():.3f} ± {cv_test_scores.std():.3f}\"\n",
    ")\n"
   ]
  },
  {
   "cell_type": "code",
   "execution_count": 103,
   "id": "bd51bc47",
   "metadata": {},
   "outputs": [
    {
     "name": "stdout",
     "output_type": "stream",
     "text": [
      "Best hyperparameters for fold #1:\n",
      "{'model_hist_ordinal__learning_rate': 0.1, 'model_hist_ordinal__max_leaf_nodes': 30}\n",
      "Best hyperparameters for fold #2:\n",
      "{'model_hist_ordinal__learning_rate': 0.1, 'model_hist_ordinal__max_leaf_nodes': 30}\n",
      "Best hyperparameters for fold #3:\n",
      "{'model_hist_ordinal__learning_rate': 0.1, 'model_hist_ordinal__max_leaf_nodes': 30}\n",
      "Best hyperparameters for fold #4:\n",
      "{'model_hist_ordinal__learning_rate': 0.1, 'model_hist_ordinal__max_leaf_nodes': 30}\n",
      "Best hyperparameters for fold #5:\n",
      "{'model_hist_ordinal__learning_rate': 0.1, 'model_hist_ordinal__max_leaf_nodes': 30}\n"
     ]
    }
   ],
   "source": [
    "# It is interesting to see whether the hyper-parameter tuning procedure always select similar values \n",
    "# for the hyperparameters. \n",
    "for cv_fold, estimator_in_fold in enumerate(cv_results[\"estimator\"]):\n",
    "    print(\n",
    "        f\"Best hyperparameters for fold #{cv_fold + 1}:\\n\"\n",
    "        f\"{estimator_in_fold.best_params_}\"\n",
    "    )"
   ]
  },
  {
   "cell_type": "markdown",
   "id": "28edcf76",
   "metadata": {},
   "source": [
    "\"Bagging\" stands for Bootstrap AGGregatING. It uses bootstrap resampling (random sampling with replacement) to learn several models on random variations of the training set. At predict time, the predictions of each learner are aggregated to give the final predictions.\n",
    "\n"
   ]
  },
  {
   "cell_type": "code",
   "execution_count": 105,
   "id": "9d8062dd",
   "metadata": {},
   "outputs": [],
   "source": [
    "bagged_hgbc = make_pipeline(\n",
    "    ordinal_preprocessor,\n",
    "    BaggingClassifier(\n",
    "        base_estimator=hist_gradient_boosting,\n",
    "        n_estimators=50, n_jobs=2, random_state=0,\n",
    "    )\n",
    ")"
   ]
  },
  {
   "cell_type": "code",
   "execution_count": 107,
   "id": "a9de8b9e",
   "metadata": {},
   "outputs": [],
   "source": [
    "from sklearn.model_selection import cross_val_score"
   ]
  },
  {
   "cell_type": "code",
   "execution_count": null,
   "id": "37ca57e4",
   "metadata": {},
   "outputs": [],
   "source": [
    "scores_bagged_hgbc = cross_val_score(bagged_hgbc, X, y)\n",
    "\n",
    "print(f\"Bagged histo gradient boosting classifier: \"\n",
    "      f\"{scores_bagged_hgbc.mean():.3f} ± {scores_bagged_hgbc.std():.3f}\")"
   ]
  },
  {
   "cell_type": "code",
   "execution_count": null,
   "id": "ec69aaca",
   "metadata": {},
   "outputs": [],
   "source": [
    "\n",
    "# Création du classifier et construction du modèle sur les données d'entraînement\n",
    "ac = AdaBoostClassifier(base_estimator=hist_ordinal, n_estimators=400)\n",
    "ac.fit(X_train, y_train)\n",
    "\n",
    "# Calcul de l'accuracy\n",
    "ac.score(X_test, y_test)"
   ]
  },
  {
   "cell_type": "markdown",
   "id": "3f4d0ad7",
   "metadata": {},
   "source": [
    "<div class=\"alert alert-block alert-info\">\n",
    "<h2><a id = \"reduction_dimension\">Réduction de dimension</a></h2>\n",
    "</div>"
   ]
  },
  {
   "cell_type": "raw",
   "id": "66bfe4e3",
   "metadata": {},
   "source": [
    "## <p style=\"color:yellow\">Réduction de dimensiong</p> {#reduction_dimension}"
   ]
  },
  {
   "cell_type": "markdown",
   "id": "207fa599",
   "metadata": {},
   "source": [
    "##### Feature selection\n",
    "Supprimer les features de variance nulle d'un dataset : elles ne peuvent être d'aucune utilité."
   ]
  },
  {
   "cell_type": "code",
   "execution_count": 128,
   "id": "27577b44",
   "metadata": {},
   "outputs": [
    {
     "data": {
      "text/html": [
       "<style>#sk-d2947b0c-c268-467a-89d8-ea568e515d59 {color: black;background-color: white;}#sk-d2947b0c-c268-467a-89d8-ea568e515d59 pre{padding: 0;}#sk-d2947b0c-c268-467a-89d8-ea568e515d59 div.sk-toggleable {background-color: white;}#sk-d2947b0c-c268-467a-89d8-ea568e515d59 label.sk-toggleable__label {cursor: pointer;display: block;width: 100%;margin-bottom: 0;padding: 0.3em;box-sizing: border-box;text-align: center;}#sk-d2947b0c-c268-467a-89d8-ea568e515d59 label.sk-toggleable__label-arrow:before {content: \"▸\";float: left;margin-right: 0.25em;color: #696969;}#sk-d2947b0c-c268-467a-89d8-ea568e515d59 label.sk-toggleable__label-arrow:hover:before {color: black;}#sk-d2947b0c-c268-467a-89d8-ea568e515d59 div.sk-estimator:hover label.sk-toggleable__label-arrow:before {color: black;}#sk-d2947b0c-c268-467a-89d8-ea568e515d59 div.sk-toggleable__content {max-height: 0;max-width: 0;overflow: hidden;text-align: left;background-color: #f0f8ff;}#sk-d2947b0c-c268-467a-89d8-ea568e515d59 div.sk-toggleable__content pre {margin: 0.2em;color: black;border-radius: 0.25em;background-color: #f0f8ff;}#sk-d2947b0c-c268-467a-89d8-ea568e515d59 input.sk-toggleable__control:checked~div.sk-toggleable__content {max-height: 200px;max-width: 100%;overflow: auto;}#sk-d2947b0c-c268-467a-89d8-ea568e515d59 input.sk-toggleable__control:checked~label.sk-toggleable__label-arrow:before {content: \"▾\";}#sk-d2947b0c-c268-467a-89d8-ea568e515d59 div.sk-estimator input.sk-toggleable__control:checked~label.sk-toggleable__label {background-color: #d4ebff;}#sk-d2947b0c-c268-467a-89d8-ea568e515d59 div.sk-label input.sk-toggleable__control:checked~label.sk-toggleable__label {background-color: #d4ebff;}#sk-d2947b0c-c268-467a-89d8-ea568e515d59 input.sk-hidden--visually {border: 0;clip: rect(1px 1px 1px 1px);clip: rect(1px, 1px, 1px, 1px);height: 1px;margin: -1px;overflow: hidden;padding: 0;position: absolute;width: 1px;}#sk-d2947b0c-c268-467a-89d8-ea568e515d59 div.sk-estimator {font-family: monospace;background-color: #f0f8ff;border: 1px dotted black;border-radius: 0.25em;box-sizing: border-box;margin-bottom: 0.5em;}#sk-d2947b0c-c268-467a-89d8-ea568e515d59 div.sk-estimator:hover {background-color: #d4ebff;}#sk-d2947b0c-c268-467a-89d8-ea568e515d59 div.sk-parallel-item::after {content: \"\";width: 100%;border-bottom: 1px solid gray;flex-grow: 1;}#sk-d2947b0c-c268-467a-89d8-ea568e515d59 div.sk-label:hover label.sk-toggleable__label {background-color: #d4ebff;}#sk-d2947b0c-c268-467a-89d8-ea568e515d59 div.sk-serial::before {content: \"\";position: absolute;border-left: 1px solid gray;box-sizing: border-box;top: 2em;bottom: 0;left: 50%;}#sk-d2947b0c-c268-467a-89d8-ea568e515d59 div.sk-serial {display: flex;flex-direction: column;align-items: center;background-color: white;padding-right: 0.2em;padding-left: 0.2em;}#sk-d2947b0c-c268-467a-89d8-ea568e515d59 div.sk-item {z-index: 1;}#sk-d2947b0c-c268-467a-89d8-ea568e515d59 div.sk-parallel {display: flex;align-items: stretch;justify-content: center;background-color: white;}#sk-d2947b0c-c268-467a-89d8-ea568e515d59 div.sk-parallel::before {content: \"\";position: absolute;border-left: 1px solid gray;box-sizing: border-box;top: 2em;bottom: 0;left: 50%;}#sk-d2947b0c-c268-467a-89d8-ea568e515d59 div.sk-parallel-item {display: flex;flex-direction: column;position: relative;background-color: white;}#sk-d2947b0c-c268-467a-89d8-ea568e515d59 div.sk-parallel-item:first-child::after {align-self: flex-end;width: 50%;}#sk-d2947b0c-c268-467a-89d8-ea568e515d59 div.sk-parallel-item:last-child::after {align-self: flex-start;width: 50%;}#sk-d2947b0c-c268-467a-89d8-ea568e515d59 div.sk-parallel-item:only-child::after {width: 0;}#sk-d2947b0c-c268-467a-89d8-ea568e515d59 div.sk-dashed-wrapped {border: 1px dashed gray;margin: 0 0.4em 0.5em 0.4em;box-sizing: border-box;padding-bottom: 0.4em;background-color: white;position: relative;}#sk-d2947b0c-c268-467a-89d8-ea568e515d59 div.sk-label label {font-family: monospace;font-weight: bold;background-color: white;display: inline-block;line-height: 1.2em;}#sk-d2947b0c-c268-467a-89d8-ea568e515d59 div.sk-label-container {position: relative;z-index: 2;text-align: center;}#sk-d2947b0c-c268-467a-89d8-ea568e515d59 div.sk-container {/* jupyter's `normalize.less` sets `[hidden] { display: none; }` but bootstrap.min.css set `[hidden] { display: none !important; }` so we also need the `!important` here to be able to override the default hidden behavior on the sphinx rendered scikit-learn.org. See: https://github.com/scikit-learn/scikit-learn/issues/21755 */display: inline-block !important;position: relative;}#sk-d2947b0c-c268-467a-89d8-ea568e515d59 div.sk-text-repr-fallback {display: none;}</style><div id=\"sk-d2947b0c-c268-467a-89d8-ea568e515d59\" class=\"sk-top-container\"><div class=\"sk-text-repr-fallback\"><pre>VarianceThreshold(threshold=1e-06)</pre><b>Please rerun this cell to show the HTML repr or trust the notebook.</b></div><div class=\"sk-container\" hidden><div class=\"sk-item\"><div class=\"sk-estimator sk-toggleable\"><input class=\"sk-toggleable__control sk-hidden--visually\" id=\"e2562ced-943b-4fa2-9966-5bc3a69830f2\" type=\"checkbox\" checked><label for=\"e2562ced-943b-4fa2-9966-5bc3a69830f2\" class=\"sk-toggleable__label sk-toggleable__label-arrow\">VarianceThreshold</label><div class=\"sk-toggleable__content\"><pre>VarianceThreshold(threshold=1e-06)</pre></div></div></div></div></div>"
      ],
      "text/plain": [
       "VarianceThreshold(threshold=1e-06)"
      ]
     },
     "execution_count": 128,
     "metadata": {},
     "output_type": "execute_result"
    }
   ],
   "source": [
    "# Création d'un sélecteur VarianceThreshold\n",
    "sel = VarianceThreshold(threshold = 1e-6)\n",
    "\n",
    "# Ajustement de ce sélecteur sur le jeu d'entrainement.\n",
    "start_time = time.time()\n",
    "sel.fit(X_train_encoded)#, y_train"
   ]
  },
  {
   "cell_type": "code",
   "execution_count": 129,
   "id": "8ff521cc",
   "metadata": {},
   "outputs": [
    {
     "data": {
      "text/plain": [
       "19.24398899078369"
      ]
     },
     "execution_count": 129,
     "metadata": {},
     "output_type": "execute_result"
    }
   ],
   "source": [
    "end_time = time.time()\n",
    "execution_time = end_time - start_time\n",
    "execution_time"
   ]
  },
  {
   "cell_type": "code",
   "execution_count": 130,
   "id": "5ecaf52f",
   "metadata": {},
   "outputs": [
    {
     "data": {
      "image/png": "[encoded data removed]",
      "text/plain": [
       "<Figure size 1600x200 with 1 Axes>"
      ]
     },
     "metadata": {},
     "output_type": "display_data"
    }
   ],
   "source": [
    "# Récupération du masque du sélecteur dans une variable mask.\n",
    "mask = sel.get_support()\n",
    "\n",
    "#Décommentez les lignes ci dessous avant d'exécuter votre code\n",
    "plt.matshow(mask.reshape(1,-1), cmap = 'gray_r')\n",
    "plt.xlabel('Axe des features');"
   ]
  },
  {
   "cell_type": "markdown",
   "id": "2041a508",
   "metadata": {},
   "source": [
    "https://scikit-learn.org/stable/modules/generated/sklearn.feature_selection.f_classif.html#sklearn.feature_selection.f_classif\n",
    "\n",
    "   Ne pas utiliser un test statistique de régression pour un problème de classification et inversement, les résultats n'auraient pas de sens !\n",
    "   \n",
    "   "
   ]
  },
  {
   "cell_type": "markdown",
   "id": "f62e157b",
   "metadata": {},
   "source": [
    "Il existe plusieurs tests statistiques pour classer les variables les unes par rapport aux autres. Toutes ces méthodes sont regroupées sous le nom de Univariate Feature Selection. Dans le cas d’un problème supervisé, la dépendance entre la variable cible et les features est mesurée, "
   ]
  },
  {
   "cell_type": "markdown",
   "id": "eb954cac",
   "metadata": {},
   "source": [
    "The error message Input X must be non-negative says it all: Pearson's chi square test (goodness of fit) does not apply to negative values. It's logical because the chi square test assumes frequencies distribution and a frequency can't be a negative number. Consequently, sklearn.feature_selection.chi2 asserts the input is non-negative."
   ]
  },
  {
   "cell_type": "code",
   "execution_count": 132,
   "id": "3f9affb0",
   "metadata": {},
   "outputs": [
    {
     "data": {
      "text/plain": [
       "(1833391, 25)"
      ]
     },
     "execution_count": 132,
     "metadata": {},
     "output_type": "execute_result"
    }
   ],
   "source": [
    "#X.shape\n",
    "\n",
    "sel_Anova = SelectKBest(f_classif, k=25)\n",
    "\n",
    "start_time = time.time()\n",
    "# Ajustement de ce sélecteur sur le jeu d'entrainement.\n",
    "sel_Anova.fit(X_train_encoded, y_train2)\n",
    "\n",
    "\n",
    "X_new_Anova = sel_Anova.fit_transform(X_train_encoded, y_train2)\n",
    "X_new_Anova.shape"
   ]
  },
  {
   "cell_type": "code",
   "execution_count": 133,
   "id": "2f00d08a",
   "metadata": {},
   "outputs": [
    {
     "data": {
      "text/plain": [
       "53.37713003158569"
      ]
     },
     "execution_count": 133,
     "metadata": {},
     "output_type": "execute_result"
    }
   ],
   "source": [
    "end_time = time.time()\n",
    "execution_time = end_time - start_time\n",
    "execution_time"
   ]
  },
  {
   "cell_type": "code",
   "execution_count": 134,
   "id": "d93b712a",
   "metadata": {},
   "outputs": [
    {
     "data": {
      "text/plain": [
       "array([[1., 1., 0., 0., 1., 1., 0., 1., 0., 1., 0., 0., 0., 1., 0., 0.,\n",
       "        0., 1., 0., 0., 0., 0., 0., 1., 0.],\n",
       "       [1., 1., 0., 1., 1., 1., 0., 1., 0., 1., 0., 0., 0., 0., 0., 0.,\n",
       "        1., 1., 0., 0., 1., 0., 0., 0., 1.],\n",
       "       [1., 1., 0., 0., 1., 1., 0., 1., 0., 0., 1., 0., 1., 0., 1., 0.,\n",
       "        0., 1., 0., 0., 0., 0., 1., 0., 1.],\n",
       "       [1., 1., 0., 0., 1., 1., 0., 1., 0., 0., 1., 0., 0., 0., 0., 0.,\n",
       "        1., 0., 0., 0., 0., 0., 1., 0., 1.],\n",
       "       [1., 1., 0., 0., 1., 1., 0., 1., 0., 0., 1., 0., 0., 1., 0., 0.,\n",
       "        0., 0., 0., 0., 0., 0., 1., 1., 0.]])"
      ]
     },
     "execution_count": 134,
     "metadata": {},
     "output_type": "execute_result"
    }
   ],
   "source": [
    "X_new_Anova[:5,:]"
   ]
  },
  {
   "cell_type": "code",
   "execution_count": 135,
   "id": "d0f1f82d",
   "metadata": {},
   "outputs": [
    {
     "data": {
      "image/png": "[encoded data removed]",
      "text/plain": [
       "<Figure size 1600x200 with 1 Axes>"
      ]
     },
     "metadata": {},
     "output_type": "display_data"
    }
   ],
   "source": [
    "# Affichage de la représentation graphique des features sélectionnées.\n",
    "mask = sel_Anova.get_support()\n",
    "plt.matshow(mask.reshape(1,-1), cmap = 'gray_r')\n",
    "plt.xlabel('Axe des features');"
   ]
  },
  {
   "cell_type": "code",
   "execution_count": 136,
   "id": "c3ff57d5",
   "metadata": {},
   "outputs": [
    {
     "name": "stderr",
     "output_type": "stream",
     "text": [
      "/var/folders/g0/g76qn8pj0j10kx_v9q9r022w0000gn/T/ipykernel_17884/10897614.py:1: RuntimeWarning: divide by zero encountered in log10\n",
      "  scores_Anova = -np.log10(sel_Anova.pvalues_)\n",
      "/var/folders/g0/g76qn8pj0j10kx_v9q9r022w0000gn/T/ipykernel_17884/10897614.py:2: RuntimeWarning: invalid value encountered in true_divide\n",
      "  scores_Anova /= scores_Anova.max()\n"
     ]
    }
   ],
   "source": [
    "scores_Anova = -np.log10(sel_Anova.pvalues_)\n",
    "scores_Anova /= scores_Anova.max()"
   ]
  },
  {
   "cell_type": "code",
   "execution_count": 137,
   "id": "d693f2a8",
   "metadata": {},
   "outputs": [
    {
     "data": {
      "image/png": "[encoded data removed]",
      "text/plain": [
       "<Figure size 640x480 with 1 Axes>"
      ]
     },
     "metadata": {},
     "output_type": "display_data"
    }
   ],
   "source": [
    "X_indices = np.arange(X_encoded.shape[-1])\n",
    "plt.figure(1)\n",
    "plt.clf()\n",
    "plt.bar(X_indices, scores_Anova, width=0.2)\n",
    "plt.title(\"Feature univariate score\")\n",
    "plt.xlabel(\"Feature number\")\n",
    "plt.ylabel(r\"Univariate score ($-Log(p_{value})$)\")\n",
    "plt.show()"
   ]
  },
  {
   "cell_type": "code",
   "execution_count": 138,
   "id": "5f8e35c8",
   "metadata": {},
   "outputs": [
    {
     "data": {
      "text/plain": [
       "array([ 0.,  0., nan, nan, nan, nan,  0.,  0.,  0.,  0.,  0.,  0.,  0.,\n",
       "       nan, nan, nan, nan, nan,  0., nan, nan, nan, nan, nan, nan,  0.,\n",
       "       nan, nan, nan, nan, nan,  0., nan, nan,  0., nan, nan,  0.,  0.,\n",
       "       nan, nan,  0., nan, nan, nan, nan, nan, nan, nan, nan, nan,  0.,\n",
       "       nan, nan, nan, nan, nan,  0.,  0., nan,  0.,  0.,  0., nan,  0.,\n",
       "       nan, nan, nan, nan,  0.,  0., nan, nan, nan, nan, nan, nan, nan,\n",
       "       nan, nan,  0., nan, nan,  0.,  0.,  0.,  0., nan, nan,  0., nan,\n",
       "        0.,  0.,  0.,  0., nan,  0.,  0., nan, nan, nan,  0., nan, nan,\n",
       "       nan,  0., nan,  0.,  0.,  0.,  0.,  0.,  0.,  0.,  0.,  0.,  0.,\n",
       "        0.,  0.,  0.,  0.,  0.,  0.,  0.,  0.,  0.,  0.,  0.,  0.,  0.,\n",
       "        0., nan,  0.,  0., nan,  0., nan,  0.,  0.,  0.,  0.,  0., nan,\n",
       "       nan,  0.,  0., nan,  0., nan, nan, nan,  0., nan,  0.,  0.,  0.,\n",
       "       nan, nan, nan, nan,  0.,  0., nan, nan,  0., nan, nan,  0., nan,\n",
       "       nan, nan, nan, nan, nan, nan, nan,  0.,  0.,  0., nan, nan,  0.,\n",
       "       nan, nan,  0.,  0.,  0., nan, nan, nan, nan, nan,  0., nan,  0.,\n",
       "       nan, nan, nan, nan,  0., nan,  0., nan, nan, nan, nan,  0., nan,\n",
       "        0., nan, nan, nan, nan,  0.,  0.,  0., nan, nan, nan, nan,  0.,\n",
       "        0.,  0., nan,  0., nan,  0.,  0.,  0., nan,  0., nan, nan, nan,\n",
       "       nan,  0.,  0., nan, nan, nan,  0., nan,  0.,  0.,  0.,  0., nan,\n",
       "        0.,  0.,  0.,  0.,  0.,  0., nan,  0., nan, nan, nan, nan,  0.,\n",
       "       nan, nan, nan, nan, nan,  0.])"
      ]
     },
     "execution_count": 138,
     "metadata": {},
     "output_type": "execute_result"
    }
   ],
   "source": [
    "scores_Anova"
   ]
  },
  {
   "cell_type": "code",
   "execution_count": 139,
   "id": "0e50de08",
   "metadata": {},
   "outputs": [
    {
     "data": {
      "text/plain": [
       "array([4.65071288e-102, 3.17831319e-159, 0.00000000e+000, 0.00000000e+000,\n",
       "       0.00000000e+000, 0.00000000e+000, 5.08675756e-283, 6.86084775e-261,\n",
       "       4.25074580e-200, 2.32243572e-006, 6.43186217e-011, 3.81043362e-023,\n",
       "       8.40148858e-004, 0.00000000e+000, 0.00000000e+000, 0.00000000e+000,\n",
       "       0.00000000e+000, 0.00000000e+000, 5.92741363e-111, 0.00000000e+000,\n",
       "       0.00000000e+000, 0.00000000e+000, 0.00000000e+000, 0.00000000e+000,\n",
       "       0.00000000e+000, 6.82600129e-067, 0.00000000e+000, 0.00000000e+000,\n",
       "       0.00000000e+000, 0.00000000e+000, 0.00000000e+000, 3.87186943e-215,\n",
       "       0.00000000e+000, 0.00000000e+000, 5.04958796e-025, 0.00000000e+000,\n",
       "       0.00000000e+000, 2.32589647e-089, 3.88765774e-055, 0.00000000e+000,\n",
       "       0.00000000e+000, 1.88689437e-015, 0.00000000e+000, 0.00000000e+000,\n",
       "       0.00000000e+000, 0.00000000e+000, 0.00000000e+000, 0.00000000e+000,\n",
       "       0.00000000e+000, 0.00000000e+000, 0.00000000e+000, 1.02213979e-008,\n",
       "       0.00000000e+000, 0.00000000e+000, 0.00000000e+000, 0.00000000e+000,\n",
       "       0.00000000e+000, 7.21106136e-029, 1.36487020e-003, 0.00000000e+000,\n",
       "       4.68594226e-217, 4.55365397e-004, 1.65140825e-018, 0.00000000e+000,\n",
       "       1.43177909e-029, 0.00000000e+000, 0.00000000e+000, 0.00000000e+000,\n",
       "       0.00000000e+000, 2.27248344e-003, 2.72706124e-042, 0.00000000e+000,\n",
       "       0.00000000e+000, 0.00000000e+000, 0.00000000e+000, 0.00000000e+000,\n",
       "       0.00000000e+000, 0.00000000e+000, 0.00000000e+000, 0.00000000e+000,\n",
       "       1.38075241e-317, 0.00000000e+000, 0.00000000e+000, 3.63202216e-008,\n",
       "       2.02883586e-052, 8.53896250e-016, 1.09635374e-034, 0.00000000e+000,\n",
       "       0.00000000e+000, 2.48845117e-020, 0.00000000e+000, 9.06462521e-060,\n",
       "       3.52265275e-036, 8.89171539e-006, 3.18148992e-110, 0.00000000e+000,\n",
       "       4.25017527e-228, 9.92546586e-241, 0.00000000e+000, 0.00000000e+000,\n",
       "       0.00000000e+000, 8.00960237e-176, 0.00000000e+000, 0.00000000e+000,\n",
       "       0.00000000e+000, 4.96583843e-170, 0.00000000e+000, 7.53823404e-282,\n",
       "       1.42921670e-042, 1.16444178e-081, 5.15490631e-003, 2.56920228e-028,\n",
       "       2.40733701e-012, 4.05294559e-153, 1.47482589e-064, 5.32687781e-220,\n",
       "       8.28190705e-184, 5.63385134e-023, 1.49842100e-006, 9.28846157e-107,\n",
       "       1.55773517e-168, 4.06039775e-006, 2.42903878e-067, 1.65258072e-078,\n",
       "       1.10207610e-227, 4.35527033e-034, 1.07915507e-007, 5.92835145e-037,\n",
       "       1.36807347e-035, 2.81807113e-131, 6.62141022e-001, 0.00000000e+000,\n",
       "       8.38462259e-021, 4.07924671e-039, 0.00000000e+000, 1.08284963e-064,\n",
       "       0.00000000e+000, 6.90791573e-042, 1.46360117e-273, 1.30981503e-013,\n",
       "       8.90372359e-154, 6.48714204e-067, 0.00000000e+000, 0.00000000e+000,\n",
       "       6.33272142e-128, 4.22699904e-278, 0.00000000e+000, 7.50654648e-182,\n",
       "       0.00000000e+000, 0.00000000e+000, 0.00000000e+000, 1.95290028e-309,\n",
       "       0.00000000e+000, 6.91074161e-009, 2.30667912e-238, 1.12497941e-228,\n",
       "       0.00000000e+000, 0.00000000e+000, 0.00000000e+000, 0.00000000e+000,\n",
       "       7.05554151e-107, 1.27558740e-196, 0.00000000e+000, 0.00000000e+000,\n",
       "       1.76706304e-002, 0.00000000e+000, 0.00000000e+000, 1.71979993e-155,\n",
       "       0.00000000e+000, 0.00000000e+000, 0.00000000e+000, 0.00000000e+000,\n",
       "       0.00000000e+000, 0.00000000e+000, 0.00000000e+000, 0.00000000e+000,\n",
       "       4.72160186e-141, 5.55875939e-025, 9.45972286e-004, 0.00000000e+000,\n",
       "       0.00000000e+000, 6.11850462e-025, 0.00000000e+000, 0.00000000e+000,\n",
       "       1.75468466e-015, 2.39308159e-269, 9.01036100e-026, 0.00000000e+000,\n",
       "       0.00000000e+000, 0.00000000e+000, 0.00000000e+000, 0.00000000e+000,\n",
       "       3.30603397e-161, 0.00000000e+000, 3.57588797e-253, 0.00000000e+000,\n",
       "       0.00000000e+000, 0.00000000e+000, 0.00000000e+000, 1.60067361e-300,\n",
       "       0.00000000e+000, 3.75842600e-003, 0.00000000e+000, 0.00000000e+000,\n",
       "       0.00000000e+000, 0.00000000e+000, 1.35582458e-316, 0.00000000e+000,\n",
       "       4.16199088e-021, 0.00000000e+000, 0.00000000e+000, 0.00000000e+000,\n",
       "       0.00000000e+000, 8.86635012e-029, 9.09204508e-166, 2.05446855e-015,\n",
       "       0.00000000e+000, 0.00000000e+000, 0.00000000e+000, 0.00000000e+000,\n",
       "       2.21937414e-069, 1.04687426e-100, 7.07140690e-027, 0.00000000e+000,\n",
       "       1.07138674e-053, 0.00000000e+000, 4.59600709e-008, 4.97515399e-042,\n",
       "       9.82808694e-091, 0.00000000e+000, 1.08252022e-015, 0.00000000e+000,\n",
       "       0.00000000e+000, 0.00000000e+000, 0.00000000e+000, 7.91456605e-066,\n",
       "       4.09081568e-080, 0.00000000e+000, 0.00000000e+000, 0.00000000e+000,\n",
       "       9.19905519e-164, 0.00000000e+000, 5.00603284e-002, 7.94360585e-132,\n",
       "       9.59810332e-249, 1.01132292e-169, 0.00000000e+000, 2.07793570e-006,\n",
       "       4.26121028e-003, 4.56250454e-112, 6.27325203e-023, 1.84249516e-255,\n",
       "       3.84133322e-107, 0.00000000e+000, 3.89490587e-075, 0.00000000e+000,\n",
       "       0.00000000e+000, 0.00000000e+000, 0.00000000e+000, 2.72302812e-031,\n",
       "       0.00000000e+000, 0.00000000e+000, 0.00000000e+000, 0.00000000e+000,\n",
       "       0.00000000e+000, 7.60516200e-079])"
      ]
     },
     "execution_count": 139,
     "metadata": {},
     "output_type": "execute_result"
    }
   ],
   "source": [
    "sel_Anova.pvalues_"
   ]
  },
  {
   "cell_type": "code",
   "execution_count": 140,
   "id": "4891bc5f",
   "metadata": {},
   "outputs": [
    {
     "data": {
      "text/plain": [
       "0.6621410222754289"
      ]
     },
     "execution_count": 140,
     "metadata": {},
     "output_type": "execute_result"
    }
   ],
   "source": [
    "sel_Anova.pvalues_.max()"
   ]
  },
  {
   "cell_type": "code",
   "execution_count": 141,
   "id": "2a7b6f8a",
   "metadata": {},
   "outputs": [
    {
     "data": {
      "text/html": [
       "<style>#sk-3277a3e9-3576-498b-97da-9855976bdd10 {color: black;background-color: white;}#sk-3277a3e9-3576-498b-97da-9855976bdd10 pre{padding: 0;}#sk-3277a3e9-3576-498b-97da-9855976bdd10 div.sk-toggleable {background-color: white;}#sk-3277a3e9-3576-498b-97da-9855976bdd10 label.sk-toggleable__label {cursor: pointer;display: block;width: 100%;margin-bottom: 0;padding: 0.3em;box-sizing: border-box;text-align: center;}#sk-3277a3e9-3576-498b-97da-9855976bdd10 label.sk-toggleable__label-arrow:before {content: \"▸\";float: left;margin-right: 0.25em;color: #696969;}#sk-3277a3e9-3576-498b-97da-9855976bdd10 label.sk-toggleable__label-arrow:hover:before {color: black;}#sk-3277a3e9-3576-498b-97da-9855976bdd10 div.sk-estimator:hover label.sk-toggleable__label-arrow:before {color: black;}#sk-3277a3e9-3576-498b-97da-9855976bdd10 div.sk-toggleable__content {max-height: 0;max-width: 0;overflow: hidden;text-align: left;background-color: #f0f8ff;}#sk-3277a3e9-3576-498b-97da-9855976bdd10 div.sk-toggleable__content pre {margin: 0.2em;color: black;border-radius: 0.25em;background-color: #f0f8ff;}#sk-3277a3e9-3576-498b-97da-9855976bdd10 input.sk-toggleable__control:checked~div.sk-toggleable__content {max-height: 200px;max-width: 100%;overflow: auto;}#sk-3277a3e9-3576-498b-97da-9855976bdd10 input.sk-toggleable__control:checked~label.sk-toggleable__label-arrow:before {content: \"▾\";}#sk-3277a3e9-3576-498b-97da-9855976bdd10 div.sk-estimator input.sk-toggleable__control:checked~label.sk-toggleable__label {background-color: #d4ebff;}#sk-3277a3e9-3576-498b-97da-9855976bdd10 div.sk-label input.sk-toggleable__control:checked~label.sk-toggleable__label {background-color: #d4ebff;}#sk-3277a3e9-3576-498b-97da-9855976bdd10 input.sk-hidden--visually {border: 0;clip: rect(1px 1px 1px 1px);clip: rect(1px, 1px, 1px, 1px);height: 1px;margin: -1px;overflow: hidden;padding: 0;position: absolute;width: 1px;}#sk-3277a3e9-3576-498b-97da-9855976bdd10 div.sk-estimator {font-family: monospace;background-color: #f0f8ff;border: 1px dotted black;border-radius: 0.25em;box-sizing: border-box;margin-bottom: 0.5em;}#sk-3277a3e9-3576-498b-97da-9855976bdd10 div.sk-estimator:hover {background-color: #d4ebff;}#sk-3277a3e9-3576-498b-97da-9855976bdd10 div.sk-parallel-item::after {content: \"\";width: 100%;border-bottom: 1px solid gray;flex-grow: 1;}#sk-3277a3e9-3576-498b-97da-9855976bdd10 div.sk-label:hover label.sk-toggleable__label {background-color: #d4ebff;}#sk-3277a3e9-3576-498b-97da-9855976bdd10 div.sk-serial::before {content: \"\";position: absolute;border-left: 1px solid gray;box-sizing: border-box;top: 2em;bottom: 0;left: 50%;}#sk-3277a3e9-3576-498b-97da-9855976bdd10 div.sk-serial {display: flex;flex-direction: column;align-items: center;background-color: white;padding-right: 0.2em;padding-left: 0.2em;}#sk-3277a3e9-3576-498b-97da-9855976bdd10 div.sk-item {z-index: 1;}#sk-3277a3e9-3576-498b-97da-9855976bdd10 div.sk-parallel {display: flex;align-items: stretch;justify-content: center;background-color: white;}#sk-3277a3e9-3576-498b-97da-9855976bdd10 div.sk-parallel::before {content: \"\";position: absolute;border-left: 1px solid gray;box-sizing: border-box;top: 2em;bottom: 0;left: 50%;}#sk-3277a3e9-3576-498b-97da-9855976bdd10 div.sk-parallel-item {display: flex;flex-direction: column;position: relative;background-color: white;}#sk-3277a3e9-3576-498b-97da-9855976bdd10 div.sk-parallel-item:first-child::after {align-self: flex-end;width: 50%;}#sk-3277a3e9-3576-498b-97da-9855976bdd10 div.sk-parallel-item:last-child::after {align-self: flex-start;width: 50%;}#sk-3277a3e9-3576-498b-97da-9855976bdd10 div.sk-parallel-item:only-child::after {width: 0;}#sk-3277a3e9-3576-498b-97da-9855976bdd10 div.sk-dashed-wrapped {border: 1px dashed gray;margin: 0 0.4em 0.5em 0.4em;box-sizing: border-box;padding-bottom: 0.4em;background-color: white;position: relative;}#sk-3277a3e9-3576-498b-97da-9855976bdd10 div.sk-label label {font-family: monospace;font-weight: bold;background-color: white;display: inline-block;line-height: 1.2em;}#sk-3277a3e9-3576-498b-97da-9855976bdd10 div.sk-label-container {position: relative;z-index: 2;text-align: center;}#sk-3277a3e9-3576-498b-97da-9855976bdd10 div.sk-container {/* jupyter's `normalize.less` sets `[hidden] { display: none; }` but bootstrap.min.css set `[hidden] { display: none !important; }` so we also need the `!important` here to be able to override the default hidden behavior on the sphinx rendered scikit-learn.org. See: https://github.com/scikit-learn/scikit-learn/issues/21755 */display: inline-block !important;position: relative;}#sk-3277a3e9-3576-498b-97da-9855976bdd10 div.sk-text-repr-fallback {display: none;}</style><div id=\"sk-3277a3e9-3576-498b-97da-9855976bdd10\" class=\"sk-top-container\"><div class=\"sk-text-repr-fallback\"><pre>SelectPercentile(score_func=&lt;function mutual_info_classif at 0x7fd657c03a60&gt;)</pre><b>Please rerun this cell to show the HTML repr or trust the notebook.</b></div><div class=\"sk-container\" hidden><div class=\"sk-item\"><div class=\"sk-estimator sk-toggleable\"><input class=\"sk-toggleable__control sk-hidden--visually\" id=\"d6fd1150-986d-4690-b43a-26d1fbcfe8cd\" type=\"checkbox\" checked><label for=\"d6fd1150-986d-4690-b43a-26d1fbcfe8cd\" class=\"sk-toggleable__label sk-toggleable__label-arrow\">SelectPercentile</label><div class=\"sk-toggleable__content\"><pre>SelectPercentile(score_func=&lt;function mutual_info_classif at 0x7fd657c03a60&gt;)</pre></div></div></div></div></div>"
      ],
      "text/plain": [
       "SelectPercentile(score_func=<function mutual_info_classif at 0x7fd657c03a60>)"
      ]
     },
     "execution_count": 141,
     "metadata": {},
     "output_type": "execute_result"
    }
   ],
   "source": [
    "sel_mutual_info = SelectPercentile(mutual_info_classif, percentile=10)\n",
    "\n",
    "# Ajustement de ce sélecteur sur le jeu d'entrainement.\n",
    "start_time = time.time()\n",
    "sel_mutual_info.fit(X_train_encoded, y_train2)"
   ]
  },
  {
   "cell_type": "code",
   "execution_count": 142,
   "id": "d605e0ec",
   "metadata": {},
   "outputs": [
    {
     "data": {
      "text/plain": [
       "4674.870544910431"
      ]
     },
     "execution_count": 142,
     "metadata": {},
     "output_type": "execute_result"
    }
   ],
   "source": [
    "end_time = time.time()\n",
    "execution_time = end_time - start_time\n",
    "execution_time"
   ]
  },
  {
   "cell_type": "code",
   "execution_count": 143,
   "id": "aadfe38c",
   "metadata": {},
   "outputs": [
    {
     "data": {
      "image/png": "[encoded data removed]",
      "text/plain": [
       "<Figure size 1600x200 with 1 Axes>"
      ]
     },
     "metadata": {},
     "output_type": "display_data"
    }
   ],
   "source": [
    "# Affichage de la représentation graphique des features sélectionnées.\n",
    "mask = sel_mutual_info.get_support()\n",
    "plt.matshow(mask.reshape(1,-1), cmap = 'gray_r')\n",
    "plt.xlabel('Axe des features');"
   ]
  },
  {
   "cell_type": "code",
   "execution_count": 144,
   "id": "b26b1623",
   "metadata": {},
   "outputs": [
    {
     "data": {
      "text/plain": [
       "(1833391, 27)"
      ]
     },
     "execution_count": 144,
     "metadata": {},
     "output_type": "execute_result"
    }
   ],
   "source": [
    "start_time = time.time()\n",
    "X_new_mutual_info = sel_mutual_info.fit_transform(X_train_encoded, y_train2)\n",
    "X_new_mutual_info.shape"
   ]
  },
  {
   "cell_type": "code",
   "execution_count": 145,
   "id": "70f00bca",
   "metadata": {},
   "outputs": [
    {
     "data": {
      "text/plain": [
       "4614.543684720993"
      ]
     },
     "execution_count": 145,
     "metadata": {},
     "output_type": "execute_result"
    }
   ],
   "source": [
    "end_time = time.time()\n",
    "execution_time = end_time - start_time\n",
    "execution_time"
   ]
  },
  {
   "cell_type": "markdown",
   "id": "6c3b103e",
   "metadata": {},
   "source": [
    "##### La RFE (acronyme pour Recursive Feature Elimination). \n",
    "\n",
    "Le principe est simple : on fournit un modèle à l'algorithme RFE, qui est ajusté sur le jeu de données complet. L'importance de chaque feature est estimée et on supprime la ou les features les moins importantes, puis on recommence. Une fois le nombre de features cible atteint, on retourne le jeu de features qui a fourni le meilleur résultat sur le jeu d'entrainement."
   ]
  },
  {
   "cell_type": "markdown",
   "id": "e6c6d12e",
   "metadata": {},
   "source": [
    "Erreur\n",
    "ValueError: when `importance_getter=='auto'`, the underlying estimator HistGradientBoostingClassifier should have `coef_` or `feature_importances_` attribute. Either pass a fitted estimator to feature selector or call fit before calling transform.\n",
    "\n",
    "Explication \n",
    "To use RFE, it is a must to have a supervised learning estimator which attribute coef_ is available, this is the case of the linear kernel. The error you are getting is because coef_ is not for SVM using kernels different from Linear. It is in RFE documentation here = https://scikit-learn.org/stable/modules/generated/sklearn.feature_selection.RFE.html\n",
    "\n",
    "\n",
    "Utilisable avec : \n",
    "\n",
    "    - coef_\n",
    "        - LogisticRegression, \n",
    "        - svm.SVC¶ (C-Support Vector Classification), \n",
    "        - svm.LinearSVC\n",
    "        - RidgeClassifier\n",
    "    - feature_importances_\n",
    "        - AdaBoostClassifier\n",
    "        - ExtraTreesClassifier\n",
    "        - GradientBoostingClassifier\n",
    "        - RandomForestClassifier\n",
    "        - RandomTreesEmbedding\n",
    "        \n",
    "        \n",
    "Pas utilisable avec : \n",
    "\n",
    "    - KNeighborsClassifier, HistGradientBoostingClassifier, ..."
   ]
  },
  {
   "cell_type": "code",
   "execution_count": 81,
   "id": "38bd31ef",
   "metadata": {},
   "outputs": [
    {
     "data": {
      "text/plain": [
       "RFE(estimator=LogisticRegression(max_iter=2500, random_state=0))"
      ]
     },
     "execution_count": 81,
     "metadata": {},
     "output_type": "execute_result"
    }
   ],
   "source": [
    "# Affecter à rfe une instance de RFE, qui utilise la régression comme estimateur via le classificateur Logistic Regression\n",
    "rfe_logreg = RFE(estimator=logreg, step=1)#, n_features_to_select= half of the features are selected by default\n",
    "\n",
    "# Ajustement du RFE sur le jeu d'entrainement.\n",
    "rfe_logreg.fit(X_train_encoded, y_train2)"
   ]
  },
  {
   "cell_type": "code",
   "execution_count": 82,
   "id": "1b7aa5f6",
   "metadata": {},
   "outputs": [
    {
     "ename": "ValueError",
     "evalue": "cannot reshape array of size 266 into shape (1833391,266)",
     "output_type": "error",
     "traceback": [
      "\u001b[0;31m---------------------------------------------------------------------------\u001b[0m",
      "\u001b[0;31mValueError\u001b[0m                                Traceback (most recent call last)",
      "\u001b[0;32m/var/folders/g0/g76qn8pj0j10kx_v9q9r022w0000gn/T/ipykernel_823/991872047.py\u001b[0m in \u001b[0;36m<module>\u001b[0;34m\u001b[0m\n\u001b[0;32m----> 1\u001b[0;31m \u001b[0mlogreg_ranking\u001b[0m \u001b[0;34m=\u001b[0m \u001b[0mrfe_logreg\u001b[0m\u001b[0;34m.\u001b[0m\u001b[0mranking_\u001b[0m\u001b[0;34m.\u001b[0m\u001b[0mreshape\u001b[0m\u001b[0;34m(\u001b[0m\u001b[0mX_train_encoded\u001b[0m\u001b[0;34m.\u001b[0m\u001b[0mshape\u001b[0m\u001b[0;34m)\u001b[0m\u001b[0;34m\u001b[0m\u001b[0;34m\u001b[0m\u001b[0m\n\u001b[0m\u001b[1;32m      2\u001b[0m \u001b[0;34m\u001b[0m\u001b[0m\n\u001b[1;32m      3\u001b[0m \u001b[0;31m# Plot pixel ranking\u001b[0m\u001b[0;34m\u001b[0m\u001b[0;34m\u001b[0m\u001b[0m\n\u001b[1;32m      4\u001b[0m \u001b[0mplt\u001b[0m\u001b[0;34m.\u001b[0m\u001b[0mmatshow\u001b[0m\u001b[0;34m(\u001b[0m\u001b[0mlogreg_ranking\u001b[0m\u001b[0;34m,\u001b[0m \u001b[0mcmap\u001b[0m\u001b[0;34m=\u001b[0m\u001b[0mplt\u001b[0m\u001b[0;34m.\u001b[0m\u001b[0mcm\u001b[0m\u001b[0;34m.\u001b[0m\u001b[0mBlues\u001b[0m\u001b[0;34m)\u001b[0m\u001b[0;34m\u001b[0m\u001b[0;34m\u001b[0m\u001b[0m\n\u001b[1;32m      5\u001b[0m \u001b[0mplt\u001b[0m\u001b[0;34m.\u001b[0m\u001b[0mcolorbar\u001b[0m\u001b[0;34m(\u001b[0m\u001b[0;34m)\u001b[0m\u001b[0;34m\u001b[0m\u001b[0;34m\u001b[0m\u001b[0m\n",
      "\u001b[0;31mValueError\u001b[0m: cannot reshape array of size 266 into shape (1833391,266)"
     ]
    }
   ],
   "source": [
    "logreg_ranking = rfe_logreg.ranking_.reshape(X_train_encoded.shape)\n",
    "\n",
    "# Plot pixel ranking\n",
    "plt.matshow(logreg_ranking, cmap=plt.cm.Blues)\n",
    "plt.colorbar()\n",
    "plt.title(\"Ranking of features with RFE\")\n",
    "plt.show()"
   ]
  },
  {
   "cell_type": "code",
   "execution_count": 83,
   "id": "e09799b8",
   "metadata": {},
   "outputs": [
    {
     "data": {
      "image/png": "[encoded data removed]",
      "text/plain": [
       "<Figure size 1600x200 with 1 Axes>"
      ]
     },
     "metadata": {},
     "output_type": "display_data"
    }
   ],
   "source": [
    "# Affichage de la représentation graphique des features sélectionnées\n",
    "maskrfe_logreg = rfe_logreg.get_support()\n",
    "plt.matshow(maskrfe_logreg.reshape(1,-1), cmap = 'gray_r')\n",
    "plt.xlabel('Axe des Features');"
   ]
  },
  {
   "cell_type": "code",
   "execution_count": 84,
   "id": "ad54bbe1",
   "metadata": {},
   "outputs": [
    {
     "data": {
      "text/plain": [
       "array([False, False,  True,  True,  True,  True, False,  True, False,\n",
       "       False, False, False, False,  True,  True,  True,  True, False,\n",
       "       False, False, False, False, False, False,  True, False,  True,\n",
       "       False,  True,  True,  True,  True,  True,  True,  True,  True,\n",
       "       False,  True,  True,  True, False,  True,  True,  True, False,\n",
       "       False, False, False, False,  True,  True, False,  True,  True,\n",
       "        True,  True,  True,  True, False,  True, False,  True,  True,\n",
       "       False, False,  True, False, False, False, False,  True, False,\n",
       "       False,  True, False, False,  True,  True,  True, False,  True,\n",
       "        True, False, False, False,  True, False, False,  True, False,\n",
       "       False, False, False, False, False, False, False, False, False,\n",
       "       False, False, False, False, False, False,  True, False, False,\n",
       "       False,  True,  True, False, False, False, False, False, False,\n",
       "       False, False, False, False, False,  True, False,  True,  True,\n",
       "        True,  True, False,  True, False, False, False, False, False,\n",
       "        True,  True, False, False,  True, False, False,  True,  True,\n",
       "        True, False,  True, False, False, False,  True, False,  True,\n",
       "        True, False, False,  True, False,  True,  True,  True,  True,\n",
       "        True,  True,  True,  True,  True,  True,  True, False, False,\n",
       "       False, False, False, False,  True, False, False,  True,  True,\n",
       "        True,  True, False, False, False,  True,  True,  True,  True,\n",
       "        True,  True, False,  True, False, False, False,  True,  True,\n",
       "        True,  True,  True,  True,  True,  True, False, False,  True,\n",
       "        True, False,  True,  True,  True,  True,  True,  True,  True,\n",
       "        True,  True,  True,  True,  True,  True,  True,  True,  True,\n",
       "        True,  True,  True, False, False, False, False,  True,  True,\n",
       "        True, False, False, False, False, False, False,  True,  True,\n",
       "        True,  True, False, False, False,  True, False, False, False,\n",
       "       False,  True, False,  True,  True, False, False,  True,  True,\n",
       "        True, False,  True, False, False])"
      ]
     },
     "execution_count": 84,
     "metadata": {},
     "output_type": "execute_result"
    }
   ],
   "source": [
    "rfe_logreg.support_"
   ]
  },
  {
   "cell_type": "code",
   "execution_count": 85,
   "id": "68f8e5d6",
   "metadata": {},
   "outputs": [
    {
     "data": {
      "text/plain": [
       "array([134, 133,   1,   1,   1,   1,   2,   1,  24, 110, 111,  52,  13,\n",
       "         1,   1,   1,   1, 129,  90,  53,  48,  98, 128, 105,   1,   6,\n",
       "         1,  86,   1,   1,   1,   1,   1,   1,   1,   1,  21,   1,   1,\n",
       "         1,  20,   1,   1,   1,  19,  15,  18,  44,  43,   1,   1,  65,\n",
       "         1,   1,   1,   1,   1,   1,  85,   1,  59,   1,   1,  72,  12,\n",
       "         1, 101,   9,  69,  37,   1,  71, 102,   1,  35,  47,   1,   1,\n",
       "         1, 127,   1,   1,  32, 116,  22,   1,  23,  83,   1,  63,  45,\n",
       "        64,  79,  33, 126, 113, 114,  93,  91,  89,  88,  92,  95,  96,\n",
       "        49,   1,  97,  80,  70,   1,   1,  99,   3, 118,  66, 119,  55,\n",
       "        61, 109,  60,  46, 107,   1, 108,   1,   1,   1,   1,  41,   1,\n",
       "        67,   4,  39,   8,  40,   1,   1,  82, 100,   1, 122, 123,   1,\n",
       "         1,   1,  30,   1,  68,  27, 124,   1,  26,   1,   1,  29,  38,\n",
       "         1,  28,   1,   1,   1,   1,   1,   1,   1,   1,   1,   1,   1,\n",
       "        42,  34,  94,  17, 103, 104,   1,  14,  16,   1,   1,   1,   1,\n",
       "        75,  10,  31,   1,   1,   1,   1,   1,   1,  11,   1,  74,  78,\n",
       "        76,   1,   1,   1,   1,   1,   1,   1,   1,  77,  73,   1,   1,\n",
       "        36,   1,   1,   1,   1,   1,   1,   1,   1,   1,   1,   1,   1,\n",
       "         1,   1,   1,   1,   1,   1,   1, 121, 120,  84,  25,   1,   1,\n",
       "         1,  87,   7, 115,  51,  62,  50,   1,   1,   1,   1, 130, 125,\n",
       "        56,   1,  57,  58,  54, 131,   1, 117,   1,   1, 112,  81,   1,\n",
       "         1,   1,   5,   1, 106, 132])"
      ]
     },
     "execution_count": 85,
     "metadata": {},
     "output_type": "execute_result"
    }
   ],
   "source": [
    "rfe_logreg.ranking_"
   ]
  },
  {
   "cell_type": "code",
   "execution_count": 87,
   "id": "cf0c25f1",
   "metadata": {},
   "outputs": [
    {
     "data": {
      "text/plain": [
       "Index(['place_0.0', 'place_1.0', 'place_10.0', 'place_2.0', 'place_4.0',\n",
       "       'catu_Conducteur', 'catu_Passager', 'catu_Piéton', 'sexe_Féminin',\n",
       "       'trajet_Utilisation professionnelle',\n",
       "       ...\n",
       "       'int_Passage à niveau', 'int_Place', 'atm_Non renseigné',\n",
       "       'atm_Temps éblouissant', 'col_Autre collision',\n",
       "       'col_Deux véhicules - frontale', 'col_Non renseigné',\n",
       "       'col_Sans collision',\n",
       "       'col_Trois véhicules et plus - collisions multiples', 'age_acc_an'],\n",
       "      dtype='object', length=133)"
      ]
     },
     "execution_count": 87,
     "metadata": {},
     "output_type": "execute_result"
    }
   ],
   "source": [
    "X_train_encoded.columns[rfe_logreg.support_]"
   ]
  },
  {
   "cell_type": "code",
   "execution_count": 88,
   "id": "e2937d86",
   "metadata": {},
   "outputs": [
    {
     "name": "stdout",
     "output_type": "stream",
     "text": [
      "place_0.0\n",
      "place_1.0\n",
      "place_10.0\n",
      "place_2.0\n",
      "place_4.0\n",
      "catu_Conducteur\n",
      "catu_Passager\n",
      "catu_Piéton\n",
      "sexe_Féminin\n",
      "trajet_Utilisation professionnelle\n",
      "locp_Non renseigné\n",
      "locp_Sur accotement\n",
      "locp_Sur chaussée-A + 50 m du passage piéton\n",
      "locp_Sur chaussée-A – 50 m du passage piéton\n",
      "locp_Sur contre allée\n",
      "locp_Sur passage piéton-Avec signalisation lumineuse\n",
      "locp_Sur passage piéton-Sans signalisation lumineuse\n",
      "locp_Sur refuge ou BA\n",
      "locp_Sur trottoir\n",
      "actp_Avec animal\n",
      "actp_Inconnue\n",
      "actp_Jouant – courant\n",
      "actp_Monte/descend du véhicule\n",
      "actp_Non renseigné\n",
      "actp_Non renseigné ou sans objet\n",
      "etatp_Non renseigné\n",
      "etatp_Seul\n",
      "secuUn_Aucun équipement\n",
      "secuUn_Autre\n",
      "secuUn_Casque\n",
      "secuUn_Ceinture\n",
      "secuUn_Dispositif enfants\n",
      "secuUn_Gants (2RM/3RM)\n",
      "secuUn_Gilet réfléchissant\n",
      "secuUn_Non renseigné\n",
      "secuDeux_Airbag (2RM/3RM)(5)\n",
      "secuDeux_Casque\n",
      "secuDeux_Gilet réfléchissant(4)\n",
      "tranches_ages_0-11\n",
      "tranches_ages_32-40\n",
      "tranches_ages_41-50\n",
      "tranches_ages_50+\n",
      "catr_2-Route nationale\n",
      "catr_3-Route Départementale\n",
      "catr_7-Routes de métropole urbaine\n",
      "circ_A sens unique(1)\n",
      "plan_Non renseigné(-1)\n",
      "surf_Corps gras – huile(8)\n",
      "surf_Enneigée(5)\n",
      "infra_Non renseigné\n",
      "infra_Souterrain - tunnel\n",
      "infra_Voie ferrée\n",
      "infra_Zone de péage\n",
      "infra_Zone piétonne\n",
      "situ_Autres(8)\n",
      "situ_Sur piste cyclable(5)\n",
      "situ_Sur trottoir(4)\n",
      "senc_Non renseigné\n",
      "obs_Autre glissière\n",
      "obs_Autre obstacle fixe sur chaussée\n",
      "obs_Autre obstacle fixe sur trottoir ou accotement\n",
      "obs_Buse – tête d’aqueduc\n",
      "obs_Glissière métallique\n",
      "obs_Mobilier urbain\n",
      "obs_Non renseigné\n",
      "obs_Sans objet\n",
      "obs_Support de signalisation verticale ou poste d’appel d’urgence\n",
      "obs_Véhicule en stationnement, Arbre\n",
      "obsm_Animal domestique\n",
      "obsm_Animal sauvage\n",
      "obsm_Aucun\n",
      "obsm_Autre\n",
      "obsm_Non renseigné\n",
      "obsm_Piéton\n",
      "obsm_Véhicule\n",
      "obsm_Véhicule sur rail\n",
      "choc_Arrière\n",
      "choc_Chocs multiples (tonneaux)\n",
      "choc_Non renseigné\n",
      "manv_A contresens\n",
      "manv_Arrêté (hors stationnement)\n",
      "manv_Autres manœuvres\n",
      "manv_Dans le couloir bus, dans le même sens\n",
      "manv_Dans le couloir bus, dans le sens inverse\n",
      "manv_Dépassant - A gauche\n",
      "manv_Dépassant A droite\n",
      "manv_Déporté - A droite\n",
      "manv_Déporté - A gauche\n",
      "manv_En franchissant le terre-plein central\n",
      "manv_Entre 2 files\n",
      "manv_Inconnue\n",
      "manv_Manœuvre de stationnement\n",
      "manv_Manœuvre d’évitement\n",
      "manv_Même sens, même file\n",
      "manv_Non renseigné\n",
      "manv_Ouverture de porte\n",
      "manv_Sans changement de direction\n",
      "manv_Traversant la chaussée\n",
      "catv_Label_Autobus et autocars\n",
      "catv_Label_Bicyclette\n",
      "catv_Label_Deux ou trois roues de petite cylindrée (<= 50 cm3)\n",
      "catv_Label_Deux ou trois roues-motrices de grosse cylindrée (>125 cm3)\n",
      "catv_Label_Deux ou trois roues-motrices de moyenne cylindrée (50 à 125 cm3)\n",
      "catv_Label_Engins de déplacement personnels (EDP) sans moteur (ex : skateboards, roller, trottinette)\n",
      "catv_Label_Engins de déplacement personnels (EDP) à moteur (ex: trotinette)\n",
      "catv_Label_Indéterminable\n",
      "catv_Label_Poids lourds (PL) et camions\n",
      "catv_Label_Quad\n",
      "catv_Label_Tracteurs agricoles et engins spéciaux\n",
      "catv_Label_Tracteurs routiers\n",
      "catv_Label_Train\n",
      "catv_Label_Tramway\n",
      "catv_Label_Voitures légères (VL) avec carane ou remorque tractée\n",
      "catv_Label_Voitures légères (VL) seule\n",
      "catv_Label_Voiturette\n",
      "catv_Label_Véhicules utilitaires légers (VU)\n",
      "catv_Label_Véhicules utilitaires légers (VU) avec carane ou remorque tractée\n",
      "catv_Label_Vélo avec assistance électrique (VAE)\n",
      "lum_Plein jour\n",
      "agg_En agglomération\n",
      "agg_Hors agglomération\n",
      "int_Intersection à plus de 4 branches\n",
      "int_Non renseigné\n",
      "int_Passage à niveau\n",
      "int_Place\n",
      "atm_Non renseigné\n",
      "atm_Temps éblouissant\n",
      "col_Autre collision\n",
      "col_Deux véhicules - frontale\n",
      "col_Non renseigné\n",
      "col_Sans collision\n",
      "col_Trois véhicules et plus - collisions multiples\n",
      "age_acc_an\n"
     ]
    }
   ],
   "source": [
    "for col in X_train_encoded.columns[rfe_logreg.support_]:\n",
    "    print(col)"
   ]
  },
  {
   "cell_type": "code",
   "execution_count": 90,
   "id": "d7f1c4df",
   "metadata": {},
   "outputs": [
    {
     "name": "stdout",
     "output_type": "stream",
     "text": [
      "jour_de_la_semaine\n",
      "heure\n",
      "place_3.0\n",
      "place_5.0\n",
      "place_6.0\n",
      "place_7.0\n",
      "place_8.0\n",
      "place_9.0\n",
      "sexe_Masculin\n",
      "trajet_Autre\n",
      "trajet_Courses – achats\n",
      "trajet_Domicile – travail\n",
      "trajet_Domicile – école\n",
      "trajet_Non renseigné\n",
      "trajet_Promenade – loisirs\n",
      "locp_Inconnue\n",
      "locp_Sans objet\n",
      "actp_Autre\n",
      "actp_Masqué\n",
      "actp_Sens inverse du véhicule\n",
      "actp_Sens véhicule heurtant\n",
      "actp_Traversant\n",
      "etatp_Accompagné\n",
      "etatp_En groupe\n",
      "secuUn_Airbag (2RM/3RM)\n",
      "secuUn_Gants + Airbag (2RM/3RM)\n",
      "secuUn_Non déterminable\n",
      "secuDeux_Aucun équipement\n",
      "secuDeux_Autre\n",
      "secuDeux_Ceinture\n",
      "secuDeux_Dispositif enfants\n",
      "secuDeux_Gants (2RM/3RM)(6)\n",
      "secuDeux_Gants + Airbag (2RM/3RM)\n",
      "secuDeux_Non déterminable\n",
      "secuDeux_Non renseigné\n",
      "tranches_ages_12-22\n",
      "tranches_ages_23-31\n",
      "catr_1-Autoroute\n",
      "catr_4-Voie Communales\n",
      "catr_5-Hors réseau public\n",
      "catr_6-Parc de stationnement ouvert à la circulation publique\n",
      "catr_9-Autres\n",
      "circ_A chaussées séparées(3)\n",
      "circ_Avec voies d’affectation variable(4)\n",
      "circ_Bidirectionnelle(2)\n",
      "circ_Non renseigné(-1)\n",
      "vosp_Bande cyclable(2)\n",
      "vosp_Non renseigné(-1)\n",
      "vosp_Piste cyclable(1)\n",
      "vosp_Sans objet(0)\n",
      "vosp_Voie réservée(3)\n",
      "prof_Bas de côte(4)\n",
      "prof_Non renseigné(-1)\n",
      "prof_Pente(2)\n",
      "prof_Plat(1)\n",
      "prof_Sommet de côte(3)\n",
      "plan_En courbe à droite(3)\n",
      "plan_En courbe à gauche(2)\n",
      "plan_En « S »(4)\n",
      "plan_Partie rectiligne(1)\n",
      "surf_Autre(9)\n",
      "surf_Boue(6)\n",
      "surf_Flaques(3)\n",
      "surf_Inondée(4)\n",
      "surf_Mouillée(2)\n",
      "surf_Non renseigné(-1)\n",
      "surf_Normale(1)\n",
      "surf_Verglacée(7)\n",
      "infra_Aucun\n",
      "infra_Autres\n",
      "infra_Bretelle d’échangeur ou de raccordement\n",
      "infra_Carrefour aménagé\n",
      "infra_Chantier\n",
      "infra_Pont - autopont\n",
      "situ_Aucun(0)\n",
      "situ_Non renseigné(-1)\n",
      "situ_Sur accotement(3)\n",
      "situ_Sur autre voie spéciale(6)\n",
      "situ_Sur bande d’arrêt d’urgence(2)\n",
      "situ_Sur chaussée(1)\n",
      "senc_Absence de repère\n",
      "senc_Inconnu\n",
      "senc_PK ou PR ou numéro d’adresse postale croissant\n",
      "senc_PK ou PR ou numéro d’adresse postale décroissant\n",
      "obs_Bordure de trottoir\n",
      "obs_Bâtiment, mur, pile de pont\n",
      "obs_Fossé, talus, paroi rocheuse\n",
      "obs_Glissière béton\n",
      "obs_Ilot, refuge, borne haute\n",
      "obs_Parapet\n",
      "obs_Poteau\n",
      "obs_Sortie de chaussée sans obstacle\n",
      "choc_Arrière droit\n",
      "choc_Arrière gauche\n",
      "choc_Aucun\n",
      "choc_Avant\n",
      "choc_Avant droit\n",
      "choc_Avant gauche\n",
      "choc_Côté droit\n",
      "choc_Côté gauche\n",
      "manv_Changeant de file - A droite\n",
      "manv_Changeant de file - A gauche\n",
      "manv_Circulant sur trottoir\n",
      "manv_En faisant demi-tour sur la chaussée\n",
      "manv_En marche arrière\n",
      "manv_En stationnement (avec occupants)\n",
      "manv_En s’insérant\n",
      "manv_Tournant - A droite\n",
      "manv_Tournant - A gauche\n",
      "catv_Label_Autre véhicule\n",
      "lum_Crépuscule ou aube\n",
      "lum_Nuit avec éclairage public allumé\n",
      "lum_Nuit avec éclairage public non allumé\n",
      "lum_Nuit sans éclairage public\n",
      "int_Autre intersection\n",
      "int_Giratoire\n",
      "int_Hors intersection\n",
      "int_Intersection en T\n",
      "int_Intersection en X\n",
      "int_Intersection en Y\n",
      "atm_Autre\n",
      "atm_Brouillard - fumée\n",
      "atm_Neige - grêle\n",
      "atm_Normale\n",
      "atm_Pluie forte\n",
      "atm_Pluie légère\n",
      "atm_Temps couvert\n",
      "atm_Vent fort - tempête\n",
      "col_Deux véhicules – par le coté\n",
      "col_Deux véhicules – par l’arrière\n",
      "col_Trois véhicules et plus – en chaîne\n",
      "nbv\n",
      "occutc\n"
     ]
    }
   ],
   "source": [
    "for col in X_train_encoded.columns[~rfe_logreg.support_]:\n",
    "    print(col)"
   ]
  },
  {
   "cell_type": "code",
   "execution_count": null,
   "id": "5b3df854",
   "metadata": {},
   "outputs": [],
   "source": []
  },
  {
   "cell_type": "code",
   "execution_count": 85,
   "id": "7d322ee5",
   "metadata": {},
   "outputs": [],
   "source": [
    "X_rfe = X_encoded[[\"place_0.0\", \"place_1.0\", \"place_10.0\", \"place_2.0\", \"place_4.0\", \"catu_Conducteur\",\n",
    "          \"catu_Passager\", \"catu_Piéton\", \"sexe_Féminin\", \"trajet_Utilisation professionnelle\",\n",
    "          \"locp_Non renseigné\", \"locp_Sur accotement\", \"locp_Sur chaussée-A + 50 m du passage piéton\",\n",
    "          \"locp_Sur chaussée-A – 50 m du passage piéton\", \"locp_Sur contre allée\", \n",
    "          \"locp_Sur passage piéton-Avec signalisation lumineuse\", \"locp_Sur passage piéton-Sans signalisation lumineuse\",\n",
    "          \"locp_Sur refuge ou BA\", \"locp_Sur trottoir\", \"actp_Avec animal\", \"actp_Inconnue\", \n",
    "          \"actp_Jouant – courant\", \"actp_Monte/descend du véhicule\", \"actp_Non renseigné\", \n",
    "          \"actp_Non renseigné ou sans objet\", \"etatp_Non renseigné\", \"etatp_Seul\", \"secuUn_Aucun équipement\",\n",
    "          \"secuUn_Autre\", \"secuUn_Casque\", \"secuUn_Ceinture\", \"secuUn_Dispositif enfants\", \"secuUn_Gants (2RM/3RM)\",\n",
    "          \"secuUn_Gilet réfléchissant\", \"secuUn_Non renseigné\", \"secuDeux_Airbag (2RM/3RM)(5)\",\n",
    "          \"secuDeux_Casque\", \"secuDeux_Gilet réfléchissant(4)\", \"tranches_ages_0-11\", \"tranches_ages_32-40\",\n",
    "          \"tranches_ages_41-50\", \"tranches_ages_50+\", \"catr_2-Route nationale\", \"catr_3-Route Départementale\",\n",
    "          \"catr_7-Routes de métropole urbaine\", \"circ_A sens unique(1)\", \"plan_Non renseigné(-1)\", \n",
    "          \"surf_Corps gras – huile(8)\", \"surf_Enneigée(5)\", \"infra_Non renseigné\", \"infra_Souterrain - tunnel\",\n",
    "          \"infra_Voie ferrée\", \"infra_Zone de péage\", \"infra_Zone piétonne\", \"situ_Autres(8)\",\n",
    "          \"situ_Sur piste cyclable(5)\", \"situ_Sur trottoir(4)\", \"senc_Non renseigné\", \"obs_Autre glissière\",\n",
    "          \"obs_Autre obstacle fixe sur chaussée\", \"obs_Autre obstacle fixe sur trottoir ou accotement\",\n",
    "          \"obs_Buse – tête d’aqueduc\", \"obs_Glissière métallique\", \"obs_Mobilier urbain\", \"obs_Non renseigné\",\n",
    "          \"obs_Sans objet\", \"obs_Support de signalisation verticale ou poste d’appel d’urgence\",\n",
    "          \"obs_Véhicule en stationnement, Arbre\", \"obsm_Animal domestique\", \"obsm_Animal sauvage\",\n",
    "          \"obsm_Aucun\", \"obsm_Autre\", \"obsm_Non renseigné\", \"obsm_Piéton\", \"obsm_Véhicule\", \"obsm_Véhicule sur rail\",\n",
    "          \"choc_Arrière\", \"choc_Chocs multiples (tonneaux)\", \"choc_Non renseigné\", \"manv_A contresens\",\n",
    "          \"manv_Arrêté (hors stationnement)\", \"manv_Autres manœuvres\", \"manv_Dans le couloir bus, dans le même sens\",\n",
    "          \"manv_Dans le couloir bus, dans le sens inverse\", \"manv_Dépassant - A gauche\", \n",
    "          \"manv_Dépassant A droite\", \"manv_Déporté - A droite\", \"manv_Déporté - A gauche\",\n",
    "          \"manv_En franchissant le terre-plein central\", \"manv_Entre 2 files\", \"manv_Inconnue\",\n",
    "          \"manv_Manœuvre de stationnement\", \"manv_Manœuvre d’évitement\", \"manv_Même sens, même file\",\n",
    "          \"manv_Non renseigné\", \"manv_Ouverture de porte\", \"manv_Sans changement de direction\",\n",
    "          \"manv_Traversant la chaussée\", \"catv_Label_Autobus et autocars\", \"catv_Label_Bicyclette\",\n",
    "          \"catv_Label_Deux ou trois roues de petite cylindrée (<= 50 cm3)\",\n",
    "          \"catv_Label_Deux ou trois roues-motrices de grosse cylindrée (>125 cm3)\",\n",
    "          \"catv_Label_Deux ou trois roues-motrices de moyenne cylindrée (50 à 125 cm3)\",\n",
    "          \"catv_Label_Engins de déplacement personnels (EDP) sans moteur (ex : skateboards, roller, trottinette)\",\n",
    "          \"catv_Label_Engins de déplacement personnels (EDP) à moteur (ex: trotinette)\",\n",
    "          \"catv_Label_Indéterminable\", \"catv_Label_Poids lourds (PL) et camions\", \"catv_Label_Quad\",\n",
    "          \"catv_Label_Tracteurs agricoles et engins spéciaux\", \"catv_Label_Tracteurs routiers\",\n",
    "          \"catv_Label_Train\", \"catv_Label_Tramway\", \"catv_Label_Voitures légères (VL) avec carane ou remorque tractée\",\n",
    "          \"catv_Label_Voitures légères (VL) seule\", \"catv_Label_Voiturette\", \"catv_Label_Véhicules utilitaires légers (VU)\",\n",
    "          \"catv_Label_Véhicules utilitaires légers (VU) avec carane ou remorque tractée\",\n",
    "          \"catv_Label_Vélo avec assistance électrique (VAE)\", \"lum_Plein jour\", \"agg_En agglomération\",\n",
    "          \"agg_Hors agglomération\", \"int_Intersection à plus de 4 branches\", \"int_Non renseigné\",\n",
    "          \"int_Passage à niveau\", \"int_Place\", \"atm_Non renseigné\", \"atm_Temps éblouissant\", \n",
    "          \"col_Autre collision\", \"col_Deux véhicules - frontale\", \"col_Non renseigné\", \n",
    "          \"col_Sans collision\", \"col_Trois véhicules et plus - collisions multiples\", \n",
    "          \"age_acc_an\"]]"
   ]
  },
  {
   "cell_type": "code",
   "execution_count": 86,
   "id": "e43102cb",
   "metadata": {},
   "outputs": [
    {
     "data": {
      "text/plain": [
       "pandas.core.frame.DataFrame"
      ]
     },
     "execution_count": 86,
     "metadata": {},
     "output_type": "execute_result"
    }
   ],
   "source": [
    "type(X_rfe)"
   ]
  },
  {
   "cell_type": "code",
   "execution_count": 87,
   "id": "98a1722a",
   "metadata": {},
   "outputs": [],
   "source": [
    "# split the array of features values, X, and target values, y, into training and test sets, \n",
    "#   ensuring that the same label proportions are reflected after the split\n",
    "X_train_rfe, X_test_rfe, y_train_rfe, y_test_rfe = train_test_split(X_rfe, y, \n",
    "                                                                    test_size=0.2,\n",
    "                                                                    stratify=y, \n",
    "                                                                    random_state=259)"
   ]
  },
  {
   "cell_type": "code",
   "execution_count": 125,
   "id": "1d37800f",
   "metadata": {},
   "outputs": [
    {
     "name": "stdout",
     "output_type": "stream",
     "text": [
      "Model: Ridge Classifier\n",
      "---------------------------------------------------------------------------\n",
      "Classification Report imbalanced :\n"
     ]
    },
    {
     "name": "stderr",
     "output_type": "stream",
     "text": [
      "/opt/anaconda3/lib/python3.9/site-packages/sklearn/metrics/_classification.py:1318: UndefinedMetricWarning: Precision and F-score are ill-defined and being set to 0.0 in labels with no predicted samples. Use `zero_division` parameter to control this behavior.\n",
      "  _warn_prf(average, modifier, msg_start, len(result))\n"
     ]
    },
    {
     "name": "stdout",
     "output_type": "stream",
     "text": [
      "                          pre       rec       spe        f1       geo       iba       sup\n",
      "\n",
      "Blessé hospitalisé       0.53      0.27      0.94      0.36      0.51      0.24     93507\n",
      "      Blessé léger       0.59      0.59      0.77      0.59      0.68      0.45    165057\n",
      "           Indemne       0.67      0.88      0.70      0.76      0.78      0.62    187549\n",
      "               Tué       0.00      0.00      1.00      0.00      0.00      0.00     12235\n",
      "\n",
      "       avg / total       0.59      0.63      0.78      0.60      0.67      0.46    458348\n",
      "\n",
      "---------------------------------------------------------------------------\n",
      "Confusion Matrix:\n",
      "[[ 25636  44872  22999      0]\n",
      " [ 11355  97218  56484      0]\n",
      " [  5001  18281 164267      0]\n",
      " [  6388   3123   2724      0]]\n",
      "---------------------------------------------------------------------------\n",
      "Balanced accuracy: 0.435 - Geometric mean: 0.000\n",
      "---------------------------------------------------------------------------\n"
     ]
    },
    {
     "name": "stderr",
     "output_type": "stream",
     "text": [
      "/opt/anaconda3/lib/python3.9/site-packages/sklearn/model_selection/_validation.py:770: UserWarning: Scoring failed. The score on this train-test partition for these parameters will be set to nan. Details: \n",
      "Traceback (most recent call last):\n",
      "  File \"/opt/anaconda3/lib/python3.9/site-packages/sklearn/model_selection/_validation.py\", line 761, in _score\n",
      "    scores = scorer(estimator, X_test, y_test)\n",
      "  File \"/opt/anaconda3/lib/python3.9/site-packages/sklearn/metrics/_scorer.py\", line 103, in __call__\n",
      "    score = scorer._score(cached_call, estimator, *args, **kwargs)\n",
      "  File \"/opt/anaconda3/lib/python3.9/site-packages/sklearn/metrics/_scorer.py\", line 298, in _score\n",
      "    y_pred = method_caller(clf, \"predict_proba\", X)\n",
      "  File \"/opt/anaconda3/lib/python3.9/site-packages/sklearn/metrics/_scorer.py\", line 68, in _cached_call\n",
      "    return getattr(estimator, method)(*args, **kwargs)\n",
      "AttributeError: 'RidgeClassifier' object has no attribute 'predict_proba'\n",
      "\n",
      "  warnings.warn(\n",
      "/opt/anaconda3/lib/python3.9/site-packages/sklearn/model_selection/_validation.py:770: UserWarning: Scoring failed. The score on this train-test partition for these parameters will be set to nan. Details: \n",
      "Traceback (most recent call last):\n",
      "  File \"/opt/anaconda3/lib/python3.9/site-packages/sklearn/model_selection/_validation.py\", line 761, in _score\n",
      "    scores = scorer(estimator, X_test, y_test)\n",
      "  File \"/opt/anaconda3/lib/python3.9/site-packages/sklearn/metrics/_scorer.py\", line 103, in __call__\n",
      "    score = scorer._score(cached_call, estimator, *args, **kwargs)\n",
      "  File \"/opt/anaconda3/lib/python3.9/site-packages/sklearn/metrics/_scorer.py\", line 298, in _score\n",
      "    y_pred = method_caller(clf, \"predict_proba\", X)\n",
      "  File \"/opt/anaconda3/lib/python3.9/site-packages/sklearn/metrics/_scorer.py\", line 68, in _cached_call\n",
      "    return getattr(estimator, method)(*args, **kwargs)\n",
      "AttributeError: 'RidgeClassifier' object has no attribute 'predict_proba'\n",
      "\n",
      "  warnings.warn(\n",
      "/opt/anaconda3/lib/python3.9/site-packages/sklearn/model_selection/_validation.py:770: UserWarning: Scoring failed. The score on this train-test partition for these parameters will be set to nan. Details: \n",
      "Traceback (most recent call last):\n",
      "  File \"/opt/anaconda3/lib/python3.9/site-packages/sklearn/model_selection/_validation.py\", line 761, in _score\n",
      "    scores = scorer(estimator, X_test, y_test)\n",
      "  File \"/opt/anaconda3/lib/python3.9/site-packages/sklearn/metrics/_scorer.py\", line 103, in __call__\n",
      "    score = scorer._score(cached_call, estimator, *args, **kwargs)\n",
      "  File \"/opt/anaconda3/lib/python3.9/site-packages/sklearn/metrics/_scorer.py\", line 298, in _score\n",
      "    y_pred = method_caller(clf, \"predict_proba\", X)\n",
      "  File \"/opt/anaconda3/lib/python3.9/site-packages/sklearn/metrics/_scorer.py\", line 68, in _cached_call\n",
      "    return getattr(estimator, method)(*args, **kwargs)\n",
      "AttributeError: 'RidgeClassifier' object has no attribute 'predict_proba'\n",
      "\n",
      "  warnings.warn(\n",
      "/opt/anaconda3/lib/python3.9/site-packages/sklearn/model_selection/_validation.py:770: UserWarning: Scoring failed. The score on this train-test partition for these parameters will be set to nan. Details: \n",
      "Traceback (most recent call last):\n",
      "  File \"/opt/anaconda3/lib/python3.9/site-packages/sklearn/model_selection/_validation.py\", line 761, in _score\n",
      "    scores = scorer(estimator, X_test, y_test)\n",
      "  File \"/opt/anaconda3/lib/python3.9/site-packages/sklearn/metrics/_scorer.py\", line 103, in __call__\n",
      "    score = scorer._score(cached_call, estimator, *args, **kwargs)\n",
      "  File \"/opt/anaconda3/lib/python3.9/site-packages/sklearn/metrics/_scorer.py\", line 298, in _score\n",
      "    y_pred = method_caller(clf, \"predict_proba\", X)\n",
      "  File \"/opt/anaconda3/lib/python3.9/site-packages/sklearn/metrics/_scorer.py\", line 68, in _cached_call\n",
      "    return getattr(estimator, method)(*args, **kwargs)\n",
      "AttributeError: 'RidgeClassifier' object has no attribute 'predict_proba'\n",
      "\n",
      "  warnings.warn(\n",
      "/opt/anaconda3/lib/python3.9/site-packages/sklearn/model_selection/_validation.py:770: UserWarning: Scoring failed. The score on this train-test partition for these parameters will be set to nan. Details: \n",
      "Traceback (most recent call last):\n",
      "  File \"/opt/anaconda3/lib/python3.9/site-packages/sklearn/model_selection/_validation.py\", line 761, in _score\n",
      "    scores = scorer(estimator, X_test, y_test)\n",
      "  File \"/opt/anaconda3/lib/python3.9/site-packages/sklearn/metrics/_scorer.py\", line 103, in __call__\n",
      "    score = scorer._score(cached_call, estimator, *args, **kwargs)\n",
      "  File \"/opt/anaconda3/lib/python3.9/site-packages/sklearn/metrics/_scorer.py\", line 298, in _score\n",
      "    y_pred = method_caller(clf, \"predict_proba\", X)\n",
      "  File \"/opt/anaconda3/lib/python3.9/site-packages/sklearn/metrics/_scorer.py\", line 68, in _cached_call\n",
      "    return getattr(estimator, method)(*args, **kwargs)\n",
      "AttributeError: 'RidgeClassifier' object has no attribute 'predict_proba'\n",
      "\n",
      "  warnings.warn(\n"
     ]
    },
    {
     "name": "stdout",
     "output_type": "stream",
     "text": [
      "Mean AUC Score: nan  temps execution en secondes :  199.88375997543335\n",
      "===========================================================================\n",
      "training_time test_time train_score test_score ridge_accuracy_rfe balanced_accuracy geometric_mean_score\n",
      "18.968169927597046 0.09815287590026855 62.634 62.643 62.643 0.435 0.0\n"
     ]
    }
   ],
   "source": [
    "# Création et entrainement modèles après reduction de dimenssion\n",
    "result_accuracy = benchmarkClassifier(ridge_clf, \"Ridge Classifier\", X_train_rfe, y_train_rfe, \n",
    "                                      X_test_rfe, y_test_rfe)\n",
    "\n",
    "print('training_time', 'test_time', 'train_score', 'test_score', 'ridge_accuracy_rfe', 'balanced_accuracy', 'geometric_mean_score')\n",
    "print(result_accuracy[0], result_accuracy[1], result_accuracy[2], result_accuracy[3],result_accuracy[4],\n",
    "     result_accuracy[5], result_accuracy[6])"
   ]
  },
  {
   "cell_type": "code",
   "execution_count": 126,
   "id": "12656307",
   "metadata": {},
   "outputs": [
    {
     "name": "stdout",
     "output_type": "stream",
     "text": [
      "Model: hist_gradient_boosting\n",
      "---------------------------------------------------------------------------\n",
      "Classification Report imbalanced :\n",
      "                          pre       rec       spe        f1       geo       iba       sup\n",
      "\n",
      "Blessé hospitalisé       0.52      0.42      0.90      0.47      0.62      0.36     93507\n",
      "      Blessé léger       0.62      0.62      0.78      0.62      0.70      0.48    165057\n",
      "           Indemne       0.72      0.83      0.78      0.77      0.81      0.65    187549\n",
      "               Tué       0.47      0.06      1.00      0.10      0.24      0.05     12235\n",
      "\n",
      "       avg / total       0.64      0.65      0.81      0.64      0.71      0.51    458348\n",
      "\n",
      "---------------------------------------------------------------------------\n",
      "Confusion Matrix:\n",
      "[[ 39299  38184  15380    644]\n",
      " [ 19819 102699  42405    134]\n",
      " [  8033  23685 155787     44]\n",
      " [  7784   2157   1579    715]]\n",
      "---------------------------------------------------------------------------\n",
      "Balanced accuracy: 0.483 - Geometric mean: 0.336\n",
      "---------------------------------------------------------------------------\n",
      "Mean AUC Score: 0.8155946907336787  temps execution en secondes :  1624.1096398830414\n",
      "===========================================================================\n",
      "training_time test_time train_score test_score hgbc_accuracy_rfe balanced_accuracy geometric_mean_score\n",
      "220.6515007019043 4.602978944778442 65.154 65.125 65.125 0.483 0.336\n"
     ]
    }
   ],
   "source": [
    "result_accuracy = benchmarkClassifier(hist_gradient_boosting, \"hist_gradient_boosting\", \n",
    "                                      X_train_rfe, y_train_rfe, X_test_rfe, y_test_rfe)\n",
    "\n",
    "print('training_time', 'test_time', 'train_score', 'test_score', 'hgbc_accuracy_rfe', 'balanced_accuracy', 'geometric_mean_score')\n",
    "print(result_accuracy[0], result_accuracy[1], result_accuracy[2], result_accuracy[3],result_accuracy[4],\n",
    "     result_accuracy[5], result_accuracy[6])"
   ]
  },
  {
   "cell_type": "code",
   "execution_count": 127,
   "id": "ea86284a",
   "metadata": {},
   "outputs": [
    {
     "name": "stdout",
     "output_type": "stream",
     "text": [
      "Model: Logistic_Regression\n",
      "---------------------------------------------------------------------------\n",
      "Classification Report imbalanced :\n",
      "                          pre       rec       spe        f1       geo       iba       sup\n",
      "\n",
      "Blessé hospitalisé       0.52      0.37      0.91      0.43      0.58      0.32     93507\n",
      "      Blessé léger       0.60      0.59      0.78      0.60      0.68      0.46    165057\n",
      "           Indemne       0.70      0.85      0.75      0.76      0.79      0.64    187549\n",
      "               Tué       0.43      0.04      1.00      0.07      0.19      0.03     12235\n",
      "\n",
      "       avg / total       0.62      0.64      0.80      0.62      0.69      0.49    458348\n",
      "\n",
      "---------------------------------------------------------------------------\n",
      "Confusion Matrix:\n",
      "[[ 34895  40326  17819    467]\n",
      " [ 17805  98060  49116     76]\n",
      " [  7160  21580 158770     39]\n",
      " [  7431   2458   1906    440]]\n",
      "---------------------------------------------------------------------------\n",
      "Balanced accuracy: 0.462 - Geometric mean: 0.287\n",
      "---------------------------------------------------------------------------\n",
      "Mean AUC Score: 0.7989633042359826  temps execution en secondes :  10263.781090021133\n",
      "===========================================================================\n",
      "training_time test_time train_score test_score logreg_accuracy_rfe balanced_accuracy geometric_mean_score\n",
      "621.5780110359192 0.5459489822387695 63.767 63.743 63.743 0.462 0.287\n"
     ]
    }
   ],
   "source": [
    "result_accuracy = benchmarkClassifier(logreg, \"Logistic_Regression\", X_train_rfe, \n",
    "                                      y_train_rfe, X_test_rfe, y_test_rfe)\n",
    "\n",
    "print('training_time', 'test_time', 'train_score', 'test_score', 'logreg_accuracy_rfe', 'balanced_accuracy', 'geometric_mean_score')\n",
    "print(result_accuracy[0], result_accuracy[1], result_accuracy[2], result_accuracy[3],result_accuracy[4],\n",
    "     result_accuracy[5], result_accuracy[6])"
   ]
  },
  {
   "cell_type": "markdown",
   "id": "0a391c12",
   "metadata": {},
   "source": [
    "##### RFE with RIDGE ESTIMATOR"
   ]
  },
  {
   "cell_type": "code",
   "execution_count": null,
   "id": "ccf2caa0",
   "metadata": {},
   "outputs": [],
   "source": [
    "# Affecter à rfe une instance de RFE, qui utilise la régression comme estimateur via le classificateur RIDGE\n",
    "rfe_ridge = RFE(estimator=ridge_clf, step=1)#, n_features_to_select= half of the features are selected by default\n",
    "\n",
    "# Ajustement du RFE sur le jeu d'entrainement.\n",
    "rfe_ridge.fit(X_train_encoded, y_train2)"
   ]
  },
  {
   "cell_type": "code",
   "execution_count": null,
   "id": "7951b1d1",
   "metadata": {},
   "outputs": [],
   "source": [
    "ranking = rfe_ridge.ranking_.reshape(X_train_enc.shape)\n",
    "\n",
    "# Plot pixel ranking\n",
    "plt.matshow(ranking, cmap=plt.cm.Blues)\n",
    "plt.colorbar()\n",
    "plt.title(\"Ranking of pixels with RFE\")\n",
    "plt.show()"
   ]
  },
  {
   "cell_type": "code",
   "execution_count": null,
   "id": "11fb2fc5",
   "metadata": {},
   "outputs": [],
   "source": [
    "# Affichage de la représentation graphique des features sélectionnées\n",
    "maskrfe_ridge = rfe_ridge.get_support()\n",
    "plt.matshow(maskrfe_ridge.reshape(1,-1), cmap = 'gray_r')\n",
    "plt.xlabel('Axe des Features');"
   ]
  },
  {
   "cell_type": "markdown",
   "id": "c64459a8",
   "metadata": {},
   "source": [
    "##### RFECV with LOGISTIC REGRESSION estimator"
   ]
  },
  {
   "cell_type": "code",
   "execution_count": 117,
   "id": "26e9b4a2",
   "metadata": {},
   "outputs": [
    {
     "name": "stdout",
     "output_type": "stream",
     "text": [
      "Start Time  1695673345.574147\n",
      "End Time  676335.740803957\n"
     ]
    }
   ],
   "source": [
    "crossval = KFold(n_splits = 5, random_state = 2, shuffle = True)\n",
    "#  Créer une instance de RFECV\n",
    "rfecv = RFECV(estimator=logreg, cv=crossval)\n",
    "\n",
    "start_time = time.time()\n",
    "print(\"Start Time \",start_time)\n",
    "#  Ajustement du modèle sur le jeu d'entrainement.\n",
    "rfecv.fit(X_train_encoded, y_train2)\n",
    "end_time = time.time()\n",
    "execution_time = end_time - start_time\n",
    "print(\"End Time \",execution_time)"
   ]
  },
  {
   "cell_type": "code",
   "execution_count": 118,
   "id": "d8af15cb",
   "metadata": {},
   "outputs": [
    {
     "data": {
      "image/png": "[encoded data removed]",
      "text/plain": [
       "<Figure size 1600x200 with 1 Axes>"
      ]
     },
     "metadata": {},
     "output_type": "display_data"
    }
   ],
   "source": [
    "# (j) Affichage de la représentation graphique des features sélectionnées\n",
    "maskrfecv = rfecv.get_support()\n",
    "plt.matshow(maskrfecv.reshape(1,-1), cmap = 'gray_r')\n",
    "plt.xlabel('Feature selection');"
   ]
  },
  {
   "cell_type": "code",
   "execution_count": 119,
   "id": "7efdb4eb",
   "metadata": {},
   "outputs": [
    {
     "name": "stdout",
     "output_type": "stream",
     "text": [
      "Nombre de features retenues : 266\n"
     ]
    },
    {
     "data": {
      "image/png": "[encoded data removed]",
      "text/plain": [
       "<Figure size 640x480 with 1 Axes>"
      ]
     },
     "metadata": {},
     "output_type": "display_data"
    }
   ],
   "source": [
    "# (o) Courbe du score moyen en cross validation en fonction du nombre de features sélectionnées.\n",
    "plt.plot(rfecv.cv_results_['mean_test_score']);\n",
    "\n",
    "# (p) Affichage du nombre de features retenues.\n",
    "print(\"Nombre de features retenues :\", rfecv.n_features_)\n"
   ]
  },
  {
   "cell_type": "code",
   "execution_count": 146,
   "id": "ad59171c",
   "metadata": {},
   "outputs": [
    {
     "data": {
      "text/plain": [
       "array([ True,  True,  True,  True,  True,  True,  True,  True,  True,\n",
       "        True,  True,  True,  True,  True,  True,  True,  True,  True,\n",
       "        True,  True,  True,  True,  True,  True,  True,  True,  True,\n",
       "        True,  True,  True,  True,  True,  True,  True,  True,  True,\n",
       "        True,  True,  True,  True,  True,  True,  True,  True,  True,\n",
       "        True,  True,  True,  True,  True,  True,  True,  True,  True,\n",
       "        True,  True,  True,  True,  True,  True,  True,  True,  True,\n",
       "        True,  True,  True,  True,  True,  True,  True,  True,  True,\n",
       "        True,  True,  True,  True,  True,  True,  True,  True,  True,\n",
       "        True,  True,  True,  True,  True,  True,  True,  True,  True,\n",
       "        True,  True,  True,  True,  True,  True,  True,  True,  True,\n",
       "        True,  True,  True,  True,  True,  True,  True,  True,  True,\n",
       "        True,  True,  True,  True,  True,  True,  True,  True,  True,\n",
       "        True,  True,  True,  True,  True,  True,  True,  True,  True,\n",
       "        True,  True,  True,  True,  True,  True,  True,  True,  True,\n",
       "        True,  True,  True,  True,  True,  True,  True,  True,  True,\n",
       "        True,  True,  True,  True,  True,  True,  True,  True,  True,\n",
       "        True,  True,  True,  True,  True,  True,  True,  True,  True,\n",
       "        True,  True,  True,  True,  True,  True,  True,  True,  True,\n",
       "        True,  True,  True,  True,  True,  True,  True,  True,  True,\n",
       "        True,  True,  True,  True,  True,  True,  True,  True,  True,\n",
       "        True,  True,  True,  True,  True,  True,  True,  True,  True,\n",
       "        True,  True,  True,  True,  True,  True,  True,  True,  True,\n",
       "        True,  True,  True,  True,  True,  True,  True,  True,  True,\n",
       "        True,  True,  True,  True,  True,  True,  True,  True,  True,\n",
       "        True,  True,  True,  True,  True,  True,  True,  True,  True,\n",
       "        True,  True,  True,  True,  True,  True,  True,  True,  True,\n",
       "        True,  True,  True,  True,  True,  True,  True,  True,  True,\n",
       "        True,  True,  True,  True,  True,  True,  True,  True,  True,\n",
       "        True,  True,  True,  True,  True])"
      ]
     },
     "execution_count": 146,
     "metadata": {},
     "output_type": "execute_result"
    }
   ],
   "source": [
    "rfecv.support_"
   ]
  },
  {
   "cell_type": "code",
   "execution_count": null,
   "id": "cd6256dd",
   "metadata": {},
   "outputs": [],
   "source": []
  },
  {
   "cell_type": "code",
   "execution_count": null,
   "id": "47aebeda",
   "metadata": {},
   "outputs": [],
   "source": []
  }
 ],
 "metadata": {
  "kernelspec": {
   "display_name": "Python 3 (ipykernel)",
   "language": "python",
   "name": "python3"
  },
  "language_info": {
   "codemirror_mode": {
    "name": "ipython",
    "version": 3
   },
   "file_extension": ".py",
   "mimetype": "text/x-python",
   "name": "python",
   "nbconvert_exporter": "python",
   "pygments_lexer": "ipython3",
   "version": "3.9.15"
  }
 },
 "nbformat": 4,
 "nbformat_minor": 5
}
