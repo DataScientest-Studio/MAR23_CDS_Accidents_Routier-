{
 "cells": [
  {
   "cell_type": "markdown",
   "id": "60be6779",
   "metadata": {
    "id": "60be6779"
   },
   "source": [
    "# Deep Learning - Prédictions sur nos données tabulaires à l'aide d'un réseau de neurones denses (DNN)"
   ]
  },
  {
   "cell_type": "markdown",
   "id": "ddbb2c64",
   "metadata": {},
   "source": [
    "## Implémentation d'un modèle Perceptron multicouches (MLP)"
   ]
  },
  {
   "cell_type": "markdown",
   "id": "05563998",
   "metadata": {},
   "source": [
    "# Import des librairies"
   ]
  },
  {
   "cell_type": "code",
   "execution_count": 1,
   "id": "c9771349",
   "metadata": {
    "id": "c9771349"
   },
   "outputs": [],
   "source": [
    "import pandas as pd\n",
    "import numpy as np\n",
    "import matplotlib.pyplot as plt\n",
    "%matplotlib inline\n",
    "import seaborn as sns\n",
    "\n",
    "from sklearn.preprocessing import OneHotEncoder, LabelEncoder\n",
    "from sklearn.model_selection import train_test_split\n",
    "from tensorflow.keras.layers import Input, Dense \n",
    "from tensorflow.keras.models import Model, Sequential\n",
    "from tensorflow.keras.optimizers import Adam\n",
    "\n",
    "from sklearn.preprocessing import StandardScaler\n",
    "from sklearn.metrics import accuracy_score, balanced_accuracy_score, classification_report, confusion_matrix\n"
   ]
  },
  {
   "cell_type": "code",
   "execution_count": 2,
   "id": "ded6da3f",
   "metadata": {
    "id": "ded6da3f"
   },
   "outputs": [],
   "source": [
    "# Création d'un dictionnaire avec les noms des colonnes comme clés et \"catégorie\" comme valeurs\n",
    "\n",
    "df_dtypes = {\n",
    "  \"catr\"       :\"category\",\n",
    "  \"circ\"       :\"category\",\n",
    "  \"prof\"       :\"category\",\n",
    "  \"plan\"       :\"category\",\n",
    "  \"surf\"       :\"category\",\n",
    "  \"situ\"       :\"category\",\n",
    "  \"lum\"        :\"category\",\n",
    "  \"agg\"        :\"category\",\n",
    "  \"int\"        :\"category\",\n",
    "  \"atm\"        :\"category\",\n",
    "  \"col\"        :\"category\",\n",
    "  \"infra\"      :\"category\",\n",
    "  \"obs\"        :\"category\",\n",
    "  \"obsm\"       :\"category\",\n",
    "  \"choc\"       :\"category\",\n",
    "  \"manv\"       :\"category\",\n",
    "  \"num_veh\"    :\"category\",\n",
    "  \"catv_Label\" :\"category\",\n",
    "  \"catu\"       :\"category\",\n",
    "  \"sexe\"       :\"category\",\n",
    "  \"trajet\"     :\"category\",\n",
    "  \"secuUn\"     :\"category\",\n",
    "  \"secuDeux\"   :\"category\",\n",
    "  \"tranches_ages\" :\"category\",\n",
    "  \"num_acc\"    :\"category\",\n",
    "  \"mois\"       :\"category\",\n",
    "  \"jour\"       :\"category\",\n",
    "  \"com\"        :\"category\",\n",
    "  \"dep\"        :\"category\",\n",
    "  \"annee_x_x\"  :\"category\",\n",
    "  \"date\"       :\"category\",\n",
    "  \"jour_de_la_semaine\"    :\"category\",\n",
    "  \"heure\"      :\"category\",\n",
    "  \"nbv\"        :\"category\",\n",
    "  \"vosp\"       :\"category\",\n",
    "  \"place\"      :\"category\"\n",
    "}"
   ]
  },
  {
   "cell_type": "markdown",
   "id": "77518a3a",
   "metadata": {},
   "source": [
    "# Import du fichier fusion3 dans un DataFrame"
   ]
  },
  {
   "cell_type": "code",
   "execution_count": 3,
   "id": "9f44a5f4",
   "metadata": {
    "id": "9f44a5f4"
   },
   "outputs": [],
   "source": [
    "df = pd.read_csv(r\"../data/fusion3.csv\", dtype=df_dtypes, low_memory=False)"
   ]
  },
  {
   "cell_type": "code",
   "execution_count": 4,
   "id": "7c52667d",
   "metadata": {
    "id": "7c52667d"
   },
   "outputs": [],
   "source": [
    "df['date'] = pd.to_datetime(df['date'])\n",
    "df['month'] = df['date'].dt.month\n",
    "df['day'] = df['date'].dt.day\n",
    "df = df.drop(['Unnamed: 0','num_acc','an_nais','an_naiss','age_acc_an','num_veh','senc','occutc','permis','secuDeux','date'], axis=1)\n",
    "df['place'] = df['place'].astype('object')\n",
    "df = df.dropna()"
   ]
  },
  {
   "cell_type": "code",
   "execution_count": 5,
   "id": "1d9312db",
   "metadata": {
    "id": "1d9312db",
    "outputId": "17cbdd7f-668f-4429-fa8f-0384658ddef3"
   },
   "outputs": [
    {
     "name": "stdout",
     "output_type": "stream",
     "text": [
      "<class 'pandas.core.frame.DataFrame'>\n",
      "Index: 2291739 entries, 0 to 2291796\n",
      "Data columns (total 35 columns):\n",
      " #   Column              Dtype   \n",
      "---  ------              -----   \n",
      " 0   place               object  \n",
      " 1   catu                category\n",
      " 2   grav                object  \n",
      " 3   sexe                category\n",
      " 4   trajet              category\n",
      " 5   locp                object  \n",
      " 6   actp                object  \n",
      " 7   etatp               object  \n",
      " 8   secuUn              category\n",
      " 9   tranches_ages       category\n",
      " 10  catr                category\n",
      " 11  circ                category\n",
      " 12  nbv                 category\n",
      " 13  vosp                category\n",
      " 14  prof                category\n",
      " 15  plan                category\n",
      " 16  surf                category\n",
      " 17  infra               category\n",
      " 18  situ                category\n",
      " 19  obs                 category\n",
      " 20  obsm                category\n",
      " 21  choc                category\n",
      " 22  manv                category\n",
      " 23  catv_Label          category\n",
      " 24  lum                 category\n",
      " 25  agg                 category\n",
      " 26  int                 category\n",
      " 27  atm                 category\n",
      " 28  col                 category\n",
      " 29  com                 category\n",
      " 30  dep                 category\n",
      " 31  jour_de_la_semaine  category\n",
      " 32  heure               category\n",
      " 33  month               int32   \n",
      " 34  day                 int32   \n",
      "dtypes: category(28), int32(2), object(5)\n",
      "memory usage: 186.4+ MB\n"
     ]
    }
   ],
   "source": [
    "df.info()"
   ]
  },
  {
   "cell_type": "markdown",
   "id": "5e3dc552",
   "metadata": {
    "id": "5e3dc552"
   },
   "source": [
    "<h1>Encodage des variables</h1>\n",
    "\n",
    "Les variables sont encodées une à une afin de pallier à un déficit de mémoire sur certaines machines."
   ]
  },
  {
   "cell_type": "code",
   "execution_count": 6,
   "id": "5cf585aa",
   "metadata": {
    "id": "5cf585aa",
    "scrolled": false
   },
   "outputs": [],
   "source": [
    "df = pd.get_dummies(df, columns=['catu'])"
   ]
  },
  {
   "cell_type": "code",
   "execution_count": 7,
   "id": "151fd545",
   "metadata": {
    "id": "151fd545"
   },
   "outputs": [],
   "source": [
    "le = LabelEncoder()\n",
    "df['sexe'] = le.fit_transform(df['sexe'])"
   ]
  },
  {
   "cell_type": "code",
   "execution_count": 8,
   "id": "34a5b705",
   "metadata": {
    "id": "34a5b705"
   },
   "outputs": [],
   "source": [
    "df = pd.get_dummies(df, columns = ['trajet'])"
   ]
  },
  {
   "cell_type": "code",
   "execution_count": 9,
   "id": "f0286d0d",
   "metadata": {
    "id": "f0286d0d"
   },
   "outputs": [],
   "source": [
    "# Seuil pour le regroupement des catégories rares\n",
    "#threshold = 0.02\n",
    "\n",
    "# Identifier les catégories rares\n",
    "#rare_categories = df['locp'].value_counts(normalize=True)\n",
    "#rare_categories = rare_categories[rare_categories < threshold].index\n",
    "\n",
    "# Remplacer les catégories rares par 'Autre'\n",
    "#df['locp'] = df['locp'].replace(rare_categories, 'Autre')\n",
    "\n",
    "# One-Hot Encoding\n",
    "df = pd.get_dummies(df, columns=['locp'])"
   ]
  },
  {
   "cell_type": "code",
   "execution_count": 10,
   "id": "a5684540",
   "metadata": {
    "id": "a5684540"
   },
   "outputs": [],
   "source": [
    "# Seuil pour le regroupement des catégories rares\n",
    "#threshold = 0.02\n",
    "\n",
    "# Identifier les catégories rares\n",
    "#rare_categories = df['actp'].value_counts(normalize=True)\n",
    "#rare_categories = rare_categories[rare_categories < threshold].index\n",
    "\n",
    "# Remplacer les catégories rares par 'Autre'\n",
    "#df['actp'] = df['actp'].replace(rare_categories, 'Autre')\n",
    "\n",
    "# One-Hot Encoding\n",
    "df = pd.get_dummies(df, columns=['actp'])"
   ]
  },
  {
   "cell_type": "code",
   "execution_count": 11,
   "id": "2b0dcdb4",
   "metadata": {
    "id": "2b0dcdb4"
   },
   "outputs": [],
   "source": [
    "df = pd.get_dummies(df, columns = ['etatp'])"
   ]
  },
  {
   "cell_type": "code",
   "execution_count": 12,
   "id": "9e678a7c",
   "metadata": {
    "id": "9e678a7c"
   },
   "outputs": [],
   "source": [
    "# Seuil pour le regroupement des catégories rares\n",
    "#threshold = 0.01\n",
    "\n",
    "# Identifier les catégories rares\n",
    "#rare_categories = df['secuUn'].value_counts(normalize=True)\n",
    "#rare_categories = rare_categories[rare_categories < threshold].index\n",
    "\n",
    "# Remplacer les catégories rares par 'Autre'\n",
    "#df['secuUn'] = df['secuUn'].replace(rare_categories, 'Autre')\n",
    "\n",
    "# One-Hot Encoding\n",
    "df = pd.get_dummies(df, columns=['secuUn'])"
   ]
  },
  {
   "cell_type": "code",
   "execution_count": 13,
   "id": "d84302b0",
   "metadata": {
    "id": "d84302b0"
   },
   "outputs": [],
   "source": [
    "df = pd.get_dummies(df, columns = ['tranches_ages'])"
   ]
  },
  {
   "cell_type": "code",
   "execution_count": 14,
   "id": "9f862530",
   "metadata": {
    "id": "9f862530"
   },
   "outputs": [],
   "source": [
    "# Seuil pour le regroupement des catégories rares\n",
    "#threshold = 0.01\n",
    "\n",
    "# Identifier les catégories rares\n",
    "#rare_categories = df['catr'].value_counts(normalize=True)\n",
    "#rare_categories = rare_categories[rare_categories < threshold].index\n",
    "\n",
    "# Remplacer les catégories rares par 'Autre'\n",
    "#df['catr'] = df['catr'].replace(rare_categories, 'Autre')\n",
    "\n",
    "# One-Hot Encoding\n",
    "df = pd.get_dummies(df, columns=['catr'])"
   ]
  },
  {
   "cell_type": "code",
   "execution_count": 15,
   "id": "a91128e6",
   "metadata": {
    "id": "a91128e6"
   },
   "outputs": [],
   "source": [
    "# Seuil pour le regroupement des catégories rares\n",
    "#threshold = 0.01\n",
    "\n",
    "# Identifier les catégories rares\n",
    "#rare_categories = df['circ'].value_counts(normalize=True)\n",
    "#rare_categories = rare_categories[rare_categories < threshold].index\n",
    "\n",
    "# Remplacer les catégories rares par 'Autre'\n",
    "#df['circ'] = df['circ'].replace(rare_categories, 'Autre')\n",
    "\n",
    "# One-Hot Encoding\n",
    "df = pd.get_dummies(df, columns=['circ'])"
   ]
  },
  {
   "cell_type": "code",
   "execution_count": 16,
   "id": "b44dfafe",
   "metadata": {
    "id": "b44dfafe"
   },
   "outputs": [],
   "source": [
    "# Binary Encoding\n",
    "df['vosp'] = df['vosp'].apply(lambda x: 0 if x == 'Sans objet(0)' else 1)"
   ]
  },
  {
   "cell_type": "code",
   "execution_count": 17,
   "id": "20049a45",
   "metadata": {
    "id": "20049a45"
   },
   "outputs": [],
   "source": [
    "# Seuil pour le regroupement des catégories rares\n",
    "#threshold = 0.05\n",
    "\n",
    "# Identifier les catégories rares\n",
    "#rare_categories = df['prof'].value_counts(normalize=True)\n",
    "#rare_categories = rare_categories[rare_categories < threshold].index\n",
    "\n",
    "# Remplacer les catégories rares par 'Autre'\n",
    "#df['prof'] = df['prof'].replace(rare_categories, 'Autre')\n",
    "\n",
    "# One-Hot Encoding\n",
    "df = pd.get_dummies(df, columns=['prof'])"
   ]
  },
  {
   "cell_type": "code",
   "execution_count": 18,
   "id": "8df71d73",
   "metadata": {
    "id": "8df71d73"
   },
   "outputs": [],
   "source": [
    "# Seuil pour le regroupement des catégories rares\n",
    "#threshold = 0.05\n",
    "\n",
    "# Identifier les catégories rares\n",
    "#rare_categories = df['plan'].value_counts(normalize=True)\n",
    "#rare_categories = rare_categories[rare_categories < threshold].index\n",
    "\n",
    "# Remplacer les catégories rares par 'Autre'\n",
    "#df['plan'] = df['plan'].replace(rare_categories, 'Autre')\n",
    "\n",
    "# One-Hot Encoding\n",
    "df = pd.get_dummies(df, columns=['plan'])"
   ]
  },
  {
   "cell_type": "code",
   "execution_count": 19,
   "id": "7d2120bc",
   "metadata": {
    "id": "7d2120bc"
   },
   "outputs": [],
   "source": [
    "# Seuil pour le regroupement des catégories rares\n",
    "#threshold = 0.02\n",
    "\n",
    "# Identifier les catégories rares\n",
    "#rare_categories = df['surf'].value_counts(normalize=True)\n",
    "#rare_categories = rare_categories[rare_categories < threshold].index\n",
    "\n",
    "# Remplacer les catégories rares par 'Autre'\n",
    "#df['surf'] = df['surf'].replace(rare_categories, 'Autre')\n",
    "\n",
    "# One-Hot Encoding\n",
    "df = pd.get_dummies(df, columns=['surf'])"
   ]
  },
  {
   "cell_type": "code",
   "execution_count": 20,
   "id": "99e9fdba",
   "metadata": {
    "id": "99e9fdba"
   },
   "outputs": [],
   "source": [
    "# Seuil pour le regroupement des catégories rares\n",
    "#threshold = 0.02\n",
    "\n",
    "# Identifier les catégories rares\n",
    "#rare_categories = df['infra'].value_counts(normalize=True)\n",
    "#rare_categories = rare_categories[rare_categories < threshold].index\n",
    "\n",
    "# Remplacer les catégories rares par 'Autre'\n",
    "#df['infra'] = df['infra'].replace(rare_categories, 'Autre')\n",
    "\n",
    "# One-Hot Encoding\n",
    "df = pd.get_dummies(df, columns=['infra'])"
   ]
  },
  {
   "cell_type": "code",
   "execution_count": 21,
   "id": "5b0d3b78",
   "metadata": {
    "id": "5b0d3b78"
   },
   "outputs": [],
   "source": [
    "# Seuil pour le regroupement des catégories rares\n",
    "#threshold = 0.05\n",
    "\n",
    "# Identifier les catégories rares\n",
    "#rare_categories = df['situ'].value_counts(normalize=True)\n",
    "#rare_categories = rare_categories[rare_categories < threshold].index\n",
    "\n",
    "# Remplacer les catégories rares par 'Autre'\n",
    "#df['situ'] = df['situ'].replace(rare_categories, 'Autre')\n",
    "\n",
    "# One-Hot Encoding\n",
    "df = pd.get_dummies(df, columns=['situ'])"
   ]
  },
  {
   "cell_type": "code",
   "execution_count": 22,
   "id": "9a743182",
   "metadata": {
    "id": "9a743182"
   },
   "outputs": [],
   "source": [
    "# Seuil pour le regroupement des catégories rares\n",
    "#threshold = 0.02\n",
    "\n",
    "# Identifier les catégories rares\n",
    "#rare_categories = df['obs'].value_counts(normalize=True)\n",
    "#rare_categories = rare_categories[rare_categories < threshold].index\n",
    "\n",
    "# Remplacer les catégories rares par 'Autre'\n",
    "#df['obs'] = df['obs'].replace(rare_categories, 'Autre')\n",
    "\n",
    "# One-Hot Encoding\n",
    "df = pd.get_dummies(df, columns=['obs'])"
   ]
  },
  {
   "cell_type": "code",
   "execution_count": 23,
   "id": "d09cc0c8",
   "metadata": {
    "id": "d09cc0c8"
   },
   "outputs": [],
   "source": [
    "# Seuil pour le regroupement des catégories rares\n",
    "#threshold = 0.01\n",
    "\n",
    "# Identifier les catégories rares\n",
    "#rare_categories = df['obsm'].value_counts(normalize=True)\n",
    "#rare_categories = rare_categories[rare_categories < threshold].index\n",
    "\n",
    "# Remplacer les catégories rares par 'Autre'\n",
    "#df['obsm'] = df['obsm'].replace(rare_categories, 'Autre')\n",
    "\n",
    "# One-Hot Encoding\n",
    "df = pd.get_dummies(df, columns=['obsm'])"
   ]
  },
  {
   "cell_type": "code",
   "execution_count": 24,
   "id": "d3d3ccd0",
   "metadata": {
    "id": "d3d3ccd0"
   },
   "outputs": [],
   "source": [
    "# Regrouper la catégorie \"Non renseigné\" avec \"Aucun\"\n",
    "df['choc'] = df['choc'].replace('Non renseigné', 'Aucun')\n",
    "\n",
    "# Effectuer le one-hot encoding\n",
    "df = pd.get_dummies(df, columns=['choc'])\n"
   ]
  },
  {
   "cell_type": "code",
   "execution_count": 25,
   "id": "bbb36ed0",
   "metadata": {
    "id": "bbb36ed0"
   },
   "outputs": [],
   "source": [
    "frequency_encoding = df['manv'].value_counts(normalize=True)\n",
    "df['manv'] = df['manv'].map(frequency_encoding)"
   ]
  },
  {
   "cell_type": "code",
   "execution_count": 26,
   "id": "f9e86198",
   "metadata": {
    "id": "f9e86198"
   },
   "outputs": [],
   "source": [
    "frequency_encoding = df['catv_Label'].value_counts(normalize=True)\n",
    "df['catv_Label'] = df['catv_Label'].map(frequency_encoding)"
   ]
  },
  {
   "cell_type": "code",
   "execution_count": 27,
   "id": "3f89c336",
   "metadata": {
    "id": "3f89c336"
   },
   "outputs": [],
   "source": [
    "frequency_encoding = df['dep'].value_counts(normalize=True)\n",
    "df['dep'] = df['dep'].map(frequency_encoding)"
   ]
  },
  {
   "cell_type": "code",
   "execution_count": 28,
   "id": "9de0087a",
   "metadata": {
    "id": "9de0087a"
   },
   "outputs": [],
   "source": [
    "frequency_encoding = df['com'].value_counts(normalize=True)\n",
    "df['com'] = df['com'].map(frequency_encoding)"
   ]
  },
  {
   "cell_type": "code",
   "execution_count": 29,
   "id": "2e260c95",
   "metadata": {
    "id": "2e260c95"
   },
   "outputs": [],
   "source": [
    "df = pd.get_dummies(df, columns = ['lum'])"
   ]
  },
  {
   "cell_type": "code",
   "execution_count": 30,
   "id": "1d2d0a71",
   "metadata": {
    "id": "1d2d0a71"
   },
   "outputs": [],
   "source": [
    "df['agg'] = df['agg'].replace({'En agglomération': 1, 'Hors agglomération': 0})"
   ]
  },
  {
   "cell_type": "code",
   "execution_count": 31,
   "id": "211f7cd2",
   "metadata": {
    "id": "211f7cd2"
   },
   "outputs": [],
   "source": [
    "df = pd.get_dummies(df, columns = ['int'])"
   ]
  },
  {
   "cell_type": "code",
   "execution_count": 32,
   "id": "c8c9a7d2",
   "metadata": {
    "id": "c8c9a7d2"
   },
   "outputs": [],
   "source": [
    "df = pd.get_dummies(df, columns = ['atm'])"
   ]
  },
  {
   "cell_type": "code",
   "execution_count": 33,
   "id": "9b6821a3",
   "metadata": {
    "id": "9b6821a3"
   },
   "outputs": [],
   "source": [
    "df = pd.get_dummies(df, columns = ['col'])"
   ]
  },
  {
   "cell_type": "code",
   "execution_count": 34,
   "id": "62fc8c5a",
   "metadata": {
    "id": "62fc8c5a"
   },
   "outputs": [],
   "source": [
    "df = pd.get_dummies(df, columns = ['jour_de_la_semaine'])"
   ]
  },
  {
   "cell_type": "code",
   "execution_count": 35,
   "id": "c500cad3",
   "metadata": {
    "id": "c500cad3",
    "outputId": "1bb58389-d4de-468c-cf05-8ba07d26c387"
   },
   "outputs": [
    {
     "data": {
      "text/plain": [
       "(2291739, 195)"
      ]
     },
     "execution_count": 35,
     "metadata": {},
     "output_type": "execute_result"
    }
   ],
   "source": [
    "df.shape"
   ]
  },
  {
   "cell_type": "code",
   "execution_count": 36,
   "id": "48037418",
   "metadata": {
    "id": "48037418",
    "outputId": "65e3d33d-301d-4cf3-d9c1-7edbbd113057"
   },
   "outputs": [
    {
     "data": {
      "text/plain": [
       "Index(['place', 'grav', 'sexe', 'nbv', 'vosp', 'manv', 'catv_Label', 'agg',\n",
       "       'com', 'dep',\n",
       "       ...\n",
       "       'col_Sans collision',\n",
       "       'col_Trois véhicules et plus - collisions multiples',\n",
       "       'col_Trois véhicules et plus – en chaîne',\n",
       "       'jour_de_la_semaine_Dimanche', 'jour_de_la_semaine_Jeudi',\n",
       "       'jour_de_la_semaine_Lundi', 'jour_de_la_semaine_Mardi',\n",
       "       'jour_de_la_semaine_Mercredi', 'jour_de_la_semaine_Samedi',\n",
       "       'jour_de_la_semaine_Vendredi'],\n",
       "      dtype='object', length=195)"
      ]
     },
     "execution_count": 36,
     "metadata": {},
     "output_type": "execute_result"
    }
   ],
   "source": [
    "df.columns"
   ]
  },
  {
   "cell_type": "markdown",
   "id": "6e4a371d",
   "metadata": {
    "id": "6e4a371d"
   },
   "source": [
    "# Séparation des features et de la target"
   ]
  },
  {
   "cell_type": "code",
   "execution_count": 37,
   "id": "bb9a38bb",
   "metadata": {
    "id": "bb9a38bb"
   },
   "outputs": [],
   "source": [
    "X = df.drop('grav', axis=1)\n",
    "y = df['grav']"
   ]
  },
  {
   "cell_type": "code",
   "execution_count": 38,
   "id": "c305f9d0",
   "metadata": {},
   "outputs": [
    {
     "data": {
      "text/plain": [
       "Index([      0,       1,       2,       3,       4,       5,       6,       7,\n",
       "             8,       9,\n",
       "       ...\n",
       "       2291787, 2291788, 2291789, 2291790, 2291791, 2291792, 2291793, 2291794,\n",
       "       2291795, 2291796],\n",
       "      dtype='int64', length=2291739)"
      ]
     },
     "execution_count": 38,
     "metadata": {},
     "output_type": "execute_result"
    }
   ],
   "source": [
    "X.index"
   ]
  },
  {
   "cell_type": "code",
   "execution_count": 39,
   "id": "800623b1",
   "metadata": {},
   "outputs": [
    {
     "data": {
      "text/plain": [
       "Index([      0,       1,       2,       3,       4,       5,       6,       7,\n",
       "             8,       9,\n",
       "       ...\n",
       "       2291787, 2291788, 2291789, 2291790, 2291791, 2291792, 2291793, 2291794,\n",
       "       2291795, 2291796],\n",
       "      dtype='int64', length=2291739)"
      ]
     },
     "execution_count": 39,
     "metadata": {},
     "output_type": "execute_result"
    }
   ],
   "source": [
    "y.index"
   ]
  },
  {
   "cell_type": "code",
   "execution_count": 40,
   "id": "9609cb79",
   "metadata": {},
   "outputs": [
    {
     "data": {
      "text/plain": [
       "grav\n",
       "Indemne               937743\n",
       "Blessé léger          825286\n",
       "Blessé hospitalisé    467533\n",
       "Tué                    61177\n",
       "Name: count, dtype: int64"
      ]
     },
     "execution_count": 40,
     "metadata": {},
     "output_type": "execute_result"
    }
   ],
   "source": [
    "y.value_counts()"
   ]
  },
  {
   "cell_type": "markdown",
   "id": "747513a1",
   "metadata": {
    "id": "747513a1"
   },
   "source": [
    "# Séparation des données en ensembles d'entraînement et de test"
   ]
  },
  {
   "cell_type": "code",
   "execution_count": 41,
   "id": "1867bc99",
   "metadata": {
    "id": "1867bc99"
   },
   "outputs": [],
   "source": [
    "# Division des données en ensembles d'entraînement et de test, le jeu de test pèsera pour 20 % du jeu de données.\n",
    "\n",
    "X_train, X_test, y_train, y_test = train_test_split(X, y, test_size=0.2, random_state=42) "
   ]
  },
  {
   "cell_type": "code",
   "execution_count": 42,
   "id": "6570be7f",
   "metadata": {},
   "outputs": [
    {
     "data": {
      "text/html": [
       "<div>\n",
       "<style scoped>\n",
       "    .dataframe tbody tr th:only-of-type {\n",
       "        vertical-align: middle;\n",
       "    }\n",
       "\n",
       "    .dataframe tbody tr th {\n",
       "        vertical-align: top;\n",
       "    }\n",
       "\n",
       "    .dataframe thead th {\n",
       "        text-align: right;\n",
       "    }\n",
       "</style>\n",
       "<table border=\"1\" class=\"dataframe\">\n",
       "  <thead>\n",
       "    <tr style=\"text-align: right;\">\n",
       "      <th></th>\n",
       "      <th>place</th>\n",
       "      <th>sexe</th>\n",
       "      <th>nbv</th>\n",
       "      <th>vosp</th>\n",
       "      <th>manv</th>\n",
       "      <th>catv_Label</th>\n",
       "      <th>agg</th>\n",
       "      <th>com</th>\n",
       "      <th>dep</th>\n",
       "      <th>heure</th>\n",
       "      <th>...</th>\n",
       "      <th>col_Sans collision</th>\n",
       "      <th>col_Trois véhicules et plus - collisions multiples</th>\n",
       "      <th>col_Trois véhicules et plus – en chaîne</th>\n",
       "      <th>jour_de_la_semaine_Dimanche</th>\n",
       "      <th>jour_de_la_semaine_Jeudi</th>\n",
       "      <th>jour_de_la_semaine_Lundi</th>\n",
       "      <th>jour_de_la_semaine_Mardi</th>\n",
       "      <th>jour_de_la_semaine_Mercredi</th>\n",
       "      <th>jour_de_la_semaine_Samedi</th>\n",
       "      <th>jour_de_la_semaine_Vendredi</th>\n",
       "    </tr>\n",
       "  </thead>\n",
       "  <tbody>\n",
       "    <tr>\n",
       "      <th>2267456</th>\n",
       "      <td>2.0</td>\n",
       "      <td>0</td>\n",
       "      <td>2.0</td>\n",
       "      <td>0</td>\n",
       "      <td>0.109695</td>\n",
       "      <td>0.051384</td>\n",
       "      <td>1</td>\n",
       "      <td>0.000010</td>\n",
       "      <td>0.009388</td>\n",
       "      <td>14</td>\n",
       "      <td>...</td>\n",
       "      <td>False</td>\n",
       "      <td>False</td>\n",
       "      <td>False</td>\n",
       "      <td>False</td>\n",
       "      <td>False</td>\n",
       "      <td>False</td>\n",
       "      <td>False</td>\n",
       "      <td>False</td>\n",
       "      <td>False</td>\n",
       "      <td>True</td>\n",
       "    </tr>\n",
       "    <tr>\n",
       "      <th>1684613</th>\n",
       "      <td>1.0</td>\n",
       "      <td>1</td>\n",
       "      <td>4.0</td>\n",
       "      <td>0</td>\n",
       "      <td>0.109695</td>\n",
       "      <td>0.651106</td>\n",
       "      <td>0</td>\n",
       "      <td>0.000267</td>\n",
       "      <td>0.021840</td>\n",
       "      <td>17</td>\n",
       "      <td>...</td>\n",
       "      <td>False</td>\n",
       "      <td>False</td>\n",
       "      <td>False</td>\n",
       "      <td>False</td>\n",
       "      <td>False</td>\n",
       "      <td>False</td>\n",
       "      <td>False</td>\n",
       "      <td>False</td>\n",
       "      <td>False</td>\n",
       "      <td>True</td>\n",
       "    </tr>\n",
       "    <tr>\n",
       "      <th>1999446</th>\n",
       "      <td>2.0</td>\n",
       "      <td>0</td>\n",
       "      <td>0.0</td>\n",
       "      <td>0</td>\n",
       "      <td>0.032610</td>\n",
       "      <td>0.071721</td>\n",
       "      <td>1</td>\n",
       "      <td>0.003850</td>\n",
       "      <td>0.006918</td>\n",
       "      <td>11</td>\n",
       "      <td>...</td>\n",
       "      <td>False</td>\n",
       "      <td>False</td>\n",
       "      <td>False</td>\n",
       "      <td>False</td>\n",
       "      <td>False</td>\n",
       "      <td>False</td>\n",
       "      <td>True</td>\n",
       "      <td>False</td>\n",
       "      <td>False</td>\n",
       "      <td>False</td>\n",
       "    </tr>\n",
       "    <tr>\n",
       "      <th>1653900</th>\n",
       "      <td>1.0</td>\n",
       "      <td>1</td>\n",
       "      <td>2.0</td>\n",
       "      <td>1</td>\n",
       "      <td>0.020620</td>\n",
       "      <td>0.651106</td>\n",
       "      <td>1</td>\n",
       "      <td>0.009663</td>\n",
       "      <td>0.016662</td>\n",
       "      <td>10</td>\n",
       "      <td>...</td>\n",
       "      <td>False</td>\n",
       "      <td>False</td>\n",
       "      <td>False</td>\n",
       "      <td>False</td>\n",
       "      <td>False</td>\n",
       "      <td>False</td>\n",
       "      <td>False</td>\n",
       "      <td>True</td>\n",
       "      <td>False</td>\n",
       "      <td>False</td>\n",
       "    </tr>\n",
       "    <tr>\n",
       "      <th>550308</th>\n",
       "      <td>2.0</td>\n",
       "      <td>0</td>\n",
       "      <td>2.0</td>\n",
       "      <td>0</td>\n",
       "      <td>0.455666</td>\n",
       "      <td>0.651106</td>\n",
       "      <td>1</td>\n",
       "      <td>0.001114</td>\n",
       "      <td>0.004734</td>\n",
       "      <td>20</td>\n",
       "      <td>...</td>\n",
       "      <td>False</td>\n",
       "      <td>False</td>\n",
       "      <td>False</td>\n",
       "      <td>False</td>\n",
       "      <td>False</td>\n",
       "      <td>False</td>\n",
       "      <td>False</td>\n",
       "      <td>False</td>\n",
       "      <td>False</td>\n",
       "      <td>True</td>\n",
       "    </tr>\n",
       "    <tr>\n",
       "      <th>...</th>\n",
       "      <td>...</td>\n",
       "      <td>...</td>\n",
       "      <td>...</td>\n",
       "      <td>...</td>\n",
       "      <td>...</td>\n",
       "      <td>...</td>\n",
       "      <td>...</td>\n",
       "      <td>...</td>\n",
       "      <td>...</td>\n",
       "      <td>...</td>\n",
       "      <td>...</td>\n",
       "      <td>...</td>\n",
       "      <td>...</td>\n",
       "      <td>...</td>\n",
       "      <td>...</td>\n",
       "      <td>...</td>\n",
       "      <td>...</td>\n",
       "      <td>...</td>\n",
       "      <td>...</td>\n",
       "      <td>...</td>\n",
       "      <td>...</td>\n",
       "    </tr>\n",
       "    <tr>\n",
       "      <th>732186</th>\n",
       "      <td>0.0</td>\n",
       "      <td>1</td>\n",
       "      <td>3.0</td>\n",
       "      <td>0</td>\n",
       "      <td>0.455666</td>\n",
       "      <td>0.084295</td>\n",
       "      <td>1</td>\n",
       "      <td>0.006694</td>\n",
       "      <td>0.092927</td>\n",
       "      <td>10</td>\n",
       "      <td>...</td>\n",
       "      <td>False</td>\n",
       "      <td>False</td>\n",
       "      <td>False</td>\n",
       "      <td>False</td>\n",
       "      <td>False</td>\n",
       "      <td>False</td>\n",
       "      <td>False</td>\n",
       "      <td>False</td>\n",
       "      <td>True</td>\n",
       "      <td>False</td>\n",
       "    </tr>\n",
       "    <tr>\n",
       "      <th>110274</th>\n",
       "      <td>1.0</td>\n",
       "      <td>1</td>\n",
       "      <td>2.0</td>\n",
       "      <td>0</td>\n",
       "      <td>0.082017</td>\n",
       "      <td>0.003601</td>\n",
       "      <td>1</td>\n",
       "      <td>0.008847</td>\n",
       "      <td>0.010058</td>\n",
       "      <td>18</td>\n",
       "      <td>...</td>\n",
       "      <td>False</td>\n",
       "      <td>False</td>\n",
       "      <td>False</td>\n",
       "      <td>False</td>\n",
       "      <td>False</td>\n",
       "      <td>False</td>\n",
       "      <td>False</td>\n",
       "      <td>True</td>\n",
       "      <td>False</td>\n",
       "      <td>False</td>\n",
       "    </tr>\n",
       "    <tr>\n",
       "      <th>1692769</th>\n",
       "      <td>1.0</td>\n",
       "      <td>1</td>\n",
       "      <td>3.0</td>\n",
       "      <td>0</td>\n",
       "      <td>0.455666</td>\n",
       "      <td>0.651106</td>\n",
       "      <td>1</td>\n",
       "      <td>0.004218</td>\n",
       "      <td>0.041958</td>\n",
       "      <td>6</td>\n",
       "      <td>...</td>\n",
       "      <td>False</td>\n",
       "      <td>False</td>\n",
       "      <td>False</td>\n",
       "      <td>False</td>\n",
       "      <td>False</td>\n",
       "      <td>True</td>\n",
       "      <td>False</td>\n",
       "      <td>False</td>\n",
       "      <td>False</td>\n",
       "      <td>False</td>\n",
       "    </tr>\n",
       "    <tr>\n",
       "      <th>2229139</th>\n",
       "      <td>1.0</td>\n",
       "      <td>1</td>\n",
       "      <td>1.0</td>\n",
       "      <td>0</td>\n",
       "      <td>0.455666</td>\n",
       "      <td>0.071721</td>\n",
       "      <td>1</td>\n",
       "      <td>0.000354</td>\n",
       "      <td>0.092927</td>\n",
       "      <td>22</td>\n",
       "      <td>...</td>\n",
       "      <td>False</td>\n",
       "      <td>False</td>\n",
       "      <td>False</td>\n",
       "      <td>False</td>\n",
       "      <td>False</td>\n",
       "      <td>False</td>\n",
       "      <td>True</td>\n",
       "      <td>False</td>\n",
       "      <td>False</td>\n",
       "      <td>False</td>\n",
       "    </tr>\n",
       "    <tr>\n",
       "      <th>2219164</th>\n",
       "      <td>2.0</td>\n",
       "      <td>1</td>\n",
       "      <td>2.0</td>\n",
       "      <td>0</td>\n",
       "      <td>0.002545</td>\n",
       "      <td>0.651106</td>\n",
       "      <td>1</td>\n",
       "      <td>0.000007</td>\n",
       "      <td>0.012329</td>\n",
       "      <td>13</td>\n",
       "      <td>...</td>\n",
       "      <td>False</td>\n",
       "      <td>False</td>\n",
       "      <td>False</td>\n",
       "      <td>False</td>\n",
       "      <td>False</td>\n",
       "      <td>False</td>\n",
       "      <td>False</td>\n",
       "      <td>False</td>\n",
       "      <td>False</td>\n",
       "      <td>True</td>\n",
       "    </tr>\n",
       "  </tbody>\n",
       "</table>\n",
       "<p>1833391 rows × 194 columns</p>\n",
       "</div>"
      ],
      "text/plain": [
       "        place  sexe  nbv  vosp      manv catv_Label agg       com       dep  \\\n",
       "2267456   2.0     0  2.0     0  0.109695   0.051384   1  0.000010  0.009388   \n",
       "1684613   1.0     1  4.0     0  0.109695   0.651106   0  0.000267  0.021840   \n",
       "1999446   2.0     0  0.0     0  0.032610   0.071721   1  0.003850  0.006918   \n",
       "1653900   1.0     1  2.0     1  0.020620   0.651106   1  0.009663  0.016662   \n",
       "550308    2.0     0  2.0     0  0.455666   0.651106   1  0.001114  0.004734   \n",
       "...       ...   ...  ...   ...       ...        ...  ..       ...       ...   \n",
       "732186    0.0     1  3.0     0  0.455666   0.084295   1  0.006694  0.092927   \n",
       "110274    1.0     1  2.0     0  0.082017   0.003601   1  0.008847  0.010058   \n",
       "1692769   1.0     1  3.0     0  0.455666   0.651106   1  0.004218  0.041958   \n",
       "2229139   1.0     1  1.0     0  0.455666   0.071721   1  0.000354  0.092927   \n",
       "2219164   2.0     1  2.0     0  0.002545   0.651106   1  0.000007  0.012329   \n",
       "\n",
       "        heure  ...  col_Sans collision  \\\n",
       "2267456    14  ...               False   \n",
       "1684613    17  ...               False   \n",
       "1999446    11  ...               False   \n",
       "1653900    10  ...               False   \n",
       "550308     20  ...               False   \n",
       "...       ...  ...                 ...   \n",
       "732186     10  ...               False   \n",
       "110274     18  ...               False   \n",
       "1692769     6  ...               False   \n",
       "2229139    22  ...               False   \n",
       "2219164    13  ...               False   \n",
       "\n",
       "         col_Trois véhicules et plus - collisions multiples  \\\n",
       "2267456                                              False    \n",
       "1684613                                              False    \n",
       "1999446                                              False    \n",
       "1653900                                              False    \n",
       "550308                                               False    \n",
       "...                                                    ...    \n",
       "732186                                               False    \n",
       "110274                                               False    \n",
       "1692769                                              False    \n",
       "2229139                                              False    \n",
       "2219164                                              False    \n",
       "\n",
       "         col_Trois véhicules et plus – en chaîne  jour_de_la_semaine_Dimanche  \\\n",
       "2267456                                    False                        False   \n",
       "1684613                                    False                        False   \n",
       "1999446                                    False                        False   \n",
       "1653900                                    False                        False   \n",
       "550308                                     False                        False   \n",
       "...                                          ...                          ...   \n",
       "732186                                     False                        False   \n",
       "110274                                     False                        False   \n",
       "1692769                                    False                        False   \n",
       "2229139                                    False                        False   \n",
       "2219164                                    False                        False   \n",
       "\n",
       "         jour_de_la_semaine_Jeudi  jour_de_la_semaine_Lundi  \\\n",
       "2267456                     False                     False   \n",
       "1684613                     False                     False   \n",
       "1999446                     False                     False   \n",
       "1653900                     False                     False   \n",
       "550308                      False                     False   \n",
       "...                           ...                       ...   \n",
       "732186                      False                     False   \n",
       "110274                      False                     False   \n",
       "1692769                     False                      True   \n",
       "2229139                     False                     False   \n",
       "2219164                     False                     False   \n",
       "\n",
       "         jour_de_la_semaine_Mardi  jour_de_la_semaine_Mercredi  \\\n",
       "2267456                     False                        False   \n",
       "1684613                     False                        False   \n",
       "1999446                      True                        False   \n",
       "1653900                     False                         True   \n",
       "550308                      False                        False   \n",
       "...                           ...                          ...   \n",
       "732186                      False                        False   \n",
       "110274                      False                         True   \n",
       "1692769                     False                        False   \n",
       "2229139                      True                        False   \n",
       "2219164                     False                        False   \n",
       "\n",
       "         jour_de_la_semaine_Samedi  jour_de_la_semaine_Vendredi  \n",
       "2267456                      False                         True  \n",
       "1684613                      False                         True  \n",
       "1999446                      False                        False  \n",
       "1653900                      False                        False  \n",
       "550308                       False                         True  \n",
       "...                            ...                          ...  \n",
       "732186                        True                        False  \n",
       "110274                       False                        False  \n",
       "1692769                      False                        False  \n",
       "2229139                      False                        False  \n",
       "2219164                      False                         True  \n",
       "\n",
       "[1833391 rows x 194 columns]"
      ]
     },
     "execution_count": 42,
     "metadata": {},
     "output_type": "execute_result"
    }
   ],
   "source": [
    "X_train"
   ]
  },
  {
   "cell_type": "code",
   "execution_count": 43,
   "id": "c9797a2d",
   "metadata": {},
   "outputs": [
    {
     "data": {
      "text/plain": [
       "2267456          Blessé léger\n",
       "1684613               Indemne\n",
       "1999446          Blessé léger\n",
       "1653900               Indemne\n",
       "550308           Blessé léger\n",
       "                  ...        \n",
       "732186                Indemne\n",
       "110274                Indemne\n",
       "1692769          Blessé léger\n",
       "2229139    Blessé hospitalisé\n",
       "2219164          Blessé léger\n",
       "Name: grav, Length: 1833391, dtype: object"
      ]
     },
     "execution_count": 43,
     "metadata": {},
     "output_type": "execute_result"
    }
   ],
   "source": [
    "y_train"
   ]
  },
  {
   "cell_type": "code",
   "execution_count": 44,
   "id": "24b858be",
   "metadata": {},
   "outputs": [
    {
     "name": "stdout",
     "output_type": "stream",
     "text": [
      "Requirement already satisfied: imbalanced-learn in c:\\users\\clevr\\anaconda3\\envs\\tf\\lib\\site-packages (0.11.0)\n",
      "Requirement already satisfied: numpy>=1.17.3 in c:\\users\\clevr\\anaconda3\\envs\\tf\\lib\\site-packages (from imbalanced-learn) (1.26.0)\n",
      "Requirement already satisfied: scipy>=1.5.0 in c:\\users\\clevr\\anaconda3\\envs\\tf\\lib\\site-packages (from imbalanced-learn) (1.11.3)\n",
      "Requirement already satisfied: scikit-learn>=1.0.2 in c:\\users\\clevr\\anaconda3\\envs\\tf\\lib\\site-packages (from imbalanced-learn) (1.3.0)\n",
      "Requirement already satisfied: joblib>=1.1.1 in c:\\users\\clevr\\anaconda3\\envs\\tf\\lib\\site-packages (from imbalanced-learn) (1.2.0)\n",
      "Requirement already satisfied: threadpoolctl>=2.0.0 in c:\\users\\clevr\\anaconda3\\envs\\tf\\lib\\site-packages (from imbalanced-learn) (2.2.0)\n",
      "Note: you may need to restart the kernel to use updated packages.\n"
     ]
    }
   ],
   "source": [
    "pip install imbalanced-learn"
   ]
  },
  {
   "cell_type": "code",
   "execution_count": 45,
   "id": "e6760022",
   "metadata": {},
   "outputs": [],
   "source": [
    "from imblearn.metrics import classification_report_imbalanced, geometric_mean_score\n",
    "from sklearn.metrics import f1_score"
   ]
  },
  {
   "cell_type": "markdown",
   "id": "ff34b840",
   "metadata": {},
   "source": [
    "# Création d'une fonction pour faire un oversampling en dupliquant aléatoirement des exemples de la classe minoritaire"
   ]
  },
  {
   "cell_type": "code",
   "execution_count": 46,
   "id": "4b2a5b6b",
   "metadata": {},
   "outputs": [],
   "source": [
    "def oversample_minority_class(X_train, y_train, subset_size):\n",
    "    # Identification des indices des exemples de la classe minoritaire\n",
    "    minority_indices = np.asarray(y_train[y_train == minority_class_label].index) \n",
    "    print(minority_indices)\n",
    "    # Duplication aléatoire des exemples de la classe minoritaire\n",
    "    oversampled_minority_indices = np.random.choice(minority_indices, size=subset_size, replace=True)\n",
    "    oversampled_minority_indices = pd.Index(oversampled_minority_indices).drop_duplicates()\n",
    "    print(oversampled_minority_indices)\n",
    "    # Concaténation des exemples de la classe majoritaire et des exemples dupliqués de la classe minoritaire\n",
    "    X_oversampled = np.concatenate((X_train, X_train[X_train.index.isin(oversampled_minority_indices)]))\n",
    "    y_oversampled = np.concatenate((y_train, y_train[oversampled_minority_indices]))\n",
    "\n",
    "    return X_oversampled, y_oversampled\n",
    "    "
   ]
  },
  {
   "cell_type": "code",
   "execution_count": 47,
   "id": "2f646732",
   "metadata": {},
   "outputs": [
    {
     "name": "stdout",
     "output_type": "stream",
     "text": [
      "[ 708601 1902226 1914482 ... 1425498 1500968 2281988]\n",
      "Index([2111382, 1237319, 2154295,  517156, 1381192,  631564, 1801268, 1801702,\n",
      "       1770850,  544488,\n",
      "       ...\n",
      "       1426328,  608944, 1054460, 1896054,  109323,  930241,  634330, 1062418,\n",
      "       1088409, 1220520],\n",
      "      dtype='int64', length=988)\n"
     ]
    }
   ],
   "source": [
    "# Création d'un sur-ensemble de données en utilisant l'oversampling\n",
    "\n",
    "minority_class_label = 'Tué'\n",
    "subset_size = 1000\n",
    "X_oversampled, y_oversampled = oversample_minority_class(X_train, y_train, subset_size)"
   ]
  },
  {
   "cell_type": "code",
   "execution_count": 48,
   "id": "46f1f903",
   "metadata": {},
   "outputs": [
    {
     "data": {
      "text/plain": [
       "array([['2.0', 0, '2.0', ..., False, False, True],\n",
       "       ['1.0', 1, '4.0', ..., False, False, True],\n",
       "       ['2.0', 0, '0.0', ..., False, False, False],\n",
       "       ...,\n",
       "       ['1.0', 1, '2.0', ..., False, False, False],\n",
       "       ['1.0', 1, '0.0', ..., False, False, False],\n",
       "       ['2.0', 0, '2.0', ..., False, False, False]], dtype=object)"
      ]
     },
     "execution_count": 48,
     "metadata": {},
     "output_type": "execute_result"
    }
   ],
   "source": [
    "X_oversampled"
   ]
  },
  {
   "cell_type": "code",
   "execution_count": 49,
   "id": "cdeb5539",
   "metadata": {},
   "outputs": [
    {
     "data": {
      "text/plain": [
       "(1834379, 194)"
      ]
     },
     "execution_count": 49,
     "metadata": {},
     "output_type": "execute_result"
    }
   ],
   "source": [
    "X_oversampled.shape"
   ]
  },
  {
   "cell_type": "code",
   "execution_count": 50,
   "id": "43b2f61e",
   "metadata": {},
   "outputs": [
    {
     "data": {
      "text/plain": [
       "array(['Blessé léger', 'Indemne', 'Blessé léger', ..., 'Tué', 'Tué',\n",
       "       'Tué'], dtype=object)"
      ]
     },
     "execution_count": 50,
     "metadata": {},
     "output_type": "execute_result"
    }
   ],
   "source": [
    "y_oversampled"
   ]
  },
  {
   "cell_type": "code",
   "execution_count": 51,
   "id": "d1c2661a",
   "metadata": {},
   "outputs": [
    {
     "data": {
      "text/plain": [
       "(1834379,)"
      ]
     },
     "execution_count": 51,
     "metadata": {},
     "output_type": "execute_result"
    }
   ],
   "source": [
    "y_oversampled.shape"
   ]
  },
  {
   "cell_type": "code",
   "execution_count": 52,
   "id": "436c1a1a",
   "metadata": {},
   "outputs": [],
   "source": [
    "# Utilisation d'un sous-ensemble de données pour réduire la taille\n",
    "\n",
    "X_oversampled_subset = X_oversampled[:subset_size]\n",
    "y_oversampled_subset = y_oversampled[:subset_size]"
   ]
  },
  {
   "cell_type": "markdown",
   "id": "ce2b64f6",
   "metadata": {},
   "source": [
    "# Normalisation des données d'entraînement et de test"
   ]
  },
  {
   "cell_type": "code",
   "execution_count": 53,
   "id": "b6366183",
   "metadata": {},
   "outputs": [
    {
     "name": "stderr",
     "output_type": "stream",
     "text": [
      "C:\\Users\\clevr\\anaconda3\\envs\\tf\\lib\\site-packages\\sklearn\\base.py:457: UserWarning: X has feature names, but StandardScaler was fitted without feature names\n",
      "  warnings.warn(\n"
     ]
    }
   ],
   "source": [
    "scaler = StandardScaler()\n",
    "X_oversampled = scaler.fit_transform(X_oversampled)\n",
    "X_test = scaler.transform(X_test)"
   ]
  },
  {
   "cell_type": "code",
   "execution_count": 54,
   "id": "984496eb",
   "metadata": {},
   "outputs": [
    {
     "data": {
      "text/plain": [
       "array([[ 0.57794773, -1.43559062, -0.08762832, ..., -0.41100502,\n",
       "        -0.41535677,  2.23917042],\n",
       "       [-0.29354923,  0.69657741,  1.22213146, ..., -0.41100502,\n",
       "        -0.41535677,  2.23917042],\n",
       "       [ 0.57794773, -1.43559062, -1.39738809, ..., -0.41100502,\n",
       "        -0.41535677, -0.44659397],\n",
       "       ...,\n",
       "       [-0.29354923,  0.69657741, -0.08762832, ..., -0.41100502,\n",
       "        -0.41535677, -0.44659397],\n",
       "       [-0.29354923,  0.69657741, -1.39738809, ..., -0.41100502,\n",
       "        -0.41535677, -0.44659397],\n",
       "       [ 0.57794773, -1.43559062, -0.08762832, ..., -0.41100502,\n",
       "        -0.41535677, -0.44659397]])"
      ]
     },
     "execution_count": 54,
     "metadata": {},
     "output_type": "execute_result"
    }
   ],
   "source": [
    "X_oversampled"
   ]
  },
  {
   "cell_type": "markdown",
   "id": "74eaae96",
   "metadata": {},
   "source": [
    "# Encodage de la variable cible y_oversampled_encoded"
   ]
  },
  {
   "cell_type": "code",
   "execution_count": 55,
   "id": "3908f6cb",
   "metadata": {},
   "outputs": [],
   "source": [
    "from sklearn.preprocessing import LabelEncoder\n",
    "encoder =  LabelEncoder()\n",
    "y_oversampled_encoded = encoder.fit_transform(y_oversampled)"
   ]
  },
  {
   "cell_type": "code",
   "execution_count": 56,
   "id": "8004d470",
   "metadata": {},
   "outputs": [
    {
     "name": "stdout",
     "output_type": "stream",
     "text": [
      "[[ 0.57794773 -1.43559062 -0.08762832 ... -0.41100502 -0.41535677\n",
      "   2.23917042]\n",
      " [-0.29354923  0.69657741  1.22213146 ... -0.41100502 -0.41535677\n",
      "   2.23917042]\n",
      " [ 0.57794773 -1.43559062 -1.39738809 ... -0.41100502 -0.41535677\n",
      "  -0.44659397]\n",
      " ...\n",
      " [-0.29354923  0.69657741 -0.08762832 ... -0.41100502 -0.41535677\n",
      "  -0.44659397]\n",
      " [-0.29354923  0.69657741 -1.39738809 ... -0.41100502 -0.41535677\n",
      "  -0.44659397]\n",
      " [ 0.57794773 -1.43559062 -0.08762832 ... -0.41100502 -0.41535677\n",
      "  -0.44659397]]\n"
     ]
    }
   ],
   "source": [
    "print(X_oversampled)"
   ]
  },
  {
   "cell_type": "code",
   "execution_count": 57,
   "id": "e4592177",
   "metadata": {},
   "outputs": [
    {
     "name": "stdout",
     "output_type": "stream",
     "text": [
      "[1 2 1 ... 3 3 3]\n"
     ]
    }
   ],
   "source": [
    "print(y_oversampled_encoded)"
   ]
  },
  {
   "cell_type": "code",
   "execution_count": 58,
   "id": "e9c6b4bd",
   "metadata": {},
   "outputs": [
    {
     "data": {
      "text/plain": [
       "0"
      ]
     },
     "execution_count": 58,
     "metadata": {},
     "output_type": "execute_result"
    }
   ],
   "source": [
    "y_oversampled_encoded.min()"
   ]
  },
  {
   "cell_type": "code",
   "execution_count": 59,
   "id": "9d7fa2e9",
   "metadata": {},
   "outputs": [
    {
     "data": {
      "text/plain": [
       "3"
      ]
     },
     "execution_count": 59,
     "metadata": {},
     "output_type": "execute_result"
    }
   ],
   "source": [
    "y_oversampled_encoded.max()"
   ]
  },
  {
   "cell_type": "markdown",
   "id": "ed4e05f1",
   "metadata": {},
   "source": [
    "# Classification binaire sur y_oversampled_encoded "
   ]
  },
  {
   "cell_type": "code",
   "execution_count": null,
   "id": "67e17d07",
   "metadata": {},
   "outputs": [],
   "source": [
    "\"\"\"\n",
    "Transformation du problème en une classification à 2 classes; \n",
    "Modification de la variable cible pour qu'elle prenne 2 modalités.\n",
    "Une modalité non grave incluant la catégorie \"Indemne\" et \"Blessé léger\"\n",
    "ET\n",
    "Une modalité grave incluant la catégorie \"Blessé hospitalisé\" et \"Tué\"\n",
    "\"\"\""
   ]
  },
  {
   "cell_type": "code",
   "execution_count": 60,
   "id": "06b94606",
   "metadata": {},
   "outputs": [],
   "source": [
    "y_oversampled_encoded[y_oversampled_encoded == 1] = 0"
   ]
  },
  {
   "cell_type": "code",
   "execution_count": 61,
   "id": "8f87117b",
   "metadata": {},
   "outputs": [],
   "source": [
    "y_oversampled_encoded[(y_oversampled_encoded == 2) | (y_oversampled_encoded == 3)] = 1"
   ]
  },
  {
   "cell_type": "code",
   "execution_count": 62,
   "id": "6a6eccae",
   "metadata": {},
   "outputs": [
    {
     "data": {
      "text/plain": [
       "0"
      ]
     },
     "execution_count": 62,
     "metadata": {},
     "output_type": "execute_result"
    }
   ],
   "source": [
    "y_oversampled_encoded.min()"
   ]
  },
  {
   "cell_type": "code",
   "execution_count": 63,
   "id": "182f3b72",
   "metadata": {},
   "outputs": [
    {
     "data": {
      "text/plain": [
       "1"
      ]
     },
     "execution_count": 63,
     "metadata": {},
     "output_type": "execute_result"
    }
   ],
   "source": [
    "y_oversampled_encoded.max()"
   ]
  },
  {
   "cell_type": "markdown",
   "id": "9ab5b6c9",
   "metadata": {},
   "source": [
    "# Construction et Entraînement d'un modèle MLP"
   ]
  },
  {
   "cell_type": "code",
   "execution_count": 64,
   "id": "ba63aaa1",
   "metadata": {},
   "outputs": [],
   "source": [
    "# Instanciation d'une couche d'entrée inputs avec pour dimension le nombre de variables explicatives du modèle"
   ]
  },
  {
   "cell_type": "code",
   "execution_count": 65,
   "id": "d066616f",
   "metadata": {},
   "outputs": [
    {
     "name": "stdout",
     "output_type": "stream",
     "text": [
      "Nous avons 194 variables explicatives\n"
     ]
    }
   ],
   "source": [
    "print(\"Nous avons 194 variables explicatives\")\n"
   ]
  },
  {
   "cell_type": "code",
   "execution_count": 66,
   "id": "ba8d38d0",
   "metadata": {},
   "outputs": [],
   "source": [
    "inputs = Input(shape = (194), name = \"Input\")"
   ]
  },
  {
   "cell_type": "code",
   "execution_count": 67,
   "id": "e76e575e",
   "metadata": {},
   "outputs": [],
   "source": [
    "# Instanciation des couches qui composeront le modèle avec leur constructeur"
   ]
  },
  {
   "cell_type": "code",
   "execution_count": 68,
   "id": "875b67b5",
   "metadata": {},
   "outputs": [],
   "source": [
    "dense1 = Dense(units = 800, activation = \"tanh\", name = \"Dense_Layer1\")\n",
    "dense2 = Dense(units = 200, activation = \"tanh\", name = \"Dense_Layer2\")\n",
    "dense3 = Dense(units = 40, activation = \"tanh\", name = \"Dense_Layer3\")\n",
    "dense4 = Dense(units = 2, activation = \"softmax\", name = \"Dense_Layer4\")"
   ]
  },
  {
   "cell_type": "code",
   "execution_count": 69,
   "id": "fc43db6b",
   "metadata": {},
   "outputs": [],
   "source": [
    "# Application des différentes couches du modèle une à une (construction fonctionnelle)"
   ]
  },
  {
   "cell_type": "code",
   "execution_count": 70,
   "id": "e742502f",
   "metadata": {},
   "outputs": [],
   "source": [
    "x = dense1(inputs)\n",
    "x = dense2(x)\n",
    "x = dense3(x)\n",
    "outputs = dense4(x)"
   ]
  },
  {
   "cell_type": "code",
   "execution_count": 71,
   "id": "11297458",
   "metadata": {},
   "outputs": [],
   "source": [
    "# Finalisation de la définition du modèle et affichage de la structure"
   ]
  },
  {
   "cell_type": "code",
   "execution_count": 72,
   "id": "5ef07383",
   "metadata": {},
   "outputs": [
    {
     "name": "stdout",
     "output_type": "stream",
     "text": [
      "Model: \"model\"\n",
      "_________________________________________________________________\n",
      " Layer (type)                Output Shape              Param #   \n",
      "=================================================================\n",
      " Input (InputLayer)          [(None, 194)]             0         \n",
      "                                                                 \n",
      " Dense_Layer1 (Dense)        (None, 800)               156000    \n",
      "                                                                 \n",
      " Dense_Layer2 (Dense)        (None, 200)               160200    \n",
      "                                                                 \n",
      " Dense_Layer3 (Dense)        (None, 40)                8040      \n",
      "                                                                 \n",
      " Dense_Layer4 (Dense)        (None, 2)                 82        \n",
      "                                                                 \n",
      "=================================================================\n",
      "Total params: 324,322\n",
      "Trainable params: 324,322\n",
      "Non-trainable params: 0\n",
      "_________________________________________________________________\n"
     ]
    }
   ],
   "source": [
    "model = Model(inputs = inputs, outputs = outputs)\n",
    "model.summary()"
   ]
  },
  {
   "cell_type": "code",
   "execution_count": 73,
   "id": "e5936437",
   "metadata": {},
   "outputs": [],
   "source": [
    "# Compilation du modèle avec comme fonction de perte: \"sparse_categorical_crossentropy\"\n",
    "# Cette loss function est adaptée à la classification multi-classes.\n",
    "# Définition de l'optimiseur \"adam\" et de la métrique [\"accuracy\"]"
   ]
  },
  {
   "cell_type": "code",
   "execution_count": 74,
   "id": "b9ad91bf",
   "metadata": {},
   "outputs": [],
   "source": [
    "model.compile(loss = \"sparse_categorical_crossentropy\", optimizer = \"adam\", metrics = [\"accuracy\"])"
   ]
  },
  {
   "cell_type": "code",
   "execution_count": 75,
   "id": "7c7b9922",
   "metadata": {},
   "outputs": [],
   "source": [
    "import tensorflow as tf\n",
    "model.compile(optimizer='adam', loss=tf.keras.losses.SparseCategoricalCrossentropy(from_logits=False), metrics=['accuracy'])\n"
   ]
  },
  {
   "cell_type": "markdown",
   "id": "5e171d5d",
   "metadata": {},
   "source": [
    "## Entrainement du modèle et courbe d'apprentissage"
   ]
  },
  {
   "cell_type": "code",
   "execution_count": 76,
   "id": "33dc4856",
   "metadata": {},
   "outputs": [
    {
     "name": "stdout",
     "output_type": "stream",
     "text": [
      "Epoch 1/40\n",
      "56752/56752 [==============================] - 331s 6ms/step - loss: 0.4605 - accuracy: 0.7798 - val_loss: 0.5099 - val_accuracy: 0.7457\n",
      "Epoch 2/40\n",
      "56752/56752 [==============================] - 328s 6ms/step - loss: 0.4535 - accuracy: 0.7843 - val_loss: 0.5065 - val_accuracy: 0.7493\n",
      "Epoch 3/40\n",
      "56752/56752 [==============================] - 330s 6ms/step - loss: 0.4519 - accuracy: 0.7855 - val_loss: 0.5065 - val_accuracy: 0.7515\n",
      "Epoch 4/40\n",
      "56752/56752 [==============================] - 301s 5ms/step - loss: 0.4515 - accuracy: 0.7857 - val_loss: 0.5102 - val_accuracy: 0.7531\n",
      "Epoch 5/40\n",
      "56752/56752 [==============================] - 312s 5ms/step - loss: 0.4512 - accuracy: 0.7859 - val_loss: 0.5085 - val_accuracy: 0.7536\n",
      "Epoch 6/40\n",
      "56752/56752 [==============================] - 305s 5ms/step - loss: 0.4507 - accuracy: 0.7860 - val_loss: 0.5084 - val_accuracy: 0.7509\n",
      "Epoch 7/40\n",
      "56752/56752 [==============================] - 441s 8ms/step - loss: 0.4508 - accuracy: 0.7864 - val_loss: 0.5091 - val_accuracy: 0.7532\n",
      "Epoch 8/40\n",
      "56752/56752 [==============================] - 506s 9ms/step - loss: 0.4504 - accuracy: 0.7865 - val_loss: 0.5055 - val_accuracy: 0.7523\n",
      "Epoch 9/40\n",
      "56752/56752 [==============================] - 424s 7ms/step - loss: 0.4502 - accuracy: 0.7869 - val_loss: 0.5084 - val_accuracy: 0.7543\n",
      "Epoch 10/40\n",
      "56752/56752 [==============================] - 523s 9ms/step - loss: 0.4501 - accuracy: 0.7868 - val_loss: 0.5110 - val_accuracy: 0.7502\n",
      "Epoch 11/40\n",
      "56752/56752 [==============================] - 466s 8ms/step - loss: 0.4501 - accuracy: 0.7869 - val_loss: 0.5146 - val_accuracy: 0.7506\n",
      "Epoch 12/40\n",
      "56752/56752 [==============================] - 449s 8ms/step - loss: 0.4501 - accuracy: 0.7871 - val_loss: 0.5092 - val_accuracy: 0.7496\n",
      "Epoch 13/40\n",
      "56752/56752 [==============================] - 509s 9ms/step - loss: 0.4501 - accuracy: 0.7872 - val_loss: 0.5092 - val_accuracy: 0.7511\n",
      "Epoch 14/40\n",
      "56752/56752 [==============================] - 479s 8ms/step - loss: 0.4500 - accuracy: 0.7873 - val_loss: 0.5193 - val_accuracy: 0.7487\n",
      "Epoch 15/40\n",
      "56752/56752 [==============================] - 542s 10ms/step - loss: 0.4502 - accuracy: 0.7874 - val_loss: 0.5129 - val_accuracy: 0.7541\n",
      "Epoch 16/40\n",
      "56752/56752 [==============================] - 538s 9ms/step - loss: 0.4501 - accuracy: 0.7873 - val_loss: 0.5093 - val_accuracy: 0.7508\n",
      "Epoch 17/40\n",
      "56752/56752 [==============================] - 541s 10ms/step - loss: 0.4502 - accuracy: 0.7873 - val_loss: 0.5054 - val_accuracy: 0.7525\n",
      "Epoch 18/40\n",
      "56752/56752 [==============================] - 404s 7ms/step - loss: 0.4502 - accuracy: 0.7871 - val_loss: 0.5132 - val_accuracy: 0.7514\n",
      "Epoch 19/40\n",
      "56752/56752 [==============================] - 421s 7ms/step - loss: 0.4503 - accuracy: 0.7872 - val_loss: 0.5099 - val_accuracy: 0.7532\n",
      "Epoch 20/40\n",
      "56752/56752 [==============================] - 314s 6ms/step - loss: 0.4505 - accuracy: 0.7870 - val_loss: 0.5064 - val_accuracy: 0.7517\n",
      "Epoch 21/40\n",
      "56752/56752 [==============================] - 278s 5ms/step - loss: 0.4504 - accuracy: 0.7872 - val_loss: 0.5106 - val_accuracy: 0.7516\n",
      "Epoch 22/40\n",
      "56752/56752 [==============================] - 287s 5ms/step - loss: 0.4502 - accuracy: 0.7874 - val_loss: 0.5120 - val_accuracy: 0.7510\n",
      "Epoch 23/40\n",
      "56752/56752 [==============================] - 358s 6ms/step - loss: 0.4504 - accuracy: 0.7871 - val_loss: 0.5064 - val_accuracy: 0.7490\n",
      "Epoch 24/40\n",
      "56752/56752 [==============================] - 407s 7ms/step - loss: 0.4503 - accuracy: 0.7871 - val_loss: 0.5112 - val_accuracy: 0.7504\n",
      "Epoch 25/40\n",
      "56752/56752 [==============================] - 313s 6ms/step - loss: 0.4505 - accuracy: 0.7870 - val_loss: 0.5091 - val_accuracy: 0.7508\n",
      "Epoch 26/40\n",
      "56752/56752 [==============================] - 297s 5ms/step - loss: 0.4506 - accuracy: 0.7870 - val_loss: 0.5125 - val_accuracy: 0.7523\n",
      "Epoch 27/40\n",
      "56752/56752 [==============================] - 343s 6ms/step - loss: 0.4505 - accuracy: 0.7870 - val_loss: 0.5115 - val_accuracy: 0.7467\n",
      "Epoch 28/40\n",
      "56752/56752 [==============================] - 330s 6ms/step - loss: 0.4506 - accuracy: 0.7870 - val_loss: 0.5053 - val_accuracy: 0.7506\n",
      "Epoch 29/40\n",
      "56752/56752 [==============================] - 328s 6ms/step - loss: 0.4506 - accuracy: 0.7871 - val_loss: 0.5076 - val_accuracy: 0.7521\n",
      "Epoch 30/40\n",
      "56752/56752 [==============================] - 320s 6ms/step - loss: 0.4508 - accuracy: 0.7869 - val_loss: 0.5083 - val_accuracy: 0.7527\n",
      "Epoch 31/40\n",
      "56752/56752 [==============================] - 332s 6ms/step - loss: 0.4511 - accuracy: 0.7868 - val_loss: 0.5044 - val_accuracy: 0.7507\n",
      "Epoch 32/40\n",
      "56752/56752 [==============================] - 315s 6ms/step - loss: 0.4510 - accuracy: 0.7870 - val_loss: 0.5115 - val_accuracy: 0.7505\n",
      "Epoch 33/40\n",
      "56752/56752 [==============================] - 314s 6ms/step - loss: 0.4512 - accuracy: 0.7868 - val_loss: 0.5156 - val_accuracy: 0.7523\n",
      "Epoch 34/40\n",
      "56752/56752 [==============================] - 314s 6ms/step - loss: 0.4510 - accuracy: 0.7869 - val_loss: 0.5100 - val_accuracy: 0.7522\n",
      "Epoch 35/40\n",
      "56752/56752 [==============================] - 314s 6ms/step - loss: 0.4508 - accuracy: 0.7869 - val_loss: 0.5041 - val_accuracy: 0.7547\n",
      "Epoch 36/40\n",
      "56752/56752 [==============================] - 332s 6ms/step - loss: 0.4508 - accuracy: 0.7869 - val_loss: 0.5086 - val_accuracy: 0.7523\n",
      "Epoch 37/40\n",
      "56752/56752 [==============================] - 324s 6ms/step - loss: 0.4512 - accuracy: 0.7868 - val_loss: 0.5065 - val_accuracy: 0.7519\n",
      "Epoch 38/40\n",
      "56752/56752 [==============================] - 360s 6ms/step - loss: 0.4513 - accuracy: 0.7865 - val_loss: 0.5138 - val_accuracy: 0.7523\n",
      "Epoch 39/40\n",
      "56752/56752 [==============================] - 293s 5ms/step - loss: 0.4513 - accuracy: 0.7866 - val_loss: 0.5154 - val_accuracy: 0.7527\n",
      "Epoch 40/40\n",
      "56752/56752 [==============================] - 312s 5ms/step - loss: 0.4513 - accuracy: 0.7869 - val_loss: 0.5098 - val_accuracy: 0.7521\n"
     ]
    },
    {
     "data": {
      "image/png": "[encoded data removed]",
      "text/plain": [
       "<Figure size 1200x600 with 2 Axes>"
      ]
     },
     "metadata": {},
     "output_type": "display_data"
    }
   ],
   "source": [
    "# Entraînement du modèle\n",
    "history = model.fit(X_oversampled, y_oversampled_encoded, epochs=40, batch_size=32, validation_split=0.01)\n",
    "\n",
    "# Affichage des courbes d'apprentissage\n",
    "plt.figure(figsize=(12, 6))\n",
    "\n",
    "# Exactitude\n",
    "plt.subplot(1, 2, 1)\n",
    "plt.plot(history.history['accuracy'], label='Training Accuracy')\n",
    "plt.plot(history.history['val_accuracy'], label='Validation Accuracy')\n",
    "plt.title('Training and Validation Accuracy')\n",
    "plt.xlabel('Epochs')\n",
    "plt.ylabel('Accuracy')\n",
    "plt.legend()\n",
    "\n",
    "# Fonction de perte\n",
    "plt.subplot(1, 2, 2)\n",
    "plt.plot(history.history['loss'], label='Training Loss')\n",
    "plt.plot(history.history['val_loss'], label='Validation Loss')\n",
    "plt.title('Training and Validation Loss')\n",
    "plt.xlabel('Epochs')\n",
    "plt.ylabel('Loss')\n",
    "plt.legend()\n",
    "\n",
    "plt.tight_layout()\n",
    "plt.show()"
   ]
  },
  {
   "cell_type": "markdown",
   "id": "0e0b1bdd",
   "metadata": {},
   "source": [
    "# Performances du modèle"
   ]
  },
  {
   "cell_type": "code",
   "execution_count": 77,
   "id": "59517ebb",
   "metadata": {},
   "outputs": [],
   "source": [
    "# Prédiction des classes de l'échantillon X_test à l'aide de la méthode predict du modèle. \n",
    "# Stockage du résultat dans un tableau nommé test_pred."
   ]
  },
  {
   "cell_type": "code",
   "execution_count": 78,
   "id": "be4f7de1",
   "metadata": {},
   "outputs": [
    {
     "name": "stdout",
     "output_type": "stream",
     "text": [
      "14324/14324 [==============================] - 40s 3ms/step\n"
     ]
    }
   ],
   "source": [
    "test_pred = model.predict(X_test)"
   ]
  },
  {
   "cell_type": "code",
   "execution_count": 79,
   "id": "9389cb9a",
   "metadata": {},
   "outputs": [
    {
     "name": "stdout",
     "output_type": "stream",
     "text": [
      "[0.20706794 0.7929321 ]\n"
     ]
    }
   ],
   "source": [
    "print(test_pred[0])"
   ]
  },
  {
   "cell_type": "code",
   "execution_count": 80,
   "id": "7438c25f",
   "metadata": {},
   "outputs": [
    {
     "data": {
      "text/plain": [
       "(458348, 2)"
      ]
     },
     "execution_count": 80,
     "metadata": {},
     "output_type": "execute_result"
    }
   ],
   "source": [
    "test_pred.shape"
   ]
  },
  {
   "cell_type": "code",
   "execution_count": 81,
   "id": "63816ca9",
   "metadata": {},
   "outputs": [
    {
     "name": "stdout",
     "output_type": "stream",
     "text": [
      "[[0.20706794 0.7929321 ]\n",
      " [0.0511758  0.94882417]\n",
      " [0.49370664 0.50629336]\n",
      " ...\n",
      " [0.04371294 0.956287  ]\n",
      " [0.6798102  0.32018977]\n",
      " [0.0238674  0.9761326 ]]\n"
     ]
    }
   ],
   "source": [
    "print(test_pred)"
   ]
  },
  {
   "cell_type": "code",
   "execution_count": 82,
   "id": "8df05059",
   "metadata": {},
   "outputs": [
    {
     "data": {
      "text/plain": [
       "\"\\nla méthode predict du modèle renvoie un vecteur de probabilités où chaque élément est la probabilité d'appartenance\\nà la classe correspondant à son indice.\\n\""
      ]
     },
     "execution_count": 82,
     "metadata": {},
     "output_type": "execute_result"
    }
   ],
   "source": [
    "\"\"\"\n",
    "la méthode predict du modèle renvoie un vecteur de probabilités où chaque élément est la probabilité d'appartenance\n",
    "à la classe correspondant à son indice.\n",
    "\"\"\""
   ]
  },
  {
   "cell_type": "markdown",
   "id": "a5bdcecf",
   "metadata": {},
   "source": [
    "# Encodage de y_test"
   ]
  },
  {
   "cell_type": "code",
   "execution_count": 83,
   "id": "d56cb4e2",
   "metadata": {},
   "outputs": [],
   "source": [
    "y_test_class = encoder.fit_transform(y_test)"
   ]
  },
  {
   "cell_type": "markdown",
   "id": "1e54f955",
   "metadata": {},
   "source": [
    "# Classification binaire sur y_test"
   ]
  },
  {
   "cell_type": "code",
   "execution_count": null,
   "id": "63d02134",
   "metadata": {},
   "outputs": [],
   "source": [
    "\"\"\"\n",
    "Transformation du problème en une classification à 2 classes; \n",
    "Modification de la variable cible pour qu'elle prenne 2 modalités.\n",
    "Une modalité non grave incluant la catégorie \"Indemne\" et \"Blessé léger\"\n",
    "ET\n",
    "Une modalité grave incluant la catégorie \"Blessé hospitalisé\" et \"Tué\"\n",
    "\"\"\""
   ]
  },
  {
   "cell_type": "code",
   "execution_count": 84,
   "id": "b5829406",
   "metadata": {},
   "outputs": [],
   "source": [
    "y_test_class[y_test_class == 1] = 0"
   ]
  },
  {
   "cell_type": "code",
   "execution_count": 85,
   "id": "1b382ac2",
   "metadata": {},
   "outputs": [],
   "source": [
    "y_test_class[(y_test_class == 2) | (y_test_class == 3)] = 1"
   ]
  },
  {
   "cell_type": "code",
   "execution_count": 86,
   "id": "d888e476",
   "metadata": {},
   "outputs": [],
   "source": [
    "y_pred_class = np.argmax(test_pred, axis=1)"
   ]
  },
  {
   "cell_type": "code",
   "execution_count": null,
   "id": "6f29503d",
   "metadata": {},
   "outputs": [],
   "source": [
    "\"\"\"\n",
    "L'argument axis détermine quelle dimension sera parcourue pour calculer argmax.\n",
    "axis = 1 signifie que la dimension parcourue sera celle des colonnes, ce qui signifie que le résultat sera l'indice\n",
    "de la valeur maximale de chaque ligne.\n",
    "argmax : renvoie l'indice de la valeur maximale.\n",
    "\"\"\""
   ]
  },
  {
   "cell_type": "code",
   "execution_count": 87,
   "id": "e0d2fc3d",
   "metadata": {},
   "outputs": [
    {
     "name": "stdout",
     "output_type": "stream",
     "text": [
      "[1 1 1 ... 1 0 1]\n"
     ]
    }
   ],
   "source": [
    "print(y_pred_class)"
   ]
  },
  {
   "cell_type": "code",
   "execution_count": 88,
   "id": "43cae9a6",
   "metadata": {},
   "outputs": [
    {
     "name": "stdout",
     "output_type": "stream",
     "text": [
      "[0 0 1 ... 1 1 1]\n"
     ]
    }
   ],
   "source": [
    "print(y_test_class)"
   ]
  },
  {
   "cell_type": "code",
   "execution_count": 89,
   "id": "6e2a6bdb",
   "metadata": {},
   "outputs": [],
   "source": [
    "# Affichage de la matrice de confusion"
   ]
  },
  {
   "cell_type": "code",
   "execution_count": 90,
   "id": "63b4d0bf",
   "metadata": {},
   "outputs": [
    {
     "data": {
      "text/html": [
       "<div>\n",
       "<style scoped>\n",
       "    .dataframe tbody tr th:only-of-type {\n",
       "        vertical-align: middle;\n",
       "    }\n",
       "\n",
       "    .dataframe tbody tr th {\n",
       "        vertical-align: top;\n",
       "    }\n",
       "\n",
       "    .dataframe thead th {\n",
       "        text-align: right;\n",
       "    }\n",
       "</style>\n",
       "<table border=\"1\" class=\"dataframe\">\n",
       "  <thead>\n",
       "    <tr style=\"text-align: right;\">\n",
       "      <th>Classe prédite</th>\n",
       "      <th>0</th>\n",
       "      <th>1</th>\n",
       "    </tr>\n",
       "    <tr>\n",
       "      <th>Classe réelle</th>\n",
       "      <th></th>\n",
       "      <th></th>\n",
       "    </tr>\n",
       "  </thead>\n",
       "  <tbody>\n",
       "    <tr>\n",
       "      <th>0</th>\n",
       "      <td>208197</td>\n",
       "      <td>50489</td>\n",
       "    </tr>\n",
       "    <tr>\n",
       "      <th>1</th>\n",
       "      <td>49040</td>\n",
       "      <td>150622</td>\n",
       "    </tr>\n",
       "  </tbody>\n",
       "</table>\n",
       "</div>"
      ],
      "text/plain": [
       "Classe prédite       0       1\n",
       "Classe réelle                 \n",
       "0               208197   50489\n",
       "1                49040  150622"
      ]
     },
     "execution_count": 90,
     "metadata": {},
     "output_type": "execute_result"
    }
   ],
   "source": [
    "cm = pd.crosstab(y_test_class, y_pred_class, rownames=['Classe réelle'], colnames=['Classe prédite'])\n",
    "cm"
   ]
  },
  {
   "cell_type": "code",
   "execution_count": 91,
   "id": "654c7a2d",
   "metadata": {},
   "outputs": [],
   "source": [
    "# Affichage d'un compte-rendu évaluatif détaillé de la perfomance du modèle grâce à la fonction classification_report\n",
    "# du sous-module metrics de scikit-learn."
   ]
  },
  {
   "cell_type": "code",
   "execution_count": 92,
   "id": "4d24c720",
   "metadata": {},
   "outputs": [
    {
     "name": "stdout",
     "output_type": "stream",
     "text": [
      "              precision    recall  f1-score   support\n",
      "\n",
      "           0       0.81      0.80      0.81    258686\n",
      "           1       0.75      0.75      0.75    199662\n",
      "\n",
      "    accuracy                           0.78    458348\n",
      "   macro avg       0.78      0.78      0.78    458348\n",
      "weighted avg       0.78      0.78      0.78    458348\n",
      "\n"
     ]
    }
   ],
   "source": [
    "from sklearn.metrics import classification_report,confusion_matrix\n",
    "print(classification_report(y_test_class,y_pred_class))"
   ]
  },
  {
   "cell_type": "markdown",
   "id": "85cc03d1",
   "metadata": {},
   "source": [
    "# Conclusion générale "
   ]
  },
  {
   "cell_type": "code",
   "execution_count": null,
   "id": "069338b6",
   "metadata": {},
   "outputs": [],
   "source": [
    "\"\"\"\n",
    "Afin de s’affranchir de cette problématique de déséquilibre des classes, un ré-échantillonnage sur les données a été réalisé\n",
    "au moyen d’une fonction ‘’oversampling’’ en dupliquant aléatoirement des exemples de la classe minoritaire.\n",
    "Puis, nous avons transformé notre problématique en une classification à 2 classes en modifiant la variable cible\n",
    "pour qu'elle prenne 2 modalités.\n",
    "Une modalité non grave incluant la catégorie \"Indemne\" et \"Blessé léger\" ainsi qu'une modalité grave incluant la catégorie\n",
    "\"Blessé hospitalisé\" et \"Tué\". \n",
    "\n",
    "Puis nous avons défini un modèle séquentiel avec quatre couches Dense, les trois premières implémentent une fonction\n",
    "d’activation ‘’tanh’’ et la quatrième, à savoir la couche de sortie, utilise une fonction d’activation ‘’softmax’’ \n",
    "pour classer en deux catégories.\n",
    "\n",
    "Pour notre problème spécifique de modélisation prédictive, nous avons opté pour l'expérimentation systématique\n",
    "afin de découvrir ce qui fonctionne le mieux. \n",
    "Nous avons par conséquent joué sur les hyperparamètres du modèle de manière empirique\n",
    "(nombre de couches, nombre de neurones par couche, nombre d'epoch...) afin d’optimiser l'accuracy. \n",
    "Au final, une précision de 78,74 % (valeur max) a été obtenue sur les données d'entraînement, sur la base de 40 epochs\n",
    "et en utilisant une taille de lot de 32.                        \n",
    "La précision sur les données de validation est de 75,47 % (valeur max).\n",
    "\n",
    "La matrice de confusion, ci-dessus, illustre que le nombre de bonnes classifications (sur la diagonale)\n",
    "est supérieur au nombre de mauvaises classifications. \n",
    "Le taux de bonnes prédictions ('accuracy') correspond au nombre d'éléments bien classés sur le nombre total d'individus. \n",
    "\n",
    "A partir de la matrice de confusion, l’accuracy peut être calculé  'à la main', le résultat arrondi est d’ailleurs\n",
    "rigoureusement identique à la précision obtenue dans le rapport de classification.\n",
    "\n",
    "Calcul de l'accuracy 'à la main' : (208197+150622)/(208197+150622+50489+49040) = 358819/458348 = 78.28 %.\n",
    "\n",
    "\n",
    "La précision et le rappel sur la classe 0 (indemne et blessé léger) sont plutôt satisfaisants,                                              ils sont respectivement de 81 % et 80 % : cette classe a été bien gérée par le modèle.              Le F1-score, qui permet de mesurer la précision et le rappel à la fois, est de 81 %.\n",
    "La précision et le rappel sur la classe 1 (blessé hospitalisé et tué) qui nous intéresse tout particulièrement\n",
    "sont également satisfaisants, ils sont tous les deux de 75 % : cette classe a également été bien gérée par le modèle. \n",
    "Le F1-score est logiquement de 75 %.\n",
    "La performance de ce modèle est relativement satisfaisante et la classification binaire a permis de solutionner\n",
    "notre problématique de déséquilibre de classes.\n",
    "De surcroît, en analysant les courbes d'apprentissage, celles-ci montrent que nous n’avons plus d’overfitting\n",
    "(surapprentissage) comme c’était le cas avec les modèles précédents. \n",
    "\n",
    "La performance de ce modèle est relativement satisfaisante grâce à la classification binaire qui nous a permis\n",
    "de solutionner notre problématique de déséquilibre de classes.\n",
    "\"\"\""
   ]
  }
 ],
 "metadata": {
  "colab": {
   "provenance": []
  },
  "kernelspec": {
   "display_name": "Python 3 (ipykernel)",
   "language": "python",
   "name": "python3"
  },
  "language_info": {
   "codemirror_mode": {
    "name": "ipython",
    "version": 3
   },
   "file_extension": ".py",
   "mimetype": "text/x-python",
   "name": "python",
   "nbconvert_exporter": "python",
   "pygments_lexer": "ipython3",
   "version": "3.9.18"
  }
 },
 "nbformat": 4,
 "nbformat_minor": 5
}
