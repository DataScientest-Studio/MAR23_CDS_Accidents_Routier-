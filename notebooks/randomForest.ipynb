{
 "cells": [
  {
   "cell_type": "code",
   "execution_count": 1,
   "id": "1dc1d738",
   "metadata": {},
   "outputs": [],
   "source": [
    "import pandas as pd\n",
    "import numpy as np\n",
    "import matplotlib.pyplot as plt\n",
    "%matplotlib inline\n"
   ]
  },
  {
   "cell_type": "code",
   "execution_count": 2,
   "id": "a3c26872",
   "metadata": {},
   "outputs": [],
   "source": [
    "df = pd.read_csv(r\"C:\\Users\\maill\\Documents\\GitHub\\SARA\\data\\fusion_def_clean.csv\", low_memory=False)"
   ]
  },
  {
   "cell_type": "code",
   "execution_count": 3,
   "id": "9137de7c",
   "metadata": {},
   "outputs": [],
   "source": [
    "from sklearn.model_selection import train_test_split\n",
    "from sklearn.preprocessing import StandardScaler\n",
    "from sklearn.metrics import accuracy_score, confusion_matrix, classification_report\n",
    "from sklearn.preprocessing import LabelEncoder, OneHotEncoderHotEncoderHotEncoder\n",
    "from sklearn.ensemble import RandomForestClassifier\n",
    "from sklearn.metrics import classification_report"
   ]
  },
  {
   "cell_type": "code",
   "execution_count": 6,
   "id": "c99aa9c8",
   "metadata": {},
   "outputs": [],
   "source": [
    "#Encodage de la variable cible\n",
    "le = LabelEncoder()\n",
    "\n",
    "df['grav'] = le.fit_transform(df['grav'])"
   ]
  },
  {
   "cell_type": "code",
   "execution_count": 7,
   "id": "763b5fe9",
   "metadata": {},
   "outputs": [],
   "source": [
    "# Séparation de la variable cible y avant l'encodage\n",
    "y = df['grav']\n",
    "\n",
    "df = df.drop('grav', axis=1)\n",
    "\n",
    "ohe = OneHotEncoder(sparse=False)\n",
    "\n",
    "# Limite pour le passage de l'encodage One-Hot à l'encodage de fréquence\n",
    "limite = 10\n",
    "\n",
    "for col in df.columns:\n",
    "    # Compter le nombre de valeurs uniques dans la colonne\n",
    "    unique_values = df[col].nunique()\n",
    "    \n",
    "    if unique_values <= limite:\n",
    "        # Encodage One-Hot pour les colonnes avec moins de n valeurs uniques\n",
    "        encoded_col = ohe.fit_transform(df[[col]])\n",
    "        \n",
    "        # Ajout des colonnes encodées au dataframe original\n",
    "        for (k, categories) in enumerate(ohe.categories_):\n",
    "            for (i, category) in enumerate(categories):\n",
    "                df[f'{col}_{category}'] = encoded_col[:, i+k]\n",
    "        \n",
    "        # Supprimer la colonne originale\n",
    "        df.drop(col, axis=1, inplace=True)\n",
    "        \n",
    "    else:\n",
    "        # Encodage de fréquence pour les colonnes avec plus de n valeurs uniques\n",
    "        freq_encoder = df[col].value_counts(normalize=True)\n",
    "        df[col] = df[col].map(freq_encoder)\n",
    "\n"
   ]
  },
  {
   "cell_type": "code",
   "execution_count": 8,
   "id": "d7a42369",
   "metadata": {},
   "outputs": [],
   "source": [
    "# Création de l'ensemble d'entrainement et de test\n",
    "X = df\n",
    "\n",
    "X_train, X_test, y_train, y_test = train_test_split(X, y, test_size=0.2, random_state=42)"
   ]
  },
  {
   "cell_type": "code",
   "execution_count": 9,
   "id": "71c866a9",
   "metadata": {},
   "outputs": [
    {
     "data": {
      "text/plain": [
       "RandomForestClassifier(random_state=42)"
      ]
     },
     "execution_count": 9,
     "metadata": {},
     "output_type": "execute_result"
    }
   ],
   "source": [
    "# Entrainement du modèle\n",
    "model = RandomForestClassifier(random_state=42)\n",
    "\n",
    "model.fit(X_train, y_train)"
   ]
  },
  {
   "cell_type": "code",
   "execution_count": 10,
   "id": "ad6f0cc2",
   "metadata": {
    "scrolled": true
   },
   "outputs": [
    {
     "name": "stdout",
     "output_type": "stream",
     "text": [
      "              precision    recall  f1-score   support\n",
      "\n",
      "           0       0.56      0.45      0.50     89903\n",
      "           1       0.65      0.64      0.65    157066\n",
      "           2       0.73      0.86      0.79    179888\n",
      "           3       0.47      0.03      0.06     11699\n",
      "\n",
      "    accuracy                           0.68    438556\n",
      "   macro avg       0.61      0.50      0.50    438556\n",
      "weighted avg       0.66      0.68      0.66    438556\n",
      "\n"
     ]
    }
   ],
   "source": [
    "# Evaluation du modèle\n",
    "y_pred = model.predict(X_test)\n",
    "\n",
    "\n",
    "print(classification_report(y_test, y_pred))\n"
   ]
  },
  {
   "cell_type": "markdown",
   "id": "2dc04e9f",
   "metadata": {},
   "source": [
    "Classe 0 (Blessé léger) : Le modèle a du mal à correctement identifier les individus de cette classe.\n",
    "\n",
    "Classe 1 (Blessé hospitalisé) : Le modèle a une meilleure performance pour cette classe par rapport à la classe 0\n",
    "\n",
    "Classe 2 (Indemne) : Le modèle performe le mieux pour cette classe, avec une précision de 0.73 et un rappel de 0.86.\n",
    "\n",
    "Classe 3 (Tué) : Malheureusement, le modèle a du mal à identifier cette classe avec une précision de 0.47 et un très faible rappel de 0.03. Il identifie de manière incorrecte un grand nombre d'individus de cette classe et manque également beaucoup d'individus qui sont réellement de cette classe.\n",
    "\n",
    "Il semble que le modèle pourrait avoir besoin d'une certaine optimisation pour améliorer ses performances, en particulier pour les classes 0 et 3. \n",
    "\n",
    "Il faudra surement étudier d'autre type de modèle."
   ]
  },
  {
   "cell_type": "code",
   "execution_count": 11,
   "id": "a4c896de",
   "metadata": {},
   "outputs": [],
   "source": [
    "# Exportation du modèle\n",
    "\n",
    "import pickle\n",
    "\n",
    "with open('random_forest_model.pkl','wb') as file:\n",
    "    pickle.dump(model, file)"
   ]
  }
 ],
 "metadata": {
  "kernelspec": {
   "display_name": "Python 3 (ipykernel)",
   "language": "python",
   "name": "python3"
  },
  "language_info": {
   "codemirror_mode": {
    "name": "ipython",
    "version": 3
   },
   "file_extension": ".py",
   "mimetype": "text/x-python",
   "name": "python",
   "nbconvert_exporter": "python",
   "pygments_lexer": "ipython3",
   "version": "3.9.13"
  }
 },
 "nbformat": 4,
 "nbformat_minor": 5
}
