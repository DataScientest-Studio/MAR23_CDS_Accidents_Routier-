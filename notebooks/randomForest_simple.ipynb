{
 "cells": [
  {
   "cell_type": "code",
   "execution_count": 2,
   "id": "1dc1d738",
   "metadata": {},
   "outputs": [],
   "source": [
    "import pandas as pd\n",
    "import numpy as np\n",
    "import matplotlib.pyplot as plt\n",
    "%matplotlib inline\n"
   ]
  },
  {
   "cell_type": "code",
   "execution_count": 30,
   "id": "a3c26872",
   "metadata": {},
   "outputs": [],
   "source": [
    "df = pd.read_csv(r\"C:\\Users\\maill\\Documents\\GitHub\\SARA\\data\\fusion_def_clean.csv\", low_memory=False)"
   ]
  },
  {
   "cell_type": "code",
   "execution_count": 5,
   "id": "9137de7c",
   "metadata": {},
   "outputs": [],
   "source": [
    "from sklearn.model_selection import train_test_split\n",
    "from sklearn.preprocessing import StandardScaler\n",
    "from sklearn.metrics import accuracy_score, confusion_matrix, classification_report\n",
    "from sklearn.preprocessing import LabelEncoder, OneHotEncoder\n",
    "from sklearn.ensemble import RandomForestClassifier\n",
    "from sklearn.metrics import classification_report"
   ]
  },
  {
   "cell_type": "code",
   "execution_count": 35,
   "id": "763b5fe9",
   "metadata": {},
   "outputs": [],
   "source": [
    "# Séparation de la variable cible y avant l'encodage\n",
    "y = df['grav']\n",
    "\n",
    "X = df.drop('grav', axis=1)\n"
   ]
  },
  {
   "cell_type": "code",
   "execution_count": 36,
   "id": "c5257a4e",
   "metadata": {},
   "outputs": [],
   "source": [
    "#simplification de la variable cible : tué et bléssé grave -> accident grave\n",
    "#indemne et blessé léger -> accident non grave\n",
    "\n",
    "y.replace({'Blessé léger':'non grave', 'Blessé hospitalisé':'grave', 'Indemne':'non grave', 'Tué':'grave'}, inplace=True)"
   ]
  },
  {
   "cell_type": "code",
   "execution_count": 37,
   "id": "ce0b2821",
   "metadata": {},
   "outputs": [
    {
     "name": "stdout",
     "output_type": "stream",
     "text": [
      "Index(['mois', 'jour', 'lum', 'agg', 'int', 'atm', 'jour_de_la_semaine',\n",
      "       'heure', 'catr', 'circ', 'nbv', 'vosp', 'prof', 'plan', 'surf', 'infra',\n",
      "       'situ', 'catv_Label', 'catu', 'sexe', 'trajet', 'etatp', 'secuUn',\n",
      "       'secuDeux', 'tranches_ages'],\n",
      "      dtype='object')\n"
     ]
    }
   ],
   "source": [
    "X.drop(['Unnamed: 0','annee_x_x','date','an_nais','age_acc','age_acc_seconds', 'num_acc', 'place', 'locp', 'actp','num_veh','an_naiss','age_acc_an','senc','obs','obsm','choc','manv','permis','col','com','dep'], axis=1, inplace=True)\n",
    "print(X.columns)\n"
   ]
  },
  {
   "cell_type": "code",
   "execution_count": 38,
   "id": "d7a42369",
   "metadata": {},
   "outputs": [],
   "source": [
    "# Création de l'ensemble d'entrainement et de test\n",
    "X_train, X_test, y_train, y_test = train_test_split(X, y, test_size=0.2)"
   ]
  },
  {
   "cell_type": "code",
   "execution_count": 39,
   "id": "6a381de4",
   "metadata": {},
   "outputs": [],
   "source": [
    "for col in X_train:\n",
    "    # Calculer la fréquence de chaque catégorie\n",
    "    frequency_encoding = X_train[col].value_counts(normalize=True)\n",
    "\n",
    "    # Remplacer chaque catégorie par sa fréquence\n",
    "    X_train[col] = X_train[col].map(frequency_encoding)\n",
    "    \n",
    "for col in X_test:\n",
    "    # Calculer la fréquence de chaque catégorie\n",
    "    frequency_encoding = X_test[col].value_counts(normalize=True)\n",
    "\n",
    "    # Remplacer chaque catégorie par sa fréquence\n",
    "    X_test[col] = X_test[col].map(frequency_encoding)"
   ]
  },
  {
   "cell_type": "code",
   "execution_count": 40,
   "id": "d54fcc94",
   "metadata": {},
   "outputs": [
    {
     "name": "stdout",
     "output_type": "stream",
     "text": [
      "{'non grave': 1.3036482648224692, 'grave': 4.293284091659998}\n"
     ]
    }
   ],
   "source": [
    "#Utilisation des poids de classe pour l'entrainement du modèle RandomForest\n",
    "# Calculer la fréquence des classes\n",
    "class_counts = y_train.value_counts()\n",
    "class_freq = class_counts / len(y_train)\n",
    "\n",
    "# Inverser la fréquence pour obtenir les poids\n",
    "class_weights = 1 / class_freq\n",
    "\n",
    "# Créer un dictionnaire des poids\n",
    "weights_dict = class_weights.to_dict()\n",
    "print(weights_dict)"
   ]
  },
  {
   "cell_type": "code",
   "execution_count": 41,
   "id": "71c866a9",
   "metadata": {},
   "outputs": [
    {
     "data": {
      "text/plain": [
       "RandomForestClassifier(class_weight={'grave': 4.293284091659998,\n",
       "                                     'non grave': 1.3036482648224692},\n",
       "                       random_state=42)"
      ]
     },
     "execution_count": 41,
     "metadata": {},
     "output_type": "execute_result"
    }
   ],
   "source": [
    "# Entrainement du modèle\n",
    "model = RandomForestClassifier(class_weight=weights_dict, random_state=42)\n",
    "\n",
    "model.fit(X_train, y_train)"
   ]
  },
  {
   "cell_type": "code",
   "execution_count": 42,
   "id": "ad6f0cc2",
   "metadata": {
    "scrolled": true
   },
   "outputs": [
    {
     "name": "stdout",
     "output_type": "stream",
     "text": [
      "Classe prédite  grave  non grave\n",
      "Classe réelle                   \n",
      "grave           34860      66800\n",
      "non grave       18943     317953\n",
      "              precision    recall  f1-score   support\n",
      "\n",
      "       grave       0.65      0.34      0.45    101660\n",
      "   non grave       0.83      0.94      0.88    336896\n",
      "\n",
      "    accuracy                           0.80    438556\n",
      "   macro avg       0.74      0.64      0.66    438556\n",
      "weighted avg       0.79      0.80      0.78    438556\n",
      "\n"
     ]
    }
   ],
   "source": [
    "# Evaluation du modèle\n",
    "y_pred = model.predict(X_test)\n",
    "\n",
    "print(pd.crosstab(y_test, y_pred, rownames=['Classe réelle'], colnames=['Classe prédite']))\n",
    "print(classification_report(y_test, y_pred))\n"
   ]
  },
  {
   "cell_type": "code",
   "execution_count": 36,
   "id": "1b689a03",
   "metadata": {},
   "outputs": [
    {
     "name": "stdout",
     "output_type": "stream",
     "text": [
      "[[0.22 0.39 0.37 0.02]\n",
      " [0.52 0.31 0.11 0.06]\n",
      " [0.56 0.08 0.05 0.31]\n",
      " ...\n",
      " [0.01 0.33 0.66 0.  ]\n",
      " [0.04 0.44 0.52 0.  ]\n",
      " [0.1  0.73 0.16 0.01]]\n"
     ]
    }
   ],
   "source": [
    "probs = model.predict_proba(X_test)\n",
    "print(probs)"
   ]
  },
  {
   "cell_type": "code",
   "execution_count": null,
   "id": "a4c896de",
   "metadata": {},
   "outputs": [],
   "source": [
    "# Exportation du modèle\n",
    "\n",
    "import pickle\n",
    "\n",
    "with open('random_forest_model.pkl','wb') as file:\n",
    "    pickle.dump(model, file)"
   ]
  }
 ],
 "metadata": {
  "kernelspec": {
   "display_name": "Python 3 (ipykernel)",
   "language": "python",
   "name": "python3"
  },
  "language_info": {
   "codemirror_mode": {
    "name": "ipython",
    "version": 3
   },
   "file_extension": ".py",
   "mimetype": "text/x-python",
   "name": "python",
   "nbconvert_exporter": "python",
   "pygments_lexer": "ipython3",
   "version": "3.9.13"
  }
 },
 "nbformat": 4,
 "nbformat_minor": 5
}
