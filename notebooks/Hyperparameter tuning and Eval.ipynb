{
 "cells": [
  {
   "cell_type": "markdown",
   "id": "f6f8ba82",
   "metadata": {},
   "source": [
    "# Etude  préprocessing données Accidents Routiers"
   ]
  },
  {
   "cell_type": "markdown",
   "id": "d571b8c6",
   "metadata": {},
   "source": [
    "\n",
    "## [Standardisation des données](#scaling_data)\n",
    "\n",
    "## [Entrainement de quelques modèles](#train_models)\n",
    "\n",
    "## [Hyperparameter tuning by grid-search](#tuning_gridsearch)\n",
    "\n",
    "## [Jeux de données déséquilibrés](#data_desequilibre)\n",
    "\n",
    "## [Réduction de dimension](#reduction_dimension)\n",
    "\n",
    "## [Hyperparameter tuning by randomized-search](#tuning_randomsearch)\n",
    "    \n",
    "###    [Heading IDs](#heading-ids)"
   ]
  },
  {
   "cell_type": "code",
   "execution_count": 1,
   "id": "a8a154e5",
   "metadata": {},
   "outputs": [],
   "source": [
    "# Import des packages\n",
    "import pandas as pd;\n",
    "import seaborn as sns\n",
    "import matplotlib.pyplot as plt\n",
    "%matplotlib inline\n",
    "import numpy as np\n",
    "\n",
    "import missingno as msno"
   ]
  },
  {
   "cell_type": "code",
   "execution_count": 2,
   "id": "9e8ff9aa",
   "metadata": {},
   "outputs": [],
   "source": [
    "from sklearn.compose import make_column_selector as selector"
   ]
  },
  {
   "cell_type": "code",
   "execution_count": 3,
   "id": "1679797c",
   "metadata": {},
   "outputs": [],
   "source": [
    "from sklearn.model_selection import train_test_split\n",
    "from sklearn.model_selection import KFold\n",
    "from sklearn.model_selection import cross_val_score\n",
    "from sklearn.compose import make_column_selector, make_column_transformer\n",
    "from sklearn.ensemble import HistGradientBoostingClassifier\n",
    "from sklearn.ensemble import RandomForestClassifier\n",
    "from sklearn.pipeline import Pipeline\n",
    "from sklearn.pipeline import make_pipeline"
   ]
  },
  {
   "cell_type": "code",
   "execution_count": 4,
   "id": "86a3a618",
   "metadata": {},
   "outputs": [],
   "source": [
    "# numerical scaling numerical features which will be standardized\n",
    "from sklearn.preprocessing import OneHotEncoder, StandardScaler\n",
    "from sklearn.compose import ColumnTransformer"
   ]
  },
  {
   "cell_type": "code",
   "execution_count": 5,
   "id": "19432b0a",
   "metadata": {},
   "outputs": [],
   "source": [
    "from sklearn.preprocessing import OrdinalEncoder"
   ]
  },
  {
   "cell_type": "code",
   "execution_count": 6,
   "id": "1f30f433",
   "metadata": {},
   "outputs": [],
   "source": [
    "from sklearn import set_config"
   ]
  },
  {
   "cell_type": "code",
   "execution_count": 7,
   "id": "68f993eb",
   "metadata": {},
   "outputs": [],
   "source": [
    "import time"
   ]
  },
  {
   "cell_type": "code",
   "execution_count": 8,
   "id": "28dfe772",
   "metadata": {},
   "outputs": [],
   "source": [
    "from sklearn.metrics import accuracy_score, precision_score, recall_score, f1_score, classification_report, confusion_matrix"
   ]
  },
  {
   "cell_type": "code",
   "execution_count": 9,
   "id": "1a746502",
   "metadata": {},
   "outputs": [],
   "source": [
    "from sklearn.metrics import ConfusionMatrixDisplay, confusion_matrix"
   ]
  },
  {
   "cell_type": "markdown",
   "id": "b982ef61",
   "metadata": {},
   "source": [
    "!conda install -c conda-forge imbalanced-learn"
   ]
  },
  {
   "cell_type": "code",
   "execution_count": 10,
   "id": "0ed0e1f2",
   "metadata": {},
   "outputs": [],
   "source": [
    "from collections import Counter"
   ]
  },
  {
   "cell_type": "code",
   "execution_count": 11,
   "id": "5fcd5115",
   "metadata": {},
   "outputs": [],
   "source": [
    "from imblearn.under_sampling import RandomUnderSampler,  ClusterCentroids\n",
    "from imblearn.metrics import classification_report_imbalanced, geometric_mean_score"
   ]
  },
  {
   "cell_type": "code",
   "execution_count": 12,
   "id": "396d0fb6",
   "metadata": {},
   "outputs": [],
   "source": [
    "from imblearn.over_sampling import RandomOverSampler, SMOTE"
   ]
  },
  {
   "cell_type": "code",
   "execution_count": 13,
   "id": "5365179d",
   "metadata": {},
   "outputs": [],
   "source": [
    "from sklearn.preprocessing import MinMaxScaler"
   ]
  },
  {
   "cell_type": "code",
   "execution_count": 14,
   "id": "640c9185",
   "metadata": {},
   "outputs": [],
   "source": [
    "from sklearn.linear_model import LogisticRegression"
   ]
  },
  {
   "cell_type": "code",
   "execution_count": 15,
   "id": "a2966fb6",
   "metadata": {},
   "outputs": [],
   "source": [
    "from sklearn.feature_selection import VarianceThreshold, SelectKBest, SelectFromModel, RFE, RFECV\n",
    "from sklearn.feature_selection import SelectPercentile, chi2, f_classif, mutual_info_classif"
   ]
  },
  {
   "cell_type": "code",
   "execution_count": 16,
   "id": "21adc60c",
   "metadata": {},
   "outputs": [],
   "source": [
    "from sklearn.neighbors import KNeighborsClassifier"
   ]
  },
  {
   "cell_type": "code",
   "execution_count": 17,
   "id": "7cf395fb",
   "metadata": {},
   "outputs": [],
   "source": [
    "from sklearn.linear_model import RidgeClassifier, SGDClassifier"
   ]
  },
  {
   "cell_type": "code",
   "execution_count": 18,
   "id": "95874586",
   "metadata": {},
   "outputs": [],
   "source": [
    "from sklearn.tree import DecisionTreeClassifier"
   ]
  },
  {
   "cell_type": "code",
   "execution_count": 19,
   "id": "29e7eed0",
   "metadata": {},
   "outputs": [],
   "source": [
    "from sklearn.ensemble import AdaBoostClassifier\n",
    "\n",
    "from imblearn.ensemble import EasyEnsembleClassifier, RUSBoostClassifier"
   ]
  },
  {
   "cell_type": "code",
   "execution_count": 20,
   "id": "3d751dd9",
   "metadata": {},
   "outputs": [],
   "source": [
    "from imblearn.ensemble import BalancedRandomForestClassifier"
   ]
  },
  {
   "cell_type": "code",
   "execution_count": 21,
   "id": "0ba32e0b",
   "metadata": {},
   "outputs": [],
   "source": [
    "from sklearn.metrics import balanced_accuracy_score"
   ]
  },
  {
   "cell_type": "code",
   "execution_count": 22,
   "id": "20fc8460",
   "metadata": {},
   "outputs": [],
   "source": [
    "from sklearn.ensemble import BaggingClassifier\n",
    "\n",
    "from imblearn.ensemble import BalancedBaggingClassifier"
   ]
  },
  {
   "cell_type": "code",
   "execution_count": 23,
   "id": "919e6746",
   "metadata": {},
   "outputs": [],
   "source": [
    "# Importez la librairie tqdm\n",
    "import tqdm"
   ]
  },
  {
   "cell_type": "code",
   "execution_count": 24,
   "id": "74234fb8",
   "metadata": {},
   "outputs": [],
   "source": [
    "from itertools import cycle\n",
    "from sklearn.metrics import average_precision_score, precision_recall_curve\n"
   ]
  },
  {
   "cell_type": "code",
   "execution_count": 25,
   "id": "626105f2",
   "metadata": {},
   "outputs": [],
   "source": [
    "from sklearn.model_selection import cross_validate\n",
    "\n",
    "from sklearn.model_selection import GridSearchCV"
   ]
  },
  {
   "cell_type": "code",
   "execution_count": 26,
   "id": "a69b1666",
   "metadata": {},
   "outputs": [],
   "source": [
    "# Using the categorical dtype is a great way to save memory and boost performance. Specifying the dtypes will lower the amount of memory required to load your dataset. This is quite helpful when dealing with large datasets!\n",
    "\n",
    "# Create a dictionary with column names as keys and \"category\" as values\n",
    "acc_dtypes = {\n",
    "    \"place\":\"category\",\n",
    "    \"catu\":\"category\",\n",
    "    \"grav\":\"category\",\n",
    "    \"sexe\":\"category\",\n",
    "    \"trajet\":\"category\",\n",
    "    \"locp\":\"category\",\n",
    "    \"actp\":\"category\",\n",
    "    \"etatp\":\"category\",\n",
    "    \"secuUn\":\"category\",\n",
    "    \"secuDeux\":\"category\",\n",
    "    \"tranches_ages\":\"category\",\n",
    "    \"catr\":\"category\",\n",
    "    \"circ\":\"category\",\n",
    "    \"vosp\":\"category\",\n",
    "    \"prof\":\"category\",\n",
    "    \"plan\":\"category\",\n",
    "    \"surf\":\"category\",\n",
    "    \"infra\":\"category\",\n",
    "    \"situ\":\"category\",\n",
    "    \"senc\":\"category\",\n",
    "    \"obs\":\"category\",\n",
    "    \"obsm\":\"category\",\n",
    "    \"choc\":\"category\",\n",
    "    \"manv\":\"category\",\n",
    "    \"catv_Label\":\"category\",\n",
    "    \"lum\":\"category\",\n",
    "    \"agg\":\"category\",\n",
    "    \"int\":\"category\",\n",
    "    \"atm\":\"category\",\n",
    "    \"col\":\"category\",\n",
    "    \"jour_de_la_semaine\":\"category\",\n",
    "    \"heure\":\"category\",\n",
    "    }"
   ]
  },
  {
   "cell_type": "raw",
   "id": "c544d9e5",
   "metadata": {},
   "source": [
    "num_acc                        int64\n",
    "heure                          int64\n",
    "num_veh                       object\n",
    "com                           object\n",
    "dep                           object\n",
    "age_acc_an                   float64\n",
    "nbv                          float64\n",
    "occutc                       float64"
   ]
  },
  {
   "cell_type": "code",
   "execution_count": 27,
   "id": "363a23b7",
   "metadata": {},
   "outputs": [
    {
     "data": {
      "text/html": [
       "<div>\n",
       "<style scoped>\n",
       "    .dataframe tbody tr th:only-of-type {\n",
       "        vertical-align: middle;\n",
       "    }\n",
       "\n",
       "    .dataframe tbody tr th {\n",
       "        vertical-align: top;\n",
       "    }\n",
       "\n",
       "    .dataframe thead th {\n",
       "        text-align: right;\n",
       "    }\n",
       "</style>\n",
       "<table border=\"1\" class=\"dataframe\">\n",
       "  <thead>\n",
       "    <tr style=\"text-align: right;\">\n",
       "      <th></th>\n",
       "      <th>Unnamed: 0</th>\n",
       "      <th>num_acc</th>\n",
       "      <th>place</th>\n",
       "      <th>catu</th>\n",
       "      <th>grav</th>\n",
       "      <th>sexe</th>\n",
       "      <th>trajet</th>\n",
       "      <th>locp</th>\n",
       "      <th>actp</th>\n",
       "      <th>etatp</th>\n",
       "      <th>...</th>\n",
       "      <th>lum</th>\n",
       "      <th>agg</th>\n",
       "      <th>int</th>\n",
       "      <th>atm</th>\n",
       "      <th>col</th>\n",
       "      <th>com</th>\n",
       "      <th>dep</th>\n",
       "      <th>date</th>\n",
       "      <th>jour_de_la_semaine</th>\n",
       "      <th>heure</th>\n",
       "    </tr>\n",
       "  </thead>\n",
       "  <tbody>\n",
       "    <tr>\n",
       "      <th>0</th>\n",
       "      <td>0</td>\n",
       "      <td>200500000001</td>\n",
       "      <td>1.0</td>\n",
       "      <td>Conducteur</td>\n",
       "      <td>Blessé léger</td>\n",
       "      <td>Masculin</td>\n",
       "      <td>Domicile – travail</td>\n",
       "      <td>Sans objet</td>\n",
       "      <td>Non renseigné ou sans objet</td>\n",
       "      <td>Non renseigné</td>\n",
       "      <td>...</td>\n",
       "      <td>Nuit sans éclairage public</td>\n",
       "      <td>En agglomération</td>\n",
       "      <td>Hors intersection</td>\n",
       "      <td>Normale</td>\n",
       "      <td>Deux véhicules – par le coté</td>\n",
       "      <td>11</td>\n",
       "      <td>59</td>\n",
       "      <td>2005-01-12</td>\n",
       "      <td>Mercredi</td>\n",
       "      <td>19</td>\n",
       "    </tr>\n",
       "    <tr>\n",
       "      <th>1</th>\n",
       "      <td>1</td>\n",
       "      <td>200500000001</td>\n",
       "      <td>1.0</td>\n",
       "      <td>Conducteur</td>\n",
       "      <td>Blessé hospitalisé</td>\n",
       "      <td>Féminin</td>\n",
       "      <td>Courses – achats</td>\n",
       "      <td>Sans objet</td>\n",
       "      <td>Non renseigné ou sans objet</td>\n",
       "      <td>Non renseigné</td>\n",
       "      <td>...</td>\n",
       "      <td>Nuit sans éclairage public</td>\n",
       "      <td>En agglomération</td>\n",
       "      <td>Hors intersection</td>\n",
       "      <td>Normale</td>\n",
       "      <td>Deux véhicules – par le coté</td>\n",
       "      <td>11</td>\n",
       "      <td>59</td>\n",
       "      <td>2005-01-12</td>\n",
       "      <td>Mercredi</td>\n",
       "      <td>19</td>\n",
       "    </tr>\n",
       "    <tr>\n",
       "      <th>2</th>\n",
       "      <td>2</td>\n",
       "      <td>200500000001</td>\n",
       "      <td>2.0</td>\n",
       "      <td>Passager</td>\n",
       "      <td>Indemne</td>\n",
       "      <td>Masculin</td>\n",
       "      <td>Non renseigné</td>\n",
       "      <td>Sans objet</td>\n",
       "      <td>Non renseigné ou sans objet</td>\n",
       "      <td>Non renseigné</td>\n",
       "      <td>...</td>\n",
       "      <td>Nuit sans éclairage public</td>\n",
       "      <td>En agglomération</td>\n",
       "      <td>Hors intersection</td>\n",
       "      <td>Normale</td>\n",
       "      <td>Deux véhicules – par le coté</td>\n",
       "      <td>11</td>\n",
       "      <td>59</td>\n",
       "      <td>2005-01-12</td>\n",
       "      <td>Mercredi</td>\n",
       "      <td>19</td>\n",
       "    </tr>\n",
       "    <tr>\n",
       "      <th>3</th>\n",
       "      <td>3</td>\n",
       "      <td>200500000001</td>\n",
       "      <td>4.0</td>\n",
       "      <td>Passager</td>\n",
       "      <td>Indemne</td>\n",
       "      <td>Masculin</td>\n",
       "      <td>Non renseigné</td>\n",
       "      <td>Sans objet</td>\n",
       "      <td>Non renseigné ou sans objet</td>\n",
       "      <td>Non renseigné</td>\n",
       "      <td>...</td>\n",
       "      <td>Nuit sans éclairage public</td>\n",
       "      <td>En agglomération</td>\n",
       "      <td>Hors intersection</td>\n",
       "      <td>Normale</td>\n",
       "      <td>Deux véhicules – par le coté</td>\n",
       "      <td>11</td>\n",
       "      <td>59</td>\n",
       "      <td>2005-01-12</td>\n",
       "      <td>Mercredi</td>\n",
       "      <td>19</td>\n",
       "    </tr>\n",
       "    <tr>\n",
       "      <th>4</th>\n",
       "      <td>4</td>\n",
       "      <td>200500000001</td>\n",
       "      <td>5.0</td>\n",
       "      <td>Passager</td>\n",
       "      <td>Indemne</td>\n",
       "      <td>Masculin</td>\n",
       "      <td>Non renseigné</td>\n",
       "      <td>Sans objet</td>\n",
       "      <td>Non renseigné ou sans objet</td>\n",
       "      <td>Non renseigné</td>\n",
       "      <td>...</td>\n",
       "      <td>Nuit sans éclairage public</td>\n",
       "      <td>En agglomération</td>\n",
       "      <td>Hors intersection</td>\n",
       "      <td>Normale</td>\n",
       "      <td>Deux véhicules – par le coté</td>\n",
       "      <td>11</td>\n",
       "      <td>59</td>\n",
       "      <td>2005-01-12</td>\n",
       "      <td>Mercredi</td>\n",
       "      <td>19</td>\n",
       "    </tr>\n",
       "  </tbody>\n",
       "</table>\n",
       "<p>5 rows × 42 columns</p>\n",
       "</div>"
      ],
      "text/plain": [
       "   Unnamed: 0       num_acc place        catu                grav      sexe  \\\n",
       "0           0  200500000001   1.0  Conducteur        Blessé léger  Masculin   \n",
       "1           1  200500000001   1.0  Conducteur  Blessé hospitalisé   Féminin   \n",
       "2           2  200500000001   2.0    Passager             Indemne  Masculin   \n",
       "3           3  200500000001   4.0    Passager             Indemne  Masculin   \n",
       "4           4  200500000001   5.0    Passager             Indemne  Masculin   \n",
       "\n",
       "               trajet        locp                         actp          etatp  \\\n",
       "0  Domicile – travail  Sans objet  Non renseigné ou sans objet  Non renseigné   \n",
       "1    Courses – achats  Sans objet  Non renseigné ou sans objet  Non renseigné   \n",
       "2       Non renseigné  Sans objet  Non renseigné ou sans objet  Non renseigné   \n",
       "3       Non renseigné  Sans objet  Non renseigné ou sans objet  Non renseigné   \n",
       "4       Non renseigné  Sans objet  Non renseigné ou sans objet  Non renseigné   \n",
       "\n",
       "   ...                         lum               agg                int  \\\n",
       "0  ...  Nuit sans éclairage public  En agglomération  Hors intersection   \n",
       "1  ...  Nuit sans éclairage public  En agglomération  Hors intersection   \n",
       "2  ...  Nuit sans éclairage public  En agglomération  Hors intersection   \n",
       "3  ...  Nuit sans éclairage public  En agglomération  Hors intersection   \n",
       "4  ...  Nuit sans éclairage public  En agglomération  Hors intersection   \n",
       "\n",
       "       atm                           col com dep       date  \\\n",
       "0  Normale  Deux véhicules – par le coté  11  59 2005-01-12   \n",
       "1  Normale  Deux véhicules – par le coté  11  59 2005-01-12   \n",
       "2  Normale  Deux véhicules – par le coté  11  59 2005-01-12   \n",
       "3  Normale  Deux véhicules – par le coté  11  59 2005-01-12   \n",
       "4  Normale  Deux véhicules – par le coté  11  59 2005-01-12   \n",
       "\n",
       "   jour_de_la_semaine heure  \n",
       "0            Mercredi    19  \n",
       "1            Mercredi    19  \n",
       "2            Mercredi    19  \n",
       "3            Mercredi    19  \n",
       "4            Mercredi    19  \n",
       "\n",
       "[5 rows x 42 columns]"
      ]
     },
     "execution_count": 27,
     "metadata": {},
     "output_type": "execute_result"
    }
   ],
   "source": [
    "# Read in the CSV using the dtypes parameter\n",
    "accRoutierFr = pd.read_csv('fusion3.csv', parse_dates=[\"an_nais\", \"date\"], dtype=acc_dtypes, low_memory=False)\n",
    "accRoutierFr.head()"
   ]
  },
  {
   "cell_type": "code",
   "execution_count": 28,
   "id": "e47a39f9",
   "metadata": {},
   "outputs": [
    {
     "name": "stdout",
     "output_type": "stream",
     "text": [
      "<class 'pandas.core.frame.DataFrame'>\n",
      "RangeIndex: 2291797 entries, 0 to 2291796\n",
      "Data columns (total 42 columns):\n",
      " #   Column              Dtype         \n",
      "---  ------              -----         \n",
      " 0   Unnamed: 0          int64         \n",
      " 1   num_acc             int64         \n",
      " 2   place               category      \n",
      " 3   catu                category      \n",
      " 4   grav                category      \n",
      " 5   sexe                category      \n",
      " 6   trajet              category      \n",
      " 7   locp                category      \n",
      " 8   actp                category      \n",
      " 9   etatp               category      \n",
      " 10  an_nais             datetime64[ns]\n",
      " 11  num_veh             object        \n",
      " 12  secuUn              category      \n",
      " 13  secuDeux            category      \n",
      " 14  age_acc_an          float64       \n",
      " 15  tranches_ages       category      \n",
      " 16  catr                category      \n",
      " 17  circ                category      \n",
      " 18  nbv                 float64       \n",
      " 19  vosp                category      \n",
      " 20  prof                category      \n",
      " 21  plan                category      \n",
      " 22  surf                category      \n",
      " 23  infra               category      \n",
      " 24  situ                category      \n",
      " 25  senc                category      \n",
      " 26  occutc              float64       \n",
      " 27  obs                 category      \n",
      " 28  obsm                category      \n",
      " 29  choc                category      \n",
      " 30  manv                category      \n",
      " 31  catv_Label          category      \n",
      " 32  lum                 category      \n",
      " 33  agg                 category      \n",
      " 34  int                 category      \n",
      " 35  atm                 category      \n",
      " 36  col                 category      \n",
      " 37  com                 object        \n",
      " 38  dep                 object        \n",
      " 39  date                datetime64[ns]\n",
      " 40  jour_de_la_semaine  category      \n",
      " 41  heure               category      \n",
      "dtypes: category(32), datetime64[ns](2), float64(3), int64(2), object(3)\n",
      "memory usage: 244.8+ MB\n"
     ]
    }
   ],
   "source": [
    "accRoutierFr.info()"
   ]
  },
  {
   "cell_type": "code",
   "execution_count": 29,
   "id": "2cf40cc4",
   "metadata": {},
   "outputs": [
    {
     "data": {
      "text/plain": [
       "Index(['Blessé hospitalisé', 'Blessé léger', 'Indemne', 'Tué'], dtype='object')"
      ]
     },
     "execution_count": 29,
     "metadata": {},
     "output_type": "execute_result"
    }
   ],
   "source": [
    "accRoutierFr.grav.cat.categories"
   ]
  },
  {
   "cell_type": "code",
   "execution_count": 30,
   "id": "6a106c15",
   "metadata": {},
   "outputs": [],
   "source": [
    "accRoutierFr.grav = accRoutierFr.grav.cat.reorder_categories(\n",
    "  new_categories=['Indemne', 'Blessé léger', 'Blessé hospitalisé', 'Tué'], \n",
    "  ordered=True\n",
    ")"
   ]
  },
  {
   "cell_type": "code",
   "execution_count": 31,
   "id": "d169afb7",
   "metadata": {},
   "outputs": [
    {
     "data": {
      "text/plain": [
       "Index(['Indemne', 'Blessé léger', 'Blessé hospitalisé', 'Tué'], dtype='object')"
      ]
     },
     "execution_count": 31,
     "metadata": {},
     "output_type": "execute_result"
    }
   ],
   "source": [
    "accRoutierFr.grav.cat.categories"
   ]
  },
  {
   "cell_type": "code",
   "execution_count": 32,
   "id": "4a255199",
   "metadata": {},
   "outputs": [
    {
     "data": {
      "text/plain": [
       "Index(['Dimanche', 'Jeudi', 'Lundi', 'Mardi', 'Mercredi', 'Samedi',\n",
       "       'Vendredi'],\n",
       "      dtype='object')"
      ]
     },
     "execution_count": 32,
     "metadata": {},
     "output_type": "execute_result"
    }
   ],
   "source": [
    "accRoutierFr.jour_de_la_semaine.cat.categories"
   ]
  },
  {
   "cell_type": "code",
   "execution_count": 33,
   "id": "d2ca5531",
   "metadata": {},
   "outputs": [],
   "source": [
    "accRoutierFr.jour_de_la_semaine = accRoutierFr.jour_de_la_semaine.cat.reorder_categories(\n",
    "  new_categories=['Lundi', 'Mardi', 'Mercredi', 'Jeudi', 'Vendredi', 'Samedi', 'Dimanche'], \n",
    "  ordered=True\n",
    ")"
   ]
  },
  {
   "cell_type": "code",
   "execution_count": 34,
   "id": "97ad3e20",
   "metadata": {},
   "outputs": [
    {
     "data": {
      "text/plain": [
       "Index(['Lundi', 'Mardi', 'Mercredi', 'Jeudi', 'Vendredi', 'Samedi',\n",
       "       'Dimanche'],\n",
       "      dtype='object')"
      ]
     },
     "execution_count": 34,
     "metadata": {},
     "output_type": "execute_result"
    }
   ],
   "source": [
    "accRoutierFr.jour_de_la_semaine.cat.categories"
   ]
  },
  {
   "cell_type": "code",
   "execution_count": 35,
   "id": "5f414878",
   "metadata": {},
   "outputs": [
    {
     "data": {
      "text/plain": [
       "Index(['0', '1', '10', '11', '12', '13', '14', '15', '16', '17', '18', '19',\n",
       "       '2', '20', '21', '22', '23', '3', '4', '5', '6', '7', '8', '9'],\n",
       "      dtype='object')"
      ]
     },
     "execution_count": 35,
     "metadata": {},
     "output_type": "execute_result"
    }
   ],
   "source": [
    "accRoutierFr.heure.cat.categories"
   ]
  },
  {
   "cell_type": "code",
   "execution_count": 36,
   "id": "df21855f",
   "metadata": {},
   "outputs": [],
   "source": [
    "accRoutierFr.heure = accRoutierFr.heure.cat.reorder_categories(\n",
    "  new_categories=['0', '1', '2', '3', '4', '5', '6', '7', '8', '9', '10', \n",
    "                  '11', '12', '13', '14', '15', '16', '17', '18', '19', '20', '21', '22', '23'], \n",
    "  ordered=True\n",
    ")"
   ]
  },
  {
   "cell_type": "code",
   "execution_count": 37,
   "id": "430d213b",
   "metadata": {},
   "outputs": [
    {
     "data": {
      "text/plain": [
       "Index(['0', '1', '2', '3', '4', '5', '6', '7', '8', '9', '10', '11', '12',\n",
       "       '13', '14', '15', '16', '17', '18', '19', '20', '21', '22', '23'],\n",
       "      dtype='object')"
      ]
     },
     "execution_count": 37,
     "metadata": {},
     "output_type": "execute_result"
    }
   ],
   "source": [
    "accRoutierFr.heure.cat.categories"
   ]
  },
  {
   "cell_type": "code",
   "execution_count": 38,
   "id": "40797cac",
   "metadata": {},
   "outputs": [
    {
     "data": {
      "text/plain": [
       "Index(['Aucun', 'Autres', 'Bretelle d’échangeur ou de raccordement',\n",
       "       'Carrefour aménagé', 'Chantier', 'Non renseigné', 'Pont - autopont',\n",
       "       'Souterrain - tunnel', 'Voie ferrée', 'Zone de péage', 'Zone piétonne'],\n",
       "      dtype='object')"
      ]
     },
     "execution_count": 38,
     "metadata": {},
     "output_type": "execute_result"
    }
   ],
   "source": [
    "accRoutierFr.infra.cat.categories"
   ]
  },
  {
   "cell_type": "code",
   "execution_count": 39,
   "id": "464a525d",
   "metadata": {},
   "outputs": [
    {
     "data": {
      "text/plain": [
       "Index(['Bande cyclable(2)', 'Non renseigné(-1)', 'Piste cyclable(1)',\n",
       "       'Sans objet(0)', 'Voie réservée(3)'],\n",
       "      dtype='object')"
      ]
     },
     "execution_count": 39,
     "metadata": {},
     "output_type": "execute_result"
    }
   ],
   "source": [
    "accRoutierFr.vosp.cat.categories"
   ]
  },
  {
   "cell_type": "code",
   "execution_count": 40,
   "id": "bbe75511",
   "metadata": {},
   "outputs": [
    {
     "data": {
      "text/plain": [
       "Index(['Autre collision', 'Deux véhicules - frontale',\n",
       "       'Deux véhicules – par le coté', 'Deux véhicules – par l’arrière',\n",
       "       'Non renseigné', 'Sans collision',\n",
       "       'Trois véhicules et plus - collisions multiples',\n",
       "       'Trois véhicules et plus – en chaîne'],\n",
       "      dtype='object')"
      ]
     },
     "execution_count": 40,
     "metadata": {},
     "output_type": "execute_result"
    }
   ],
   "source": [
    "accRoutierFr.col.cat.categories"
   ]
  },
  {
   "cell_type": "code",
   "execution_count": 41,
   "id": "ea36ae63",
   "metadata": {},
   "outputs": [
    {
     "name": "stdout",
     "output_type": "stream",
     "text": [
      "<class 'pandas.core.frame.DataFrame'>\n",
      "RangeIndex: 2291797 entries, 0 to 2291796\n",
      "Data columns (total 42 columns):\n",
      " #   Column              Dtype         \n",
      "---  ------              -----         \n",
      " 0   Unnamed: 0          int64         \n",
      " 1   num_acc             int64         \n",
      " 2   place               category      \n",
      " 3   catu                category      \n",
      " 4   grav                category      \n",
      " 5   sexe                category      \n",
      " 6   trajet              category      \n",
      " 7   locp                category      \n",
      " 8   actp                category      \n",
      " 9   etatp               category      \n",
      " 10  an_nais             datetime64[ns]\n",
      " 11  num_veh             object        \n",
      " 12  secuUn              category      \n",
      " 13  secuDeux            category      \n",
      " 14  age_acc_an          float64       \n",
      " 15  tranches_ages       category      \n",
      " 16  catr                category      \n",
      " 17  circ                category      \n",
      " 18  nbv                 float64       \n",
      " 19  vosp                category      \n",
      " 20  prof                category      \n",
      " 21  plan                category      \n",
      " 22  surf                category      \n",
      " 23  infra               category      \n",
      " 24  situ                category      \n",
      " 25  senc                category      \n",
      " 26  occutc              float64       \n",
      " 27  obs                 category      \n",
      " 28  obsm                category      \n",
      " 29  choc                category      \n",
      " 30  manv                category      \n",
      " 31  catv_Label          category      \n",
      " 32  lum                 category      \n",
      " 33  agg                 category      \n",
      " 34  int                 category      \n",
      " 35  atm                 category      \n",
      " 36  col                 category      \n",
      " 37  com                 object        \n",
      " 38  dep                 object        \n",
      " 39  date                datetime64[ns]\n",
      " 40  jour_de_la_semaine  category      \n",
      " 41  heure               category      \n",
      "dtypes: category(32), datetime64[ns](2), float64(3), int64(2), object(3)\n",
      "memory usage: 244.8+ MB\n"
     ]
    }
   ],
   "source": [
    "accRoutierFr.info()"
   ]
  },
  {
   "cell_type": "code",
   "execution_count": 42,
   "id": "e8f2f0df",
   "metadata": {},
   "outputs": [
    {
     "data": {
      "text/plain": [
       "array(['59', '62', '80', '20', '60', '76', '27', '35', '22', '29', '56',\n",
       "       '14', '50', '61', '44', '49', '53', '72', '85', '33', '24', '40',\n",
       "       '47', '64', '86', '16', '17', '79', '87', '19', '23', '31', '90',\n",
       "       '12', '32', '46', '65', '81', '69', '82', '10', '70', '26', '38',\n",
       "       '42', '73', '74', '63', '30', '15', '43', '57', '54', '55', '88',\n",
       "       '67', '68', '51', '52', '21', '58', '71', '89', '25', '39', '13',\n",
       "       '83', '84', '34', '11', '48', '66', '2A', '2B', '78', '91', '95',\n",
       "       '77', '45', '18', '28', '36', '37', '41', '94', '75', '92', '93',\n",
       "       '972', '971', '973', '974', '976', '988', '02', '09', '07', '04',\n",
       "       '987', '03', '01', '06', '05', '986', '08', '977', '978', '975'],\n",
       "      dtype=object)"
      ]
     },
     "execution_count": 42,
     "metadata": {},
     "output_type": "execute_result"
    }
   ],
   "source": [
    "accRoutierFr.dep.unique()"
   ]
  },
  {
   "cell_type": "code",
   "execution_count": 43,
   "id": "5867c5fa",
   "metadata": {},
   "outputs": [
    {
     "data": {
      "text/plain": [
       "14129"
      ]
     },
     "execution_count": 43,
     "metadata": {},
     "output_type": "execute_result"
    }
   ],
   "source": [
    "len(accRoutierFr.com.unique())"
   ]
  },
  {
   "cell_type": "code",
   "execution_count": 44,
   "id": "19d61038",
   "metadata": {},
   "outputs": [
    {
     "data": {
      "text/plain": [
       "Unnamed: 0            0.000000\n",
       "plan                  0.000000\n",
       "surf                  0.000000\n",
       "infra                 0.000000\n",
       "situ                  0.000000\n",
       "senc                  0.000000\n",
       "occutc                0.000000\n",
       "obs                   0.000000\n",
       "obsm                  0.000000\n",
       "choc                  0.000000\n",
       "manv                  0.000000\n",
       "agg                   0.000000\n",
       "int                   0.000000\n",
       "atm                   0.000000\n",
       "dep                   0.000000\n",
       "date                  0.000000\n",
       "jour_de_la_semaine    0.000000\n",
       "vosp                  0.000000\n",
       "prof                  0.000000\n",
       "circ                  0.000000\n",
       "num_acc               0.000000\n",
       "place                 0.000000\n",
       "catu                  0.000000\n",
       "grav                  0.000000\n",
       "sexe                  0.000000\n",
       "nbv                   0.000000\n",
       "locp                  0.000000\n",
       "actp                  0.000000\n",
       "trajet                0.000000\n",
       "an_nais               0.000000\n",
       "num_veh               0.000000\n",
       "secuUn                0.000000\n",
       "secuDeux              0.000000\n",
       "age_acc_an            0.000000\n",
       "tranches_ages         0.000000\n",
       "catr                  0.000000\n",
       "etatp                 0.000000\n",
       "heure                 0.000000\n",
       "catv_Label            0.000131\n",
       "lum                   0.000262\n",
       "com                   0.000262\n",
       "col                   0.001876\n",
       "dtype: float64"
      ]
     },
     "execution_count": 44,
     "metadata": {},
     "output_type": "execute_result"
    }
   ],
   "source": [
    "size = accRoutierFr.shape\n",
    "\n",
    "# Count the number of missing values in each column\n",
    "nan_values = accRoutierFr.isna().sum()\n",
    "\n",
    "nan_values = nan_values.sort_values(ascending=True)*100/size[0]\n",
    "\n",
    "nan_values"
   ]
  },
  {
   "cell_type": "code",
   "execution_count": 45,
   "id": "399d71a5",
   "metadata": {},
   "outputs": [],
   "source": [
    "# Removes the rows that contains NULL values.\n",
    "accRoutierFr.dropna(inplace=True)"
   ]
  },
  {
   "cell_type": "code",
   "execution_count": 46,
   "id": "9ce35bff",
   "metadata": {},
   "outputs": [
    {
     "data": {
      "text/plain": [
       "Unnamed: 0            0.0\n",
       "infra                 0.0\n",
       "situ                  0.0\n",
       "senc                  0.0\n",
       "occutc                0.0\n",
       "obs                   0.0\n",
       "obsm                  0.0\n",
       "choc                  0.0\n",
       "manv                  0.0\n",
       "catv_Label            0.0\n",
       "lum                   0.0\n",
       "agg                   0.0\n",
       "int                   0.0\n",
       "atm                   0.0\n",
       "col                   0.0\n",
       "com                   0.0\n",
       "dep                   0.0\n",
       "date                  0.0\n",
       "surf                  0.0\n",
       "plan                  0.0\n",
       "prof                  0.0\n",
       "vosp                  0.0\n",
       "num_acc               0.0\n",
       "place                 0.0\n",
       "catu                  0.0\n",
       "grav                  0.0\n",
       "sexe                  0.0\n",
       "trajet                0.0\n",
       "locp                  0.0\n",
       "actp                  0.0\n",
       "jour_de_la_semaine    0.0\n",
       "etatp                 0.0\n",
       "num_veh               0.0\n",
       "secuUn                0.0\n",
       "secuDeux              0.0\n",
       "age_acc_an            0.0\n",
       "tranches_ages         0.0\n",
       "catr                  0.0\n",
       "circ                  0.0\n",
       "nbv                   0.0\n",
       "an_nais               0.0\n",
       "heure                 0.0\n",
       "dtype: float64"
      ]
     },
     "execution_count": 46,
     "metadata": {},
     "output_type": "execute_result"
    }
   ],
   "source": [
    "size = accRoutierFr.shape\n",
    "\n",
    "# Count the number of missing values in each column\n",
    "nan_values = accRoutierFr.isna().sum()\n",
    "\n",
    "nan_values = nan_values.sort_values(ascending=True)*100/size[0]\n",
    "\n",
    "nan_values"
   ]
  },
  {
   "cell_type": "markdown",
   "id": "302ec56a",
   "metadata": {},
   "source": [
    "Les colonnes 'Unnamed: 0', 'num_acc' et 'num_veh' sont sans importance pour notre problème, et on aimerait pouvoir effectuer des prédictions sur la gravité des accidents peu importe la date et l'emplacement géographique de l'accident, on peut donc également s'affranchir de la colonne 'com', 'dep' et 'num_veh'."
   ]
  },
  {
   "cell_type": "markdown",
   "id": "d2c211bc",
   "metadata": {},
   "source": [
    "##### Distribution en pourcentage de la variable cible."
   ]
  },
  {
   "cell_type": "code",
   "execution_count": 47,
   "id": "8b726de6",
   "metadata": {},
   "outputs": [],
   "source": [
    "target_name = \"grav\"\n",
    "y = accRoutierFr[target_name]"
   ]
  },
  {
   "cell_type": "code",
   "execution_count": 48,
   "id": "5f871543",
   "metadata": {},
   "outputs": [
    {
     "data": {
      "text/plain": [
       "Indemne               40.918403\n",
       "Blessé léger          36.011343\n",
       "Blessé hospitalisé    20.400796\n",
       "Tué                    2.669458\n",
       "Name: grav, dtype: float64"
      ]
     },
     "execution_count": 48,
     "metadata": {},
     "output_type": "execute_result"
    }
   ],
   "source": [
    "y.value_counts(normalize=True)*100"
   ]
  },
  {
   "cell_type": "markdown",
   "id": "97657c1c",
   "metadata": {},
   "source": [
    "##### Pre-processing pour standardiser les features"
   ]
  },
  {
   "cell_type": "code",
   "execution_count": 49,
   "id": "0c59f0fe",
   "metadata": {},
   "outputs": [
    {
     "data": {
      "text/plain": [
       "['place',\n",
       " 'catu',\n",
       " 'sexe',\n",
       " 'trajet',\n",
       " 'locp',\n",
       " 'actp',\n",
       " 'etatp',\n",
       " 'secuUn',\n",
       " 'secuDeux',\n",
       " 'tranches_ages',\n",
       " 'catr',\n",
       " 'circ',\n",
       " 'vosp',\n",
       " 'prof',\n",
       " 'plan',\n",
       " 'surf',\n",
       " 'infra',\n",
       " 'situ',\n",
       " 'senc',\n",
       " 'obs',\n",
       " 'obsm',\n",
       " 'choc',\n",
       " 'manv',\n",
       " 'catv_Label',\n",
       " 'lum',\n",
       " 'agg',\n",
       " 'int',\n",
       " 'atm',\n",
       " 'col',\n",
       " 'jour_de_la_semaine',\n",
       " 'heure']"
      ]
     },
     "execution_count": 49,
     "metadata": {},
     "output_type": "execute_result"
    }
   ],
   "source": [
    "categorical_columns_selector = selector(dtype_include=\"category\")\n",
    "categorical_columns = categorical_columns_selector(accRoutierFr.drop([\"grav\"], axis=1))\n",
    "categorical_columns"
   ]
  },
  {
   "cell_type": "code",
   "execution_count": 50,
   "id": "201629bb",
   "metadata": {},
   "outputs": [
    {
     "data": {
      "text/plain": [
       "['age_acc_an', 'nbv', 'occutc']"
      ]
     },
     "execution_count": 50,
     "metadata": {},
     "output_type": "execute_result"
    }
   ],
   "source": [
    "# Select columns based on their data type\n",
    "# we use the utility make_column_selector to select only columns with a specific data type\n",
    "numerical_columns_selector = selector(dtype_include=np.number)\n",
    "\n",
    "numerical_columns = numerical_columns_selector(accRoutierFr.drop([\"Unnamed: 0\", \"num_acc\"], axis=1))\n",
    "numerical_columns"
   ]
  },
  {
   "cell_type": "code",
   "execution_count": 51,
   "id": "b0ca51d7",
   "metadata": {},
   "outputs": [],
   "source": [
    "data_categorical = accRoutierFr[categorical_columns]\n",
    "data_numerical = accRoutierFr[numerical_columns]\n",
    "\n",
    "X = accRoutierFr[categorical_columns + numerical_columns]"
   ]
  },
  {
   "cell_type": "code",
   "execution_count": 52,
   "id": "739a4906",
   "metadata": {},
   "outputs": [
    {
     "data": {
      "text/html": [
       "<div>\n",
       "<style scoped>\n",
       "    .dataframe tbody tr th:only-of-type {\n",
       "        vertical-align: middle;\n",
       "    }\n",
       "\n",
       "    .dataframe tbody tr th {\n",
       "        vertical-align: top;\n",
       "    }\n",
       "\n",
       "    .dataframe thead th {\n",
       "        text-align: right;\n",
       "    }\n",
       "</style>\n",
       "<table border=\"1\" class=\"dataframe\">\n",
       "  <thead>\n",
       "    <tr style=\"text-align: right;\">\n",
       "      <th></th>\n",
       "      <th>place</th>\n",
       "      <th>catu</th>\n",
       "      <th>sexe</th>\n",
       "      <th>trajet</th>\n",
       "      <th>locp</th>\n",
       "      <th>actp</th>\n",
       "      <th>etatp</th>\n",
       "      <th>secuUn</th>\n",
       "      <th>secuDeux</th>\n",
       "      <th>tranches_ages</th>\n",
       "      <th>...</th>\n",
       "      <th>lum</th>\n",
       "      <th>agg</th>\n",
       "      <th>int</th>\n",
       "      <th>atm</th>\n",
       "      <th>col</th>\n",
       "      <th>jour_de_la_semaine</th>\n",
       "      <th>heure</th>\n",
       "      <th>age_acc_an</th>\n",
       "      <th>nbv</th>\n",
       "      <th>occutc</th>\n",
       "    </tr>\n",
       "  </thead>\n",
       "  <tbody>\n",
       "    <tr>\n",
       "      <th>0</th>\n",
       "      <td>1.0</td>\n",
       "      <td>Conducteur</td>\n",
       "      <td>Masculin</td>\n",
       "      <td>Domicile – travail</td>\n",
       "      <td>Sans objet</td>\n",
       "      <td>Non renseigné ou sans objet</td>\n",
       "      <td>Non renseigné</td>\n",
       "      <td>Ceinture</td>\n",
       "      <td>Ceinture</td>\n",
       "      <td>23-31</td>\n",
       "      <td>...</td>\n",
       "      <td>Nuit sans éclairage public</td>\n",
       "      <td>En agglomération</td>\n",
       "      <td>Hors intersection</td>\n",
       "      <td>Normale</td>\n",
       "      <td>Deux véhicules – par le coté</td>\n",
       "      <td>Mercredi</td>\n",
       "      <td>19</td>\n",
       "      <td>29.021918</td>\n",
       "      <td>2.0</td>\n",
       "      <td>0.0</td>\n",
       "    </tr>\n",
       "    <tr>\n",
       "      <th>1</th>\n",
       "      <td>1.0</td>\n",
       "      <td>Conducteur</td>\n",
       "      <td>Féminin</td>\n",
       "      <td>Courses – achats</td>\n",
       "      <td>Sans objet</td>\n",
       "      <td>Non renseigné ou sans objet</td>\n",
       "      <td>Non renseigné</td>\n",
       "      <td>Ceinture</td>\n",
       "      <td>Ceinture</td>\n",
       "      <td>32-40</td>\n",
       "      <td>...</td>\n",
       "      <td>Nuit sans éclairage public</td>\n",
       "      <td>En agglomération</td>\n",
       "      <td>Hors intersection</td>\n",
       "      <td>Normale</td>\n",
       "      <td>Deux véhicules – par le coté</td>\n",
       "      <td>Mercredi</td>\n",
       "      <td>19</td>\n",
       "      <td>37.027397</td>\n",
       "      <td>2.0</td>\n",
       "      <td>0.0</td>\n",
       "    </tr>\n",
       "    <tr>\n",
       "      <th>2</th>\n",
       "      <td>2.0</td>\n",
       "      <td>Passager</td>\n",
       "      <td>Masculin</td>\n",
       "      <td>Non renseigné</td>\n",
       "      <td>Sans objet</td>\n",
       "      <td>Non renseigné ou sans objet</td>\n",
       "      <td>Non renseigné</td>\n",
       "      <td>Ceinture</td>\n",
       "      <td>Ceinture</td>\n",
       "      <td>41-50</td>\n",
       "      <td>...</td>\n",
       "      <td>Nuit sans éclairage public</td>\n",
       "      <td>En agglomération</td>\n",
       "      <td>Hors intersection</td>\n",
       "      <td>Normale</td>\n",
       "      <td>Deux véhicules – par le coté</td>\n",
       "      <td>Mercredi</td>\n",
       "      <td>19</td>\n",
       "      <td>41.030137</td>\n",
       "      <td>2.0</td>\n",
       "      <td>0.0</td>\n",
       "    </tr>\n",
       "    <tr>\n",
       "      <th>3</th>\n",
       "      <td>4.0</td>\n",
       "      <td>Passager</td>\n",
       "      <td>Masculin</td>\n",
       "      <td>Non renseigné</td>\n",
       "      <td>Sans objet</td>\n",
       "      <td>Non renseigné ou sans objet</td>\n",
       "      <td>Non renseigné</td>\n",
       "      <td>Dispositif enfants</td>\n",
       "      <td>Ceinture</td>\n",
       "      <td>0-11</td>\n",
       "      <td>...</td>\n",
       "      <td>Nuit sans éclairage public</td>\n",
       "      <td>En agglomération</td>\n",
       "      <td>Hors intersection</td>\n",
       "      <td>Normale</td>\n",
       "      <td>Deux véhicules – par le coté</td>\n",
       "      <td>Mercredi</td>\n",
       "      <td>19</td>\n",
       "      <td>1.002740</td>\n",
       "      <td>2.0</td>\n",
       "      <td>0.0</td>\n",
       "    </tr>\n",
       "    <tr>\n",
       "      <th>4</th>\n",
       "      <td>5.0</td>\n",
       "      <td>Passager</td>\n",
       "      <td>Masculin</td>\n",
       "      <td>Non renseigné</td>\n",
       "      <td>Sans objet</td>\n",
       "      <td>Non renseigné ou sans objet</td>\n",
       "      <td>Non renseigné</td>\n",
       "      <td>Ceinture</td>\n",
       "      <td>Ceinture</td>\n",
       "      <td>0-11</td>\n",
       "      <td>...</td>\n",
       "      <td>Nuit sans éclairage public</td>\n",
       "      <td>En agglomération</td>\n",
       "      <td>Hors intersection</td>\n",
       "      <td>Normale</td>\n",
       "      <td>Deux véhicules – par le coté</td>\n",
       "      <td>Mercredi</td>\n",
       "      <td>19</td>\n",
       "      <td>7.005479</td>\n",
       "      <td>2.0</td>\n",
       "      <td>0.0</td>\n",
       "    </tr>\n",
       "  </tbody>\n",
       "</table>\n",
       "<p>5 rows × 34 columns</p>\n",
       "</div>"
      ],
      "text/plain": [
       "  place        catu      sexe              trajet        locp  \\\n",
       "0   1.0  Conducteur  Masculin  Domicile – travail  Sans objet   \n",
       "1   1.0  Conducteur   Féminin    Courses – achats  Sans objet   \n",
       "2   2.0    Passager  Masculin       Non renseigné  Sans objet   \n",
       "3   4.0    Passager  Masculin       Non renseigné  Sans objet   \n",
       "4   5.0    Passager  Masculin       Non renseigné  Sans objet   \n",
       "\n",
       "                          actp          etatp              secuUn  secuDeux  \\\n",
       "0  Non renseigné ou sans objet  Non renseigné            Ceinture  Ceinture   \n",
       "1  Non renseigné ou sans objet  Non renseigné            Ceinture  Ceinture   \n",
       "2  Non renseigné ou sans objet  Non renseigné            Ceinture  Ceinture   \n",
       "3  Non renseigné ou sans objet  Non renseigné  Dispositif enfants  Ceinture   \n",
       "4  Non renseigné ou sans objet  Non renseigné            Ceinture  Ceinture   \n",
       "\n",
       "  tranches_ages  ...                         lum               agg  \\\n",
       "0         23-31  ...  Nuit sans éclairage public  En agglomération   \n",
       "1         32-40  ...  Nuit sans éclairage public  En agglomération   \n",
       "2         41-50  ...  Nuit sans éclairage public  En agglomération   \n",
       "3          0-11  ...  Nuit sans éclairage public  En agglomération   \n",
       "4          0-11  ...  Nuit sans éclairage public  En agglomération   \n",
       "\n",
       "                 int      atm                           col  \\\n",
       "0  Hors intersection  Normale  Deux véhicules – par le coté   \n",
       "1  Hors intersection  Normale  Deux véhicules – par le coté   \n",
       "2  Hors intersection  Normale  Deux véhicules – par le coté   \n",
       "3  Hors intersection  Normale  Deux véhicules – par le coté   \n",
       "4  Hors intersection  Normale  Deux véhicules – par le coté   \n",
       "\n",
       "  jour_de_la_semaine heure age_acc_an  nbv occutc  \n",
       "0           Mercredi    19  29.021918  2.0    0.0  \n",
       "1           Mercredi    19  37.027397  2.0    0.0  \n",
       "2           Mercredi    19  41.030137  2.0    0.0  \n",
       "3           Mercredi    19   1.002740  2.0    0.0  \n",
       "4           Mercredi    19   7.005479  2.0    0.0  \n",
       "\n",
       "[5 rows x 34 columns]"
      ]
     },
     "execution_count": 52,
     "metadata": {},
     "output_type": "execute_result"
    }
   ],
   "source": [
    "X.head()"
   ]
  },
  {
   "cell_type": "code",
   "execution_count": 53,
   "id": "72aadea7",
   "metadata": {},
   "outputs": [
    {
     "name": "stdout",
     "output_type": "stream",
     "text": [
      "Number of samples: 2291739\n",
      "Number of features: 34\n",
      "Number of categorical features: 31\n",
      "Number of numerical features: 3\n"
     ]
    }
   ],
   "source": [
    "print(f\"Number of samples: {X.shape[0]}\")\n",
    "print(f\"Number of features: {X.shape[1]}\")\n",
    "print(f\"Number of categorical features: {len(categorical_columns)}\")\n",
    "print(f\"Number of numerical features: {len(numerical_columns)}\")"
   ]
  },
  {
   "cell_type": "code",
   "execution_count": 54,
   "id": "dd2d0f44",
   "metadata": {},
   "outputs": [],
   "source": [
    "categorical_indexes=[]\n",
    "for col in X.columns:\n",
    "    if X[col].dtype == 'category':\n",
    "        categorical_indexes.append(X.columns.get_loc(col))"
   ]
  },
  {
   "cell_type": "code",
   "execution_count": 55,
   "id": "62e21509",
   "metadata": {},
   "outputs": [
    {
     "data": {
      "text/plain": [
       "place                 category\n",
       "catu                  category\n",
       "sexe                  category\n",
       "trajet                category\n",
       "locp                  category\n",
       "actp                  category\n",
       "etatp                 category\n",
       "secuUn                category\n",
       "secuDeux              category\n",
       "tranches_ages         category\n",
       "catr                  category\n",
       "circ                  category\n",
       "vosp                  category\n",
       "prof                  category\n",
       "plan                  category\n",
       "surf                  category\n",
       "infra                 category\n",
       "situ                  category\n",
       "senc                  category\n",
       "obs                   category\n",
       "obsm                  category\n",
       "choc                  category\n",
       "manv                  category\n",
       "catv_Label            category\n",
       "lum                   category\n",
       "agg                   category\n",
       "int                   category\n",
       "atm                   category\n",
       "col                   category\n",
       "jour_de_la_semaine    category\n",
       "heure                 category\n",
       "age_acc_an             float64\n",
       "nbv                    float64\n",
       "occutc                 float64\n",
       "dtype: object"
      ]
     },
     "execution_count": 55,
     "metadata": {},
     "output_type": "execute_result"
    }
   ],
   "source": [
    "X.dtypes"
   ]
  },
  {
   "cell_type": "code",
   "execution_count": 56,
   "id": "bd224ed3",
   "metadata": {},
   "outputs": [
    {
     "data": {
      "text/plain": [
       "[0,\n",
       " 1,\n",
       " 2,\n",
       " 3,\n",
       " 4,\n",
       " 5,\n",
       " 6,\n",
       " 7,\n",
       " 8,\n",
       " 9,\n",
       " 10,\n",
       " 11,\n",
       " 12,\n",
       " 13,\n",
       " 14,\n",
       " 15,\n",
       " 16,\n",
       " 17,\n",
       " 18,\n",
       " 19,\n",
       " 20,\n",
       " 21,\n",
       " 22,\n",
       " 23,\n",
       " 24,\n",
       " 25,\n",
       " 26,\n",
       " 27,\n",
       " 28,\n",
       " 29,\n",
       " 30]"
      ]
     },
     "execution_count": 56,
     "metadata": {},
     "output_type": "execute_result"
    }
   ],
   "source": [
    "categorical_indexes"
   ]
  },
  {
   "cell_type": "code",
   "execution_count": 57,
   "id": "bf18693d",
   "metadata": {},
   "outputs": [
    {
     "data": {
      "text/html": [
       "<div>\n",
       "<style scoped>\n",
       "    .dataframe tbody tr th:only-of-type {\n",
       "        vertical-align: middle;\n",
       "    }\n",
       "\n",
       "    .dataframe tbody tr th {\n",
       "        vertical-align: top;\n",
       "    }\n",
       "\n",
       "    .dataframe thead th {\n",
       "        text-align: right;\n",
       "    }\n",
       "</style>\n",
       "<table border=\"1\" class=\"dataframe\">\n",
       "  <thead>\n",
       "    <tr style=\"text-align: right;\">\n",
       "      <th></th>\n",
       "      <th>age_acc_an</th>\n",
       "      <th>nbv</th>\n",
       "      <th>occutc</th>\n",
       "    </tr>\n",
       "  </thead>\n",
       "  <tbody>\n",
       "    <tr>\n",
       "      <th>0</th>\n",
       "      <td>29.021918</td>\n",
       "      <td>2.0</td>\n",
       "      <td>0.0</td>\n",
       "    </tr>\n",
       "    <tr>\n",
       "      <th>1</th>\n",
       "      <td>37.027397</td>\n",
       "      <td>2.0</td>\n",
       "      <td>0.0</td>\n",
       "    </tr>\n",
       "    <tr>\n",
       "      <th>2</th>\n",
       "      <td>41.030137</td>\n",
       "      <td>2.0</td>\n",
       "      <td>0.0</td>\n",
       "    </tr>\n",
       "    <tr>\n",
       "      <th>3</th>\n",
       "      <td>1.002740</td>\n",
       "      <td>2.0</td>\n",
       "      <td>0.0</td>\n",
       "    </tr>\n",
       "    <tr>\n",
       "      <th>4</th>\n",
       "      <td>7.005479</td>\n",
       "      <td>2.0</td>\n",
       "      <td>0.0</td>\n",
       "    </tr>\n",
       "  </tbody>\n",
       "</table>\n",
       "</div>"
      ],
      "text/plain": [
       "   age_acc_an  nbv  occutc\n",
       "0   29.021918  2.0     0.0\n",
       "1   37.027397  2.0     0.0\n",
       "2   41.030137  2.0     0.0\n",
       "3    1.002740  2.0     0.0\n",
       "4    7.005479  2.0     0.0"
      ]
     },
     "execution_count": 57,
     "metadata": {},
     "output_type": "execute_result"
    }
   ],
   "source": [
    "data_numerical.head()"
   ]
  },
  {
   "cell_type": "code",
   "execution_count": 58,
   "id": "4ec90505",
   "metadata": {},
   "outputs": [
    {
     "data": {
      "text/html": [
       "<div>\n",
       "<style scoped>\n",
       "    .dataframe tbody tr th:only-of-type {\n",
       "        vertical-align: middle;\n",
       "    }\n",
       "\n",
       "    .dataframe tbody tr th {\n",
       "        vertical-align: top;\n",
       "    }\n",
       "\n",
       "    .dataframe thead th {\n",
       "        text-align: right;\n",
       "    }\n",
       "</style>\n",
       "<table border=\"1\" class=\"dataframe\">\n",
       "  <thead>\n",
       "    <tr style=\"text-align: right;\">\n",
       "      <th></th>\n",
       "      <th>age_acc_an</th>\n",
       "      <th>nbv</th>\n",
       "      <th>occutc</th>\n",
       "    </tr>\n",
       "  </thead>\n",
       "  <tbody>\n",
       "    <tr>\n",
       "      <th>count</th>\n",
       "      <td>2.291739e+06</td>\n",
       "      <td>2.291739e+06</td>\n",
       "      <td>2.291739e+06</td>\n",
       "    </tr>\n",
       "    <tr>\n",
       "      <th>mean</th>\n",
       "      <td>3.755248e+01</td>\n",
       "      <td>2.133406e+00</td>\n",
       "      <td>1.529851e-01</td>\n",
       "    </tr>\n",
       "    <tr>\n",
       "      <th>std</th>\n",
       "      <td>1.812063e+01</td>\n",
       "      <td>1.525731e+00</td>\n",
       "      <td>3.282505e+00</td>\n",
       "    </tr>\n",
       "    <tr>\n",
       "      <th>min</th>\n",
       "      <td>1.000000e+00</td>\n",
       "      <td>-1.000000e+00</td>\n",
       "      <td>0.000000e+00</td>\n",
       "    </tr>\n",
       "    <tr>\n",
       "      <th>25%</th>\n",
       "      <td>2.301644e+01</td>\n",
       "      <td>2.000000e+00</td>\n",
       "      <td>0.000000e+00</td>\n",
       "    </tr>\n",
       "    <tr>\n",
       "      <th>50%</th>\n",
       "      <td>3.402466e+01</td>\n",
       "      <td>2.000000e+00</td>\n",
       "      <td>0.000000e+00</td>\n",
       "    </tr>\n",
       "    <tr>\n",
       "      <th>75%</th>\n",
       "      <td>5.003288e+01</td>\n",
       "      <td>2.000000e+00</td>\n",
       "      <td>0.000000e+00</td>\n",
       "    </tr>\n",
       "    <tr>\n",
       "      <th>max</th>\n",
       "      <td>9.006301e+01</td>\n",
       "      <td>9.900000e+01</td>\n",
       "      <td>9.000000e+02</td>\n",
       "    </tr>\n",
       "  </tbody>\n",
       "</table>\n",
       "</div>"
      ],
      "text/plain": [
       "         age_acc_an           nbv        occutc\n",
       "count  2.291739e+06  2.291739e+06  2.291739e+06\n",
       "mean   3.755248e+01  2.133406e+00  1.529851e-01\n",
       "std    1.812063e+01  1.525731e+00  3.282505e+00\n",
       "min    1.000000e+00 -1.000000e+00  0.000000e+00\n",
       "25%    2.301644e+01  2.000000e+00  0.000000e+00\n",
       "50%    3.402466e+01  2.000000e+00  0.000000e+00\n",
       "75%    5.003288e+01  2.000000e+00  0.000000e+00\n",
       "max    9.006301e+01  9.900000e+01  9.000000e+02"
      ]
     },
     "execution_count": 58,
     "metadata": {},
     "output_type": "execute_result"
    }
   ],
   "source": [
    "# printing some statistics about the training data.\n",
    "data_numerical.describe()"
   ]
  },
  {
   "cell_type": "markdown",
   "id": "6a904dad",
   "metadata": {},
   "source": [
    "We see that the dataset's features span across different ranges. \n",
    "\n",
    "Tip\n",
    "\n",
    "Here are some reasons for scaling features:\n",
    "\n",
    "Models that rely on the distance between a pair of samples, for instance k-nearest neighbors, should be trained on normalized features to make each feature contribute approximately equally to the distance computations.\n",
    "Many models such as logistic regression use a numerical solver (based on gradient descent) to find their optimal parameters. This solver converges faster when the features are scaled.\n",
    "\n",
    "Whether or not a machine learning model requires scaling the features depends on the model family. Linear models such as logistic regression generally benefit from scaling the features while other models such as decision trees do not need such preprocessing (but will not suffer from it)."
   ]
  },
  {
   "cell_type": "markdown",
   "id": "aad6c6c3",
   "metadata": {},
   "source": [
    "Le paramètre shuffle permet de décider si les échantillons sont choisis aléatoirement (option par défaut), ou bien si la séparation doit se faire en respectant l'ordre des données indiquées. Ce dernier cas peut correspondre à des cas d'usage où la donnée traitée admet un ordre ou une dimension temporelle comme un cours financiers, parcours d'un utilisateur sur un site, etc.."
   ]
  },
  {
   "cell_type": "code",
   "execution_count": 59,
   "id": "e4d535b9",
   "metadata": {},
   "outputs": [],
   "source": [
    "\n",
    "\n",
    "#data_train, data_test, target_train, target_test = train_test_split(\n",
    "#    data_categorical, target, random_state=42, test_size=0.25)\n",
    "\n",
    "# split the array of features values, X, and target values, y, into training and test sets, \n",
    "#   ensuring that the same label proportions are reflected after the split\n",
    "X_train, X_test, y_train, y_test = train_test_split(X, y, test_size=0.2, stratify=y, random_state=259)\n",
    "\n",
    "#'Categorical' with dtype category does not support reduction 'sum'\n",
    "#print(\"Original proportion : \", np.sum(y)/len(y))\n",
    "#print(\"Training proportion : \", np.sum(y_train)/len(y_train))"
   ]
  },
  {
   "cell_type": "code",
   "execution_count": 60,
   "id": "e919f1a4",
   "metadata": {},
   "outputs": [
    {
     "name": "stdout",
     "output_type": "stream",
     "text": [
      "Number of samples in testing: 458348 => 20.0% of the original set\n",
      "Number of samples in training: 1833391 => 80.0% of the original set\n"
     ]
    }
   ],
   "source": [
    "print(f\"Number of samples in testing: {X_test.shape[0]} => \"\n",
    "      f\"{X_test.shape[0] / data_categorical.shape[0] * 100:.1f}% of the\"\n",
    "      f\" original set\")\n",
    "\n",
    "print(f\"Number of samples in training: {X_train.shape[0]} => \"\n",
    "      f\"{X_train.shape[0] / data_categorical.shape[0] * 100:.1f}% of the\"\n",
    "      f\" original set\")"
   ]
  },
  {
   "cell_type": "markdown",
   "id": "398bcdb6",
   "metadata": {},
   "source": [
    "## Histogram-based Gradient Boosting Classification\n",
    "\n",
    "###### Model Training\n",
    "\n",
    "Histogram-based Gradient Boosting Classification Tree is much faster than GradientBoostingClassifier for big datasets (n_samples >= 10 000)."
   ]
  },
  {
   "cell_type": "code",
   "execution_count": 61,
   "id": "0d72891c",
   "metadata": {},
   "outputs": [],
   "source": [
    "###### Standardisation\n",
    "numerical_preprocessor = StandardScaler()"
   ]
  },
  {
   "cell_type": "code",
   "execution_count": 62,
   "id": "62cf210b",
   "metadata": {},
   "outputs": [],
   "source": [
    "# Modèle : Histogram-based Gradient Boosting Classification Tree\n",
    "hist_gradient_boosting = HistGradientBoostingClassifier(random_state=52)   "
   ]
  },
  {
   "cell_type": "markdown",
   "id": "babc5f9a",
   "metadata": {},
   "source": [
    "###### Gradient boosting estimator with dropped categorical features"
   ]
  },
  {
   "cell_type": "code",
   "execution_count": 60,
   "id": "ca4b53a4",
   "metadata": {},
   "outputs": [],
   "source": [
    "# create an estimator where the categorical features are dropped\n",
    "dropper_categorical_preprocessor = make_column_transformer(\n",
    "    (\"drop\", make_column_selector(dtype_include=\"category\")), remainder=\"passthrough\"\n",
    ")\n",
    "\n",
    "dropper_preprocessor = ColumnTransformer([\n",
    "    ('dropper', dropper_categorical_preprocessor, categorical_columns),\n",
    "    ('standard_scaler', numerical_preprocessor, numerical_columns)])\n",
    "\n",
    "#  create our dropped model\n",
    "#hist_dropped = make_pipeline(\n",
    "#    dropper_preprocessor, HistGradientBoostingClassifier() #random_state=42)\n",
    "#)\n",
    "hist_dropped = Pipeline(steps=[\n",
    "    ('scaler', dropper_preprocessor), \n",
    "    ('model_hist_dropped', hist_gradient_boosting) \n",
    "])"
   ]
  },
  {
   "cell_type": "code",
   "execution_count": 61,
   "id": "c4499273",
   "metadata": {},
   "outputs": [
    {
     "data": {
      "text/html": [
       "<style>#sk-b07880d1-c672-452a-a965-3d8e8ada9045 {color: black;background-color: white;}#sk-b07880d1-c672-452a-a965-3d8e8ada9045 pre{padding: 0;}#sk-b07880d1-c672-452a-a965-3d8e8ada9045 div.sk-toggleable {background-color: white;}#sk-b07880d1-c672-452a-a965-3d8e8ada9045 label.sk-toggleable__label {cursor: pointer;display: block;width: 100%;margin-bottom: 0;padding: 0.3em;box-sizing: border-box;text-align: center;}#sk-b07880d1-c672-452a-a965-3d8e8ada9045 label.sk-toggleable__label-arrow:before {content: \"▸\";float: left;margin-right: 0.25em;color: #696969;}#sk-b07880d1-c672-452a-a965-3d8e8ada9045 label.sk-toggleable__label-arrow:hover:before {color: black;}#sk-b07880d1-c672-452a-a965-3d8e8ada9045 div.sk-estimator:hover label.sk-toggleable__label-arrow:before {color: black;}#sk-b07880d1-c672-452a-a965-3d8e8ada9045 div.sk-toggleable__content {max-height: 0;max-width: 0;overflow: hidden;text-align: left;background-color: #f0f8ff;}#sk-b07880d1-c672-452a-a965-3d8e8ada9045 div.sk-toggleable__content pre {margin: 0.2em;color: black;border-radius: 0.25em;background-color: #f0f8ff;}#sk-b07880d1-c672-452a-a965-3d8e8ada9045 input.sk-toggleable__control:checked~div.sk-toggleable__content {max-height: 200px;max-width: 100%;overflow: auto;}#sk-b07880d1-c672-452a-a965-3d8e8ada9045 input.sk-toggleable__control:checked~label.sk-toggleable__label-arrow:before {content: \"▾\";}#sk-b07880d1-c672-452a-a965-3d8e8ada9045 div.sk-estimator input.sk-toggleable__control:checked~label.sk-toggleable__label {background-color: #d4ebff;}#sk-b07880d1-c672-452a-a965-3d8e8ada9045 div.sk-label input.sk-toggleable__control:checked~label.sk-toggleable__label {background-color: #d4ebff;}#sk-b07880d1-c672-452a-a965-3d8e8ada9045 input.sk-hidden--visually {border: 0;clip: rect(1px 1px 1px 1px);clip: rect(1px, 1px, 1px, 1px);height: 1px;margin: -1px;overflow: hidden;padding: 0;position: absolute;width: 1px;}#sk-b07880d1-c672-452a-a965-3d8e8ada9045 div.sk-estimator {font-family: monospace;background-color: #f0f8ff;border: 1px dotted black;border-radius: 0.25em;box-sizing: border-box;margin-bottom: 0.5em;}#sk-b07880d1-c672-452a-a965-3d8e8ada9045 div.sk-estimator:hover {background-color: #d4ebff;}#sk-b07880d1-c672-452a-a965-3d8e8ada9045 div.sk-parallel-item::after {content: \"\";width: 100%;border-bottom: 1px solid gray;flex-grow: 1;}#sk-b07880d1-c672-452a-a965-3d8e8ada9045 div.sk-label:hover label.sk-toggleable__label {background-color: #d4ebff;}#sk-b07880d1-c672-452a-a965-3d8e8ada9045 div.sk-serial::before {content: \"\";position: absolute;border-left: 1px solid gray;box-sizing: border-box;top: 2em;bottom: 0;left: 50%;}#sk-b07880d1-c672-452a-a965-3d8e8ada9045 div.sk-serial {display: flex;flex-direction: column;align-items: center;background-color: white;padding-right: 0.2em;padding-left: 0.2em;}#sk-b07880d1-c672-452a-a965-3d8e8ada9045 div.sk-item {z-index: 1;}#sk-b07880d1-c672-452a-a965-3d8e8ada9045 div.sk-parallel {display: flex;align-items: stretch;justify-content: center;background-color: white;}#sk-b07880d1-c672-452a-a965-3d8e8ada9045 div.sk-parallel::before {content: \"\";position: absolute;border-left: 1px solid gray;box-sizing: border-box;top: 2em;bottom: 0;left: 50%;}#sk-b07880d1-c672-452a-a965-3d8e8ada9045 div.sk-parallel-item {display: flex;flex-direction: column;position: relative;background-color: white;}#sk-b07880d1-c672-452a-a965-3d8e8ada9045 div.sk-parallel-item:first-child::after {align-self: flex-end;width: 50%;}#sk-b07880d1-c672-452a-a965-3d8e8ada9045 div.sk-parallel-item:last-child::after {align-self: flex-start;width: 50%;}#sk-b07880d1-c672-452a-a965-3d8e8ada9045 div.sk-parallel-item:only-child::after {width: 0;}#sk-b07880d1-c672-452a-a965-3d8e8ada9045 div.sk-dashed-wrapped {border: 1px dashed gray;margin: 0 0.4em 0.5em 0.4em;box-sizing: border-box;padding-bottom: 0.4em;background-color: white;position: relative;}#sk-b07880d1-c672-452a-a965-3d8e8ada9045 div.sk-label label {font-family: monospace;font-weight: bold;background-color: white;display: inline-block;line-height: 1.2em;}#sk-b07880d1-c672-452a-a965-3d8e8ada9045 div.sk-label-container {position: relative;z-index: 2;text-align: center;}#sk-b07880d1-c672-452a-a965-3d8e8ada9045 div.sk-container {/* jupyter's `normalize.less` sets `[hidden] { display: none; }` but bootstrap.min.css set `[hidden] { display: none !important; }` so we also need the `!important` here to be able to override the default hidden behavior on the sphinx rendered scikit-learn.org. See: https://github.com/scikit-learn/scikit-learn/issues/21755 */display: inline-block !important;position: relative;}#sk-b07880d1-c672-452a-a965-3d8e8ada9045 div.sk-text-repr-fallback {display: none;}</style><div id=\"sk-b07880d1-c672-452a-a965-3d8e8ada9045\" class=\"sk-top-container\"><div class=\"sk-text-repr-fallback\"><pre>Pipeline(steps=[(&#x27;scaler&#x27;,\n",
       "                 ColumnTransformer(transformers=[(&#x27;dropper&#x27;,\n",
       "                                                  ColumnTransformer(remainder=&#x27;passthrough&#x27;,\n",
       "                                                                    transformers=[(&#x27;drop&#x27;,\n",
       "                                                                                   &#x27;drop&#x27;,\n",
       "                                                                                   &lt;sklearn.compose._column_transformer.make_column_selector object at 0x7fd4fe5358e0&gt;)]),\n",
       "                                                  [&#x27;place&#x27;, &#x27;catu&#x27;, &#x27;sexe&#x27;,\n",
       "                                                   &#x27;trajet&#x27;, &#x27;locp&#x27;, &#x27;actp&#x27;,\n",
       "                                                   &#x27;etatp&#x27;, &#x27;secuUn&#x27;,\n",
       "                                                   &#x27;secuDeux&#x27;, &#x27;tranches_ages&#x27;,\n",
       "                                                   &#x27;catr&#x27;, &#x27;circ&#x27;, &#x27;vosp&#x27;,\n",
       "                                                   &#x27;prof&#x27;, &#x27;plan&#x27;, &#x27;surf&#x27;,\n",
       "                                                   &#x27;infra&#x27;, &#x27;situ&#x27;, &#x27;senc&#x27;,\n",
       "                                                   &#x27;obs&#x27;, &#x27;obsm&#x27;, &#x27;choc&#x27;,\n",
       "                                                   &#x27;manv&#x27;, &#x27;catv_Label&#x27;, &#x27;lum&#x27;,\n",
       "                                                   &#x27;agg&#x27;, &#x27;int&#x27;, &#x27;atm&#x27;, &#x27;col&#x27;,\n",
       "                                                   &#x27;jour_de_la_semaine&#x27;, ...]),\n",
       "                                                 (&#x27;standard_scaler&#x27;,\n",
       "                                                  StandardScaler(),\n",
       "                                                  [&#x27;age_acc_an&#x27;, &#x27;nbv&#x27;,\n",
       "                                                   &#x27;occutc&#x27;])])),\n",
       "                (&#x27;model_hist_dropped&#x27;,\n",
       "                 HistGradientBoostingClassifier(random_state=52))])</pre><b>Please rerun this cell to show the HTML repr or trust the notebook.</b></div><div class=\"sk-container\" hidden><div class=\"sk-item sk-dashed-wrapped\"><div class=\"sk-label-container\"><div class=\"sk-label sk-toggleable\"><input class=\"sk-toggleable__control sk-hidden--visually\" id=\"3dbe2aa7-31f3-41b8-b5b8-50dda4ec5f5f\" type=\"checkbox\" ><label for=\"3dbe2aa7-31f3-41b8-b5b8-50dda4ec5f5f\" class=\"sk-toggleable__label sk-toggleable__label-arrow\">Pipeline</label><div class=\"sk-toggleable__content\"><pre>Pipeline(steps=[(&#x27;scaler&#x27;,\n",
       "                 ColumnTransformer(transformers=[(&#x27;dropper&#x27;,\n",
       "                                                  ColumnTransformer(remainder=&#x27;passthrough&#x27;,\n",
       "                                                                    transformers=[(&#x27;drop&#x27;,\n",
       "                                                                                   &#x27;drop&#x27;,\n",
       "                                                                                   &lt;sklearn.compose._column_transformer.make_column_selector object at 0x7fd4fe5358e0&gt;)]),\n",
       "                                                  [&#x27;place&#x27;, &#x27;catu&#x27;, &#x27;sexe&#x27;,\n",
       "                                                   &#x27;trajet&#x27;, &#x27;locp&#x27;, &#x27;actp&#x27;,\n",
       "                                                   &#x27;etatp&#x27;, &#x27;secuUn&#x27;,\n",
       "                                                   &#x27;secuDeux&#x27;, &#x27;tranches_ages&#x27;,\n",
       "                                                   &#x27;catr&#x27;, &#x27;circ&#x27;, &#x27;vosp&#x27;,\n",
       "                                                   &#x27;prof&#x27;, &#x27;plan&#x27;, &#x27;surf&#x27;,\n",
       "                                                   &#x27;infra&#x27;, &#x27;situ&#x27;, &#x27;senc&#x27;,\n",
       "                                                   &#x27;obs&#x27;, &#x27;obsm&#x27;, &#x27;choc&#x27;,\n",
       "                                                   &#x27;manv&#x27;, &#x27;catv_Label&#x27;, &#x27;lum&#x27;,\n",
       "                                                   &#x27;agg&#x27;, &#x27;int&#x27;, &#x27;atm&#x27;, &#x27;col&#x27;,\n",
       "                                                   &#x27;jour_de_la_semaine&#x27;, ...]),\n",
       "                                                 (&#x27;standard_scaler&#x27;,\n",
       "                                                  StandardScaler(),\n",
       "                                                  [&#x27;age_acc_an&#x27;, &#x27;nbv&#x27;,\n",
       "                                                   &#x27;occutc&#x27;])])),\n",
       "                (&#x27;model_hist_dropped&#x27;,\n",
       "                 HistGradientBoostingClassifier(random_state=52))])</pre></div></div></div><div class=\"sk-serial\"><div class=\"sk-item sk-dashed-wrapped\"><div class=\"sk-label-container\"><div class=\"sk-label sk-toggleable\"><input class=\"sk-toggleable__control sk-hidden--visually\" id=\"c0ed23ea-3538-4eca-a099-bfc6de3b4258\" type=\"checkbox\" ><label for=\"c0ed23ea-3538-4eca-a099-bfc6de3b4258\" class=\"sk-toggleable__label sk-toggleable__label-arrow\">scaler: ColumnTransformer</label><div class=\"sk-toggleable__content\"><pre>ColumnTransformer(transformers=[(&#x27;dropper&#x27;,\n",
       "                                 ColumnTransformer(remainder=&#x27;passthrough&#x27;,\n",
       "                                                   transformers=[(&#x27;drop&#x27;,\n",
       "                                                                  &#x27;drop&#x27;,\n",
       "                                                                  &lt;sklearn.compose._column_transformer.make_column_selector object at 0x7fd4fe5358e0&gt;)]),\n",
       "                                 [&#x27;place&#x27;, &#x27;catu&#x27;, &#x27;sexe&#x27;, &#x27;trajet&#x27;, &#x27;locp&#x27;,\n",
       "                                  &#x27;actp&#x27;, &#x27;etatp&#x27;, &#x27;secuUn&#x27;, &#x27;secuDeux&#x27;,\n",
       "                                  &#x27;tranches_ages&#x27;, &#x27;catr&#x27;, &#x27;circ&#x27;, &#x27;vosp&#x27;,\n",
       "                                  &#x27;prof&#x27;, &#x27;plan&#x27;, &#x27;surf&#x27;, &#x27;infra&#x27;, &#x27;situ&#x27;,\n",
       "                                  &#x27;senc&#x27;, &#x27;obs&#x27;, &#x27;obsm&#x27;, &#x27;choc&#x27;, &#x27;manv&#x27;,\n",
       "                                  &#x27;catv_Label&#x27;, &#x27;lum&#x27;, &#x27;agg&#x27;, &#x27;int&#x27;, &#x27;atm&#x27;,\n",
       "                                  &#x27;col&#x27;, &#x27;jour_de_la_semaine&#x27;, ...]),\n",
       "                                (&#x27;standard_scaler&#x27;, StandardScaler(),\n",
       "                                 [&#x27;age_acc_an&#x27;, &#x27;nbv&#x27;, &#x27;occutc&#x27;])])</pre></div></div></div><div class=\"sk-parallel\"><div class=\"sk-parallel-item\"><div class=\"sk-item\"><div class=\"sk-label-container\"><div class=\"sk-label sk-toggleable\"><input class=\"sk-toggleable__control sk-hidden--visually\" id=\"fd54eaa7-535c-4ecf-b3e2-2c35521d2baf\" type=\"checkbox\" ><label for=\"fd54eaa7-535c-4ecf-b3e2-2c35521d2baf\" class=\"sk-toggleable__label sk-toggleable__label-arrow\">dropper</label><div class=\"sk-toggleable__content\"><pre>[&#x27;place&#x27;, &#x27;catu&#x27;, &#x27;sexe&#x27;, &#x27;trajet&#x27;, &#x27;locp&#x27;, &#x27;actp&#x27;, &#x27;etatp&#x27;, &#x27;secuUn&#x27;, &#x27;secuDeux&#x27;, &#x27;tranches_ages&#x27;, &#x27;catr&#x27;, &#x27;circ&#x27;, &#x27;vosp&#x27;, &#x27;prof&#x27;, &#x27;plan&#x27;, &#x27;surf&#x27;, &#x27;infra&#x27;, &#x27;situ&#x27;, &#x27;senc&#x27;, &#x27;obs&#x27;, &#x27;obsm&#x27;, &#x27;choc&#x27;, &#x27;manv&#x27;, &#x27;catv_Label&#x27;, &#x27;lum&#x27;, &#x27;agg&#x27;, &#x27;int&#x27;, &#x27;atm&#x27;, &#x27;col&#x27;, &#x27;jour_de_la_semaine&#x27;, &#x27;heure&#x27;]</pre></div></div></div><div class=\"sk-serial\"><div class=\"sk-item sk-dashed-wrapped\"><div class=\"sk-parallel\"><div class=\"sk-parallel-item\"><div class=\"sk-item\"><div class=\"sk-label-container\"><div class=\"sk-label sk-toggleable\"><input class=\"sk-toggleable__control sk-hidden--visually\" id=\"b117148d-69a1-4505-9e1e-6aa08f553fd0\" type=\"checkbox\" ><label for=\"b117148d-69a1-4505-9e1e-6aa08f553fd0\" class=\"sk-toggleable__label sk-toggleable__label-arrow\">drop</label><div class=\"sk-toggleable__content\"><pre>&lt;sklearn.compose._column_transformer.make_column_selector object at 0x7fd4fe5358e0&gt;</pre></div></div></div><div class=\"sk-serial\"><div class=\"sk-item\"><div class=\"sk-estimator sk-toggleable\"><input class=\"sk-toggleable__control sk-hidden--visually\" id=\"70103f25-4ad9-4a8e-9811-7353c58128ef\" type=\"checkbox\" ><label for=\"70103f25-4ad9-4a8e-9811-7353c58128ef\" class=\"sk-toggleable__label sk-toggleable__label-arrow\">drop</label><div class=\"sk-toggleable__content\"><pre>drop</pre></div></div></div></div></div></div><div class=\"sk-parallel-item\"><div class=\"sk-item\"><div class=\"sk-label-container\"><div class=\"sk-label sk-toggleable\"><input class=\"sk-toggleable__control sk-hidden--visually\" id=\"c17590a5-05a0-481b-9d73-e7ebabfc3d41\" type=\"checkbox\" ><label for=\"c17590a5-05a0-481b-9d73-e7ebabfc3d41\" class=\"sk-toggleable__label sk-toggleable__label-arrow\">remainder</label><div class=\"sk-toggleable__content\"><pre></pre></div></div></div><div class=\"sk-serial\"><div class=\"sk-item\"><div class=\"sk-estimator sk-toggleable\"><input class=\"sk-toggleable__control sk-hidden--visually\" id=\"811ad23d-1a77-4dd2-a81a-301b4afdbbc4\" type=\"checkbox\" ><label for=\"811ad23d-1a77-4dd2-a81a-301b4afdbbc4\" class=\"sk-toggleable__label sk-toggleable__label-arrow\">passthrough</label><div class=\"sk-toggleable__content\"><pre>passthrough</pre></div></div></div></div></div></div></div></div></div></div></div><div class=\"sk-parallel-item\"><div class=\"sk-item\"><div class=\"sk-label-container\"><div class=\"sk-label sk-toggleable\"><input class=\"sk-toggleable__control sk-hidden--visually\" id=\"5b93e36e-0c6a-4541-889c-b8a70a12240e\" type=\"checkbox\" ><label for=\"5b93e36e-0c6a-4541-889c-b8a70a12240e\" class=\"sk-toggleable__label sk-toggleable__label-arrow\">standard_scaler</label><div class=\"sk-toggleable__content\"><pre>[&#x27;age_acc_an&#x27;, &#x27;nbv&#x27;, &#x27;occutc&#x27;]</pre></div></div></div><div class=\"sk-serial\"><div class=\"sk-item\"><div class=\"sk-estimator sk-toggleable\"><input class=\"sk-toggleable__control sk-hidden--visually\" id=\"9c50dd72-b303-49a9-a437-1cf2715e8bfa\" type=\"checkbox\" ><label for=\"9c50dd72-b303-49a9-a437-1cf2715e8bfa\" class=\"sk-toggleable__label sk-toggleable__label-arrow\">StandardScaler</label><div class=\"sk-toggleable__content\"><pre>StandardScaler()</pre></div></div></div></div></div></div></div></div><div class=\"sk-item\"><div class=\"sk-estimator sk-toggleable\"><input class=\"sk-toggleable__control sk-hidden--visually\" id=\"5bca15b9-513c-4d93-958e-40a0b0859802\" type=\"checkbox\" ><label for=\"5bca15b9-513c-4d93-958e-40a0b0859802\" class=\"sk-toggleable__label sk-toggleable__label-arrow\">HistGradientBoostingClassifier</label><div class=\"sk-toggleable__content\"><pre>HistGradientBoostingClassifier(random_state=52)</pre></div></div></div></div></div></div></div>"
      ],
      "text/plain": [
       "Pipeline(steps=[('scaler',\n",
       "                 ColumnTransformer(transformers=[('dropper',\n",
       "                                                  ColumnTransformer(remainder='passthrough',\n",
       "                                                                    transformers=[('drop',\n",
       "                                                                                   'drop',\n",
       "                                                                                   <sklearn.compose._column_transformer.make_column_selector object at 0x7fd4fe5358e0>)]),\n",
       "                                                  ['place', 'catu', 'sexe',\n",
       "                                                   'trajet', 'locp', 'actp',\n",
       "                                                   'etatp', 'secuUn',\n",
       "                                                   'secuDeux', 'tranches_ages',\n",
       "                                                   'catr', 'circ', 'vosp',\n",
       "                                                   'prof', 'plan', 'surf',\n",
       "                                                   'infra', 'situ', 'senc',\n",
       "                                                   'obs', 'obsm', 'choc',\n",
       "                                                   'manv', 'catv_Label', 'lum',\n",
       "                                                   'agg', 'int', 'atm', 'col',\n",
       "                                                   'jour_de_la_semaine', ...]),\n",
       "                                                 ('standard_scaler',\n",
       "                                                  StandardScaler(),\n",
       "                                                  ['age_acc_an', 'nbv',\n",
       "                                                   'occutc'])])),\n",
       "                ('model_hist_dropped',\n",
       "                 HistGradientBoostingClassifier(random_state=52))])"
      ]
     },
     "execution_count": 61,
     "metadata": {},
     "output_type": "execute_result"
    }
   ],
   "source": [
    "set_config(display='diagram')\n",
    "hist_dropped"
   ]
  },
  {
   "cell_type": "markdown",
   "id": "48dd6660",
   "metadata": {},
   "source": [
    "###### Gradient boosting estimator with one-hot encoding"
   ]
  },
  {
   "cell_type": "code",
   "execution_count": 62,
   "id": "a72149d9",
   "metadata": {},
   "outputs": [],
   "source": [
    "one_hot_categorical_preprocessor = OneHotEncoder(sparse=False, \n",
    "                                                 handle_unknown=\"ignore\")# to solve the potential issues due to rare categories\n",
    "#numerical_preprocessor = StandardScaler()\n",
    "\n",
    "#preprocessor = ColumnTransformer([\n",
    "#    ('one-hot-encoder', categorical_preprocessor, categorical_columns),\n",
    "#    ('standard_scaler', numerical_preprocessor, numerical_columns)])\n",
    "\n",
    "\n",
    "# one-hot encode the categorical features and let the rest of the numerical data to passthrough\n",
    "#one_hot_categorical_preprocessor = make_column_transformer(\n",
    "#    (\n",
    "#        OneHotEncoder(handle_unknown=\"ignore\", sparse_output=False, handle_unknown=\"ignore\"),#sparse_output=False, \n",
    "#        make_column_selector(dtype_include=\"category\"),\n",
    "#    ),\n",
    "#    remainder=\"passthrough\",\n",
    "#    # Use short feature names to make it easier to specify the categorical\n",
    "#    # variables in the HistGradientBoostingClassifier in the next step\n",
    "#    # of the pipeline.\n",
    "#    verbose_feature_names_out=False,\n",
    "#)\n",
    "\n",
    "one_hot_preprocessor = ColumnTransformer([\n",
    "    ('one_hot_encoder', one_hot_categorical_preprocessor, categorical_columns),\n",
    "    ('standard_scaler', numerical_preprocessor, numerical_columns)])\n",
    "\n",
    "#  create our model\n",
    "hist_one_hot = Pipeline(steps=[\n",
    "    ('one_hot_preprocessor', one_hot_preprocessor), \n",
    "    ('model_hist_one_hot', hist_gradient_boosting)\n",
    "])"
   ]
  },
  {
   "cell_type": "code",
   "execution_count": 63,
   "id": "18a48f5f",
   "metadata": {},
   "outputs": [
    {
     "data": {
      "text/html": [
       "<style>#sk-7852956f-ff72-47b8-91f9-9e08e4b8e942 {color: black;background-color: white;}#sk-7852956f-ff72-47b8-91f9-9e08e4b8e942 pre{padding: 0;}#sk-7852956f-ff72-47b8-91f9-9e08e4b8e942 div.sk-toggleable {background-color: white;}#sk-7852956f-ff72-47b8-91f9-9e08e4b8e942 label.sk-toggleable__label {cursor: pointer;display: block;width: 100%;margin-bottom: 0;padding: 0.3em;box-sizing: border-box;text-align: center;}#sk-7852956f-ff72-47b8-91f9-9e08e4b8e942 label.sk-toggleable__label-arrow:before {content: \"▸\";float: left;margin-right: 0.25em;color: #696969;}#sk-7852956f-ff72-47b8-91f9-9e08e4b8e942 label.sk-toggleable__label-arrow:hover:before {color: black;}#sk-7852956f-ff72-47b8-91f9-9e08e4b8e942 div.sk-estimator:hover label.sk-toggleable__label-arrow:before {color: black;}#sk-7852956f-ff72-47b8-91f9-9e08e4b8e942 div.sk-toggleable__content {max-height: 0;max-width: 0;overflow: hidden;text-align: left;background-color: #f0f8ff;}#sk-7852956f-ff72-47b8-91f9-9e08e4b8e942 div.sk-toggleable__content pre {margin: 0.2em;color: black;border-radius: 0.25em;background-color: #f0f8ff;}#sk-7852956f-ff72-47b8-91f9-9e08e4b8e942 input.sk-toggleable__control:checked~div.sk-toggleable__content {max-height: 200px;max-width: 100%;overflow: auto;}#sk-7852956f-ff72-47b8-91f9-9e08e4b8e942 input.sk-toggleable__control:checked~label.sk-toggleable__label-arrow:before {content: \"▾\";}#sk-7852956f-ff72-47b8-91f9-9e08e4b8e942 div.sk-estimator input.sk-toggleable__control:checked~label.sk-toggleable__label {background-color: #d4ebff;}#sk-7852956f-ff72-47b8-91f9-9e08e4b8e942 div.sk-label input.sk-toggleable__control:checked~label.sk-toggleable__label {background-color: #d4ebff;}#sk-7852956f-ff72-47b8-91f9-9e08e4b8e942 input.sk-hidden--visually {border: 0;clip: rect(1px 1px 1px 1px);clip: rect(1px, 1px, 1px, 1px);height: 1px;margin: -1px;overflow: hidden;padding: 0;position: absolute;width: 1px;}#sk-7852956f-ff72-47b8-91f9-9e08e4b8e942 div.sk-estimator {font-family: monospace;background-color: #f0f8ff;border: 1px dotted black;border-radius: 0.25em;box-sizing: border-box;margin-bottom: 0.5em;}#sk-7852956f-ff72-47b8-91f9-9e08e4b8e942 div.sk-estimator:hover {background-color: #d4ebff;}#sk-7852956f-ff72-47b8-91f9-9e08e4b8e942 div.sk-parallel-item::after {content: \"\";width: 100%;border-bottom: 1px solid gray;flex-grow: 1;}#sk-7852956f-ff72-47b8-91f9-9e08e4b8e942 div.sk-label:hover label.sk-toggleable__label {background-color: #d4ebff;}#sk-7852956f-ff72-47b8-91f9-9e08e4b8e942 div.sk-serial::before {content: \"\";position: absolute;border-left: 1px solid gray;box-sizing: border-box;top: 2em;bottom: 0;left: 50%;}#sk-7852956f-ff72-47b8-91f9-9e08e4b8e942 div.sk-serial {display: flex;flex-direction: column;align-items: center;background-color: white;padding-right: 0.2em;padding-left: 0.2em;}#sk-7852956f-ff72-47b8-91f9-9e08e4b8e942 div.sk-item {z-index: 1;}#sk-7852956f-ff72-47b8-91f9-9e08e4b8e942 div.sk-parallel {display: flex;align-items: stretch;justify-content: center;background-color: white;}#sk-7852956f-ff72-47b8-91f9-9e08e4b8e942 div.sk-parallel::before {content: \"\";position: absolute;border-left: 1px solid gray;box-sizing: border-box;top: 2em;bottom: 0;left: 50%;}#sk-7852956f-ff72-47b8-91f9-9e08e4b8e942 div.sk-parallel-item {display: flex;flex-direction: column;position: relative;background-color: white;}#sk-7852956f-ff72-47b8-91f9-9e08e4b8e942 div.sk-parallel-item:first-child::after {align-self: flex-end;width: 50%;}#sk-7852956f-ff72-47b8-91f9-9e08e4b8e942 div.sk-parallel-item:last-child::after {align-self: flex-start;width: 50%;}#sk-7852956f-ff72-47b8-91f9-9e08e4b8e942 div.sk-parallel-item:only-child::after {width: 0;}#sk-7852956f-ff72-47b8-91f9-9e08e4b8e942 div.sk-dashed-wrapped {border: 1px dashed gray;margin: 0 0.4em 0.5em 0.4em;box-sizing: border-box;padding-bottom: 0.4em;background-color: white;position: relative;}#sk-7852956f-ff72-47b8-91f9-9e08e4b8e942 div.sk-label label {font-family: monospace;font-weight: bold;background-color: white;display: inline-block;line-height: 1.2em;}#sk-7852956f-ff72-47b8-91f9-9e08e4b8e942 div.sk-label-container {position: relative;z-index: 2;text-align: center;}#sk-7852956f-ff72-47b8-91f9-9e08e4b8e942 div.sk-container {/* jupyter's `normalize.less` sets `[hidden] { display: none; }` but bootstrap.min.css set `[hidden] { display: none !important; }` so we also need the `!important` here to be able to override the default hidden behavior on the sphinx rendered scikit-learn.org. See: https://github.com/scikit-learn/scikit-learn/issues/21755 */display: inline-block !important;position: relative;}#sk-7852956f-ff72-47b8-91f9-9e08e4b8e942 div.sk-text-repr-fallback {display: none;}</style><div id=\"sk-7852956f-ff72-47b8-91f9-9e08e4b8e942\" class=\"sk-top-container\"><div class=\"sk-text-repr-fallback\"><pre>Pipeline(steps=[(&#x27;one_hot_preprocessor&#x27;,\n",
       "                 ColumnTransformer(transformers=[(&#x27;one_hot_encoder&#x27;,\n",
       "                                                  OneHotEncoder(handle_unknown=&#x27;ignore&#x27;,\n",
       "                                                                sparse=False),\n",
       "                                                  [&#x27;place&#x27;, &#x27;catu&#x27;, &#x27;sexe&#x27;,\n",
       "                                                   &#x27;trajet&#x27;, &#x27;locp&#x27;, &#x27;actp&#x27;,\n",
       "                                                   &#x27;etatp&#x27;, &#x27;secuUn&#x27;,\n",
       "                                                   &#x27;secuDeux&#x27;, &#x27;tranches_ages&#x27;,\n",
       "                                                   &#x27;catr&#x27;, &#x27;circ&#x27;, &#x27;vosp&#x27;,\n",
       "                                                   &#x27;prof&#x27;, &#x27;plan&#x27;, &#x27;surf&#x27;,\n",
       "                                                   &#x27;infra&#x27;, &#x27;situ&#x27;, &#x27;senc&#x27;,\n",
       "                                                   &#x27;obs&#x27;, &#x27;obsm&#x27;, &#x27;choc&#x27;,\n",
       "                                                   &#x27;manv&#x27;, &#x27;catv_Label&#x27;, &#x27;lum&#x27;,\n",
       "                                                   &#x27;agg&#x27;, &#x27;int&#x27;, &#x27;atm&#x27;, &#x27;col&#x27;,\n",
       "                                                   &#x27;jour_de_la_semaine&#x27;, ...]),\n",
       "                                                 (&#x27;standard_scaler&#x27;,\n",
       "                                                  StandardScaler(),\n",
       "                                                  [&#x27;age_acc_an&#x27;, &#x27;nbv&#x27;,\n",
       "                                                   &#x27;occutc&#x27;])])),\n",
       "                (&#x27;model_hist_one_hot&#x27;,\n",
       "                 HistGradientBoostingClassifier(random_state=52))])</pre><b>Please rerun this cell to show the HTML repr or trust the notebook.</b></div><div class=\"sk-container\" hidden><div class=\"sk-item sk-dashed-wrapped\"><div class=\"sk-label-container\"><div class=\"sk-label sk-toggleable\"><input class=\"sk-toggleable__control sk-hidden--visually\" id=\"f8156166-0fa7-4046-9e9d-9f0e143aa106\" type=\"checkbox\" ><label for=\"f8156166-0fa7-4046-9e9d-9f0e143aa106\" class=\"sk-toggleable__label sk-toggleable__label-arrow\">Pipeline</label><div class=\"sk-toggleable__content\"><pre>Pipeline(steps=[(&#x27;one_hot_preprocessor&#x27;,\n",
       "                 ColumnTransformer(transformers=[(&#x27;one_hot_encoder&#x27;,\n",
       "                                                  OneHotEncoder(handle_unknown=&#x27;ignore&#x27;,\n",
       "                                                                sparse=False),\n",
       "                                                  [&#x27;place&#x27;, &#x27;catu&#x27;, &#x27;sexe&#x27;,\n",
       "                                                   &#x27;trajet&#x27;, &#x27;locp&#x27;, &#x27;actp&#x27;,\n",
       "                                                   &#x27;etatp&#x27;, &#x27;secuUn&#x27;,\n",
       "                                                   &#x27;secuDeux&#x27;, &#x27;tranches_ages&#x27;,\n",
       "                                                   &#x27;catr&#x27;, &#x27;circ&#x27;, &#x27;vosp&#x27;,\n",
       "                                                   &#x27;prof&#x27;, &#x27;plan&#x27;, &#x27;surf&#x27;,\n",
       "                                                   &#x27;infra&#x27;, &#x27;situ&#x27;, &#x27;senc&#x27;,\n",
       "                                                   &#x27;obs&#x27;, &#x27;obsm&#x27;, &#x27;choc&#x27;,\n",
       "                                                   &#x27;manv&#x27;, &#x27;catv_Label&#x27;, &#x27;lum&#x27;,\n",
       "                                                   &#x27;agg&#x27;, &#x27;int&#x27;, &#x27;atm&#x27;, &#x27;col&#x27;,\n",
       "                                                   &#x27;jour_de_la_semaine&#x27;, ...]),\n",
       "                                                 (&#x27;standard_scaler&#x27;,\n",
       "                                                  StandardScaler(),\n",
       "                                                  [&#x27;age_acc_an&#x27;, &#x27;nbv&#x27;,\n",
       "                                                   &#x27;occutc&#x27;])])),\n",
       "                (&#x27;model_hist_one_hot&#x27;,\n",
       "                 HistGradientBoostingClassifier(random_state=52))])</pre></div></div></div><div class=\"sk-serial\"><div class=\"sk-item sk-dashed-wrapped\"><div class=\"sk-label-container\"><div class=\"sk-label sk-toggleable\"><input class=\"sk-toggleable__control sk-hidden--visually\" id=\"4e0c43df-8252-42ca-8a5d-420b20b44742\" type=\"checkbox\" ><label for=\"4e0c43df-8252-42ca-8a5d-420b20b44742\" class=\"sk-toggleable__label sk-toggleable__label-arrow\">one_hot_preprocessor: ColumnTransformer</label><div class=\"sk-toggleable__content\"><pre>ColumnTransformer(transformers=[(&#x27;one_hot_encoder&#x27;,\n",
       "                                 OneHotEncoder(handle_unknown=&#x27;ignore&#x27;,\n",
       "                                               sparse=False),\n",
       "                                 [&#x27;place&#x27;, &#x27;catu&#x27;, &#x27;sexe&#x27;, &#x27;trajet&#x27;, &#x27;locp&#x27;,\n",
       "                                  &#x27;actp&#x27;, &#x27;etatp&#x27;, &#x27;secuUn&#x27;, &#x27;secuDeux&#x27;,\n",
       "                                  &#x27;tranches_ages&#x27;, &#x27;catr&#x27;, &#x27;circ&#x27;, &#x27;vosp&#x27;,\n",
       "                                  &#x27;prof&#x27;, &#x27;plan&#x27;, &#x27;surf&#x27;, &#x27;infra&#x27;, &#x27;situ&#x27;,\n",
       "                                  &#x27;senc&#x27;, &#x27;obs&#x27;, &#x27;obsm&#x27;, &#x27;choc&#x27;, &#x27;manv&#x27;,\n",
       "                                  &#x27;catv_Label&#x27;, &#x27;lum&#x27;, &#x27;agg&#x27;, &#x27;int&#x27;, &#x27;atm&#x27;,\n",
       "                                  &#x27;col&#x27;, &#x27;jour_de_la_semaine&#x27;, ...]),\n",
       "                                (&#x27;standard_scaler&#x27;, StandardScaler(),\n",
       "                                 [&#x27;age_acc_an&#x27;, &#x27;nbv&#x27;, &#x27;occutc&#x27;])])</pre></div></div></div><div class=\"sk-parallel\"><div class=\"sk-parallel-item\"><div class=\"sk-item\"><div class=\"sk-label-container\"><div class=\"sk-label sk-toggleable\"><input class=\"sk-toggleable__control sk-hidden--visually\" id=\"bb2fea54-ef84-4c5c-95a8-268f2dc49436\" type=\"checkbox\" ><label for=\"bb2fea54-ef84-4c5c-95a8-268f2dc49436\" class=\"sk-toggleable__label sk-toggleable__label-arrow\">one_hot_encoder</label><div class=\"sk-toggleable__content\"><pre>[&#x27;place&#x27;, &#x27;catu&#x27;, &#x27;sexe&#x27;, &#x27;trajet&#x27;, &#x27;locp&#x27;, &#x27;actp&#x27;, &#x27;etatp&#x27;, &#x27;secuUn&#x27;, &#x27;secuDeux&#x27;, &#x27;tranches_ages&#x27;, &#x27;catr&#x27;, &#x27;circ&#x27;, &#x27;vosp&#x27;, &#x27;prof&#x27;, &#x27;plan&#x27;, &#x27;surf&#x27;, &#x27;infra&#x27;, &#x27;situ&#x27;, &#x27;senc&#x27;, &#x27;obs&#x27;, &#x27;obsm&#x27;, &#x27;choc&#x27;, &#x27;manv&#x27;, &#x27;catv_Label&#x27;, &#x27;lum&#x27;, &#x27;agg&#x27;, &#x27;int&#x27;, &#x27;atm&#x27;, &#x27;col&#x27;, &#x27;jour_de_la_semaine&#x27;, &#x27;heure&#x27;]</pre></div></div></div><div class=\"sk-serial\"><div class=\"sk-item\"><div class=\"sk-estimator sk-toggleable\"><input class=\"sk-toggleable__control sk-hidden--visually\" id=\"2f393287-155a-4977-ad4c-49de9cadf5d0\" type=\"checkbox\" ><label for=\"2f393287-155a-4977-ad4c-49de9cadf5d0\" class=\"sk-toggleable__label sk-toggleable__label-arrow\">OneHotEncoder</label><div class=\"sk-toggleable__content\"><pre>OneHotEncoder(handle_unknown=&#x27;ignore&#x27;, sparse=False)</pre></div></div></div></div></div></div><div class=\"sk-parallel-item\"><div class=\"sk-item\"><div class=\"sk-label-container\"><div class=\"sk-label sk-toggleable\"><input class=\"sk-toggleable__control sk-hidden--visually\" id=\"9b35d74c-2f0f-49c7-844f-f5112a5f69e5\" type=\"checkbox\" ><label for=\"9b35d74c-2f0f-49c7-844f-f5112a5f69e5\" class=\"sk-toggleable__label sk-toggleable__label-arrow\">standard_scaler</label><div class=\"sk-toggleable__content\"><pre>[&#x27;age_acc_an&#x27;, &#x27;nbv&#x27;, &#x27;occutc&#x27;]</pre></div></div></div><div class=\"sk-serial\"><div class=\"sk-item\"><div class=\"sk-estimator sk-toggleable\"><input class=\"sk-toggleable__control sk-hidden--visually\" id=\"29ae1a72-1734-4717-9e2e-e635a4f99e5f\" type=\"checkbox\" ><label for=\"29ae1a72-1734-4717-9e2e-e635a4f99e5f\" class=\"sk-toggleable__label sk-toggleable__label-arrow\">StandardScaler</label><div class=\"sk-toggleable__content\"><pre>StandardScaler()</pre></div></div></div></div></div></div></div></div><div class=\"sk-item\"><div class=\"sk-estimator sk-toggleable\"><input class=\"sk-toggleable__control sk-hidden--visually\" id=\"1441550f-68b5-405a-a2d2-8ec00ec87c53\" type=\"checkbox\" ><label for=\"1441550f-68b5-405a-a2d2-8ec00ec87c53\" class=\"sk-toggleable__label sk-toggleable__label-arrow\">HistGradientBoostingClassifier</label><div class=\"sk-toggleable__content\"><pre>HistGradientBoostingClassifier(random_state=52)</pre></div></div></div></div></div></div></div>"
      ],
      "text/plain": [
       "Pipeline(steps=[('one_hot_preprocessor',\n",
       "                 ColumnTransformer(transformers=[('one_hot_encoder',\n",
       "                                                  OneHotEncoder(handle_unknown='ignore',\n",
       "                                                                sparse=False),\n",
       "                                                  ['place', 'catu', 'sexe',\n",
       "                                                   'trajet', 'locp', 'actp',\n",
       "                                                   'etatp', 'secuUn',\n",
       "                                                   'secuDeux', 'tranches_ages',\n",
       "                                                   'catr', 'circ', 'vosp',\n",
       "                                                   'prof', 'plan', 'surf',\n",
       "                                                   'infra', 'situ', 'senc',\n",
       "                                                   'obs', 'obsm', 'choc',\n",
       "                                                   'manv', 'catv_Label', 'lum',\n",
       "                                                   'agg', 'int', 'atm', 'col',\n",
       "                                                   'jour_de_la_semaine', ...]),\n",
       "                                                 ('standard_scaler',\n",
       "                                                  StandardScaler(),\n",
       "                                                  ['age_acc_an', 'nbv',\n",
       "                                                   'occutc'])])),\n",
       "                ('model_hist_one_hot',\n",
       "                 HistGradientBoostingClassifier(random_state=52))])"
      ]
     },
     "execution_count": 63,
     "metadata": {},
     "output_type": "execute_result"
    }
   ],
   "source": [
    "set_config(display='diagram')\n",
    "hist_one_hot"
   ]
  },
  {
   "cell_type": "markdown",
   "id": "2fc53dd9",
   "metadata": {},
   "source": [
    "###### Gradient boosting estimator with ordinal encoding"
   ]
  },
  {
   "cell_type": "code",
   "execution_count": 63,
   "id": "6bcc5d28",
   "metadata": {},
   "outputs": [],
   "source": [
    "# pipeline that will treat categorical features as if they were ordered quantities\n",
    "# create the transformer and associate each of these preprocessors with their respective columns.\n",
    "ordinal_categorical_preprocessor = make_column_transformer(\n",
    "    (\n",
    "        OrdinalEncoder(handle_unknown=\"use_encoded_value\", unknown_value=np.nan),\n",
    "        make_column_selector(dtype_include=\"category\"),\n",
    "    ),\n",
    "    remainder=\"passthrough\",\n",
    "    # Use short feature names to make it easier to specify the categorical\n",
    "    # variables in the HistGradientBoostingRegressor in the next step\n",
    "    # of the pipeline.\n",
    "    verbose_feature_names_out=False,\n",
    ")\n",
    "\n",
    "#hist_ordinal = make_pipeline(\n",
    "#    ordinal_encoder, HistGradientBoostingClassifier() #(random_state=42)\n",
    "#)\n",
    "\n",
    "# create the transformer and associate each of these preprocessors with their respective columns.\n",
    "#categorical_preprocessor = OrdinalEncoder(handle_unknown=\"use_encoded_value\",  unknown_value=-1)\n",
    "\n",
    "ordinal_preprocessor = ColumnTransformer([\n",
    "    ('ordinal_encoder', ordinal_categorical_preprocessor, categorical_columns),\n",
    "    ('standard_scaler', numerical_preprocessor, numerical_columns)])\n",
    "\n",
    "#  create our model\n",
    "hist_ordinal = Pipeline(steps=[\n",
    "    ('ordinal_preprocessor', ordinal_preprocessor), \n",
    "    ('model_hist_ordinal', hist_gradient_boosting)\n",
    "])"
   ]
  },
  {
   "cell_type": "code",
   "execution_count": 64,
   "id": "45539dee",
   "metadata": {},
   "outputs": [
    {
     "data": {
      "text/html": [
       "<style>#sk-0d238748-900d-42bc-bf64-84b8314e63fa {color: black;background-color: white;}#sk-0d238748-900d-42bc-bf64-84b8314e63fa pre{padding: 0;}#sk-0d238748-900d-42bc-bf64-84b8314e63fa div.sk-toggleable {background-color: white;}#sk-0d238748-900d-42bc-bf64-84b8314e63fa label.sk-toggleable__label {cursor: pointer;display: block;width: 100%;margin-bottom: 0;padding: 0.3em;box-sizing: border-box;text-align: center;}#sk-0d238748-900d-42bc-bf64-84b8314e63fa label.sk-toggleable__label-arrow:before {content: \"▸\";float: left;margin-right: 0.25em;color: #696969;}#sk-0d238748-900d-42bc-bf64-84b8314e63fa label.sk-toggleable__label-arrow:hover:before {color: black;}#sk-0d238748-900d-42bc-bf64-84b8314e63fa div.sk-estimator:hover label.sk-toggleable__label-arrow:before {color: black;}#sk-0d238748-900d-42bc-bf64-84b8314e63fa div.sk-toggleable__content {max-height: 0;max-width: 0;overflow: hidden;text-align: left;background-color: #f0f8ff;}#sk-0d238748-900d-42bc-bf64-84b8314e63fa div.sk-toggleable__content pre {margin: 0.2em;color: black;border-radius: 0.25em;background-color: #f0f8ff;}#sk-0d238748-900d-42bc-bf64-84b8314e63fa input.sk-toggleable__control:checked~div.sk-toggleable__content {max-height: 200px;max-width: 100%;overflow: auto;}#sk-0d238748-900d-42bc-bf64-84b8314e63fa input.sk-toggleable__control:checked~label.sk-toggleable__label-arrow:before {content: \"▾\";}#sk-0d238748-900d-42bc-bf64-84b8314e63fa div.sk-estimator input.sk-toggleable__control:checked~label.sk-toggleable__label {background-color: #d4ebff;}#sk-0d238748-900d-42bc-bf64-84b8314e63fa div.sk-label input.sk-toggleable__control:checked~label.sk-toggleable__label {background-color: #d4ebff;}#sk-0d238748-900d-42bc-bf64-84b8314e63fa input.sk-hidden--visually {border: 0;clip: rect(1px 1px 1px 1px);clip: rect(1px, 1px, 1px, 1px);height: 1px;margin: -1px;overflow: hidden;padding: 0;position: absolute;width: 1px;}#sk-0d238748-900d-42bc-bf64-84b8314e63fa div.sk-estimator {font-family: monospace;background-color: #f0f8ff;border: 1px dotted black;border-radius: 0.25em;box-sizing: border-box;margin-bottom: 0.5em;}#sk-0d238748-900d-42bc-bf64-84b8314e63fa div.sk-estimator:hover {background-color: #d4ebff;}#sk-0d238748-900d-42bc-bf64-84b8314e63fa div.sk-parallel-item::after {content: \"\";width: 100%;border-bottom: 1px solid gray;flex-grow: 1;}#sk-0d238748-900d-42bc-bf64-84b8314e63fa div.sk-label:hover label.sk-toggleable__label {background-color: #d4ebff;}#sk-0d238748-900d-42bc-bf64-84b8314e63fa div.sk-serial::before {content: \"\";position: absolute;border-left: 1px solid gray;box-sizing: border-box;top: 2em;bottom: 0;left: 50%;}#sk-0d238748-900d-42bc-bf64-84b8314e63fa div.sk-serial {display: flex;flex-direction: column;align-items: center;background-color: white;padding-right: 0.2em;padding-left: 0.2em;}#sk-0d238748-900d-42bc-bf64-84b8314e63fa div.sk-item {z-index: 1;}#sk-0d238748-900d-42bc-bf64-84b8314e63fa div.sk-parallel {display: flex;align-items: stretch;justify-content: center;background-color: white;}#sk-0d238748-900d-42bc-bf64-84b8314e63fa div.sk-parallel::before {content: \"\";position: absolute;border-left: 1px solid gray;box-sizing: border-box;top: 2em;bottom: 0;left: 50%;}#sk-0d238748-900d-42bc-bf64-84b8314e63fa div.sk-parallel-item {display: flex;flex-direction: column;position: relative;background-color: white;}#sk-0d238748-900d-42bc-bf64-84b8314e63fa div.sk-parallel-item:first-child::after {align-self: flex-end;width: 50%;}#sk-0d238748-900d-42bc-bf64-84b8314e63fa div.sk-parallel-item:last-child::after {align-self: flex-start;width: 50%;}#sk-0d238748-900d-42bc-bf64-84b8314e63fa div.sk-parallel-item:only-child::after {width: 0;}#sk-0d238748-900d-42bc-bf64-84b8314e63fa div.sk-dashed-wrapped {border: 1px dashed gray;margin: 0 0.4em 0.5em 0.4em;box-sizing: border-box;padding-bottom: 0.4em;background-color: white;position: relative;}#sk-0d238748-900d-42bc-bf64-84b8314e63fa div.sk-label label {font-family: monospace;font-weight: bold;background-color: white;display: inline-block;line-height: 1.2em;}#sk-0d238748-900d-42bc-bf64-84b8314e63fa div.sk-label-container {position: relative;z-index: 2;text-align: center;}#sk-0d238748-900d-42bc-bf64-84b8314e63fa div.sk-container {/* jupyter's `normalize.less` sets `[hidden] { display: none; }` but bootstrap.min.css set `[hidden] { display: none !important; }` so we also need the `!important` here to be able to override the default hidden behavior on the sphinx rendered scikit-learn.org. See: https://github.com/scikit-learn/scikit-learn/issues/21755 */display: inline-block !important;position: relative;}#sk-0d238748-900d-42bc-bf64-84b8314e63fa div.sk-text-repr-fallback {display: none;}</style><div id=\"sk-0d238748-900d-42bc-bf64-84b8314e63fa\" class=\"sk-top-container\"><div class=\"sk-text-repr-fallback\"><pre>Pipeline(steps=[(&#x27;ordinal_preprocessor&#x27;,\n",
       "                 ColumnTransformer(transformers=[(&#x27;ordinal_encoder&#x27;,\n",
       "                                                  ColumnTransformer(remainder=&#x27;passthrough&#x27;,\n",
       "                                                                    transformers=[(&#x27;ordinalencoder&#x27;,\n",
       "                                                                                   OrdinalEncoder(handle_unknown=&#x27;use_encoded_value&#x27;,\n",
       "                                                                                                  unknown_value=nan),\n",
       "                                                                                   &lt;sklearn.compose._column_transformer.make_column_selector object at 0x7ff7752b8d90&gt;)],\n",
       "                                                                    verbose_feature_names_out=False),...\n",
       "                                                   &#x27;trajet&#x27;, &#x27;locp&#x27;, &#x27;actp&#x27;,\n",
       "                                                   &#x27;etatp&#x27;, &#x27;secuUn&#x27;,\n",
       "                                                   &#x27;secuDeux&#x27;, &#x27;tranches_ages&#x27;,\n",
       "                                                   &#x27;catr&#x27;, &#x27;circ&#x27;, &#x27;vosp&#x27;,\n",
       "                                                   &#x27;prof&#x27;, &#x27;plan&#x27;, &#x27;surf&#x27;,\n",
       "                                                   &#x27;infra&#x27;, &#x27;situ&#x27;, &#x27;senc&#x27;,\n",
       "                                                   &#x27;obs&#x27;, &#x27;obsm&#x27;, &#x27;choc&#x27;,\n",
       "                                                   &#x27;manv&#x27;, &#x27;catv_Label&#x27;, &#x27;lum&#x27;,\n",
       "                                                   &#x27;agg&#x27;, &#x27;int&#x27;, &#x27;atm&#x27;, &#x27;col&#x27;,\n",
       "                                                   &#x27;jour_de_la_semaine&#x27;, ...]),\n",
       "                                                 (&#x27;standard_scaler&#x27;,\n",
       "                                                  StandardScaler(),\n",
       "                                                  [&#x27;age_acc_an&#x27;, &#x27;nbv&#x27;,\n",
       "                                                   &#x27;occutc&#x27;])])),\n",
       "                (&#x27;model_hist_ordinal&#x27;,\n",
       "                 HistGradientBoostingClassifier(random_state=52))])</pre><b>Please rerun this cell to show the HTML repr or trust the notebook.</b></div><div class=\"sk-container\" hidden><div class=\"sk-item sk-dashed-wrapped\"><div class=\"sk-label-container\"><div class=\"sk-label sk-toggleable\"><input class=\"sk-toggleable__control sk-hidden--visually\" id=\"91a7105d-c339-43c0-918f-4bc1ec8255a2\" type=\"checkbox\" ><label for=\"91a7105d-c339-43c0-918f-4bc1ec8255a2\" class=\"sk-toggleable__label sk-toggleable__label-arrow\">Pipeline</label><div class=\"sk-toggleable__content\"><pre>Pipeline(steps=[(&#x27;ordinal_preprocessor&#x27;,\n",
       "                 ColumnTransformer(transformers=[(&#x27;ordinal_encoder&#x27;,\n",
       "                                                  ColumnTransformer(remainder=&#x27;passthrough&#x27;,\n",
       "                                                                    transformers=[(&#x27;ordinalencoder&#x27;,\n",
       "                                                                                   OrdinalEncoder(handle_unknown=&#x27;use_encoded_value&#x27;,\n",
       "                                                                                                  unknown_value=nan),\n",
       "                                                                                   &lt;sklearn.compose._column_transformer.make_column_selector object at 0x7ff7752b8d90&gt;)],\n",
       "                                                                    verbose_feature_names_out=False),...\n",
       "                                                   &#x27;trajet&#x27;, &#x27;locp&#x27;, &#x27;actp&#x27;,\n",
       "                                                   &#x27;etatp&#x27;, &#x27;secuUn&#x27;,\n",
       "                                                   &#x27;secuDeux&#x27;, &#x27;tranches_ages&#x27;,\n",
       "                                                   &#x27;catr&#x27;, &#x27;circ&#x27;, &#x27;vosp&#x27;,\n",
       "                                                   &#x27;prof&#x27;, &#x27;plan&#x27;, &#x27;surf&#x27;,\n",
       "                                                   &#x27;infra&#x27;, &#x27;situ&#x27;, &#x27;senc&#x27;,\n",
       "                                                   &#x27;obs&#x27;, &#x27;obsm&#x27;, &#x27;choc&#x27;,\n",
       "                                                   &#x27;manv&#x27;, &#x27;catv_Label&#x27;, &#x27;lum&#x27;,\n",
       "                                                   &#x27;agg&#x27;, &#x27;int&#x27;, &#x27;atm&#x27;, &#x27;col&#x27;,\n",
       "                                                   &#x27;jour_de_la_semaine&#x27;, ...]),\n",
       "                                                 (&#x27;standard_scaler&#x27;,\n",
       "                                                  StandardScaler(),\n",
       "                                                  [&#x27;age_acc_an&#x27;, &#x27;nbv&#x27;,\n",
       "                                                   &#x27;occutc&#x27;])])),\n",
       "                (&#x27;model_hist_ordinal&#x27;,\n",
       "                 HistGradientBoostingClassifier(random_state=52))])</pre></div></div></div><div class=\"sk-serial\"><div class=\"sk-item sk-dashed-wrapped\"><div class=\"sk-label-container\"><div class=\"sk-label sk-toggleable\"><input class=\"sk-toggleable__control sk-hidden--visually\" id=\"054c32b5-95e5-4665-a9ac-9823a3857c11\" type=\"checkbox\" ><label for=\"054c32b5-95e5-4665-a9ac-9823a3857c11\" class=\"sk-toggleable__label sk-toggleable__label-arrow\">ordinal_preprocessor: ColumnTransformer</label><div class=\"sk-toggleable__content\"><pre>ColumnTransformer(transformers=[(&#x27;ordinal_encoder&#x27;,\n",
       "                                 ColumnTransformer(remainder=&#x27;passthrough&#x27;,\n",
       "                                                   transformers=[(&#x27;ordinalencoder&#x27;,\n",
       "                                                                  OrdinalEncoder(handle_unknown=&#x27;use_encoded_value&#x27;,\n",
       "                                                                                 unknown_value=nan),\n",
       "                                                                  &lt;sklearn.compose._column_transformer.make_column_selector object at 0x7ff7752b8d90&gt;)],\n",
       "                                                   verbose_feature_names_out=False),\n",
       "                                 [&#x27;place&#x27;, &#x27;catu&#x27;, &#x27;sexe&#x27;, &#x27;trajet&#x27;, &#x27;locp&#x27;,\n",
       "                                  &#x27;actp&#x27;, &#x27;etatp&#x27;, &#x27;secuUn&#x27;, &#x27;secuDeux&#x27;,\n",
       "                                  &#x27;tranches_ages&#x27;, &#x27;catr&#x27;, &#x27;circ&#x27;, &#x27;vosp&#x27;,\n",
       "                                  &#x27;prof&#x27;, &#x27;plan&#x27;, &#x27;surf&#x27;, &#x27;infra&#x27;, &#x27;situ&#x27;,\n",
       "                                  &#x27;senc&#x27;, &#x27;obs&#x27;, &#x27;obsm&#x27;, &#x27;choc&#x27;, &#x27;manv&#x27;,\n",
       "                                  &#x27;catv_Label&#x27;, &#x27;lum&#x27;, &#x27;agg&#x27;, &#x27;int&#x27;, &#x27;atm&#x27;,\n",
       "                                  &#x27;col&#x27;, &#x27;jour_de_la_semaine&#x27;, ...]),\n",
       "                                (&#x27;standard_scaler&#x27;, StandardScaler(),\n",
       "                                 [&#x27;age_acc_an&#x27;, &#x27;nbv&#x27;, &#x27;occutc&#x27;])])</pre></div></div></div><div class=\"sk-parallel\"><div class=\"sk-parallel-item\"><div class=\"sk-item\"><div class=\"sk-label-container\"><div class=\"sk-label sk-toggleable\"><input class=\"sk-toggleable__control sk-hidden--visually\" id=\"7f4a3e4e-a255-41cf-a542-7692e0c9443b\" type=\"checkbox\" ><label for=\"7f4a3e4e-a255-41cf-a542-7692e0c9443b\" class=\"sk-toggleable__label sk-toggleable__label-arrow\">ordinal_encoder</label><div class=\"sk-toggleable__content\"><pre>[&#x27;place&#x27;, &#x27;catu&#x27;, &#x27;sexe&#x27;, &#x27;trajet&#x27;, &#x27;locp&#x27;, &#x27;actp&#x27;, &#x27;etatp&#x27;, &#x27;secuUn&#x27;, &#x27;secuDeux&#x27;, &#x27;tranches_ages&#x27;, &#x27;catr&#x27;, &#x27;circ&#x27;, &#x27;vosp&#x27;, &#x27;prof&#x27;, &#x27;plan&#x27;, &#x27;surf&#x27;, &#x27;infra&#x27;, &#x27;situ&#x27;, &#x27;senc&#x27;, &#x27;obs&#x27;, &#x27;obsm&#x27;, &#x27;choc&#x27;, &#x27;manv&#x27;, &#x27;catv_Label&#x27;, &#x27;lum&#x27;, &#x27;agg&#x27;, &#x27;int&#x27;, &#x27;atm&#x27;, &#x27;col&#x27;, &#x27;jour_de_la_semaine&#x27;, &#x27;heure&#x27;]</pre></div></div></div><div class=\"sk-serial\"><div class=\"sk-item sk-dashed-wrapped\"><div class=\"sk-parallel\"><div class=\"sk-parallel-item\"><div class=\"sk-item\"><div class=\"sk-label-container\"><div class=\"sk-label sk-toggleable\"><input class=\"sk-toggleable__control sk-hidden--visually\" id=\"18046089-5519-4681-8f45-8549dd62d89c\" type=\"checkbox\" ><label for=\"18046089-5519-4681-8f45-8549dd62d89c\" class=\"sk-toggleable__label sk-toggleable__label-arrow\">ordinalencoder</label><div class=\"sk-toggleable__content\"><pre>&lt;sklearn.compose._column_transformer.make_column_selector object at 0x7ff7752b8d90&gt;</pre></div></div></div><div class=\"sk-serial\"><div class=\"sk-item\"><div class=\"sk-estimator sk-toggleable\"><input class=\"sk-toggleable__control sk-hidden--visually\" id=\"1c1eddf7-6f97-4024-8bae-02a3e0a7b555\" type=\"checkbox\" ><label for=\"1c1eddf7-6f97-4024-8bae-02a3e0a7b555\" class=\"sk-toggleable__label sk-toggleable__label-arrow\">OrdinalEncoder</label><div class=\"sk-toggleable__content\"><pre>OrdinalEncoder(handle_unknown=&#x27;use_encoded_value&#x27;, unknown_value=nan)</pre></div></div></div></div></div></div><div class=\"sk-parallel-item\"><div class=\"sk-item\"><div class=\"sk-label-container\"><div class=\"sk-label sk-toggleable\"><input class=\"sk-toggleable__control sk-hidden--visually\" id=\"d1633c28-7189-470e-ad7b-2e3d8fbfc56e\" type=\"checkbox\" ><label for=\"d1633c28-7189-470e-ad7b-2e3d8fbfc56e\" class=\"sk-toggleable__label sk-toggleable__label-arrow\">remainder</label><div class=\"sk-toggleable__content\"><pre></pre></div></div></div><div class=\"sk-serial\"><div class=\"sk-item\"><div class=\"sk-estimator sk-toggleable\"><input class=\"sk-toggleable__control sk-hidden--visually\" id=\"e875b81f-dceb-4c7b-a8bb-6002e3313784\" type=\"checkbox\" ><label for=\"e875b81f-dceb-4c7b-a8bb-6002e3313784\" class=\"sk-toggleable__label sk-toggleable__label-arrow\">passthrough</label><div class=\"sk-toggleable__content\"><pre>passthrough</pre></div></div></div></div></div></div></div></div></div></div></div><div class=\"sk-parallel-item\"><div class=\"sk-item\"><div class=\"sk-label-container\"><div class=\"sk-label sk-toggleable\"><input class=\"sk-toggleable__control sk-hidden--visually\" id=\"5d4b4404-fdb6-471c-9d6c-3dc5978549f4\" type=\"checkbox\" ><label for=\"5d4b4404-fdb6-471c-9d6c-3dc5978549f4\" class=\"sk-toggleable__label sk-toggleable__label-arrow\">standard_scaler</label><div class=\"sk-toggleable__content\"><pre>[&#x27;age_acc_an&#x27;, &#x27;nbv&#x27;, &#x27;occutc&#x27;]</pre></div></div></div><div class=\"sk-serial\"><div class=\"sk-item\"><div class=\"sk-estimator sk-toggleable\"><input class=\"sk-toggleable__control sk-hidden--visually\" id=\"89dba57c-62be-432e-9609-b9ece49766ef\" type=\"checkbox\" ><label for=\"89dba57c-62be-432e-9609-b9ece49766ef\" class=\"sk-toggleable__label sk-toggleable__label-arrow\">StandardScaler</label><div class=\"sk-toggleable__content\"><pre>StandardScaler()</pre></div></div></div></div></div></div></div></div><div class=\"sk-item\"><div class=\"sk-estimator sk-toggleable\"><input class=\"sk-toggleable__control sk-hidden--visually\" id=\"8b8fbfc1-b366-4dd9-b942-6757c067d06d\" type=\"checkbox\" ><label for=\"8b8fbfc1-b366-4dd9-b942-6757c067d06d\" class=\"sk-toggleable__label sk-toggleable__label-arrow\">HistGradientBoostingClassifier</label><div class=\"sk-toggleable__content\"><pre>HistGradientBoostingClassifier(random_state=52)</pre></div></div></div></div></div></div></div>"
      ],
      "text/plain": [
       "Pipeline(steps=[('ordinal_preprocessor',\n",
       "                 ColumnTransformer(transformers=[('ordinal_encoder',\n",
       "                                                  ColumnTransformer(remainder='passthrough',\n",
       "                                                                    transformers=[('ordinalencoder',\n",
       "                                                                                   OrdinalEncoder(handle_unknown='use_encoded_value',\n",
       "                                                                                                  unknown_value=nan),\n",
       "                                                                                   <sklearn.compose._column_transformer.make_column_selector object at 0x7ff7752b8d90>)],\n",
       "                                                                    verbose_feature_names_out=False),...\n",
       "                                                   'trajet', 'locp', 'actp',\n",
       "                                                   'etatp', 'secuUn',\n",
       "                                                   'secuDeux', 'tranches_ages',\n",
       "                                                   'catr', 'circ', 'vosp',\n",
       "                                                   'prof', 'plan', 'surf',\n",
       "                                                   'infra', 'situ', 'senc',\n",
       "                                                   'obs', 'obsm', 'choc',\n",
       "                                                   'manv', 'catv_Label', 'lum',\n",
       "                                                   'agg', 'int', 'atm', 'col',\n",
       "                                                   'jour_de_la_semaine', ...]),\n",
       "                                                 ('standard_scaler',\n",
       "                                                  StandardScaler(),\n",
       "                                                  ['age_acc_an', 'nbv',\n",
       "                                                   'occutc'])])),\n",
       "                ('model_hist_ordinal',\n",
       "                 HistGradientBoostingClassifier(random_state=52))])"
      ]
     },
     "execution_count": 64,
     "metadata": {},
     "output_type": "execute_result"
    }
   ],
   "source": [
    "set_config(display='diagram')\n",
    "hist_ordinal"
   ]
  },
  {
   "cell_type": "markdown",
   "id": "facecf45",
   "metadata": {},
   "source": [
    "###### Gradient boosting estimator with native categorical support\n",
    "The HistGradientBoostingClassifier estimator that will natively handle categorical features. This estimator will not treat categorical features as ordered quantities.\n",
    "\n",
    "Since the HistGradientBoostingClassifier requires category values to be encoded in [0, n_unique_categories - 1], we still rely on an OrdinalEncoder to pre-process the data"
   ]
  },
  {
   "cell_type": "raw",
   "id": "75b3fa2d",
   "metadata": {},
   "source": [
    "# The ordinal encoder will first output the categorical features, and then the\n",
    "# continuous (passed-through) features\n",
    "\n",
    "hist_native = make_pipeline(\n",
    "    ordinal_encoder,\n",
    "    HistGradientBoostingClassifier(\n",
    "        #random_state=42,\n",
    "        categorical_features=categorical_columns,\n",
    "    ),\n",
    ")#.set_output(transform=\"pandas\")"
   ]
  },
  {
   "cell_type": "code",
   "execution_count": 63,
   "id": "6a4a32b3",
   "metadata": {},
   "outputs": [],
   "source": [
    "categorical_preprocessor = OrdinalEncoder(handle_unknown=\"use_encoded_value\",\n",
    "                                          unknown_value=-1)\n",
    "\n",
    "preprocessor = ColumnTransformer([\n",
    "    ('ordinal_encoder', categorical_preprocessor, categorical_columns),\n",
    "    ('standard_scaler', numerical_preprocessor, numerical_columns)])\n",
    "#  create our model\n",
    "hist_native_ordinal = Pipeline(steps=[\n",
    "    ('standard_scaler_preprocessor', preprocessor), \n",
    "    ('model_hist_native_ordinal', hist_gradient_boosting)\n",
    "])"
   ]
  },
  {
   "cell_type": "code",
   "execution_count": 64,
   "id": "59065cda",
   "metadata": {},
   "outputs": [
    {
     "data": {
      "text/html": [
       "<style>#sk-6058ceef-7180-447d-878e-300aaa1c31ac {color: black;background-color: white;}#sk-6058ceef-7180-447d-878e-300aaa1c31ac pre{padding: 0;}#sk-6058ceef-7180-447d-878e-300aaa1c31ac div.sk-toggleable {background-color: white;}#sk-6058ceef-7180-447d-878e-300aaa1c31ac label.sk-toggleable__label {cursor: pointer;display: block;width: 100%;margin-bottom: 0;padding: 0.3em;box-sizing: border-box;text-align: center;}#sk-6058ceef-7180-447d-878e-300aaa1c31ac label.sk-toggleable__label-arrow:before {content: \"▸\";float: left;margin-right: 0.25em;color: #696969;}#sk-6058ceef-7180-447d-878e-300aaa1c31ac label.sk-toggleable__label-arrow:hover:before {color: black;}#sk-6058ceef-7180-447d-878e-300aaa1c31ac div.sk-estimator:hover label.sk-toggleable__label-arrow:before {color: black;}#sk-6058ceef-7180-447d-878e-300aaa1c31ac div.sk-toggleable__content {max-height: 0;max-width: 0;overflow: hidden;text-align: left;background-color: #f0f8ff;}#sk-6058ceef-7180-447d-878e-300aaa1c31ac div.sk-toggleable__content pre {margin: 0.2em;color: black;border-radius: 0.25em;background-color: #f0f8ff;}#sk-6058ceef-7180-447d-878e-300aaa1c31ac input.sk-toggleable__control:checked~div.sk-toggleable__content {max-height: 200px;max-width: 100%;overflow: auto;}#sk-6058ceef-7180-447d-878e-300aaa1c31ac input.sk-toggleable__control:checked~label.sk-toggleable__label-arrow:before {content: \"▾\";}#sk-6058ceef-7180-447d-878e-300aaa1c31ac div.sk-estimator input.sk-toggleable__control:checked~label.sk-toggleable__label {background-color: #d4ebff;}#sk-6058ceef-7180-447d-878e-300aaa1c31ac div.sk-label input.sk-toggleable__control:checked~label.sk-toggleable__label {background-color: #d4ebff;}#sk-6058ceef-7180-447d-878e-300aaa1c31ac input.sk-hidden--visually {border: 0;clip: rect(1px 1px 1px 1px);clip: rect(1px, 1px, 1px, 1px);height: 1px;margin: -1px;overflow: hidden;padding: 0;position: absolute;width: 1px;}#sk-6058ceef-7180-447d-878e-300aaa1c31ac div.sk-estimator {font-family: monospace;background-color: #f0f8ff;border: 1px dotted black;border-radius: 0.25em;box-sizing: border-box;margin-bottom: 0.5em;}#sk-6058ceef-7180-447d-878e-300aaa1c31ac div.sk-estimator:hover {background-color: #d4ebff;}#sk-6058ceef-7180-447d-878e-300aaa1c31ac div.sk-parallel-item::after {content: \"\";width: 100%;border-bottom: 1px solid gray;flex-grow: 1;}#sk-6058ceef-7180-447d-878e-300aaa1c31ac div.sk-label:hover label.sk-toggleable__label {background-color: #d4ebff;}#sk-6058ceef-7180-447d-878e-300aaa1c31ac div.sk-serial::before {content: \"\";position: absolute;border-left: 1px solid gray;box-sizing: border-box;top: 2em;bottom: 0;left: 50%;}#sk-6058ceef-7180-447d-878e-300aaa1c31ac div.sk-serial {display: flex;flex-direction: column;align-items: center;background-color: white;padding-right: 0.2em;padding-left: 0.2em;}#sk-6058ceef-7180-447d-878e-300aaa1c31ac div.sk-item {z-index: 1;}#sk-6058ceef-7180-447d-878e-300aaa1c31ac div.sk-parallel {display: flex;align-items: stretch;justify-content: center;background-color: white;}#sk-6058ceef-7180-447d-878e-300aaa1c31ac div.sk-parallel::before {content: \"\";position: absolute;border-left: 1px solid gray;box-sizing: border-box;top: 2em;bottom: 0;left: 50%;}#sk-6058ceef-7180-447d-878e-300aaa1c31ac div.sk-parallel-item {display: flex;flex-direction: column;position: relative;background-color: white;}#sk-6058ceef-7180-447d-878e-300aaa1c31ac div.sk-parallel-item:first-child::after {align-self: flex-end;width: 50%;}#sk-6058ceef-7180-447d-878e-300aaa1c31ac div.sk-parallel-item:last-child::after {align-self: flex-start;width: 50%;}#sk-6058ceef-7180-447d-878e-300aaa1c31ac div.sk-parallel-item:only-child::after {width: 0;}#sk-6058ceef-7180-447d-878e-300aaa1c31ac div.sk-dashed-wrapped {border: 1px dashed gray;margin: 0 0.4em 0.5em 0.4em;box-sizing: border-box;padding-bottom: 0.4em;background-color: white;position: relative;}#sk-6058ceef-7180-447d-878e-300aaa1c31ac div.sk-label label {font-family: monospace;font-weight: bold;background-color: white;display: inline-block;line-height: 1.2em;}#sk-6058ceef-7180-447d-878e-300aaa1c31ac div.sk-label-container {position: relative;z-index: 2;text-align: center;}#sk-6058ceef-7180-447d-878e-300aaa1c31ac div.sk-container {/* jupyter's `normalize.less` sets `[hidden] { display: none; }` but bootstrap.min.css set `[hidden] { display: none !important; }` so we also need the `!important` here to be able to override the default hidden behavior on the sphinx rendered scikit-learn.org. See: https://github.com/scikit-learn/scikit-learn/issues/21755 */display: inline-block !important;position: relative;}#sk-6058ceef-7180-447d-878e-300aaa1c31ac div.sk-text-repr-fallback {display: none;}</style><div id=\"sk-6058ceef-7180-447d-878e-300aaa1c31ac\" class=\"sk-top-container\"><div class=\"sk-text-repr-fallback\"><pre>Pipeline(steps=[(&#x27;standard_scaler_preprocessor&#x27;,\n",
       "                 ColumnTransformer(transformers=[(&#x27;ordinal_encoder&#x27;,\n",
       "                                                  OrdinalEncoder(handle_unknown=&#x27;use_encoded_value&#x27;,\n",
       "                                                                 unknown_value=-1),\n",
       "                                                  [&#x27;place&#x27;, &#x27;catu&#x27;, &#x27;sexe&#x27;,\n",
       "                                                   &#x27;trajet&#x27;, &#x27;locp&#x27;, &#x27;actp&#x27;,\n",
       "                                                   &#x27;etatp&#x27;, &#x27;secuUn&#x27;,\n",
       "                                                   &#x27;secuDeux&#x27;, &#x27;tranches_ages&#x27;,\n",
       "                                                   &#x27;catr&#x27;, &#x27;circ&#x27;, &#x27;vosp&#x27;,\n",
       "                                                   &#x27;prof&#x27;, &#x27;plan&#x27;, &#x27;surf&#x27;,\n",
       "                                                   &#x27;infra&#x27;, &#x27;situ&#x27;, &#x27;senc&#x27;,\n",
       "                                                   &#x27;obs&#x27;, &#x27;obsm&#x27;, &#x27;choc&#x27;,\n",
       "                                                   &#x27;manv&#x27;, &#x27;catv_Label&#x27;, &#x27;lum&#x27;,\n",
       "                                                   &#x27;agg&#x27;, &#x27;int&#x27;, &#x27;atm&#x27;, &#x27;col&#x27;,\n",
       "                                                   &#x27;jour_de_la_semaine&#x27;, ...]),\n",
       "                                                 (&#x27;standard_scaler&#x27;,\n",
       "                                                  StandardScaler(),\n",
       "                                                  [&#x27;age_acc_an&#x27;, &#x27;nbv&#x27;,\n",
       "                                                   &#x27;occutc&#x27;])])),\n",
       "                (&#x27;model_hist_native_ordinal&#x27;,\n",
       "                 HistGradientBoostingClassifier(random_state=52))])</pre><b>Please rerun this cell to show the HTML repr or trust the notebook.</b></div><div class=\"sk-container\" hidden><div class=\"sk-item sk-dashed-wrapped\"><div class=\"sk-label-container\"><div class=\"sk-label sk-toggleable\"><input class=\"sk-toggleable__control sk-hidden--visually\" id=\"f2ae00d6-5e9b-4446-a08e-e066df2d8344\" type=\"checkbox\" ><label for=\"f2ae00d6-5e9b-4446-a08e-e066df2d8344\" class=\"sk-toggleable__label sk-toggleable__label-arrow\">Pipeline</label><div class=\"sk-toggleable__content\"><pre>Pipeline(steps=[(&#x27;standard_scaler_preprocessor&#x27;,\n",
       "                 ColumnTransformer(transformers=[(&#x27;ordinal_encoder&#x27;,\n",
       "                                                  OrdinalEncoder(handle_unknown=&#x27;use_encoded_value&#x27;,\n",
       "                                                                 unknown_value=-1),\n",
       "                                                  [&#x27;place&#x27;, &#x27;catu&#x27;, &#x27;sexe&#x27;,\n",
       "                                                   &#x27;trajet&#x27;, &#x27;locp&#x27;, &#x27;actp&#x27;,\n",
       "                                                   &#x27;etatp&#x27;, &#x27;secuUn&#x27;,\n",
       "                                                   &#x27;secuDeux&#x27;, &#x27;tranches_ages&#x27;,\n",
       "                                                   &#x27;catr&#x27;, &#x27;circ&#x27;, &#x27;vosp&#x27;,\n",
       "                                                   &#x27;prof&#x27;, &#x27;plan&#x27;, &#x27;surf&#x27;,\n",
       "                                                   &#x27;infra&#x27;, &#x27;situ&#x27;, &#x27;senc&#x27;,\n",
       "                                                   &#x27;obs&#x27;, &#x27;obsm&#x27;, &#x27;choc&#x27;,\n",
       "                                                   &#x27;manv&#x27;, &#x27;catv_Label&#x27;, &#x27;lum&#x27;,\n",
       "                                                   &#x27;agg&#x27;, &#x27;int&#x27;, &#x27;atm&#x27;, &#x27;col&#x27;,\n",
       "                                                   &#x27;jour_de_la_semaine&#x27;, ...]),\n",
       "                                                 (&#x27;standard_scaler&#x27;,\n",
       "                                                  StandardScaler(),\n",
       "                                                  [&#x27;age_acc_an&#x27;, &#x27;nbv&#x27;,\n",
       "                                                   &#x27;occutc&#x27;])])),\n",
       "                (&#x27;model_hist_native_ordinal&#x27;,\n",
       "                 HistGradientBoostingClassifier(random_state=52))])</pre></div></div></div><div class=\"sk-serial\"><div class=\"sk-item sk-dashed-wrapped\"><div class=\"sk-label-container\"><div class=\"sk-label sk-toggleable\"><input class=\"sk-toggleable__control sk-hidden--visually\" id=\"c28b5c1d-fd95-4d44-8ae6-84c6b46455f2\" type=\"checkbox\" ><label for=\"c28b5c1d-fd95-4d44-8ae6-84c6b46455f2\" class=\"sk-toggleable__label sk-toggleable__label-arrow\">standard_scaler_preprocessor: ColumnTransformer</label><div class=\"sk-toggleable__content\"><pre>ColumnTransformer(transformers=[(&#x27;ordinal_encoder&#x27;,\n",
       "                                 OrdinalEncoder(handle_unknown=&#x27;use_encoded_value&#x27;,\n",
       "                                                unknown_value=-1),\n",
       "                                 [&#x27;place&#x27;, &#x27;catu&#x27;, &#x27;sexe&#x27;, &#x27;trajet&#x27;, &#x27;locp&#x27;,\n",
       "                                  &#x27;actp&#x27;, &#x27;etatp&#x27;, &#x27;secuUn&#x27;, &#x27;secuDeux&#x27;,\n",
       "                                  &#x27;tranches_ages&#x27;, &#x27;catr&#x27;, &#x27;circ&#x27;, &#x27;vosp&#x27;,\n",
       "                                  &#x27;prof&#x27;, &#x27;plan&#x27;, &#x27;surf&#x27;, &#x27;infra&#x27;, &#x27;situ&#x27;,\n",
       "                                  &#x27;senc&#x27;, &#x27;obs&#x27;, &#x27;obsm&#x27;, &#x27;choc&#x27;, &#x27;manv&#x27;,\n",
       "                                  &#x27;catv_Label&#x27;, &#x27;lum&#x27;, &#x27;agg&#x27;, &#x27;int&#x27;, &#x27;atm&#x27;,\n",
       "                                  &#x27;col&#x27;, &#x27;jour_de_la_semaine&#x27;, ...]),\n",
       "                                (&#x27;standard_scaler&#x27;, StandardScaler(),\n",
       "                                 [&#x27;age_acc_an&#x27;, &#x27;nbv&#x27;, &#x27;occutc&#x27;])])</pre></div></div></div><div class=\"sk-parallel\"><div class=\"sk-parallel-item\"><div class=\"sk-item\"><div class=\"sk-label-container\"><div class=\"sk-label sk-toggleable\"><input class=\"sk-toggleable__control sk-hidden--visually\" id=\"35fb1c4c-f2ef-4fb5-8127-7508dd7f1145\" type=\"checkbox\" ><label for=\"35fb1c4c-f2ef-4fb5-8127-7508dd7f1145\" class=\"sk-toggleable__label sk-toggleable__label-arrow\">ordinal_encoder</label><div class=\"sk-toggleable__content\"><pre>[&#x27;place&#x27;, &#x27;catu&#x27;, &#x27;sexe&#x27;, &#x27;trajet&#x27;, &#x27;locp&#x27;, &#x27;actp&#x27;, &#x27;etatp&#x27;, &#x27;secuUn&#x27;, &#x27;secuDeux&#x27;, &#x27;tranches_ages&#x27;, &#x27;catr&#x27;, &#x27;circ&#x27;, &#x27;vosp&#x27;, &#x27;prof&#x27;, &#x27;plan&#x27;, &#x27;surf&#x27;, &#x27;infra&#x27;, &#x27;situ&#x27;, &#x27;senc&#x27;, &#x27;obs&#x27;, &#x27;obsm&#x27;, &#x27;choc&#x27;, &#x27;manv&#x27;, &#x27;catv_Label&#x27;, &#x27;lum&#x27;, &#x27;agg&#x27;, &#x27;int&#x27;, &#x27;atm&#x27;, &#x27;col&#x27;, &#x27;jour_de_la_semaine&#x27;, &#x27;heure&#x27;]</pre></div></div></div><div class=\"sk-serial\"><div class=\"sk-item\"><div class=\"sk-estimator sk-toggleable\"><input class=\"sk-toggleable__control sk-hidden--visually\" id=\"7e615f09-ae49-4ca9-b75e-34fb4b331436\" type=\"checkbox\" ><label for=\"7e615f09-ae49-4ca9-b75e-34fb4b331436\" class=\"sk-toggleable__label sk-toggleable__label-arrow\">OrdinalEncoder</label><div class=\"sk-toggleable__content\"><pre>OrdinalEncoder(handle_unknown=&#x27;use_encoded_value&#x27;, unknown_value=-1)</pre></div></div></div></div></div></div><div class=\"sk-parallel-item\"><div class=\"sk-item\"><div class=\"sk-label-container\"><div class=\"sk-label sk-toggleable\"><input class=\"sk-toggleable__control sk-hidden--visually\" id=\"bb4c16a6-4661-4b48-8eec-67388377af3d\" type=\"checkbox\" ><label for=\"bb4c16a6-4661-4b48-8eec-67388377af3d\" class=\"sk-toggleable__label sk-toggleable__label-arrow\">standard_scaler</label><div class=\"sk-toggleable__content\"><pre>[&#x27;age_acc_an&#x27;, &#x27;nbv&#x27;, &#x27;occutc&#x27;]</pre></div></div></div><div class=\"sk-serial\"><div class=\"sk-item\"><div class=\"sk-estimator sk-toggleable\"><input class=\"sk-toggleable__control sk-hidden--visually\" id=\"1c0fe8e5-c79f-445c-9936-7ad2d84c22fd\" type=\"checkbox\" ><label for=\"1c0fe8e5-c79f-445c-9936-7ad2d84c22fd\" class=\"sk-toggleable__label sk-toggleable__label-arrow\">StandardScaler</label><div class=\"sk-toggleable__content\"><pre>StandardScaler()</pre></div></div></div></div></div></div></div></div><div class=\"sk-item\"><div class=\"sk-estimator sk-toggleable\"><input class=\"sk-toggleable__control sk-hidden--visually\" id=\"7758e903-d92f-4753-bd37-119cd76ee0cb\" type=\"checkbox\" ><label for=\"7758e903-d92f-4753-bd37-119cd76ee0cb\" class=\"sk-toggleable__label sk-toggleable__label-arrow\">HistGradientBoostingClassifier</label><div class=\"sk-toggleable__content\"><pre>HistGradientBoostingClassifier(random_state=52)</pre></div></div></div></div></div></div></div>"
      ],
      "text/plain": [
       "Pipeline(steps=[('standard_scaler_preprocessor',\n",
       "                 ColumnTransformer(transformers=[('ordinal_encoder',\n",
       "                                                  OrdinalEncoder(handle_unknown='use_encoded_value',\n",
       "                                                                 unknown_value=-1),\n",
       "                                                  ['place', 'catu', 'sexe',\n",
       "                                                   'trajet', 'locp', 'actp',\n",
       "                                                   'etatp', 'secuUn',\n",
       "                                                   'secuDeux', 'tranches_ages',\n",
       "                                                   'catr', 'circ', 'vosp',\n",
       "                                                   'prof', 'plan', 'surf',\n",
       "                                                   'infra', 'situ', 'senc',\n",
       "                                                   'obs', 'obsm', 'choc',\n",
       "                                                   'manv', 'catv_Label', 'lum',\n",
       "                                                   'agg', 'int', 'atm', 'col',\n",
       "                                                   'jour_de_la_semaine', ...]),\n",
       "                                                 ('standard_scaler',\n",
       "                                                  StandardScaler(),\n",
       "                                                  ['age_acc_an', 'nbv',\n",
       "                                                   'occutc'])])),\n",
       "                ('model_hist_native_ordinal',\n",
       "                 HistGradientBoostingClassifier(random_state=52))])"
      ]
     },
     "execution_count": 64,
     "metadata": {},
     "output_type": "execute_result"
    }
   ],
   "source": [
    "set_config(display='diagram')\n",
    "hist_native_ordinal"
   ]
  },
  {
   "cell_type": "code",
   "execution_count": 68,
   "id": "bf30fff4",
   "metadata": {},
   "outputs": [],
   "source": [
    "preprocessor = ColumnTransformer([\n",
    "    ('one_hot_encoder', one_hot_categorical_preprocessor, categorical_columns),\n",
    "    ('standard_scaler', numerical_preprocessor, numerical_columns)])\n",
    "#  create our model\n",
    "hist_native_hot = Pipeline(steps=[\n",
    "    ('standard_scaler_preprocessor', preprocessor), \n",
    "    ('model_hist_native_One_hot', hist_gradient_boosting)\n",
    "])"
   ]
  },
  {
   "cell_type": "code",
   "execution_count": 69,
   "id": "d6eb032f",
   "metadata": {},
   "outputs": [
    {
     "data": {
      "text/html": [
       "<style>#sk-0c5fa8a1-cb0c-4fd9-addf-b031c9ffcb0f {color: black;background-color: white;}#sk-0c5fa8a1-cb0c-4fd9-addf-b031c9ffcb0f pre{padding: 0;}#sk-0c5fa8a1-cb0c-4fd9-addf-b031c9ffcb0f div.sk-toggleable {background-color: white;}#sk-0c5fa8a1-cb0c-4fd9-addf-b031c9ffcb0f label.sk-toggleable__label {cursor: pointer;display: block;width: 100%;margin-bottom: 0;padding: 0.3em;box-sizing: border-box;text-align: center;}#sk-0c5fa8a1-cb0c-4fd9-addf-b031c9ffcb0f label.sk-toggleable__label-arrow:before {content: \"▸\";float: left;margin-right: 0.25em;color: #696969;}#sk-0c5fa8a1-cb0c-4fd9-addf-b031c9ffcb0f label.sk-toggleable__label-arrow:hover:before {color: black;}#sk-0c5fa8a1-cb0c-4fd9-addf-b031c9ffcb0f div.sk-estimator:hover label.sk-toggleable__label-arrow:before {color: black;}#sk-0c5fa8a1-cb0c-4fd9-addf-b031c9ffcb0f div.sk-toggleable__content {max-height: 0;max-width: 0;overflow: hidden;text-align: left;background-color: #f0f8ff;}#sk-0c5fa8a1-cb0c-4fd9-addf-b031c9ffcb0f div.sk-toggleable__content pre {margin: 0.2em;color: black;border-radius: 0.25em;background-color: #f0f8ff;}#sk-0c5fa8a1-cb0c-4fd9-addf-b031c9ffcb0f input.sk-toggleable__control:checked~div.sk-toggleable__content {max-height: 200px;max-width: 100%;overflow: auto;}#sk-0c5fa8a1-cb0c-4fd9-addf-b031c9ffcb0f input.sk-toggleable__control:checked~label.sk-toggleable__label-arrow:before {content: \"▾\";}#sk-0c5fa8a1-cb0c-4fd9-addf-b031c9ffcb0f div.sk-estimator input.sk-toggleable__control:checked~label.sk-toggleable__label {background-color: #d4ebff;}#sk-0c5fa8a1-cb0c-4fd9-addf-b031c9ffcb0f div.sk-label input.sk-toggleable__control:checked~label.sk-toggleable__label {background-color: #d4ebff;}#sk-0c5fa8a1-cb0c-4fd9-addf-b031c9ffcb0f input.sk-hidden--visually {border: 0;clip: rect(1px 1px 1px 1px);clip: rect(1px, 1px, 1px, 1px);height: 1px;margin: -1px;overflow: hidden;padding: 0;position: absolute;width: 1px;}#sk-0c5fa8a1-cb0c-4fd9-addf-b031c9ffcb0f div.sk-estimator {font-family: monospace;background-color: #f0f8ff;border: 1px dotted black;border-radius: 0.25em;box-sizing: border-box;margin-bottom: 0.5em;}#sk-0c5fa8a1-cb0c-4fd9-addf-b031c9ffcb0f div.sk-estimator:hover {background-color: #d4ebff;}#sk-0c5fa8a1-cb0c-4fd9-addf-b031c9ffcb0f div.sk-parallel-item::after {content: \"\";width: 100%;border-bottom: 1px solid gray;flex-grow: 1;}#sk-0c5fa8a1-cb0c-4fd9-addf-b031c9ffcb0f div.sk-label:hover label.sk-toggleable__label {background-color: #d4ebff;}#sk-0c5fa8a1-cb0c-4fd9-addf-b031c9ffcb0f div.sk-serial::before {content: \"\";position: absolute;border-left: 1px solid gray;box-sizing: border-box;top: 2em;bottom: 0;left: 50%;}#sk-0c5fa8a1-cb0c-4fd9-addf-b031c9ffcb0f div.sk-serial {display: flex;flex-direction: column;align-items: center;background-color: white;padding-right: 0.2em;padding-left: 0.2em;}#sk-0c5fa8a1-cb0c-4fd9-addf-b031c9ffcb0f div.sk-item {z-index: 1;}#sk-0c5fa8a1-cb0c-4fd9-addf-b031c9ffcb0f div.sk-parallel {display: flex;align-items: stretch;justify-content: center;background-color: white;}#sk-0c5fa8a1-cb0c-4fd9-addf-b031c9ffcb0f div.sk-parallel::before {content: \"\";position: absolute;border-left: 1px solid gray;box-sizing: border-box;top: 2em;bottom: 0;left: 50%;}#sk-0c5fa8a1-cb0c-4fd9-addf-b031c9ffcb0f div.sk-parallel-item {display: flex;flex-direction: column;position: relative;background-color: white;}#sk-0c5fa8a1-cb0c-4fd9-addf-b031c9ffcb0f div.sk-parallel-item:first-child::after {align-self: flex-end;width: 50%;}#sk-0c5fa8a1-cb0c-4fd9-addf-b031c9ffcb0f div.sk-parallel-item:last-child::after {align-self: flex-start;width: 50%;}#sk-0c5fa8a1-cb0c-4fd9-addf-b031c9ffcb0f div.sk-parallel-item:only-child::after {width: 0;}#sk-0c5fa8a1-cb0c-4fd9-addf-b031c9ffcb0f div.sk-dashed-wrapped {border: 1px dashed gray;margin: 0 0.4em 0.5em 0.4em;box-sizing: border-box;padding-bottom: 0.4em;background-color: white;position: relative;}#sk-0c5fa8a1-cb0c-4fd9-addf-b031c9ffcb0f div.sk-label label {font-family: monospace;font-weight: bold;background-color: white;display: inline-block;line-height: 1.2em;}#sk-0c5fa8a1-cb0c-4fd9-addf-b031c9ffcb0f div.sk-label-container {position: relative;z-index: 2;text-align: center;}#sk-0c5fa8a1-cb0c-4fd9-addf-b031c9ffcb0f div.sk-container {/* jupyter's `normalize.less` sets `[hidden] { display: none; }` but bootstrap.min.css set `[hidden] { display: none !important; }` so we also need the `!important` here to be able to override the default hidden behavior on the sphinx rendered scikit-learn.org. See: https://github.com/scikit-learn/scikit-learn/issues/21755 */display: inline-block !important;position: relative;}#sk-0c5fa8a1-cb0c-4fd9-addf-b031c9ffcb0f div.sk-text-repr-fallback {display: none;}</style><div id=\"sk-0c5fa8a1-cb0c-4fd9-addf-b031c9ffcb0f\" class=\"sk-top-container\"><div class=\"sk-text-repr-fallback\"><pre>Pipeline(steps=[(&#x27;standard_scaler_preprocessor&#x27;,\n",
       "                 ColumnTransformer(transformers=[(&#x27;one_hot_encoder&#x27;,\n",
       "                                                  OneHotEncoder(handle_unknown=&#x27;ignore&#x27;,\n",
       "                                                                sparse=False),\n",
       "                                                  [&#x27;place&#x27;, &#x27;catu&#x27;, &#x27;sexe&#x27;,\n",
       "                                                   &#x27;trajet&#x27;, &#x27;locp&#x27;, &#x27;actp&#x27;,\n",
       "                                                   &#x27;etatp&#x27;, &#x27;secuUn&#x27;,\n",
       "                                                   &#x27;secuDeux&#x27;, &#x27;tranches_ages&#x27;,\n",
       "                                                   &#x27;catr&#x27;, &#x27;circ&#x27;, &#x27;vosp&#x27;,\n",
       "                                                   &#x27;prof&#x27;, &#x27;plan&#x27;, &#x27;surf&#x27;,\n",
       "                                                   &#x27;infra&#x27;, &#x27;situ&#x27;, &#x27;senc&#x27;,\n",
       "                                                   &#x27;obs&#x27;, &#x27;obsm&#x27;, &#x27;choc&#x27;,\n",
       "                                                   &#x27;manv&#x27;, &#x27;catv_Label&#x27;, &#x27;lum&#x27;,\n",
       "                                                   &#x27;agg&#x27;, &#x27;int&#x27;, &#x27;atm&#x27;, &#x27;col&#x27;,\n",
       "                                                   &#x27;jour_de_la_semaine&#x27;, ...]),\n",
       "                                                 (&#x27;standard_scaler&#x27;,\n",
       "                                                  StandardScaler(),\n",
       "                                                  [&#x27;age_acc_an&#x27;, &#x27;nbv&#x27;,\n",
       "                                                   &#x27;occutc&#x27;])])),\n",
       "                (&#x27;model_hist_native_One_hot&#x27;,\n",
       "                 HistGradientBoostingClassifier(random_state=52))])</pre><b>Please rerun this cell to show the HTML repr or trust the notebook.</b></div><div class=\"sk-container\" hidden><div class=\"sk-item sk-dashed-wrapped\"><div class=\"sk-label-container\"><div class=\"sk-label sk-toggleable\"><input class=\"sk-toggleable__control sk-hidden--visually\" id=\"7dd3745a-0f31-411f-aedb-6c8f1184351f\" type=\"checkbox\" ><label for=\"7dd3745a-0f31-411f-aedb-6c8f1184351f\" class=\"sk-toggleable__label sk-toggleable__label-arrow\">Pipeline</label><div class=\"sk-toggleable__content\"><pre>Pipeline(steps=[(&#x27;standard_scaler_preprocessor&#x27;,\n",
       "                 ColumnTransformer(transformers=[(&#x27;one_hot_encoder&#x27;,\n",
       "                                                  OneHotEncoder(handle_unknown=&#x27;ignore&#x27;,\n",
       "                                                                sparse=False),\n",
       "                                                  [&#x27;place&#x27;, &#x27;catu&#x27;, &#x27;sexe&#x27;,\n",
       "                                                   &#x27;trajet&#x27;, &#x27;locp&#x27;, &#x27;actp&#x27;,\n",
       "                                                   &#x27;etatp&#x27;, &#x27;secuUn&#x27;,\n",
       "                                                   &#x27;secuDeux&#x27;, &#x27;tranches_ages&#x27;,\n",
       "                                                   &#x27;catr&#x27;, &#x27;circ&#x27;, &#x27;vosp&#x27;,\n",
       "                                                   &#x27;prof&#x27;, &#x27;plan&#x27;, &#x27;surf&#x27;,\n",
       "                                                   &#x27;infra&#x27;, &#x27;situ&#x27;, &#x27;senc&#x27;,\n",
       "                                                   &#x27;obs&#x27;, &#x27;obsm&#x27;, &#x27;choc&#x27;,\n",
       "                                                   &#x27;manv&#x27;, &#x27;catv_Label&#x27;, &#x27;lum&#x27;,\n",
       "                                                   &#x27;agg&#x27;, &#x27;int&#x27;, &#x27;atm&#x27;, &#x27;col&#x27;,\n",
       "                                                   &#x27;jour_de_la_semaine&#x27;, ...]),\n",
       "                                                 (&#x27;standard_scaler&#x27;,\n",
       "                                                  StandardScaler(),\n",
       "                                                  [&#x27;age_acc_an&#x27;, &#x27;nbv&#x27;,\n",
       "                                                   &#x27;occutc&#x27;])])),\n",
       "                (&#x27;model_hist_native_One_hot&#x27;,\n",
       "                 HistGradientBoostingClassifier(random_state=52))])</pre></div></div></div><div class=\"sk-serial\"><div class=\"sk-item sk-dashed-wrapped\"><div class=\"sk-label-container\"><div class=\"sk-label sk-toggleable\"><input class=\"sk-toggleable__control sk-hidden--visually\" id=\"dce06e30-8caf-448c-8caf-719ae170fda0\" type=\"checkbox\" ><label for=\"dce06e30-8caf-448c-8caf-719ae170fda0\" class=\"sk-toggleable__label sk-toggleable__label-arrow\">standard_scaler_preprocessor: ColumnTransformer</label><div class=\"sk-toggleable__content\"><pre>ColumnTransformer(transformers=[(&#x27;one_hot_encoder&#x27;,\n",
       "                                 OneHotEncoder(handle_unknown=&#x27;ignore&#x27;,\n",
       "                                               sparse=False),\n",
       "                                 [&#x27;place&#x27;, &#x27;catu&#x27;, &#x27;sexe&#x27;, &#x27;trajet&#x27;, &#x27;locp&#x27;,\n",
       "                                  &#x27;actp&#x27;, &#x27;etatp&#x27;, &#x27;secuUn&#x27;, &#x27;secuDeux&#x27;,\n",
       "                                  &#x27;tranches_ages&#x27;, &#x27;catr&#x27;, &#x27;circ&#x27;, &#x27;vosp&#x27;,\n",
       "                                  &#x27;prof&#x27;, &#x27;plan&#x27;, &#x27;surf&#x27;, &#x27;infra&#x27;, &#x27;situ&#x27;,\n",
       "                                  &#x27;senc&#x27;, &#x27;obs&#x27;, &#x27;obsm&#x27;, &#x27;choc&#x27;, &#x27;manv&#x27;,\n",
       "                                  &#x27;catv_Label&#x27;, &#x27;lum&#x27;, &#x27;agg&#x27;, &#x27;int&#x27;, &#x27;atm&#x27;,\n",
       "                                  &#x27;col&#x27;, &#x27;jour_de_la_semaine&#x27;, ...]),\n",
       "                                (&#x27;standard_scaler&#x27;, StandardScaler(),\n",
       "                                 [&#x27;age_acc_an&#x27;, &#x27;nbv&#x27;, &#x27;occutc&#x27;])])</pre></div></div></div><div class=\"sk-parallel\"><div class=\"sk-parallel-item\"><div class=\"sk-item\"><div class=\"sk-label-container\"><div class=\"sk-label sk-toggleable\"><input class=\"sk-toggleable__control sk-hidden--visually\" id=\"921bf532-74e8-4878-a8a0-c8cfc64bb841\" type=\"checkbox\" ><label for=\"921bf532-74e8-4878-a8a0-c8cfc64bb841\" class=\"sk-toggleable__label sk-toggleable__label-arrow\">one_hot_encoder</label><div class=\"sk-toggleable__content\"><pre>[&#x27;place&#x27;, &#x27;catu&#x27;, &#x27;sexe&#x27;, &#x27;trajet&#x27;, &#x27;locp&#x27;, &#x27;actp&#x27;, &#x27;etatp&#x27;, &#x27;secuUn&#x27;, &#x27;secuDeux&#x27;, &#x27;tranches_ages&#x27;, &#x27;catr&#x27;, &#x27;circ&#x27;, &#x27;vosp&#x27;, &#x27;prof&#x27;, &#x27;plan&#x27;, &#x27;surf&#x27;, &#x27;infra&#x27;, &#x27;situ&#x27;, &#x27;senc&#x27;, &#x27;obs&#x27;, &#x27;obsm&#x27;, &#x27;choc&#x27;, &#x27;manv&#x27;, &#x27;catv_Label&#x27;, &#x27;lum&#x27;, &#x27;agg&#x27;, &#x27;int&#x27;, &#x27;atm&#x27;, &#x27;col&#x27;, &#x27;jour_de_la_semaine&#x27;, &#x27;heure&#x27;]</pre></div></div></div><div class=\"sk-serial\"><div class=\"sk-item\"><div class=\"sk-estimator sk-toggleable\"><input class=\"sk-toggleable__control sk-hidden--visually\" id=\"7a01bce3-c929-4942-9033-a41c962a1c76\" type=\"checkbox\" ><label for=\"7a01bce3-c929-4942-9033-a41c962a1c76\" class=\"sk-toggleable__label sk-toggleable__label-arrow\">OneHotEncoder</label><div class=\"sk-toggleable__content\"><pre>OneHotEncoder(handle_unknown=&#x27;ignore&#x27;, sparse=False)</pre></div></div></div></div></div></div><div class=\"sk-parallel-item\"><div class=\"sk-item\"><div class=\"sk-label-container\"><div class=\"sk-label sk-toggleable\"><input class=\"sk-toggleable__control sk-hidden--visually\" id=\"4b393dbc-9637-4672-a8ba-2ab8b35bf214\" type=\"checkbox\" ><label for=\"4b393dbc-9637-4672-a8ba-2ab8b35bf214\" class=\"sk-toggleable__label sk-toggleable__label-arrow\">standard_scaler</label><div class=\"sk-toggleable__content\"><pre>[&#x27;age_acc_an&#x27;, &#x27;nbv&#x27;, &#x27;occutc&#x27;]</pre></div></div></div><div class=\"sk-serial\"><div class=\"sk-item\"><div class=\"sk-estimator sk-toggleable\"><input class=\"sk-toggleable__control sk-hidden--visually\" id=\"b26e06e8-5a86-42c8-8793-b0dc4a4c33b0\" type=\"checkbox\" ><label for=\"b26e06e8-5a86-42c8-8793-b0dc4a4c33b0\" class=\"sk-toggleable__label sk-toggleable__label-arrow\">StandardScaler</label><div class=\"sk-toggleable__content\"><pre>StandardScaler()</pre></div></div></div></div></div></div></div></div><div class=\"sk-item\"><div class=\"sk-estimator sk-toggleable\"><input class=\"sk-toggleable__control sk-hidden--visually\" id=\"a3cd0c7f-e8d1-4212-ad4e-f5674a4df05d\" type=\"checkbox\" ><label for=\"a3cd0c7f-e8d1-4212-ad4e-f5674a4df05d\" class=\"sk-toggleable__label sk-toggleable__label-arrow\">HistGradientBoostingClassifier</label><div class=\"sk-toggleable__content\"><pre>HistGradientBoostingClassifier(random_state=52)</pre></div></div></div></div></div></div></div>"
      ],
      "text/plain": [
       "Pipeline(steps=[('standard_scaler_preprocessor',\n",
       "                 ColumnTransformer(transformers=[('one_hot_encoder',\n",
       "                                                  OneHotEncoder(handle_unknown='ignore',\n",
       "                                                                sparse=False),\n",
       "                                                  ['place', 'catu', 'sexe',\n",
       "                                                   'trajet', 'locp', 'actp',\n",
       "                                                   'etatp', 'secuUn',\n",
       "                                                   'secuDeux', 'tranches_ages',\n",
       "                                                   'catr', 'circ', 'vosp',\n",
       "                                                   'prof', 'plan', 'surf',\n",
       "                                                   'infra', 'situ', 'senc',\n",
       "                                                   'obs', 'obsm', 'choc',\n",
       "                                                   'manv', 'catv_Label', 'lum',\n",
       "                                                   'agg', 'int', 'atm', 'col',\n",
       "                                                   'jour_de_la_semaine', ...]),\n",
       "                                                 ('standard_scaler',\n",
       "                                                  StandardScaler(),\n",
       "                                                  ['age_acc_an', 'nbv',\n",
       "                                                   'occutc'])])),\n",
       "                ('model_hist_native_One_hot',\n",
       "                 HistGradientBoostingClassifier(random_state=52))])"
      ]
     },
     "execution_count": 69,
     "metadata": {},
     "output_type": "execute_result"
    }
   ],
   "source": [
    "set_config(display='diagram')\n",
    "hist_native_hot"
   ]
  },
  {
   "cell_type": "raw",
   "id": "1b837222",
   "metadata": {
    "scrolled": true
   },
   "source": [
    "column_mask = []\n",
    "for column_name in list(X_train.columns.values):\n",
    "    column_mask.append(column_name in categorical_columns)\n"
   ]
  },
  {
   "cell_type": "raw",
   "id": "435cd768",
   "metadata": {},
   "source": [
    "cat_column_mask = [mask for mask in column_mask if mask == True]\n",
    "cat_column_mask"
   ]
  },
  {
   "cell_type": "code",
   "execution_count": 70,
   "id": "573e9f0b",
   "metadata": {},
   "outputs": [],
   "source": [
    "preprocessor = ColumnTransformer([\n",
    "    ('ordinal_encoder', OrdinalEncoder(), ['jour_de_la_semaine', 'heure']),\n",
    "    ('one_hot_encoder', one_hot_categorical_preprocessor, ['place', 'catu', 'sexe', 'trajet', 'locp', 'actp', 'etatp',\n",
    "       'secuUn', 'secuDeux', 'tranches_ages', 'catr', 'circ', 'vosp', 'prof', 'plan', 'surf', 'infra', \n",
    "        'situ', 'senc', 'obs', 'obsm', 'choc', 'manv', 'catv_Label', 'lum', 'agg', 'int', 'atm', 'col']),\n",
    "    ('standard_scaler', numerical_preprocessor, numerical_columns)])\n",
    "#  create our model\n",
    "hist_native = Pipeline(steps=[\n",
    "    ('standard_scaler_preprocessor', preprocessor), \n",
    "    ('model_hist_native',  hist_gradient_boosting)\n",
    "     #HistGradientBoostingClassifier(random_state=52,\n",
    "        #categorical_features=np.array(column_mask),\n",
    "])"
   ]
  },
  {
   "cell_type": "code",
   "execution_count": 71,
   "id": "c449014a",
   "metadata": {},
   "outputs": [
    {
     "data": {
      "text/html": [
       "<style>#sk-ab199f4f-ed7a-4b6e-8a4b-fbae20e7b6ea {color: black;background-color: white;}#sk-ab199f4f-ed7a-4b6e-8a4b-fbae20e7b6ea pre{padding: 0;}#sk-ab199f4f-ed7a-4b6e-8a4b-fbae20e7b6ea div.sk-toggleable {background-color: white;}#sk-ab199f4f-ed7a-4b6e-8a4b-fbae20e7b6ea label.sk-toggleable__label {cursor: pointer;display: block;width: 100%;margin-bottom: 0;padding: 0.3em;box-sizing: border-box;text-align: center;}#sk-ab199f4f-ed7a-4b6e-8a4b-fbae20e7b6ea label.sk-toggleable__label-arrow:before {content: \"▸\";float: left;margin-right: 0.25em;color: #696969;}#sk-ab199f4f-ed7a-4b6e-8a4b-fbae20e7b6ea label.sk-toggleable__label-arrow:hover:before {color: black;}#sk-ab199f4f-ed7a-4b6e-8a4b-fbae20e7b6ea div.sk-estimator:hover label.sk-toggleable__label-arrow:before {color: black;}#sk-ab199f4f-ed7a-4b6e-8a4b-fbae20e7b6ea div.sk-toggleable__content {max-height: 0;max-width: 0;overflow: hidden;text-align: left;background-color: #f0f8ff;}#sk-ab199f4f-ed7a-4b6e-8a4b-fbae20e7b6ea div.sk-toggleable__content pre {margin: 0.2em;color: black;border-radius: 0.25em;background-color: #f0f8ff;}#sk-ab199f4f-ed7a-4b6e-8a4b-fbae20e7b6ea input.sk-toggleable__control:checked~div.sk-toggleable__content {max-height: 200px;max-width: 100%;overflow: auto;}#sk-ab199f4f-ed7a-4b6e-8a4b-fbae20e7b6ea input.sk-toggleable__control:checked~label.sk-toggleable__label-arrow:before {content: \"▾\";}#sk-ab199f4f-ed7a-4b6e-8a4b-fbae20e7b6ea div.sk-estimator input.sk-toggleable__control:checked~label.sk-toggleable__label {background-color: #d4ebff;}#sk-ab199f4f-ed7a-4b6e-8a4b-fbae20e7b6ea div.sk-label input.sk-toggleable__control:checked~label.sk-toggleable__label {background-color: #d4ebff;}#sk-ab199f4f-ed7a-4b6e-8a4b-fbae20e7b6ea input.sk-hidden--visually {border: 0;clip: rect(1px 1px 1px 1px);clip: rect(1px, 1px, 1px, 1px);height: 1px;margin: -1px;overflow: hidden;padding: 0;position: absolute;width: 1px;}#sk-ab199f4f-ed7a-4b6e-8a4b-fbae20e7b6ea div.sk-estimator {font-family: monospace;background-color: #f0f8ff;border: 1px dotted black;border-radius: 0.25em;box-sizing: border-box;margin-bottom: 0.5em;}#sk-ab199f4f-ed7a-4b6e-8a4b-fbae20e7b6ea div.sk-estimator:hover {background-color: #d4ebff;}#sk-ab199f4f-ed7a-4b6e-8a4b-fbae20e7b6ea div.sk-parallel-item::after {content: \"\";width: 100%;border-bottom: 1px solid gray;flex-grow: 1;}#sk-ab199f4f-ed7a-4b6e-8a4b-fbae20e7b6ea div.sk-label:hover label.sk-toggleable__label {background-color: #d4ebff;}#sk-ab199f4f-ed7a-4b6e-8a4b-fbae20e7b6ea div.sk-serial::before {content: \"\";position: absolute;border-left: 1px solid gray;box-sizing: border-box;top: 2em;bottom: 0;left: 50%;}#sk-ab199f4f-ed7a-4b6e-8a4b-fbae20e7b6ea div.sk-serial {display: flex;flex-direction: column;align-items: center;background-color: white;padding-right: 0.2em;padding-left: 0.2em;}#sk-ab199f4f-ed7a-4b6e-8a4b-fbae20e7b6ea div.sk-item {z-index: 1;}#sk-ab199f4f-ed7a-4b6e-8a4b-fbae20e7b6ea div.sk-parallel {display: flex;align-items: stretch;justify-content: center;background-color: white;}#sk-ab199f4f-ed7a-4b6e-8a4b-fbae20e7b6ea div.sk-parallel::before {content: \"\";position: absolute;border-left: 1px solid gray;box-sizing: border-box;top: 2em;bottom: 0;left: 50%;}#sk-ab199f4f-ed7a-4b6e-8a4b-fbae20e7b6ea div.sk-parallel-item {display: flex;flex-direction: column;position: relative;background-color: white;}#sk-ab199f4f-ed7a-4b6e-8a4b-fbae20e7b6ea div.sk-parallel-item:first-child::after {align-self: flex-end;width: 50%;}#sk-ab199f4f-ed7a-4b6e-8a4b-fbae20e7b6ea div.sk-parallel-item:last-child::after {align-self: flex-start;width: 50%;}#sk-ab199f4f-ed7a-4b6e-8a4b-fbae20e7b6ea div.sk-parallel-item:only-child::after {width: 0;}#sk-ab199f4f-ed7a-4b6e-8a4b-fbae20e7b6ea div.sk-dashed-wrapped {border: 1px dashed gray;margin: 0 0.4em 0.5em 0.4em;box-sizing: border-box;padding-bottom: 0.4em;background-color: white;position: relative;}#sk-ab199f4f-ed7a-4b6e-8a4b-fbae20e7b6ea div.sk-label label {font-family: monospace;font-weight: bold;background-color: white;display: inline-block;line-height: 1.2em;}#sk-ab199f4f-ed7a-4b6e-8a4b-fbae20e7b6ea div.sk-label-container {position: relative;z-index: 2;text-align: center;}#sk-ab199f4f-ed7a-4b6e-8a4b-fbae20e7b6ea div.sk-container {/* jupyter's `normalize.less` sets `[hidden] { display: none; }` but bootstrap.min.css set `[hidden] { display: none !important; }` so we also need the `!important` here to be able to override the default hidden behavior on the sphinx rendered scikit-learn.org. See: https://github.com/scikit-learn/scikit-learn/issues/21755 */display: inline-block !important;position: relative;}#sk-ab199f4f-ed7a-4b6e-8a4b-fbae20e7b6ea div.sk-text-repr-fallback {display: none;}</style><div id=\"sk-ab199f4f-ed7a-4b6e-8a4b-fbae20e7b6ea\" class=\"sk-top-container\"><div class=\"sk-text-repr-fallback\"><pre>Pipeline(steps=[(&#x27;standard_scaler_preprocessor&#x27;,\n",
       "                 ColumnTransformer(transformers=[(&#x27;ordinal_encoder&#x27;,\n",
       "                                                  OrdinalEncoder(),\n",
       "                                                  [&#x27;jour_de_la_semaine&#x27;,\n",
       "                                                   &#x27;heure&#x27;]),\n",
       "                                                 (&#x27;one_hot_encoder&#x27;,\n",
       "                                                  OneHotEncoder(handle_unknown=&#x27;ignore&#x27;,\n",
       "                                                                sparse=False),\n",
       "                                                  [&#x27;place&#x27;, &#x27;catu&#x27;, &#x27;sexe&#x27;,\n",
       "                                                   &#x27;trajet&#x27;, &#x27;locp&#x27;, &#x27;actp&#x27;,\n",
       "                                                   &#x27;etatp&#x27;, &#x27;secuUn&#x27;,\n",
       "                                                   &#x27;secuDeux&#x27;, &#x27;tranches_ages&#x27;,\n",
       "                                                   &#x27;catr&#x27;, &#x27;circ&#x27;, &#x27;vosp&#x27;,\n",
       "                                                   &#x27;prof&#x27;, &#x27;plan&#x27;, &#x27;surf&#x27;,\n",
       "                                                   &#x27;infra&#x27;, &#x27;situ&#x27;, &#x27;senc&#x27;,\n",
       "                                                   &#x27;obs&#x27;, &#x27;obsm&#x27;, &#x27;choc&#x27;,\n",
       "                                                   &#x27;manv&#x27;, &#x27;catv_Label&#x27;, &#x27;lum&#x27;,\n",
       "                                                   &#x27;agg&#x27;, &#x27;int&#x27;, &#x27;atm&#x27;,\n",
       "                                                   &#x27;col&#x27;]),\n",
       "                                                 (&#x27;standard_scaler&#x27;,\n",
       "                                                  StandardScaler(),\n",
       "                                                  [&#x27;age_acc_an&#x27;, &#x27;nbv&#x27;,\n",
       "                                                   &#x27;occutc&#x27;])])),\n",
       "                (&#x27;model_hist_native&#x27;,\n",
       "                 HistGradientBoostingClassifier(random_state=52))])</pre><b>Please rerun this cell to show the HTML repr or trust the notebook.</b></div><div class=\"sk-container\" hidden><div class=\"sk-item sk-dashed-wrapped\"><div class=\"sk-label-container\"><div class=\"sk-label sk-toggleable\"><input class=\"sk-toggleable__control sk-hidden--visually\" id=\"58b973ef-ecf0-4d83-80cd-5e425eed12e4\" type=\"checkbox\" ><label for=\"58b973ef-ecf0-4d83-80cd-5e425eed12e4\" class=\"sk-toggleable__label sk-toggleable__label-arrow\">Pipeline</label><div class=\"sk-toggleable__content\"><pre>Pipeline(steps=[(&#x27;standard_scaler_preprocessor&#x27;,\n",
       "                 ColumnTransformer(transformers=[(&#x27;ordinal_encoder&#x27;,\n",
       "                                                  OrdinalEncoder(),\n",
       "                                                  [&#x27;jour_de_la_semaine&#x27;,\n",
       "                                                   &#x27;heure&#x27;]),\n",
       "                                                 (&#x27;one_hot_encoder&#x27;,\n",
       "                                                  OneHotEncoder(handle_unknown=&#x27;ignore&#x27;,\n",
       "                                                                sparse=False),\n",
       "                                                  [&#x27;place&#x27;, &#x27;catu&#x27;, &#x27;sexe&#x27;,\n",
       "                                                   &#x27;trajet&#x27;, &#x27;locp&#x27;, &#x27;actp&#x27;,\n",
       "                                                   &#x27;etatp&#x27;, &#x27;secuUn&#x27;,\n",
       "                                                   &#x27;secuDeux&#x27;, &#x27;tranches_ages&#x27;,\n",
       "                                                   &#x27;catr&#x27;, &#x27;circ&#x27;, &#x27;vosp&#x27;,\n",
       "                                                   &#x27;prof&#x27;, &#x27;plan&#x27;, &#x27;surf&#x27;,\n",
       "                                                   &#x27;infra&#x27;, &#x27;situ&#x27;, &#x27;senc&#x27;,\n",
       "                                                   &#x27;obs&#x27;, &#x27;obsm&#x27;, &#x27;choc&#x27;,\n",
       "                                                   &#x27;manv&#x27;, &#x27;catv_Label&#x27;, &#x27;lum&#x27;,\n",
       "                                                   &#x27;agg&#x27;, &#x27;int&#x27;, &#x27;atm&#x27;,\n",
       "                                                   &#x27;col&#x27;]),\n",
       "                                                 (&#x27;standard_scaler&#x27;,\n",
       "                                                  StandardScaler(),\n",
       "                                                  [&#x27;age_acc_an&#x27;, &#x27;nbv&#x27;,\n",
       "                                                   &#x27;occutc&#x27;])])),\n",
       "                (&#x27;model_hist_native&#x27;,\n",
       "                 HistGradientBoostingClassifier(random_state=52))])</pre></div></div></div><div class=\"sk-serial\"><div class=\"sk-item sk-dashed-wrapped\"><div class=\"sk-label-container\"><div class=\"sk-label sk-toggleable\"><input class=\"sk-toggleable__control sk-hidden--visually\" id=\"83b41f2d-e987-4840-89a6-35a24682eab5\" type=\"checkbox\" ><label for=\"83b41f2d-e987-4840-89a6-35a24682eab5\" class=\"sk-toggleable__label sk-toggleable__label-arrow\">standard_scaler_preprocessor: ColumnTransformer</label><div class=\"sk-toggleable__content\"><pre>ColumnTransformer(transformers=[(&#x27;ordinal_encoder&#x27;, OrdinalEncoder(),\n",
       "                                 [&#x27;jour_de_la_semaine&#x27;, &#x27;heure&#x27;]),\n",
       "                                (&#x27;one_hot_encoder&#x27;,\n",
       "                                 OneHotEncoder(handle_unknown=&#x27;ignore&#x27;,\n",
       "                                               sparse=False),\n",
       "                                 [&#x27;place&#x27;, &#x27;catu&#x27;, &#x27;sexe&#x27;, &#x27;trajet&#x27;, &#x27;locp&#x27;,\n",
       "                                  &#x27;actp&#x27;, &#x27;etatp&#x27;, &#x27;secuUn&#x27;, &#x27;secuDeux&#x27;,\n",
       "                                  &#x27;tranches_ages&#x27;, &#x27;catr&#x27;, &#x27;circ&#x27;, &#x27;vosp&#x27;,\n",
       "                                  &#x27;prof&#x27;, &#x27;plan&#x27;, &#x27;surf&#x27;, &#x27;infra&#x27;, &#x27;situ&#x27;,\n",
       "                                  &#x27;senc&#x27;, &#x27;obs&#x27;, &#x27;obsm&#x27;, &#x27;choc&#x27;, &#x27;manv&#x27;,\n",
       "                                  &#x27;catv_Label&#x27;, &#x27;lum&#x27;, &#x27;agg&#x27;, &#x27;int&#x27;, &#x27;atm&#x27;,\n",
       "                                  &#x27;col&#x27;]),\n",
       "                                (&#x27;standard_scaler&#x27;, StandardScaler(),\n",
       "                                 [&#x27;age_acc_an&#x27;, &#x27;nbv&#x27;, &#x27;occutc&#x27;])])</pre></div></div></div><div class=\"sk-parallel\"><div class=\"sk-parallel-item\"><div class=\"sk-item\"><div class=\"sk-label-container\"><div class=\"sk-label sk-toggleable\"><input class=\"sk-toggleable__control sk-hidden--visually\" id=\"4d3110ea-b246-4eaa-9fdf-b7c202954070\" type=\"checkbox\" ><label for=\"4d3110ea-b246-4eaa-9fdf-b7c202954070\" class=\"sk-toggleable__label sk-toggleable__label-arrow\">ordinal_encoder</label><div class=\"sk-toggleable__content\"><pre>[&#x27;jour_de_la_semaine&#x27;, &#x27;heure&#x27;]</pre></div></div></div><div class=\"sk-serial\"><div class=\"sk-item\"><div class=\"sk-estimator sk-toggleable\"><input class=\"sk-toggleable__control sk-hidden--visually\" id=\"147c5f54-df25-42a4-9bd3-fdff27d13222\" type=\"checkbox\" ><label for=\"147c5f54-df25-42a4-9bd3-fdff27d13222\" class=\"sk-toggleable__label sk-toggleable__label-arrow\">OrdinalEncoder</label><div class=\"sk-toggleable__content\"><pre>OrdinalEncoder()</pre></div></div></div></div></div></div><div class=\"sk-parallel-item\"><div class=\"sk-item\"><div class=\"sk-label-container\"><div class=\"sk-label sk-toggleable\"><input class=\"sk-toggleable__control sk-hidden--visually\" id=\"4f042d4b-6601-4a11-8db1-7d2d5c1789a8\" type=\"checkbox\" ><label for=\"4f042d4b-6601-4a11-8db1-7d2d5c1789a8\" class=\"sk-toggleable__label sk-toggleable__label-arrow\">one_hot_encoder</label><div class=\"sk-toggleable__content\"><pre>[&#x27;place&#x27;, &#x27;catu&#x27;, &#x27;sexe&#x27;, &#x27;trajet&#x27;, &#x27;locp&#x27;, &#x27;actp&#x27;, &#x27;etatp&#x27;, &#x27;secuUn&#x27;, &#x27;secuDeux&#x27;, &#x27;tranches_ages&#x27;, &#x27;catr&#x27;, &#x27;circ&#x27;, &#x27;vosp&#x27;, &#x27;prof&#x27;, &#x27;plan&#x27;, &#x27;surf&#x27;, &#x27;infra&#x27;, &#x27;situ&#x27;, &#x27;senc&#x27;, &#x27;obs&#x27;, &#x27;obsm&#x27;, &#x27;choc&#x27;, &#x27;manv&#x27;, &#x27;catv_Label&#x27;, &#x27;lum&#x27;, &#x27;agg&#x27;, &#x27;int&#x27;, &#x27;atm&#x27;, &#x27;col&#x27;]</pre></div></div></div><div class=\"sk-serial\"><div class=\"sk-item\"><div class=\"sk-estimator sk-toggleable\"><input class=\"sk-toggleable__control sk-hidden--visually\" id=\"8b41bf6a-0011-4f4c-a2d8-b3905c4fb6bd\" type=\"checkbox\" ><label for=\"8b41bf6a-0011-4f4c-a2d8-b3905c4fb6bd\" class=\"sk-toggleable__label sk-toggleable__label-arrow\">OneHotEncoder</label><div class=\"sk-toggleable__content\"><pre>OneHotEncoder(handle_unknown=&#x27;ignore&#x27;, sparse=False)</pre></div></div></div></div></div></div><div class=\"sk-parallel-item\"><div class=\"sk-item\"><div class=\"sk-label-container\"><div class=\"sk-label sk-toggleable\"><input class=\"sk-toggleable__control sk-hidden--visually\" id=\"11d13b2e-6078-47f2-b523-8940685d4f9f\" type=\"checkbox\" ><label for=\"11d13b2e-6078-47f2-b523-8940685d4f9f\" class=\"sk-toggleable__label sk-toggleable__label-arrow\">standard_scaler</label><div class=\"sk-toggleable__content\"><pre>[&#x27;age_acc_an&#x27;, &#x27;nbv&#x27;, &#x27;occutc&#x27;]</pre></div></div></div><div class=\"sk-serial\"><div class=\"sk-item\"><div class=\"sk-estimator sk-toggleable\"><input class=\"sk-toggleable__control sk-hidden--visually\" id=\"1b71fa5a-0bcd-4a3a-b126-026527fa16ec\" type=\"checkbox\" ><label for=\"1b71fa5a-0bcd-4a3a-b126-026527fa16ec\" class=\"sk-toggleable__label sk-toggleable__label-arrow\">StandardScaler</label><div class=\"sk-toggleable__content\"><pre>StandardScaler()</pre></div></div></div></div></div></div></div></div><div class=\"sk-item\"><div class=\"sk-estimator sk-toggleable\"><input class=\"sk-toggleable__control sk-hidden--visually\" id=\"b7b7f039-164d-4da7-8924-f7cc54a63c64\" type=\"checkbox\" ><label for=\"b7b7f039-164d-4da7-8924-f7cc54a63c64\" class=\"sk-toggleable__label sk-toggleable__label-arrow\">HistGradientBoostingClassifier</label><div class=\"sk-toggleable__content\"><pre>HistGradientBoostingClassifier(random_state=52)</pre></div></div></div></div></div></div></div>"
      ],
      "text/plain": [
       "Pipeline(steps=[('standard_scaler_preprocessor',\n",
       "                 ColumnTransformer(transformers=[('ordinal_encoder',\n",
       "                                                  OrdinalEncoder(),\n",
       "                                                  ['jour_de_la_semaine',\n",
       "                                                   'heure']),\n",
       "                                                 ('one_hot_encoder',\n",
       "                                                  OneHotEncoder(handle_unknown='ignore',\n",
       "                                                                sparse=False),\n",
       "                                                  ['place', 'catu', 'sexe',\n",
       "                                                   'trajet', 'locp', 'actp',\n",
       "                                                   'etatp', 'secuUn',\n",
       "                                                   'secuDeux', 'tranches_ages',\n",
       "                                                   'catr', 'circ', 'vosp',\n",
       "                                                   'prof', 'plan', 'surf',\n",
       "                                                   'infra', 'situ', 'senc',\n",
       "                                                   'obs', 'obsm', 'choc',\n",
       "                                                   'manv', 'catv_Label', 'lum',\n",
       "                                                   'agg', 'int', 'atm',\n",
       "                                                   'col']),\n",
       "                                                 ('standard_scaler',\n",
       "                                                  StandardScaler(),\n",
       "                                                  ['age_acc_an', 'nbv',\n",
       "                                                   'occutc'])])),\n",
       "                ('model_hist_native',\n",
       "                 HistGradientBoostingClassifier(random_state=52))])"
      ]
     },
     "execution_count": 71,
     "metadata": {},
     "output_type": "execute_result"
    }
   ],
   "source": [
    "set_config(display='diagram')\n",
    "hist_native"
   ]
  },
  {
   "cell_type": "markdown",
   "id": "b6145d4d",
   "metadata": {},
   "source": [
    "###### Histogram-based Gradient Boosting Classification Models comparison\n",
    "\n",
    "We evaluate the models using cross validation. Here we compare the models performance in terms of accuracy and fit times."
   ]
  },
  {
   "cell_type": "markdown",
   "id": "9afd13af",
   "metadata": {},
   "source": [
    "Create RocCurveDisplay & Create PrecisionRecallDisplay\n",
    "https://scikit-learn.org/stable/auto_examples/miscellaneous/plot_display_object_visualization.html#create-confusionmatrixdisplay"
   ]
  },
  {
   "cell_type": "markdown",
   "id": "8603d3ad",
   "metadata": {},
   "source": [
    " - La matrice de confusion : \n",
    "     chaque colonne de la matrice représente le nombre d'occurrences d'une classe estimée, tandis que chaque ligne représente le nombre d'occurrences d'une classe réelle."
   ]
  },
  {
   "cell_type": "code",
   "execution_count": 72,
   "id": "621d98b6",
   "metadata": {},
   "outputs": [
    {
     "name": "stdout",
     "output_type": "stream",
     "text": [
      "Model: model_hist_dropped\n",
      "---------------------------------------------------------------------------\n",
      "Classification Report :\n",
      "                    precision    recall  f1-score   support\n",
      "\n",
      "Blessé hospitalisé       0.38      0.04      0.07     93507\n",
      "      Blessé léger       0.46      0.27      0.34    165057\n",
      "           Indemne       0.45      0.84      0.58    187549\n",
      "               Tué       0.78      0.00      0.00     12235\n",
      "\n",
      "          accuracy                           0.45    458348\n",
      "         macro avg       0.52      0.29      0.25    458348\n",
      "      weighted avg       0.45      0.45      0.37    458348\n",
      "\n",
      "Confusion Matrix:\n",
      "[[  3666  21865  67974      2]\n",
      " [  2870  43993 118194      0]\n",
      " [  2426  27839 157284      0]\n",
      " [   720   1967   9541      7]]\n",
      "===========================================================================\n",
      "Model: model_hist_one_hot\n",
      "---------------------------------------------------------------------------\n",
      "Classification Report :\n",
      "                    precision    recall  f1-score   support\n",
      "\n",
      "Blessé hospitalisé       0.54      0.44      0.48     93507\n",
      "      Blessé léger       0.63      0.63      0.63    165057\n",
      "           Indemne       0.73      0.83      0.78    187549\n",
      "               Tué       0.45      0.08      0.14     12235\n",
      "\n",
      "          accuracy                           0.66    458348\n",
      "         macro avg       0.58      0.50      0.51    458348\n",
      "      weighted avg       0.65      0.66      0.65    458348\n",
      "\n",
      "Confusion Matrix:\n",
      "[[ 40761  37063  14773    910]\n",
      " [ 19359 104101  41395    202]\n",
      " [  8081  22909 156456    103]\n",
      " [  7748   2068   1444    975]]\n",
      "===========================================================================\n",
      "Model: model_hist_ordinal\n",
      "---------------------------------------------------------------------------\n",
      "Classification Report :\n",
      "                    precision    recall  f1-score   support\n",
      "\n",
      "Blessé hospitalisé       0.54      0.44      0.48     93507\n",
      "      Blessé léger       0.63      0.63      0.63    165057\n",
      "           Indemne       0.73      0.83      0.78    187549\n",
      "               Tué       0.44      0.08      0.13     12235\n",
      "\n",
      "          accuracy                           0.66    458348\n",
      "         macro avg       0.58      0.49      0.50    458348\n",
      "      weighted avg       0.65      0.66      0.65    458348\n",
      "\n",
      "Confusion Matrix:\n",
      "[[ 40691  37198  14716    902]\n",
      " [ 19437 104205  41244    171]\n",
      " [  8103  22979 156365    102]\n",
      " [  7704   2106   1483    942]]\n",
      "===========================================================================\n",
      "Model: model_hist_native_ordinal\n",
      "---------------------------------------------------------------------------\n",
      "Classification Report :\n",
      "                    precision    recall  f1-score   support\n",
      "\n",
      "Blessé hospitalisé       0.54      0.44      0.48     93507\n",
      "      Blessé léger       0.63      0.63      0.63    165057\n",
      "           Indemne       0.73      0.83      0.78    187549\n",
      "               Tué       0.44      0.08      0.13     12235\n",
      "\n",
      "          accuracy                           0.66    458348\n",
      "         macro avg       0.58      0.49      0.50    458348\n",
      "      weighted avg       0.65      0.66      0.65    458348\n",
      "\n",
      "Confusion Matrix:\n",
      "[[ 40691  37198  14716    902]\n",
      " [ 19437 104205  41244    171]\n",
      " [  8103  22979 156365    102]\n",
      " [  7704   2106   1483    942]]\n",
      "===========================================================================\n",
      "Model: model_hist_native_One_hot\n",
      "---------------------------------------------------------------------------\n",
      "Classification Report :\n",
      "                    precision    recall  f1-score   support\n",
      "\n",
      "Blessé hospitalisé       0.54      0.44      0.48     93507\n",
      "      Blessé léger       0.63      0.63      0.63    165057\n",
      "           Indemne       0.73      0.83      0.78    187549\n",
      "               Tué       0.45      0.08      0.14     12235\n",
      "\n",
      "          accuracy                           0.66    458348\n",
      "         macro avg       0.58      0.50      0.51    458348\n",
      "      weighted avg       0.65      0.66      0.65    458348\n",
      "\n",
      "Confusion Matrix:\n",
      "[[ 40761  37063  14773    910]\n",
      " [ 19359 104101  41395    202]\n",
      " [  8081  22909 156456    103]\n",
      " [  7748   2068   1444    975]]\n",
      "===========================================================================\n",
      "Model: model_hist_native\n",
      "---------------------------------------------------------------------------\n",
      "Classification Report :\n",
      "                    precision    recall  f1-score   support\n",
      "\n",
      "Blessé hospitalisé       0.54      0.44      0.48     93507\n",
      "      Blessé léger       0.63      0.63      0.63    165057\n",
      "           Indemne       0.73      0.83      0.78    187549\n",
      "               Tué       0.45      0.08      0.13     12235\n",
      "\n",
      "          accuracy                           0.66    458348\n",
      "         macro avg       0.59      0.49      0.51    458348\n",
      "      weighted avg       0.65      0.66      0.65    458348\n",
      "\n",
      "Confusion Matrix:\n",
      "[[ 40880  37043  14674    910]\n",
      " [ 19462 104026  41374    195]\n",
      " [  8107  22962 156391     89]\n",
      " [  7752   2074   1447    962]]\n",
      "===========================================================================\n"
     ]
    }
   ],
   "source": [
    "# the models list contains instances of different classifier models. \n",
    "# The loop iterates through each model, trains it, makes predictions, \n",
    "#  calculates evaluation metrics, and then prints the metrics for each model.\n",
    "\n",
    "# Define a list of classifier models\n",
    "models = [\n",
    "    hist_dropped,\n",
    "    hist_one_hot,\n",
    "    hist_ordinal,\n",
    "    hist_native_ordinal,\n",
    "    hist_native_hot,\n",
    "    hist_native\n",
    "]\n",
    "\n",
    "model_names=[]\n",
    "execution_times=[]\n",
    "test_times=[]\n",
    "train_scores=[]\n",
    "test_scores=[]\n",
    "accuracy_scores=[]\n",
    "mean_auc_score=[]\n",
    "\n",
    "\n",
    "#seed for random state and splits - number of Kfolds\n",
    "random_seed = 2\n",
    "splits = 5\n",
    "#Scikit Kfold model call\n",
    "kfold = KFold(n_splits=splits, random_state=random_seed, shuffle=True)\n",
    "\n",
    "\n",
    "\n",
    "# Iterate through the models and evaluate each\n",
    "for model in models:\n",
    "    step_names = list(model.named_steps.keys())\n",
    "    model_name = step_names[-1]\n",
    "    model_names.append(model_name)\n",
    "    \n",
    "    start_time = time.time()\n",
    "\n",
    "    # Train the classifier model\n",
    "    model.fit(X_train, y_train)\n",
    "\n",
    "    end_time = time.time()\n",
    "    execution_time = end_time - start_time\n",
    "    execution_times.append(execution_time)\n",
    "\n",
    "    # Taux de bonnes prédictions du modèle de classification sur l'ensemble de test\n",
    "    test_scores.append(model.score(X_test, y_test))\n",
    "    train_scores.append(model.score(X_train, y_train))\n",
    "    \n",
    "    # Make predictions\n",
    "    start_time = time.time()\n",
    "    y_pred = model.predict(X_test)\n",
    "    end_time = time.time()\n",
    "    test_time = end_time - start_time\n",
    "    test_times.append(test_time)\n",
    "    \n",
    "    # Calculate evaluation metrics\n",
    "    accuracy = accuracy_score(y_test, y_pred)\n",
    "    accuracy_scores.append(accuracy)\n",
    "    #precision = precision_score(y_test, y_pred)\n",
    "    #    ValueError: Target is multiclass but average='binary'. Please choose another average setting, one of [None, 'micro', 'macro', 'weighted'].\n",
    "    #recall = recall_score(y_test, y_pred)\n",
    "    #f1 = f1_score(y_test, y_pred)\n",
    "    \n",
    "    # Confusion matrix\n",
    "    conf_matrix = confusion_matrix(y_test, y_pred)\n",
    "    \n",
    "    # Print the evaluation metrics for the current model\n",
    "    print(f\"Model: {model_name}\")\n",
    "    print(\"-\" * 75)\n",
    "    #print(f\"Execution time: {execution_time:.4f} seconds\")\n",
    "    #print(\"Accuracy:\", accuracy)\n",
    "    #print(\"Precision:\", precision)\n",
    "    #print(\"Recall:\", recall)\n",
    "    #print(\"F1-score:\", f1)\n",
    "    # Print classification report\n",
    "    print(\"Classification Report :\")\n",
    "    print(classification_report(y_test, y_pred))\n",
    "    # Print confusion matrix\n",
    "    print(\"Confusion Matrix:\")\n",
    "    print(conf_matrix)\n",
    "    \n",
    "    #results set equal to model with kfolds\n",
    "    #scores = cross_val_score(model, X_train, y_train, cv=kfold, scoring='roc_auc')\n",
    "    #print(\"Mean AUC Score : \", scores.mean())\n",
    "    #mean_auc_score.append(scores.mean())\n",
    "    #printing the averaged score over the 5 Kfolds\n",
    "    #print(\"Accuracy(averaged score over the 5 Kfolds): %.3f%% (%.3f%%)\" % (scores.mean()*100.0, scores.std()*100.0))\n",
    "    \n",
    "    print(\"=\" * 75)"
   ]
  },
  {
   "cell_type": "markdown",
   "id": "fd546cfd",
   "metadata": {},
   "source": [
    "1\n",
    "\n",
    "\n",
    "Iris is a 3-class dataset, while according to the docs(https://scikit-learn.org/stable/modules/generated/sklearn.metrics.roc_curve.html) for roc_curve:\n",
    "\n",
    "this implementation is restricted to the binary classification task.\n",
    "So, you cannot use it here, which is essentially what the error message says.\n",
    "\n",
    "For multiclass classification (like iris data), roc_auc_score(https://scikit-learn.org/stable/modules/generated/sklearn.metrics.roc_auc_score.html) offers an alternative:\n",
    "\n",
    "this implementation can be used with binary, multiclass and multilabel classification, but some restrictions apply (see Parameters).\n",
    "although only for the AUC score, not the FPR & TPR rates (in multiclass classification, the very notions of false positives, true negatives etc are not exactly straightforward and not particularly useful).\n",
    "\n",
    "+++++++++++++++++++++++++++++++++++++++++++++++++++++++++++++++++++++++++++++++++++++++++++++++++++++++++++++++++++\n",
    "\n",
    "If this is truly multiclass, you're likely looking for sklearn.preprocessing.label_binarize():\n",
    "\n",
    "fpr[i], tpr[i], _ = roc_curve(label_binarize(y_test, classes=range(nclasses))[:,i], y_score[:,i])\n",
    "\n",
    "+++++++++++++++++++++++++++++++++++++++++++++++++++++++++++++++++++++++++++++++++++++++++++++++++++++++++++++++++++\n",
    "\n",
    "\n",
    "ROC is a way to evaulate how well a classifier can separate one class-distribution from another in a given dataset. For a multiclass setting this is per definition not possible. What you can do is, either treat this as a \"One vs Rest\"-scenario, where you evaluate the performance of your classifier in separating one class from all the others combined, repeating this for every class or you treat this as a \"One vs One\"-scenario where you compare every possible combination of two classes.\n",
    "You can find an example with illustrations here (not mine):\n",
    "ROC Curve - Multiclass.ipynb(https://github.com/vinyluis/Articles/blob/main/ROC%20Curve%20and%20ROC%20AUC/ROC%20Curve%20-%20Multiclass.ipynb)\n",
    "Share\n",
    "Improve this answer\n",
    "\n",
    "+++++++++++++++++++++++++++++++++++++++++++++++++++++++++++++++++++++++++++++++++++++++++++++++++++++++++++++++++++\n",
    "\n",
    "\n",
    "https://itecnote.com/tecnote/python-valueerror-multiclass-format-is-not-supported/"
   ]
  },
  {
   "cell_type": "code",
   "execution_count": 73,
   "id": "191b5997",
   "metadata": {},
   "outputs": [
    {
     "data": {
      "text/html": [
       "<div>\n",
       "<style scoped>\n",
       "    .dataframe tbody tr th:only-of-type {\n",
       "        vertical-align: middle;\n",
       "    }\n",
       "\n",
       "    .dataframe tbody tr th {\n",
       "        vertical-align: top;\n",
       "    }\n",
       "\n",
       "    .dataframe thead th {\n",
       "        text-align: right;\n",
       "    }\n",
       "</style>\n",
       "<table border=\"1\" class=\"dataframe\">\n",
       "  <thead>\n",
       "    <tr style=\"text-align: right;\">\n",
       "      <th></th>\n",
       "      <th>Model Name</th>\n",
       "      <th>Execution time</th>\n",
       "      <th>Test time</th>\n",
       "      <th>Train Accuracy</th>\n",
       "      <th>Test score</th>\n",
       "      <th>Test Accuracy</th>\n",
       "    </tr>\n",
       "  </thead>\n",
       "  <tbody>\n",
       "    <tr>\n",
       "      <th>0</th>\n",
       "      <td>model_hist_dropped</td>\n",
       "      <td>34.914586</td>\n",
       "      <td>1.479341</td>\n",
       "      <td>0.448570</td>\n",
       "      <td>0.447149</td>\n",
       "      <td>0.447149</td>\n",
       "    </tr>\n",
       "    <tr>\n",
       "      <th>1</th>\n",
       "      <td>model_hist_one_hot</td>\n",
       "      <td>1208.417817</td>\n",
       "      <td>14.446718</td>\n",
       "      <td>0.660673</td>\n",
       "      <td>0.659527</td>\n",
       "      <td>0.659527</td>\n",
       "    </tr>\n",
       "    <tr>\n",
       "      <th>2</th>\n",
       "      <td>model_hist_ordinal</td>\n",
       "      <td>2124.801684</td>\n",
       "      <td>6.154147</td>\n",
       "      <td>0.660570</td>\n",
       "      <td>0.659331</td>\n",
       "      <td>0.659331</td>\n",
       "    </tr>\n",
       "    <tr>\n",
       "      <th>3</th>\n",
       "      <td>model_hist_native_ordinal</td>\n",
       "      <td>118.096088</td>\n",
       "      <td>6.168384</td>\n",
       "      <td>0.660570</td>\n",
       "      <td>0.659331</td>\n",
       "      <td>0.659331</td>\n",
       "    </tr>\n",
       "    <tr>\n",
       "      <th>4</th>\n",
       "      <td>model_hist_native_One_hot</td>\n",
       "      <td>3853.702844</td>\n",
       "      <td>20.419032</td>\n",
       "      <td>0.660673</td>\n",
       "      <td>0.659527</td>\n",
       "      <td>0.659527</td>\n",
       "    </tr>\n",
       "    <tr>\n",
       "      <th>5</th>\n",
       "      <td>model_hist_native</td>\n",
       "      <td>5496.046752</td>\n",
       "      <td>17.605063</td>\n",
       "      <td>0.660830</td>\n",
       "      <td>0.659453</td>\n",
       "      <td>0.659453</td>\n",
       "    </tr>\n",
       "  </tbody>\n",
       "</table>\n",
       "</div>"
      ],
      "text/plain": [
       "                  Model Name  Execution time  Test time  Train Accuracy  \\\n",
       "0         model_hist_dropped       34.914586   1.479341        0.448570   \n",
       "1         model_hist_one_hot     1208.417817  14.446718        0.660673   \n",
       "2         model_hist_ordinal     2124.801684   6.154147        0.660570   \n",
       "3  model_hist_native_ordinal      118.096088   6.168384        0.660570   \n",
       "4  model_hist_native_One_hot     3853.702844  20.419032        0.660673   \n",
       "5          model_hist_native     5496.046752  17.605063        0.660830   \n",
       "\n",
       "   Test score  Test Accuracy  \n",
       "0    0.447149       0.447149  \n",
       "1    0.659527       0.659527  \n",
       "2    0.659331       0.659331  \n",
       "3    0.659331       0.659331  \n",
       "4    0.659527       0.659527  \n",
       "5    0.659453       0.659453  "
      ]
     },
     "execution_count": 73,
     "metadata": {},
     "output_type": "execute_result"
    }
   ],
   "source": [
    "# Calling DataFrame constructor after zipping\n",
    "# both lists, with columns specified\n",
    "hist_gradient_boosting_results = pd.DataFrame(\n",
    "    list(zip(model_names, execution_times, test_times, train_scores, test_scores, accuracy_scores)),\n",
    "                  columns =['Model Name', 'Execution time', 'Test time', 'Train Accuracy', 'Test score', 'Test Accuracy']\n",
    "                 )\n",
    "\n",
    "# Exporting the RESULT DataFrame into a CSV file\n",
    "hist_gradient_boosting_results.to_csv('Acc_Results_hist_gradient_boosting.csv')\n",
    "# Printing\n",
    "hist_gradient_boosting_results"
   ]
  },
  {
   "cell_type": "code",
   "execution_count": 74,
   "id": "723f058f",
   "metadata": {},
   "outputs": [
    {
     "name": "stdout",
     "output_type": "stream",
     "text": [
      "Accuracy: 44.715% (44.715%)\n"
     ]
    }
   ],
   "source": [
    "print(\"Accuracy: %.3f%% (%.3f%%)\" % (accuracy_scores[0]*100.0, accuracy_scores[0]*100.0))"
   ]
  },
  {
   "cell_type": "code",
   "execution_count": 75,
   "id": "083e20fa",
   "metadata": {},
   "outputs": [
    {
     "data": {
      "text/html": [
       "<div>\n",
       "<style scoped>\n",
       "    .dataframe tbody tr th:only-of-type {\n",
       "        vertical-align: middle;\n",
       "    }\n",
       "\n",
       "    .dataframe tbody tr th {\n",
       "        vertical-align: top;\n",
       "    }\n",
       "\n",
       "    .dataframe thead th {\n",
       "        text-align: right;\n",
       "    }\n",
       "</style>\n",
       "<table border=\"1\" class=\"dataframe\">\n",
       "  <thead>\n",
       "    <tr style=\"text-align: right;\">\n",
       "      <th></th>\n",
       "      <th>Train Accuracy</th>\n",
       "      <th>Test score</th>\n",
       "      <th>Test Accuracy</th>\n",
       "    </tr>\n",
       "  </thead>\n",
       "  <tbody>\n",
       "    <tr>\n",
       "      <th>0</th>\n",
       "      <td>44.857</td>\n",
       "      <td>44.715</td>\n",
       "      <td>44.715</td>\n",
       "    </tr>\n",
       "    <tr>\n",
       "      <th>1</th>\n",
       "      <td>66.067</td>\n",
       "      <td>65.953</td>\n",
       "      <td>65.953</td>\n",
       "    </tr>\n",
       "    <tr>\n",
       "      <th>2</th>\n",
       "      <td>66.057</td>\n",
       "      <td>65.933</td>\n",
       "      <td>65.933</td>\n",
       "    </tr>\n",
       "    <tr>\n",
       "      <th>3</th>\n",
       "      <td>66.057</td>\n",
       "      <td>65.933</td>\n",
       "      <td>65.933</td>\n",
       "    </tr>\n",
       "    <tr>\n",
       "      <th>4</th>\n",
       "      <td>66.067</td>\n",
       "      <td>65.953</td>\n",
       "      <td>65.953</td>\n",
       "    </tr>\n",
       "    <tr>\n",
       "      <th>5</th>\n",
       "      <td>66.083</td>\n",
       "      <td>65.945</td>\n",
       "      <td>65.945</td>\n",
       "    </tr>\n",
       "  </tbody>\n",
       "</table>\n",
       "</div>"
      ],
      "text/plain": [
       "   Train Accuracy  Test score  Test Accuracy\n",
       "0          44.857      44.715         44.715\n",
       "1          66.067      65.953         65.953\n",
       "2          66.057      65.933         65.933\n",
       "3          66.057      65.933         65.933\n",
       "4          66.067      65.953         65.953\n",
       "5          66.083      65.945         65.945"
      ]
     },
     "execution_count": 75,
     "metadata": {},
     "output_type": "execute_result"
    }
   ],
   "source": [
    "(hist_gradient_boosting_results[['Train Accuracy', 'Test score', 'Test Accuracy']]*100).round(3)"
   ]
  },
  {
   "cell_type": "markdown",
   "id": "4ab752b2",
   "metadata": {},
   "source": [
    "For datasets with categorical features, using the native categorical support is often better than relying on one-hot encoding (OneHotEncoder), because one-hot encoding requires more tree depth to achieve equivalent splits. It is also usually better to rely on the native categorical support rather than to treat categorical features as continuous (ordinal), which happens for ordinal-encoded categorical data, since categories are nominal quantities where order does not matter.\n",
    "\n"
   ]
  },
  {
   "cell_type": "markdown",
   "id": "88591c71",
   "metadata": {},
   "source": [
    "##### Plot accuracy, training and test time of each histo gradient boosting classifier"
   ]
  },
  {
   "cell_type": "code",
   "execution_count": 76,
   "id": "175645ad",
   "metadata": {},
   "outputs": [
    {
     "data": {
      "image/png": "[encoded data removed]",
      "text/plain": [
       "<Figure size 1200x900 with 1 Axes>"
      ]
     },
     "metadata": {},
     "output_type": "display_data"
    },
    {
     "data": {
      "image/png": "[encoded data removed]",
      "text/plain": [
       "<Figure size 1000x800 with 1 Axes>"
      ]
     },
     "metadata": {},
     "output_type": "display_data"
    }
   ],
   "source": [
    "\n",
    "fig, ax1 = plt.subplots(figsize=(12, 9))\n",
    "ax1.scatter(test_scores, execution_times, s=60)\n",
    "ax1.set(\n",
    "    title=\"Score-training time trade-off\",\n",
    "    yscale=\"log\",\n",
    "    xlabel=\"test accuracy\",\n",
    "    ylabel=\"training time (s)\",\n",
    ")\n",
    "fig, ax2 = plt.subplots(figsize=(10, 8))\n",
    "ax2.scatter(test_scores, test_times, s=60)\n",
    "ax2.set(\n",
    "    title=\"Score-test time trade-off\",\n",
    "    yscale=\"log\",\n",
    "    xlabel=\"test accuracy\",\n",
    "    ylabel=\"test time (s)\",\n",
    ")\n",
    "\n",
    "for i, txt in enumerate(model_names):\n",
    "    ax1.annotate(txt, (test_scores[i], execution_times[i]))\n",
    "    ax2.annotate(txt, (test_scores[i], test_times[i]))"
   ]
  },
  {
   "cell_type": "code",
   "execution_count": 77,
   "id": "b7e025e5",
   "metadata": {},
   "outputs": [
    {
     "data": {
      "image/png": "[encoded data removed]",
      "text/plain": [
       "<Figure size 640x480 with 2 Axes>"
      ]
     },
     "metadata": {},
     "output_type": "display_data"
    }
   ],
   "source": [
    "#X_test_norm = hist_ordinal.transform(X_test)\n",
    "hist_ordinal.fit(X_train, y_train)\n",
    "y_pred = hist_ordinal.predict(X_test)\n",
    "cm = confusion_matrix(y_test, y_pred)\n",
    "cm_display = ConfusionMatrixDisplay(cm).plot()"
   ]
  },
  {
   "cell_type": "code",
   "execution_count": 78,
   "id": "dca43613",
   "metadata": {},
   "outputs": [
    {
     "name": "stdout",
     "output_type": "stream",
     "text": [
      "col_0               Blessé hospitalisé  Blessé léger  Indemne  Tué\n",
      "grav                                                              \n",
      "Indemne                           8103         22979   156365  102\n",
      "Blessé léger                     19437        104205    41244  171\n",
      "Blessé hospitalisé               40691         37198    14716  902\n",
      "Tué                               7704          2106     1483  942\n",
      "==================================================\n",
      "Classification Report imbalanced :\n",
      "                          pre       rec       spe        f1       geo       iba       sup\n",
      "\n",
      "Blessé hospitalisé       0.54      0.44      0.90      0.48      0.63      0.37     93507\n",
      "      Blessé léger       0.63      0.63      0.79      0.63      0.71      0.49    165057\n",
      "           Indemne       0.73      0.83      0.79      0.78      0.81      0.66    187549\n",
      "               Tué       0.44      0.08      1.00      0.13      0.28      0.07     12235\n",
      "\n",
      "       avg / total       0.65      0.66      0.82      0.65      0.72      0.52    458348\n",
      "\n"
     ]
    }
   ],
   "source": [
    "# Affichage de la matrice de confusion obtenue grâce aux prédictions sur l'ensemble de test.\n",
    "#y_pred = hist_native_hot.predict(X_test)\n",
    "print(pd.crosstab(y_test, y_pred))\n",
    "print(\"=\" * 50)\n",
    "\n",
    "# Affichage du rapport de résultat sur l'ensemble de test obtenu par classification_report_imbalanced\n",
    "print(\"Classification Report imbalanced :\")\n",
    "print(classification_report_imbalanced(y_test, y_pred))"
   ]
  },
  {
   "cell_type": "markdown",
   "id": "a85673c0",
   "metadata": {},
   "source": [
    "Le tableau de rapport de classification montre que le rappel et le f1-score de la classe 'Blessé hospitalisé' et de la classe 'Tué' sont mauvais, tandis que pour les classe 'Blessé léger' et 'Indemne', ils sont élevés.\n",
    "En outre, la moyenne géométrique est également faible uniquement pour la classe 'Tué'. \n",
    "Le modèle semble ne pas être acceptable ainsi pour notre problème."
   ]
  },
  {
   "cell_type": "code",
   "execution_count": 79,
   "id": "250b7396",
   "metadata": {},
   "outputs": [
    {
     "name": "stdout",
     "output_type": "stream",
     "text": [
      "[('Blessé hospitalisé', 374026), ('Blessé léger', 660229), ('Indemne', 750194), ('Tué', 48942)]\n"
     ]
    }
   ],
   "source": [
    "print(sorted(Counter(y_train).items()))"
   ]
  },
  {
   "cell_type": "markdown",
   "id": "afd56e54",
   "metadata": {},
   "source": [
    "## Scaling data\n",
    "<div class=\"alert alert-block alert-info\">\n",
    "<h2><a id = \"scaling_data\">Standardisation des données</a></h2>\n",
    "</div>"
   ]
  },
  {
   "cell_type": "markdown",
   "id": "c846c33f",
   "metadata": {},
   "source": [
    "##### Strategies to encode categories"
   ]
  },
  {
   "cell_type": "code",
   "execution_count": 62,
   "id": "2f6722a1",
   "metadata": {},
   "outputs": [
    {
     "data": {
      "text/plain": [
       "Index(['Lundi', 'Mardi', 'Mercredi', 'Jeudi', 'Vendredi', 'Samedi',\n",
       "       'Dimanche'],\n",
       "      dtype='object')"
      ]
     },
     "execution_count": 62,
     "metadata": {},
     "output_type": "execute_result"
    }
   ],
   "source": [
    "X[\"jour_de_la_semaine\"].cat.categories"
   ]
  },
  {
   "cell_type": "code",
   "execution_count": 63,
   "id": "9701204a",
   "metadata": {},
   "outputs": [
    {
     "data": {
      "text/plain": [
       "Index(['0', '1', '2', '3', '4', '5', '6', '7', '8', '9', '10', '11', '12',\n",
       "       '13', '14', '15', '16', '17', '18', '19', '20', '21', '22', '23'],\n",
       "      dtype='object')"
      ]
     },
     "execution_count": 63,
     "metadata": {},
     "output_type": "execute_result"
    }
   ],
   "source": [
    "X[\"heure\"].cat.categories"
   ]
  },
  {
   "cell_type": "code",
   "execution_count": 64,
   "id": "6bc743ff",
   "metadata": {},
   "outputs": [
    {
     "data": {
      "text/plain": [
       "array([[ 4., 11.],\n",
       "       [ 4., 11.],\n",
       "       [ 4., 11.],\n",
       "       ...,\n",
       "       [ 5.,  3.],\n",
       "       [ 4.,  9.],\n",
       "       [ 4.,  9.]])"
      ]
     },
     "execution_count": 64,
     "metadata": {},
     "output_type": "execute_result"
    }
   ],
   "source": [
    "# Encoding ordinal categorie\n",
    "heure_jsemaine_column = X[[\"jour_de_la_semaine\", \"heure\"]]\n",
    "\n",
    "encoder = OrdinalEncoder()\n",
    "heure_jsemaine_encoded = encoder.fit_transform(heure_jsemaine_column)\n",
    "heure_jsemaine_encoded"
   ]
  },
  {
   "cell_type": "code",
   "execution_count": 65,
   "id": "6eaf98ae",
   "metadata": {},
   "outputs": [
    {
     "data": {
      "text/plain": [
       "[array(['Dimanche', 'Jeudi', 'Lundi', 'Mardi', 'Mercredi', 'Samedi',\n",
       "        'Vendredi'], dtype=object),\n",
       " array(['0', '1', '10', '11', '12', '13', '14', '15', '16', '17', '18',\n",
       "        '19', '2', '20', '21', '22', '23', '3', '4', '5', '6', '7', '8',\n",
       "        '9'], dtype=object)]"
      ]
     },
     "execution_count": 65,
     "metadata": {},
     "output_type": "execute_result"
    }
   ],
   "source": [
    "# check the mapping between the categories and the numerical values\n",
    "encoder.categories_"
   ]
  },
  {
   "cell_type": "code",
   "execution_count": 66,
   "id": "21009128",
   "metadata": {},
   "outputs": [
    {
     "name": "stdout",
     "output_type": "stream",
     "text": [
      "The dataset encoded contains 2 features\n"
     ]
    }
   ],
   "source": [
    "print(\n",
    "    f\"The dataset encoded contains {heure_jsemaine_encoded.shape[1]} features\")"
   ]
  },
  {
   "cell_type": "code",
   "execution_count": 67,
   "id": "4431f170",
   "metadata": {},
   "outputs": [
    {
     "data": {
      "text/html": [
       "<div>\n",
       "<style scoped>\n",
       "    .dataframe tbody tr th:only-of-type {\n",
       "        vertical-align: middle;\n",
       "    }\n",
       "\n",
       "    .dataframe tbody tr th {\n",
       "        vertical-align: top;\n",
       "    }\n",
       "\n",
       "    .dataframe thead th {\n",
       "        text-align: right;\n",
       "    }\n",
       "</style>\n",
       "<table border=\"1\" class=\"dataframe\">\n",
       "  <thead>\n",
       "    <tr style=\"text-align: right;\">\n",
       "      <th></th>\n",
       "      <th>jour_de_la_semaine</th>\n",
       "      <th>heure</th>\n",
       "    </tr>\n",
       "  </thead>\n",
       "  <tbody>\n",
       "    <tr>\n",
       "      <th>0</th>\n",
       "      <td>4.0</td>\n",
       "      <td>11.0</td>\n",
       "    </tr>\n",
       "    <tr>\n",
       "      <th>1</th>\n",
       "      <td>4.0</td>\n",
       "      <td>11.0</td>\n",
       "    </tr>\n",
       "    <tr>\n",
       "      <th>2</th>\n",
       "      <td>4.0</td>\n",
       "      <td>11.0</td>\n",
       "    </tr>\n",
       "    <tr>\n",
       "      <th>3</th>\n",
       "      <td>4.0</td>\n",
       "      <td>11.0</td>\n",
       "    </tr>\n",
       "    <tr>\n",
       "      <th>4</th>\n",
       "      <td>4.0</td>\n",
       "      <td>11.0</td>\n",
       "    </tr>\n",
       "  </tbody>\n",
       "</table>\n",
       "</div>"
      ],
      "text/plain": [
       "   jour_de_la_semaine  heure\n",
       "0                 4.0   11.0\n",
       "1                 4.0   11.0\n",
       "2                 4.0   11.0\n",
       "3                 4.0   11.0\n",
       "4                 4.0   11.0"
      ]
     },
     "execution_count": 67,
     "metadata": {},
     "output_type": "execute_result"
    }
   ],
   "source": [
    "cat_ordered_encoded = pd.DataFrame(heure_jsemaine_encoded, columns =['jour_de_la_semaine', 'heure'])\n",
    "cat_ordered_encoded.head()"
   ]
  },
  {
   "cell_type": "code",
   "execution_count": 68,
   "id": "013a7001",
   "metadata": {},
   "outputs": [
    {
     "name": "stdout",
     "output_type": "stream",
     "text": [
      "The encoded dataset contains 261 features\n"
     ]
    }
   ],
   "source": [
    "# Encoding nominal categories (without assuming any order)\n",
    "oneHotEncoder = OneHotEncoder(sparse=False)\n",
    "\n",
    "categorical_columns.remove(\"jour_de_la_semaine\")\n",
    "categorical_columns.remove(\"heure\")\n",
    "\n",
    "X_categorical_encoded = oneHotEncoder.fit_transform(X[categorical_columns])\n",
    "\n",
    "\n",
    "print(f\"The encoded dataset contains {X_categorical_encoded.shape[1]} features\")"
   ]
  },
  {
   "cell_type": "code",
   "execution_count": 69,
   "id": "837d4b64",
   "metadata": {},
   "outputs": [
    {
     "data": {
      "text/html": [
       "<div>\n",
       "<style scoped>\n",
       "    .dataframe tbody tr th:only-of-type {\n",
       "        vertical-align: middle;\n",
       "    }\n",
       "\n",
       "    .dataframe tbody tr th {\n",
       "        vertical-align: top;\n",
       "    }\n",
       "\n",
       "    .dataframe thead th {\n",
       "        text-align: right;\n",
       "    }\n",
       "</style>\n",
       "<table border=\"1\" class=\"dataframe\">\n",
       "  <thead>\n",
       "    <tr style=\"text-align: right;\">\n",
       "      <th></th>\n",
       "      <th>place_0.0</th>\n",
       "      <th>place_1.0</th>\n",
       "      <th>place_10.0</th>\n",
       "      <th>place_2.0</th>\n",
       "      <th>place_3.0</th>\n",
       "      <th>place_4.0</th>\n",
       "      <th>place_5.0</th>\n",
       "      <th>place_6.0</th>\n",
       "      <th>place_7.0</th>\n",
       "      <th>place_8.0</th>\n",
       "      <th>...</th>\n",
       "      <th>atm_Temps éblouissant</th>\n",
       "      <th>atm_Vent fort - tempête</th>\n",
       "      <th>col_Autre collision</th>\n",
       "      <th>col_Deux véhicules - frontale</th>\n",
       "      <th>col_Deux véhicules – par le coté</th>\n",
       "      <th>col_Deux véhicules – par l’arrière</th>\n",
       "      <th>col_Non renseigné</th>\n",
       "      <th>col_Sans collision</th>\n",
       "      <th>col_Trois véhicules et plus - collisions multiples</th>\n",
       "      <th>col_Trois véhicules et plus – en chaîne</th>\n",
       "    </tr>\n",
       "  </thead>\n",
       "  <tbody>\n",
       "    <tr>\n",
       "      <th>0</th>\n",
       "      <td>0.0</td>\n",
       "      <td>1.0</td>\n",
       "      <td>0.0</td>\n",
       "      <td>0.0</td>\n",
       "      <td>0.0</td>\n",
       "      <td>0.0</td>\n",
       "      <td>0.0</td>\n",
       "      <td>0.0</td>\n",
       "      <td>0.0</td>\n",
       "      <td>0.0</td>\n",
       "      <td>...</td>\n",
       "      <td>0.0</td>\n",
       "      <td>0.0</td>\n",
       "      <td>0.0</td>\n",
       "      <td>0.0</td>\n",
       "      <td>1.0</td>\n",
       "      <td>0.0</td>\n",
       "      <td>0.0</td>\n",
       "      <td>0.0</td>\n",
       "      <td>0.0</td>\n",
       "      <td>0.0</td>\n",
       "    </tr>\n",
       "    <tr>\n",
       "      <th>1</th>\n",
       "      <td>0.0</td>\n",
       "      <td>1.0</td>\n",
       "      <td>0.0</td>\n",
       "      <td>0.0</td>\n",
       "      <td>0.0</td>\n",
       "      <td>0.0</td>\n",
       "      <td>0.0</td>\n",
       "      <td>0.0</td>\n",
       "      <td>0.0</td>\n",
       "      <td>0.0</td>\n",
       "      <td>...</td>\n",
       "      <td>0.0</td>\n",
       "      <td>0.0</td>\n",
       "      <td>0.0</td>\n",
       "      <td>0.0</td>\n",
       "      <td>1.0</td>\n",
       "      <td>0.0</td>\n",
       "      <td>0.0</td>\n",
       "      <td>0.0</td>\n",
       "      <td>0.0</td>\n",
       "      <td>0.0</td>\n",
       "    </tr>\n",
       "    <tr>\n",
       "      <th>2</th>\n",
       "      <td>0.0</td>\n",
       "      <td>0.0</td>\n",
       "      <td>0.0</td>\n",
       "      <td>1.0</td>\n",
       "      <td>0.0</td>\n",
       "      <td>0.0</td>\n",
       "      <td>0.0</td>\n",
       "      <td>0.0</td>\n",
       "      <td>0.0</td>\n",
       "      <td>0.0</td>\n",
       "      <td>...</td>\n",
       "      <td>0.0</td>\n",
       "      <td>0.0</td>\n",
       "      <td>0.0</td>\n",
       "      <td>0.0</td>\n",
       "      <td>1.0</td>\n",
       "      <td>0.0</td>\n",
       "      <td>0.0</td>\n",
       "      <td>0.0</td>\n",
       "      <td>0.0</td>\n",
       "      <td>0.0</td>\n",
       "    </tr>\n",
       "    <tr>\n",
       "      <th>3</th>\n",
       "      <td>0.0</td>\n",
       "      <td>0.0</td>\n",
       "      <td>0.0</td>\n",
       "      <td>0.0</td>\n",
       "      <td>0.0</td>\n",
       "      <td>1.0</td>\n",
       "      <td>0.0</td>\n",
       "      <td>0.0</td>\n",
       "      <td>0.0</td>\n",
       "      <td>0.0</td>\n",
       "      <td>...</td>\n",
       "      <td>0.0</td>\n",
       "      <td>0.0</td>\n",
       "      <td>0.0</td>\n",
       "      <td>0.0</td>\n",
       "      <td>1.0</td>\n",
       "      <td>0.0</td>\n",
       "      <td>0.0</td>\n",
       "      <td>0.0</td>\n",
       "      <td>0.0</td>\n",
       "      <td>0.0</td>\n",
       "    </tr>\n",
       "    <tr>\n",
       "      <th>4</th>\n",
       "      <td>0.0</td>\n",
       "      <td>0.0</td>\n",
       "      <td>0.0</td>\n",
       "      <td>0.0</td>\n",
       "      <td>0.0</td>\n",
       "      <td>0.0</td>\n",
       "      <td>1.0</td>\n",
       "      <td>0.0</td>\n",
       "      <td>0.0</td>\n",
       "      <td>0.0</td>\n",
       "      <td>...</td>\n",
       "      <td>0.0</td>\n",
       "      <td>0.0</td>\n",
       "      <td>0.0</td>\n",
       "      <td>0.0</td>\n",
       "      <td>1.0</td>\n",
       "      <td>0.0</td>\n",
       "      <td>0.0</td>\n",
       "      <td>0.0</td>\n",
       "      <td>0.0</td>\n",
       "      <td>0.0</td>\n",
       "    </tr>\n",
       "  </tbody>\n",
       "</table>\n",
       "<p>5 rows × 261 columns</p>\n",
       "</div>"
      ],
      "text/plain": [
       "   place_0.0  place_1.0  place_10.0  place_2.0  place_3.0  place_4.0  \\\n",
       "0        0.0        1.0         0.0        0.0        0.0        0.0   \n",
       "1        0.0        1.0         0.0        0.0        0.0        0.0   \n",
       "2        0.0        0.0         0.0        1.0        0.0        0.0   \n",
       "3        0.0        0.0         0.0        0.0        0.0        1.0   \n",
       "4        0.0        0.0         0.0        0.0        0.0        0.0   \n",
       "\n",
       "   place_5.0  place_6.0  place_7.0  place_8.0  ...  atm_Temps éblouissant  \\\n",
       "0        0.0        0.0        0.0        0.0  ...                    0.0   \n",
       "1        0.0        0.0        0.0        0.0  ...                    0.0   \n",
       "2        0.0        0.0        0.0        0.0  ...                    0.0   \n",
       "3        0.0        0.0        0.0        0.0  ...                    0.0   \n",
       "4        1.0        0.0        0.0        0.0  ...                    0.0   \n",
       "\n",
       "   atm_Vent fort - tempête  col_Autre collision  \\\n",
       "0                      0.0                  0.0   \n",
       "1                      0.0                  0.0   \n",
       "2                      0.0                  0.0   \n",
       "3                      0.0                  0.0   \n",
       "4                      0.0                  0.0   \n",
       "\n",
       "   col_Deux véhicules - frontale  col_Deux véhicules – par le coté  \\\n",
       "0                            0.0                               1.0   \n",
       "1                            0.0                               1.0   \n",
       "2                            0.0                               1.0   \n",
       "3                            0.0                               1.0   \n",
       "4                            0.0                               1.0   \n",
       "\n",
       "   col_Deux véhicules – par l’arrière  col_Non renseigné  col_Sans collision  \\\n",
       "0                                 0.0                0.0                 0.0   \n",
       "1                                 0.0                0.0                 0.0   \n",
       "2                                 0.0                0.0                 0.0   \n",
       "3                                 0.0                0.0                 0.0   \n",
       "4                                 0.0                0.0                 0.0   \n",
       "\n",
       "   col_Trois véhicules et plus - collisions multiples  \\\n",
       "0                                                0.0    \n",
       "1                                                0.0    \n",
       "2                                                0.0    \n",
       "3                                                0.0    \n",
       "4                                                0.0    \n",
       "\n",
       "   col_Trois véhicules et plus – en chaîne  \n",
       "0                                      0.0  \n",
       "1                                      0.0  \n",
       "2                                      0.0  \n",
       "3                                      0.0  \n",
       "4                                      0.0  \n",
       "\n",
       "[5 rows x 261 columns]"
      ]
     },
     "execution_count": 69,
     "metadata": {},
     "output_type": "execute_result"
    }
   ],
   "source": [
    "# dataframe with informative column names as provided by the encoder object:\n",
    "columns_encoded = oneHotEncoder.get_feature_names_out(categorical_columns)\n",
    "cat_data_encoded= pd.DataFrame(X_categorical_encoded, columns=columns_encoded)\n",
    "cat_data_encoded.head()"
   ]
  },
  {
   "cell_type": "code",
   "execution_count": 70,
   "id": "3d20fea6",
   "metadata": {},
   "outputs": [
    {
     "name": "stdout",
     "output_type": "stream",
     "text": [
      "Index(['place_0.0', 'place_1.0', 'place_10.0', 'place_2.0', 'place_3.0',\n",
      "       'place_4.0', 'place_5.0', 'place_6.0', 'place_7.0', 'place_8.0',\n",
      "       ...\n",
      "       'atm_Temps éblouissant', 'atm_Vent fort - tempête',\n",
      "       'col_Autre collision', 'col_Deux véhicules - frontale',\n",
      "       'col_Deux véhicules – par le coté',\n",
      "       'col_Deux véhicules – par l’arrière', 'col_Non renseigné',\n",
      "       'col_Sans collision',\n",
      "       'col_Trois véhicules et plus - collisions multiples',\n",
      "       'col_Trois véhicules et plus – en chaîne'],\n",
      "      dtype='object', length=261)\n"
     ]
    }
   ],
   "source": [
    "print(cat_data_encoded.columns)"
   ]
  },
  {
   "cell_type": "code",
   "execution_count": 71,
   "id": "2d7d5056",
   "metadata": {},
   "outputs": [
    {
     "data": {
      "text/plain": [
       "Index(['place', 'catu', 'sexe', 'trajet', 'locp', 'actp', 'etatp', 'secuUn',\n",
       "       'secuDeux', 'tranches_ages', 'catr', 'circ', 'vosp', 'prof', 'plan',\n",
       "       'surf', 'infra', 'situ', 'senc', 'obs', 'obsm', 'choc', 'manv',\n",
       "       'catv_Label', 'lum', 'agg', 'int', 'atm', 'col', 'jour_de_la_semaine',\n",
       "       'heure', 'age_acc_an', 'nbv', 'occutc'],\n",
       "      dtype='object')"
      ]
     },
     "execution_count": 71,
     "metadata": {},
     "output_type": "execute_result"
    }
   ],
   "source": [
    "X.columns"
   ]
  },
  {
   "cell_type": "code",
   "execution_count": 72,
   "id": "d55721e4",
   "metadata": {},
   "outputs": [],
   "source": [
    "# mise à jour de la liste des variables catégorielles\n",
    "categorical_columns_selector = selector(dtype_include=\"category\")\n",
    "categorical_columns = categorical_columns_selector(accRoutierFr.drop([\"grav\"], axis=1))"
   ]
  },
  {
   "cell_type": "markdown",
   "id": "af3522e0",
   "metadata": {},
   "source": [
    "##### scaling numerical variables"
   ]
  },
  {
   "cell_type": "code",
   "execution_count": 73,
   "id": "83594fea",
   "metadata": {},
   "outputs": [
    {
     "data": {
      "text/plain": [
       "array([[-0.47076531, -0.08743727, -0.04660622],\n",
       "       [-0.02897708, -0.08743727, -0.04660622],\n",
       "       [ 0.19191704, -0.08743727, -0.04660622],\n",
       "       ...,\n",
       "       [-0.85751901, -0.08743727, -0.04660622],\n",
       "       [ 0.85444819, -0.08743727, -0.04660622],\n",
       "       [ 1.0753423 , -0.08743727, -0.04660622]])"
      ]
     },
     "execution_count": 73,
     "metadata": {},
     "output_type": "execute_result"
    }
   ],
   "source": [
    "# Application de la standardisation des variables continues \n",
    "numerical_X_scaled = numerical_preprocessor.fit_transform(X[['age_acc_an', 'nbv', 'occutc']])\n",
    "numerical_X_scaled"
   ]
  },
  {
   "cell_type": "code",
   "execution_count": 74,
   "id": "61d0be7b",
   "metadata": {},
   "outputs": [
    {
     "data": {
      "text/html": [
       "<div>\n",
       "<style scoped>\n",
       "    .dataframe tbody tr th:only-of-type {\n",
       "        vertical-align: middle;\n",
       "    }\n",
       "\n",
       "    .dataframe tbody tr th {\n",
       "        vertical-align: top;\n",
       "    }\n",
       "\n",
       "    .dataframe thead th {\n",
       "        text-align: right;\n",
       "    }\n",
       "</style>\n",
       "<table border=\"1\" class=\"dataframe\">\n",
       "  <thead>\n",
       "    <tr style=\"text-align: right;\">\n",
       "      <th></th>\n",
       "      <th>age_acc_an</th>\n",
       "      <th>nbv</th>\n",
       "      <th>occutc</th>\n",
       "    </tr>\n",
       "  </thead>\n",
       "  <tbody>\n",
       "    <tr>\n",
       "      <th>count</th>\n",
       "      <td>2.291739e+06</td>\n",
       "      <td>2.291739e+06</td>\n",
       "      <td>2.291739e+06</td>\n",
       "    </tr>\n",
       "    <tr>\n",
       "      <th>mean</th>\n",
       "      <td>-1.438289e-13</td>\n",
       "      <td>1.813049e-13</td>\n",
       "      <td>-5.017623e-15</td>\n",
       "    </tr>\n",
       "    <tr>\n",
       "      <th>std</th>\n",
       "      <td>1.000000e+00</td>\n",
       "      <td>1.000000e+00</td>\n",
       "      <td>1.000000e+00</td>\n",
       "    </tr>\n",
       "    <tr>\n",
       "      <th>min</th>\n",
       "      <td>-2.017175e+00</td>\n",
       "      <td>-2.053709e+00</td>\n",
       "      <td>-4.660622e-02</td>\n",
       "    </tr>\n",
       "    <tr>\n",
       "      <th>25%</th>\n",
       "      <td>-8.021821e-01</td>\n",
       "      <td>-8.743727e-02</td>\n",
       "      <td>-4.660622e-02</td>\n",
       "    </tr>\n",
       "    <tr>\n",
       "      <th>50%</th>\n",
       "      <td>-1.946855e-01</td>\n",
       "      <td>-8.743727e-02</td>\n",
       "      <td>-4.660622e-02</td>\n",
       "    </tr>\n",
       "    <tr>\n",
       "      <th>75%</th>\n",
       "      <td>6.887398e-01</td>\n",
       "      <td>-8.743727e-02</td>\n",
       "      <td>-4.660622e-02</td>\n",
       "    </tr>\n",
       "    <tr>\n",
       "      <th>max</th>\n",
       "      <td>2.897832e+00</td>\n",
       "      <td>6.348868e+01</td>\n",
       "      <td>2.741343e+02</td>\n",
       "    </tr>\n",
       "  </tbody>\n",
       "</table>\n",
       "</div>"
      ],
      "text/plain": [
       "         age_acc_an           nbv        occutc\n",
       "count  2.291739e+06  2.291739e+06  2.291739e+06\n",
       "mean  -1.438289e-13  1.813049e-13 -5.017623e-15\n",
       "std    1.000000e+00  1.000000e+00  1.000000e+00\n",
       "min   -2.017175e+00 -2.053709e+00 -4.660622e-02\n",
       "25%   -8.021821e-01 -8.743727e-02 -4.660622e-02\n",
       "50%   -1.946855e-01 -8.743727e-02 -4.660622e-02\n",
       "75%    6.887398e-01 -8.743727e-02 -4.660622e-02\n",
       "max    2.897832e+00  6.348868e+01  2.741343e+02"
      ]
     },
     "execution_count": 74,
     "metadata": {},
     "output_type": "execute_result"
    }
   ],
   "source": [
    "data_numerical_scaled = pd.DataFrame(numerical_X_scaled,\n",
    "                                 columns=['age_acc_an', 'nbv', 'occutc'])\n",
    "data_numerical_scaled.describe()"
   ]
  },
  {
   "cell_type": "code",
   "execution_count": 75,
   "id": "004d22d9",
   "metadata": {},
   "outputs": [
    {
     "data": {
      "text/plain": [
       "Index(['age_acc_an', 'nbv', 'occutc'], dtype='object')"
      ]
     },
     "execution_count": 75,
     "metadata": {},
     "output_type": "execute_result"
    }
   ],
   "source": [
    "data_numerical_scaled.columns"
   ]
  },
  {
   "cell_type": "code",
   "execution_count": 76,
   "id": "db716adf",
   "metadata": {},
   "outputs": [
    {
     "data": {
      "text/plain": [
       "(2291739, 266)"
      ]
     },
     "execution_count": 76,
     "metadata": {},
     "output_type": "execute_result"
    }
   ],
   "source": [
    "X_encoded = pd.concat([cat_ordered_encoded, cat_data_encoded, data_numerical_scaled], axis=1)\n",
    "X_encoded.shape"
   ]
  },
  {
   "cell_type": "code",
   "execution_count": 77,
   "id": "15d74927",
   "metadata": {},
   "outputs": [
    {
     "name": "stdout",
     "output_type": "stream",
     "text": [
      "<class 'pandas.core.frame.DataFrame'>\n",
      "RangeIndex: 2291739 entries, 0 to 2291738\n",
      "Columns: 266 entries, jour_de_la_semaine to occutc\n",
      "dtypes: float64(266)\n",
      "memory usage: 4.5 GB\n"
     ]
    }
   ],
   "source": [
    "X_encoded.info()"
   ]
  },
  {
   "cell_type": "code",
   "execution_count": 78,
   "id": "f3c8dd30",
   "metadata": {},
   "outputs": [
    {
     "data": {
      "text/plain": [
       "jour_de_la_semaine                                    float64\n",
       "heure                                                 float64\n",
       "place_0.0                                             float64\n",
       "place_1.0                                             float64\n",
       "place_10.0                                            float64\n",
       "                                                       ...   \n",
       "col_Trois véhicules et plus - collisions multiples    float64\n",
       "col_Trois véhicules et plus – en chaîne               float64\n",
       "age_acc_an                                            float64\n",
       "nbv                                                   float64\n",
       "occutc                                                float64\n",
       "Length: 266, dtype: object"
      ]
     },
     "execution_count": 78,
     "metadata": {},
     "output_type": "execute_result"
    }
   ],
   "source": [
    "X_encoded.dtypes"
   ]
  },
  {
   "cell_type": "code",
   "execution_count": 79,
   "id": "625bc86d",
   "metadata": {},
   "outputs": [
    {
     "data": {
      "text/html": [
       "<div>\n",
       "<style scoped>\n",
       "    .dataframe tbody tr th:only-of-type {\n",
       "        vertical-align: middle;\n",
       "    }\n",
       "\n",
       "    .dataframe tbody tr th {\n",
       "        vertical-align: top;\n",
       "    }\n",
       "\n",
       "    .dataframe thead th {\n",
       "        text-align: right;\n",
       "    }\n",
       "</style>\n",
       "<table border=\"1\" class=\"dataframe\">\n",
       "  <thead>\n",
       "    <tr style=\"text-align: right;\">\n",
       "      <th></th>\n",
       "      <th>jour_de_la_semaine</th>\n",
       "      <th>heure</th>\n",
       "      <th>place_0.0</th>\n",
       "      <th>place_1.0</th>\n",
       "      <th>place_10.0</th>\n",
       "      <th>place_2.0</th>\n",
       "      <th>place_3.0</th>\n",
       "      <th>place_4.0</th>\n",
       "      <th>place_5.0</th>\n",
       "      <th>place_6.0</th>\n",
       "      <th>...</th>\n",
       "      <th>col_Deux véhicules - frontale</th>\n",
       "      <th>col_Deux véhicules – par le coté</th>\n",
       "      <th>col_Deux véhicules – par l’arrière</th>\n",
       "      <th>col_Non renseigné</th>\n",
       "      <th>col_Sans collision</th>\n",
       "      <th>col_Trois véhicules et plus - collisions multiples</th>\n",
       "      <th>col_Trois véhicules et plus – en chaîne</th>\n",
       "      <th>age_acc_an</th>\n",
       "      <th>nbv</th>\n",
       "      <th>occutc</th>\n",
       "    </tr>\n",
       "  </thead>\n",
       "  <tbody>\n",
       "    <tr>\n",
       "      <th>0</th>\n",
       "      <td>4.0</td>\n",
       "      <td>11.0</td>\n",
       "      <td>0.0</td>\n",
       "      <td>1.0</td>\n",
       "      <td>0.0</td>\n",
       "      <td>0.0</td>\n",
       "      <td>0.0</td>\n",
       "      <td>0.0</td>\n",
       "      <td>0.0</td>\n",
       "      <td>0.0</td>\n",
       "      <td>...</td>\n",
       "      <td>0.0</td>\n",
       "      <td>1.0</td>\n",
       "      <td>0.0</td>\n",
       "      <td>0.0</td>\n",
       "      <td>0.0</td>\n",
       "      <td>0.0</td>\n",
       "      <td>0.0</td>\n",
       "      <td>-0.470765</td>\n",
       "      <td>-0.087437</td>\n",
       "      <td>-0.046606</td>\n",
       "    </tr>\n",
       "    <tr>\n",
       "      <th>1</th>\n",
       "      <td>4.0</td>\n",
       "      <td>11.0</td>\n",
       "      <td>0.0</td>\n",
       "      <td>1.0</td>\n",
       "      <td>0.0</td>\n",
       "      <td>0.0</td>\n",
       "      <td>0.0</td>\n",
       "      <td>0.0</td>\n",
       "      <td>0.0</td>\n",
       "      <td>0.0</td>\n",
       "      <td>...</td>\n",
       "      <td>0.0</td>\n",
       "      <td>1.0</td>\n",
       "      <td>0.0</td>\n",
       "      <td>0.0</td>\n",
       "      <td>0.0</td>\n",
       "      <td>0.0</td>\n",
       "      <td>0.0</td>\n",
       "      <td>-0.028977</td>\n",
       "      <td>-0.087437</td>\n",
       "      <td>-0.046606</td>\n",
       "    </tr>\n",
       "    <tr>\n",
       "      <th>2</th>\n",
       "      <td>4.0</td>\n",
       "      <td>11.0</td>\n",
       "      <td>0.0</td>\n",
       "      <td>0.0</td>\n",
       "      <td>0.0</td>\n",
       "      <td>1.0</td>\n",
       "      <td>0.0</td>\n",
       "      <td>0.0</td>\n",
       "      <td>0.0</td>\n",
       "      <td>0.0</td>\n",
       "      <td>...</td>\n",
       "      <td>0.0</td>\n",
       "      <td>1.0</td>\n",
       "      <td>0.0</td>\n",
       "      <td>0.0</td>\n",
       "      <td>0.0</td>\n",
       "      <td>0.0</td>\n",
       "      <td>0.0</td>\n",
       "      <td>0.191917</td>\n",
       "      <td>-0.087437</td>\n",
       "      <td>-0.046606</td>\n",
       "    </tr>\n",
       "    <tr>\n",
       "      <th>3</th>\n",
       "      <td>4.0</td>\n",
       "      <td>11.0</td>\n",
       "      <td>0.0</td>\n",
       "      <td>0.0</td>\n",
       "      <td>0.0</td>\n",
       "      <td>0.0</td>\n",
       "      <td>0.0</td>\n",
       "      <td>1.0</td>\n",
       "      <td>0.0</td>\n",
       "      <td>0.0</td>\n",
       "      <td>...</td>\n",
       "      <td>0.0</td>\n",
       "      <td>1.0</td>\n",
       "      <td>0.0</td>\n",
       "      <td>0.0</td>\n",
       "      <td>0.0</td>\n",
       "      <td>0.0</td>\n",
       "      <td>0.0</td>\n",
       "      <td>-2.017024</td>\n",
       "      <td>-0.087437</td>\n",
       "      <td>-0.046606</td>\n",
       "    </tr>\n",
       "    <tr>\n",
       "      <th>4</th>\n",
       "      <td>4.0</td>\n",
       "      <td>11.0</td>\n",
       "      <td>0.0</td>\n",
       "      <td>0.0</td>\n",
       "      <td>0.0</td>\n",
       "      <td>0.0</td>\n",
       "      <td>0.0</td>\n",
       "      <td>0.0</td>\n",
       "      <td>1.0</td>\n",
       "      <td>0.0</td>\n",
       "      <td>...</td>\n",
       "      <td>0.0</td>\n",
       "      <td>1.0</td>\n",
       "      <td>0.0</td>\n",
       "      <td>0.0</td>\n",
       "      <td>0.0</td>\n",
       "      <td>0.0</td>\n",
       "      <td>0.0</td>\n",
       "      <td>-1.685759</td>\n",
       "      <td>-0.087437</td>\n",
       "      <td>-0.046606</td>\n",
       "    </tr>\n",
       "  </tbody>\n",
       "</table>\n",
       "<p>5 rows × 266 columns</p>\n",
       "</div>"
      ],
      "text/plain": [
       "   jour_de_la_semaine  heure  place_0.0  place_1.0  place_10.0  place_2.0  \\\n",
       "0                 4.0   11.0        0.0        1.0         0.0        0.0   \n",
       "1                 4.0   11.0        0.0        1.0         0.0        0.0   \n",
       "2                 4.0   11.0        0.0        0.0         0.0        1.0   \n",
       "3                 4.0   11.0        0.0        0.0         0.0        0.0   \n",
       "4                 4.0   11.0        0.0        0.0         0.0        0.0   \n",
       "\n",
       "   place_3.0  place_4.0  place_5.0  place_6.0  ...  \\\n",
       "0        0.0        0.0        0.0        0.0  ...   \n",
       "1        0.0        0.0        0.0        0.0  ...   \n",
       "2        0.0        0.0        0.0        0.0  ...   \n",
       "3        0.0        1.0        0.0        0.0  ...   \n",
       "4        0.0        0.0        1.0        0.0  ...   \n",
       "\n",
       "   col_Deux véhicules - frontale  col_Deux véhicules – par le coté  \\\n",
       "0                            0.0                               1.0   \n",
       "1                            0.0                               1.0   \n",
       "2                            0.0                               1.0   \n",
       "3                            0.0                               1.0   \n",
       "4                            0.0                               1.0   \n",
       "\n",
       "   col_Deux véhicules – par l’arrière  col_Non renseigné  col_Sans collision  \\\n",
       "0                                 0.0                0.0                 0.0   \n",
       "1                                 0.0                0.0                 0.0   \n",
       "2                                 0.0                0.0                 0.0   \n",
       "3                                 0.0                0.0                 0.0   \n",
       "4                                 0.0                0.0                 0.0   \n",
       "\n",
       "   col_Trois véhicules et plus - collisions multiples  \\\n",
       "0                                                0.0    \n",
       "1                                                0.0    \n",
       "2                                                0.0    \n",
       "3                                                0.0    \n",
       "4                                                0.0    \n",
       "\n",
       "   col_Trois véhicules et plus – en chaîne  age_acc_an       nbv    occutc  \n",
       "0                                      0.0   -0.470765 -0.087437 -0.046606  \n",
       "1                                      0.0   -0.028977 -0.087437 -0.046606  \n",
       "2                                      0.0    0.191917 -0.087437 -0.046606  \n",
       "3                                      0.0   -2.017024 -0.087437 -0.046606  \n",
       "4                                      0.0   -1.685759 -0.087437 -0.046606  \n",
       "\n",
       "[5 rows x 266 columns]"
      ]
     },
     "execution_count": 79,
     "metadata": {},
     "output_type": "execute_result"
    }
   ],
   "source": [
    "X_encoded.head()"
   ]
  },
  {
   "cell_type": "code",
   "execution_count": 80,
   "id": "a5b2f270",
   "metadata": {},
   "outputs": [
    {
     "data": {
      "text/plain": [
       "jour_de_la_semaine           0.0\n",
       "choc_Arrière                 0.0\n",
       "choc_Arrière droit           0.0\n",
       "choc_Arrière gauche          0.0\n",
       "choc_Aucun                   0.0\n",
       "                            ... \n",
       "vosp_Sans objet(0)           0.0\n",
       "vosp_Voie réservée(3)        0.0\n",
       "prof_Bas de côte(4)          0.0\n",
       "catr_5-Hors réseau public    0.0\n",
       "occutc                       0.0\n",
       "Length: 266, dtype: float64"
      ]
     },
     "execution_count": 80,
     "metadata": {},
     "output_type": "execute_result"
    }
   ],
   "source": [
    "size = X_encoded.shape\n",
    "\n",
    "# Count the number of missing values in each column\n",
    "nan_values = X_encoded.isna().sum()\n",
    "\n",
    "nan_values = nan_values.sort_values(ascending=True)*100/size[0]\n",
    "\n",
    "nan_values"
   ]
  },
  {
   "cell_type": "code",
   "execution_count": 81,
   "id": "ffc4905f",
   "metadata": {},
   "outputs": [],
   "source": [
    "# split the array of features values, X, and target values, y, into training and test sets, \n",
    "#   ensuring that the same label proportions are reflected after the split\n",
    "X_train_encoded, X_test_encoded, y_train2, y_test2 = train_test_split(X_encoded, y, test_size=0.2, \n",
    "                                                                      stratify=y, random_state=259)"
   ]
  },
  {
   "cell_type": "code",
   "execution_count": 82,
   "id": "83d500ef",
   "metadata": {},
   "outputs": [
    {
     "data": {
      "text/plain": [
       "pandas.core.frame.DataFrame"
      ]
     },
     "execution_count": 82,
     "metadata": {},
     "output_type": "execute_result"
    }
   ],
   "source": [
    "type(X_train_encoded)"
   ]
  },
  {
   "cell_type": "markdown",
   "id": "3f71cd98",
   "metadata": {},
   "source": [
    "<div class=\"alert alert-block alert-info\">\n",
    "<h2><a id = \"data_desequilibre\">Jeux de données déséquilibrés</a></h2>\n",
    "</div>\n"
   ]
  },
  {
   "cell_type": "markdown",
   "id": "45dbf7a7",
   "metadata": {},
   "source": [
    "#####  Sur-échantillonnage (Oversampling) "
   ]
  },
  {
   "cell_type": "code",
   "execution_count": 92,
   "id": "a9647140",
   "metadata": {},
   "outputs": [
    {
     "name": "stdout",
     "output_type": "stream",
     "text": [
      "41.59516382217407\n",
      "RandomOverSampler resampled dataset shape Counter({'Blessé hospitalisé': 750194, 'Blessé léger': 750194, 'Tué': 750194, 'Indemne': 750194})\n"
     ]
    }
   ],
   "source": [
    "# (a) A partir de X_train et y_train, création de deux nouveaux ensembles de données : \n",
    "# (X_ro, y_ro) obtenus par Oversampling aléatoire (RandomOverSampler) \n",
    "randomOs = RandomOverSampler()\n",
    "start_time = time.time()\n",
    "X_ro, y_ro = randomOs.fit_resample(X_train_encoded, y_train2)\n",
    "end_time = time.time()\n",
    "execution_time = end_time - start_time\n",
    "print(execution_time)\n",
    "print('RandomOverSampler resampled dataset shape %s' % Counter(y_ro))\n"
   ]
  },
  {
   "cell_type": "code",
   "execution_count": 78,
   "id": "e1c33965",
   "metadata": {},
   "outputs": [
    {
     "data": {
      "text/html": [
       "<div>\n",
       "<style scoped>\n",
       "    .dataframe tbody tr th:only-of-type {\n",
       "        vertical-align: middle;\n",
       "    }\n",
       "\n",
       "    .dataframe tbody tr th {\n",
       "        vertical-align: top;\n",
       "    }\n",
       "\n",
       "    .dataframe thead th {\n",
       "        text-align: right;\n",
       "    }\n",
       "</style>\n",
       "<table border=\"1\" class=\"dataframe\">\n",
       "  <thead>\n",
       "    <tr style=\"text-align: right;\">\n",
       "      <th></th>\n",
       "      <th>jour_de_la_semaine</th>\n",
       "      <th>heure</th>\n",
       "      <th>place_0.0</th>\n",
       "      <th>place_1.0</th>\n",
       "      <th>place_10.0</th>\n",
       "      <th>place_2.0</th>\n",
       "      <th>place_3.0</th>\n",
       "      <th>place_4.0</th>\n",
       "      <th>place_5.0</th>\n",
       "      <th>place_6.0</th>\n",
       "      <th>...</th>\n",
       "      <th>col_Deux véhicules – par le coté</th>\n",
       "      <th>col_Deux véhicules – par l’arrière</th>\n",
       "      <th>col_Non renseigné</th>\n",
       "      <th>col_Sans collision</th>\n",
       "      <th>col_Trois véhicules et plus - collisions multiples</th>\n",
       "      <th>col_Trois véhicules et plus – en chaîne</th>\n",
       "      <th>age_acc_an</th>\n",
       "      <th>nbv</th>\n",
       "      <th>occutc</th>\n",
       "      <th>0</th>\n",
       "    </tr>\n",
       "  </thead>\n",
       "  <tbody>\n",
       "    <tr>\n",
       "      <th>0</th>\n",
       "      <td>3.0</td>\n",
       "      <td>8.0</td>\n",
       "      <td>0.0</td>\n",
       "      <td>1.0</td>\n",
       "      <td>0.0</td>\n",
       "      <td>0.0</td>\n",
       "      <td>0.0</td>\n",
       "      <td>0.0</td>\n",
       "      <td>0.0</td>\n",
       "      <td>0.0</td>\n",
       "      <td>...</td>\n",
       "      <td>0.0</td>\n",
       "      <td>0.0</td>\n",
       "      <td>0.0</td>\n",
       "      <td>0.0</td>\n",
       "      <td>0.0</td>\n",
       "      <td>0.0</td>\n",
       "      <td>2.290336</td>\n",
       "      <td>-0.742861</td>\n",
       "      <td>-0.046606</td>\n",
       "      <td>NaN</td>\n",
       "    </tr>\n",
       "    <tr>\n",
       "      <th>1</th>\n",
       "      <td>6.0</td>\n",
       "      <td>8.0</td>\n",
       "      <td>0.0</td>\n",
       "      <td>1.0</td>\n",
       "      <td>0.0</td>\n",
       "      <td>0.0</td>\n",
       "      <td>0.0</td>\n",
       "      <td>0.0</td>\n",
       "      <td>0.0</td>\n",
       "      <td>0.0</td>\n",
       "      <td>...</td>\n",
       "      <td>0.0</td>\n",
       "      <td>0.0</td>\n",
       "      <td>0.0</td>\n",
       "      <td>1.0</td>\n",
       "      <td>0.0</td>\n",
       "      <td>0.0</td>\n",
       "      <td>-0.249871</td>\n",
       "      <td>-0.087437</td>\n",
       "      <td>-0.046606</td>\n",
       "      <td>NaN</td>\n",
       "    </tr>\n",
       "    <tr>\n",
       "      <th>2</th>\n",
       "      <td>4.0</td>\n",
       "      <td>0.0</td>\n",
       "      <td>0.0</td>\n",
       "      <td>1.0</td>\n",
       "      <td>0.0</td>\n",
       "      <td>0.0</td>\n",
       "      <td>0.0</td>\n",
       "      <td>0.0</td>\n",
       "      <td>0.0</td>\n",
       "      <td>0.0</td>\n",
       "      <td>...</td>\n",
       "      <td>0.0</td>\n",
       "      <td>0.0</td>\n",
       "      <td>0.0</td>\n",
       "      <td>0.0</td>\n",
       "      <td>0.0</td>\n",
       "      <td>0.0</td>\n",
       "      <td>-0.746996</td>\n",
       "      <td>-0.087437</td>\n",
       "      <td>-0.046606</td>\n",
       "      <td>NaN</td>\n",
       "    </tr>\n",
       "    <tr>\n",
       "      <th>3</th>\n",
       "      <td>0.0</td>\n",
       "      <td>15.0</td>\n",
       "      <td>0.0</td>\n",
       "      <td>1.0</td>\n",
       "      <td>0.0</td>\n",
       "      <td>0.0</td>\n",
       "      <td>0.0</td>\n",
       "      <td>0.0</td>\n",
       "      <td>0.0</td>\n",
       "      <td>0.0</td>\n",
       "      <td>...</td>\n",
       "      <td>0.0</td>\n",
       "      <td>0.0</td>\n",
       "      <td>0.0</td>\n",
       "      <td>0.0</td>\n",
       "      <td>1.0</td>\n",
       "      <td>0.0</td>\n",
       "      <td>-0.305208</td>\n",
       "      <td>1.223410</td>\n",
       "      <td>-0.046606</td>\n",
       "      <td>NaN</td>\n",
       "    </tr>\n",
       "    <tr>\n",
       "      <th>4</th>\n",
       "      <td>2.0</td>\n",
       "      <td>23.0</td>\n",
       "      <td>0.0</td>\n",
       "      <td>1.0</td>\n",
       "      <td>0.0</td>\n",
       "      <td>0.0</td>\n",
       "      <td>0.0</td>\n",
       "      <td>0.0</td>\n",
       "      <td>0.0</td>\n",
       "      <td>0.0</td>\n",
       "      <td>...</td>\n",
       "      <td>0.0</td>\n",
       "      <td>0.0</td>\n",
       "      <td>0.0</td>\n",
       "      <td>0.0</td>\n",
       "      <td>1.0</td>\n",
       "      <td>0.0</td>\n",
       "      <td>2.069290</td>\n",
       "      <td>-0.087437</td>\n",
       "      <td>-0.046606</td>\n",
       "      <td>NaN</td>\n",
       "    </tr>\n",
       "  </tbody>\n",
       "</table>\n",
       "<p>5 rows × 267 columns</p>\n",
       "</div>"
      ],
      "text/plain": [
       "   jour_de_la_semaine  heure  place_0.0  place_1.0  place_10.0  place_2.0  \\\n",
       "0                 3.0    8.0        0.0        1.0         0.0        0.0   \n",
       "1                 6.0    8.0        0.0        1.0         0.0        0.0   \n",
       "2                 4.0    0.0        0.0        1.0         0.0        0.0   \n",
       "3                 0.0   15.0        0.0        1.0         0.0        0.0   \n",
       "4                 2.0   23.0        0.0        1.0         0.0        0.0   \n",
       "\n",
       "   place_3.0  place_4.0  place_5.0  place_6.0  ...  \\\n",
       "0        0.0        0.0        0.0        0.0  ...   \n",
       "1        0.0        0.0        0.0        0.0  ...   \n",
       "2        0.0        0.0        0.0        0.0  ...   \n",
       "3        0.0        0.0        0.0        0.0  ...   \n",
       "4        0.0        0.0        0.0        0.0  ...   \n",
       "\n",
       "   col_Deux véhicules – par le coté  col_Deux véhicules – par l’arrière  \\\n",
       "0                               0.0                                 0.0   \n",
       "1                               0.0                                 0.0   \n",
       "2                               0.0                                 0.0   \n",
       "3                               0.0                                 0.0   \n",
       "4                               0.0                                 0.0   \n",
       "\n",
       "   col_Non renseigné  col_Sans collision  \\\n",
       "0                0.0                 0.0   \n",
       "1                0.0                 1.0   \n",
       "2                0.0                 0.0   \n",
       "3                0.0                 0.0   \n",
       "4                0.0                 0.0   \n",
       "\n",
       "   col_Trois véhicules et plus - collisions multiples  \\\n",
       "0                                                0.0    \n",
       "1                                                0.0    \n",
       "2                                                0.0    \n",
       "3                                                1.0    \n",
       "4                                                1.0    \n",
       "\n",
       "   col_Trois véhicules et plus – en chaîne  age_acc_an       nbv    occutc  \\\n",
       "0                                      0.0    2.290336 -0.742861 -0.046606   \n",
       "1                                      0.0   -0.249871 -0.087437 -0.046606   \n",
       "2                                      0.0   -0.746996 -0.087437 -0.046606   \n",
       "3                                      0.0   -0.305208  1.223410 -0.046606   \n",
       "4                                      0.0    2.069290 -0.087437 -0.046606   \n",
       "\n",
       "     0  \n",
       "0  NaN  \n",
       "1  NaN  \n",
       "2  NaN  \n",
       "3  NaN  \n",
       "4  NaN  \n",
       "\n",
       "[5 rows x 267 columns]"
      ]
     },
     "execution_count": 78,
     "metadata": {},
     "output_type": "execute_result"
    }
   ],
   "source": [
    "# Creating Dataframe\n",
    "df_randomOS = pd.concat([X_ro, X_test_encoded, y_ro, y_test2])\n",
    "# Exporting the DataFrame into a CSV file\n",
    "df_randomOS.to_csv('Acc_Results_data_randomOS.csv')\n",
    "df_randomOS.head()"
   ]
  },
  {
   "cell_type": "code",
   "execution_count": 93,
   "id": "a7d03c14",
   "metadata": {},
   "outputs": [
    {
     "name": "stdout",
     "output_type": "stream",
     "text": [
      "17393.02422809601\n",
      "SMOTE resampled dataset shape Counter({'Blessé hospitalisé': 750194, 'Blessé léger': 750194, 'Tué': 750194, 'Indemne': 750194})\n"
     ]
    }
   ],
   "source": [
    "# et (X_sm, y_sm) obtenus par SMOTE (SMOTE).\n",
    "smote = SMOTE()\n",
    "start_time = time.time()\n",
    "X_sm, y_sm = smote.fit_resample(X_train_encoded, y_train2)\n",
    "end_time = time.time()\n",
    "execution_time = end_time - start_time\n",
    "print(execution_time)\n",
    "print('SMOTE resampled dataset shape %s' % Counter(y_sm))"
   ]
  },
  {
   "cell_type": "code",
   "execution_count": null,
   "id": "f6b23532",
   "metadata": {},
   "outputs": [],
   "source": [
    "# Creating Dataframe\n",
    "df_smote = pd.concat([X_ro, X_test_encoded, y_ro, y_test2])\n",
    "# Exporting the DataFrame into a CSV file\n",
    "df_smote.to_csv('Acc_Results_data_smoteOS.csv')\n",
    "df_smote.head()"
   ]
  },
  {
   "cell_type": "code",
   "execution_count": 140,
   "id": "d085420a",
   "metadata": {},
   "outputs": [
    {
     "data": {
      "text/plain": [
       "pandas.core.frame.DataFrame"
      ]
     },
     "execution_count": 140,
     "metadata": {},
     "output_type": "execute_result"
    }
   ],
   "source": [
    "type(X_ro)"
   ]
  },
  {
   "cell_type": "code",
   "execution_count": 141,
   "id": "c8b79efd",
   "metadata": {},
   "outputs": [
    {
     "data": {
      "text/plain": [
       "Index(['jour_de_la_semaine', 'place_0.0', 'place_1.0', 'place_10.0',\n",
       "       'place_2.0', 'place_3.0', 'place_4.0', 'place_5.0', 'place_6.0',\n",
       "       'place_7.0',\n",
       "       ...\n",
       "       'col_Deux véhicules – par le coté',\n",
       "       'col_Deux véhicules – par l’arrière', 'col_Non renseigné',\n",
       "       'col_Sans collision',\n",
       "       'col_Trois véhicules et plus - collisions multiples',\n",
       "       'col_Trois véhicules et plus – en chaîne', 'age_acc_an', 'nbv',\n",
       "       'occutc', 'heure'],\n",
       "      dtype='object', length=266)"
      ]
     },
     "execution_count": 141,
     "metadata": {},
     "output_type": "execute_result"
    }
   ],
   "source": [
    "X_ro.columns"
   ]
  },
  {
   "cell_type": "code",
   "execution_count": 79,
   "id": "0a19be91",
   "metadata": {},
   "outputs": [],
   "source": [
    "os_model_names=[]\n",
    "os_training_times=[]\n",
    "os_testing_times=[]\n",
    "os_test_scores=[]"
   ]
  },
  {
   "cell_type": "code",
   "execution_count": 146,
   "id": "dc195eaf",
   "metadata": {},
   "outputs": [
    {
     "name": "stdout",
     "output_type": "stream",
     "text": [
      "col_0               Blessé hospitalisé  Blessé léger  Indemne    Tué\n",
      "grav                                                                \n",
      "Indemne                          10827         22314   145341   9067\n",
      "Blessé léger                     30984         86842    33688  13543\n",
      "Blessé hospitalisé               34161         22684     9301  27361\n",
      "Tué                               2386           824      601   8424\n",
      "Classification Report imbalanced :\n",
      "                          pre       rec       spe        f1       geo       iba       sup\n",
      "\n",
      "Blessé hospitalisé       0.44      0.37      0.88      0.40      0.57      0.30     93507\n",
      "      Blessé léger       0.65      0.53      0.84      0.58      0.67      0.43    165057\n",
      "           Indemne       0.77      0.77      0.84      0.77      0.81      0.65    187549\n",
      "               Tué       0.14      0.69      0.89      0.24      0.78      0.60     12235\n",
      "\n",
      "       avg / total       0.64      0.60      0.85      0.61      0.71      0.50    458348\n",
      "\n"
     ]
    }
   ],
   "source": [
    "# Création et entrainement modèles\n",
    "# Classifier using Logistic Regression\n",
    "training_time, test_time, test_score, logreg_accuracy_ro = benchmarkClassifier(hist_gradient_boosting, \n",
    "                                            \"hist_gradient_boosting\", X_ro, y_ro, X_test_encoded, y_test2)\n",
    "os_model_names.append(\"RandOS_hist_gradient_boosting\") \n",
    "os_training_times.append(training_time) \n",
    "os_testing_times.append(test_time) \n",
    "os_test_scores.append(test_score)\n",
    "# X_train_encoded, X_test_encoded, y_train2, y_test2"
   ]
  },
  {
   "cell_type": "code",
   "execution_count": 103,
   "id": "67857838",
   "metadata": {},
   "outputs": [
    {
     "name": "stdout",
     "output_type": "stream",
     "text": [
      "Model: hist_gradient_boosting\n",
      "---------------------------------------------------------------------------\n",
      "Classification Report imbalanced :\n",
      "                          pre       rec       spe        f1       geo       iba       sup\n",
      "\n",
      "Blessé hospitalisé       0.44      0.37      0.88      0.40      0.57      0.31     93507\n",
      "      Blessé léger       0.66      0.52      0.85      0.58      0.67      0.43    165057\n",
      "           Indemne       0.77      0.78      0.84      0.77      0.81      0.65    187549\n",
      "               Tué       0.14      0.69      0.89      0.24      0.78      0.60     12235\n",
      "\n",
      "       avg / total       0.64      0.60      0.85      0.61      0.71      0.50    458348\n",
      "\n",
      "---------------------------------------------------------------------------\n",
      "Confusion Matrix:\n",
      "[[ 34302  22502   9410  27293]\n",
      " [ 31010  86429  34091  13527]\n",
      " [ 10898  21885 145744   9022]\n",
      " [  2370    838    606   8421]]\n",
      "---------------------------------------------------------------------------\n",
      "Balanced accuracy: 0.589 - Geometric mean: 0.566\n",
      "---------------------------------------------------------------------------\n",
      "Mean AUC Score: 0.8155946907336787  temps execution en secondes :  29228.277912139893\n",
      "===========================================================================\n",
      "training_time test_time train_score test_score hgbc_accuracy balanced_accuracy geometric_mean_score\n",
      "629.3970158100128 5.26541805267334 59.736 59.975 59.975 0.589 0.566\n"
     ]
    }
   ],
   "source": [
    "result_accuracy = benchmarkClassifier(hist_gradient_boosting, \"hist_gradient_boosting\",  X_ro, y_ro, \n",
    "                                      X_test_encoded, y_test2)\n",
    "\n",
    "print('training_time', 'test_time', 'train_score', 'test_score', 'hgbc_accuracy', 'balanced_accuracy', 'geometric_mean_score')\n",
    "print(result_accuracy[0], result_accuracy[1], result_accuracy[2], result_accuracy[3],result_accuracy[4],\n",
    "     result_accuracy[5], result_accuracy[6])"
   ]
  },
  {
   "cell_type": "code",
   "execution_count": 147,
   "id": "547db1fc",
   "metadata": {},
   "outputs": [
    {
     "name": "stdout",
     "output_type": "stream",
     "text": [
      "col_0               Blessé hospitalisé  Blessé léger  Indemne   Tué\n",
      "grav                                                               \n",
      "Indemne                           9584         22882   154517   566\n",
      "Blessé léger                     23022        100730    40567   738\n",
      "Blessé hospitalisé               42311         34034    14116  3046\n",
      "Tué                               6769          1915     1403  2148\n",
      "Classification Report imbalanced :\n",
      "                          pre       rec       spe        f1       geo       iba       sup\n",
      "\n",
      "Blessé hospitalisé       0.52      0.45      0.89      0.48      0.64      0.39     93507\n",
      "      Blessé léger       0.63      0.61      0.80      0.62      0.70      0.48    165057\n",
      "           Indemne       0.73      0.82      0.79      0.78      0.81      0.66    187549\n",
      "               Tué       0.33      0.18      0.99      0.23      0.42      0.16     12235\n",
      "\n",
      "       avg / total       0.64      0.65      0.82      0.65      0.72      0.52    458348\n",
      "\n"
     ]
    }
   ],
   "source": [
    "# Création et entrainement modèles après SMOTE\n",
    "training_time, test_time, test_score, ridge_accuracy_sm = benchmarkClassifier(HistGradientBoostingClassifier, \n",
    "                                            \"hist_gradient_boosting\", X_sm, y_sm, X_test_encoded, y_test2)\n",
    "print(training_time, test_time, test_score, ridge_accuracy_sm)\n",
    "os_model_names.append(\"Smote_hist_gradient_boosting\") \n",
    "os_training_times.append(training_time) \n",
    "os_testing_times.append(test_time) \n",
    "os_test_scores.append(test_score)"
   ]
  },
  {
   "cell_type": "code",
   "execution_count": 104,
   "id": "6f65a96d",
   "metadata": {},
   "outputs": [
    {
     "name": "stdout",
     "output_type": "stream",
     "text": [
      "Model: hist_gradient_boosting\n",
      "---------------------------------------------------------------------------\n",
      "Classification Report imbalanced :\n",
      "                          pre       rec       spe        f1       geo       iba       sup\n",
      "\n",
      "Blessé hospitalisé       0.52      0.45      0.89      0.48      0.63      0.38     93507\n",
      "      Blessé léger       0.63      0.61      0.80      0.62      0.70      0.48    165057\n",
      "           Indemne       0.73      0.82      0.79      0.78      0.81      0.66    187549\n",
      "               Tué       0.35      0.16      0.99      0.22      0.40      0.15     12235\n",
      "\n",
      "       avg / total       0.64      0.65      0.82      0.65      0.72      0.52    458348\n",
      "\n",
      "---------------------------------------------------------------------------\n",
      "Confusion Matrix:\n",
      "[[ 42137  34427  14290   2653]\n",
      " [ 22553 101312  40576    616]\n",
      " [  9341  23023 154705    480]\n",
      " [  6894   1908   1448   1985]]\n",
      "---------------------------------------------------------------------------\n",
      "Balanced accuracy: 0.513 - Geometric mean: 0.439\n",
      "---------------------------------------------------------------------------\n",
      "Mean AUC Score: 0.8155946907336787  temps execution en secondes :  34677.2691950798\n",
      "===========================================================================\n",
      "training_time test_time train_score test_score hgbc_accuracy_sm balanced_accuracy geometric_mean_score\n",
      "685.3310770988464 4.8042566776275635 69.153 65.483 65.483 0.513 0.439\n"
     ]
    }
   ],
   "source": [
    "result_accuracy = benchmarkClassifier(hist_gradient_boosting, \"hist_gradient_boosting\", X_sm, y_sm, \n",
    "                                      X_test_encoded, y_test2)\n",
    "\n",
    "print('training_time', 'test_time', 'train_score', 'test_score', 'hgbc_accuracy_sm', 'balanced_accuracy', 'geometric_mean_score')\n",
    "print(result_accuracy[0], result_accuracy[1], result_accuracy[2], result_accuracy[3],result_accuracy[4],\n",
    "     result_accuracy[5], result_accuracy[6])"
   ]
  },
  {
   "cell_type": "code",
   "execution_count": 159,
   "id": "a09580a4",
   "metadata": {},
   "outputs": [
    {
     "data": {
      "text/html": [
       "<div>\n",
       "<style scoped>\n",
       "    .dataframe tbody tr th:only-of-type {\n",
       "        vertical-align: middle;\n",
       "    }\n",
       "\n",
       "    .dataframe tbody tr th {\n",
       "        vertical-align: top;\n",
       "    }\n",
       "\n",
       "    .dataframe thead th {\n",
       "        text-align: right;\n",
       "    }\n",
       "</style>\n",
       "<table border=\"1\" class=\"dataframe\">\n",
       "  <thead>\n",
       "    <tr style=\"text-align: right;\">\n",
       "      <th></th>\n",
       "      <th>Model Name</th>\n",
       "      <th>Execution time</th>\n",
       "      <th>Test time</th>\n",
       "      <th>Test score</th>\n",
       "    </tr>\n",
       "  </thead>\n",
       "  <tbody>\n",
       "    <tr>\n",
       "      <th>0</th>\n",
       "      <td>RandOS_hist_gradient_boosting</td>\n",
       "      <td>654.468295</td>\n",
       "      <td>5.616827</td>\n",
       "      <td>0.599475</td>\n",
       "    </tr>\n",
       "    <tr>\n",
       "      <th>1</th>\n",
       "      <td>Smote_hist_gradient_boosting</td>\n",
       "      <td>742.777473</td>\n",
       "      <td>6.175871</td>\n",
       "      <td>0.653883</td>\n",
       "    </tr>\n",
       "    <tr>\n",
       "      <th>2</th>\n",
       "      <td>RandOS_Ridge_Classifier</td>\n",
       "      <td>372.139751</td>\n",
       "      <td>1.334252</td>\n",
       "      <td>0.570922</td>\n",
       "    </tr>\n",
       "    <tr>\n",
       "      <th>3</th>\n",
       "      <td>Smote_Ridge_Classifier</td>\n",
       "      <td>188.367886</td>\n",
       "      <td>1.093075</td>\n",
       "      <td>0.570414</td>\n",
       "    </tr>\n",
       "  </tbody>\n",
       "</table>\n",
       "</div>"
      ],
      "text/plain": [
       "                      Model Name  Execution time  Test time  Test score\n",
       "0  RandOS_hist_gradient_boosting      654.468295   5.616827    0.599475\n",
       "1   Smote_hist_gradient_boosting      742.777473   6.175871    0.653883\n",
       "2        RandOS_Ridge_Classifier      372.139751   1.334252    0.570922\n",
       "3         Smote_Ridge_Classifier      188.367886   1.093075    0.570414"
      ]
     },
     "execution_count": 159,
     "metadata": {},
     "output_type": "execute_result"
    }
   ],
   "source": [
    "# Calling DataFrame constructor after zipping\n",
    "# both lists, with columns specified\n",
    "overSampling_df_results = pd.DataFrame(list(zip(os_model_names, os_training_times, os_testing_times, os_test_scores)),\n",
    "                  columns =['Model Name', 'Execution time', 'Test time', 'Test score']\n",
    "                 )\n",
    "# Exporting the RESULT DataFrame into a CSV file\n",
    "overSampling_df_results.to_csv('Acc_Results_overSampling.csv')\n",
    "overSampling_df_results"
   ]
  },
  {
   "cell_type": "code",
   "execution_count": null,
   "id": "d07f477e",
   "metadata": {},
   "outputs": [],
   "source": []
  },
  {
   "cell_type": "markdown",
   "id": "411be6e6",
   "metadata": {},
   "source": [
    "##### Sous-échantillonnage (Undersampling)"
   ]
  },
  {
   "cell_type": "code",
   "execution_count": 113,
   "id": "644b7a3f",
   "metadata": {},
   "outputs": [
    {
     "name": "stdout",
     "output_type": "stream",
     "text": [
      "17.988421201705933\n",
      "RandomUnderSampler resampled dataset shape Counter({'Blessé hospitalisé': 48942, 'Blessé léger': 48942, 'Indemne': 48942, 'Tué': 48942})\n"
     ]
    }
   ],
   "source": [
    "# A partir de X_train et y_train, créer deux nouveaux ensembles de données \n",
    "# (X_ru, y_ru) obtenus par Undersampling aléatoire (RandomUnderSampler)\n",
    "rUs = RandomUnderSampler()\n",
    "start_time = time.time()\n",
    "X_ru, y_ru = rUs.fit_resample(X_train_encoded, y_train2)\n",
    "end_time = time.time()\n",
    "execution_time = end_time - start_time\n",
    "print(execution_time)\n",
    "\n",
    "# Affichage du nombre d'éléments de chaque classe du nouvel ensemble obtenu.\n",
    "print('RandomUnderSampler resampled dataset shape %s' % Counter(y_ru))"
   ]
  },
  {
   "cell_type": "raw",
   "id": "ccdb423b",
   "metadata": {
    "scrolled": true
   },
   "source": [
    "############## FAIS PLANTER LE NOYAU SANS MESSAGE D'EXPLICATION ##############\n",
    "cc = ClusterCentroids(random_state=99)\n",
    "start_time = time.time()\n",
    "X_cc, y_cc = cc.fit_resample(X_train_encoded, y_train2)\n",
    "end_time = time.time()\n",
    "execution_time = end_time - start_time\n",
    "print(execution_time)\n",
    "\n",
    "# Affichage du nombre d'éléments de chaque classe du nouvel ensemble obtenu.\n",
    "print('RandomUnderSampler resampled dataset shape %s' % Counter(y_cc))\n",
    "\n",
    "print(sorted(Counter(y_cc).items()))"
   ]
  },
  {
   "cell_type": "code",
   "execution_count": 114,
   "id": "bf5e05cd",
   "metadata": {},
   "outputs": [
    {
     "name": "stdout",
     "output_type": "stream",
     "text": [
      "Model: RandUnderS_Logistic_Regression\n",
      "---------------------------------------------------------------------------\n",
      "Classification Report imbalanced :\n",
      "                          pre       rec       spe        f1       geo       iba       sup\n",
      "\n",
      "Blessé hospitalisé       0.43      0.34      0.88      0.38      0.55      0.28     93507\n",
      "      Blessé léger       0.64      0.49      0.85      0.56      0.64      0.40    165057\n",
      "           Indemne       0.74      0.78      0.81      0.76      0.80      0.63    187549\n",
      "               Tué       0.13      0.66      0.88      0.22      0.76      0.57     12235\n",
      "\n",
      "       avg / total       0.63      0.58      0.84      0.59      0.69      0.48    458348\n",
      "\n",
      "---------------------------------------------------------------------------\n",
      "Confusion Matrix:\n",
      "[[ 31527  22896  10836  28248]\n",
      " [ 30394  80615  38578  15470]\n",
      " [  9681  20814 146442  10612]\n",
      " [  2444    977    723   8091]]\n",
      "---------------------------------------------------------------------------\n",
      "Balanced accuracy: 0.567 - Geometric mean: 0.540\n",
      "---------------------------------------------------------------------------\n",
      "Mean AUC Score: 0.7989633042359826  temps execution en secondes :  10929.198586940765\n",
      "===========================================================================\n",
      "training_time test_time train_score test_score logreg_accuracy_RandUnderS balanced_accuracy geometric_mean_score\n",
      "273.6296582221985 2.092026948928833 57.103 58.182 58.182 0.567 0.54\n"
     ]
    }
   ],
   "source": [
    "result_accuracy = benchmarkClassifier(logreg, \"RandUnderS_Logistic_Regression\", X_ru, y_ru, \n",
    "                                      X_test_encoded, y_test2)\n",
    "\n",
    "print('training_time', 'test_time', 'train_score', 'test_score', 'logreg_accuracy_RandUnderS', 'balanced_accuracy', 'geometric_mean_score')\n",
    "print(result_accuracy[0], result_accuracy[1], result_accuracy[2], result_accuracy[3],result_accuracy[4],\n",
    "     result_accuracy[5], result_accuracy[6])"
   ]
  },
  {
   "cell_type": "code",
   "execution_count": 116,
   "id": "7ae01e26",
   "metadata": {},
   "outputs": [
    {
     "name": "stdout",
     "output_type": "stream",
     "text": [
      "Model: hist_gradient_boosting\n",
      "---------------------------------------------------------------------------\n",
      "Classification Report imbalanced :\n",
      "                          pre       rec       spe        f1       geo       iba       sup\n",
      "\n",
      "Blessé hospitalisé       0.43      0.36      0.88      0.39      0.56      0.30     93507\n",
      "      Blessé léger       0.65      0.51      0.85      0.57      0.66      0.42    165057\n",
      "           Indemne       0.77      0.77      0.84      0.77      0.80      0.64    187549\n",
      "               Tué       0.14      0.70      0.88      0.23      0.78      0.60     12235\n",
      "\n",
      "       avg / total       0.64      0.59      0.85      0.61      0.70      0.49    458348\n",
      "\n",
      "---------------------------------------------------------------------------\n",
      "Confusion Matrix:\n",
      "[[ 33620  22362   9451  28074]\n",
      " [ 31976  84782  34120  14179]\n",
      " [ 10960  22173 144956   9460]\n",
      " [  2272    854    596   8513]]\n",
      "---------------------------------------------------------------------------\n",
      "Balanced accuracy: 0.585 - Geometric mean: 0.561\n",
      "---------------------------------------------------------------------------\n",
      "Mean AUC Score: 0.8155946907336787  temps execution en secondes :  1751.6551611423492\n",
      "===========================================================================\n",
      "training_time test_time train_score test_score hgbc_accuracy_RandUnderS balanced_accuracy geometric_mean_score\n",
      "57.900551080703735 5.962434768676758 60.618 59.315 59.315 0.585 0.561\n"
     ]
    }
   ],
   "source": [
    "result_accuracy = benchmarkClassifier(hist_gradient_boosting, \"hist_gradient_boosting\", X_ru, y_ru, \n",
    "                                      X_test_encoded, y_test2)\n",
    "\n",
    "print('training_time', 'test_time', 'train_score', 'test_score', 'hgbc_accuracy_RandUnderS', 'balanced_accuracy', 'geometric_mean_score')\n",
    "print(result_accuracy[0], result_accuracy[1], result_accuracy[2], result_accuracy[3],result_accuracy[4],\n",
    "     result_accuracy[5], result_accuracy[6])"
   ]
  },
  {
   "cell_type": "code",
   "execution_count": 1,
   "id": "e1edc7b4",
   "metadata": {},
   "outputs": [],
   "source": [
    "us_model_names=[]\n",
    "us_training_times=[]\n",
    "us_testing_times=[]\n",
    "us_test_scores=[]"
   ]
  },
  {
   "cell_type": "code",
   "execution_count": null,
   "id": "1a7a73ee",
   "metadata": {},
   "outputs": [],
   "source": [
    "# Classifier using Ridge regression before RandomUnderSimpler\n",
    "training_time, test_time, test_score, ridge_accuracy_ru = benchmarkClassifier(ridge_clf, \n",
    "                                            \"Ridge Classifier\", X_ru, y_ru, X_test_encoded, y_test2)\n",
    "print(training_time, test_time, test_scores, ridge_accuracy_ru)\n",
    "us_model_names.append(\"RandUnderS_Ridge_Classifier\") \n",
    "us_training_times.append(training_time) \n",
    "us_testing_times.append(test_time) \n",
    "us_test_scores.append(test_score)"
   ]
  },
  {
   "cell_type": "code",
   "execution_count": null,
   "id": "df0590e5",
   "metadata": {},
   "outputs": [],
   "source": [
    "# Classifier using Logistic Regression\n",
    "training_time, test_time, test_score, logreg_accuracy_ru = benchmarkClassifier(logreg, \n",
    "                                            \"Logistic Regression\", X_ru, y_ru, X_test_encoded, y_test2)\n",
    "us_model_names.append(\"RandUnderS_Logistic_Regression\") \n",
    "us_training_times.append(training_time) \n",
    "us_testing_times.append(test_time) \n",
    "us_test_scores.append(test_score)"
   ]
  },
  {
   "cell_type": "code",
   "execution_count": 172,
   "id": "bfb6bfae",
   "metadata": {},
   "outputs": [
    {
     "name": "stdout",
     "output_type": "stream",
     "text": [
      "col_0               Blessé hospitalisé  Blessé léger  Indemne    Tué\n",
      "grav                                                                \n",
      "Indemne                          10947         21773   145267   9567\n",
      "Blessé léger                     31650         84734    34398  14280\n",
      "Blessé hospitalisé               33238         22611     9514  28145\n",
      "Tué                               2158           842      583   8653\n",
      "Classification Report imbalanced :\n",
      "                          pre       rec       spe        f1       geo       iba       sup\n",
      "\n",
      "Blessé hospitalisé       0.43      0.36      0.88      0.39      0.56      0.30     93508\n",
      "      Blessé léger       0.65      0.51      0.85      0.57      0.66      0.42    165062\n",
      "           Indemne       0.77      0.77      0.84      0.77      0.80      0.64    187554\n",
      "               Tué       0.14      0.71      0.88      0.24      0.79      0.61     12236\n",
      "\n",
      "       avg / total       0.64      0.59      0.85      0.61      0.70      0.49    458360\n",
      "\n"
     ]
    }
   ],
   "source": [
    "# Entraînement du modèle sur l'ensemble issu du RandomUnderSampler, \n",
    "training_time, test_time, test_score, histGB_accuracy_ru = benchmarkClassifier(hist_gradient_boosting, \n",
    "                                            \"hist_gradient_boosting\", X_ru, y_ru, X_test_encoded, y_test2)\n",
    "us_model_names.append(\"RandUnderS_hist_gradient_boosting\") \n",
    "us_training_times.append(training_time) \n",
    "us_testing_times.append(test_time) \n",
    "us_test_scores.append(test_score)"
   ]
  },
  {
   "cell_type": "raw",
   "id": "c3cd902e",
   "metadata": {},
   "source": [
    "# Entraînement du modèle sur l'ensemble issu du RandomUnderSampler, \n",
    "hist_native.fit(X_train, y_train)\n",
    "y_pred = hist_native.predict(X_test)\n",
    "cm = confusion_matrix(y_test, y_pred)\n",
    "cm_display = ConfusionMatrixDisplay(cm).plot()"
   ]
  },
  {
   "cell_type": "code",
   "execution_count": 173,
   "id": "5b5a85d0",
   "metadata": {},
   "outputs": [
    {
     "name": "stdout",
     "output_type": "stream",
     "text": [
      "Accuracy: 0.5931843965442011\n"
     ]
    }
   ],
   "source": [
    "print(\"Accuracy:\", accuracy_score(y_test, y_pred_ru))"
   ]
  },
  {
   "cell_type": "markdown",
   "id": "e9830921",
   "metadata": {},
   "source": [
    "<div class=\"alert alert-block alert-info\">\n",
    "<h2><a id = \"tuning_gridsearch\">Hyperparameter tuning by grid-search</a></h2>\n",
    "</div>"
   ]
  },
  {
   "cell_type": "code",
   "execution_count": 94,
   "id": "b82b8f4d",
   "metadata": {},
   "outputs": [
    {
     "data": {
      "text/html": [
       "<div>\n",
       "<style scoped>\n",
       "    .dataframe tbody tr th:only-of-type {\n",
       "        vertical-align: middle;\n",
       "    }\n",
       "\n",
       "    .dataframe tbody tr th {\n",
       "        vertical-align: top;\n",
       "    }\n",
       "\n",
       "    .dataframe thead th {\n",
       "        text-align: right;\n",
       "    }\n",
       "</style>\n",
       "<table border=\"1\" class=\"dataframe\">\n",
       "  <thead>\n",
       "    <tr style=\"text-align: right;\">\n",
       "      <th></th>\n",
       "      <th>fit_time</th>\n",
       "      <th>score_time</th>\n",
       "      <th>test_score</th>\n",
       "    </tr>\n",
       "  </thead>\n",
       "  <tbody>\n",
       "    <tr>\n",
       "      <th>0</th>\n",
       "      <td>122.042535</td>\n",
       "      <td>7.362739</td>\n",
       "      <td>0.646622</td>\n",
       "    </tr>\n",
       "    <tr>\n",
       "      <th>1</th>\n",
       "      <td>117.618042</td>\n",
       "      <td>6.381552</td>\n",
       "      <td>0.659412</td>\n",
       "    </tr>\n",
       "    <tr>\n",
       "      <th>2</th>\n",
       "      <td>119.184629</td>\n",
       "      <td>7.044930</td>\n",
       "      <td>0.666919</td>\n",
       "    </tr>\n",
       "    <tr>\n",
       "      <th>3</th>\n",
       "      <td>123.935749</td>\n",
       "      <td>6.133913</td>\n",
       "      <td>0.664940</td>\n",
       "    </tr>\n",
       "    <tr>\n",
       "      <th>4</th>\n",
       "      <td>117.067318</td>\n",
       "      <td>7.337887</td>\n",
       "      <td>0.626743</td>\n",
       "    </tr>\n",
       "  </tbody>\n",
       "</table>\n",
       "</div>"
      ],
      "text/plain": [
       "     fit_time  score_time  test_score\n",
       "0  122.042535    7.362739    0.646622\n",
       "1  117.618042    6.381552    0.659412\n",
       "2  119.184629    7.044930    0.666919\n",
       "3  123.935749    6.133913    0.664940\n",
       "4  117.067318    7.337887    0.626743"
      ]
     },
     "execution_count": 94,
     "metadata": {},
     "output_type": "execute_result"
    }
   ],
   "source": [
    "# Without hyperparameter tuning\n",
    "cv_results = cross_validate(hist_ordinal, X, y, cv=5)\n",
    "cv_results = pd.DataFrame(cv_results)\n",
    "cv_results"
   ]
  },
  {
   "cell_type": "code",
   "execution_count": 95,
   "id": "4c882d3f",
   "metadata": {},
   "outputs": [
    {
     "name": "stdout",
     "output_type": "stream",
     "text": [
      "Generalization score without hyperparameters tuning:\n",
      "0.653 ± 0.017\n"
     ]
    }
   ],
   "source": [
    "#23:35 le 10-09-2023\n",
    "print(\n",
    "    \"Generalization score without hyperparameters tuning:\\n\"\n",
    "    f\"{cv_results['test_score'].mean():.3f} ± {cv_results['test_score'].std():.3f}\"\n",
    ")"
   ]
  },
  {
   "cell_type": "code",
   "execution_count": 96,
   "id": "1ff73b98",
   "metadata": {},
   "outputs": [
    {
     "data": {
      "text/html": [
       "<style>#sk-c6c2466b-dedf-4fb7-981f-45a6ee34d387 {color: black;background-color: white;}#sk-c6c2466b-dedf-4fb7-981f-45a6ee34d387 pre{padding: 0;}#sk-c6c2466b-dedf-4fb7-981f-45a6ee34d387 div.sk-toggleable {background-color: white;}#sk-c6c2466b-dedf-4fb7-981f-45a6ee34d387 label.sk-toggleable__label {cursor: pointer;display: block;width: 100%;margin-bottom: 0;padding: 0.3em;box-sizing: border-box;text-align: center;}#sk-c6c2466b-dedf-4fb7-981f-45a6ee34d387 label.sk-toggleable__label-arrow:before {content: \"▸\";float: left;margin-right: 0.25em;color: #696969;}#sk-c6c2466b-dedf-4fb7-981f-45a6ee34d387 label.sk-toggleable__label-arrow:hover:before {color: black;}#sk-c6c2466b-dedf-4fb7-981f-45a6ee34d387 div.sk-estimator:hover label.sk-toggleable__label-arrow:before {color: black;}#sk-c6c2466b-dedf-4fb7-981f-45a6ee34d387 div.sk-toggleable__content {max-height: 0;max-width: 0;overflow: hidden;text-align: left;background-color: #f0f8ff;}#sk-c6c2466b-dedf-4fb7-981f-45a6ee34d387 div.sk-toggleable__content pre {margin: 0.2em;color: black;border-radius: 0.25em;background-color: #f0f8ff;}#sk-c6c2466b-dedf-4fb7-981f-45a6ee34d387 input.sk-toggleable__control:checked~div.sk-toggleable__content {max-height: 200px;max-width: 100%;overflow: auto;}#sk-c6c2466b-dedf-4fb7-981f-45a6ee34d387 input.sk-toggleable__control:checked~label.sk-toggleable__label-arrow:before {content: \"▾\";}#sk-c6c2466b-dedf-4fb7-981f-45a6ee34d387 div.sk-estimator input.sk-toggleable__control:checked~label.sk-toggleable__label {background-color: #d4ebff;}#sk-c6c2466b-dedf-4fb7-981f-45a6ee34d387 div.sk-label input.sk-toggleable__control:checked~label.sk-toggleable__label {background-color: #d4ebff;}#sk-c6c2466b-dedf-4fb7-981f-45a6ee34d387 input.sk-hidden--visually {border: 0;clip: rect(1px 1px 1px 1px);clip: rect(1px, 1px, 1px, 1px);height: 1px;margin: -1px;overflow: hidden;padding: 0;position: absolute;width: 1px;}#sk-c6c2466b-dedf-4fb7-981f-45a6ee34d387 div.sk-estimator {font-family: monospace;background-color: #f0f8ff;border: 1px dotted black;border-radius: 0.25em;box-sizing: border-box;margin-bottom: 0.5em;}#sk-c6c2466b-dedf-4fb7-981f-45a6ee34d387 div.sk-estimator:hover {background-color: #d4ebff;}#sk-c6c2466b-dedf-4fb7-981f-45a6ee34d387 div.sk-parallel-item::after {content: \"\";width: 100%;border-bottom: 1px solid gray;flex-grow: 1;}#sk-c6c2466b-dedf-4fb7-981f-45a6ee34d387 div.sk-label:hover label.sk-toggleable__label {background-color: #d4ebff;}#sk-c6c2466b-dedf-4fb7-981f-45a6ee34d387 div.sk-serial::before {content: \"\";position: absolute;border-left: 1px solid gray;box-sizing: border-box;top: 2em;bottom: 0;left: 50%;}#sk-c6c2466b-dedf-4fb7-981f-45a6ee34d387 div.sk-serial {display: flex;flex-direction: column;align-items: center;background-color: white;padding-right: 0.2em;padding-left: 0.2em;}#sk-c6c2466b-dedf-4fb7-981f-45a6ee34d387 div.sk-item {z-index: 1;}#sk-c6c2466b-dedf-4fb7-981f-45a6ee34d387 div.sk-parallel {display: flex;align-items: stretch;justify-content: center;background-color: white;}#sk-c6c2466b-dedf-4fb7-981f-45a6ee34d387 div.sk-parallel::before {content: \"\";position: absolute;border-left: 1px solid gray;box-sizing: border-box;top: 2em;bottom: 0;left: 50%;}#sk-c6c2466b-dedf-4fb7-981f-45a6ee34d387 div.sk-parallel-item {display: flex;flex-direction: column;position: relative;background-color: white;}#sk-c6c2466b-dedf-4fb7-981f-45a6ee34d387 div.sk-parallel-item:first-child::after {align-self: flex-end;width: 50%;}#sk-c6c2466b-dedf-4fb7-981f-45a6ee34d387 div.sk-parallel-item:last-child::after {align-self: flex-start;width: 50%;}#sk-c6c2466b-dedf-4fb7-981f-45a6ee34d387 div.sk-parallel-item:only-child::after {width: 0;}#sk-c6c2466b-dedf-4fb7-981f-45a6ee34d387 div.sk-dashed-wrapped {border: 1px dashed gray;margin: 0 0.4em 0.5em 0.4em;box-sizing: border-box;padding-bottom: 0.4em;background-color: white;position: relative;}#sk-c6c2466b-dedf-4fb7-981f-45a6ee34d387 div.sk-label label {font-family: monospace;font-weight: bold;background-color: white;display: inline-block;line-height: 1.2em;}#sk-c6c2466b-dedf-4fb7-981f-45a6ee34d387 div.sk-label-container {position: relative;z-index: 2;text-align: center;}#sk-c6c2466b-dedf-4fb7-981f-45a6ee34d387 div.sk-container {/* jupyter's `normalize.less` sets `[hidden] { display: none; }` but bootstrap.min.css set `[hidden] { display: none !important; }` so we also need the `!important` here to be able to override the default hidden behavior on the sphinx rendered scikit-learn.org. See: https://github.com/scikit-learn/scikit-learn/issues/21755 */display: inline-block !important;position: relative;}#sk-c6c2466b-dedf-4fb7-981f-45a6ee34d387 div.sk-text-repr-fallback {display: none;}</style><div id=\"sk-c6c2466b-dedf-4fb7-981f-45a6ee34d387\" class=\"sk-top-container\"><div class=\"sk-text-repr-fallback\"><pre>GridSearchCV(cv=2,\n",
       "             estimator=Pipeline(steps=[(&#x27;ordinal_preprocessor&#x27;,\n",
       "                                        ColumnTransformer(transformers=[(&#x27;ordinal_encoder&#x27;,\n",
       "                                                                         ColumnTransformer(remainder=&#x27;passthrough&#x27;,\n",
       "                                                                                           transformers=[(&#x27;ordinalencoder&#x27;,\n",
       "                                                                                                          OrdinalEncoder(handle_unknown=&#x27;use_encoded_value&#x27;,\n",
       "                                                                                                                         unknown_value=nan),\n",
       "                                                                                                          &lt;sklearn.compose._column_transformer.make_column_selector object at 0x7fadadd9f9d0&gt;)],\n",
       "                                                                                           verbo...\n",
       "                                                                          &#x27;obsm&#x27;,\n",
       "                                                                          &#x27;choc&#x27;,\n",
       "                                                                          &#x27;manv&#x27;,\n",
       "                                                                          &#x27;catv_Label&#x27;,\n",
       "                                                                          &#x27;lum&#x27;,\n",
       "                                                                          &#x27;agg&#x27;,\n",
       "                                                                          &#x27;int&#x27;,\n",
       "                                                                          &#x27;atm&#x27;,\n",
       "                                                                          &#x27;col&#x27;,\n",
       "                                                                          &#x27;jour_de_la_semaine&#x27;, ...]),\n",
       "                                                                        (&#x27;standard_scaler&#x27;,\n",
       "                                                                         StandardScaler(),\n",
       "                                                                         [&#x27;age_acc_an&#x27;,\n",
       "                                                                          &#x27;nbv&#x27;,\n",
       "                                                                          &#x27;occutc&#x27;])])),\n",
       "                                       (&#x27;model_hist_ordinal&#x27;,\n",
       "                                        HistGradientBoostingClassifier(random_state=52))]),\n",
       "             n_jobs=2,\n",
       "             param_grid={&#x27;model_hist_ordinal__learning_rate&#x27;: (0.01, 0.1, 1,\n",
       "                                                               10),\n",
       "                         &#x27;model_hist_ordinal__max_leaf_nodes&#x27;: (3, 10, 30)})</pre><b>Please rerun this cell to show the HTML repr or trust the notebook.</b></div><div class=\"sk-container\" hidden><div class=\"sk-item sk-dashed-wrapped\"><div class=\"sk-label-container\"><div class=\"sk-label sk-toggleable\"><input class=\"sk-toggleable__control sk-hidden--visually\" id=\"e5bd8729-dfbc-499f-b1ae-fa3bb6c697df\" type=\"checkbox\" ><label for=\"e5bd8729-dfbc-499f-b1ae-fa3bb6c697df\" class=\"sk-toggleable__label sk-toggleable__label-arrow\">GridSearchCV</label><div class=\"sk-toggleable__content\"><pre>GridSearchCV(cv=2,\n",
       "             estimator=Pipeline(steps=[(&#x27;ordinal_preprocessor&#x27;,\n",
       "                                        ColumnTransformer(transformers=[(&#x27;ordinal_encoder&#x27;,\n",
       "                                                                         ColumnTransformer(remainder=&#x27;passthrough&#x27;,\n",
       "                                                                                           transformers=[(&#x27;ordinalencoder&#x27;,\n",
       "                                                                                                          OrdinalEncoder(handle_unknown=&#x27;use_encoded_value&#x27;,\n",
       "                                                                                                                         unknown_value=nan),\n",
       "                                                                                                          &lt;sklearn.compose._column_transformer.make_column_selector object at 0x7fadadd9f9d0&gt;)],\n",
       "                                                                                           verbo...\n",
       "                                                                          &#x27;obsm&#x27;,\n",
       "                                                                          &#x27;choc&#x27;,\n",
       "                                                                          &#x27;manv&#x27;,\n",
       "                                                                          &#x27;catv_Label&#x27;,\n",
       "                                                                          &#x27;lum&#x27;,\n",
       "                                                                          &#x27;agg&#x27;,\n",
       "                                                                          &#x27;int&#x27;,\n",
       "                                                                          &#x27;atm&#x27;,\n",
       "                                                                          &#x27;col&#x27;,\n",
       "                                                                          &#x27;jour_de_la_semaine&#x27;, ...]),\n",
       "                                                                        (&#x27;standard_scaler&#x27;,\n",
       "                                                                         StandardScaler(),\n",
       "                                                                         [&#x27;age_acc_an&#x27;,\n",
       "                                                                          &#x27;nbv&#x27;,\n",
       "                                                                          &#x27;occutc&#x27;])])),\n",
       "                                       (&#x27;model_hist_ordinal&#x27;,\n",
       "                                        HistGradientBoostingClassifier(random_state=52))]),\n",
       "             n_jobs=2,\n",
       "             param_grid={&#x27;model_hist_ordinal__learning_rate&#x27;: (0.01, 0.1, 1,\n",
       "                                                               10),\n",
       "                         &#x27;model_hist_ordinal__max_leaf_nodes&#x27;: (3, 10, 30)})</pre></div></div></div><div class=\"sk-parallel\"><div class=\"sk-parallel-item\"><div class=\"sk-item\"><div class=\"sk-serial\"><div class=\"sk-item\"><div class=\"sk-serial\"><div class=\"sk-item sk-dashed-wrapped\"><div class=\"sk-label-container\"><div class=\"sk-label sk-toggleable\"><input class=\"sk-toggleable__control sk-hidden--visually\" id=\"a92934b8-d095-44cb-8894-43c2f59919e1\" type=\"checkbox\" ><label for=\"a92934b8-d095-44cb-8894-43c2f59919e1\" class=\"sk-toggleable__label sk-toggleable__label-arrow\">ordinal_preprocessor: ColumnTransformer</label><div class=\"sk-toggleable__content\"><pre>ColumnTransformer(transformers=[(&#x27;ordinal_encoder&#x27;,\n",
       "                                 ColumnTransformer(remainder=&#x27;passthrough&#x27;,\n",
       "                                                   transformers=[(&#x27;ordinalencoder&#x27;,\n",
       "                                                                  OrdinalEncoder(handle_unknown=&#x27;use_encoded_value&#x27;,\n",
       "                                                                                 unknown_value=nan),\n",
       "                                                                  &lt;sklearn.compose._column_transformer.make_column_selector object at 0x7fadadd9f9d0&gt;)],\n",
       "                                                   verbose_feature_names_out=False),\n",
       "                                 [&#x27;place&#x27;, &#x27;catu&#x27;, &#x27;sexe&#x27;, &#x27;trajet&#x27;, &#x27;locp&#x27;,\n",
       "                                  &#x27;actp&#x27;, &#x27;etatp&#x27;, &#x27;secuUn&#x27;, &#x27;secuDeux&#x27;,\n",
       "                                  &#x27;tranches_ages&#x27;, &#x27;catr&#x27;, &#x27;circ&#x27;, &#x27;vosp&#x27;,\n",
       "                                  &#x27;prof&#x27;, &#x27;plan&#x27;, &#x27;surf&#x27;, &#x27;infra&#x27;, &#x27;situ&#x27;,\n",
       "                                  &#x27;senc&#x27;, &#x27;obs&#x27;, &#x27;obsm&#x27;, &#x27;choc&#x27;, &#x27;manv&#x27;,\n",
       "                                  &#x27;catv_Label&#x27;, &#x27;lum&#x27;, &#x27;agg&#x27;, &#x27;int&#x27;, &#x27;atm&#x27;,\n",
       "                                  &#x27;col&#x27;, &#x27;jour_de_la_semaine&#x27;, ...]),\n",
       "                                (&#x27;standard_scaler&#x27;, StandardScaler(),\n",
       "                                 [&#x27;age_acc_an&#x27;, &#x27;nbv&#x27;, &#x27;occutc&#x27;])])</pre></div></div></div><div class=\"sk-parallel\"><div class=\"sk-parallel-item\"><div class=\"sk-item\"><div class=\"sk-label-container\"><div class=\"sk-label sk-toggleable\"><input class=\"sk-toggleable__control sk-hidden--visually\" id=\"9e6504b1-06b0-407b-b2e9-840667140927\" type=\"checkbox\" ><label for=\"9e6504b1-06b0-407b-b2e9-840667140927\" class=\"sk-toggleable__label sk-toggleable__label-arrow\">ordinal_encoder</label><div class=\"sk-toggleable__content\"><pre>[&#x27;place&#x27;, &#x27;catu&#x27;, &#x27;sexe&#x27;, &#x27;trajet&#x27;, &#x27;locp&#x27;, &#x27;actp&#x27;, &#x27;etatp&#x27;, &#x27;secuUn&#x27;, &#x27;secuDeux&#x27;, &#x27;tranches_ages&#x27;, &#x27;catr&#x27;, &#x27;circ&#x27;, &#x27;vosp&#x27;, &#x27;prof&#x27;, &#x27;plan&#x27;, &#x27;surf&#x27;, &#x27;infra&#x27;, &#x27;situ&#x27;, &#x27;senc&#x27;, &#x27;obs&#x27;, &#x27;obsm&#x27;, &#x27;choc&#x27;, &#x27;manv&#x27;, &#x27;catv_Label&#x27;, &#x27;lum&#x27;, &#x27;agg&#x27;, &#x27;int&#x27;, &#x27;atm&#x27;, &#x27;col&#x27;, &#x27;jour_de_la_semaine&#x27;, &#x27;heure&#x27;]</pre></div></div></div><div class=\"sk-serial\"><div class=\"sk-item sk-dashed-wrapped\"><div class=\"sk-parallel\"><div class=\"sk-parallel-item\"><div class=\"sk-item\"><div class=\"sk-label-container\"><div class=\"sk-label sk-toggleable\"><input class=\"sk-toggleable__control sk-hidden--visually\" id=\"9c0a1d89-c641-4eb8-85eb-e860cc4cd69c\" type=\"checkbox\" ><label for=\"9c0a1d89-c641-4eb8-85eb-e860cc4cd69c\" class=\"sk-toggleable__label sk-toggleable__label-arrow\">ordinalencoder</label><div class=\"sk-toggleable__content\"><pre>&lt;sklearn.compose._column_transformer.make_column_selector object at 0x7fadadd9f9d0&gt;</pre></div></div></div><div class=\"sk-serial\"><div class=\"sk-item\"><div class=\"sk-estimator sk-toggleable\"><input class=\"sk-toggleable__control sk-hidden--visually\" id=\"0bf6f736-3c5a-4372-ba79-e44d4d52eec0\" type=\"checkbox\" ><label for=\"0bf6f736-3c5a-4372-ba79-e44d4d52eec0\" class=\"sk-toggleable__label sk-toggleable__label-arrow\">OrdinalEncoder</label><div class=\"sk-toggleable__content\"><pre>OrdinalEncoder(handle_unknown=&#x27;use_encoded_value&#x27;, unknown_value=nan)</pre></div></div></div></div></div></div><div class=\"sk-parallel-item\"><div class=\"sk-item\"><div class=\"sk-label-container\"><div class=\"sk-label sk-toggleable\"><input class=\"sk-toggleable__control sk-hidden--visually\" id=\"ef440581-d12d-4f3c-ac3d-0f30301442ca\" type=\"checkbox\" ><label for=\"ef440581-d12d-4f3c-ac3d-0f30301442ca\" class=\"sk-toggleable__label sk-toggleable__label-arrow\">remainder</label><div class=\"sk-toggleable__content\"><pre></pre></div></div></div><div class=\"sk-serial\"><div class=\"sk-item\"><div class=\"sk-estimator sk-toggleable\"><input class=\"sk-toggleable__control sk-hidden--visually\" id=\"dba92eed-5453-4e73-91db-20efea6aab7d\" type=\"checkbox\" ><label for=\"dba92eed-5453-4e73-91db-20efea6aab7d\" class=\"sk-toggleable__label sk-toggleable__label-arrow\">passthrough</label><div class=\"sk-toggleable__content\"><pre>passthrough</pre></div></div></div></div></div></div></div></div></div></div></div><div class=\"sk-parallel-item\"><div class=\"sk-item\"><div class=\"sk-label-container\"><div class=\"sk-label sk-toggleable\"><input class=\"sk-toggleable__control sk-hidden--visually\" id=\"b194067a-9bcf-40da-89bc-c045d9672138\" type=\"checkbox\" ><label for=\"b194067a-9bcf-40da-89bc-c045d9672138\" class=\"sk-toggleable__label sk-toggleable__label-arrow\">standard_scaler</label><div class=\"sk-toggleable__content\"><pre>[&#x27;age_acc_an&#x27;, &#x27;nbv&#x27;, &#x27;occutc&#x27;]</pre></div></div></div><div class=\"sk-serial\"><div class=\"sk-item\"><div class=\"sk-estimator sk-toggleable\"><input class=\"sk-toggleable__control sk-hidden--visually\" id=\"2904ba87-663d-4296-80c7-1d3c8116911b\" type=\"checkbox\" ><label for=\"2904ba87-663d-4296-80c7-1d3c8116911b\" class=\"sk-toggleable__label sk-toggleable__label-arrow\">StandardScaler</label><div class=\"sk-toggleable__content\"><pre>StandardScaler()</pre></div></div></div></div></div></div></div></div><div class=\"sk-item\"><div class=\"sk-estimator sk-toggleable\"><input class=\"sk-toggleable__control sk-hidden--visually\" id=\"35fcca40-8c98-4792-bbfa-d7ab0c7b108b\" type=\"checkbox\" ><label for=\"35fcca40-8c98-4792-bbfa-d7ab0c7b108b\" class=\"sk-toggleable__label sk-toggleable__label-arrow\">HistGradientBoostingClassifier</label><div class=\"sk-toggleable__content\"><pre>HistGradientBoostingClassifier(random_state=52)</pre></div></div></div></div></div></div></div></div></div></div></div></div>"
      ],
      "text/plain": [
       "GridSearchCV(cv=2,\n",
       "             estimator=Pipeline(steps=[('ordinal_preprocessor',\n",
       "                                        ColumnTransformer(transformers=[('ordinal_encoder',\n",
       "                                                                         ColumnTransformer(remainder='passthrough',\n",
       "                                                                                           transformers=[('ordinalencoder',\n",
       "                                                                                                          OrdinalEncoder(handle_unknown='use_encoded_value',\n",
       "                                                                                                                         unknown_value=nan),\n",
       "                                                                                                          <sklearn.compose._column_transformer.make_column_selector object at 0x7fadadd9f9d0>)],\n",
       "                                                                                           verbo...\n",
       "                                                                          'obsm',\n",
       "                                                                          'choc',\n",
       "                                                                          'manv',\n",
       "                                                                          'catv_Label',\n",
       "                                                                          'lum',\n",
       "                                                                          'agg',\n",
       "                                                                          'int',\n",
       "                                                                          'atm',\n",
       "                                                                          'col',\n",
       "                                                                          'jour_de_la_semaine', ...]),\n",
       "                                                                        ('standard_scaler',\n",
       "                                                                         StandardScaler(),\n",
       "                                                                         ['age_acc_an',\n",
       "                                                                          'nbv',\n",
       "                                                                          'occutc'])])),\n",
       "                                       ('model_hist_ordinal',\n",
       "                                        HistGradientBoostingClassifier(random_state=52))]),\n",
       "             n_jobs=2,\n",
       "             param_grid={'model_hist_ordinal__learning_rate': (0.01, 0.1, 1,\n",
       "                                                               10),\n",
       "                         'model_hist_ordinal__max_leaf_nodes': (3, 10, 30)})"
      ]
     },
     "execution_count": 96,
     "metadata": {},
     "output_type": "execute_result"
    }
   ],
   "source": [
    "# With hyperparameter tuning : use of a grid-search strategy\n",
    "#00:02 le 11-09-2023\n",
    "param_grid = {\n",
    "    'model_hist_ordinal__learning_rate': (0.01, 0.1, 1, 10),\n",
    "    'model_hist_ordinal__max_leaf_nodes': (3, 10, 30)}\n",
    "model_grid_search = GridSearchCV(hist_ordinal, param_grid=param_grid,\n",
    "                                 n_jobs=2, cv=2)\n",
    "model_grid_search.fit(X, y)"
   ]
  },
  {
   "cell_type": "code",
   "execution_count": 97,
   "id": "9ccf2494",
   "metadata": {},
   "outputs": [
    {
     "data": {
      "text/plain": [
       "1694384319.553673"
      ]
     },
     "execution_count": 97,
     "metadata": {},
     "output_type": "execute_result"
    }
   ],
   "source": [
    "time.time() # 17min"
   ]
  },
  {
   "cell_type": "code",
   "execution_count": 98,
   "id": "e7437175",
   "metadata": {},
   "outputs": [
    {
     "data": {
      "text/html": [
       "<div>\n",
       "<style scoped>\n",
       "    .dataframe tbody tr th:only-of-type {\n",
       "        vertical-align: middle;\n",
       "    }\n",
       "\n",
       "    .dataframe tbody tr th {\n",
       "        vertical-align: top;\n",
       "    }\n",
       "\n",
       "    .dataframe thead th {\n",
       "        text-align: right;\n",
       "    }\n",
       "</style>\n",
       "<table border=\"1\" class=\"dataframe\">\n",
       "  <thead>\n",
       "    <tr style=\"text-align: right;\">\n",
       "      <th></th>\n",
       "      <th>param_model_hist_ordinal__learning_rate</th>\n",
       "      <th>param_model_hist_ordinal__max_leaf_nodes</th>\n",
       "      <th>mean_test_score</th>\n",
       "      <th>std_test_score</th>\n",
       "      <th>rank_test_score</th>\n",
       "    </tr>\n",
       "  </thead>\n",
       "  <tbody>\n",
       "    <tr>\n",
       "      <th>0</th>\n",
       "      <td>0.01</td>\n",
       "      <td>3</td>\n",
       "      <td>0.551962</td>\n",
       "      <td>0.013395</td>\n",
       "      <td>9</td>\n",
       "    </tr>\n",
       "    <tr>\n",
       "      <th>1</th>\n",
       "      <td>0.01</td>\n",
       "      <td>10</td>\n",
       "      <td>0.608043</td>\n",
       "      <td>0.001690</td>\n",
       "      <td>7</td>\n",
       "    </tr>\n",
       "    <tr>\n",
       "      <th>2</th>\n",
       "      <td>0.01</td>\n",
       "      <td>30</td>\n",
       "      <td>0.628779</td>\n",
       "      <td>0.005061</td>\n",
       "      <td>3</td>\n",
       "    </tr>\n",
       "    <tr>\n",
       "      <th>3</th>\n",
       "      <td>0.1</td>\n",
       "      <td>3</td>\n",
       "      <td>0.621638</td>\n",
       "      <td>0.003060</td>\n",
       "      <td>4</td>\n",
       "    </tr>\n",
       "    <tr>\n",
       "      <th>4</th>\n",
       "      <td>0.1</td>\n",
       "      <td>10</td>\n",
       "      <td>0.645295</td>\n",
       "      <td>0.005221</td>\n",
       "      <td>2</td>\n",
       "    </tr>\n",
       "    <tr>\n",
       "      <th>5</th>\n",
       "      <td>0.1</td>\n",
       "      <td>30</td>\n",
       "      <td>0.648576</td>\n",
       "      <td>0.006498</td>\n",
       "      <td>1</td>\n",
       "    </tr>\n",
       "    <tr>\n",
       "      <th>6</th>\n",
       "      <td>1</td>\n",
       "      <td>3</td>\n",
       "      <td>0.557389</td>\n",
       "      <td>0.002679</td>\n",
       "      <td>8</td>\n",
       "    </tr>\n",
       "    <tr>\n",
       "      <th>7</th>\n",
       "      <td>1</td>\n",
       "      <td>10</td>\n",
       "      <td>0.611350</td>\n",
       "      <td>0.011249</td>\n",
       "      <td>6</td>\n",
       "    </tr>\n",
       "    <tr>\n",
       "      <th>8</th>\n",
       "      <td>1</td>\n",
       "      <td>30</td>\n",
       "      <td>0.617513</td>\n",
       "      <td>0.011942</td>\n",
       "      <td>5</td>\n",
       "    </tr>\n",
       "    <tr>\n",
       "      <th>9</th>\n",
       "      <td>10</td>\n",
       "      <td>3</td>\n",
       "      <td>0.392159</td>\n",
       "      <td>0.120301</td>\n",
       "      <td>11</td>\n",
       "    </tr>\n",
       "    <tr>\n",
       "      <th>10</th>\n",
       "      <td>10</td>\n",
       "      <td>10</td>\n",
       "      <td>0.309666</td>\n",
       "      <td>0.081121</td>\n",
       "      <td>12</td>\n",
       "    </tr>\n",
       "    <tr>\n",
       "      <th>11</th>\n",
       "      <td>10</td>\n",
       "      <td>30</td>\n",
       "      <td>0.444752</td>\n",
       "      <td>0.034316</td>\n",
       "      <td>10</td>\n",
       "    </tr>\n",
       "  </tbody>\n",
       "</table>\n",
       "</div>"
      ],
      "text/plain": [
       "   param_model_hist_ordinal__learning_rate  \\\n",
       "0                                     0.01   \n",
       "1                                     0.01   \n",
       "2                                     0.01   \n",
       "3                                      0.1   \n",
       "4                                      0.1   \n",
       "5                                      0.1   \n",
       "6                                        1   \n",
       "7                                        1   \n",
       "8                                        1   \n",
       "9                                       10   \n",
       "10                                      10   \n",
       "11                                      10   \n",
       "\n",
       "   param_model_hist_ordinal__max_leaf_nodes  mean_test_score  std_test_score  \\\n",
       "0                                         3         0.551962        0.013395   \n",
       "1                                        10         0.608043        0.001690   \n",
       "2                                        30         0.628779        0.005061   \n",
       "3                                         3         0.621638        0.003060   \n",
       "4                                        10         0.645295        0.005221   \n",
       "5                                        30         0.648576        0.006498   \n",
       "6                                         3         0.557389        0.002679   \n",
       "7                                        10         0.611350        0.011249   \n",
       "8                                        30         0.617513        0.011942   \n",
       "9                                         3         0.392159        0.120301   \n",
       "10                                       10         0.309666        0.081121   \n",
       "11                                       30         0.444752        0.034316   \n",
       "\n",
       "    rank_test_score  \n",
       "0                 9  \n",
       "1                 7  \n",
       "2                 3  \n",
       "3                 4  \n",
       "4                 2  \n",
       "5                 1  \n",
       "6                 8  \n",
       "7                 6  \n",
       "8                 5  \n",
       "9                11  \n",
       "10               12  \n",
       "11               10  "
      ]
     },
     "execution_count": 98,
     "metadata": {},
     "output_type": "execute_result"
    }
   ],
   "source": [
    "# The best combination is selected by keeping the combination leading to the best mean cross-validated score.\n",
    "cv_results_grid = pd.DataFrame(model_grid_search.cv_results_)\n",
    "cv_results_grid[[\n",
    "    \"param_model_hist_ordinal__learning_rate\",\n",
    "    \"param_model_hist_ordinal__max_leaf_nodes\",\n",
    "    \"mean_test_score\",\n",
    "    \"std_test_score\",\n",
    "    \"rank_test_score\"\n",
    "]]"
   ]
  },
  {
   "cell_type": "code",
   "execution_count": 99,
   "id": "0c15ff3f",
   "metadata": {},
   "outputs": [
    {
     "data": {
      "text/plain": [
       "{'model_hist_ordinal__learning_rate': 0.1,\n",
       " 'model_hist_ordinal__max_leaf_nodes': 30}"
      ]
     },
     "execution_count": 99,
     "metadata": {},
     "output_type": "execute_result"
    }
   ],
   "source": [
    "model_grid_search.best_params_"
   ]
  },
  {
   "cell_type": "code",
   "execution_count": 100,
   "id": "c0e5733d",
   "metadata": {},
   "outputs": [
    {
     "name": "stdout",
     "output_type": "stream",
     "text": [
      "Accuracy on test set: 0.659\n",
      "Execution time: 782.6459 seconds\n"
     ]
    }
   ],
   "source": [
    "# using knowledge from the full dataset to both decide our model’s hyper-parameters and to train the refitted model\n",
    "\n",
    "start_time = time.time()\n",
    "\n",
    "model_grid_search.fit(X_train, y_train)\n",
    "accuracy = model_grid_search.score(X_test, y_test)\n",
    "print(f\"Accuracy on test set: {accuracy:.3f}\")\n",
    "\n",
    "end_time = time.time()\n",
    "execution_time = end_time - start_time\n",
    "\n",
    "print(f\"Execution time: {execution_time:.4f} seconds\")"
   ]
  },
  {
   "cell_type": "code",
   "execution_count": 101,
   "id": "b78afdff",
   "metadata": {},
   "outputs": [
    {
     "name": "stdout",
     "output_type": "stream",
     "text": [
      "Execution time: 29040.3973 seconds\n"
     ]
    }
   ],
   "source": [
    "# cross-validation for the evaluation of generalization performance of the refitted tuned model.\n",
    "start_time = time.time()\n",
    "cv_results = cross_validate(\n",
    "    model_grid_search, X, y, cv=5, n_jobs=2, return_estimator=True\n",
    ")\n",
    "end_time = time.time()\n",
    "execution_time = end_time - start_time\n",
    "\n",
    "print(f\"Execution time: {execution_time:.4f} seconds\")"
   ]
  },
  {
   "cell_type": "code",
   "execution_count": 102,
   "id": "d594387a",
   "metadata": {},
   "outputs": [
    {
     "name": "stdout",
     "output_type": "stream",
     "text": [
      "Generalization score with hyperparameters tuning:\n",
      "0.653 ± 0.016\n"
     ]
    }
   ],
   "source": [
    "cv_results = pd.DataFrame(cv_results)\n",
    "cv_test_scores = cv_results['test_score']\n",
    "print(\n",
    "    \"Generalization score with hyperparameters tuning:\\n\"\n",
    "    f\"{cv_test_scores.mean():.3f} ± {cv_test_scores.std():.3f}\"\n",
    ")\n"
   ]
  },
  {
   "cell_type": "code",
   "execution_count": 103,
   "id": "bd51bc47",
   "metadata": {},
   "outputs": [
    {
     "name": "stdout",
     "output_type": "stream",
     "text": [
      "Best hyperparameters for fold #1:\n",
      "{'model_hist_ordinal__learning_rate': 0.1, 'model_hist_ordinal__max_leaf_nodes': 30}\n",
      "Best hyperparameters for fold #2:\n",
      "{'model_hist_ordinal__learning_rate': 0.1, 'model_hist_ordinal__max_leaf_nodes': 30}\n",
      "Best hyperparameters for fold #3:\n",
      "{'model_hist_ordinal__learning_rate': 0.1, 'model_hist_ordinal__max_leaf_nodes': 30}\n",
      "Best hyperparameters for fold #4:\n",
      "{'model_hist_ordinal__learning_rate': 0.1, 'model_hist_ordinal__max_leaf_nodes': 30}\n",
      "Best hyperparameters for fold #5:\n",
      "{'model_hist_ordinal__learning_rate': 0.1, 'model_hist_ordinal__max_leaf_nodes': 30}\n"
     ]
    }
   ],
   "source": [
    "# It is interesting to see whether the hyper-parameter tuning procedure always select similar values \n",
    "# for the hyperparameters. \n",
    "for cv_fold, estimator_in_fold in enumerate(cv_results[\"estimator\"]):\n",
    "    print(\n",
    "        f\"Best hyperparameters for fold #{cv_fold + 1}:\\n\"\n",
    "        f\"{estimator_in_fold.best_params_}\"\n",
    "    )"
   ]
  },
  {
   "cell_type": "markdown",
   "id": "28edcf76",
   "metadata": {},
   "source": [
    "\"Bagging\" stands for Bootstrap AGGregatING. It uses bootstrap resampling (random sampling with replacement) to learn several models on random variations of the training set. At predict time, the predictions of each learner are aggregated to give the final predictions.\n",
    "\n"
   ]
  },
  {
   "cell_type": "code",
   "execution_count": 105,
   "id": "9d8062dd",
   "metadata": {},
   "outputs": [],
   "source": [
    "bagged_hgbc = make_pipeline(\n",
    "    ordinal_preprocessor,\n",
    "    BaggingClassifier(\n",
    "        base_estimator=hist_gradient_boosting,\n",
    "        n_estimators=50, n_jobs=2, random_state=0,\n",
    "    )\n",
    ")"
   ]
  },
  {
   "cell_type": "code",
   "execution_count": 107,
   "id": "a9de8b9e",
   "metadata": {},
   "outputs": [],
   "source": [
    "from sklearn.model_selection import cross_val_score"
   ]
  },
  {
   "cell_type": "code",
   "execution_count": null,
   "id": "37ca57e4",
   "metadata": {},
   "outputs": [],
   "source": [
    "scores_bagged_hgbc = cross_val_score(bagged_hgbc, X, y)\n",
    "\n",
    "print(f\"Bagged histo gradient boosting classifier: \"\n",
    "      f\"{scores_bagged_hgbc.mean():.3f} ± {scores_bagged_hgbc.std():.3f}\")"
   ]
  },
  {
   "cell_type": "code",
   "execution_count": null,
   "id": "ec69aaca",
   "metadata": {},
   "outputs": [],
   "source": [
    "\n",
    "# Création du classifier et construction du modèle sur les données d'entraînement\n",
    "ac = AdaBoostClassifier(base_estimator=hist_ordinal, n_estimators=400)\n",
    "ac.fit(X_train, y_train)\n",
    "\n",
    "# Calcul de l'accuracy\n",
    "ac.score(X_test, y_test)"
   ]
  },
  {
   "cell_type": "markdown",
   "id": "3f4d0ad7",
   "metadata": {},
   "source": [
    "<div class=\"alert alert-block alert-info\">\n",
    "<h2><a id = \"reduction_dimension\">Réduction de dimension</a></h2>\n",
    "</div>"
   ]
  },
  {
   "cell_type": "raw",
   "id": "66bfe4e3",
   "metadata": {},
   "source": [
    "## <p style=\"color:yellow\">Réduction de dimensiong</p> {#reduction_dimension}"
   ]
  },
  {
   "cell_type": "markdown",
   "id": "207fa599",
   "metadata": {},
   "source": [
    "##### Feature selection\n",
    "Supprimer les features de variance nulle d'un dataset : elles ne peuvent être d'aucune utilité."
   ]
  },
  {
   "cell_type": "code",
   "execution_count": 128,
   "id": "27577b44",
   "metadata": {},
   "outputs": [
    {
     "data": {
      "text/html": [
       "<style>#sk-d2947b0c-c268-467a-89d8-ea568e515d59 {color: black;background-color: white;}#sk-d2947b0c-c268-467a-89d8-ea568e515d59 pre{padding: 0;}#sk-d2947b0c-c268-467a-89d8-ea568e515d59 div.sk-toggleable {background-color: white;}#sk-d2947b0c-c268-467a-89d8-ea568e515d59 label.sk-toggleable__label {cursor: pointer;display: block;width: 100%;margin-bottom: 0;padding: 0.3em;box-sizing: border-box;text-align: center;}#sk-d2947b0c-c268-467a-89d8-ea568e515d59 label.sk-toggleable__label-arrow:before {content: \"▸\";float: left;margin-right: 0.25em;color: #696969;}#sk-d2947b0c-c268-467a-89d8-ea568e515d59 label.sk-toggleable__label-arrow:hover:before {color: black;}#sk-d2947b0c-c268-467a-89d8-ea568e515d59 div.sk-estimator:hover label.sk-toggleable__label-arrow:before {color: black;}#sk-d2947b0c-c268-467a-89d8-ea568e515d59 div.sk-toggleable__content {max-height: 0;max-width: 0;overflow: hidden;text-align: left;background-color: #f0f8ff;}#sk-d2947b0c-c268-467a-89d8-ea568e515d59 div.sk-toggleable__content pre {margin: 0.2em;color: black;border-radius: 0.25em;background-color: #f0f8ff;}#sk-d2947b0c-c268-467a-89d8-ea568e515d59 input.sk-toggleable__control:checked~div.sk-toggleable__content {max-height: 200px;max-width: 100%;overflow: auto;}#sk-d2947b0c-c268-467a-89d8-ea568e515d59 input.sk-toggleable__control:checked~label.sk-toggleable__label-arrow:before {content: \"▾\";}#sk-d2947b0c-c268-467a-89d8-ea568e515d59 div.sk-estimator input.sk-toggleable__control:checked~label.sk-toggleable__label {background-color: #d4ebff;}#sk-d2947b0c-c268-467a-89d8-ea568e515d59 div.sk-label input.sk-toggleable__control:checked~label.sk-toggleable__label {background-color: #d4ebff;}#sk-d2947b0c-c268-467a-89d8-ea568e515d59 input.sk-hidden--visually {border: 0;clip: rect(1px 1px 1px 1px);clip: rect(1px, 1px, 1px, 1px);height: 1px;margin: -1px;overflow: hidden;padding: 0;position: absolute;width: 1px;}#sk-d2947b0c-c268-467a-89d8-ea568e515d59 div.sk-estimator {font-family: monospace;background-color: #f0f8ff;border: 1px dotted black;border-radius: 0.25em;box-sizing: border-box;margin-bottom: 0.5em;}#sk-d2947b0c-c268-467a-89d8-ea568e515d59 div.sk-estimator:hover {background-color: #d4ebff;}#sk-d2947b0c-c268-467a-89d8-ea568e515d59 div.sk-parallel-item::after {content: \"\";width: 100%;border-bottom: 1px solid gray;flex-grow: 1;}#sk-d2947b0c-c268-467a-89d8-ea568e515d59 div.sk-label:hover label.sk-toggleable__label {background-color: #d4ebff;}#sk-d2947b0c-c268-467a-89d8-ea568e515d59 div.sk-serial::before {content: \"\";position: absolute;border-left: 1px solid gray;box-sizing: border-box;top: 2em;bottom: 0;left: 50%;}#sk-d2947b0c-c268-467a-89d8-ea568e515d59 div.sk-serial {display: flex;flex-direction: column;align-items: center;background-color: white;padding-right: 0.2em;padding-left: 0.2em;}#sk-d2947b0c-c268-467a-89d8-ea568e515d59 div.sk-item {z-index: 1;}#sk-d2947b0c-c268-467a-89d8-ea568e515d59 div.sk-parallel {display: flex;align-items: stretch;justify-content: center;background-color: white;}#sk-d2947b0c-c268-467a-89d8-ea568e515d59 div.sk-parallel::before {content: \"\";position: absolute;border-left: 1px solid gray;box-sizing: border-box;top: 2em;bottom: 0;left: 50%;}#sk-d2947b0c-c268-467a-89d8-ea568e515d59 div.sk-parallel-item {display: flex;flex-direction: column;position: relative;background-color: white;}#sk-d2947b0c-c268-467a-89d8-ea568e515d59 div.sk-parallel-item:first-child::after {align-self: flex-end;width: 50%;}#sk-d2947b0c-c268-467a-89d8-ea568e515d59 div.sk-parallel-item:last-child::after {align-self: flex-start;width: 50%;}#sk-d2947b0c-c268-467a-89d8-ea568e515d59 div.sk-parallel-item:only-child::after {width: 0;}#sk-d2947b0c-c268-467a-89d8-ea568e515d59 div.sk-dashed-wrapped {border: 1px dashed gray;margin: 0 0.4em 0.5em 0.4em;box-sizing: border-box;padding-bottom: 0.4em;background-color: white;position: relative;}#sk-d2947b0c-c268-467a-89d8-ea568e515d59 div.sk-label label {font-family: monospace;font-weight: bold;background-color: white;display: inline-block;line-height: 1.2em;}#sk-d2947b0c-c268-467a-89d8-ea568e515d59 div.sk-label-container {position: relative;z-index: 2;text-align: center;}#sk-d2947b0c-c268-467a-89d8-ea568e515d59 div.sk-container {/* jupyter's `normalize.less` sets `[hidden] { display: none; }` but bootstrap.min.css set `[hidden] { display: none !important; }` so we also need the `!important` here to be able to override the default hidden behavior on the sphinx rendered scikit-learn.org. See: https://github.com/scikit-learn/scikit-learn/issues/21755 */display: inline-block !important;position: relative;}#sk-d2947b0c-c268-467a-89d8-ea568e515d59 div.sk-text-repr-fallback {display: none;}</style><div id=\"sk-d2947b0c-c268-467a-89d8-ea568e515d59\" class=\"sk-top-container\"><div class=\"sk-text-repr-fallback\"><pre>VarianceThreshold(threshold=1e-06)</pre><b>Please rerun this cell to show the HTML repr or trust the notebook.</b></div><div class=\"sk-container\" hidden><div class=\"sk-item\"><div class=\"sk-estimator sk-toggleable\"><input class=\"sk-toggleable__control sk-hidden--visually\" id=\"e2562ced-943b-4fa2-9966-5bc3a69830f2\" type=\"checkbox\" checked><label for=\"e2562ced-943b-4fa2-9966-5bc3a69830f2\" class=\"sk-toggleable__label sk-toggleable__label-arrow\">VarianceThreshold</label><div class=\"sk-toggleable__content\"><pre>VarianceThreshold(threshold=1e-06)</pre></div></div></div></div></div>"
      ],
      "text/plain": [
       "VarianceThreshold(threshold=1e-06)"
      ]
     },
     "execution_count": 128,
     "metadata": {},
     "output_type": "execute_result"
    }
   ],
   "source": [
    "# Création d'un sélecteur VarianceThreshold\n",
    "sel = VarianceThreshold(threshold = 1e-6)\n",
    "\n",
    "# Ajustement de ce sélecteur sur le jeu d'entrainement.\n",
    "start_time = time.time()\n",
    "sel.fit(X_train_encoded)#, y_train"
   ]
  },
  {
   "cell_type": "code",
   "execution_count": 129,
   "id": "8ff521cc",
   "metadata": {},
   "outputs": [
    {
     "data": {
      "text/plain": [
       "19.24398899078369"
      ]
     },
     "execution_count": 129,
     "metadata": {},
     "output_type": "execute_result"
    }
   ],
   "source": [
    "end_time = time.time()\n",
    "execution_time = end_time - start_time\n",
    "execution_time"
   ]
  },
  {
   "cell_type": "code",
   "execution_count": 130,
   "id": "5ecaf52f",
   "metadata": {},
   "outputs": [
    {
     "data": {
      "image/png": "[encoded data removed]",
      "text/plain": [
       "<Figure size 1600x200 with 1 Axes>"
      ]
     },
     "metadata": {},
     "output_type": "display_data"
    }
   ],
   "source": [
    "# Récupération du masque du sélecteur dans une variable mask.\n",
    "mask = sel.get_support()\n",
    "\n",
    "#Décommentez les lignes ci dessous avant d'exécuter votre code\n",
    "plt.matshow(mask.reshape(1,-1), cmap = 'gray_r')\n",
    "plt.xlabel('Axe des features');"
   ]
  },
  {
   "cell_type": "markdown",
   "id": "2041a508",
   "metadata": {},
   "source": [
    "https://scikit-learn.org/stable/modules/generated/sklearn.feature_selection.f_classif.html#sklearn.feature_selection.f_classif\n",
    "\n",
    "   Ne pas utiliser un test statistique de régression pour un problème de classification et inversement, les résultats n'auraient pas de sens !\n",
    "   \n",
    "   "
   ]
  },
  {
   "cell_type": "markdown",
   "id": "f62e157b",
   "metadata": {},
   "source": [
    "Il existe plusieurs tests statistiques pour classer les variables les unes par rapport aux autres. Toutes ces méthodes sont regroupées sous le nom de Univariate Feature Selection. Dans le cas d’un problème supervisé, la dépendance entre la variable cible et les features est mesurée, "
   ]
  },
  {
   "cell_type": "code",
   "execution_count": 131,
   "id": "304a4466",
   "metadata": {},
   "outputs": [
    {
     "ename": "ValueError",
     "evalue": "Input X must be non-negative.",
     "output_type": "error",
     "traceback": [
      "\u001b[0;31m---------------------------------------------------------------------------\u001b[0m",
      "\u001b[0;31mValueError\u001b[0m                                Traceback (most recent call last)",
      "\u001b[0;32m/var/folders/g0/g76qn8pj0j10kx_v9q9r022w0000gn/T/ipykernel_17884/4084978349.py\u001b[0m in \u001b[0;36m<module>\u001b[0;34m\u001b[0m\n\u001b[1;32m      1\u001b[0m \u001b[0mstart_time\u001b[0m \u001b[0;34m=\u001b[0m \u001b[0mtime\u001b[0m\u001b[0;34m.\u001b[0m\u001b[0mtime\u001b[0m\u001b[0;34m(\u001b[0m\u001b[0;34m)\u001b[0m\u001b[0;34m\u001b[0m\u001b[0;34m\u001b[0m\u001b[0m\n\u001b[0;32m----> 2\u001b[0;31m \u001b[0mX_new\u001b[0m \u001b[0;34m=\u001b[0m \u001b[0mSelectPercentile\u001b[0m\u001b[0;34m(\u001b[0m\u001b[0mchi2\u001b[0m\u001b[0;34m,\u001b[0m \u001b[0mpercentile\u001b[0m\u001b[0;34m=\u001b[0m\u001b[0;36m10\u001b[0m\u001b[0;34m)\u001b[0m\u001b[0;34m.\u001b[0m\u001b[0mfit_transform\u001b[0m\u001b[0;34m(\u001b[0m\u001b[0mX_train_encoded\u001b[0m\u001b[0;34m,\u001b[0m \u001b[0my_train2\u001b[0m\u001b[0;34m)\u001b[0m\u001b[0;34m\u001b[0m\u001b[0;34m\u001b[0m\u001b[0m\n\u001b[0m\u001b[1;32m      3\u001b[0m \u001b[0mX_new\u001b[0m\u001b[0;34m.\u001b[0m\u001b[0mshape\u001b[0m\u001b[0;34m\u001b[0m\u001b[0;34m\u001b[0m\u001b[0m\n",
      "\u001b[0;32m/opt/anaconda3/lib/python3.9/site-packages/sklearn/base.py\u001b[0m in \u001b[0;36mfit_transform\u001b[0;34m(self, X, y, **fit_params)\u001b[0m\n\u001b[1;32m    853\u001b[0m         \u001b[0;32melse\u001b[0m\u001b[0;34m:\u001b[0m\u001b[0;34m\u001b[0m\u001b[0;34m\u001b[0m\u001b[0m\n\u001b[1;32m    854\u001b[0m             \u001b[0;31m# fit method of arity 2 (supervised transformation)\u001b[0m\u001b[0;34m\u001b[0m\u001b[0;34m\u001b[0m\u001b[0m\n\u001b[0;32m--> 855\u001b[0;31m             \u001b[0;32mreturn\u001b[0m \u001b[0mself\u001b[0m\u001b[0;34m.\u001b[0m\u001b[0mfit\u001b[0m\u001b[0;34m(\u001b[0m\u001b[0mX\u001b[0m\u001b[0;34m,\u001b[0m \u001b[0my\u001b[0m\u001b[0;34m,\u001b[0m \u001b[0;34m**\u001b[0m\u001b[0mfit_params\u001b[0m\u001b[0;34m)\u001b[0m\u001b[0;34m.\u001b[0m\u001b[0mtransform\u001b[0m\u001b[0;34m(\u001b[0m\u001b[0mX\u001b[0m\u001b[0;34m)\u001b[0m\u001b[0;34m\u001b[0m\u001b[0;34m\u001b[0m\u001b[0m\n\u001b[0m\u001b[1;32m    856\u001b[0m \u001b[0;34m\u001b[0m\u001b[0m\n\u001b[1;32m    857\u001b[0m \u001b[0;34m\u001b[0m\u001b[0m\n",
      "\u001b[0;32m/opt/anaconda3/lib/python3.9/site-packages/sklearn/feature_selection/_univariate_selection.py\u001b[0m in \u001b[0;36mfit\u001b[0;34m(self, X, y)\u001b[0m\n\u001b[1;32m    406\u001b[0m \u001b[0;34m\u001b[0m\u001b[0m\n\u001b[1;32m    407\u001b[0m         \u001b[0mself\u001b[0m\u001b[0;34m.\u001b[0m\u001b[0m_check_params\u001b[0m\u001b[0;34m(\u001b[0m\u001b[0mX\u001b[0m\u001b[0;34m,\u001b[0m \u001b[0my\u001b[0m\u001b[0;34m)\u001b[0m\u001b[0;34m\u001b[0m\u001b[0;34m\u001b[0m\u001b[0m\n\u001b[0;32m--> 408\u001b[0;31m         \u001b[0mscore_func_ret\u001b[0m \u001b[0;34m=\u001b[0m \u001b[0mself\u001b[0m\u001b[0;34m.\u001b[0m\u001b[0mscore_func\u001b[0m\u001b[0;34m(\u001b[0m\u001b[0mX\u001b[0m\u001b[0;34m,\u001b[0m \u001b[0my\u001b[0m\u001b[0;34m)\u001b[0m\u001b[0;34m\u001b[0m\u001b[0;34m\u001b[0m\u001b[0m\n\u001b[0m\u001b[1;32m    409\u001b[0m         \u001b[0;32mif\u001b[0m \u001b[0misinstance\u001b[0m\u001b[0;34m(\u001b[0m\u001b[0mscore_func_ret\u001b[0m\u001b[0;34m,\u001b[0m \u001b[0;34m(\u001b[0m\u001b[0mlist\u001b[0m\u001b[0;34m,\u001b[0m \u001b[0mtuple\u001b[0m\u001b[0;34m)\u001b[0m\u001b[0;34m)\u001b[0m\u001b[0;34m:\u001b[0m\u001b[0;34m\u001b[0m\u001b[0;34m\u001b[0m\u001b[0m\n\u001b[1;32m    410\u001b[0m             \u001b[0mself\u001b[0m\u001b[0;34m.\u001b[0m\u001b[0mscores_\u001b[0m\u001b[0;34m,\u001b[0m \u001b[0mself\u001b[0m\u001b[0;34m.\u001b[0m\u001b[0mpvalues_\u001b[0m \u001b[0;34m=\u001b[0m \u001b[0mscore_func_ret\u001b[0m\u001b[0;34m\u001b[0m\u001b[0;34m\u001b[0m\u001b[0m\n",
      "\u001b[0;32m/opt/anaconda3/lib/python3.9/site-packages/sklearn/feature_selection/_univariate_selection.py\u001b[0m in \u001b[0;36mchi2\u001b[0;34m(X, y)\u001b[0m\n\u001b[1;32m    213\u001b[0m     \u001b[0mX\u001b[0m \u001b[0;34m=\u001b[0m \u001b[0mcheck_array\u001b[0m\u001b[0;34m(\u001b[0m\u001b[0mX\u001b[0m\u001b[0;34m,\u001b[0m \u001b[0maccept_sparse\u001b[0m\u001b[0;34m=\u001b[0m\u001b[0;34m\"csr\"\u001b[0m\u001b[0;34m)\u001b[0m\u001b[0;34m\u001b[0m\u001b[0;34m\u001b[0m\u001b[0m\n\u001b[1;32m    214\u001b[0m     \u001b[0;32mif\u001b[0m \u001b[0mnp\u001b[0m\u001b[0;34m.\u001b[0m\u001b[0many\u001b[0m\u001b[0;34m(\u001b[0m\u001b[0;34m(\u001b[0m\u001b[0mX\u001b[0m\u001b[0;34m.\u001b[0m\u001b[0mdata\u001b[0m \u001b[0;32mif\u001b[0m \u001b[0missparse\u001b[0m\u001b[0;34m(\u001b[0m\u001b[0mX\u001b[0m\u001b[0;34m)\u001b[0m \u001b[0;32melse\u001b[0m \u001b[0mX\u001b[0m\u001b[0;34m)\u001b[0m \u001b[0;34m<\u001b[0m \u001b[0;36m0\u001b[0m\u001b[0;34m)\u001b[0m\u001b[0;34m:\u001b[0m\u001b[0;34m\u001b[0m\u001b[0;34m\u001b[0m\u001b[0m\n\u001b[0;32m--> 215\u001b[0;31m         \u001b[0;32mraise\u001b[0m \u001b[0mValueError\u001b[0m\u001b[0;34m(\u001b[0m\u001b[0;34m\"Input X must be non-negative.\"\u001b[0m\u001b[0;34m)\u001b[0m\u001b[0;34m\u001b[0m\u001b[0;34m\u001b[0m\u001b[0m\n\u001b[0m\u001b[1;32m    216\u001b[0m \u001b[0;34m\u001b[0m\u001b[0m\n\u001b[1;32m    217\u001b[0m     \u001b[0mY\u001b[0m \u001b[0;34m=\u001b[0m \u001b[0mLabelBinarizer\u001b[0m\u001b[0;34m(\u001b[0m\u001b[0;34m)\u001b[0m\u001b[0;34m.\u001b[0m\u001b[0mfit_transform\u001b[0m\u001b[0;34m(\u001b[0m\u001b[0my\u001b[0m\u001b[0;34m)\u001b[0m\u001b[0;34m\u001b[0m\u001b[0;34m\u001b[0m\u001b[0m\n",
      "\u001b[0;31mValueError\u001b[0m: Input X must be non-negative."
     ]
    }
   ],
   "source": [
    "start_time = time.time()\n",
    "X_new = SelectPercentile(chi2, percentile=10).fit_transform(X_train_encoded, y_train2)\n",
    "X_new.shape"
   ]
  },
  {
   "cell_type": "code",
   "execution_count": 222,
   "id": "b158b2d5",
   "metadata": {},
   "outputs": [
    {
     "data": {
      "text/plain": [
       "pandas.core.frame.DataFrame"
      ]
     },
     "execution_count": 222,
     "metadata": {},
     "output_type": "execute_result"
    }
   ],
   "source": [
    "type(X)"
   ]
  },
  {
   "cell_type": "code",
   "execution_count": 226,
   "id": "b19055f1",
   "metadata": {},
   "outputs": [],
   "source": [
    "X_Array = X.to_numpy()"
   ]
  },
  {
   "cell_type": "code",
   "execution_count": null,
   "id": "fb56f9e5",
   "metadata": {},
   "outputs": [],
   "source": [
    "end_time = time.time()\n",
    "execution_time = end_time - start_time\n",
    "execution_time"
   ]
  },
  {
   "cell_type": "markdown",
   "id": "eb954cac",
   "metadata": {},
   "source": [
    "The error message Input X must be non-negative says it all: Pearson's chi square test (goodness of fit) does not apply to negative values. It's logical because the chi square test assumes frequencies distribution and a frequency can't be a negative number. Consequently, sklearn.feature_selection.chi2 asserts the input is non-negative."
   ]
  },
  {
   "cell_type": "code",
   "execution_count": 132,
   "id": "3f9affb0",
   "metadata": {},
   "outputs": [
    {
     "data": {
      "text/plain": [
       "(1833391, 25)"
      ]
     },
     "execution_count": 132,
     "metadata": {},
     "output_type": "execute_result"
    }
   ],
   "source": [
    "#X.shape\n",
    "\n",
    "sel_Anova = SelectKBest(f_classif, k=25)\n",
    "\n",
    "start_time = time.time()\n",
    "# Ajustement de ce sélecteur sur le jeu d'entrainement.\n",
    "sel_Anova.fit(X_train_encoded, y_train2)\n",
    "\n",
    "\n",
    "X_new_Anova = sel_Anova.fit_transform(X_train_encoded, y_train2)\n",
    "X_new_Anova.shape"
   ]
  },
  {
   "cell_type": "code",
   "execution_count": 133,
   "id": "2f00d08a",
   "metadata": {},
   "outputs": [
    {
     "data": {
      "text/plain": [
       "53.37713003158569"
      ]
     },
     "execution_count": 133,
     "metadata": {},
     "output_type": "execute_result"
    }
   ],
   "source": [
    "end_time = time.time()\n",
    "execution_time = end_time - start_time\n",
    "execution_time"
   ]
  },
  {
   "cell_type": "code",
   "execution_count": 134,
   "id": "d93b712a",
   "metadata": {},
   "outputs": [
    {
     "data": {
      "text/plain": [
       "array([[1., 1., 0., 0., 1., 1., 0., 1., 0., 1., 0., 0., 0., 1., 0., 0.,\n",
       "        0., 1., 0., 0., 0., 0., 0., 1., 0.],\n",
       "       [1., 1., 0., 1., 1., 1., 0., 1., 0., 1., 0., 0., 0., 0., 0., 0.,\n",
       "        1., 1., 0., 0., 1., 0., 0., 0., 1.],\n",
       "       [1., 1., 0., 0., 1., 1., 0., 1., 0., 0., 1., 0., 1., 0., 1., 0.,\n",
       "        0., 1., 0., 0., 0., 0., 1., 0., 1.],\n",
       "       [1., 1., 0., 0., 1., 1., 0., 1., 0., 0., 1., 0., 0., 0., 0., 0.,\n",
       "        1., 0., 0., 0., 0., 0., 1., 0., 1.],\n",
       "       [1., 1., 0., 0., 1., 1., 0., 1., 0., 0., 1., 0., 0., 1., 0., 0.,\n",
       "        0., 0., 0., 0., 0., 0., 1., 1., 0.]])"
      ]
     },
     "execution_count": 134,
     "metadata": {},
     "output_type": "execute_result"
    }
   ],
   "source": [
    "X_new_Anova[:5,:]"
   ]
  },
  {
   "cell_type": "code",
   "execution_count": 135,
   "id": "d0f1f82d",
   "metadata": {},
   "outputs": [
    {
     "data": {
      "image/png": "[encoded data removed]",
      "text/plain": [
       "<Figure size 1600x200 with 1 Axes>"
      ]
     },
     "metadata": {},
     "output_type": "display_data"
    }
   ],
   "source": [
    "# Affichage de la représentation graphique des features sélectionnées.\n",
    "mask = sel_Anova.get_support()\n",
    "plt.matshow(mask.reshape(1,-1), cmap = 'gray_r')\n",
    "plt.xlabel('Axe des features');"
   ]
  },
  {
   "cell_type": "code",
   "execution_count": 136,
   "id": "c3ff57d5",
   "metadata": {},
   "outputs": [
    {
     "name": "stderr",
     "output_type": "stream",
     "text": [
      "/var/folders/g0/g76qn8pj0j10kx_v9q9r022w0000gn/T/ipykernel_17884/10897614.py:1: RuntimeWarning: divide by zero encountered in log10\n",
      "  scores_Anova = -np.log10(sel_Anova.pvalues_)\n",
      "/var/folders/g0/g76qn8pj0j10kx_v9q9r022w0000gn/T/ipykernel_17884/10897614.py:2: RuntimeWarning: invalid value encountered in true_divide\n",
      "  scores_Anova /= scores_Anova.max()\n"
     ]
    }
   ],
   "source": [
    "scores_Anova = -np.log10(sel_Anova.pvalues_)\n",
    "scores_Anova /= scores_Anova.max()"
   ]
  },
  {
   "cell_type": "code",
   "execution_count": 137,
   "id": "d693f2a8",
   "metadata": {},
   "outputs": [
    {
     "data": {
      "image/png": "[encoded data removed]",
      "text/plain": [
       "<Figure size 640x480 with 1 Axes>"
      ]
     },
     "metadata": {},
     "output_type": "display_data"
    }
   ],
   "source": [
    "X_indices = np.arange(X_encoded.shape[-1])\n",
    "plt.figure(1)\n",
    "plt.clf()\n",
    "plt.bar(X_indices, scores_Anova, width=0.2)\n",
    "plt.title(\"Feature univariate score\")\n",
    "plt.xlabel(\"Feature number\")\n",
    "plt.ylabel(r\"Univariate score ($-Log(p_{value})$)\")\n",
    "plt.show()"
   ]
  },
  {
   "cell_type": "code",
   "execution_count": 138,
   "id": "5f8e35c8",
   "metadata": {},
   "outputs": [
    {
     "data": {
      "text/plain": [
       "array([ 0.,  0., nan, nan, nan, nan,  0.,  0.,  0.,  0.,  0.,  0.,  0.,\n",
       "       nan, nan, nan, nan, nan,  0., nan, nan, nan, nan, nan, nan,  0.,\n",
       "       nan, nan, nan, nan, nan,  0., nan, nan,  0., nan, nan,  0.,  0.,\n",
       "       nan, nan,  0., nan, nan, nan, nan, nan, nan, nan, nan, nan,  0.,\n",
       "       nan, nan, nan, nan, nan,  0.,  0., nan,  0.,  0.,  0., nan,  0.,\n",
       "       nan, nan, nan, nan,  0.,  0., nan, nan, nan, nan, nan, nan, nan,\n",
       "       nan, nan,  0., nan, nan,  0.,  0.,  0.,  0., nan, nan,  0., nan,\n",
       "        0.,  0.,  0.,  0., nan,  0.,  0., nan, nan, nan,  0., nan, nan,\n",
       "       nan,  0., nan,  0.,  0.,  0.,  0.,  0.,  0.,  0.,  0.,  0.,  0.,\n",
       "        0.,  0.,  0.,  0.,  0.,  0.,  0.,  0.,  0.,  0.,  0.,  0.,  0.,\n",
       "        0., nan,  0.,  0., nan,  0., nan,  0.,  0.,  0.,  0.,  0., nan,\n",
       "       nan,  0.,  0., nan,  0., nan, nan, nan,  0., nan,  0.,  0.,  0.,\n",
       "       nan, nan, nan, nan,  0.,  0., nan, nan,  0., nan, nan,  0., nan,\n",
       "       nan, nan, nan, nan, nan, nan, nan,  0.,  0.,  0., nan, nan,  0.,\n",
       "       nan, nan,  0.,  0.,  0., nan, nan, nan, nan, nan,  0., nan,  0.,\n",
       "       nan, nan, nan, nan,  0., nan,  0., nan, nan, nan, nan,  0., nan,\n",
       "        0., nan, nan, nan, nan,  0.,  0.,  0., nan, nan, nan, nan,  0.,\n",
       "        0.,  0., nan,  0., nan,  0.,  0.,  0., nan,  0., nan, nan, nan,\n",
       "       nan,  0.,  0., nan, nan, nan,  0., nan,  0.,  0.,  0.,  0., nan,\n",
       "        0.,  0.,  0.,  0.,  0.,  0., nan,  0., nan, nan, nan, nan,  0.,\n",
       "       nan, nan, nan, nan, nan,  0.])"
      ]
     },
     "execution_count": 138,
     "metadata": {},
     "output_type": "execute_result"
    }
   ],
   "source": [
    "scores_Anova"
   ]
  },
  {
   "cell_type": "code",
   "execution_count": 139,
   "id": "0e50de08",
   "metadata": {},
   "outputs": [
    {
     "data": {
      "text/plain": [
       "array([4.65071288e-102, 3.17831319e-159, 0.00000000e+000, 0.00000000e+000,\n",
       "       0.00000000e+000, 0.00000000e+000, 5.08675756e-283, 6.86084775e-261,\n",
       "       4.25074580e-200, 2.32243572e-006, 6.43186217e-011, 3.81043362e-023,\n",
       "       8.40148858e-004, 0.00000000e+000, 0.00000000e+000, 0.00000000e+000,\n",
       "       0.00000000e+000, 0.00000000e+000, 5.92741363e-111, 0.00000000e+000,\n",
       "       0.00000000e+000, 0.00000000e+000, 0.00000000e+000, 0.00000000e+000,\n",
       "       0.00000000e+000, 6.82600129e-067, 0.00000000e+000, 0.00000000e+000,\n",
       "       0.00000000e+000, 0.00000000e+000, 0.00000000e+000, 3.87186943e-215,\n",
       "       0.00000000e+000, 0.00000000e+000, 5.04958796e-025, 0.00000000e+000,\n",
       "       0.00000000e+000, 2.32589647e-089, 3.88765774e-055, 0.00000000e+000,\n",
       "       0.00000000e+000, 1.88689437e-015, 0.00000000e+000, 0.00000000e+000,\n",
       "       0.00000000e+000, 0.00000000e+000, 0.00000000e+000, 0.00000000e+000,\n",
       "       0.00000000e+000, 0.00000000e+000, 0.00000000e+000, 1.02213979e-008,\n",
       "       0.00000000e+000, 0.00000000e+000, 0.00000000e+000, 0.00000000e+000,\n",
       "       0.00000000e+000, 7.21106136e-029, 1.36487020e-003, 0.00000000e+000,\n",
       "       4.68594226e-217, 4.55365397e-004, 1.65140825e-018, 0.00000000e+000,\n",
       "       1.43177909e-029, 0.00000000e+000, 0.00000000e+000, 0.00000000e+000,\n",
       "       0.00000000e+000, 2.27248344e-003, 2.72706124e-042, 0.00000000e+000,\n",
       "       0.00000000e+000, 0.00000000e+000, 0.00000000e+000, 0.00000000e+000,\n",
       "       0.00000000e+000, 0.00000000e+000, 0.00000000e+000, 0.00000000e+000,\n",
       "       1.38075241e-317, 0.00000000e+000, 0.00000000e+000, 3.63202216e-008,\n",
       "       2.02883586e-052, 8.53896250e-016, 1.09635374e-034, 0.00000000e+000,\n",
       "       0.00000000e+000, 2.48845117e-020, 0.00000000e+000, 9.06462521e-060,\n",
       "       3.52265275e-036, 8.89171539e-006, 3.18148992e-110, 0.00000000e+000,\n",
       "       4.25017527e-228, 9.92546586e-241, 0.00000000e+000, 0.00000000e+000,\n",
       "       0.00000000e+000, 8.00960237e-176, 0.00000000e+000, 0.00000000e+000,\n",
       "       0.00000000e+000, 4.96583843e-170, 0.00000000e+000, 7.53823404e-282,\n",
       "       1.42921670e-042, 1.16444178e-081, 5.15490631e-003, 2.56920228e-028,\n",
       "       2.40733701e-012, 4.05294559e-153, 1.47482589e-064, 5.32687781e-220,\n",
       "       8.28190705e-184, 5.63385134e-023, 1.49842100e-006, 9.28846157e-107,\n",
       "       1.55773517e-168, 4.06039775e-006, 2.42903878e-067, 1.65258072e-078,\n",
       "       1.10207610e-227, 4.35527033e-034, 1.07915507e-007, 5.92835145e-037,\n",
       "       1.36807347e-035, 2.81807113e-131, 6.62141022e-001, 0.00000000e+000,\n",
       "       8.38462259e-021, 4.07924671e-039, 0.00000000e+000, 1.08284963e-064,\n",
       "       0.00000000e+000, 6.90791573e-042, 1.46360117e-273, 1.30981503e-013,\n",
       "       8.90372359e-154, 6.48714204e-067, 0.00000000e+000, 0.00000000e+000,\n",
       "       6.33272142e-128, 4.22699904e-278, 0.00000000e+000, 7.50654648e-182,\n",
       "       0.00000000e+000, 0.00000000e+000, 0.00000000e+000, 1.95290028e-309,\n",
       "       0.00000000e+000, 6.91074161e-009, 2.30667912e-238, 1.12497941e-228,\n",
       "       0.00000000e+000, 0.00000000e+000, 0.00000000e+000, 0.00000000e+000,\n",
       "       7.05554151e-107, 1.27558740e-196, 0.00000000e+000, 0.00000000e+000,\n",
       "       1.76706304e-002, 0.00000000e+000, 0.00000000e+000, 1.71979993e-155,\n",
       "       0.00000000e+000, 0.00000000e+000, 0.00000000e+000, 0.00000000e+000,\n",
       "       0.00000000e+000, 0.00000000e+000, 0.00000000e+000, 0.00000000e+000,\n",
       "       4.72160186e-141, 5.55875939e-025, 9.45972286e-004, 0.00000000e+000,\n",
       "       0.00000000e+000, 6.11850462e-025, 0.00000000e+000, 0.00000000e+000,\n",
       "       1.75468466e-015, 2.39308159e-269, 9.01036100e-026, 0.00000000e+000,\n",
       "       0.00000000e+000, 0.00000000e+000, 0.00000000e+000, 0.00000000e+000,\n",
       "       3.30603397e-161, 0.00000000e+000, 3.57588797e-253, 0.00000000e+000,\n",
       "       0.00000000e+000, 0.00000000e+000, 0.00000000e+000, 1.60067361e-300,\n",
       "       0.00000000e+000, 3.75842600e-003, 0.00000000e+000, 0.00000000e+000,\n",
       "       0.00000000e+000, 0.00000000e+000, 1.35582458e-316, 0.00000000e+000,\n",
       "       4.16199088e-021, 0.00000000e+000, 0.00000000e+000, 0.00000000e+000,\n",
       "       0.00000000e+000, 8.86635012e-029, 9.09204508e-166, 2.05446855e-015,\n",
       "       0.00000000e+000, 0.00000000e+000, 0.00000000e+000, 0.00000000e+000,\n",
       "       2.21937414e-069, 1.04687426e-100, 7.07140690e-027, 0.00000000e+000,\n",
       "       1.07138674e-053, 0.00000000e+000, 4.59600709e-008, 4.97515399e-042,\n",
       "       9.82808694e-091, 0.00000000e+000, 1.08252022e-015, 0.00000000e+000,\n",
       "       0.00000000e+000, 0.00000000e+000, 0.00000000e+000, 7.91456605e-066,\n",
       "       4.09081568e-080, 0.00000000e+000, 0.00000000e+000, 0.00000000e+000,\n",
       "       9.19905519e-164, 0.00000000e+000, 5.00603284e-002, 7.94360585e-132,\n",
       "       9.59810332e-249, 1.01132292e-169, 0.00000000e+000, 2.07793570e-006,\n",
       "       4.26121028e-003, 4.56250454e-112, 6.27325203e-023, 1.84249516e-255,\n",
       "       3.84133322e-107, 0.00000000e+000, 3.89490587e-075, 0.00000000e+000,\n",
       "       0.00000000e+000, 0.00000000e+000, 0.00000000e+000, 2.72302812e-031,\n",
       "       0.00000000e+000, 0.00000000e+000, 0.00000000e+000, 0.00000000e+000,\n",
       "       0.00000000e+000, 7.60516200e-079])"
      ]
     },
     "execution_count": 139,
     "metadata": {},
     "output_type": "execute_result"
    }
   ],
   "source": [
    "sel_Anova.pvalues_"
   ]
  },
  {
   "cell_type": "code",
   "execution_count": 140,
   "id": "4891bc5f",
   "metadata": {},
   "outputs": [
    {
     "data": {
      "text/plain": [
       "0.6621410222754289"
      ]
     },
     "execution_count": 140,
     "metadata": {},
     "output_type": "execute_result"
    }
   ],
   "source": [
    "sel_Anova.pvalues_.max()"
   ]
  },
  {
   "cell_type": "code",
   "execution_count": 141,
   "id": "2a7b6f8a",
   "metadata": {},
   "outputs": [
    {
     "data": {
      "text/html": [
       "<style>#sk-3277a3e9-3576-498b-97da-9855976bdd10 {color: black;background-color: white;}#sk-3277a3e9-3576-498b-97da-9855976bdd10 pre{padding: 0;}#sk-3277a3e9-3576-498b-97da-9855976bdd10 div.sk-toggleable {background-color: white;}#sk-3277a3e9-3576-498b-97da-9855976bdd10 label.sk-toggleable__label {cursor: pointer;display: block;width: 100%;margin-bottom: 0;padding: 0.3em;box-sizing: border-box;text-align: center;}#sk-3277a3e9-3576-498b-97da-9855976bdd10 label.sk-toggleable__label-arrow:before {content: \"▸\";float: left;margin-right: 0.25em;color: #696969;}#sk-3277a3e9-3576-498b-97da-9855976bdd10 label.sk-toggleable__label-arrow:hover:before {color: black;}#sk-3277a3e9-3576-498b-97da-9855976bdd10 div.sk-estimator:hover label.sk-toggleable__label-arrow:before {color: black;}#sk-3277a3e9-3576-498b-97da-9855976bdd10 div.sk-toggleable__content {max-height: 0;max-width: 0;overflow: hidden;text-align: left;background-color: #f0f8ff;}#sk-3277a3e9-3576-498b-97da-9855976bdd10 div.sk-toggleable__content pre {margin: 0.2em;color: black;border-radius: 0.25em;background-color: #f0f8ff;}#sk-3277a3e9-3576-498b-97da-9855976bdd10 input.sk-toggleable__control:checked~div.sk-toggleable__content {max-height: 200px;max-width: 100%;overflow: auto;}#sk-3277a3e9-3576-498b-97da-9855976bdd10 input.sk-toggleable__control:checked~label.sk-toggleable__label-arrow:before {content: \"▾\";}#sk-3277a3e9-3576-498b-97da-9855976bdd10 div.sk-estimator input.sk-toggleable__control:checked~label.sk-toggleable__label {background-color: #d4ebff;}#sk-3277a3e9-3576-498b-97da-9855976bdd10 div.sk-label input.sk-toggleable__control:checked~label.sk-toggleable__label {background-color: #d4ebff;}#sk-3277a3e9-3576-498b-97da-9855976bdd10 input.sk-hidden--visually {border: 0;clip: rect(1px 1px 1px 1px);clip: rect(1px, 1px, 1px, 1px);height: 1px;margin: -1px;overflow: hidden;padding: 0;position: absolute;width: 1px;}#sk-3277a3e9-3576-498b-97da-9855976bdd10 div.sk-estimator {font-family: monospace;background-color: #f0f8ff;border: 1px dotted black;border-radius: 0.25em;box-sizing: border-box;margin-bottom: 0.5em;}#sk-3277a3e9-3576-498b-97da-9855976bdd10 div.sk-estimator:hover {background-color: #d4ebff;}#sk-3277a3e9-3576-498b-97da-9855976bdd10 div.sk-parallel-item::after {content: \"\";width: 100%;border-bottom: 1px solid gray;flex-grow: 1;}#sk-3277a3e9-3576-498b-97da-9855976bdd10 div.sk-label:hover label.sk-toggleable__label {background-color: #d4ebff;}#sk-3277a3e9-3576-498b-97da-9855976bdd10 div.sk-serial::before {content: \"\";position: absolute;border-left: 1px solid gray;box-sizing: border-box;top: 2em;bottom: 0;left: 50%;}#sk-3277a3e9-3576-498b-97da-9855976bdd10 div.sk-serial {display: flex;flex-direction: column;align-items: center;background-color: white;padding-right: 0.2em;padding-left: 0.2em;}#sk-3277a3e9-3576-498b-97da-9855976bdd10 div.sk-item {z-index: 1;}#sk-3277a3e9-3576-498b-97da-9855976bdd10 div.sk-parallel {display: flex;align-items: stretch;justify-content: center;background-color: white;}#sk-3277a3e9-3576-498b-97da-9855976bdd10 div.sk-parallel::before {content: \"\";position: absolute;border-left: 1px solid gray;box-sizing: border-box;top: 2em;bottom: 0;left: 50%;}#sk-3277a3e9-3576-498b-97da-9855976bdd10 div.sk-parallel-item {display: flex;flex-direction: column;position: relative;background-color: white;}#sk-3277a3e9-3576-498b-97da-9855976bdd10 div.sk-parallel-item:first-child::after {align-self: flex-end;width: 50%;}#sk-3277a3e9-3576-498b-97da-9855976bdd10 div.sk-parallel-item:last-child::after {align-self: flex-start;width: 50%;}#sk-3277a3e9-3576-498b-97da-9855976bdd10 div.sk-parallel-item:only-child::after {width: 0;}#sk-3277a3e9-3576-498b-97da-9855976bdd10 div.sk-dashed-wrapped {border: 1px dashed gray;margin: 0 0.4em 0.5em 0.4em;box-sizing: border-box;padding-bottom: 0.4em;background-color: white;position: relative;}#sk-3277a3e9-3576-498b-97da-9855976bdd10 div.sk-label label {font-family: monospace;font-weight: bold;background-color: white;display: inline-block;line-height: 1.2em;}#sk-3277a3e9-3576-498b-97da-9855976bdd10 div.sk-label-container {position: relative;z-index: 2;text-align: center;}#sk-3277a3e9-3576-498b-97da-9855976bdd10 div.sk-container {/* jupyter's `normalize.less` sets `[hidden] { display: none; }` but bootstrap.min.css set `[hidden] { display: none !important; }` so we also need the `!important` here to be able to override the default hidden behavior on the sphinx rendered scikit-learn.org. See: https://github.com/scikit-learn/scikit-learn/issues/21755 */display: inline-block !important;position: relative;}#sk-3277a3e9-3576-498b-97da-9855976bdd10 div.sk-text-repr-fallback {display: none;}</style><div id=\"sk-3277a3e9-3576-498b-97da-9855976bdd10\" class=\"sk-top-container\"><div class=\"sk-text-repr-fallback\"><pre>SelectPercentile(score_func=&lt;function mutual_info_classif at 0x7fd657c03a60&gt;)</pre><b>Please rerun this cell to show the HTML repr or trust the notebook.</b></div><div class=\"sk-container\" hidden><div class=\"sk-item\"><div class=\"sk-estimator sk-toggleable\"><input class=\"sk-toggleable__control sk-hidden--visually\" id=\"d6fd1150-986d-4690-b43a-26d1fbcfe8cd\" type=\"checkbox\" checked><label for=\"d6fd1150-986d-4690-b43a-26d1fbcfe8cd\" class=\"sk-toggleable__label sk-toggleable__label-arrow\">SelectPercentile</label><div class=\"sk-toggleable__content\"><pre>SelectPercentile(score_func=&lt;function mutual_info_classif at 0x7fd657c03a60&gt;)</pre></div></div></div></div></div>"
      ],
      "text/plain": [
       "SelectPercentile(score_func=<function mutual_info_classif at 0x7fd657c03a60>)"
      ]
     },
     "execution_count": 141,
     "metadata": {},
     "output_type": "execute_result"
    }
   ],
   "source": [
    "sel_mutual_info = SelectPercentile(mutual_info_classif, percentile=10)\n",
    "\n",
    "# Ajustement de ce sélecteur sur le jeu d'entrainement.\n",
    "start_time = time.time()\n",
    "sel_mutual_info.fit(X_train_encoded, y_train2)"
   ]
  },
  {
   "cell_type": "code",
   "execution_count": 142,
   "id": "d605e0ec",
   "metadata": {},
   "outputs": [
    {
     "data": {
      "text/plain": [
       "4674.870544910431"
      ]
     },
     "execution_count": 142,
     "metadata": {},
     "output_type": "execute_result"
    }
   ],
   "source": [
    "end_time = time.time()\n",
    "execution_time = end_time - start_time\n",
    "execution_time"
   ]
  },
  {
   "cell_type": "code",
   "execution_count": 143,
   "id": "aadfe38c",
   "metadata": {},
   "outputs": [
    {
     "data": {
      "image/png": "[encoded data removed]",
      "text/plain": [
       "<Figure size 1600x200 with 1 Axes>"
      ]
     },
     "metadata": {},
     "output_type": "display_data"
    }
   ],
   "source": [
    "# Affichage de la représentation graphique des features sélectionnées.\n",
    "mask = sel_mutual_info.get_support()\n",
    "plt.matshow(mask.reshape(1,-1), cmap = 'gray_r')\n",
    "plt.xlabel('Axe des features');"
   ]
  },
  {
   "cell_type": "code",
   "execution_count": 144,
   "id": "b26b1623",
   "metadata": {},
   "outputs": [
    {
     "data": {
      "text/plain": [
       "(1833391, 27)"
      ]
     },
     "execution_count": 144,
     "metadata": {},
     "output_type": "execute_result"
    }
   ],
   "source": [
    "start_time = time.time()\n",
    "X_new_mutual_info = sel_mutual_info.fit_transform(X_train_encoded, y_train2)\n",
    "X_new_mutual_info.shape"
   ]
  },
  {
   "cell_type": "code",
   "execution_count": 145,
   "id": "70f00bca",
   "metadata": {},
   "outputs": [
    {
     "data": {
      "text/plain": [
       "4614.543684720993"
      ]
     },
     "execution_count": 145,
     "metadata": {},
     "output_type": "execute_result"
    }
   ],
   "source": [
    "end_time = time.time()\n",
    "execution_time = end_time - start_time\n",
    "execution_time"
   ]
  },
  {
   "cell_type": "markdown",
   "id": "6c3b103e",
   "metadata": {},
   "source": [
    "##### La RFE (acronyme pour Recursive Feature Elimination). \n",
    "\n",
    "Le principe est simple : on fournit un modèle à l'algorithme RFE, qui est ajusté sur le jeu de données complet. L'importance de chaque feature est estimée et on supprime la ou les features les moins importantes, puis on recommence. Une fois le nombre de features cible atteint, on retourne le jeu de features qui a fourni le meilleur résultat sur le jeu d'entrainement."
   ]
  },
  {
   "cell_type": "markdown",
   "id": "e6c6d12e",
   "metadata": {},
   "source": [
    "Erreur\n",
    "ValueError: when `importance_getter=='auto'`, the underlying estimator HistGradientBoostingClassifier should have `coef_` or `feature_importances_` attribute. Either pass a fitted estimator to feature selector or call fit before calling transform.\n",
    "\n",
    "Explication \n",
    "To use RFE, it is a must to have a supervised learning estimator which attribute coef_ is available, this is the case of the linear kernel. The error you are getting is because coef_ is not for SVM using kernels different from Linear. It is in RFE documentation here = https://scikit-learn.org/stable/modules/generated/sklearn.feature_selection.RFE.html\n",
    "\n",
    "\n",
    "Utilisable avec : \n",
    "\n",
    "    - coef_\n",
    "        - LogisticRegression, \n",
    "        - svm.SVC¶ (C-Support Vector Classification), \n",
    "        - svm.LinearSVC\n",
    "        - RidgeClassifier\n",
    "    - feature_importances_\n",
    "        - AdaBoostClassifier\n",
    "        - ExtraTreesClassifier\n",
    "        - GradientBoostingClassifier\n",
    "        - RandomForestClassifier\n",
    "        - RandomTreesEmbedding\n",
    "        \n",
    "        \n",
    "Pas utilisable avec : \n",
    "\n",
    "    - KNeighborsClassifier, HistGradientBoostingClassifier, ..."
   ]
  },
  {
   "cell_type": "code",
   "execution_count": 81,
   "id": "38bd31ef",
   "metadata": {},
   "outputs": [
    {
     "data": {
      "text/plain": [
       "RFE(estimator=LogisticRegression(max_iter=2500, random_state=0))"
      ]
     },
     "execution_count": 81,
     "metadata": {},
     "output_type": "execute_result"
    }
   ],
   "source": [
    "# Affecter à rfe une instance de RFE, qui utilise la régression comme estimateur via le classificateur Logistic Regression\n",
    "rfe_logreg = RFE(estimator=logreg, step=1)#, n_features_to_select= half of the features are selected by default\n",
    "\n",
    "# Ajustement du RFE sur le jeu d'entrainement.\n",
    "rfe_logreg.fit(X_train_encoded, y_train2)"
   ]
  },
  {
   "cell_type": "code",
   "execution_count": 82,
   "id": "1b7aa5f6",
   "metadata": {},
   "outputs": [
    {
     "ename": "ValueError",
     "evalue": "cannot reshape array of size 266 into shape (1833391,266)",
     "output_type": "error",
     "traceback": [
      "\u001b[0;31m---------------------------------------------------------------------------\u001b[0m",
      "\u001b[0;31mValueError\u001b[0m                                Traceback (most recent call last)",
      "\u001b[0;32m/var/folders/g0/g76qn8pj0j10kx_v9q9r022w0000gn/T/ipykernel_823/991872047.py\u001b[0m in \u001b[0;36m<module>\u001b[0;34m\u001b[0m\n\u001b[0;32m----> 1\u001b[0;31m \u001b[0mlogreg_ranking\u001b[0m \u001b[0;34m=\u001b[0m \u001b[0mrfe_logreg\u001b[0m\u001b[0;34m.\u001b[0m\u001b[0mranking_\u001b[0m\u001b[0;34m.\u001b[0m\u001b[0mreshape\u001b[0m\u001b[0;34m(\u001b[0m\u001b[0mX_train_encoded\u001b[0m\u001b[0;34m.\u001b[0m\u001b[0mshape\u001b[0m\u001b[0;34m)\u001b[0m\u001b[0;34m\u001b[0m\u001b[0;34m\u001b[0m\u001b[0m\n\u001b[0m\u001b[1;32m      2\u001b[0m \u001b[0;34m\u001b[0m\u001b[0m\n\u001b[1;32m      3\u001b[0m \u001b[0;31m# Plot pixel ranking\u001b[0m\u001b[0;34m\u001b[0m\u001b[0;34m\u001b[0m\u001b[0m\n\u001b[1;32m      4\u001b[0m \u001b[0mplt\u001b[0m\u001b[0;34m.\u001b[0m\u001b[0mmatshow\u001b[0m\u001b[0;34m(\u001b[0m\u001b[0mlogreg_ranking\u001b[0m\u001b[0;34m,\u001b[0m \u001b[0mcmap\u001b[0m\u001b[0;34m=\u001b[0m\u001b[0mplt\u001b[0m\u001b[0;34m.\u001b[0m\u001b[0mcm\u001b[0m\u001b[0;34m.\u001b[0m\u001b[0mBlues\u001b[0m\u001b[0;34m)\u001b[0m\u001b[0;34m\u001b[0m\u001b[0;34m\u001b[0m\u001b[0m\n\u001b[1;32m      5\u001b[0m \u001b[0mplt\u001b[0m\u001b[0;34m.\u001b[0m\u001b[0mcolorbar\u001b[0m\u001b[0;34m(\u001b[0m\u001b[0;34m)\u001b[0m\u001b[0;34m\u001b[0m\u001b[0;34m\u001b[0m\u001b[0m\n",
      "\u001b[0;31mValueError\u001b[0m: cannot reshape array of size 266 into shape (1833391,266)"
     ]
    }
   ],
   "source": [
    "logreg_ranking = rfe_logreg.ranking_.reshape(X_train_encoded.shape)\n",
    "\n",
    "# Plot pixel ranking\n",
    "plt.matshow(logreg_ranking, cmap=plt.cm.Blues)\n",
    "plt.colorbar()\n",
    "plt.title(\"Ranking of features with RFE\")\n",
    "plt.show()"
   ]
  },
  {
   "cell_type": "code",
   "execution_count": 83,
   "id": "e09799b8",
   "metadata": {},
   "outputs": [
    {
     "data": {
      "image/png": "[encoded data removed]",
      "text/plain": [
       "<Figure size 1600x200 with 1 Axes>"
      ]
     },
     "metadata": {},
     "output_type": "display_data"
    }
   ],
   "source": [
    "# Affichage de la représentation graphique des features sélectionnées\n",
    "maskrfe_logreg = rfe_logreg.get_support()\n",
    "plt.matshow(maskrfe_logreg.reshape(1,-1), cmap = 'gray_r')\n",
    "plt.xlabel('Axe des Features');"
   ]
  },
  {
   "cell_type": "code",
   "execution_count": 84,
   "id": "ad54bbe1",
   "metadata": {},
   "outputs": [
    {
     "data": {
      "text/plain": [
       "array([False, False,  True,  True,  True,  True, False,  True, False,\n",
       "       False, False, False, False,  True,  True,  True,  True, False,\n",
       "       False, False, False, False, False, False,  True, False,  True,\n",
       "       False,  True,  True,  True,  True,  True,  True,  True,  True,\n",
       "       False,  True,  True,  True, False,  True,  True,  True, False,\n",
       "       False, False, False, False,  True,  True, False,  True,  True,\n",
       "        True,  True,  True,  True, False,  True, False,  True,  True,\n",
       "       False, False,  True, False, False, False, False,  True, False,\n",
       "       False,  True, False, False,  True,  True,  True, False,  True,\n",
       "        True, False, False, False,  True, False, False,  True, False,\n",
       "       False, False, False, False, False, False, False, False, False,\n",
       "       False, False, False, False, False, False,  True, False, False,\n",
       "       False,  True,  True, False, False, False, False, False, False,\n",
       "       False, False, False, False, False,  True, False,  True,  True,\n",
       "        True,  True, False,  True, False, False, False, False, False,\n",
       "        True,  True, False, False,  True, False, False,  True,  True,\n",
       "        True, False,  True, False, False, False,  True, False,  True,\n",
       "        True, False, False,  True, False,  True,  True,  True,  True,\n",
       "        True,  True,  True,  True,  True,  True,  True, False, False,\n",
       "       False, False, False, False,  True, False, False,  True,  True,\n",
       "        True,  True, False, False, False,  True,  True,  True,  True,\n",
       "        True,  True, False,  True, False, False, False,  True,  True,\n",
       "        True,  True,  True,  True,  True,  True, False, False,  True,\n",
       "        True, False,  True,  True,  True,  True,  True,  True,  True,\n",
       "        True,  True,  True,  True,  True,  True,  True,  True,  True,\n",
       "        True,  True,  True, False, False, False, False,  True,  True,\n",
       "        True, False, False, False, False, False, False,  True,  True,\n",
       "        True,  True, False, False, False,  True, False, False, False,\n",
       "       False,  True, False,  True,  True, False, False,  True,  True,\n",
       "        True, False,  True, False, False])"
      ]
     },
     "execution_count": 84,
     "metadata": {},
     "output_type": "execute_result"
    }
   ],
   "source": [
    "rfe_logreg.support_"
   ]
  },
  {
   "cell_type": "code",
   "execution_count": 85,
   "id": "68f8e5d6",
   "metadata": {},
   "outputs": [
    {
     "data": {
      "text/plain": [
       "array([134, 133,   1,   1,   1,   1,   2,   1,  24, 110, 111,  52,  13,\n",
       "         1,   1,   1,   1, 129,  90,  53,  48,  98, 128, 105,   1,   6,\n",
       "         1,  86,   1,   1,   1,   1,   1,   1,   1,   1,  21,   1,   1,\n",
       "         1,  20,   1,   1,   1,  19,  15,  18,  44,  43,   1,   1,  65,\n",
       "         1,   1,   1,   1,   1,   1,  85,   1,  59,   1,   1,  72,  12,\n",
       "         1, 101,   9,  69,  37,   1,  71, 102,   1,  35,  47,   1,   1,\n",
       "         1, 127,   1,   1,  32, 116,  22,   1,  23,  83,   1,  63,  45,\n",
       "        64,  79,  33, 126, 113, 114,  93,  91,  89,  88,  92,  95,  96,\n",
       "        49,   1,  97,  80,  70,   1,   1,  99,   3, 118,  66, 119,  55,\n",
       "        61, 109,  60,  46, 107,   1, 108,   1,   1,   1,   1,  41,   1,\n",
       "        67,   4,  39,   8,  40,   1,   1,  82, 100,   1, 122, 123,   1,\n",
       "         1,   1,  30,   1,  68,  27, 124,   1,  26,   1,   1,  29,  38,\n",
       "         1,  28,   1,   1,   1,   1,   1,   1,   1,   1,   1,   1,   1,\n",
       "        42,  34,  94,  17, 103, 104,   1,  14,  16,   1,   1,   1,   1,\n",
       "        75,  10,  31,   1,   1,   1,   1,   1,   1,  11,   1,  74,  78,\n",
       "        76,   1,   1,   1,   1,   1,   1,   1,   1,  77,  73,   1,   1,\n",
       "        36,   1,   1,   1,   1,   1,   1,   1,   1,   1,   1,   1,   1,\n",
       "         1,   1,   1,   1,   1,   1,   1, 121, 120,  84,  25,   1,   1,\n",
       "         1,  87,   7, 115,  51,  62,  50,   1,   1,   1,   1, 130, 125,\n",
       "        56,   1,  57,  58,  54, 131,   1, 117,   1,   1, 112,  81,   1,\n",
       "         1,   1,   5,   1, 106, 132])"
      ]
     },
     "execution_count": 85,
     "metadata": {},
     "output_type": "execute_result"
    }
   ],
   "source": [
    "rfe_logreg.ranking_"
   ]
  },
  {
   "cell_type": "code",
   "execution_count": 87,
   "id": "cf0c25f1",
   "metadata": {},
   "outputs": [
    {
     "data": {
      "text/plain": [
       "Index(['place_0.0', 'place_1.0', 'place_10.0', 'place_2.0', 'place_4.0',\n",
       "       'catu_Conducteur', 'catu_Passager', 'catu_Piéton', 'sexe_Féminin',\n",
       "       'trajet_Utilisation professionnelle',\n",
       "       ...\n",
       "       'int_Passage à niveau', 'int_Place', 'atm_Non renseigné',\n",
       "       'atm_Temps éblouissant', 'col_Autre collision',\n",
       "       'col_Deux véhicules - frontale', 'col_Non renseigné',\n",
       "       'col_Sans collision',\n",
       "       'col_Trois véhicules et plus - collisions multiples', 'age_acc_an'],\n",
       "      dtype='object', length=133)"
      ]
     },
     "execution_count": 87,
     "metadata": {},
     "output_type": "execute_result"
    }
   ],
   "source": [
    "X_train_encoded.columns[rfe_logreg.support_]"
   ]
  },
  {
   "cell_type": "code",
   "execution_count": 88,
   "id": "e2937d86",
   "metadata": {},
   "outputs": [
    {
     "name": "stdout",
     "output_type": "stream",
     "text": [
      "place_0.0\n",
      "place_1.0\n",
      "place_10.0\n",
      "place_2.0\n",
      "place_4.0\n",
      "catu_Conducteur\n",
      "catu_Passager\n",
      "catu_Piéton\n",
      "sexe_Féminin\n",
      "trajet_Utilisation professionnelle\n",
      "locp_Non renseigné\n",
      "locp_Sur accotement\n",
      "locp_Sur chaussée-A + 50 m du passage piéton\n",
      "locp_Sur chaussée-A – 50 m du passage piéton\n",
      "locp_Sur contre allée\n",
      "locp_Sur passage piéton-Avec signalisation lumineuse\n",
      "locp_Sur passage piéton-Sans signalisation lumineuse\n",
      "locp_Sur refuge ou BA\n",
      "locp_Sur trottoir\n",
      "actp_Avec animal\n",
      "actp_Inconnue\n",
      "actp_Jouant – courant\n",
      "actp_Monte/descend du véhicule\n",
      "actp_Non renseigné\n",
      "actp_Non renseigné ou sans objet\n",
      "etatp_Non renseigné\n",
      "etatp_Seul\n",
      "secuUn_Aucun équipement\n",
      "secuUn_Autre\n",
      "secuUn_Casque\n",
      "secuUn_Ceinture\n",
      "secuUn_Dispositif enfants\n",
      "secuUn_Gants (2RM/3RM)\n",
      "secuUn_Gilet réfléchissant\n",
      "secuUn_Non renseigné\n",
      "secuDeux_Airbag (2RM/3RM)(5)\n",
      "secuDeux_Casque\n",
      "secuDeux_Gilet réfléchissant(4)\n",
      "tranches_ages_0-11\n",
      "tranches_ages_32-40\n",
      "tranches_ages_41-50\n",
      "tranches_ages_50+\n",
      "catr_2-Route nationale\n",
      "catr_3-Route Départementale\n",
      "catr_7-Routes de métropole urbaine\n",
      "circ_A sens unique(1)\n",
      "plan_Non renseigné(-1)\n",
      "surf_Corps gras – huile(8)\n",
      "surf_Enneigée(5)\n",
      "infra_Non renseigné\n",
      "infra_Souterrain - tunnel\n",
      "infra_Voie ferrée\n",
      "infra_Zone de péage\n",
      "infra_Zone piétonne\n",
      "situ_Autres(8)\n",
      "situ_Sur piste cyclable(5)\n",
      "situ_Sur trottoir(4)\n",
      "senc_Non renseigné\n",
      "obs_Autre glissière\n",
      "obs_Autre obstacle fixe sur chaussée\n",
      "obs_Autre obstacle fixe sur trottoir ou accotement\n",
      "obs_Buse – tête d’aqueduc\n",
      "obs_Glissière métallique\n",
      "obs_Mobilier urbain\n",
      "obs_Non renseigné\n",
      "obs_Sans objet\n",
      "obs_Support de signalisation verticale ou poste d’appel d’urgence\n",
      "obs_Véhicule en stationnement, Arbre\n",
      "obsm_Animal domestique\n",
      "obsm_Animal sauvage\n",
      "obsm_Aucun\n",
      "obsm_Autre\n",
      "obsm_Non renseigné\n",
      "obsm_Piéton\n",
      "obsm_Véhicule\n",
      "obsm_Véhicule sur rail\n",
      "choc_Arrière\n",
      "choc_Chocs multiples (tonneaux)\n",
      "choc_Non renseigné\n",
      "manv_A contresens\n",
      "manv_Arrêté (hors stationnement)\n",
      "manv_Autres manœuvres\n",
      "manv_Dans le couloir bus, dans le même sens\n",
      "manv_Dans le couloir bus, dans le sens inverse\n",
      "manv_Dépassant - A gauche\n",
      "manv_Dépassant A droite\n",
      "manv_Déporté - A droite\n",
      "manv_Déporté - A gauche\n",
      "manv_En franchissant le terre-plein central\n",
      "manv_Entre 2 files\n",
      "manv_Inconnue\n",
      "manv_Manœuvre de stationnement\n",
      "manv_Manœuvre d’évitement\n",
      "manv_Même sens, même file\n",
      "manv_Non renseigné\n",
      "manv_Ouverture de porte\n",
      "manv_Sans changement de direction\n",
      "manv_Traversant la chaussée\n",
      "catv_Label_Autobus et autocars\n",
      "catv_Label_Bicyclette\n",
      "catv_Label_Deux ou trois roues de petite cylindrée (<= 50 cm3)\n",
      "catv_Label_Deux ou trois roues-motrices de grosse cylindrée (>125 cm3)\n",
      "catv_Label_Deux ou trois roues-motrices de moyenne cylindrée (50 à 125 cm3)\n",
      "catv_Label_Engins de déplacement personnels (EDP) sans moteur (ex : skateboards, roller, trottinette)\n",
      "catv_Label_Engins de déplacement personnels (EDP) à moteur (ex: trotinette)\n",
      "catv_Label_Indéterminable\n",
      "catv_Label_Poids lourds (PL) et camions\n",
      "catv_Label_Quad\n",
      "catv_Label_Tracteurs agricoles et engins spéciaux\n",
      "catv_Label_Tracteurs routiers\n",
      "catv_Label_Train\n",
      "catv_Label_Tramway\n",
      "catv_Label_Voitures légères (VL) avec carane ou remorque tractée\n",
      "catv_Label_Voitures légères (VL) seule\n",
      "catv_Label_Voiturette\n",
      "catv_Label_Véhicules utilitaires légers (VU)\n",
      "catv_Label_Véhicules utilitaires légers (VU) avec carane ou remorque tractée\n",
      "catv_Label_Vélo avec assistance électrique (VAE)\n",
      "lum_Plein jour\n",
      "agg_En agglomération\n",
      "agg_Hors agglomération\n",
      "int_Intersection à plus de 4 branches\n",
      "int_Non renseigné\n",
      "int_Passage à niveau\n",
      "int_Place\n",
      "atm_Non renseigné\n",
      "atm_Temps éblouissant\n",
      "col_Autre collision\n",
      "col_Deux véhicules - frontale\n",
      "col_Non renseigné\n",
      "col_Sans collision\n",
      "col_Trois véhicules et plus - collisions multiples\n",
      "age_acc_an\n"
     ]
    }
   ],
   "source": [
    "for col in X_train_encoded.columns[rfe_logreg.support_]:\n",
    "    print(col)"
   ]
  },
  {
   "cell_type": "code",
   "execution_count": 90,
   "id": "d7f1c4df",
   "metadata": {},
   "outputs": [
    {
     "name": "stdout",
     "output_type": "stream",
     "text": [
      "jour_de_la_semaine\n",
      "heure\n",
      "place_3.0\n",
      "place_5.0\n",
      "place_6.0\n",
      "place_7.0\n",
      "place_8.0\n",
      "place_9.0\n",
      "sexe_Masculin\n",
      "trajet_Autre\n",
      "trajet_Courses – achats\n",
      "trajet_Domicile – travail\n",
      "trajet_Domicile – école\n",
      "trajet_Non renseigné\n",
      "trajet_Promenade – loisirs\n",
      "locp_Inconnue\n",
      "locp_Sans objet\n",
      "actp_Autre\n",
      "actp_Masqué\n",
      "actp_Sens inverse du véhicule\n",
      "actp_Sens véhicule heurtant\n",
      "actp_Traversant\n",
      "etatp_Accompagné\n",
      "etatp_En groupe\n",
      "secuUn_Airbag (2RM/3RM)\n",
      "secuUn_Gants + Airbag (2RM/3RM)\n",
      "secuUn_Non déterminable\n",
      "secuDeux_Aucun équipement\n",
      "secuDeux_Autre\n",
      "secuDeux_Ceinture\n",
      "secuDeux_Dispositif enfants\n",
      "secuDeux_Gants (2RM/3RM)(6)\n",
      "secuDeux_Gants + Airbag (2RM/3RM)\n",
      "secuDeux_Non déterminable\n",
      "secuDeux_Non renseigné\n",
      "tranches_ages_12-22\n",
      "tranches_ages_23-31\n",
      "catr_1-Autoroute\n",
      "catr_4-Voie Communales\n",
      "catr_5-Hors réseau public\n",
      "catr_6-Parc de stationnement ouvert à la circulation publique\n",
      "catr_9-Autres\n",
      "circ_A chaussées séparées(3)\n",
      "circ_Avec voies d’affectation variable(4)\n",
      "circ_Bidirectionnelle(2)\n",
      "circ_Non renseigné(-1)\n",
      "vosp_Bande cyclable(2)\n",
      "vosp_Non renseigné(-1)\n",
      "vosp_Piste cyclable(1)\n",
      "vosp_Sans objet(0)\n",
      "vosp_Voie réservée(3)\n",
      "prof_Bas de côte(4)\n",
      "prof_Non renseigné(-1)\n",
      "prof_Pente(2)\n",
      "prof_Plat(1)\n",
      "prof_Sommet de côte(3)\n",
      "plan_En courbe à droite(3)\n",
      "plan_En courbe à gauche(2)\n",
      "plan_En « S »(4)\n",
      "plan_Partie rectiligne(1)\n",
      "surf_Autre(9)\n",
      "surf_Boue(6)\n",
      "surf_Flaques(3)\n",
      "surf_Inondée(4)\n",
      "surf_Mouillée(2)\n",
      "surf_Non renseigné(-1)\n",
      "surf_Normale(1)\n",
      "surf_Verglacée(7)\n",
      "infra_Aucun\n",
      "infra_Autres\n",
      "infra_Bretelle d’échangeur ou de raccordement\n",
      "infra_Carrefour aménagé\n",
      "infra_Chantier\n",
      "infra_Pont - autopont\n",
      "situ_Aucun(0)\n",
      "situ_Non renseigné(-1)\n",
      "situ_Sur accotement(3)\n",
      "situ_Sur autre voie spéciale(6)\n",
      "situ_Sur bande d’arrêt d’urgence(2)\n",
      "situ_Sur chaussée(1)\n",
      "senc_Absence de repère\n",
      "senc_Inconnu\n",
      "senc_PK ou PR ou numéro d’adresse postale croissant\n",
      "senc_PK ou PR ou numéro d’adresse postale décroissant\n",
      "obs_Bordure de trottoir\n",
      "obs_Bâtiment, mur, pile de pont\n",
      "obs_Fossé, talus, paroi rocheuse\n",
      "obs_Glissière béton\n",
      "obs_Ilot, refuge, borne haute\n",
      "obs_Parapet\n",
      "obs_Poteau\n",
      "obs_Sortie de chaussée sans obstacle\n",
      "choc_Arrière droit\n",
      "choc_Arrière gauche\n",
      "choc_Aucun\n",
      "choc_Avant\n",
      "choc_Avant droit\n",
      "choc_Avant gauche\n",
      "choc_Côté droit\n",
      "choc_Côté gauche\n",
      "manv_Changeant de file - A droite\n",
      "manv_Changeant de file - A gauche\n",
      "manv_Circulant sur trottoir\n",
      "manv_En faisant demi-tour sur la chaussée\n",
      "manv_En marche arrière\n",
      "manv_En stationnement (avec occupants)\n",
      "manv_En s’insérant\n",
      "manv_Tournant - A droite\n",
      "manv_Tournant - A gauche\n",
      "catv_Label_Autre véhicule\n",
      "lum_Crépuscule ou aube\n",
      "lum_Nuit avec éclairage public allumé\n",
      "lum_Nuit avec éclairage public non allumé\n",
      "lum_Nuit sans éclairage public\n",
      "int_Autre intersection\n",
      "int_Giratoire\n",
      "int_Hors intersection\n",
      "int_Intersection en T\n",
      "int_Intersection en X\n",
      "int_Intersection en Y\n",
      "atm_Autre\n",
      "atm_Brouillard - fumée\n",
      "atm_Neige - grêle\n",
      "atm_Normale\n",
      "atm_Pluie forte\n",
      "atm_Pluie légère\n",
      "atm_Temps couvert\n",
      "atm_Vent fort - tempête\n",
      "col_Deux véhicules – par le coté\n",
      "col_Deux véhicules – par l’arrière\n",
      "col_Trois véhicules et plus – en chaîne\n",
      "nbv\n",
      "occutc\n"
     ]
    }
   ],
   "source": [
    "for col in X_train_encoded.columns[~rfe_logreg.support_]:\n",
    "    print(col)"
   ]
  },
  {
   "cell_type": "code",
   "execution_count": null,
   "id": "5b3df854",
   "metadata": {},
   "outputs": [],
   "source": []
  },
  {
   "cell_type": "code",
   "execution_count": 85,
   "id": "7d322ee5",
   "metadata": {},
   "outputs": [],
   "source": [
    "X_rfe = X_encoded[[\"place_0.0\", \"place_1.0\", \"place_10.0\", \"place_2.0\", \"place_4.0\", \"catu_Conducteur\",\n",
    "          \"catu_Passager\", \"catu_Piéton\", \"sexe_Féminin\", \"trajet_Utilisation professionnelle\",\n",
    "          \"locp_Non renseigné\", \"locp_Sur accotement\", \"locp_Sur chaussée-A + 50 m du passage piéton\",\n",
    "          \"locp_Sur chaussée-A – 50 m du passage piéton\", \"locp_Sur contre allée\", \n",
    "          \"locp_Sur passage piéton-Avec signalisation lumineuse\", \"locp_Sur passage piéton-Sans signalisation lumineuse\",\n",
    "          \"locp_Sur refuge ou BA\", \"locp_Sur trottoir\", \"actp_Avec animal\", \"actp_Inconnue\", \n",
    "          \"actp_Jouant – courant\", \"actp_Monte/descend du véhicule\", \"actp_Non renseigné\", \n",
    "          \"actp_Non renseigné ou sans objet\", \"etatp_Non renseigné\", \"etatp_Seul\", \"secuUn_Aucun équipement\",\n",
    "          \"secuUn_Autre\", \"secuUn_Casque\", \"secuUn_Ceinture\", \"secuUn_Dispositif enfants\", \"secuUn_Gants (2RM/3RM)\",\n",
    "          \"secuUn_Gilet réfléchissant\", \"secuUn_Non renseigné\", \"secuDeux_Airbag (2RM/3RM)(5)\",\n",
    "          \"secuDeux_Casque\", \"secuDeux_Gilet réfléchissant(4)\", \"tranches_ages_0-11\", \"tranches_ages_32-40\",\n",
    "          \"tranches_ages_41-50\", \"tranches_ages_50+\", \"catr_2-Route nationale\", \"catr_3-Route Départementale\",\n",
    "          \"catr_7-Routes de métropole urbaine\", \"circ_A sens unique(1)\", \"plan_Non renseigné(-1)\", \n",
    "          \"surf_Corps gras – huile(8)\", \"surf_Enneigée(5)\", \"infra_Non renseigné\", \"infra_Souterrain - tunnel\",\n",
    "          \"infra_Voie ferrée\", \"infra_Zone de péage\", \"infra_Zone piétonne\", \"situ_Autres(8)\",\n",
    "          \"situ_Sur piste cyclable(5)\", \"situ_Sur trottoir(4)\", \"senc_Non renseigné\", \"obs_Autre glissière\",\n",
    "          \"obs_Autre obstacle fixe sur chaussée\", \"obs_Autre obstacle fixe sur trottoir ou accotement\",\n",
    "          \"obs_Buse – tête d’aqueduc\", \"obs_Glissière métallique\", \"obs_Mobilier urbain\", \"obs_Non renseigné\",\n",
    "          \"obs_Sans objet\", \"obs_Support de signalisation verticale ou poste d’appel d’urgence\",\n",
    "          \"obs_Véhicule en stationnement, Arbre\", \"obsm_Animal domestique\", \"obsm_Animal sauvage\",\n",
    "          \"obsm_Aucun\", \"obsm_Autre\", \"obsm_Non renseigné\", \"obsm_Piéton\", \"obsm_Véhicule\", \"obsm_Véhicule sur rail\",\n",
    "          \"choc_Arrière\", \"choc_Chocs multiples (tonneaux)\", \"choc_Non renseigné\", \"manv_A contresens\",\n",
    "          \"manv_Arrêté (hors stationnement)\", \"manv_Autres manœuvres\", \"manv_Dans le couloir bus, dans le même sens\",\n",
    "          \"manv_Dans le couloir bus, dans le sens inverse\", \"manv_Dépassant - A gauche\", \n",
    "          \"manv_Dépassant A droite\", \"manv_Déporté - A droite\", \"manv_Déporté - A gauche\",\n",
    "          \"manv_En franchissant le terre-plein central\", \"manv_Entre 2 files\", \"manv_Inconnue\",\n",
    "          \"manv_Manœuvre de stationnement\", \"manv_Manœuvre d’évitement\", \"manv_Même sens, même file\",\n",
    "          \"manv_Non renseigné\", \"manv_Ouverture de porte\", \"manv_Sans changement de direction\",\n",
    "          \"manv_Traversant la chaussée\", \"catv_Label_Autobus et autocars\", \"catv_Label_Bicyclette\",\n",
    "          \"catv_Label_Deux ou trois roues de petite cylindrée (<= 50 cm3)\",\n",
    "          \"catv_Label_Deux ou trois roues-motrices de grosse cylindrée (>125 cm3)\",\n",
    "          \"catv_Label_Deux ou trois roues-motrices de moyenne cylindrée (50 à 125 cm3)\",\n",
    "          \"catv_Label_Engins de déplacement personnels (EDP) sans moteur (ex : skateboards, roller, trottinette)\",\n",
    "          \"catv_Label_Engins de déplacement personnels (EDP) à moteur (ex: trotinette)\",\n",
    "          \"catv_Label_Indéterminable\", \"catv_Label_Poids lourds (PL) et camions\", \"catv_Label_Quad\",\n",
    "          \"catv_Label_Tracteurs agricoles et engins spéciaux\", \"catv_Label_Tracteurs routiers\",\n",
    "          \"catv_Label_Train\", \"catv_Label_Tramway\", \"catv_Label_Voitures légères (VL) avec carane ou remorque tractée\",\n",
    "          \"catv_Label_Voitures légères (VL) seule\", \"catv_Label_Voiturette\", \"catv_Label_Véhicules utilitaires légers (VU)\",\n",
    "          \"catv_Label_Véhicules utilitaires légers (VU) avec carane ou remorque tractée\",\n",
    "          \"catv_Label_Vélo avec assistance électrique (VAE)\", \"lum_Plein jour\", \"agg_En agglomération\",\n",
    "          \"agg_Hors agglomération\", \"int_Intersection à plus de 4 branches\", \"int_Non renseigné\",\n",
    "          \"int_Passage à niveau\", \"int_Place\", \"atm_Non renseigné\", \"atm_Temps éblouissant\", \n",
    "          \"col_Autre collision\", \"col_Deux véhicules - frontale\", \"col_Non renseigné\", \n",
    "          \"col_Sans collision\", \"col_Trois véhicules et plus - collisions multiples\", \n",
    "          \"age_acc_an\"]]"
   ]
  },
  {
   "cell_type": "code",
   "execution_count": 86,
   "id": "e43102cb",
   "metadata": {},
   "outputs": [
    {
     "data": {
      "text/plain": [
       "pandas.core.frame.DataFrame"
      ]
     },
     "execution_count": 86,
     "metadata": {},
     "output_type": "execute_result"
    }
   ],
   "source": [
    "type(X_rfe)"
   ]
  },
  {
   "cell_type": "code",
   "execution_count": 87,
   "id": "98a1722a",
   "metadata": {},
   "outputs": [],
   "source": [
    "# split the array of features values, X, and target values, y, into training and test sets, \n",
    "#   ensuring that the same label proportions are reflected after the split\n",
    "X_train_rfe, X_test_rfe, y_train_rfe, y_test_rfe = train_test_split(X_rfe, y, \n",
    "                                                                    test_size=0.2,\n",
    "                                                                    stratify=y, \n",
    "                                                                    random_state=259)"
   ]
  },
  {
   "cell_type": "code",
   "execution_count": 126,
   "id": "12656307",
   "metadata": {},
   "outputs": [
    {
     "name": "stdout",
     "output_type": "stream",
     "text": [
      "Model: hist_gradient_boosting\n",
      "---------------------------------------------------------------------------\n",
      "Classification Report imbalanced :\n",
      "                          pre       rec       spe        f1       geo       iba       sup\n",
      "\n",
      "Blessé hospitalisé       0.52      0.42      0.90      0.47      0.62      0.36     93507\n",
      "      Blessé léger       0.62      0.62      0.78      0.62      0.70      0.48    165057\n",
      "           Indemne       0.72      0.83      0.78      0.77      0.81      0.65    187549\n",
      "               Tué       0.47      0.06      1.00      0.10      0.24      0.05     12235\n",
      "\n",
      "       avg / total       0.64      0.65      0.81      0.64      0.71      0.51    458348\n",
      "\n",
      "---------------------------------------------------------------------------\n",
      "Confusion Matrix:\n",
      "[[ 39299  38184  15380    644]\n",
      " [ 19819 102699  42405    134]\n",
      " [  8033  23685 155787     44]\n",
      " [  7784   2157   1579    715]]\n",
      "---------------------------------------------------------------------------\n",
      "Balanced accuracy: 0.483 - Geometric mean: 0.336\n",
      "---------------------------------------------------------------------------\n",
      "Mean AUC Score: 0.8155946907336787  temps execution en secondes :  1624.1096398830414\n",
      "===========================================================================\n",
      "training_time test_time train_score test_score hgbc_accuracy_rfe balanced_accuracy geometric_mean_score\n",
      "220.6515007019043 4.602978944778442 65.154 65.125 65.125 0.483 0.336\n"
     ]
    }
   ],
   "source": [
    "result_accuracy = benchmarkClassifier(hist_gradient_boosting, \"hist_gradient_boosting\", \n",
    "                                      X_train_rfe, y_train_rfe, X_test_rfe, y_test_rfe)\n",
    "\n",
    "print('training_time', 'test_time', 'train_score', 'test_score', 'hgbc_accuracy_rfe', 'balanced_accuracy', 'geometric_mean_score')\n",
    "print(result_accuracy[0], result_accuracy[1], result_accuracy[2], result_accuracy[3],result_accuracy[4],\n",
    "     result_accuracy[5], result_accuracy[6])"
   ]
  },
  {
   "cell_type": "code",
   "execution_count": 127,
   "id": "ea86284a",
   "metadata": {},
   "outputs": [
    {
     "name": "stdout",
     "output_type": "stream",
     "text": [
      "Model: Logistic_Regression\n",
      "---------------------------------------------------------------------------\n",
      "Classification Report imbalanced :\n",
      "                          pre       rec       spe        f1       geo       iba       sup\n",
      "\n",
      "Blessé hospitalisé       0.52      0.37      0.91      0.43      0.58      0.32     93507\n",
      "      Blessé léger       0.60      0.59      0.78      0.60      0.68      0.46    165057\n",
      "           Indemne       0.70      0.85      0.75      0.76      0.79      0.64    187549\n",
      "               Tué       0.43      0.04      1.00      0.07      0.19      0.03     12235\n",
      "\n",
      "       avg / total       0.62      0.64      0.80      0.62      0.69      0.49    458348\n",
      "\n",
      "---------------------------------------------------------------------------\n",
      "Confusion Matrix:\n",
      "[[ 34895  40326  17819    467]\n",
      " [ 17805  98060  49116     76]\n",
      " [  7160  21580 158770     39]\n",
      " [  7431   2458   1906    440]]\n",
      "---------------------------------------------------------------------------\n",
      "Balanced accuracy: 0.462 - Geometric mean: 0.287\n",
      "---------------------------------------------------------------------------\n",
      "Mean AUC Score: 0.7989633042359826  temps execution en secondes :  10263.781090021133\n",
      "===========================================================================\n",
      "training_time test_time train_score test_score logreg_accuracy_rfe balanced_accuracy geometric_mean_score\n",
      "621.5780110359192 0.5459489822387695 63.767 63.743 63.743 0.462 0.287\n"
     ]
    }
   ],
   "source": [
    "result_accuracy = benchmarkClassifier(logreg, \"Logistic_Regression\", X_train_rfe, \n",
    "                                      y_train_rfe, X_test_rfe, y_test_rfe)\n",
    "\n",
    "print('training_time', 'test_time', 'train_score', 'test_score', 'logreg_accuracy_rfe', 'balanced_accuracy', 'geometric_mean_score')\n",
    "print(result_accuracy[0], result_accuracy[1], result_accuracy[2], result_accuracy[3],result_accuracy[4],\n",
    "     result_accuracy[5], result_accuracy[6])"
   ]
  },
  {
   "cell_type": "markdown",
   "id": "0a391c12",
   "metadata": {},
   "source": [
    "##### RFE with RIDGE ESTIMATOR"
   ]
  },
  {
   "cell_type": "code",
   "execution_count": null,
   "id": "ccf2caa0",
   "metadata": {},
   "outputs": [],
   "source": [
    "# Affecter à rfe une instance de RFE, qui utilise la régression comme estimateur via le classificateur RIDGE\n",
    "rfe_ridge = RFE(estimator=ridge_clf, step=1)#, n_features_to_select= half of the features are selected by default\n",
    "\n",
    "# Ajustement du RFE sur le jeu d'entrainement.\n",
    "rfe_ridge.fit(X_train_encoded, y_train2)"
   ]
  },
  {
   "cell_type": "code",
   "execution_count": null,
   "id": "7951b1d1",
   "metadata": {},
   "outputs": [],
   "source": [
    "ranking = rfe_ridge.ranking_.reshape(X_train_enc.shape)\n",
    "\n",
    "# Plot pixel ranking\n",
    "plt.matshow(ranking, cmap=plt.cm.Blues)\n",
    "plt.colorbar()\n",
    "plt.title(\"Ranking of pixels with RFE\")\n",
    "plt.show()"
   ]
  },
  {
   "cell_type": "code",
   "execution_count": null,
   "id": "11fb2fc5",
   "metadata": {},
   "outputs": [],
   "source": [
    "# Affichage de la représentation graphique des features sélectionnées\n",
    "maskrfe_ridge = rfe_ridge.get_support()\n",
    "plt.matshow(maskrfe_ridge.reshape(1,-1), cmap = 'gray_r')\n",
    "plt.xlabel('Axe des Features');"
   ]
  },
  {
   "cell_type": "markdown",
   "id": "c64459a8",
   "metadata": {},
   "source": [
    "##### RFECV with LOGISTIC REGRESSION estimator"
   ]
  },
  {
   "cell_type": "code",
   "execution_count": 117,
   "id": "26e9b4a2",
   "metadata": {},
   "outputs": [
    {
     "name": "stdout",
     "output_type": "stream",
     "text": [
      "Start Time  1695673345.574147\n",
      "End Time  676335.740803957\n"
     ]
    }
   ],
   "source": [
    "crossval = KFold(n_splits = 5, random_state = 2, shuffle = True)\n",
    "#  Créer une instance de RFECV\n",
    "rfecv = RFECV(estimator=logreg, cv=crossval)\n",
    "\n",
    "start_time = time.time()\n",
    "print(\"Start Time \",start_time)\n",
    "#  Ajustement du modèle sur le jeu d'entrainement.\n",
    "rfecv.fit(X_train_encoded, y_train2)\n",
    "end_time = time.time()\n",
    "execution_time = end_time - start_time\n",
    "print(\"End Time \",execution_time)"
   ]
  },
  {
   "cell_type": "code",
   "execution_count": 118,
   "id": "d8af15cb",
   "metadata": {},
   "outputs": [
    {
     "data": {
      "image/png": "[encoded data removed]",
      "text/plain": [
       "<Figure size 1600x200 with 1 Axes>"
      ]
     },
     "metadata": {},
     "output_type": "display_data"
    }
   ],
   "source": [
    "# (j) Affichage de la représentation graphique des features sélectionnées\n",
    "maskrfecv = rfecv.get_support()\n",
    "plt.matshow(maskrfecv.reshape(1,-1), cmap = 'gray_r')\n",
    "plt.xlabel('Feature selection');"
   ]
  },
  {
   "cell_type": "code",
   "execution_count": 119,
   "id": "7efdb4eb",
   "metadata": {},
   "outputs": [
    {
     "name": "stdout",
     "output_type": "stream",
     "text": [
      "Nombre de features retenues : 266\n"
     ]
    },
    {
     "data": {
      "image/png": "[encoded data removed]",
      "text/plain": [
       "<Figure size 640x480 with 1 Axes>"
      ]
     },
     "metadata": {},
     "output_type": "display_data"
    }
   ],
   "source": [
    "# (o) Courbe du score moyen en cross validation en fonction du nombre de features sélectionnées.\n",
    "plt.plot(rfecv.cv_results_['mean_test_score']);\n",
    "\n",
    "# (p) Affichage du nombre de features retenues.\n",
    "print(\"Nombre de features retenues :\", rfecv.n_features_)\n"
   ]
  },
  {
   "cell_type": "code",
   "execution_count": 146,
   "id": "ad59171c",
   "metadata": {},
   "outputs": [
    {
     "data": {
      "text/plain": [
       "array([ True,  True,  True,  True,  True,  True,  True,  True,  True,\n",
       "        True,  True,  True,  True,  True,  True,  True,  True,  True,\n",
       "        True,  True,  True,  True,  True,  True,  True,  True,  True,\n",
       "        True,  True,  True,  True,  True,  True,  True,  True,  True,\n",
       "        True,  True,  True,  True,  True,  True,  True,  True,  True,\n",
       "        True,  True,  True,  True,  True,  True,  True,  True,  True,\n",
       "        True,  True,  True,  True,  True,  True,  True,  True,  True,\n",
       "        True,  True,  True,  True,  True,  True,  True,  True,  True,\n",
       "        True,  True,  True,  True,  True,  True,  True,  True,  True,\n",
       "        True,  True,  True,  True,  True,  True,  True,  True,  True,\n",
       "        True,  True,  True,  True,  True,  True,  True,  True,  True,\n",
       "        True,  True,  True,  True,  True,  True,  True,  True,  True,\n",
       "        True,  True,  True,  True,  True,  True,  True,  True,  True,\n",
       "        True,  True,  True,  True,  True,  True,  True,  True,  True,\n",
       "        True,  True,  True,  True,  True,  True,  True,  True,  True,\n",
       "        True,  True,  True,  True,  True,  True,  True,  True,  True,\n",
       "        True,  True,  True,  True,  True,  True,  True,  True,  True,\n",
       "        True,  True,  True,  True,  True,  True,  True,  True,  True,\n",
       "        True,  True,  True,  True,  True,  True,  True,  True,  True,\n",
       "        True,  True,  True,  True,  True,  True,  True,  True,  True,\n",
       "        True,  True,  True,  True,  True,  True,  True,  True,  True,\n",
       "        True,  True,  True,  True,  True,  True,  True,  True,  True,\n",
       "        True,  True,  True,  True,  True,  True,  True,  True,  True,\n",
       "        True,  True,  True,  True,  True,  True,  True,  True,  True,\n",
       "        True,  True,  True,  True,  True,  True,  True,  True,  True,\n",
       "        True,  True,  True,  True,  True,  True,  True,  True,  True,\n",
       "        True,  True,  True,  True,  True,  True,  True,  True,  True,\n",
       "        True,  True,  True,  True,  True,  True,  True,  True,  True,\n",
       "        True,  True,  True,  True,  True,  True,  True,  True,  True,\n",
       "        True,  True,  True,  True,  True])"
      ]
     },
     "execution_count": 146,
     "metadata": {},
     "output_type": "execute_result"
    }
   ],
   "source": [
    "rfecv.support_"
   ]
  },
  {
   "cell_type": "code",
   "execution_count": null,
   "id": "c330ca9c",
   "metadata": {},
   "outputs": [
    {
     "name": "stdout",
     "output_type": "stream",
     "text": [
      "Start Time  1696661053.0410419\n"
     ]
    },
    {
     "name": "stderr",
     "output_type": "stream",
     "text": [
      "\r",
      "  0%|                                                    | 0/50 [00:00<?, ?it/s]"
     ]
    }
   ],
   "source": [
    "rfecv_selector = RFECV(estimator=logreg, step=1, cv=5)\n",
    "\n",
    "start_time = time.time()\n",
    "print(\"Start Time \",start_time) \n",
    "for i in tqdm.tqdm(range(50)):\n",
    "    rfecv_selector = rfecv_selector.fit(X_train_encoded, y_train2)"
   ]
  },
  {
   "cell_type": "code",
   "execution_count": null,
   "id": "72335da1",
   "metadata": {},
   "outputs": [],
   "source": [
    "end_time = time.time()\n",
    "execution_time = end_time - start_time\n",
    "print(\"End Time \",execution_time)"
   ]
  },
  {
   "cell_type": "code",
   "execution_count": null,
   "id": "c2bf12b3",
   "metadata": {},
   "outputs": [],
   "source": [
    "rfecv_selector.support_"
   ]
  },
  {
   "cell_type": "code",
   "execution_count": null,
   "id": "93402880",
   "metadata": {},
   "outputs": [],
   "source": [
    "rfecv_selector.ranking_"
   ]
  },
  {
   "cell_type": "code",
   "execution_count": null,
   "id": "cd6256dd",
   "metadata": {},
   "outputs": [],
   "source": []
  },
  {
   "cell_type": "code",
   "execution_count": null,
   "id": "47aebeda",
   "metadata": {},
   "outputs": [],
   "source": []
  },
  {
   "cell_type": "markdown",
   "id": "6a4d0928",
   "metadata": {},
   "source": [
    "<div class=\"alert alert-block alert-info\">\n",
    "<h2><a id = \"tuning_randomsearch\">Hyperparameter tuning by randomized-search</a></h2>\n",
    "</div>"
   ]
  },
  {
   "cell_type": "markdown",
   "id": "1d3701cf",
   "metadata": {},
   "source": [
    "###### Gradient boosting estimator with native categorical support\n",
    "The HistGradientBoostingClassifier estimator that will natively handle categorical features. This estimator will not treat categorical features as ordered quantities.\n",
    "\n",
    "Since the HistGradientBoostingClassifier requires category values to be encoded in [0, n_unique_categories - 1], we still rely on an OrdinalEncoder to pre-process the data"
   ]
  },
  {
   "cell_type": "code",
   "execution_count": 65,
   "id": "19d42c3f",
   "metadata": {},
   "outputs": [],
   "source": [
    "categorical_preprocessor = OrdinalEncoder(handle_unknown=\"use_encoded_value\",\n",
    "                                          unknown_value=-1)\n",
    "\n",
    "preprocessor = ColumnTransformer([\n",
    "    ('ordinal_encoder', categorical_preprocessor, categorical_columns),\n",
    "    ('standard_scaler', numerical_preprocessor, numerical_columns)])\n",
    "#  create our model\n",
    "hist_native_ordinal = Pipeline(steps=[\n",
    "    ('standard_scaler_preprocessor', preprocessor), \n",
    "    ('model_hist_native_ordinal', HistGradientBoostingClassifier(\n",
    "            random_state=42, max_leaf_nodes=4\n",
    "        ))\n",
    "])"
   ]
  },
  {
   "cell_type": "code",
   "execution_count": 66,
   "id": "d56a1491",
   "metadata": {},
   "outputs": [
    {
     "data": {
      "text/html": [
       "<style>#sk-806a3716-7e32-4ca1-9280-9418e5bbc8f1 {color: black;background-color: white;}#sk-806a3716-7e32-4ca1-9280-9418e5bbc8f1 pre{padding: 0;}#sk-806a3716-7e32-4ca1-9280-9418e5bbc8f1 div.sk-toggleable {background-color: white;}#sk-806a3716-7e32-4ca1-9280-9418e5bbc8f1 label.sk-toggleable__label {cursor: pointer;display: block;width: 100%;margin-bottom: 0;padding: 0.3em;box-sizing: border-box;text-align: center;}#sk-806a3716-7e32-4ca1-9280-9418e5bbc8f1 label.sk-toggleable__label-arrow:before {content: \"▸\";float: left;margin-right: 0.25em;color: #696969;}#sk-806a3716-7e32-4ca1-9280-9418e5bbc8f1 label.sk-toggleable__label-arrow:hover:before {color: black;}#sk-806a3716-7e32-4ca1-9280-9418e5bbc8f1 div.sk-estimator:hover label.sk-toggleable__label-arrow:before {color: black;}#sk-806a3716-7e32-4ca1-9280-9418e5bbc8f1 div.sk-toggleable__content {max-height: 0;max-width: 0;overflow: hidden;text-align: left;background-color: #f0f8ff;}#sk-806a3716-7e32-4ca1-9280-9418e5bbc8f1 div.sk-toggleable__content pre {margin: 0.2em;color: black;border-radius: 0.25em;background-color: #f0f8ff;}#sk-806a3716-7e32-4ca1-9280-9418e5bbc8f1 input.sk-toggleable__control:checked~div.sk-toggleable__content {max-height: 200px;max-width: 100%;overflow: auto;}#sk-806a3716-7e32-4ca1-9280-9418e5bbc8f1 input.sk-toggleable__control:checked~label.sk-toggleable__label-arrow:before {content: \"▾\";}#sk-806a3716-7e32-4ca1-9280-9418e5bbc8f1 div.sk-estimator input.sk-toggleable__control:checked~label.sk-toggleable__label {background-color: #d4ebff;}#sk-806a3716-7e32-4ca1-9280-9418e5bbc8f1 div.sk-label input.sk-toggleable__control:checked~label.sk-toggleable__label {background-color: #d4ebff;}#sk-806a3716-7e32-4ca1-9280-9418e5bbc8f1 input.sk-hidden--visually {border: 0;clip: rect(1px 1px 1px 1px);clip: rect(1px, 1px, 1px, 1px);height: 1px;margin: -1px;overflow: hidden;padding: 0;position: absolute;width: 1px;}#sk-806a3716-7e32-4ca1-9280-9418e5bbc8f1 div.sk-estimator {font-family: monospace;background-color: #f0f8ff;border: 1px dotted black;border-radius: 0.25em;box-sizing: border-box;margin-bottom: 0.5em;}#sk-806a3716-7e32-4ca1-9280-9418e5bbc8f1 div.sk-estimator:hover {background-color: #d4ebff;}#sk-806a3716-7e32-4ca1-9280-9418e5bbc8f1 div.sk-parallel-item::after {content: \"\";width: 100%;border-bottom: 1px solid gray;flex-grow: 1;}#sk-806a3716-7e32-4ca1-9280-9418e5bbc8f1 div.sk-label:hover label.sk-toggleable__label {background-color: #d4ebff;}#sk-806a3716-7e32-4ca1-9280-9418e5bbc8f1 div.sk-serial::before {content: \"\";position: absolute;border-left: 1px solid gray;box-sizing: border-box;top: 2em;bottom: 0;left: 50%;}#sk-806a3716-7e32-4ca1-9280-9418e5bbc8f1 div.sk-serial {display: flex;flex-direction: column;align-items: center;background-color: white;padding-right: 0.2em;padding-left: 0.2em;}#sk-806a3716-7e32-4ca1-9280-9418e5bbc8f1 div.sk-item {z-index: 1;}#sk-806a3716-7e32-4ca1-9280-9418e5bbc8f1 div.sk-parallel {display: flex;align-items: stretch;justify-content: center;background-color: white;}#sk-806a3716-7e32-4ca1-9280-9418e5bbc8f1 div.sk-parallel::before {content: \"\";position: absolute;border-left: 1px solid gray;box-sizing: border-box;top: 2em;bottom: 0;left: 50%;}#sk-806a3716-7e32-4ca1-9280-9418e5bbc8f1 div.sk-parallel-item {display: flex;flex-direction: column;position: relative;background-color: white;}#sk-806a3716-7e32-4ca1-9280-9418e5bbc8f1 div.sk-parallel-item:first-child::after {align-self: flex-end;width: 50%;}#sk-806a3716-7e32-4ca1-9280-9418e5bbc8f1 div.sk-parallel-item:last-child::after {align-self: flex-start;width: 50%;}#sk-806a3716-7e32-4ca1-9280-9418e5bbc8f1 div.sk-parallel-item:only-child::after {width: 0;}#sk-806a3716-7e32-4ca1-9280-9418e5bbc8f1 div.sk-dashed-wrapped {border: 1px dashed gray;margin: 0 0.4em 0.5em 0.4em;box-sizing: border-box;padding-bottom: 0.4em;background-color: white;position: relative;}#sk-806a3716-7e32-4ca1-9280-9418e5bbc8f1 div.sk-label label {font-family: monospace;font-weight: bold;background-color: white;display: inline-block;line-height: 1.2em;}#sk-806a3716-7e32-4ca1-9280-9418e5bbc8f1 div.sk-label-container {position: relative;z-index: 2;text-align: center;}#sk-806a3716-7e32-4ca1-9280-9418e5bbc8f1 div.sk-container {/* jupyter's `normalize.less` sets `[hidden] { display: none; }` but bootstrap.min.css set `[hidden] { display: none !important; }` so we also need the `!important` here to be able to override the default hidden behavior on the sphinx rendered scikit-learn.org. See: https://github.com/scikit-learn/scikit-learn/issues/21755 */display: inline-block !important;position: relative;}#sk-806a3716-7e32-4ca1-9280-9418e5bbc8f1 div.sk-text-repr-fallback {display: none;}</style><div id=\"sk-806a3716-7e32-4ca1-9280-9418e5bbc8f1\" class=\"sk-top-container\"><div class=\"sk-text-repr-fallback\"><pre>Pipeline(steps=[(&#x27;standard_scaler_preprocessor&#x27;,\n",
       "                 ColumnTransformer(transformers=[(&#x27;ordinal_encoder&#x27;,\n",
       "                                                  OrdinalEncoder(handle_unknown=&#x27;use_encoded_value&#x27;,\n",
       "                                                                 unknown_value=-1),\n",
       "                                                  [&#x27;place&#x27;, &#x27;catu&#x27;, &#x27;sexe&#x27;,\n",
       "                                                   &#x27;trajet&#x27;, &#x27;locp&#x27;, &#x27;actp&#x27;,\n",
       "                                                   &#x27;etatp&#x27;, &#x27;secuUn&#x27;,\n",
       "                                                   &#x27;secuDeux&#x27;, &#x27;tranches_ages&#x27;,\n",
       "                                                   &#x27;catr&#x27;, &#x27;circ&#x27;, &#x27;vosp&#x27;,\n",
       "                                                   &#x27;prof&#x27;, &#x27;plan&#x27;, &#x27;surf&#x27;,\n",
       "                                                   &#x27;infra&#x27;, &#x27;situ&#x27;, &#x27;senc&#x27;,\n",
       "                                                   &#x27;obs&#x27;, &#x27;obsm&#x27;, &#x27;choc&#x27;,\n",
       "                                                   &#x27;manv&#x27;, &#x27;catv_Label&#x27;, &#x27;lum&#x27;,\n",
       "                                                   &#x27;agg&#x27;, &#x27;int&#x27;, &#x27;atm&#x27;, &#x27;col&#x27;,\n",
       "                                                   &#x27;jour_de_la_semaine&#x27;, ...]),\n",
       "                                                 (&#x27;standard_scaler&#x27;,\n",
       "                                                  StandardScaler(),\n",
       "                                                  [&#x27;age_acc_an&#x27;, &#x27;nbv&#x27;,\n",
       "                                                   &#x27;occutc&#x27;])])),\n",
       "                (&#x27;model_hist_native_ordinal&#x27;,\n",
       "                 HistGradientBoostingClassifier(max_leaf_nodes=4,\n",
       "                                                random_state=42))])</pre><b>Please rerun this cell to show the HTML repr or trust the notebook.</b></div><div class=\"sk-container\" hidden><div class=\"sk-item sk-dashed-wrapped\"><div class=\"sk-label-container\"><div class=\"sk-label sk-toggleable\"><input class=\"sk-toggleable__control sk-hidden--visually\" id=\"04ec1b6e-ac72-4127-ba8e-dccd4c1f0224\" type=\"checkbox\" ><label for=\"04ec1b6e-ac72-4127-ba8e-dccd4c1f0224\" class=\"sk-toggleable__label sk-toggleable__label-arrow\">Pipeline</label><div class=\"sk-toggleable__content\"><pre>Pipeline(steps=[(&#x27;standard_scaler_preprocessor&#x27;,\n",
       "                 ColumnTransformer(transformers=[(&#x27;ordinal_encoder&#x27;,\n",
       "                                                  OrdinalEncoder(handle_unknown=&#x27;use_encoded_value&#x27;,\n",
       "                                                                 unknown_value=-1),\n",
       "                                                  [&#x27;place&#x27;, &#x27;catu&#x27;, &#x27;sexe&#x27;,\n",
       "                                                   &#x27;trajet&#x27;, &#x27;locp&#x27;, &#x27;actp&#x27;,\n",
       "                                                   &#x27;etatp&#x27;, &#x27;secuUn&#x27;,\n",
       "                                                   &#x27;secuDeux&#x27;, &#x27;tranches_ages&#x27;,\n",
       "                                                   &#x27;catr&#x27;, &#x27;circ&#x27;, &#x27;vosp&#x27;,\n",
       "                                                   &#x27;prof&#x27;, &#x27;plan&#x27;, &#x27;surf&#x27;,\n",
       "                                                   &#x27;infra&#x27;, &#x27;situ&#x27;, &#x27;senc&#x27;,\n",
       "                                                   &#x27;obs&#x27;, &#x27;obsm&#x27;, &#x27;choc&#x27;,\n",
       "                                                   &#x27;manv&#x27;, &#x27;catv_Label&#x27;, &#x27;lum&#x27;,\n",
       "                                                   &#x27;agg&#x27;, &#x27;int&#x27;, &#x27;atm&#x27;, &#x27;col&#x27;,\n",
       "                                                   &#x27;jour_de_la_semaine&#x27;, ...]),\n",
       "                                                 (&#x27;standard_scaler&#x27;,\n",
       "                                                  StandardScaler(),\n",
       "                                                  [&#x27;age_acc_an&#x27;, &#x27;nbv&#x27;,\n",
       "                                                   &#x27;occutc&#x27;])])),\n",
       "                (&#x27;model_hist_native_ordinal&#x27;,\n",
       "                 HistGradientBoostingClassifier(max_leaf_nodes=4,\n",
       "                                                random_state=42))])</pre></div></div></div><div class=\"sk-serial\"><div class=\"sk-item sk-dashed-wrapped\"><div class=\"sk-label-container\"><div class=\"sk-label sk-toggleable\"><input class=\"sk-toggleable__control sk-hidden--visually\" id=\"34486ed1-dbfa-445e-84c4-06bf947fcaaf\" type=\"checkbox\" ><label for=\"34486ed1-dbfa-445e-84c4-06bf947fcaaf\" class=\"sk-toggleable__label sk-toggleable__label-arrow\">standard_scaler_preprocessor: ColumnTransformer</label><div class=\"sk-toggleable__content\"><pre>ColumnTransformer(transformers=[(&#x27;ordinal_encoder&#x27;,\n",
       "                                 OrdinalEncoder(handle_unknown=&#x27;use_encoded_value&#x27;,\n",
       "                                                unknown_value=-1),\n",
       "                                 [&#x27;place&#x27;, &#x27;catu&#x27;, &#x27;sexe&#x27;, &#x27;trajet&#x27;, &#x27;locp&#x27;,\n",
       "                                  &#x27;actp&#x27;, &#x27;etatp&#x27;, &#x27;secuUn&#x27;, &#x27;secuDeux&#x27;,\n",
       "                                  &#x27;tranches_ages&#x27;, &#x27;catr&#x27;, &#x27;circ&#x27;, &#x27;vosp&#x27;,\n",
       "                                  &#x27;prof&#x27;, &#x27;plan&#x27;, &#x27;surf&#x27;, &#x27;infra&#x27;, &#x27;situ&#x27;,\n",
       "                                  &#x27;senc&#x27;, &#x27;obs&#x27;, &#x27;obsm&#x27;, &#x27;choc&#x27;, &#x27;manv&#x27;,\n",
       "                                  &#x27;catv_Label&#x27;, &#x27;lum&#x27;, &#x27;agg&#x27;, &#x27;int&#x27;, &#x27;atm&#x27;,\n",
       "                                  &#x27;col&#x27;, &#x27;jour_de_la_semaine&#x27;, ...]),\n",
       "                                (&#x27;standard_scaler&#x27;, StandardScaler(),\n",
       "                                 [&#x27;age_acc_an&#x27;, &#x27;nbv&#x27;, &#x27;occutc&#x27;])])</pre></div></div></div><div class=\"sk-parallel\"><div class=\"sk-parallel-item\"><div class=\"sk-item\"><div class=\"sk-label-container\"><div class=\"sk-label sk-toggleable\"><input class=\"sk-toggleable__control sk-hidden--visually\" id=\"9b8a5a09-80dc-44af-91bf-bc21bb517b6b\" type=\"checkbox\" ><label for=\"9b8a5a09-80dc-44af-91bf-bc21bb517b6b\" class=\"sk-toggleable__label sk-toggleable__label-arrow\">ordinal_encoder</label><div class=\"sk-toggleable__content\"><pre>[&#x27;place&#x27;, &#x27;catu&#x27;, &#x27;sexe&#x27;, &#x27;trajet&#x27;, &#x27;locp&#x27;, &#x27;actp&#x27;, &#x27;etatp&#x27;, &#x27;secuUn&#x27;, &#x27;secuDeux&#x27;, &#x27;tranches_ages&#x27;, &#x27;catr&#x27;, &#x27;circ&#x27;, &#x27;vosp&#x27;, &#x27;prof&#x27;, &#x27;plan&#x27;, &#x27;surf&#x27;, &#x27;infra&#x27;, &#x27;situ&#x27;, &#x27;senc&#x27;, &#x27;obs&#x27;, &#x27;obsm&#x27;, &#x27;choc&#x27;, &#x27;manv&#x27;, &#x27;catv_Label&#x27;, &#x27;lum&#x27;, &#x27;agg&#x27;, &#x27;int&#x27;, &#x27;atm&#x27;, &#x27;col&#x27;, &#x27;jour_de_la_semaine&#x27;, &#x27;heure&#x27;]</pre></div></div></div><div class=\"sk-serial\"><div class=\"sk-item\"><div class=\"sk-estimator sk-toggleable\"><input class=\"sk-toggleable__control sk-hidden--visually\" id=\"037f214d-99d9-41ae-a491-d88e3bc5ba3a\" type=\"checkbox\" ><label for=\"037f214d-99d9-41ae-a491-d88e3bc5ba3a\" class=\"sk-toggleable__label sk-toggleable__label-arrow\">OrdinalEncoder</label><div class=\"sk-toggleable__content\"><pre>OrdinalEncoder(handle_unknown=&#x27;use_encoded_value&#x27;, unknown_value=-1)</pre></div></div></div></div></div></div><div class=\"sk-parallel-item\"><div class=\"sk-item\"><div class=\"sk-label-container\"><div class=\"sk-label sk-toggleable\"><input class=\"sk-toggleable__control sk-hidden--visually\" id=\"70111f6f-c609-4142-82f2-b76dc1813a5d\" type=\"checkbox\" ><label for=\"70111f6f-c609-4142-82f2-b76dc1813a5d\" class=\"sk-toggleable__label sk-toggleable__label-arrow\">standard_scaler</label><div class=\"sk-toggleable__content\"><pre>[&#x27;age_acc_an&#x27;, &#x27;nbv&#x27;, &#x27;occutc&#x27;]</pre></div></div></div><div class=\"sk-serial\"><div class=\"sk-item\"><div class=\"sk-estimator sk-toggleable\"><input class=\"sk-toggleable__control sk-hidden--visually\" id=\"511ddfe3-5bd9-4da4-803c-966f44137239\" type=\"checkbox\" ><label for=\"511ddfe3-5bd9-4da4-803c-966f44137239\" class=\"sk-toggleable__label sk-toggleable__label-arrow\">StandardScaler</label><div class=\"sk-toggleable__content\"><pre>StandardScaler()</pre></div></div></div></div></div></div></div></div><div class=\"sk-item\"><div class=\"sk-estimator sk-toggleable\"><input class=\"sk-toggleable__control sk-hidden--visually\" id=\"f59a7bd7-ff79-4ca9-9583-5e22aa4b3810\" type=\"checkbox\" ><label for=\"f59a7bd7-ff79-4ca9-9583-5e22aa4b3810\" class=\"sk-toggleable__label sk-toggleable__label-arrow\">HistGradientBoostingClassifier</label><div class=\"sk-toggleable__content\"><pre>HistGradientBoostingClassifier(max_leaf_nodes=4, random_state=42)</pre></div></div></div></div></div></div></div>"
      ],
      "text/plain": [
       "Pipeline(steps=[('standard_scaler_preprocessor',\n",
       "                 ColumnTransformer(transformers=[('ordinal_encoder',\n",
       "                                                  OrdinalEncoder(handle_unknown='use_encoded_value',\n",
       "                                                                 unknown_value=-1),\n",
       "                                                  ['place', 'catu', 'sexe',\n",
       "                                                   'trajet', 'locp', 'actp',\n",
       "                                                   'etatp', 'secuUn',\n",
       "                                                   'secuDeux', 'tranches_ages',\n",
       "                                                   'catr', 'circ', 'vosp',\n",
       "                                                   'prof', 'plan', 'surf',\n",
       "                                                   'infra', 'situ', 'senc',\n",
       "                                                   'obs', 'obsm', 'choc',\n",
       "                                                   'manv', 'catv_Label', 'lum',\n",
       "                                                   'agg', 'int', 'atm', 'col',\n",
       "                                                   'jour_de_la_semaine', ...]),\n",
       "                                                 ('standard_scaler',\n",
       "                                                  StandardScaler(),\n",
       "                                                  ['age_acc_an', 'nbv',\n",
       "                                                   'occutc'])])),\n",
       "                ('model_hist_native_ordinal',\n",
       "                 HistGradientBoostingClassifier(max_leaf_nodes=4,\n",
       "                                                random_state=42))])"
      ]
     },
     "execution_count": 66,
     "metadata": {},
     "output_type": "execute_result"
    }
   ],
   "source": [
    "set_config(display='diagram')\n",
    "hist_native_ordinal"
   ]
  },
  {
   "cell_type": "code",
   "execution_count": null,
   "id": "81cd7c29",
   "metadata": {},
   "outputs": [],
   "source": []
  },
  {
   "cell_type": "markdown",
   "id": "4c8705c4",
   "metadata": {},
   "source": [
    "##### Evaluation Without hyperparameter tuning\n",
    "use cross-validation to evaluate such a model, allows to get a distribution of the scores of the model. "
   ]
  },
  {
   "cell_type": "code",
   "execution_count": 67,
   "id": "1cbb4bfb",
   "metadata": {},
   "outputs": [
    {
     "data": {
      "text/html": [
       "<div>\n",
       "<style scoped>\n",
       "    .dataframe tbody tr th:only-of-type {\n",
       "        vertical-align: middle;\n",
       "    }\n",
       "\n",
       "    .dataframe tbody tr th {\n",
       "        vertical-align: top;\n",
       "    }\n",
       "\n",
       "    .dataframe thead th {\n",
       "        text-align: right;\n",
       "    }\n",
       "</style>\n",
       "<table border=\"1\" class=\"dataframe\">\n",
       "  <thead>\n",
       "    <tr style=\"text-align: right;\">\n",
       "      <th></th>\n",
       "      <th>fit_time</th>\n",
       "      <th>score_time</th>\n",
       "      <th>test_score</th>\n",
       "    </tr>\n",
       "  </thead>\n",
       "  <tbody>\n",
       "    <tr>\n",
       "      <th>0</th>\n",
       "      <td>66.706778</td>\n",
       "      <td>7.134530</td>\n",
       "      <td>0.624397</td>\n",
       "    </tr>\n",
       "    <tr>\n",
       "      <th>1</th>\n",
       "      <td>68.394492</td>\n",
       "      <td>6.086934</td>\n",
       "      <td>0.636793</td>\n",
       "    </tr>\n",
       "    <tr>\n",
       "      <th>2</th>\n",
       "      <td>69.355577</td>\n",
       "      <td>5.871354</td>\n",
       "      <td>0.641973</td>\n",
       "    </tr>\n",
       "    <tr>\n",
       "      <th>3</th>\n",
       "      <td>68.688383</td>\n",
       "      <td>6.225692</td>\n",
       "      <td>0.642645</td>\n",
       "    </tr>\n",
       "    <tr>\n",
       "      <th>4</th>\n",
       "      <td>70.361031</td>\n",
       "      <td>7.825100</td>\n",
       "      <td>0.614078</td>\n",
       "    </tr>\n",
       "  </tbody>\n",
       "</table>\n",
       "</div>"
      ],
      "text/plain": [
       "    fit_time  score_time  test_score\n",
       "0  66.706778    7.134530    0.624397\n",
       "1  68.394492    6.086934    0.636793\n",
       "2  69.355577    5.871354    0.641973\n",
       "3  68.688383    6.225692    0.642645\n",
       "4  70.361031    7.825100    0.614078"
      ]
     },
     "execution_count": 67,
     "metadata": {},
     "output_type": "execute_result"
    }
   ],
   "source": [
    "# Without hyperparameter tuning\n",
    "cv_results = cross_validate(hist_native_ordinal, X, y, cv=5)\n",
    "cv_results = pd.DataFrame(cv_results)\n",
    "cv_results\n"
   ]
  },
  {
   "cell_type": "markdown",
   "id": "804c894e",
   "metadata": {},
   "source": [
    "The cross-validation scores are coming from a 5-fold cross-validation. So we can compute the mean and standard deviation of the generalization score."
   ]
  },
  {
   "cell_type": "code",
   "execution_count": 68,
   "id": "daf146db",
   "metadata": {},
   "outputs": [
    {
     "name": "stdout",
     "output_type": "stream",
     "text": [
      "Generalization score without hyperparameters tuning:\n",
      "0.632 ± 0.012\n"
     ]
    }
   ],
   "source": [
    "print(\n",
    "    \"Generalization score without hyperparameters tuning:\\n\"\n",
    "    f\"{cv_results['test_score'].mean():.3f} ± {cv_results['test_score'].std():.3f}\"\n",
    ")"
   ]
  },
  {
   "cell_type": "markdown",
   "id": "996ce1dc",
   "metadata": {},
   "source": [
    "##### Evaluation With hyperparameter tuning GridSearchCV\n",
    "First, we have to embed our model into a grid-search and specify the parameters and the parameter values that we want to explore. "
   ]
  },
  {
   "cell_type": "code",
   "execution_count": 98,
   "id": "8607fbab",
   "metadata": {},
   "outputs": [
    {
     "data": {
      "text/plain": [
       "dict_keys(['memory', 'steps', 'verbose', 'standard_scaler_preprocessor', 'model_hist_native_ordinal', 'standard_scaler_preprocessor__n_jobs', 'standard_scaler_preprocessor__remainder', 'standard_scaler_preprocessor__sparse_threshold', 'standard_scaler_preprocessor__transformer_weights', 'standard_scaler_preprocessor__transformers', 'standard_scaler_preprocessor__verbose', 'standard_scaler_preprocessor__verbose_feature_names_out', 'standard_scaler_preprocessor__ordinal_encoder', 'standard_scaler_preprocessor__standard_scaler', 'standard_scaler_preprocessor__ordinal_encoder__categories', 'standard_scaler_preprocessor__ordinal_encoder__dtype', 'standard_scaler_preprocessor__ordinal_encoder__handle_unknown', 'standard_scaler_preprocessor__ordinal_encoder__unknown_value', 'standard_scaler_preprocessor__standard_scaler__copy', 'standard_scaler_preprocessor__standard_scaler__with_mean', 'standard_scaler_preprocessor__standard_scaler__with_std', 'model_hist_native_ordinal__categorical_features', 'model_hist_native_ordinal__early_stopping', 'model_hist_native_ordinal__l2_regularization', 'model_hist_native_ordinal__learning_rate', 'model_hist_native_ordinal__loss', 'model_hist_native_ordinal__max_bins', 'model_hist_native_ordinal__max_depth', 'model_hist_native_ordinal__max_iter', 'model_hist_native_ordinal__max_leaf_nodes', 'model_hist_native_ordinal__min_samples_leaf', 'model_hist_native_ordinal__monotonic_cst', 'model_hist_native_ordinal__n_iter_no_change', 'model_hist_native_ordinal__random_state', 'model_hist_native_ordinal__scoring', 'model_hist_native_ordinal__tol', 'model_hist_native_ordinal__validation_fraction', 'model_hist_native_ordinal__verbose', 'model_hist_native_ordinal__warm_start'])"
      ]
     },
     "execution_count": 98,
     "metadata": {},
     "output_type": "execute_result"
    }
   ],
   "source": [
    "hist_native_ordinal.get_params().keys()"
   ]
  },
  {
   "cell_type": "code",
   "execution_count": 69,
   "id": "f7744073",
   "metadata": {},
   "outputs": [
    {
     "data": {
      "text/html": [
       "<style>#sk-1715067b-9078-4c47-bb63-8c44f7c6e44e {color: black;background-color: white;}#sk-1715067b-9078-4c47-bb63-8c44f7c6e44e pre{padding: 0;}#sk-1715067b-9078-4c47-bb63-8c44f7c6e44e div.sk-toggleable {background-color: white;}#sk-1715067b-9078-4c47-bb63-8c44f7c6e44e label.sk-toggleable__label {cursor: pointer;display: block;width: 100%;margin-bottom: 0;padding: 0.3em;box-sizing: border-box;text-align: center;}#sk-1715067b-9078-4c47-bb63-8c44f7c6e44e label.sk-toggleable__label-arrow:before {content: \"▸\";float: left;margin-right: 0.25em;color: #696969;}#sk-1715067b-9078-4c47-bb63-8c44f7c6e44e label.sk-toggleable__label-arrow:hover:before {color: black;}#sk-1715067b-9078-4c47-bb63-8c44f7c6e44e div.sk-estimator:hover label.sk-toggleable__label-arrow:before {color: black;}#sk-1715067b-9078-4c47-bb63-8c44f7c6e44e div.sk-toggleable__content {max-height: 0;max-width: 0;overflow: hidden;text-align: left;background-color: #f0f8ff;}#sk-1715067b-9078-4c47-bb63-8c44f7c6e44e div.sk-toggleable__content pre {margin: 0.2em;color: black;border-radius: 0.25em;background-color: #f0f8ff;}#sk-1715067b-9078-4c47-bb63-8c44f7c6e44e input.sk-toggleable__control:checked~div.sk-toggleable__content {max-height: 200px;max-width: 100%;overflow: auto;}#sk-1715067b-9078-4c47-bb63-8c44f7c6e44e input.sk-toggleable__control:checked~label.sk-toggleable__label-arrow:before {content: \"▾\";}#sk-1715067b-9078-4c47-bb63-8c44f7c6e44e div.sk-estimator input.sk-toggleable__control:checked~label.sk-toggleable__label {background-color: #d4ebff;}#sk-1715067b-9078-4c47-bb63-8c44f7c6e44e div.sk-label input.sk-toggleable__control:checked~label.sk-toggleable__label {background-color: #d4ebff;}#sk-1715067b-9078-4c47-bb63-8c44f7c6e44e input.sk-hidden--visually {border: 0;clip: rect(1px 1px 1px 1px);clip: rect(1px, 1px, 1px, 1px);height: 1px;margin: -1px;overflow: hidden;padding: 0;position: absolute;width: 1px;}#sk-1715067b-9078-4c47-bb63-8c44f7c6e44e div.sk-estimator {font-family: monospace;background-color: #f0f8ff;border: 1px dotted black;border-radius: 0.25em;box-sizing: border-box;margin-bottom: 0.5em;}#sk-1715067b-9078-4c47-bb63-8c44f7c6e44e div.sk-estimator:hover {background-color: #d4ebff;}#sk-1715067b-9078-4c47-bb63-8c44f7c6e44e div.sk-parallel-item::after {content: \"\";width: 100%;border-bottom: 1px solid gray;flex-grow: 1;}#sk-1715067b-9078-4c47-bb63-8c44f7c6e44e div.sk-label:hover label.sk-toggleable__label {background-color: #d4ebff;}#sk-1715067b-9078-4c47-bb63-8c44f7c6e44e div.sk-serial::before {content: \"\";position: absolute;border-left: 1px solid gray;box-sizing: border-box;top: 2em;bottom: 0;left: 50%;}#sk-1715067b-9078-4c47-bb63-8c44f7c6e44e div.sk-serial {display: flex;flex-direction: column;align-items: center;background-color: white;padding-right: 0.2em;padding-left: 0.2em;}#sk-1715067b-9078-4c47-bb63-8c44f7c6e44e div.sk-item {z-index: 1;}#sk-1715067b-9078-4c47-bb63-8c44f7c6e44e div.sk-parallel {display: flex;align-items: stretch;justify-content: center;background-color: white;}#sk-1715067b-9078-4c47-bb63-8c44f7c6e44e div.sk-parallel::before {content: \"\";position: absolute;border-left: 1px solid gray;box-sizing: border-box;top: 2em;bottom: 0;left: 50%;}#sk-1715067b-9078-4c47-bb63-8c44f7c6e44e div.sk-parallel-item {display: flex;flex-direction: column;position: relative;background-color: white;}#sk-1715067b-9078-4c47-bb63-8c44f7c6e44e div.sk-parallel-item:first-child::after {align-self: flex-end;width: 50%;}#sk-1715067b-9078-4c47-bb63-8c44f7c6e44e div.sk-parallel-item:last-child::after {align-self: flex-start;width: 50%;}#sk-1715067b-9078-4c47-bb63-8c44f7c6e44e div.sk-parallel-item:only-child::after {width: 0;}#sk-1715067b-9078-4c47-bb63-8c44f7c6e44e div.sk-dashed-wrapped {border: 1px dashed gray;margin: 0 0.4em 0.5em 0.4em;box-sizing: border-box;padding-bottom: 0.4em;background-color: white;position: relative;}#sk-1715067b-9078-4c47-bb63-8c44f7c6e44e div.sk-label label {font-family: monospace;font-weight: bold;background-color: white;display: inline-block;line-height: 1.2em;}#sk-1715067b-9078-4c47-bb63-8c44f7c6e44e div.sk-label-container {position: relative;z-index: 2;text-align: center;}#sk-1715067b-9078-4c47-bb63-8c44f7c6e44e div.sk-container {/* jupyter's `normalize.less` sets `[hidden] { display: none; }` but bootstrap.min.css set `[hidden] { display: none !important; }` so we also need the `!important` here to be able to override the default hidden behavior on the sphinx rendered scikit-learn.org. See: https://github.com/scikit-learn/scikit-learn/issues/21755 */display: inline-block !important;position: relative;}#sk-1715067b-9078-4c47-bb63-8c44f7c6e44e div.sk-text-repr-fallback {display: none;}</style><div id=\"sk-1715067b-9078-4c47-bb63-8c44f7c6e44e\" class=\"sk-top-container\"><div class=\"sk-text-repr-fallback\"><pre>GridSearchCV(cv=2,\n",
       "             estimator=Pipeline(steps=[(&#x27;standard_scaler_preprocessor&#x27;,\n",
       "                                        ColumnTransformer(transformers=[(&#x27;ordinal_encoder&#x27;,\n",
       "                                                                         OrdinalEncoder(handle_unknown=&#x27;use_encoded_value&#x27;,\n",
       "                                                                                        unknown_value=-1),\n",
       "                                                                         [&#x27;place&#x27;,\n",
       "                                                                          &#x27;catu&#x27;,\n",
       "                                                                          &#x27;sexe&#x27;,\n",
       "                                                                          &#x27;trajet&#x27;,\n",
       "                                                                          &#x27;locp&#x27;,\n",
       "                                                                          &#x27;actp&#x27;,\n",
       "                                                                          &#x27;etatp&#x27;,\n",
       "                                                                          &#x27;secuUn&#x27;,\n",
       "                                                                          &#x27;secuDeux&#x27;,\n",
       "                                                                          &#x27;tranches_ages&#x27;,\n",
       "                                                                          &#x27;catr&#x27;,\n",
       "                                                                          &#x27;circ&#x27;,\n",
       "                                                                          &#x27;vosp&#x27;,\n",
       "                                                                          &#x27;prof&#x27;,\n",
       "                                                                          &#x27;plan&#x27;,\n",
       "                                                                          &#x27;surf&#x27;,\n",
       "                                                                          &#x27;infra&#x27;,\n",
       "                                                                          &#x27;situ&#x27;,\n",
       "                                                                          &#x27;senc&#x27;,\n",
       "                                                                          &#x27;...\n",
       "                                                                          &#x27;agg&#x27;,\n",
       "                                                                          &#x27;int&#x27;,\n",
       "                                                                          &#x27;atm&#x27;,\n",
       "                                                                          &#x27;col&#x27;,\n",
       "                                                                          &#x27;jour_de_la_semaine&#x27;, ...]),\n",
       "                                                                        (&#x27;standard_scaler&#x27;,\n",
       "                                                                         StandardScaler(),\n",
       "                                                                         [&#x27;age_acc_an&#x27;,\n",
       "                                                                          &#x27;nbv&#x27;,\n",
       "                                                                          &#x27;occutc&#x27;])])),\n",
       "                                       (&#x27;model_hist_native_ordinal&#x27;,\n",
       "                                        HistGradientBoostingClassifier(max_leaf_nodes=4,\n",
       "                                                                       random_state=42))]),\n",
       "             n_jobs=2,\n",
       "             param_grid={&#x27;model_hist_native_ordinal__learning_rate&#x27;: (0.01, 0.1,\n",
       "                                                                      1, 10),\n",
       "                         &#x27;model_hist_native_ordinal__max_leaf_nodes&#x27;: (3, 10,\n",
       "                                                                       30)})</pre><b>Please rerun this cell to show the HTML repr or trust the notebook.</b></div><div class=\"sk-container\" hidden><div class=\"sk-item sk-dashed-wrapped\"><div class=\"sk-label-container\"><div class=\"sk-label sk-toggleable\"><input class=\"sk-toggleable__control sk-hidden--visually\" id=\"c0da4866-2bc2-4b7f-b7cb-7999f67f69a8\" type=\"checkbox\" ><label for=\"c0da4866-2bc2-4b7f-b7cb-7999f67f69a8\" class=\"sk-toggleable__label sk-toggleable__label-arrow\">GridSearchCV</label><div class=\"sk-toggleable__content\"><pre>GridSearchCV(cv=2,\n",
       "             estimator=Pipeline(steps=[(&#x27;standard_scaler_preprocessor&#x27;,\n",
       "                                        ColumnTransformer(transformers=[(&#x27;ordinal_encoder&#x27;,\n",
       "                                                                         OrdinalEncoder(handle_unknown=&#x27;use_encoded_value&#x27;,\n",
       "                                                                                        unknown_value=-1),\n",
       "                                                                         [&#x27;place&#x27;,\n",
       "                                                                          &#x27;catu&#x27;,\n",
       "                                                                          &#x27;sexe&#x27;,\n",
       "                                                                          &#x27;trajet&#x27;,\n",
       "                                                                          &#x27;locp&#x27;,\n",
       "                                                                          &#x27;actp&#x27;,\n",
       "                                                                          &#x27;etatp&#x27;,\n",
       "                                                                          &#x27;secuUn&#x27;,\n",
       "                                                                          &#x27;secuDeux&#x27;,\n",
       "                                                                          &#x27;tranches_ages&#x27;,\n",
       "                                                                          &#x27;catr&#x27;,\n",
       "                                                                          &#x27;circ&#x27;,\n",
       "                                                                          &#x27;vosp&#x27;,\n",
       "                                                                          &#x27;prof&#x27;,\n",
       "                                                                          &#x27;plan&#x27;,\n",
       "                                                                          &#x27;surf&#x27;,\n",
       "                                                                          &#x27;infra&#x27;,\n",
       "                                                                          &#x27;situ&#x27;,\n",
       "                                                                          &#x27;senc&#x27;,\n",
       "                                                                          &#x27;...\n",
       "                                                                          &#x27;agg&#x27;,\n",
       "                                                                          &#x27;int&#x27;,\n",
       "                                                                          &#x27;atm&#x27;,\n",
       "                                                                          &#x27;col&#x27;,\n",
       "                                                                          &#x27;jour_de_la_semaine&#x27;, ...]),\n",
       "                                                                        (&#x27;standard_scaler&#x27;,\n",
       "                                                                         StandardScaler(),\n",
       "                                                                         [&#x27;age_acc_an&#x27;,\n",
       "                                                                          &#x27;nbv&#x27;,\n",
       "                                                                          &#x27;occutc&#x27;])])),\n",
       "                                       (&#x27;model_hist_native_ordinal&#x27;,\n",
       "                                        HistGradientBoostingClassifier(max_leaf_nodes=4,\n",
       "                                                                       random_state=42))]),\n",
       "             n_jobs=2,\n",
       "             param_grid={&#x27;model_hist_native_ordinal__learning_rate&#x27;: (0.01, 0.1,\n",
       "                                                                      1, 10),\n",
       "                         &#x27;model_hist_native_ordinal__max_leaf_nodes&#x27;: (3, 10,\n",
       "                                                                       30)})</pre></div></div></div><div class=\"sk-parallel\"><div class=\"sk-parallel-item\"><div class=\"sk-item\"><div class=\"sk-serial\"><div class=\"sk-item\"><div class=\"sk-serial\"><div class=\"sk-item sk-dashed-wrapped\"><div class=\"sk-label-container\"><div class=\"sk-label sk-toggleable\"><input class=\"sk-toggleable__control sk-hidden--visually\" id=\"92c4e56a-d2b5-46db-b357-7061c46de179\" type=\"checkbox\" ><label for=\"92c4e56a-d2b5-46db-b357-7061c46de179\" class=\"sk-toggleable__label sk-toggleable__label-arrow\">standard_scaler_preprocessor: ColumnTransformer</label><div class=\"sk-toggleable__content\"><pre>ColumnTransformer(transformers=[(&#x27;ordinal_encoder&#x27;,\n",
       "                                 OrdinalEncoder(handle_unknown=&#x27;use_encoded_value&#x27;,\n",
       "                                                unknown_value=-1),\n",
       "                                 [&#x27;place&#x27;, &#x27;catu&#x27;, &#x27;sexe&#x27;, &#x27;trajet&#x27;, &#x27;locp&#x27;,\n",
       "                                  &#x27;actp&#x27;, &#x27;etatp&#x27;, &#x27;secuUn&#x27;, &#x27;secuDeux&#x27;,\n",
       "                                  &#x27;tranches_ages&#x27;, &#x27;catr&#x27;, &#x27;circ&#x27;, &#x27;vosp&#x27;,\n",
       "                                  &#x27;prof&#x27;, &#x27;plan&#x27;, &#x27;surf&#x27;, &#x27;infra&#x27;, &#x27;situ&#x27;,\n",
       "                                  &#x27;senc&#x27;, &#x27;obs&#x27;, &#x27;obsm&#x27;, &#x27;choc&#x27;, &#x27;manv&#x27;,\n",
       "                                  &#x27;catv_Label&#x27;, &#x27;lum&#x27;, &#x27;agg&#x27;, &#x27;int&#x27;, &#x27;atm&#x27;,\n",
       "                                  &#x27;col&#x27;, &#x27;jour_de_la_semaine&#x27;, ...]),\n",
       "                                (&#x27;standard_scaler&#x27;, StandardScaler(),\n",
       "                                 [&#x27;age_acc_an&#x27;, &#x27;nbv&#x27;, &#x27;occutc&#x27;])])</pre></div></div></div><div class=\"sk-parallel\"><div class=\"sk-parallel-item\"><div class=\"sk-item\"><div class=\"sk-label-container\"><div class=\"sk-label sk-toggleable\"><input class=\"sk-toggleable__control sk-hidden--visually\" id=\"d9049996-d543-46ac-95cf-ff3680819b36\" type=\"checkbox\" ><label for=\"d9049996-d543-46ac-95cf-ff3680819b36\" class=\"sk-toggleable__label sk-toggleable__label-arrow\">ordinal_encoder</label><div class=\"sk-toggleable__content\"><pre>[&#x27;place&#x27;, &#x27;catu&#x27;, &#x27;sexe&#x27;, &#x27;trajet&#x27;, &#x27;locp&#x27;, &#x27;actp&#x27;, &#x27;etatp&#x27;, &#x27;secuUn&#x27;, &#x27;secuDeux&#x27;, &#x27;tranches_ages&#x27;, &#x27;catr&#x27;, &#x27;circ&#x27;, &#x27;vosp&#x27;, &#x27;prof&#x27;, &#x27;plan&#x27;, &#x27;surf&#x27;, &#x27;infra&#x27;, &#x27;situ&#x27;, &#x27;senc&#x27;, &#x27;obs&#x27;, &#x27;obsm&#x27;, &#x27;choc&#x27;, &#x27;manv&#x27;, &#x27;catv_Label&#x27;, &#x27;lum&#x27;, &#x27;agg&#x27;, &#x27;int&#x27;, &#x27;atm&#x27;, &#x27;col&#x27;, &#x27;jour_de_la_semaine&#x27;, &#x27;heure&#x27;]</pre></div></div></div><div class=\"sk-serial\"><div class=\"sk-item\"><div class=\"sk-estimator sk-toggleable\"><input class=\"sk-toggleable__control sk-hidden--visually\" id=\"b7493b84-940a-45b1-9d51-74ead1e0fad9\" type=\"checkbox\" ><label for=\"b7493b84-940a-45b1-9d51-74ead1e0fad9\" class=\"sk-toggleable__label sk-toggleable__label-arrow\">OrdinalEncoder</label><div class=\"sk-toggleable__content\"><pre>OrdinalEncoder(handle_unknown=&#x27;use_encoded_value&#x27;, unknown_value=-1)</pre></div></div></div></div></div></div><div class=\"sk-parallel-item\"><div class=\"sk-item\"><div class=\"sk-label-container\"><div class=\"sk-label sk-toggleable\"><input class=\"sk-toggleable__control sk-hidden--visually\" id=\"70ffe8dc-1b58-4a98-b528-69b4454f6364\" type=\"checkbox\" ><label for=\"70ffe8dc-1b58-4a98-b528-69b4454f6364\" class=\"sk-toggleable__label sk-toggleable__label-arrow\">standard_scaler</label><div class=\"sk-toggleable__content\"><pre>[&#x27;age_acc_an&#x27;, &#x27;nbv&#x27;, &#x27;occutc&#x27;]</pre></div></div></div><div class=\"sk-serial\"><div class=\"sk-item\"><div class=\"sk-estimator sk-toggleable\"><input class=\"sk-toggleable__control sk-hidden--visually\" id=\"3dbe7277-5b97-4be8-a7fa-74775852a1f6\" type=\"checkbox\" ><label for=\"3dbe7277-5b97-4be8-a7fa-74775852a1f6\" class=\"sk-toggleable__label sk-toggleable__label-arrow\">StandardScaler</label><div class=\"sk-toggleable__content\"><pre>StandardScaler()</pre></div></div></div></div></div></div></div></div><div class=\"sk-item\"><div class=\"sk-estimator sk-toggleable\"><input class=\"sk-toggleable__control sk-hidden--visually\" id=\"14c9cd92-3fec-4793-bf38-835aa3e7ea5a\" type=\"checkbox\" ><label for=\"14c9cd92-3fec-4793-bf38-835aa3e7ea5a\" class=\"sk-toggleable__label sk-toggleable__label-arrow\">HistGradientBoostingClassifier</label><div class=\"sk-toggleable__content\"><pre>HistGradientBoostingClassifier(max_leaf_nodes=4, random_state=42)</pre></div></div></div></div></div></div></div></div></div></div></div></div>"
      ],
      "text/plain": [
       "GridSearchCV(cv=2,\n",
       "             estimator=Pipeline(steps=[('standard_scaler_preprocessor',\n",
       "                                        ColumnTransformer(transformers=[('ordinal_encoder',\n",
       "                                                                         OrdinalEncoder(handle_unknown='use_encoded_value',\n",
       "                                                                                        unknown_value=-1),\n",
       "                                                                         ['place',\n",
       "                                                                          'catu',\n",
       "                                                                          'sexe',\n",
       "                                                                          'trajet',\n",
       "                                                                          'locp',\n",
       "                                                                          'actp',\n",
       "                                                                          'etatp',\n",
       "                                                                          'secuUn',\n",
       "                                                                          'secuDeux',\n",
       "                                                                          'tranches_ages',\n",
       "                                                                          'catr',\n",
       "                                                                          'circ',\n",
       "                                                                          'vosp',\n",
       "                                                                          'prof',\n",
       "                                                                          'plan',\n",
       "                                                                          'surf',\n",
       "                                                                          'infra',\n",
       "                                                                          'situ',\n",
       "                                                                          'senc',\n",
       "                                                                          '...\n",
       "                                                                          'agg',\n",
       "                                                                          'int',\n",
       "                                                                          'atm',\n",
       "                                                                          'col',\n",
       "                                                                          'jour_de_la_semaine', ...]),\n",
       "                                                                        ('standard_scaler',\n",
       "                                                                         StandardScaler(),\n",
       "                                                                         ['age_acc_an',\n",
       "                                                                          'nbv',\n",
       "                                                                          'occutc'])])),\n",
       "                                       ('model_hist_native_ordinal',\n",
       "                                        HistGradientBoostingClassifier(max_leaf_nodes=4,\n",
       "                                                                       random_state=42))]),\n",
       "             n_jobs=2,\n",
       "             param_grid={'model_hist_native_ordinal__learning_rate': (0.01, 0.1,\n",
       "                                                                      1, 10),\n",
       "                         'model_hist_native_ordinal__max_leaf_nodes': (3, 10,\n",
       "                                                                       30)})"
      ]
     },
     "execution_count": 69,
     "metadata": {},
     "output_type": "execute_result"
    }
   ],
   "source": [
    "param_grid = {\n",
    "    'model_hist_native_ordinal__learning_rate': (0.01, 0.1, 1, 10),\n",
    "    'model_hist_native_ordinal__max_leaf_nodes': (3, 10, 30),\n",
    "}\n",
    "model_grid_search = GridSearchCV(\n",
    "    hist_native_ordinal, param_grid=param_grid, n_jobs=2, cv=2\n",
    ")\n",
    "model_grid_search.fit(X, y)"
   ]
  },
  {
   "cell_type": "markdown",
   "id": "bf60b3e3",
   "metadata": {},
   "source": [
    "when calling the fit method, the model embedded in the grid-search is trained with every possible combination of parameters resulting from the parameter grid. The best combination is selected by keeping the combination leading to the best mean cross-validated score."
   ]
  },
  {
   "cell_type": "code",
   "execution_count": 70,
   "id": "b3f2e553",
   "metadata": {},
   "outputs": [
    {
     "data": {
      "text/html": [
       "<div>\n",
       "<style scoped>\n",
       "    .dataframe tbody tr th:only-of-type {\n",
       "        vertical-align: middle;\n",
       "    }\n",
       "\n",
       "    .dataframe tbody tr th {\n",
       "        vertical-align: top;\n",
       "    }\n",
       "\n",
       "    .dataframe thead th {\n",
       "        text-align: right;\n",
       "    }\n",
       "</style>\n",
       "<table border=\"1\" class=\"dataframe\">\n",
       "  <thead>\n",
       "    <tr style=\"text-align: right;\">\n",
       "      <th></th>\n",
       "      <th>fit_time</th>\n",
       "      <th>score_time</th>\n",
       "      <th>test_score</th>\n",
       "    </tr>\n",
       "  </thead>\n",
       "  <tbody>\n",
       "    <tr>\n",
       "      <th>0</th>\n",
       "      <td>66.706778</td>\n",
       "      <td>7.134530</td>\n",
       "      <td>0.624397</td>\n",
       "    </tr>\n",
       "    <tr>\n",
       "      <th>1</th>\n",
       "      <td>68.394492</td>\n",
       "      <td>6.086934</td>\n",
       "      <td>0.636793</td>\n",
       "    </tr>\n",
       "    <tr>\n",
       "      <th>2</th>\n",
       "      <td>69.355577</td>\n",
       "      <td>5.871354</td>\n",
       "      <td>0.641973</td>\n",
       "    </tr>\n",
       "    <tr>\n",
       "      <th>3</th>\n",
       "      <td>68.688383</td>\n",
       "      <td>6.225692</td>\n",
       "      <td>0.642645</td>\n",
       "    </tr>\n",
       "    <tr>\n",
       "      <th>4</th>\n",
       "      <td>70.361031</td>\n",
       "      <td>7.825100</td>\n",
       "      <td>0.614078</td>\n",
       "    </tr>\n",
       "  </tbody>\n",
       "</table>\n",
       "</div>"
      ],
      "text/plain": [
       "    fit_time  score_time  test_score\n",
       "0  66.706778    7.134530    0.624397\n",
       "1  68.394492    6.086934    0.636793\n",
       "2  69.355577    5.871354    0.641973\n",
       "3  68.688383    6.225692    0.642645\n",
       "4  70.361031    7.825100    0.614078"
      ]
     },
     "execution_count": 70,
     "metadata": {},
     "output_type": "execute_result"
    }
   ],
   "source": [
    "cv_results.head()"
   ]
  },
  {
   "cell_type": "code",
   "execution_count": 71,
   "id": "ee68d04d",
   "metadata": {},
   "outputs": [
    {
     "data": {
      "text/html": [
       "<div>\n",
       "<style scoped>\n",
       "    .dataframe tbody tr th:only-of-type {\n",
       "        vertical-align: middle;\n",
       "    }\n",
       "\n",
       "    .dataframe tbody tr th {\n",
       "        vertical-align: top;\n",
       "    }\n",
       "\n",
       "    .dataframe thead th {\n",
       "        text-align: right;\n",
       "    }\n",
       "</style>\n",
       "<table border=\"1\" class=\"dataframe\">\n",
       "  <thead>\n",
       "    <tr style=\"text-align: right;\">\n",
       "      <th></th>\n",
       "      <th>param_model_hist_native_ordinal__learning_rate</th>\n",
       "      <th>param_model_hist_native_ordinal__max_leaf_nodes</th>\n",
       "      <th>mean_test_score</th>\n",
       "      <th>std_test_score</th>\n",
       "      <th>rank_test_score</th>\n",
       "    </tr>\n",
       "  </thead>\n",
       "  <tbody>\n",
       "    <tr>\n",
       "      <th>0</th>\n",
       "      <td>0.01</td>\n",
       "      <td>3</td>\n",
       "      <td>0.552308</td>\n",
       "      <td>0.011633</td>\n",
       "      <td>9</td>\n",
       "    </tr>\n",
       "    <tr>\n",
       "      <th>1</th>\n",
       "      <td>0.01</td>\n",
       "      <td>10</td>\n",
       "      <td>0.609488</td>\n",
       "      <td>0.001465</td>\n",
       "      <td>6</td>\n",
       "    </tr>\n",
       "    <tr>\n",
       "      <th>2</th>\n",
       "      <td>0.01</td>\n",
       "      <td>30</td>\n",
       "      <td>0.630224</td>\n",
       "      <td>0.004158</td>\n",
       "      <td>3</td>\n",
       "    </tr>\n",
       "    <tr>\n",
       "      <th>3</th>\n",
       "      <td>0.1</td>\n",
       "      <td>3</td>\n",
       "      <td>0.621113</td>\n",
       "      <td>0.003357</td>\n",
       "      <td>4</td>\n",
       "    </tr>\n",
       "    <tr>\n",
       "      <th>4</th>\n",
       "      <td>0.1</td>\n",
       "      <td>10</td>\n",
       "      <td>0.644924</td>\n",
       "      <td>0.005062</td>\n",
       "      <td>2</td>\n",
       "    </tr>\n",
       "    <tr>\n",
       "      <th>5</th>\n",
       "      <td>0.1</td>\n",
       "      <td>30</td>\n",
       "      <td>0.649007</td>\n",
       "      <td>0.006131</td>\n",
       "      <td>1</td>\n",
       "    </tr>\n",
       "    <tr>\n",
       "      <th>6</th>\n",
       "      <td>1</td>\n",
       "      <td>3</td>\n",
       "      <td>0.569762</td>\n",
       "      <td>0.007808</td>\n",
       "      <td>8</td>\n",
       "    </tr>\n",
       "    <tr>\n",
       "      <th>7</th>\n",
       "      <td>1</td>\n",
       "      <td>10</td>\n",
       "      <td>0.599144</td>\n",
       "      <td>0.027271</td>\n",
       "      <td>7</td>\n",
       "    </tr>\n",
       "    <tr>\n",
       "      <th>8</th>\n",
       "      <td>1</td>\n",
       "      <td>30</td>\n",
       "      <td>0.616651</td>\n",
       "      <td>0.009223</td>\n",
       "      <td>5</td>\n",
       "    </tr>\n",
       "    <tr>\n",
       "      <th>9</th>\n",
       "      <td>10</td>\n",
       "      <td>3</td>\n",
       "      <td>0.390704</td>\n",
       "      <td>0.118861</td>\n",
       "      <td>10</td>\n",
       "    </tr>\n",
       "    <tr>\n",
       "      <th>10</th>\n",
       "      <td>10</td>\n",
       "      <td>10</td>\n",
       "      <td>0.283638</td>\n",
       "      <td>0.114491</td>\n",
       "      <td>12</td>\n",
       "    </tr>\n",
       "    <tr>\n",
       "      <th>11</th>\n",
       "      <td>10</td>\n",
       "      <td>30</td>\n",
       "      <td>0.289304</td>\n",
       "      <td>0.207616</td>\n",
       "      <td>11</td>\n",
       "    </tr>\n",
       "  </tbody>\n",
       "</table>\n",
       "</div>"
      ],
      "text/plain": [
       "   param_model_hist_native_ordinal__learning_rate  \\\n",
       "0                                            0.01   \n",
       "1                                            0.01   \n",
       "2                                            0.01   \n",
       "3                                             0.1   \n",
       "4                                             0.1   \n",
       "5                                             0.1   \n",
       "6                                               1   \n",
       "7                                               1   \n",
       "8                                               1   \n",
       "9                                              10   \n",
       "10                                             10   \n",
       "11                                             10   \n",
       "\n",
       "   param_model_hist_native_ordinal__max_leaf_nodes  mean_test_score  \\\n",
       "0                                                3         0.552308   \n",
       "1                                               10         0.609488   \n",
       "2                                               30         0.630224   \n",
       "3                                                3         0.621113   \n",
       "4                                               10         0.644924   \n",
       "5                                               30         0.649007   \n",
       "6                                                3         0.569762   \n",
       "7                                               10         0.599144   \n",
       "8                                               30         0.616651   \n",
       "9                                                3         0.390704   \n",
       "10                                              10         0.283638   \n",
       "11                                              30         0.289304   \n",
       "\n",
       "    std_test_score  rank_test_score  \n",
       "0         0.011633                9  \n",
       "1         0.001465                6  \n",
       "2         0.004158                3  \n",
       "3         0.003357                4  \n",
       "4         0.005062                2  \n",
       "5         0.006131                1  \n",
       "6         0.007808                8  \n",
       "7         0.027271                7  \n",
       "8         0.009223                5  \n",
       "9         0.118861               10  \n",
       "10        0.114491               12  \n",
       "11        0.207616               11  "
      ]
     },
     "execution_count": 71,
     "metadata": {},
     "output_type": "execute_result"
    }
   ],
   "source": [
    "cv_results = pd.DataFrame(model_grid_search.cv_results_)\n",
    "cv_results[[\n",
    "    \"param_model_hist_native_ordinal__learning_rate\",\n",
    "    \"param_model_hist_native_ordinal__max_leaf_nodes\",\n",
    "    \"mean_test_score\",\n",
    "    \"std_test_score\",\n",
    "    \"rank_test_score\"\n",
    "]]"
   ]
  },
  {
   "cell_type": "code",
   "execution_count": 72,
   "id": "0986351f",
   "metadata": {},
   "outputs": [
    {
     "data": {
      "text/plain": [
       "{'model_hist_native_ordinal__learning_rate': 0.1,\n",
       " 'model_hist_native_ordinal__max_leaf_nodes': 30}"
      ]
     },
     "execution_count": 72,
     "metadata": {},
     "output_type": "execute_result"
    }
   ],
   "source": [
    "model_grid_search.best_params_"
   ]
  },
  {
   "cell_type": "code",
   "execution_count": 73,
   "id": "55fd00c9",
   "metadata": {},
   "outputs": [],
   "source": [
    "# Let us shorten the parameter names to remove the \"param_hist_native_ordinal__\" prefix \n",
    "# for readability:\n",
    "# get the parameter names\n",
    "column_results = [f\"param_{name}\" for name in param_grid.keys()]\n",
    "column_results += [\n",
    "    \"mean_test_score\", \"std_test_score\", \"rank_test_score\"]\n",
    "cv_results = cv_results[column_results]"
   ]
  },
  {
   "cell_type": "code",
   "execution_count": 74,
   "id": "dfb3f425",
   "metadata": {},
   "outputs": [
    {
     "data": {
      "text/html": [
       "<div>\n",
       "<style scoped>\n",
       "    .dataframe tbody tr th:only-of-type {\n",
       "        vertical-align: middle;\n",
       "    }\n",
       "\n",
       "    .dataframe tbody tr th {\n",
       "        vertical-align: top;\n",
       "    }\n",
       "\n",
       "    .dataframe thead th {\n",
       "        text-align: right;\n",
       "    }\n",
       "</style>\n",
       "<table border=\"1\" class=\"dataframe\">\n",
       "  <thead>\n",
       "    <tr style=\"text-align: right;\">\n",
       "      <th></th>\n",
       "      <th>learning_rate</th>\n",
       "      <th>max_leaf_nodes</th>\n",
       "      <th>mean_test_score</th>\n",
       "      <th>std_test_score</th>\n",
       "      <th>rank_test_score</th>\n",
       "    </tr>\n",
       "  </thead>\n",
       "  <tbody>\n",
       "    <tr>\n",
       "      <th>0</th>\n",
       "      <td>0.01</td>\n",
       "      <td>3</td>\n",
       "      <td>0.552308</td>\n",
       "      <td>0.011633</td>\n",
       "      <td>9</td>\n",
       "    </tr>\n",
       "    <tr>\n",
       "      <th>1</th>\n",
       "      <td>0.01</td>\n",
       "      <td>10</td>\n",
       "      <td>0.609488</td>\n",
       "      <td>0.001465</td>\n",
       "      <td>6</td>\n",
       "    </tr>\n",
       "    <tr>\n",
       "      <th>2</th>\n",
       "      <td>0.01</td>\n",
       "      <td>30</td>\n",
       "      <td>0.630224</td>\n",
       "      <td>0.004158</td>\n",
       "      <td>3</td>\n",
       "    </tr>\n",
       "    <tr>\n",
       "      <th>3</th>\n",
       "      <td>0.1</td>\n",
       "      <td>3</td>\n",
       "      <td>0.621113</td>\n",
       "      <td>0.003357</td>\n",
       "      <td>4</td>\n",
       "    </tr>\n",
       "    <tr>\n",
       "      <th>4</th>\n",
       "      <td>0.1</td>\n",
       "      <td>10</td>\n",
       "      <td>0.644924</td>\n",
       "      <td>0.005062</td>\n",
       "      <td>2</td>\n",
       "    </tr>\n",
       "    <tr>\n",
       "      <th>5</th>\n",
       "      <td>0.1</td>\n",
       "      <td>30</td>\n",
       "      <td>0.649007</td>\n",
       "      <td>0.006131</td>\n",
       "      <td>1</td>\n",
       "    </tr>\n",
       "    <tr>\n",
       "      <th>6</th>\n",
       "      <td>1</td>\n",
       "      <td>3</td>\n",
       "      <td>0.569762</td>\n",
       "      <td>0.007808</td>\n",
       "      <td>8</td>\n",
       "    </tr>\n",
       "    <tr>\n",
       "      <th>7</th>\n",
       "      <td>1</td>\n",
       "      <td>10</td>\n",
       "      <td>0.599144</td>\n",
       "      <td>0.027271</td>\n",
       "      <td>7</td>\n",
       "    </tr>\n",
       "    <tr>\n",
       "      <th>8</th>\n",
       "      <td>1</td>\n",
       "      <td>30</td>\n",
       "      <td>0.616651</td>\n",
       "      <td>0.009223</td>\n",
       "      <td>5</td>\n",
       "    </tr>\n",
       "    <tr>\n",
       "      <th>9</th>\n",
       "      <td>10</td>\n",
       "      <td>3</td>\n",
       "      <td>0.390704</td>\n",
       "      <td>0.118861</td>\n",
       "      <td>10</td>\n",
       "    </tr>\n",
       "    <tr>\n",
       "      <th>10</th>\n",
       "      <td>10</td>\n",
       "      <td>10</td>\n",
       "      <td>0.283638</td>\n",
       "      <td>0.114491</td>\n",
       "      <td>12</td>\n",
       "    </tr>\n",
       "    <tr>\n",
       "      <th>11</th>\n",
       "      <td>10</td>\n",
       "      <td>30</td>\n",
       "      <td>0.289304</td>\n",
       "      <td>0.207616</td>\n",
       "      <td>11</td>\n",
       "    </tr>\n",
       "  </tbody>\n",
       "</table>\n",
       "</div>"
      ],
      "text/plain": [
       "   learning_rate max_leaf_nodes  mean_test_score  std_test_score  \\\n",
       "0           0.01              3         0.552308        0.011633   \n",
       "1           0.01             10         0.609488        0.001465   \n",
       "2           0.01             30         0.630224        0.004158   \n",
       "3            0.1              3         0.621113        0.003357   \n",
       "4            0.1             10         0.644924        0.005062   \n",
       "5            0.1             30         0.649007        0.006131   \n",
       "6              1              3         0.569762        0.007808   \n",
       "7              1             10         0.599144        0.027271   \n",
       "8              1             30         0.616651        0.009223   \n",
       "9             10              3         0.390704        0.118861   \n",
       "10            10             10         0.283638        0.114491   \n",
       "11            10             30         0.289304        0.207616   \n",
       "\n",
       "    rank_test_score  \n",
       "0                 9  \n",
       "1                 6  \n",
       "2                 3  \n",
       "3                 4  \n",
       "4                 2  \n",
       "5                 1  \n",
       "6                 8  \n",
       "7                 7  \n",
       "8                 5  \n",
       "9                10  \n",
       "10               12  \n",
       "11               11  "
      ]
     },
     "execution_count": 74,
     "metadata": {},
     "output_type": "execute_result"
    }
   ],
   "source": [
    "def shorten_param(param_name):\n",
    "    if \"__\" in param_name:\n",
    "        return param_name.rsplit(\"__\", 1)[1]\n",
    "    return param_name\n",
    "\n",
    "\n",
    "cv_results = cv_results.rename(shorten_param, axis=1)\n",
    "cv_results"
   ]
  },
  {
   "cell_type": "markdown",
   "id": "981420a1",
   "metadata": {},
   "source": [
    "want to visualize the grid-search as a heatmap. We need to transform our cv_results into a dataframe where:\n",
    "\n",
    "the rows will correspond to the learning-rate values;\n",
    "the columns will correspond to the maximum number of leaf;\n",
    "the content of the dataframe will be the mean test scores."
   ]
  },
  {
   "cell_type": "code",
   "execution_count": 75,
   "id": "d17b5227",
   "metadata": {},
   "outputs": [
    {
     "data": {
      "text/html": [
       "<div>\n",
       "<style scoped>\n",
       "    .dataframe tbody tr th:only-of-type {\n",
       "        vertical-align: middle;\n",
       "    }\n",
       "\n",
       "    .dataframe tbody tr th {\n",
       "        vertical-align: top;\n",
       "    }\n",
       "\n",
       "    .dataframe thead th {\n",
       "        text-align: right;\n",
       "    }\n",
       "</style>\n",
       "<table border=\"1\" class=\"dataframe\">\n",
       "  <thead>\n",
       "    <tr style=\"text-align: right;\">\n",
       "      <th>max_leaf_nodes</th>\n",
       "      <th>3</th>\n",
       "      <th>10</th>\n",
       "      <th>30</th>\n",
       "    </tr>\n",
       "    <tr>\n",
       "      <th>learning_rate</th>\n",
       "      <th></th>\n",
       "      <th></th>\n",
       "      <th></th>\n",
       "    </tr>\n",
       "  </thead>\n",
       "  <tbody>\n",
       "    <tr>\n",
       "      <th>0.01</th>\n",
       "      <td>0.552308</td>\n",
       "      <td>0.609488</td>\n",
       "      <td>0.630224</td>\n",
       "    </tr>\n",
       "    <tr>\n",
       "      <th>0.10</th>\n",
       "      <td>0.621113</td>\n",
       "      <td>0.644924</td>\n",
       "      <td>0.649007</td>\n",
       "    </tr>\n",
       "    <tr>\n",
       "      <th>1.00</th>\n",
       "      <td>0.569762</td>\n",
       "      <td>0.599144</td>\n",
       "      <td>0.616651</td>\n",
       "    </tr>\n",
       "    <tr>\n",
       "      <th>10.00</th>\n",
       "      <td>0.390704</td>\n",
       "      <td>0.283638</td>\n",
       "      <td>0.289304</td>\n",
       "    </tr>\n",
       "  </tbody>\n",
       "</table>\n",
       "</div>"
      ],
      "text/plain": [
       "max_leaf_nodes        3         10        30\n",
       "learning_rate                               \n",
       "0.01            0.552308  0.609488  0.630224\n",
       "0.10            0.621113  0.644924  0.649007\n",
       "1.00            0.569762  0.599144  0.616651\n",
       "10.00           0.390704  0.283638  0.289304"
      ]
     },
     "execution_count": 75,
     "metadata": {},
     "output_type": "execute_result"
    }
   ],
   "source": [
    "pivoted_cv_results = cv_results.pivot_table(\n",
    "    values=\"mean_test_score\", index=[\"learning_rate\"],\n",
    "    columns=[\"max_leaf_nodes\"])\n",
    "\n",
    "pivoted_cv_results"
   ]
  },
  {
   "cell_type": "code",
   "execution_count": 76,
   "id": "4f6b609f",
   "metadata": {},
   "outputs": [
    {
     "data": {
      "image/png": "[encoded data removed]",
      "text/plain": [
       "<Figure size 640x480 with 2 Axes>"
      ]
     },
     "metadata": {},
     "output_type": "display_data"
    }
   ],
   "source": [
    "# We can use a heatmap representation to show the above dataframe visually.\n",
    "\n",
    "ax = sns.heatmap(pivoted_cv_results, annot=True, cmap=\"YlGnBu\", vmin=0.7,\n",
    "                 vmax=0.9)\n",
    "ax.invert_yaxis()"
   ]
  },
  {
   "cell_type": "code",
   "execution_count": 77,
   "id": "0cafd59b",
   "metadata": {},
   "outputs": [
    {
     "name": "stderr",
     "output_type": "stream",
     "text": [
      "100%|██████████████████████████████████████| 50/50 [98:29:20<00:00, 7091.21s/it]\n"
     ]
    }
   ],
   "source": [
    "param_grid = {\n",
    "    'model_hist_native_ordinal__learning_rate': (0.001, 0.01, 0.1, 1, 5),\n",
    "    'model_hist_native_ordinal__max_leaf_nodes': (30, 40, 50),\n",
    "}\n",
    "for i in tqdm.tqdm(range(50)):\n",
    "    model_grid_search = GridSearchCV(hist_native_ordinal, param_grid=param_grid, n_jobs=2, cv=2)\n",
    "    model_grid_search.fit(X, y)"
   ]
  },
  {
   "cell_type": "code",
   "execution_count": 78,
   "id": "9ae76436",
   "metadata": {},
   "outputs": [
    {
     "data": {
      "text/plain": [
       "{'model_hist_native_ordinal__learning_rate': 0.1,\n",
       " 'model_hist_native_ordinal__max_leaf_nodes': 50}"
      ]
     },
     "execution_count": 78,
     "metadata": {},
     "output_type": "execute_result"
    }
   ],
   "source": [
    "model_grid_search.best_params_"
   ]
  },
  {
   "cell_type": "code",
   "execution_count": 79,
   "id": "5514813f",
   "metadata": {},
   "outputs": [
    {
     "data": {
      "text/html": [
       "<div>\n",
       "<style scoped>\n",
       "    .dataframe tbody tr th:only-of-type {\n",
       "        vertical-align: middle;\n",
       "    }\n",
       "\n",
       "    .dataframe tbody tr th {\n",
       "        vertical-align: top;\n",
       "    }\n",
       "\n",
       "    .dataframe thead th {\n",
       "        text-align: right;\n",
       "    }\n",
       "</style>\n",
       "<table border=\"1\" class=\"dataframe\">\n",
       "  <thead>\n",
       "    <tr style=\"text-align: right;\">\n",
       "      <th></th>\n",
       "      <th>learning_rate</th>\n",
       "      <th>max_leaf_nodes</th>\n",
       "      <th>mean_test_score</th>\n",
       "      <th>std_test_score</th>\n",
       "      <th>rank_test_score</th>\n",
       "    </tr>\n",
       "  </thead>\n",
       "  <tbody>\n",
       "    <tr>\n",
       "      <th>0</th>\n",
       "      <td>0.001</td>\n",
       "      <td>30</td>\n",
       "      <td>0.562619</td>\n",
       "      <td>0.000612</td>\n",
       "      <td>12</td>\n",
       "    </tr>\n",
       "    <tr>\n",
       "      <th>1</th>\n",
       "      <td>0.001</td>\n",
       "      <td>40</td>\n",
       "      <td>0.564865</td>\n",
       "      <td>0.001062</td>\n",
       "      <td>11</td>\n",
       "    </tr>\n",
       "    <tr>\n",
       "      <th>2</th>\n",
       "      <td>0.001</td>\n",
       "      <td>50</td>\n",
       "      <td>0.567022</td>\n",
       "      <td>0.000537</td>\n",
       "      <td>10</td>\n",
       "    </tr>\n",
       "    <tr>\n",
       "      <th>3</th>\n",
       "      <td>0.01</td>\n",
       "      <td>30</td>\n",
       "      <td>0.630224</td>\n",
       "      <td>0.004158</td>\n",
       "      <td>6</td>\n",
       "    </tr>\n",
       "    <tr>\n",
       "      <th>4</th>\n",
       "      <td>0.01</td>\n",
       "      <td>40</td>\n",
       "      <td>0.633262</td>\n",
       "      <td>0.003083</td>\n",
       "      <td>5</td>\n",
       "    </tr>\n",
       "    <tr>\n",
       "      <th>5</th>\n",
       "      <td>0.01</td>\n",
       "      <td>50</td>\n",
       "      <td>0.635281</td>\n",
       "      <td>0.002823</td>\n",
       "      <td>4</td>\n",
       "    </tr>\n",
       "    <tr>\n",
       "      <th>6</th>\n",
       "      <td>0.1</td>\n",
       "      <td>30</td>\n",
       "      <td>0.649007</td>\n",
       "      <td>0.006131</td>\n",
       "      <td>3</td>\n",
       "    </tr>\n",
       "    <tr>\n",
       "      <th>7</th>\n",
       "      <td>0.1</td>\n",
       "      <td>40</td>\n",
       "      <td>0.649364</td>\n",
       "      <td>0.006938</td>\n",
       "      <td>2</td>\n",
       "    </tr>\n",
       "    <tr>\n",
       "      <th>8</th>\n",
       "      <td>0.1</td>\n",
       "      <td>50</td>\n",
       "      <td>0.649421</td>\n",
       "      <td>0.007245</td>\n",
       "      <td>1</td>\n",
       "    </tr>\n",
       "    <tr>\n",
       "      <th>9</th>\n",
       "      <td>1</td>\n",
       "      <td>30</td>\n",
       "      <td>0.616651</td>\n",
       "      <td>0.009223</td>\n",
       "      <td>9</td>\n",
       "    </tr>\n",
       "    <tr>\n",
       "      <th>10</th>\n",
       "      <td>1</td>\n",
       "      <td>40</td>\n",
       "      <td>0.617397</td>\n",
       "      <td>0.011147</td>\n",
       "      <td>8</td>\n",
       "    </tr>\n",
       "    <tr>\n",
       "      <th>11</th>\n",
       "      <td>1</td>\n",
       "      <td>50</td>\n",
       "      <td>0.622040</td>\n",
       "      <td>0.008861</td>\n",
       "      <td>7</td>\n",
       "    </tr>\n",
       "    <tr>\n",
       "      <th>12</th>\n",
       "      <td>5</td>\n",
       "      <td>30</td>\n",
       "      <td>0.445422</td>\n",
       "      <td>0.018835</td>\n",
       "      <td>13</td>\n",
       "    </tr>\n",
       "    <tr>\n",
       "      <th>13</th>\n",
       "      <td>5</td>\n",
       "      <td>40</td>\n",
       "      <td>0.351889</td>\n",
       "      <td>0.007839</td>\n",
       "      <td>15</td>\n",
       "    </tr>\n",
       "    <tr>\n",
       "      <th>14</th>\n",
       "      <td>5</td>\n",
       "      <td>50</td>\n",
       "      <td>0.440150</td>\n",
       "      <td>0.012687</td>\n",
       "      <td>14</td>\n",
       "    </tr>\n",
       "  </tbody>\n",
       "</table>\n",
       "</div>"
      ],
      "text/plain": [
       "   learning_rate max_leaf_nodes  mean_test_score  std_test_score  \\\n",
       "0          0.001             30         0.562619        0.000612   \n",
       "1          0.001             40         0.564865        0.001062   \n",
       "2          0.001             50         0.567022        0.000537   \n",
       "3           0.01             30         0.630224        0.004158   \n",
       "4           0.01             40         0.633262        0.003083   \n",
       "5           0.01             50         0.635281        0.002823   \n",
       "6            0.1             30         0.649007        0.006131   \n",
       "7            0.1             40         0.649364        0.006938   \n",
       "8            0.1             50         0.649421        0.007245   \n",
       "9              1             30         0.616651        0.009223   \n",
       "10             1             40         0.617397        0.011147   \n",
       "11             1             50         0.622040        0.008861   \n",
       "12             5             30         0.445422        0.018835   \n",
       "13             5             40         0.351889        0.007839   \n",
       "14             5             50         0.440150        0.012687   \n",
       "\n",
       "    rank_test_score  \n",
       "0                12  \n",
       "1                11  \n",
       "2                10  \n",
       "3                 6  \n",
       "4                 5  \n",
       "5                 4  \n",
       "6                 3  \n",
       "7                 2  \n",
       "8                 1  \n",
       "9                 9  \n",
       "10                8  \n",
       "11                7  \n",
       "12               13  \n",
       "13               15  \n",
       "14               14  "
      ]
     },
     "execution_count": 79,
     "metadata": {},
     "output_type": "execute_result"
    }
   ],
   "source": [
    "cv_results = pd.DataFrame(model_grid_search.cv_results_)\n",
    "cv_results = cv_results[column_results]\n",
    "cv_results = cv_results.rename(shorten_param, axis=1)\n",
    "cv_results"
   ]
  },
  {
   "cell_type": "code",
   "execution_count": null,
   "id": "0c3d5d94",
   "metadata": {},
   "outputs": [
    {
     "name": "stderr",
     "output_type": "stream",
     "text": [
      " 20%|██████▌                          | 10/50 [29:20:10<157:35:07, 14182.69s/it]"
     ]
    }
   ],
   "source": [
    "param_grid = {\n",
    "    'model_hist_native_ordinal__learning_rate': (0.1, 0.5),\n",
    "    'model_hist_native_ordinal__max_leaf_nodes': (50, 60, 70),\n",
    "}\n",
    "model_grid_search = GridSearchCV(\n",
    "        hist_native_ordinal, param_grid=param_grid, n_jobs=2, cv=2\n",
    "    )\n",
    "for i in tqdm.tqdm(range(50)):    \n",
    "    model_grid_search.fit(X, y)"
   ]
  },
  {
   "cell_type": "code",
   "execution_count": null,
   "id": "197bb894",
   "metadata": {},
   "outputs": [],
   "source": [
    "model_grid_search.best_params_"
   ]
  },
  {
   "cell_type": "markdown",
   "id": "d20ddd0f",
   "metadata": {},
   "source": [
    "the mean and standard deviation of the scores computed by the cross-validation in the grid-search are potentially not good estimates of the generalization performance we would obtain by refitting a model with the best combination of hyper-parameter values on the full dataset. Note that scikit-learn automatically performs this refit by default when calling model_grid_search.fit. This refitted model is trained with more data than the different models trained internally during the cross-validation of the grid-search."
   ]
  },
  {
   "cell_type": "code",
   "execution_count": 80,
   "id": "e89864f2",
   "metadata": {},
   "outputs": [
    {
     "name": "stdout",
     "output_type": "stream",
     "text": [
      "Accuracy on test set: 0.661\n"
     ]
    }
   ],
   "source": [
    "data_train, data_test, target_train, target_test = train_test_split(\n",
    "    X, y, test_size=0.2, random_state=42\n",
    ")\n",
    "\n",
    "model_grid_search.fit(data_train, target_train)\n",
    "accuracy = model_grid_search.score(data_test, target_test)\n",
    "print(f\"Accuracy on test set: {accuracy:.3f}\")"
   ]
  },
  {
   "cell_type": "code",
   "execution_count": null,
   "id": "3f275825",
   "metadata": {},
   "outputs": [],
   "source": []
  },
  {
   "cell_type": "markdown",
   "id": "c81dca60",
   "metadata": {},
   "source": [
    "##### Evaluation With hyperparameter tuning by randomized-search\n",
    "With the GridSearchCV estimator, the parameters need to be specified explicitly. We already mentioned that exploring a large number of values for different parameters will be quickly untractable.\n",
    "\n",
    "Instead, we can randomly generate the parameter candidates. Indeed, such approach avoids the regularity of the grid. Hence, adding more evaluations can increase the resolution in each direction. This is the case in the frequent situation where the choice of some hyperparameters is not very important, as for hyperparameter 2 in the figure below.\n",
    "\n",
    "Random search (with RandomizedSearchCV) is typically beneficial compared to grid search (with GridSearchCV) to optimize 3 or more hyperparameters.\n",
    "\n",
    "We will optimize 3 other parameters in addition to the ones we optimized in the notebook presenting the GridSearchCV:\n",
    "\n",
    "l2_regularization: it corresponds to the strength of the regularization;\n",
    "min_samples_leaf: it corresponds to the minimum number of samples required in a leaf;\n",
    "max_bins: it corresponds to the maximum number of bins to construct the histograms.\n",
    "\n",
    "We recall the meaning of the 2 remaining parameters:\n",
    "\n",
    "learning_rate: it corresponds to the speed at which the gradient-boosting will correct the residuals at each boosting iteration;\n",
    "max_leaf_nodes: it corresponds to the maximum number of leaves for each tree in the ensemble."
   ]
  },
  {
   "cell_type": "code",
   "execution_count": 81,
   "id": "c4c4877e",
   "metadata": {},
   "outputs": [],
   "source": [
    "# scipy.stats.loguniform can be used to generate floating numbers. \n",
    "# To generate random values for integer-valued parameters (e.g. min_samples_leaf) \n",
    "# we can adapt is as follows:\n",
    "from scipy.stats import loguniform\n",
    "\n",
    "\n",
    "class loguniform_int:\n",
    "    \"\"\"Integer valued version of the log-uniform distribution\"\"\"\n",
    "    def __init__(self, a, b):\n",
    "        self._distribution = loguniform(a, b)\n",
    "\n",
    "    def rvs(self, *args, **kwargs):\n",
    "        \"\"\"Random variable sample\"\"\"\n",
    "        return self._distribution.rvs(*args, **kwargs).astype(int)"
   ]
  },
  {
   "cell_type": "markdown",
   "id": "92ff29b8",
   "metadata": {},
   "source": [
    "Now, we can define the randomized search using the different distributions. Executing 10 iterations of 5-fold cross-validation for random parametrizations of this model on this dataset can take from 10 seconds to several minutes, depending on the speed of the host computer and the number of available processors."
   ]
  },
  {
   "cell_type": "code",
   "execution_count": null,
   "id": "ad65a4c6",
   "metadata": {},
   "outputs": [
    {
     "name": "stderr",
     "output_type": "stream",
     "text": [
      "\r",
      "  0%|                                                    | 0/50 [00:00<?, ?it/s]"
     ]
    },
    {
     "name": "stdout",
     "output_type": "stream",
     "text": [
      "Fitting 5 folds for each of 10 candidates, totalling 50 fits\n"
     ]
    },
    {
     "name": "stderr",
     "output_type": "stream",
     "text": [
      "\r",
      "  2%|▋                                  | 1/50 [6:58:09<341:30:03, 25089.87s/it]"
     ]
    },
    {
     "name": "stdout",
     "output_type": "stream",
     "text": [
      "Fitting 5 folds for each of 10 candidates, totalling 50 fits\n"
     ]
    },
    {
     "name": "stderr",
     "output_type": "stream",
     "text": [
      "\r",
      "  4%|█▎                                | 2/50 [11:06:13<254:28:51, 19086.08s/it]"
     ]
    },
    {
     "name": "stdout",
     "output_type": "stream",
     "text": [
      "Fitting 5 folds for each of 10 candidates, totalling 50 fits\n"
     ]
    },
    {
     "name": "stderr",
     "output_type": "stream",
     "text": [
      "\r",
      "  6%|██                                | 3/50 [14:35:52<210:23:14, 16114.78s/it]"
     ]
    },
    {
     "name": "stdout",
     "output_type": "stream",
     "text": [
      "Fitting 5 folds for each of 10 candidates, totalling 50 fits\n"
     ]
    },
    {
     "name": "stderr",
     "output_type": "stream",
     "text": [
      "\r",
      "  8%|██▋                               | 4/50 [18:05:25<188:02:45, 14716.64s/it]"
     ]
    },
    {
     "name": "stdout",
     "output_type": "stream",
     "text": [
      "Fitting 5 folds for each of 10 candidates, totalling 50 fits\n"
     ]
    },
    {
     "name": "stderr",
     "output_type": "stream",
     "text": [
      "\r",
      " 10%|███▍                              | 5/50 [31:34:25<336:25:09, 26913.54s/it]"
     ]
    },
    {
     "name": "stdout",
     "output_type": "stream",
     "text": [
      "Fitting 5 folds for each of 10 candidates, totalling 50 fits\n"
     ]
    },
    {
     "name": "stderr",
     "output_type": "stream",
     "text": [
      "\r",
      " 12%|████                              | 6/50 [33:08:46<240:37:41, 19687.77s/it]"
     ]
    },
    {
     "name": "stdout",
     "output_type": "stream",
     "text": [
      "Fitting 5 folds for each of 10 candidates, totalling 50 fits\n"
     ]
    },
    {
     "name": "stderr",
     "output_type": "stream",
     "text": [
      "\r",
      " 14%|████▊                             | 7/50 [39:24:24<246:17:15, 20619.42s/it]"
     ]
    },
    {
     "name": "stdout",
     "output_type": "stream",
     "text": [
      "Fitting 5 folds for each of 10 candidates, totalling 50 fits\n"
     ]
    },
    {
     "name": "stderr",
     "output_type": "stream",
     "text": [
      "\r",
      " 16%|█████▍                            | 8/50 [67:43:37<542:38:36, 46512.30s/it]"
     ]
    },
    {
     "name": "stdout",
     "output_type": "stream",
     "text": [
      "Fitting 5 folds for each of 10 candidates, totalling 50 fits\n"
     ]
    },
    {
     "name": "stderr",
     "output_type": "stream",
     "text": [
      "\r",
      " 18%|██████                            | 9/50 [83:38:27<568:05:44, 49881.57s/it]"
     ]
    },
    {
     "name": "stdout",
     "output_type": "stream",
     "text": [
      "Fitting 5 folds for each of 10 candidates, totalling 50 fits\n"
     ]
    },
    {
     "name": "stderr",
     "output_type": "stream",
     "text": [
      "\r",
      " 20%|██████▌                          | 10/50 [85:36:16<407:22:58, 36664.47s/it]"
     ]
    },
    {
     "name": "stdout",
     "output_type": "stream",
     "text": [
      "Fitting 5 folds for each of 10 candidates, totalling 50 fits\n"
     ]
    },
    {
     "name": "stderr",
     "output_type": "stream",
     "text": [
      "\r",
      " 22%|███████                         | 11/50 [135:19:28<869:05:40, 80224.11s/it]"
     ]
    },
    {
     "name": "stdout",
     "output_type": "stream",
     "text": [
      "Fitting 5 folds for each of 10 candidates, totalling 50 fits\n"
     ]
    },
    {
     "name": "stderr",
     "output_type": "stream",
     "text": [
      "\r",
      " 24%|███████▋                        | 12/50 [158:39:40<858:58:24, 81376.44s/it]"
     ]
    },
    {
     "name": "stdout",
     "output_type": "stream",
     "text": [
      "Fitting 5 folds for each of 10 candidates, totalling 50 fits\n"
     ]
    },
    {
     "name": "stderr",
     "output_type": "stream",
     "text": [
      "\r",
      " 26%|████████▎                       | 13/50 [186:29:47<894:59:48, 87080.78s/it]"
     ]
    },
    {
     "name": "stdout",
     "output_type": "stream",
     "text": [
      "Fitting 5 folds for each of 10 candidates, totalling 50 fits\n"
     ]
    },
    {
     "name": "stderr",
     "output_type": "stream",
     "text": [
      "\r",
      " 28%|████████▉                       | 14/50 [209:39:58<859:43:27, 85972.42s/it]"
     ]
    },
    {
     "name": "stdout",
     "output_type": "stream",
     "text": [
      "Fitting 5 folds for each of 10 candidates, totalling 50 fits\n"
     ]
    },
    {
     "name": "stderr",
     "output_type": "stream",
     "text": [
      "\r",
      " 30%|█████████▌                      | 15/50 [211:19:20<601:21:55, 61854.72s/it]"
     ]
    },
    {
     "name": "stdout",
     "output_type": "stream",
     "text": [
      "Fitting 5 folds for each of 10 candidates, totalling 50 fits\n"
     ]
    },
    {
     "name": "stderr",
     "output_type": "stream",
     "text": [
      "\r",
      " 32%|██████████▏                     | 16/50 [225:54:05<557:32:51, 59034.46s/it]"
     ]
    },
    {
     "name": "stdout",
     "output_type": "stream",
     "text": [
      "Fitting 5 folds for each of 10 candidates, totalling 50 fits\n"
     ]
    },
    {
     "name": "stderr",
     "output_type": "stream",
     "text": [
      "\r",
      " 34%|██████████▉                     | 17/50 [227:30:53<394:25:59, 43029.06s/it]"
     ]
    },
    {
     "name": "stdout",
     "output_type": "stream",
     "text": [
      "Fitting 5 folds for each of 10 candidates, totalling 50 fits\n"
     ]
    },
    {
     "name": "stderr",
     "output_type": "stream",
     "text": [
      "\r",
      " 36%|███████████▌                    | 18/50 [230:42:35<298:16:20, 33555.65s/it]"
     ]
    },
    {
     "name": "stdout",
     "output_type": "stream",
     "text": [
      "Fitting 5 folds for each of 10 candidates, totalling 50 fits\n"
     ]
    },
    {
     "name": "stderr",
     "output_type": "stream",
     "text": [
      "\r",
      " 38%|████████████▏                   | 19/50 [248:39:33<369:17:17, 42885.10s/it]"
     ]
    },
    {
     "name": "stdout",
     "output_type": "stream",
     "text": [
      "Fitting 5 folds for each of 10 candidates, totalling 50 fits\n"
     ]
    },
    {
     "name": "stderr",
     "output_type": "stream",
     "text": [
      "\r",
      " 40%|████████████▊                   | 20/50 [250:18:26<264:55:17, 31790.57s/it]"
     ]
    },
    {
     "name": "stdout",
     "output_type": "stream",
     "text": [
      "Fitting 5 folds for each of 10 candidates, totalling 50 fits\n"
     ]
    },
    {
     "name": "stderr",
     "output_type": "stream",
     "text": [
      "\r",
      " 42%|█████████████▍                  | 21/50 [251:58:17<193:42:25, 24046.39s/it]"
     ]
    },
    {
     "name": "stdout",
     "output_type": "stream",
     "text": [
      "Fitting 5 folds for each of 10 candidates, totalling 50 fits\n"
     ]
    },
    {
     "name": "stderr",
     "output_type": "stream",
     "text": [
      "\r",
      " 44%|██████████████                  | 22/50 [280:20:12<369:15:28, 47476.03s/it]"
     ]
    },
    {
     "name": "stdout",
     "output_type": "stream",
     "text": [
      "Fitting 5 folds for each of 10 candidates, totalling 50 fits\n"
     ]
    },
    {
     "name": "stderr",
     "output_type": "stream",
     "text": [
      "\r",
      " 46%|██████████████▋                 | 23/50 [282:01:11<262:51:25, 35047.61s/it]"
     ]
    },
    {
     "name": "stdout",
     "output_type": "stream",
     "text": [
      "Fitting 5 folds for each of 10 candidates, totalling 50 fits\n"
     ]
    },
    {
     "name": "stderr",
     "output_type": "stream",
     "text": [
      "\r",
      " 48%|███████████████▎                | 24/50 [283:42:15<190:18:37, 26350.66s/it]"
     ]
    },
    {
     "name": "stdout",
     "output_type": "stream",
     "text": [
      "Fitting 5 folds for each of 10 candidates, totalling 50 fits\n"
     ]
    },
    {
     "name": "stderr",
     "output_type": "stream",
     "text": [
      "\r",
      " 50%|████████████████                | 25/50 [303:56:25<279:52:42, 40302.52s/it]"
     ]
    },
    {
     "name": "stdout",
     "output_type": "stream",
     "text": [
      "Fitting 5 folds for each of 10 candidates, totalling 50 fits\n"
     ]
    },
    {
     "name": "stderr",
     "output_type": "stream",
     "text": [
      "\r",
      " 52%|████████████████▋               | 26/50 [305:53:36<202:07:58, 30319.95s/it]"
     ]
    },
    {
     "name": "stdout",
     "output_type": "stream",
     "text": [
      "Fitting 5 folds for each of 10 candidates, totalling 50 fits\n"
     ]
    },
    {
     "name": "stderr",
     "output_type": "stream",
     "text": [
      "\r",
      " 54%|█████████████████▎              | 27/50 [322:45:16<251:56:38, 39434.71s/it]"
     ]
    },
    {
     "name": "stdout",
     "output_type": "stream",
     "text": [
      "Fitting 5 folds for each of 10 candidates, totalling 50 fits\n"
     ]
    },
    {
     "name": "stderr",
     "output_type": "stream",
     "text": [
      "\r",
      " 56%|█████████████████▉              | 28/50 [328:55:40<209:26:05, 34271.17s/it]"
     ]
    },
    {
     "name": "stdout",
     "output_type": "stream",
     "text": [
      "Fitting 5 folds for each of 10 candidates, totalling 50 fits\n"
     ]
    },
    {
     "name": "stderr",
     "output_type": "stream",
     "text": [
      "\r",
      " 58%|██████████████████▌             | 29/50 [331:49:37<158:12:12, 27120.61s/it]"
     ]
    },
    {
     "name": "stdout",
     "output_type": "stream",
     "text": [
      "Fitting 5 folds for each of 10 candidates, totalling 50 fits\n"
     ]
    },
    {
     "name": "stderr",
     "output_type": "stream",
     "text": [
      "\r",
      " 60%|███████████████████▏            | 30/50 [336:05:17<131:02:06, 23586.35s/it]"
     ]
    },
    {
     "name": "stdout",
     "output_type": "stream",
     "text": [
      "Fitting 5 folds for each of 10 candidates, totalling 50 fits\n"
     ]
    },
    {
     "name": "stderr",
     "output_type": "stream",
     "text": [
      "\r",
      " 62%|███████████████████▊            | 31/50 [351:55:30<177:24:39, 33614.72s/it]"
     ]
    },
    {
     "name": "stdout",
     "output_type": "stream",
     "text": [
      "Fitting 5 folds for each of 10 candidates, totalling 50 fits\n"
     ]
    },
    {
     "name": "stderr",
     "output_type": "stream",
     "text": [
      "\r",
      " 64%|████████████████████▍           | 32/50 [353:42:34<127:17:11, 25457.33s/it]"
     ]
    },
    {
     "name": "stdout",
     "output_type": "stream",
     "text": [
      "Fitting 5 folds for each of 10 candidates, totalling 50 fits\n"
     ]
    },
    {
     "name": "stderr",
     "output_type": "stream",
     "text": [
      "\r",
      " 66%|█████████████████████▊           | 33/50 [355:22:29<92:38:33, 19618.44s/it]"
     ]
    },
    {
     "name": "stdout",
     "output_type": "stream",
     "text": [
      "Fitting 5 folds for each of 10 candidates, totalling 50 fits\n"
     ]
    },
    {
     "name": "stderr",
     "output_type": "stream",
     "text": [
      "\r",
      " 68%|█████████████████████▊          | 34/50 [383:03:06<193:53:07, 43624.23s/it]"
     ]
    },
    {
     "name": "stdout",
     "output_type": "stream",
     "text": [
      "Fitting 5 folds for each of 10 candidates, totalling 50 fits\n"
     ]
    },
    {
     "name": "stderr",
     "output_type": "stream",
     "text": [
      "\r",
      " 70%|██████████████████████▍         | 35/50 [446:08:49<411:10:00, 98680.04s/it]"
     ]
    },
    {
     "name": "stdout",
     "output_type": "stream",
     "text": [
      "Fitting 5 folds for each of 10 candidates, totalling 50 fits\n"
     ]
    },
    {
     "name": "stderr",
     "output_type": "stream",
     "text": [
      "\r",
      " 72%|███████████████████████         | 36/50 [451:03:55<289:17:11, 74387.95s/it]"
     ]
    },
    {
     "name": "stdout",
     "output_type": "stream",
     "text": [
      "Fitting 5 folds for each of 10 candidates, totalling 50 fits\n"
     ]
    },
    {
     "name": "stderr",
     "output_type": "stream",
     "text": [
      "\r",
      " 74%|███████████████████████▋        | 37/50 [452:41:57<194:24:29, 53836.10s/it]"
     ]
    },
    {
     "name": "stdout",
     "output_type": "stream",
     "text": [
      "Fitting 5 folds for each of 10 candidates, totalling 50 fits\n"
     ]
    },
    {
     "name": "stderr",
     "output_type": "stream",
     "text": [
      "\r",
      " 76%|████████████████████████▎       | 38/50 [454:19:11<131:27:05, 39435.42s/it]"
     ]
    },
    {
     "name": "stdout",
     "output_type": "stream",
     "text": [
      "Fitting 5 folds for each of 10 candidates, totalling 50 fits\n"
     ]
    },
    {
     "name": "stderr",
     "output_type": "stream",
     "text": [
      "\r",
      " 78%|█████████████████████████▋       | 39/50 [456:15:03<90:43:13, 29690.33s/it]"
     ]
    },
    {
     "name": "stdout",
     "output_type": "stream",
     "text": [
      "Fitting 5 folds for each of 10 candidates, totalling 50 fits\n"
     ]
    },
    {
     "name": "stderr",
     "output_type": "stream",
     "text": [
      "\r",
      " 80%|██████████████████████████▍      | 40/50 [458:00:18<62:59:37, 22677.79s/it]"
     ]
    },
    {
     "name": "stdout",
     "output_type": "stream",
     "text": [
      "Fitting 5 folds for each of 10 candidates, totalling 50 fits\n"
     ]
    },
    {
     "name": "stderr",
     "output_type": "stream",
     "text": [
      "\r",
      " 82%|███████████████████████████      | 41/50 [459:46:41<44:28:22, 17789.22s/it]"
     ]
    },
    {
     "name": "stdout",
     "output_type": "stream",
     "text": [
      "Fitting 5 folds for each of 10 candidates, totalling 50 fits\n"
     ]
    },
    {
     "name": "stderr",
     "output_type": "stream",
     "text": [
      "\r",
      " 84%|███████████████████████████▋     | 42/50 [461:37:05<32:05:18, 14439.83s/it]"
     ]
    },
    {
     "name": "stdout",
     "output_type": "stream",
     "text": [
      "Fitting 5 folds for each of 10 candidates, totalling 50 fits\n"
     ]
    },
    {
     "name": "stderr",
     "output_type": "stream",
     "text": [
      "\r",
      " 86%|████████████████████████████▍    | 43/50 [463:36:40<23:50:22, 12260.36s/it]"
     ]
    },
    {
     "name": "stdout",
     "output_type": "stream",
     "text": [
      "Fitting 5 folds for each of 10 candidates, totalling 50 fits\n"
     ]
    },
    {
     "name": "stderr",
     "output_type": "stream",
     "text": [
      "\r",
      " 88%|█████████████████████████████    | 44/50 [465:10:06<17:06:24, 10264.09s/it]"
     ]
    },
    {
     "name": "stdout",
     "output_type": "stream",
     "text": [
      "Fitting 5 folds for each of 10 candidates, totalling 50 fits\n"
     ]
    }
   ],
   "source": [
    "%%time\n",
    "from sklearn.model_selection import RandomizedSearchCV\n",
    "\n",
    "param_distributions = {\n",
    "    'model_hist_native_ordinal__l2_regularization': loguniform(1e-6, 1e3),\n",
    "    'model_hist_native_ordinal__learning_rate': loguniform(0.001, 0.5),\n",
    "    'model_hist_native_ordinal__max_leaf_nodes': loguniform_int(30, 255),\n",
    "    'model_hist_native_ordinal__min_samples_leaf': loguniform_int(1, 100),\n",
    "    'model_hist_native_ordinal__max_bins': loguniform_int(2, 255),\n",
    "}\n",
    "\n",
    "for i in tqdm.tqdm(range(50)):\n",
    "    model_random_search = RandomizedSearchCV(\n",
    "        hist_native_ordinal, param_distributions=param_distributions, n_iter=10,\n",
    "        cv=5, verbose=1,\n",
    "    )\n",
    "    model_random_search.fit(X_train, y_train)"
   ]
  },
  {
   "cell_type": "code",
   "execution_count": 72,
   "id": "f8e6bc76",
   "metadata": {},
   "outputs": [
    {
     "data": {
      "text/plain": [
       "dict_keys(['memory', 'steps', 'verbose', 'standard_scaler_preprocessor', 'model_hist_native_ordinal', 'standard_scaler_preprocessor__n_jobs', 'standard_scaler_preprocessor__remainder', 'standard_scaler_preprocessor__sparse_threshold', 'standard_scaler_preprocessor__transformer_weights', 'standard_scaler_preprocessor__transformers', 'standard_scaler_preprocessor__verbose', 'standard_scaler_preprocessor__verbose_feature_names_out', 'standard_scaler_preprocessor__ordinal_encoder', 'standard_scaler_preprocessor__standard_scaler', 'standard_scaler_preprocessor__ordinal_encoder__categories', 'standard_scaler_preprocessor__ordinal_encoder__dtype', 'standard_scaler_preprocessor__ordinal_encoder__handle_unknown', 'standard_scaler_preprocessor__ordinal_encoder__unknown_value', 'standard_scaler_preprocessor__standard_scaler__copy', 'standard_scaler_preprocessor__standard_scaler__with_mean', 'standard_scaler_preprocessor__standard_scaler__with_std', 'model_hist_native_ordinal__categorical_features', 'model_hist_native_ordinal__early_stopping', 'model_hist_native_ordinal__l2_regularization', 'model_hist_native_ordinal__learning_rate', 'model_hist_native_ordinal__loss', 'model_hist_native_ordinal__max_bins', 'model_hist_native_ordinal__max_depth', 'model_hist_native_ordinal__max_iter', 'model_hist_native_ordinal__max_leaf_nodes', 'model_hist_native_ordinal__min_samples_leaf', 'model_hist_native_ordinal__monotonic_cst', 'model_hist_native_ordinal__n_iter_no_change', 'model_hist_native_ordinal__random_state', 'model_hist_native_ordinal__scoring', 'model_hist_native_ordinal__tol', 'model_hist_native_ordinal__validation_fraction', 'model_hist_native_ordinal__verbose', 'model_hist_native_ordinal__warm_start'])"
      ]
     },
     "execution_count": 72,
     "metadata": {},
     "output_type": "execute_result"
    }
   ],
   "source": [
    "hist_native_ordinal.get_params().keys()"
   ]
  },
  {
   "cell_type": "code",
   "execution_count": null,
   "id": "d4e4f219",
   "metadata": {},
   "outputs": [],
   "source": [
    "accuracy = model_random_search.score(X_test, y_test)\n",
    "\n",
    "print(f\"The test accuracy score of the best model is \"\n",
    "      f\"{accuracy:.2f}\")"
   ]
  },
  {
   "cell_type": "code",
   "execution_count": null,
   "id": "5f88800b",
   "metadata": {},
   "outputs": [],
   "source": [
    "from pprint import pprint"
   ]
  },
  {
   "cell_type": "code",
   "execution_count": null,
   "id": "f3891a7e",
   "metadata": {},
   "outputs": [],
   "source": [
    "print(\"The best parameters are:\")\n",
    "pprint(model_random_search.best_params_)"
   ]
  },
  {
   "cell_type": "markdown",
   "id": "e09547e2",
   "metadata": {},
   "source": [
    "We can inspect the results using the attributes cv_results as we did previously"
   ]
  },
  {
   "cell_type": "code",
   "execution_count": null,
   "id": "7511d6d7",
   "metadata": {},
   "outputs": [],
   "source": [
    "# get the parameter names\n",
    "column_results = [\n",
    "    f\"param_{name}\" for name in param_distributions.keys()]\n",
    "column_results += [\n",
    "    \"mean_test_score\", \"std_test_score\", \"rank_test_score\"]\n",
    "\n",
    "cv_results = pd.DataFrame(model_random_search.cv_results_)\n",
    "cv_results = cv_results[column_results].sort_values(\n",
    "    \"mean_test_score\", ascending=False)\n",
    "\n",
    "def shorten_param(param_name):\n",
    "    if \"__\" in param_name:\n",
    "        return param_name.rsplit(\"__\", 1)[1]\n",
    "    return param_name\n",
    "\n",
    "cv_results = cv_results.rename(shorten_param, axis=1)\n",
    "cv_results"
   ]
  },
  {
   "cell_type": "code",
   "execution_count": null,
   "id": "944f2cd6",
   "metadata": {},
   "outputs": [],
   "source": []
  },
  {
   "cell_type": "markdown",
   "id": "844dfc98",
   "metadata": {},
   "source": [
    "## Plot accuracy, training and test time of each classifier\n"
   ]
  },
  {
   "cell_type": "markdown",
   "id": "4b6a7942",
   "metadata": {},
   "source": [
    "<div class=\"alert alert-block alert-info\">\n",
    "    <h2><a id=\"plot_classifiers\">Plot accuracy, training and test time of each classifier</a></h2>\n",
    "</div>\n",
    "> [!IMPORTANT]\n",
    "The scatter plots show the trade-off between the test accuracy and the training and testing time of each classifier.\n",
    "\n",
    "https://scikit-learn.org/stable/auto_examples/text/plot_document_classification_20newsgroups.html#sphx-glr-auto-examples-text-plot-document-classification-20newsgroups-py "
   ]
  },
  {
   "cell_type": "code",
   "execution_count": null,
   "id": "754eb7c2",
   "metadata": {},
   "outputs": [],
   "source": [
    "indices = np.arange(len(results))\n",
    "\n",
    "results = [[x[i] for x in results] for i in range(4)]\n",
    "\n",
    "clf_names, score, training_time, test_time = results\n",
    "training_time = np.array(training_time)\n",
    "test_time = np.array(test_time)\n",
    "\n",
    "fig, ax1 = plt.subplots(figsize=(10, 8))\n",
    "ax1.scatter(score, training_time, s=60)\n",
    "ax1.set(\n",
    "    title=\"Score-training time trade-off\",\n",
    "    yscale=\"log\",\n",
    "    xlabel=\"test accuracy\",\n",
    "    ylabel=\"training time (s)\",\n",
    ")\n",
    "fig, ax2 = plt.subplots(figsize=(10, 8))\n",
    "ax2.scatter(score, test_time, s=60)\n",
    "ax2.set(\n",
    "    title=\"Score-test time trade-off\",\n",
    "    yscale=\"log\",\n",
    "    xlabel=\"test accuracy\",\n",
    "    ylabel=\"test time (s)\",\n",
    ")\n",
    "\n",
    "for i, txt in enumerate(clf_names):\n",
    "    ax1.annotate(txt, (score[i], training_time[i]))\n",
    "    ax2.annotate(txt, (score[i], test_time[i]))"
   ]
  },
  {
   "cell_type": "markdown",
   "id": "271acefd",
   "metadata": {},
   "source": [
    "#####  manifold learning"
   ]
  },
  {
   "cell_type": "markdown",
   "id": "ef0678b8",
   "metadata": {},
   "source": [
    "   Alors que la PCA est un algorithme très puissant pour identifier les relations linéaires, nous allons aborder des approches plus qualitatives que quantitatives : manifold learning\n",
    "   Les algorithmes de manifold learning ont pour objectif d'identifier les relations entre les points de la boulette pour reconstituer la nature fondamentalement bi-dimensionnelle de la figure tri-dimensionnelle qu'est la boulette. Cette base est appelée le manifold en anglais.\n",
    "   Les algorithmes de manifold learning ont pour objectif d'identifier les relations entre les points de la boulette pour reconstituer la nature fondamentalement bi-dimensionnelle de la figure tri-dimensionnelle qu'est la boulette. Cette base est appelée le manifold en anglais. Nous allons pouvoir appliquer à nos fatures une transformation non linéaire dans un espace tri-dimensionnel"
   ]
  },
  {
   "cell_type": "markdown",
   "id": "f76637d1",
   "metadata": {},
   "source": [
    "Utilisation du jeu de données réduit sur un problème d'apprentissage \n",
    "utilisation du modèle d'apprentissage supervisé sur les données sans en réduire la dimension\n",
    "(1) Créer un classifieur Random Forest.\n",
    "(2) Entrainer le classifieur sur le jeu d'entrainement.\n",
    "(3) Estimer le score de prédiction de ce classifieur sur le jeu de test.\n",
    "Le résultat de ce modèle de classification nous servira de référence pour estimer les performances du modèle sur un jeu de données de dimension réduite\n",
    "\n",
    "appliquer la PCA sur le jeu d'entrainement et le jeu de test = utiliser lee jeu de données réduit pour effectuer des prédictions\n",
    " - (1) Préparation\n",
    "     En conservant 90% de la variance, effectuer une PCA sur le jeu d'entrainement.  il faut utiliser les méthodes fit et transform sur le jeu d'entraînement tandis qu'il faut utiliser uniquement la méthode transform sur jeu de test\n",
    "     pca = PCA(n_components = 0.9)\n",
    "     X_train_pca = pca.fit_transform(X_train)\n",
    "     X_test_pca = pca.transform(X_test)\n",
    " - (2) Apprentissage\n",
    "     Notre jeu de données est préparé et sa dimension a été réduite. Nous pouvons passer à la phase d'apprentissage.\n",
    "     * (l) Création d'un classifieur Random Forest.\n",
    "         rf = RandomForestClassifier(n_jobs = -1)\n",
    "     * (m) Entraînement du classifieur sur le jeu d'entraînement.\n",
    "         rf.fit(X_train_pca, y_train)\n",
    "     * (n) Estimation du score de prédiction de ce classifieur sur le jeu de test.\n",
    "         rf.score(X_test_pca, y_test)\n",
    " \n"
   ]
  },
  {
   "cell_type": "code",
   "execution_count": null,
   "id": "0f73fedc",
   "metadata": {},
   "outputs": [],
   "source": []
  },
  {
   "cell_type": "code",
   "execution_count": null,
   "id": "83468e8a",
   "metadata": {},
   "outputs": [],
   "source": []
  },
  {
   "cell_type": "code",
   "execution_count": null,
   "id": "93d32bce",
   "metadata": {},
   "outputs": [],
   "source": []
  },
  {
   "cell_type": "code",
   "execution_count": null,
   "id": "9da1f535",
   "metadata": {},
   "outputs": [],
   "source": []
  },
  {
   "cell_type": "markdown",
   "id": "ba6ec1d3",
   "metadata": {},
   "source": [
    "##### Bagging Classifier"
   ]
  },
  {
   "cell_type": "markdown",
   "id": "58b78e06",
   "metadata": {},
   "source": [
    "La méthode générale du Bagging consiste principalement en l'entraînement d'un modèle sur différents sous-ensembles de même taille que l'échantillon initial, par la technique de Bootstrap, c'est à dire de tirage aléatoire avec remise.\n",
    "La méthode construit donc un ensemble d'estimateurs indépendants, contrairement au Boosting, qui sont par la suite agrégés (ou baggés) en un méta-modèle, avec un vote majoritaire pour la classification, et une moyenne pour la régression.\n",
    "\n",
    "Contrairement au Boosting, choisir un grand nombre d'estimateurs n'entraînera pas de risque supplémentaire d'overfitting.\n",
    "En effet, plus le nombre d'estimateur est élevé, plus le biais du modèle final sera équivalent à la moyenne de biais agrégés et la variance diminuera d’autant plus que les estimateurs que l’on agrège seront décorrélés. On aura donc tout intérêt à choisir un nombre d'estimateurs le plus élevé possible, en fonction du temps que l'on souhaite accorder au processus d'entraînement."
   ]
  },
  {
   "cell_type": "code",
   "execution_count": 61,
   "id": "ca69d231",
   "metadata": {},
   "outputs": [],
   "source": [
    "# (a) Import BaggingClassifier depuis sklearn.ensemble.\n",
    "from sklearn.ensemble import BaggingClassifier\n",
    "\n",
    "# Création d'un nouveau classifieur bc, ayant pour paramètres : n_estimators=1000, et oob_score=True pour calculer l'erreur Out Of Bag.\n",
    "bc=BaggingClassifier(n_estimators=1000, oob_score=True)"
   ]
  },
  {
   "cell_type": "code",
   "execution_count": null,
   "id": "e4fa184f",
   "metadata": {},
   "outputs": [],
   "source": [
    "start = time.time()\n",
    "model.fit(data_train, target_train)\n",
    "elapsed_time = time.time() - start"
   ]
  },
  {
   "cell_type": "code",
   "execution_count": null,
   "id": "d3cd2312",
   "metadata": {},
   "outputs": [],
   "source": [
    "# To predict the targets given a test set\n",
    "predicted_target = model.predict(data_test)\n",
    "predicted_target[:5]"
   ]
  },
  {
   "cell_type": "code",
   "execution_count": null,
   "id": "dfe1a6f0",
   "metadata": {},
   "outputs": [],
   "source": [
    "# check the score of the full predictive pipeline\n",
    "model_name = model.__class__.__name__\n",
    "score = model.score(data_test, target_test)\n",
    "print(f\"The accuracy using a {model_name} is {score:.3f} \"\n",
    "      f\"with a fitting time of {elapsed_time:.3f} seconds \"\n",
    "      f\"in {model[-1].n_iter_[0]} iterations\")"
   ]
  },
  {
   "cell_type": "code",
   "execution_count": 90,
   "id": "235b2909",
   "metadata": {},
   "outputs": [],
   "source": [
    "from sklearn.model_selection import cross_val_score"
   ]
  },
  {
   "cell_type": "code",
   "execution_count": 96,
   "id": "971fc60b",
   "metadata": {},
   "outputs": [
    {
     "name": "stdout",
     "output_type": "stream",
     "text": [
      "histgradient boosting classifier: nan ± nan\n"
     ]
    },
    {
     "name": "stderr",
     "output_type": "stream",
     "text": [
      "/opt/anaconda3/lib/python3.9/site-packages/sklearn/model_selection/_validation.py:372: FitFailedWarning: \n",
      "5 fits failed out of a total of 5.\n",
      "The score on these train-test partitions for these parameters will be set to nan.\n",
      "If these failures are not expected, you can try to debug them by setting error_score='raise'.\n",
      "\n",
      "Below are more details about the failures:\n",
      "--------------------------------------------------------------------------------\n",
      "5 fits failed with the following error:\n",
      "Traceback (most recent call last):\n",
      "  File \"/opt/anaconda3/lib/python3.9/site-packages/sklearn/model_selection/_validation.py\", line 680, in _fit_and_score\n",
      "    estimator.fit(X_train, y_train, **fit_params)\n",
      "  File \"/opt/anaconda3/lib/python3.9/site-packages/sklearn/pipeline.py\", line 394, in fit\n",
      "    self._final_estimator.fit(Xt, y, **fit_params_last_step)\n",
      "  File \"/opt/anaconda3/lib/python3.9/site-packages/sklearn/ensemble/_hist_gradient_boosting/gradient_boosting.py\", line 256, in fit\n",
      "    self.is_categorical_, known_categories = self._check_categories(X)\n",
      "  File \"/opt/anaconda3/lib/python3.9/site-packages/sklearn/ensemble/_hist_gradient_boosting/gradient_boosting.py\", line 144, in _check_categories\n",
      "    raise ValueError(\n",
      "ValueError: categorical_features must be an array-like of bools or array-like of ints.\n",
      "\n",
      "  warnings.warn(some_fits_failed_message, FitFailedWarning)\n"
     ]
    }
   ],
   "source": [
    "scores_model = cross_val_score(model, X, y)\n",
    "\n",
    "print(f\"histgradient boosting classifier: \"\n",
    "      f\"{scores_model.mean():.3f} ± {scores_model.std():.3f}\")"
   ]
  }
 ],
 "metadata": {
  "kernelspec": {
   "display_name": "Python 3 (ipykernel)",
   "language": "python",
   "name": "python3"
  },
  "language_info": {
   "codemirror_mode": {
    "name": "ipython",
    "version": 3
   },
   "file_extension": ".py",
   "mimetype": "text/x-python",
   "name": "python",
   "nbconvert_exporter": "python",
   "pygments_lexer": "ipython3",
   "version": "3.9.15"
  }
 },
 "nbformat": 4,
 "nbformat_minor": 5
}
