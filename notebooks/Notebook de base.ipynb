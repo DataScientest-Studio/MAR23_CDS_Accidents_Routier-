{
 "cells": [
  {
   "cell_type": "code",
   "execution_count": null,
   "id": "c9771349",
   "metadata": {},
   "outputs": [],
   "source": [
    "import pandas as pd\n",
    "import numpy as np\n",
    "import matplotlib.pyplot as plt\n",
    "%matplotlib inline\n",
    "import seaborn as sns\n",
    "\n",
    "from sklearn.preprocessing import OneHotEncoder, LabelEncoder\n",
    "\n",
    "from sklearn.model_selection import train_test_split\n",
    "from sklearn.metrics import classification_report, f1_score\n",
    "from sklearn.ensemble import RandomForestClassifier"
   ]
  },
  {
   "cell_type": "code",
   "execution_count": null,
   "id": "9f44a5f4",
   "metadata": {},
   "outputs": [],
   "source": [
    "df = pd.read_csv(r\"C:\\Users\\maill\\Documents\\GitHub\\SARA\\data\\fusion3.csv\", low_memory=False)\n",
    "df['date'] = pd.to_datetime(df['date'])\n",
    "df['month'] = df['date'].dt.month\n",
    "df['day'] = df['date'].dt.day\n",
    "df = df.drop(['Unnamed: 0','num_acc','an_nais','an_naiss','age_acc_an','num_veh','senc','occutc','permis','secuDeux','date'], axis=1)\n",
    "df['place'] = df['place'].astype('object')\n",
    "df = df.dropna()"
   ]
  },
  {
   "cell_type": "code",
   "execution_count": null,
   "id": "1d9312db",
   "metadata": {},
   "outputs": [],
   "source": [
    "df.info()"
   ]
  },
  {
   "cell_type": "markdown",
   "id": "5e3dc552",
   "metadata": {},
   "source": [
    "<h1>Encodage des variables</h1>\n",
    "\n",
    "Les variables sont encodées une à une afin de pallier à un déficit de mémoire sur certaines machines."
   ]
  },
  {
   "cell_type": "code",
   "execution_count": null,
   "id": "5cf585aa",
   "metadata": {
    "scrolled": false
   },
   "outputs": [],
   "source": [
    "df = pd.get_dummies(df, columns=['catu'])"
   ]
  },
  {
   "cell_type": "code",
   "execution_count": null,
   "id": "151fd545",
   "metadata": {},
   "outputs": [],
   "source": [
    "le = LabelEncoder()\n",
    "df['sexe'] = le.fit_transform(df['sexe'])"
   ]
  },
  {
   "cell_type": "code",
   "execution_count": null,
   "id": "34a5b705",
   "metadata": {},
   "outputs": [],
   "source": [
    "df = pd.get_dummies(df, columns = ['trajet'])"
   ]
  },
  {
   "cell_type": "code",
   "execution_count": null,
   "id": "f0286d0d",
   "metadata": {},
   "outputs": [],
   "source": [
    "# Seuil pour le regroupement des catégories rares\n",
    "#threshold = 0.02 \n",
    "\n",
    "# Identifier les catégories rares\n",
    "#rare_categories = df['locp'].value_counts(normalize=True)\n",
    "#rare_categories = rare_categories[rare_categories < threshold].index\n",
    "\n",
    "# Remplacer les catégories rares par 'Autre'\n",
    "#df['locp'] = df['locp'].replace(rare_categories, 'Autre')\n",
    "\n",
    "# One-Hot Encoding\n",
    "df = pd.get_dummies(df, columns=['locp'])\n",
    "\n"
   ]
  },
  {
   "cell_type": "code",
   "execution_count": null,
   "id": "a5684540",
   "metadata": {},
   "outputs": [],
   "source": [
    "# Seuil pour le regroupement des catégories rares\n",
    "#threshold = 0.02 \n",
    "\n",
    "# Identifier les catégories rares\n",
    "#rare_categories = df['actp'].value_counts(normalize=True)\n",
    "#rare_categories = rare_categories[rare_categories < threshold].index\n",
    "\n",
    "# Remplacer les catégories rares par 'Autre'\n",
    "#df['actp'] = df['actp'].replace(rare_categories, 'Autre')\n",
    "\n",
    "# One-Hot Encoding\n",
    "df = pd.get_dummies(df, columns=['actp'])"
   ]
  },
  {
   "cell_type": "code",
   "execution_count": null,
   "id": "2b0dcdb4",
   "metadata": {},
   "outputs": [],
   "source": [
    "df = pd.get_dummies(df, columns = ['etatp'])"
   ]
  },
  {
   "cell_type": "code",
   "execution_count": null,
   "id": "9e678a7c",
   "metadata": {},
   "outputs": [],
   "source": [
    "# Seuil pour le regroupement des catégories rares\n",
    "#threshold = 0.01\n",
    "\n",
    "# Identifier les catégories rares\n",
    "#rare_categories = df['secuUn'].value_counts(normalize=True)\n",
    "#rare_categories = rare_categories[rare_categories < threshold].index\n",
    "\n",
    "# Remplacer les catégories rares par 'Autre'\n",
    "#df['secuUn'] = df['secuUn'].replace(rare_categories, 'Autre')\n",
    "\n",
    "# One-Hot Encoding\n",
    "df = pd.get_dummies(df, columns=['secuUn'])"
   ]
  },
  {
   "cell_type": "code",
   "execution_count": null,
   "id": "d84302b0",
   "metadata": {},
   "outputs": [],
   "source": [
    "df = pd.get_dummies(df, columns = ['tranches_ages'])"
   ]
  },
  {
   "cell_type": "code",
   "execution_count": null,
   "id": "9f862530",
   "metadata": {},
   "outputs": [],
   "source": [
    "# Seuil pour le regroupement des catégories rares\n",
    "#threshold = 0.01\n",
    "\n",
    "# Identifier les catégories rares\n",
    "#rare_categories = df['catr'].value_counts(normalize=True)\n",
    "#rare_categories = rare_categories[rare_categories < threshold].index\n",
    "\n",
    "# Remplacer les catégories rares par 'Autre'\n",
    "#df['catr'] = df['catr'].replace(rare_categories, 'Autre')\n",
    "\n",
    "# One-Hot Encoding\n",
    "df = pd.get_dummies(df, columns=['catr'])"
   ]
  },
  {
   "cell_type": "code",
   "execution_count": null,
   "id": "a91128e6",
   "metadata": {},
   "outputs": [],
   "source": [
    "# Seuil pour le regroupement des catégories rares\n",
    "#threshold = 0.01\n",
    "\n",
    "# Identifier les catégories rares\n",
    "#rare_categories = df['circ'].value_counts(normalize=True)\n",
    "#rare_categories = rare_categories[rare_categories < threshold].index\n",
    "\n",
    "# Remplacer les catégories rares par 'Autre'\n",
    "#df['circ'] = df['circ'].replace(rare_categories, 'Autre')\n",
    "\n",
    "# One-Hot Encoding\n",
    "df = pd.get_dummies(df, columns=['circ'])"
   ]
  },
  {
   "cell_type": "code",
   "execution_count": null,
   "id": "b44dfafe",
   "metadata": {},
   "outputs": [],
   "source": [
    "# Binary Encoding\n",
    "df['vosp'] = df['vosp'].apply(lambda x: 0 if x == 'Sans objet(0)' else 1)"
   ]
  },
  {
   "cell_type": "code",
   "execution_count": null,
   "id": "20049a45",
   "metadata": {},
   "outputs": [],
   "source": [
    "# Seuil pour le regroupement des catégories rares\n",
    "#threshold = 0.05\n",
    "\n",
    "# Identifier les catégories rares\n",
    "#rare_categories = df['prof'].value_counts(normalize=True)\n",
    "#rare_categories = rare_categories[rare_categories < threshold].index\n",
    "\n",
    "# Remplacer les catégories rares par 'Autre'\n",
    "#df['prof'] = df['prof'].replace(rare_categories, 'Autre')\n",
    "\n",
    "# One-Hot Encoding\n",
    "df = pd.get_dummies(df, columns=['prof'])"
   ]
  },
  {
   "cell_type": "code",
   "execution_count": null,
   "id": "8df71d73",
   "metadata": {},
   "outputs": [],
   "source": [
    "# Seuil pour le regroupement des catégories rares\n",
    "#threshold = 0.05\n",
    "\n",
    "# Identifier les catégories rares\n",
    "#rare_categories = df['plan'].value_counts(normalize=True)\n",
    "#rare_categories = rare_categories[rare_categories < threshold].index\n",
    "\n",
    "# Remplacer les catégories rares par 'Autre'\n",
    "#df['plan'] = df['plan'].replace(rare_categories, 'Autre')\n",
    "\n",
    "# One-Hot Encoding\n",
    "df = pd.get_dummies(df, columns=['plan'])"
   ]
  },
  {
   "cell_type": "code",
   "execution_count": null,
   "id": "7d2120bc",
   "metadata": {},
   "outputs": [],
   "source": [
    "# Seuil pour le regroupement des catégories rares\n",
    "#threshold = 0.02\n",
    "\n",
    "# Identifier les catégories rares\n",
    "#rare_categories = df['surf'].value_counts(normalize=True)\n",
    "#rare_categories = rare_categories[rare_categories < threshold].index\n",
    "\n",
    "# Remplacer les catégories rares par 'Autre'\n",
    "#df['surf'] = df['surf'].replace(rare_categories, 'Autre')\n",
    "\n",
    "# One-Hot Encoding\n",
    "df = pd.get_dummies(df, columns=['surf'])"
   ]
  },
  {
   "cell_type": "code",
   "execution_count": null,
   "id": "99e9fdba",
   "metadata": {},
   "outputs": [],
   "source": [
    "# Seuil pour le regroupement des catégories rares\n",
    "#threshold = 0.02\n",
    "\n",
    "# Identifier les catégories rares\n",
    "#rare_categories = df['infra'].value_counts(normalize=True)\n",
    "#rare_categories = rare_categories[rare_categories < threshold].index\n",
    "\n",
    "# Remplacer les catégories rares par 'Autre'\n",
    "#df['infra'] = df['infra'].replace(rare_categories, 'Autre')\n",
    "\n",
    "# One-Hot Encoding\n",
    "df = pd.get_dummies(df, columns=['infra'])"
   ]
  },
  {
   "cell_type": "code",
   "execution_count": null,
   "id": "5b0d3b78",
   "metadata": {},
   "outputs": [],
   "source": [
    "# Seuil pour le regroupement des catégories rares\n",
    "#threshold = 0.05\n",
    "\n",
    "# Identifier les catégories rares\n",
    "#rare_categories = df['situ'].value_counts(normalize=True)\n",
    "#rare_categories = rare_categories[rare_categories < threshold].index\n",
    "\n",
    "# Remplacer les catégories rares par 'Autre'\n",
    "#df['situ'] = df['situ'].replace(rare_categories, 'Autre')\n",
    "\n",
    "# One-Hot Encoding\n",
    "df = pd.get_dummies(df, columns=['situ'])"
   ]
  },
  {
   "cell_type": "code",
   "execution_count": null,
   "id": "9a743182",
   "metadata": {},
   "outputs": [],
   "source": [
    "# Seuil pour le regroupement des catégories rares\n",
    "#threshold = 0.02\n",
    "\n",
    "# Identifier les catégories rares\n",
    "#rare_categories = df['obs'].value_counts(normalize=True)\n",
    "#rare_categories = rare_categories[rare_categories < threshold].index\n",
    "\n",
    "# Remplacer les catégories rares par 'Autre'\n",
    "#df['obs'] = df['obs'].replace(rare_categories, 'Autre')\n",
    "\n",
    "# One-Hot Encoding\n",
    "df = pd.get_dummies(df, columns=['obs'])"
   ]
  },
  {
   "cell_type": "code",
   "execution_count": null,
   "id": "d09cc0c8",
   "metadata": {},
   "outputs": [],
   "source": [
    "# Seuil pour le regroupement des catégories rares\n",
    "#threshold = 0.01\n",
    "\n",
    "# Identifier les catégories rares\n",
    "#rare_categories = df['obsm'].value_counts(normalize=True)\n",
    "#rare_categories = rare_categories[rare_categories < threshold].index\n",
    "\n",
    "# Remplacer les catégories rares par 'Autre'\n",
    "#df['obsm'] = df['obsm'].replace(rare_categories, 'Autre')\n",
    "\n",
    "# One-Hot Encoding\n",
    "df = pd.get_dummies(df, columns=['obsm'])"
   ]
  },
  {
   "cell_type": "code",
   "execution_count": null,
   "id": "d3d3ccd0",
   "metadata": {},
   "outputs": [],
   "source": [
    "# Regrouper la catégorie \"Non renseigné\" avec \"Aucun\"\n",
    "df['choc'] = df['choc'].replace('Non renseigné', 'Aucun')\n",
    "\n",
    "# Effectuer le one-hot encoding\n",
    "df = pd.get_dummies(df, columns=['choc'])\n"
   ]
  },
  {
   "cell_type": "code",
   "execution_count": null,
   "id": "bbb36ed0",
   "metadata": {},
   "outputs": [],
   "source": [
    "frequency_encoding = df['manv'].value_counts(normalize=True)\n",
    "df['manv'] = df['manv'].map(frequency_encoding)"
   ]
  },
  {
   "cell_type": "code",
   "execution_count": null,
   "id": "f9e86198",
   "metadata": {},
   "outputs": [],
   "source": [
    "frequency_encoding = df['catv_Label'].value_counts(normalize=True)\n",
    "df['catv_Label'] = df['catv_Label'].map(frequency_encoding)"
   ]
  },
  {
   "cell_type": "code",
   "execution_count": null,
   "id": "3f89c336",
   "metadata": {},
   "outputs": [],
   "source": [
    "frequency_encoding = df['dep'].value_counts(normalize=True)\n",
    "df['dep'] = df['dep'].map(frequency_encoding)"
   ]
  },
  {
   "cell_type": "code",
   "execution_count": null,
   "id": "9de0087a",
   "metadata": {},
   "outputs": [],
   "source": [
    "frequency_encoding = df['com'].value_counts(normalize=True)\n",
    "df['com'] = df['com'].map(frequency_encoding)"
   ]
  },
  {
   "cell_type": "code",
   "execution_count": null,
   "id": "2e260c95",
   "metadata": {},
   "outputs": [],
   "source": [
    "df = pd.get_dummies(df, columns = ['lum'])"
   ]
  },
  {
   "cell_type": "code",
   "execution_count": null,
   "id": "1d2d0a71",
   "metadata": {},
   "outputs": [],
   "source": [
    "df['agg'] = df['agg'].replace({'En agglomération': 1, 'Hors agglomération': 0})"
   ]
  },
  {
   "cell_type": "code",
   "execution_count": null,
   "id": "211f7cd2",
   "metadata": {},
   "outputs": [],
   "source": [
    "df = pd.get_dummies(df, columns = ['int'])"
   ]
  },
  {
   "cell_type": "code",
   "execution_count": null,
   "id": "c8c9a7d2",
   "metadata": {},
   "outputs": [],
   "source": [
    "df = pd.get_dummies(df, columns = ['atm'])"
   ]
  },
  {
   "cell_type": "code",
   "execution_count": null,
   "id": "9b6821a3",
   "metadata": {},
   "outputs": [],
   "source": [
    "df = pd.get_dummies(df, columns = ['col'])"
   ]
  },
  {
   "cell_type": "code",
   "execution_count": null,
   "id": "62fc8c5a",
   "metadata": {},
   "outputs": [],
   "source": [
    "df = pd.get_dummies(df, columns = ['jour_de_la_semaine'])"
   ]
  },
  {
   "cell_type": "code",
   "execution_count": null,
   "id": "c500cad3",
   "metadata": {},
   "outputs": [],
   "source": [
    "df.shape"
   ]
  },
  {
   "cell_type": "code",
   "execution_count": null,
   "id": "48037418",
   "metadata": {},
   "outputs": [],
   "source": [
    "df.columns"
   ]
  },
  {
   "cell_type": "markdown",
   "id": "49ddade2",
   "metadata": {},
   "source": [
    "<h1>Rééquilibrage de classe</h1>"
   ]
  },
  {
   "cell_type": "code",
   "execution_count": null,
   "id": "54347820",
   "metadata": {},
   "outputs": [],
   "source": []
  },
  {
   "cell_type": "markdown",
   "id": "a5daa1b2",
   "metadata": {},
   "source": [
    "<h1>Réduction de dimension</h1>"
   ]
  },
  {
   "cell_type": "code",
   "execution_count": null,
   "id": "e801ca54",
   "metadata": {},
   "outputs": [],
   "source": []
  },
  {
   "cell_type": "markdown",
   "id": "1b86a35b",
   "metadata": {},
   "source": [
    "<h1>Entrainement du modèle</h1>"
   ]
  },
  {
   "cell_type": "code",
   "execution_count": null,
   "id": "fd1c20d5",
   "metadata": {},
   "outputs": [],
   "source": [
    "X = df.drop('grav',axis=1)\n",
    "y = df['grav']\n",
    "X_train, X_test, y_train, y_test = train_test_split(X, y, test_size=0.2, random_state=42)"
   ]
  },
  {
   "cell_type": "code",
   "execution_count": null,
   "id": "481d6910",
   "metadata": {},
   "outputs": [],
   "source": [
    "#Utilisation des poids de classe pour l'entrainement du modèle RandomForest\n",
    "# Calculer la fréquence des classes\n",
    "class_counts = y_train.value_counts()\n",
    "class_freq = class_counts / len(y_train)\n",
    "\n",
    "# Inverser la fréquence pour obtenir les poids\n",
    "class_weights = 1 / class_freq\n",
    "\n",
    "# Créer un dictionnaire des poids\n",
    "weights_dict = class_weights.to_dict()\n",
    "print(weights_dict)"
   ]
  },
  {
   "cell_type": "code",
   "execution_count": null,
   "id": "53eb8c6e",
   "metadata": {},
   "outputs": [],
   "source": [
    "# Entrainement du modèle\n",
    "from time import time\n",
    "\n",
    "t0 = time()\n",
    "model = RandomForestClassifier(class_weight=weights_dict, n_jobs= -1, random_state=42)\n",
    "\n",
    "model.fit(X_train, y_train)\n",
    "t1 = time() - t0\n",
    "print(\"Réalisé en {} secondes\".format(round(t1,3)))"
   ]
  },
  {
   "cell_type": "markdown",
   "id": "4089079d",
   "metadata": {},
   "source": [
    "<h1>Calcul des métriques d'évaluation</h1>"
   ]
  },
  {
   "cell_type": "code",
   "execution_count": null,
   "id": "ee410510",
   "metadata": {},
   "outputs": [],
   "source": [
    "model.score(X_test, y_test)"
   ]
  },
  {
   "cell_type": "code",
   "execution_count": null,
   "id": "1822569f",
   "metadata": {},
   "outputs": [],
   "source": [
    "model.score(X_train, y_train)"
   ]
  },
  {
   "cell_type": "code",
   "execution_count": null,
   "id": "0dd481c4",
   "metadata": {},
   "outputs": [],
   "source": [
    "t0 = time()\n",
    "y_pred = model.predict(X_test)\n",
    "t1 = time() - t0\n",
    "print(\"Réalisé en {} secondes\".format(round(t1,3)))\n",
    "\n",
    "print(pd.crosstab(y_test, y_pred, rownames=['Classe réelle'], colnames=['Classe prédite']))\n",
    "print(classification_report(y_test, y_pred))"
   ]
  },
  {
   "cell_type": "code",
   "execution_count": null,
   "id": "2d6881dc",
   "metadata": {},
   "outputs": [],
   "source": [
    "from imblearn.metrics import geometric_mean_score\n",
    "\n",
    "geometric_mean_score(y_test, y_pred)"
   ]
  },
  {
   "cell_type": "code",
   "execution_count": null,
   "id": "a1b34378",
   "metadata": {},
   "outputs": [],
   "source": [
    "from sklearn.metrics import balanced_accuracy_score\n",
    "\n",
    "balanced_accuracy_score(y_test, y_pred)"
   ]
  },
  {
   "cell_type": "code",
   "execution_count": null,
   "id": "c1458c9a",
   "metadata": {},
   "outputs": [],
   "source": [
    "from sklearn.model_selection import StratifiedKFold, cross_val_score\n",
    "\n",
    "cv = StratifiedKFold(n_splits=5, shuffle=True, random_state=42)\n",
    "\n",
    "score = cross_val_score(model, X, y, cv=cv, scoring='roc_auc_ovo', verbose=2, n_jobs = -1)\n",
    "\n",
    "print(f\"scores ROC AUC OvO pour chaque pli: {score}\")\n",
    "print(f\"Moyenne des scores ROC AUC OvO : {score.mean()}\")"
   ]
  }
 ],
 "metadata": {
  "kernelspec": {
   "display_name": "Python 3 (ipykernel)",
   "language": "python",
   "name": "python3"
  },
  "language_info": {
   "codemirror_mode": {
    "name": "ipython",
    "version": 3
   },
   "file_extension": ".py",
   "mimetype": "text/x-python",
   "name": "python",
   "nbconvert_exporter": "python",
   "pygments_lexer": "ipython3",
   "version": "3.9.13"
  }
 },
 "nbformat": 4,
 "nbformat_minor": 5
}
