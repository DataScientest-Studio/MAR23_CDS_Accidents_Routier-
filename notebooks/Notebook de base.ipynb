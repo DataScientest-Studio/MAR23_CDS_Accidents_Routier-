{
 "cells": [
  {
   "cell_type": "code",
   "execution_count": 1,
   "id": "c9771349",
   "metadata": {},
   "outputs": [],
   "source": [
    "import pandas as pd\n",
    "import numpy as np\n",
    "import matplotlib.pyplot as plt\n",
    "%matplotlib inline\n",
    "import seaborn as sns\n",
    "\n",
    "from sklearn.pipeline import make_pipeline\n",
    "from sklearn.compose import make_column_transformer, make_column_selector\n",
    "\n",
    "from imblearn.pipeline import Pipeline as ImbPipeline\n",
    "\n",
    "from sklearn.preprocessing import OneHotEncoder, LabelEncoder\n",
    "\n",
    "from sklearn.model_selection import train_test_split, learning_curve, StratifiedKFold\n",
    "from sklearn.metrics import classification_report, f1_score, precision_recall_curve, confusion_matrix\n",
    "from sklearn.metrics import balanced_accuracy_score\n",
    "from imblearn.metrics import geometric_mean_score\n",
    "from sklearn.ensemble import RandomForestClassifier\n",
    "from imblearn.under_sampling import RandomUnderSampler\n",
    "\n",
    "from sklearn.feature_selection import SelectKBest, VarianceThreshold, chi2\n",
    "\n",
    "from sklearn.kernel_approximation import RBFSampler\n",
    "from sklearn.linear_model import SGDClassifier"
   ]
  },
  {
   "cell_type": "code",
   "execution_count": 2,
   "id": "9f44a5f4",
   "metadata": {},
   "outputs": [],
   "source": [
    "acc_dtypes = {\n",
    "    \"place\":\"category\",\n",
    "    \"catu\":\"category\",\n",
    "    \"grav\":\"category\",\n",
    "    \"sexe\":\"category\",\n",
    "    \"trajet\":\"category\",\n",
    "    \"locp\":\"category\",\n",
    "    \"actp\":\"category\",\n",
    "    \"etatp\":\"category\",\n",
    "    \"secuUn\":\"category\",\n",
    "    \"secuDeux\":\"category\",\n",
    "    \"tranches_ages\":\"category\",\n",
    "    \"catr\":\"category\",\n",
    "    \"circ\":\"category\",\n",
    "    \"vosp\":\"category\",\n",
    "    \"prof\":\"category\",\n",
    "    \"plan\":\"category\",\n",
    "    \"surf\":\"category\",\n",
    "    \"infra\":\"category\",\n",
    "    \"situ\":\"category\",\n",
    "    \"senc\":\"category\",\n",
    "    \"obs\":\"category\",\n",
    "    \"obsm\":\"category\",\n",
    "    \"choc\":\"category\",\n",
    "    \"manv\":\"category\",\n",
    "    \"catv_Label\":\"category\",\n",
    "    \"lum\":\"category\",\n",
    "    \"agg\":\"category\",\n",
    "    \"int\":\"category\",\n",
    "    \"atm\":\"category\",\n",
    "    \"col\":\"category\",\n",
    "    \"jour_de_la_semaine\":\"category\",\n",
    "    \"heure\":\"category\",\n",
    "    \"dep\": \"category\"\n",
    "    }\n",
    "df = pd.read_csv(r\"C:\\Users\\maill\\Documents\\GitHub\\SARA\\data\\fusion3.csv\", low_memory=False)\n",
    "df['date'] = pd.to_datetime(df['date'])\n",
    "df['month'] = df['date'].dt.month\n",
    "df['day'] = df['date'].dt.day\n",
    "df = df.drop(['Unnamed: 0','num_acc','an_nais','an_naiss','age_acc_an','num_veh','senc','occutc','permis','secuDeux','date','com'], axis=1)\n",
    "df['place'] = df['place'].astype('object')\n",
    "df['dep'] = df['dep'].replace({'2A':201,'2B':202})\n",
    "df['dep'] = df['dep'].astype('int64')\n",
    "                               \n",
    "df = df.dropna()"
   ]
  },
  {
   "cell_type": "code",
   "execution_count": 3,
   "id": "69c070cc",
   "metadata": {},
   "outputs": [
    {
     "name": "stdout",
     "output_type": "stream",
     "text": [
      "<class 'pandas.core.frame.DataFrame'>\n",
      "Int64Index: 2291745 entries, 0 to 2291796\n",
      "Data columns (total 34 columns):\n",
      " #   Column              Dtype  \n",
      "---  ------              -----  \n",
      " 0   place               object \n",
      " 1   catu                object \n",
      " 2   grav                object \n",
      " 3   sexe                object \n",
      " 4   trajet              object \n",
      " 5   locp                object \n",
      " 6   actp                object \n",
      " 7   etatp               object \n",
      " 8   secuUn              object \n",
      " 9   tranches_ages       object \n",
      " 10  catr                object \n",
      " 11  circ                object \n",
      " 12  nbv                 float64\n",
      " 13  vosp                object \n",
      " 14  prof                object \n",
      " 15  plan                object \n",
      " 16  surf                object \n",
      " 17  infra               object \n",
      " 18  situ                object \n",
      " 19  obs                 object \n",
      " 20  obsm                object \n",
      " 21  choc                object \n",
      " 22  manv                object \n",
      " 23  catv_Label          object \n",
      " 24  lum                 object \n",
      " 25  agg                 object \n",
      " 26  int                 object \n",
      " 27  atm                 object \n",
      " 28  col                 object \n",
      " 29  dep                 int64  \n",
      " 30  jour_de_la_semaine  object \n",
      " 31  heure               int64  \n",
      " 32  month               int64  \n",
      " 33  day                 int64  \n",
      "dtypes: float64(1), int64(4), object(29)\n",
      "memory usage: 612.0+ MB\n"
     ]
    }
   ],
   "source": [
    "df.info()"
   ]
  },
  {
   "cell_type": "code",
   "execution_count": 4,
   "id": "a25be871",
   "metadata": {},
   "outputs": [],
   "source": [
    "X = df.drop('grav',axis=1)\n",
    "y = df['grav']\n",
    "X, _, y, _ = train_test_split(X, y, stratify=y, test_size=0.5)  # 50% des données\n",
    "X_train, X_test, y_train, y_test = train_test_split(X, y, test_size=0.2, random_state=42)"
   ]
  },
  {
   "cell_type": "code",
   "execution_count": 9,
   "id": "d6c3ca01",
   "metadata": {},
   "outputs": [],
   "source": [
    "categorical_variable = make_column_selector(dtype_exclude=np.number)\n",
    "encoder = make_column_transformer((OneHotEncoder(), categorical_variable))\n",
    "\n",
    "model = ImbPipeline(steps=[\n",
    "    ('transformer', encoder),\n",
    "    ('undersampling', RandomUnderSampler(random_state=42)),\n",
    "    ('sel_feat', VarianceThreshold(threshold = 0.000001)),\n",
    "    ('sel_feat2', SelectKBest(score_func=chi2, k=50)),\n",
    "    ('classifier', RandomForestClassifier(random_state=42,verbose=2))], verbose=True)"
   ]
  },
  {
   "cell_type": "markdown",
   "id": "e74eaabc",
   "metadata": {},
   "source": [
    "# Evaluation"
   ]
  },
  {
   "cell_type": "code",
   "execution_count": 6,
   "id": "16312a7d",
   "metadata": {},
   "outputs": [],
   "source": [
    "def evaluation(model):\n",
    "    model.fit(X_train, y_train)\n",
    "    y_pred = model.predict(X_test)\n",
    "    print(pd.crosstab(y_test, y_pred, rownames=['Classe réelle'], colnames=['Classe prédite']))\n",
    "    print(classification_report(y_test, y_pred))\n",
    "    print(balanced_accuracy_score(y_test, y_pred))\n",
    "    print(geometric_mean_score(y_test, y_pred))"
   ]
  },
  {
   "cell_type": "code",
   "execution_count": 7,
   "id": "a798f120",
   "metadata": {},
   "outputs": [
    {
     "name": "stderr",
     "output_type": "stream",
     "text": [
      "C:\\Users\\maill\\anaconda3\\lib\\site-packages\\imblearn\\utils\\_param_validation.py:522: FutureWarning: Passing an int for a boolean parameter is deprecated in version 1.2 and won't be supported anymore in version 1.4.\n",
      "  warnings.warn(\n"
     ]
    },
    {
     "name": "stdout",
     "output_type": "stream",
     "text": [
      "[Pipeline] ....... (step 1 of 5) Processing transformer, total=  14.0s\n",
      "[Pipeline] ..... (step 2 of 5) Processing undersampling, total=   5.9s\n",
      "[Pipeline] .......... (step 3 of 5) Processing sel_feat, total=   0.1s\n",
      "[Pipeline] ......... (step 4 of 5) Processing sel_feat2, total=   0.8s\n"
     ]
    },
    {
     "name": "stderr",
     "output_type": "stream",
     "text": [
      "[Parallel(n_jobs=1)]: Using backend SequentialBackend with 1 concurrent workers.\n"
     ]
    },
    {
     "name": "stdout",
     "output_type": "stream",
     "text": [
      "building tree 1 of 100\n"
     ]
    },
    {
     "name": "stderr",
     "output_type": "stream",
     "text": [
      "[Parallel(n_jobs=1)]: Done   1 out of   1 | elapsed:    7.2s remaining:    0.0s\n"
     ]
    },
    {
     "name": "stdout",
     "output_type": "stream",
     "text": [
      "building tree 2 of 100\n",
      "building tree 3 of 100\n",
      "building tree 4 of 100\n",
      "building tree 5 of 100\n",
      "building tree 6 of 100\n",
      "building tree 7 of 100\n",
      "building tree 8 of 100\n",
      "building tree 9 of 100\n",
      "building tree 10 of 100\n",
      "building tree 11 of 100\n",
      "building tree 12 of 100\n",
      "building tree 13 of 100\n",
      "building tree 14 of 100\n",
      "building tree 15 of 100\n",
      "building tree 16 of 100\n",
      "building tree 17 of 100\n",
      "building tree 18 of 100\n",
      "building tree 19 of 100\n",
      "building tree 20 of 100\n",
      "building tree 21 of 100\n",
      "building tree 22 of 100\n",
      "building tree 23 of 100\n",
      "building tree 24 of 100\n",
      "building tree 25 of 100\n",
      "building tree 26 of 100\n",
      "building tree 27 of 100\n",
      "building tree 28 of 100\n",
      "building tree 29 of 100\n",
      "building tree 30 of 100\n",
      "building tree 31 of 100\n",
      "building tree 32 of 100\n",
      "building tree 33 of 100\n",
      "building tree 34 of 100\n",
      "building tree 35 of 100\n",
      "building tree 36 of 100\n",
      "building tree 37 of 100\n",
      "building tree 38 of 100\n",
      "building tree 39 of 100\n",
      "building tree 40 of 100\n",
      "building tree 41 of 100\n",
      "building tree 42 of 100\n",
      "building tree 43 of 100\n",
      "building tree 44 of 100\n",
      "building tree 45 of 100\n",
      "building tree 46 of 100\n",
      "building tree 47 of 100\n",
      "building tree 48 of 100\n",
      "building tree 49 of 100\n",
      "building tree 50 of 100\n",
      "building tree 51 of 100\n",
      "building tree 52 of 100\n",
      "building tree 53 of 100\n",
      "building tree 54 of 100\n",
      "building tree 55 of 100\n",
      "building tree 56 of 100\n",
      "building tree 57 of 100\n",
      "building tree 58 of 100\n",
      "building tree 59 of 100\n",
      "building tree 60 of 100\n",
      "building tree 61 of 100\n",
      "building tree 62 of 100\n",
      "building tree 63 of 100\n",
      "building tree 64 of 100\n",
      "building tree 65 of 100\n",
      "building tree 66 of 100\n",
      "building tree 67 of 100\n",
      "building tree 68 of 100\n",
      "building tree 69 of 100\n",
      "building tree 70 of 100\n",
      "building tree 71 of 100\n",
      "building tree 72 of 100\n",
      "building tree 73 of 100\n",
      "building tree 74 of 100\n",
      "building tree 75 of 100\n",
      "building tree 76 of 100\n",
      "building tree 77 of 100\n",
      "building tree 78 of 100\n",
      "building tree 79 of 100\n",
      "building tree 80 of 100\n",
      "building tree 81 of 100\n",
      "building tree 82 of 100\n",
      "building tree 83 of 100\n",
      "building tree 84 of 100\n",
      "building tree 85 of 100\n",
      "building tree 86 of 100\n",
      "building tree 87 of 100\n",
      "building tree 88 of 100\n",
      "building tree 89 of 100\n",
      "building tree 90 of 100\n",
      "building tree 91 of 100\n",
      "building tree 92 of 100\n",
      "building tree 93 of 100\n",
      "building tree 94 of 100\n",
      "building tree 95 of 100\n",
      "building tree 96 of 100\n",
      "building tree 97 of 100\n",
      "building tree 98 of 100\n",
      "building tree 99 of 100\n",
      "building tree 100 of 100\n"
     ]
    },
    {
     "name": "stderr",
     "output_type": "stream",
     "text": [
      "[Parallel(n_jobs=1)]: Done 100 out of 100 | elapsed: 13.1min finished\n"
     ]
    },
    {
     "name": "stdout",
     "output_type": "stream",
     "text": [
      "[Pipeline] ........ (step 5 of 5) Processing classifier, total=13.1min\n"
     ]
    },
    {
     "name": "stderr",
     "output_type": "stream",
     "text": [
      "[Parallel(n_jobs=1)]: Using backend SequentialBackend with 1 concurrent workers.\n",
      "[Parallel(n_jobs=1)]: Done   1 out of   1 | elapsed:    0.1s remaining:    0.0s\n",
      "[Parallel(n_jobs=1)]: Done 100 out of 100 | elapsed:   18.4s finished\n"
     ]
    },
    {
     "name": "stdout",
     "output_type": "stream",
     "text": [
      "Classe prédite      Blessé hospitalisé  Blessé léger  Indemne    Tué\n",
      "Classe réelle                                                       \n",
      "Blessé hospitalisé               30594         23082    10326  29941\n",
      "Blessé léger                     37108         72532    35184  19867\n",
      "Indemne                          13720         26881   133063  13889\n",
      "Tué                               2710          1225      897   7330\n",
      "                    precision    recall  f1-score   support\n",
      "\n",
      "Blessé hospitalisé       0.36      0.33      0.34     93943\n",
      "      Blessé léger       0.59      0.44      0.50    164691\n",
      "           Indemne       0.74      0.71      0.73    187553\n",
      "               Tué       0.10      0.60      0.18     12162\n",
      "\n",
      "          accuracy                           0.53    458349\n",
      "         macro avg       0.45      0.52      0.44    458349\n",
      "      weighted avg       0.59      0.53      0.55    458349\n",
      "\n",
      "0.5195609824338936\n",
      "0.49764079323048654\n"
     ]
    }
   ],
   "source": [
    "evaluation(model)"
   ]
  },
  {
   "cell_type": "markdown",
   "id": "97704825",
   "metadata": {},
   "source": [
    "# Optimisation"
   ]
  },
  {
   "cell_type": "code",
   "execution_count": null,
   "id": "0491b92b",
   "metadata": {},
   "outputs": [
    {
     "name": "stdout",
     "output_type": "stream",
     "text": [
      "Fitting 3 folds for each of 3 candidates, totalling 9 fits\n"
     ]
    }
   ],
   "source": [
    "from sklearn.model_selection import RandomizedSearchCV\n",
    "\n",
    "params = {'classifier__n_estimators': np.arange(10, 200),\n",
    "    'classifier__max_depth': np.arange(1, 20),\n",
    "    'classifier__min_samples_split': np.arange(2, 20),\n",
    "    'classifier__min_samples_leaf': np.arange(1, 20),\n",
    "    'sel_feat2__k': np.arange(5,100)\n",
    "}\n",
    "\n",
    "n_iter_search = 3\n",
    "n_folds = StratifiedKFold(n_splits=3, shuffle=True, random_state=42)\n",
    "\n",
    "best_params = {}\n",
    "\n",
    "for i in range(10):\n",
    "    random_search = RandomizedSearchCV(model, param_distributions=params,\n",
    "                                       n_iter=n_iter_search, cv=n_folds, verbose=2, error_score='raise')\n",
    "    \n",
    "    random_search.fit(X_train, y_train)\n",
    "\n",
    "    best_params = random_search.best_params_\n",
    "    \n",
    "    # Afficher les meilleurs paramètres actuels\n",
    "    print(f\"Iteration {i+1}, Best Parameters: {best_params}\")\n",
    "    \n",
    "    # Réduire la fenêtre de recherche en fonction des meilleurs paramètres trouvés\n",
    "    params = {\n",
    "        'classifier__n_estimators': np.arange(max(1,best_params['classifier__n_estimators'] - 10), best_params['classifier__n_estimators'] + 10),\n",
    "        'classifier__max_depth': np.arange(max(1,best_params['classifier__max_depth'] - 2), best_params['classifier__max_depth'] + 2),\n",
    "        'classifier__min_samples_split': np.arange(max(2,best_params['classifier__min_samples_split'] - 2), best_params['classifier__min_samples_split'] + 2),\n",
    "        'classifier__min_samples_leaf': np.arange(max(1, best_params['classifier__min_samples_leaf'] - 2), best_params['classifier__min_samples_leaf'] + 2),\n",
    "        'sel_feat2__k': np.arange(max(1,best_params['sel_feat2__k'] - 2), best_params['sel_feat2__k'] + 2)\n",
    "    }\n",
    "\n",
    "# Afficher les meilleurs paramètres et leur score\n",
    "print(f\"Meilleurs paramètres: {random_search.best_params_}\")\n",
    "print(f\"Meilleur score: {random_search.best_score_}\")"
   ]
  },
  {
   "cell_type": "code",
   "execution_count": null,
   "id": "2af63be0",
   "metadata": {},
   "outputs": [],
   "source": []
  },
  {
   "cell_type": "code",
   "execution_count": null,
   "id": "c3d07bf6",
   "metadata": {},
   "outputs": [],
   "source": []
  },
  {
   "cell_type": "code",
   "execution_count": null,
   "id": "5b5cf041",
   "metadata": {},
   "outputs": [],
   "source": []
  },
  {
   "cell_type": "code",
   "execution_count": null,
   "id": "ad31ff54",
   "metadata": {},
   "outputs": [],
   "source": []
  },
  {
   "cell_type": "markdown",
   "id": "6648ae8d",
   "metadata": {},
   "source": [
    "# Precision Recall Curve"
   ]
  },
  {
   "cell_type": "code",
   "execution_count": null,
   "id": "c0869195",
   "metadata": {},
   "outputs": [],
   "source": [
    "precision, recall, threshold = precision_recall_curve(y_test, grid.best_estimator_.decision_function(X_test))\n",
    "\n",
    "plt.plot(threshold, precision[:-1], label='precision')\n",
    "plt.plot(threshold, recall[:-1], label='recall')\n",
    "plt.legend()"
   ]
  },
  {
   "cell_type": "code",
   "execution_count": null,
   "id": "aebdcc0c",
   "metadata": {},
   "outputs": [],
   "source": [
    "def model_final(model, X, threshold=0):\n",
    "    return model.decision_function(X) > threshold"
   ]
  },
  {
   "cell_type": "code",
   "execution_count": null,
   "id": "969cfcfa",
   "metadata": {},
   "outputs": [],
   "source": [
    "y_pred = model_final(grid.best_estimator_, X_test, threshold=)"
   ]
  },
  {
   "cell_type": "code",
   "execution_count": null,
   "id": "3b7fed78",
   "metadata": {},
   "outputs": [],
   "source": []
  },
  {
   "cell_type": "code",
   "execution_count": null,
   "id": "35105718",
   "metadata": {},
   "outputs": [],
   "source": []
  },
  {
   "cell_type": "code",
   "execution_count": null,
   "id": "f8f8e4fe",
   "metadata": {},
   "outputs": [],
   "source": []
  },
  {
   "cell_type": "code",
   "execution_count": null,
   "id": "c4b80bd8",
   "metadata": {},
   "outputs": [],
   "source": []
  }
 ],
 "metadata": {
  "kernelspec": {
   "display_name": "Python 3 (ipykernel)",
   "language": "python",
   "name": "python3"
  },
  "language_info": {
   "codemirror_mode": {
    "name": "ipython",
    "version": 3
   },
   "file_extension": ".py",
   "mimetype": "text/x-python",
   "name": "python",
   "nbconvert_exporter": "python",
   "pygments_lexer": "ipython3",
   "version": "3.9.18"
  }
 },
 "nbformat": 4,
 "nbformat_minor": 5
}
